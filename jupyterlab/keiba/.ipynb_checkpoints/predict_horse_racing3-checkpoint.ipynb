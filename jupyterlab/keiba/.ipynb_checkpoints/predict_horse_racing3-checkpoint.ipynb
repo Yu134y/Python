{
 "cells": [
  {
   "cell_type": "markdown",
   "metadata": {},
   "source": [
    "### 1．インポート"
   ]
  },
  {
   "cell_type": "code",
   "execution_count": 1,
   "metadata": {},
   "outputs": [],
   "source": [
    "import pandas as pd\n",
    "import numpy as np\n",
    "import matplotlib.pyplot as plt\n",
    "import re\n",
    "import time\n",
    "import datetime\n",
    "import requests\n",
    "from tqdm import tqdm\n",
    "from bs4 import BeautifulSoup\n",
    "from sklearn.metrics import roc_auc_score\n",
    "from sklearn.preprocessing import LabelEncoder\n",
    "import lightgbm as lgb\n",
    "from urllib.request import urlopen\n",
    "import optuna.integration.lightgbm as lgb_o\n",
    "from scipy.special import comb"
   ]
  },
  {
   "cell_type": "markdown",
   "metadata": {},
   "source": [
    "### 1.1　クラス"
   ]
  },
  {
   "cell_type": "code",
   "execution_count": 2,
   "metadata": {},
   "outputs": [],
   "source": [
    "# 訓練データと出馬表データを加工する抽象クラス\n",
    "class DataProcessor:\n",
    "    def __init__(self):\n",
    "        self.data = pd.DataFrame()\n",
    "        # preprocessing後の変数\n",
    "        self.data_p = pd.DataFrame()\n",
    "        # horse_resultsをmergeした後の変数\n",
    "        self.data_h = pd.DataFrame()\n",
    "        # pedsをmergeした後の変数\n",
    "        self.data_pe = pd.DataFrame()\n",
    "        # カテゴリ変数化した後の変数\n",
    "        self.data_c = pd.DataFrame()\n",
    "        \n",
    "    # 馬の過去成績データの追加\n",
    "    def merge_horse_results(self, hr, n_samples_list=[5, 9, 'all']):\n",
    "        self.data_h = self.data_p.copy()\n",
    "        for n_samples in n_samples_list:\n",
    "            self.data_h = hr.merge_all(self.data_h, n_samples=n_samples)\n",
    "            \n",
    "    # 血統データ追加\n",
    "    def merge_peds(self, peds):\n",
    "        self.data_pe = self.data_h.merge(peds, left_on='horse_id', right_index=True, how='left')\n",
    "        self.no_peds = self.data_pe[self.data_pe['peds_0'].isnull()]['horse_id'].unique()\n",
    "        if len(self.no_peds):\n",
    "            print('scrape peds at horse_id_list \"no_peds\"')\n",
    "    \n",
    "    # カテゴリ変数の処理\n",
    "    def process_categorical(self, le_horse, le_jockey, results_m):\n",
    "        df = self.data_pe.copy()\n",
    "        \n",
    "        # ラベルエンコーディング(horse_id, jockey_idを0始まりの整数に変換)\n",
    "        # horse_id\n",
    "        mask_horse = df['horse_id'].isin(le_horse.classes_)\n",
    "        new_horse_id = df['horse_id'].mask(mask_horse).dropna().unique()\n",
    "        le_horse.classes_ = np.concatenate([le_horse.classes_, new_horse_id])\n",
    "        df['horse_id'] = le_horse.transform(df['horse_id'])\n",
    "        \n",
    "        # jockey_id\n",
    "        mask_jockey = df['jockey_id'].isin(le_jockey.classes_)\n",
    "        new_jockey_id = df['jockey_id'].mask(mask_jockey).dropna().unique()\n",
    "        le_jockey.classes_ = np.concatenate([le_jockey.classes_, new_jockey_id])\n",
    "        df['jockey_id'] = le_jockey.transform(df['jockey_id'])\n",
    "        \n",
    "        # horse_id, jockey_idをcategory型に変換\n",
    "        df['horse_id'] = df['horse_id'].astype('category')\n",
    "        df['jockey_id'] = df['jockey_id'].astype('category')\n",
    "        \n",
    "        # そのほかのカテゴリ変数をcategory型に変換してからダミー変数化\n",
    "        weathers = results_m['weather'].unique()\n",
    "        race_types = results_m['race_type'].unique()\n",
    "        ground_states = results_m['ground_state'].unique()\n",
    "        sexes = results_m['性'].unique()\n",
    "        df['weather'] = pd.Categorical(df['weather'], weathers)\n",
    "        df['race_type'] = pd.Categorical(df['race_type'], race_types)\n",
    "        df['ground_state'] = pd.Categorical(df['ground_state'], ground_states)\n",
    "        df['性'] = pd.Categorical(df['性'], sexes)\n",
    "        \n",
    "        df = pd.get_dummies(df, columns=['weather', 'race_type', 'ground_state', '性'])  \n",
    "        self.data_c = df\n",
    "\n",
    "# 予測に使う出馬表データを加工するクラス\n",
    "class ShutubaTable(DataProcessor):\n",
    "    def __init__(self, shutuba_tables):\n",
    "        super(ShutubaTable, self).__init__()\n",
    "        self.data = shutuba_tables\n",
    "    \n",
    "    @classmethod\n",
    "    def scrape(cls, race_id_list, date):\n",
    "        data = pd.DataFrame()\n",
    "        for race_id in tqdm(race_id_list):\n",
    "            url = f'https://race.netkeiba.com/race/shutuba.html?race_id={race_id}'\n",
    "            df = pd.read_html(url)[0]\n",
    "            df = df.T.reset_index(level=0, drop=True).T\n",
    "\n",
    "            html = requests.get(url)\n",
    "            html.encoding = 'EUC-JP'\n",
    "            soup = BeautifulSoup(html.text, 'html.parser')\n",
    "\n",
    "            # race_data\n",
    "            texts = soup.find('div', attrs={'class': 'RaceData01'}).text\n",
    "            texts = re.findall(r'\\w+', texts)\n",
    "            for text in texts:\n",
    "                if 'm' in text:\n",
    "                    df['course_len'] = [int(re.findall(r'\\d+', text)[0])] * len(df)\n",
    "                if text in ['曇', '晴', '雨', '小雨', '小雪', '雪']:\n",
    "                    df['weather'] = [text] * len(df)\n",
    "                if text in ['良', '稍重', '重']:\n",
    "                    df['ground_state'] = [text] * len(df)\n",
    "                if '不' in text:\n",
    "                    df['ground_state'] = ['不良'] * len(df)\n",
    "                if '芝' in text:\n",
    "                    df['race_type'] = ['芝'] * len(df)\n",
    "                if '障' in text:\n",
    "                    df['race_type'] = ['障害'] * len(df)\n",
    "                if 'ダ' in text:\n",
    "                    df['race_type'] = ['ダート'] * len(df)\n",
    "            df['date'] = [date] * len(df)\n",
    "\n",
    "            # horse_id\n",
    "            horse_id_list = []\n",
    "            horse_td_list = soup.find_all('td', attrs={'class': 'HorseInfo'})\n",
    "            for td in horse_td_list:\n",
    "                horse_id = re.findall(r'\\d+', td.find('a')['href'])[0]\n",
    "                horse_id_list.append(horse_id)\n",
    "            df['horse_id'] = horse_id_list\n",
    "\n",
    "            # jockey_id\n",
    "            jockey_id_list = []\n",
    "            jockey_td_list = soup.find_all('td', attrs={'class': 'Jockey'})\n",
    "            for td in jockey_td_list:\n",
    "                jockey_id = re.findall(r'\\d+', td.find('a')['href'])[0]\n",
    "                jockey_id_list.append(jockey_id)\n",
    "            df['jockey_id'] = jockey_id_list\n",
    "\n",
    "            df.index = [race_id] * len(df)\n",
    "            data = data.append(df)\n",
    "            time.sleep(1)\n",
    "        \n",
    "        return cls(data)\n",
    "    \n",
    "    # 前処理\n",
    "    def preprocessing(self):\n",
    "        df = self.data.copy()\n",
    "        \n",
    "        # 性齢を性と年齢に分ける\n",
    "        df['性'] = df['性齢'].map(lambda x: str(x)[0])\n",
    "        df['年齢'] = df['性齢'].map(lambda x: str(x)[1:]).astype(int)\n",
    "\n",
    "        # 馬体重を体重と体重変化に分ける\n",
    "        df = df[df['馬体重(増減)'] != '--']\n",
    "        df['体重'] = df['馬体重(増減)'].str.split('(', expand=True)[0].astype(int)\n",
    "        df['体重変化'] = df['馬体重(増減)'].str.split('(', expand=True)[1].str[:-1].astype(int)\n",
    "        \n",
    "        # 日付をdatetime型に変更\n",
    "        df['date'] = pd.to_datetime(df['date'])\n",
    "\n",
    "        # データをint, floatに変換\n",
    "        df['枠'] = df['枠'].astype(int)\n",
    "        df['馬番'] = df['馬番'].astype(int)\n",
    "        df['斤量'] = df['斤量'].astype(int)\n",
    "\n",
    "    \n",
    "        # 必要な列だけにする\n",
    "        df = df[['枠', '馬番', '斤量', 'course_len', 'weather', 'race_type', 'ground_state', 'date', 'horse_id', 'jockey_id', '性', '年齢', '体重', '体重変化']]\n",
    "\n",
    "        self.data_p = df.rename(columns={'枠': '枠番'})\n",
    "\n",
    "# 訓練に使う過去レースデータを加工するクラス\n",
    "class Results(DataProcessor):\n",
    "    def __init__(self, results):\n",
    "        super(Results, self).__init__()\n",
    "        self.data = results\n",
    "    \n",
    "    @classmethod\n",
    "    def read_pickle(cls, path_list):\n",
    "        df = pd.read_pickle(path_list[0])\n",
    "        for path in path_list[1:]:\n",
    "            df = update_data(df, pd.read_pickle(path))\n",
    "        return cls(df)\n",
    "    \n",
    "    @staticmethod\n",
    "    def scrape(race_id_list):\n",
    "        # race_idをkeyにしてDataFrame型を格納\n",
    "        race_results = {}\n",
    "        for race_id in tqdm(race_id_list):\n",
    "            time.sleep(1)\n",
    "            try:\n",
    "                url = f'https://db.netkeiba.com/race/{race_id}'\n",
    "                # メインとなるテーブルデータを取得\n",
    "                df = pd.read_html(url)[0]\n",
    "\n",
    "                html = requests.get(url)\n",
    "                html.encoding = 'EUC-JP'\n",
    "                soup = BeautifulSoup(html.text, 'html.parser')\n",
    "\n",
    "                # 天候、レースの種類、コースの長さ、馬場の状態、日付をスクレイピング\n",
    "                texts = (\n",
    "                    soup.find('div', attrs={'class': 'data_intro'}).find_all('p')[0].text\n",
    "                    + soup.find('div', attrs={'class': 'data_intro'}).find_all('p')[1].text\n",
    "                )\n",
    "                info = re.findall(r'\\w+', texts)\n",
    "                for text in info:\n",
    "                    if text in ['芝', 'ダート']:\n",
    "                        df['race_type'] = [text] * len(df)\n",
    "                    if '障' in text:\n",
    "                        df['race_type'] = ['障害'] * len(df)\n",
    "                    if 'm' in text:\n",
    "                        df['course_len'] = [int(re.findall(r'\\d+', text)[0])] * len(df)\n",
    "                    if text in ['良', '稍重', '重', '不良']:\n",
    "                        df['ground_state'] = [text] * len(df)\n",
    "                    if text in ['曇', '晴', '雨', '小雨', '小雪', '雪']:\n",
    "                        df['weather'] = [text] * len(df)\n",
    "                    if '年' in text:\n",
    "                        df['date'] = [text] * len(df)\n",
    "\n",
    "                # 馬ID、騎手IDをスクレイピング\n",
    "                horse_id_list = []\n",
    "                horse_a_list = soup.find('table', attrs={'summary': 'レース結果'}).find_all('a', attrs={'href': re.compile('^/horse')})\n",
    "                for a in horse_a_list:\n",
    "                    horse_id = re.findall(r'\\d+', a['href'])\n",
    "                    horse_id_list.append(horse_id[0])\n",
    "                jockey_id_list = []\n",
    "                jockey_a_list = soup.find(\"table\", attrs={'summary': 'レース結果'}).find_all('a', attrs={'href': re.compile('^/jockey')})\n",
    "                for a in jockey_a_list:\n",
    "                    jockey_id = re.findall(r'\\d+', a['href'])\n",
    "                    jockey_id_list.append(jockey_id[0])\n",
    "                df['horse_id'] = horse_id_list\n",
    "                df['jockey_id'] = jockey_id_list\n",
    "\n",
    "                #インデックスをrace_idにする\n",
    "                df.index = [race_id] * len(df)\n",
    "\n",
    "                race_results[race_id] = df\n",
    "            # 存在しないrace_idを飛ばす\n",
    "            except IndexError:\n",
    "                continue\n",
    "            # wifiの接続が切れた時などでも途中までのデータを返せるようにする\n",
    "            except Exception as e:\n",
    "                print(e)\n",
    "                break\n",
    "            # Jupyterで停止ボタンを押した時の対処\n",
    "            except:\n",
    "                break\n",
    "\n",
    "        # pd.DataFrame型にして一つのデータにまとめる\n",
    "        race_results_df = pd.concat([race_results[key] for key in race_results])\n",
    "\n",
    "        return race_results_df\n",
    "    \n",
    "    # 前処理\n",
    "    def preprocessing(self):\n",
    "        df = self.data.copy()\n",
    "\n",
    "        # 着順に数字以外の文字列が含まれているものを取り除く\n",
    "        df = df[~(df['着順'].astype(str).str.contains('\\D'))]\n",
    "        df['着順'] = df['着順'].astype(int)\n",
    "        df['rank'] = df['着順'].map(lambda x: 1 if x < 4 else 0)\n",
    "\n",
    "        # 性齢を性と年齢に分ける\n",
    "        df['性'] = df['性齢'].map(lambda x: str(x)[0])\n",
    "        df['年齢'] = df['性齢'].map(lambda x: str(x)[1:]).astype(int)\n",
    "\n",
    "        # 馬体重を体重と体重変化に分ける\n",
    "        df['体重'] = df['馬体重'].str.split('(', expand=True)[0].astype(int)\n",
    "        df['体重変化'] = df['馬体重'].str.split('(', expand=True)[1].str[:-1].astype(int)\n",
    "\n",
    "        # データをint, floatに変換\n",
    "        df['単勝'] = df['単勝'].astype(float)\n",
    "        df['course_len'] = df['course_len'].astype(int)\n",
    "\n",
    "        # 不要な列を削除\n",
    "        df.drop(['タイム', '着差', '調教師', '性齢', '馬体重', '馬名', '騎手', '単勝', '人気', '着順'], axis=1, inplace=True)\n",
    "\n",
    "        df['date'] = pd.to_datetime(df['date'], format='%Y年%m月%d日')\n",
    "\n",
    "        self.data_p = df\n",
    "    \n",
    "    # カテゴリ変数の処理\n",
    "    def process_categorical(self):\n",
    "        self.le_horse = LabelEncoder().fit(self.data_pe['horse_id'])\n",
    "        self.le_jockey = LabelEncoder().fit(self.data_pe['jockey_id'])        \n",
    "        super().process_categorical(self.le_horse, self.le_jockey, self.data_pe)\n",
    "\n",
    "# 馬の過去成績データを処理するクラス\n",
    "class HorseResults:\n",
    "    def __init__(self, horse_results):\n",
    "        self.horse_results = horse_results[['日付', '着順', '賞金', '着差', '通過']]\n",
    "        self.preprocessing()\n",
    "    \n",
    "    @classmethod\n",
    "    def read_pickle(cls, path_list):\n",
    "        df = pd.read_pickle(path_list[0])\n",
    "        for path in path_list[1:]:\n",
    "            df = update_data(df, pd.read_pickle(path))\n",
    "        return cls(df)\n",
    "    \n",
    "    @staticmethod\n",
    "    def scrape(horse_id_list):\n",
    "        # horse_idをkeyにしてDataFrame型を格納\n",
    "        horse_results = {}\n",
    "        for horse_id in tqdm(horse_id_list):\n",
    "            try:\n",
    "                time.sleep(1)\n",
    "                url = f'https://db.netkeiba.com/horse/{horse_id}'\n",
    "                # メインとなるテーブルデータを取得\n",
    "                df = pd.read_html(url)[3]\n",
    "                # 受賞歴がある馬の場合、4番目に受賞歴テーブルが来るため、5番目のデータを取得する\n",
    "                if df.columns[0] == '受賞歴':\n",
    "                    df = pd.read_html(url)[4]\n",
    "                horse_results[horse_id] = df\n",
    "            except IndexError:\n",
    "                continue\n",
    "            except Exception as e:\n",
    "                print(e)\n",
    "                break\n",
    "            except:\n",
    "                break\n",
    "        \n",
    "        # pd.DataFrame型にして一つのデータにまとめる\n",
    "        horse_results_df = pd.concat([horse_results[key] for key in horse_results])\n",
    "        \n",
    "        return horse_results_df\n",
    "        \n",
    "    def preprocessing(self):\n",
    "        df = self.horse_results.copy()\n",
    "        \n",
    "        # 着順に数字以外の文字列が含まれているものを取り除く\n",
    "        df['着順'] = pd.to_numeric(df['着順'], errors='coerce')\n",
    "        df.dropna(subset=['着順'], inplace=True)\n",
    "        df['着順'] = df['着順'].astype(int)\n",
    "        \n",
    "        df['date'] = pd.to_datetime(df['日付'])\n",
    "        df.drop(['日付'], axis=1, inplace=True)\n",
    "        \n",
    "        # 賞金の欠損値を0で埋める\n",
    "        df['賞金'].fillna(0, inplace=True)\n",
    "        \n",
    "        # 1着の着差を0にする\n",
    "        df['着差'] = df['着差'].map(lambda x: 0 if x < 0 else x)\n",
    "                                            \n",
    "        # レース展開データ\n",
    "        def corner(x, n):\n",
    "            if type(x) != str:\n",
    "                return x\n",
    "            # n=1: 最初のコーナー位置、n=4: 最終コーナー位置\n",
    "            if n == 1:\n",
    "                return int(re.findall(r'\\d+', x)[0])\n",
    "            if n == 4:\n",
    "                return int(re.findall(r'\\d+', x)[-1])\n",
    "                                            \n",
    "        df['first_corner'] = df['通過'].map(lambda x: corner(x, 1))\n",
    "        df['final_corner'] = df['通過'].map(lambda x: corner(x, 4))\n",
    "        \n",
    "        df['final_to_rank'] = df['final_corner'] - df['着順']\n",
    "        df['first_to_rank'] = df['first_corner'] - df['着順']\n",
    "        df['first_to_final'] = df['first_corner'] - df['final_corner']\n",
    "                            \n",
    "        self.horse_results = df\n",
    "    \n",
    "    def average(self, horse_id_list, date, n_samples='all'):\n",
    "        target_df = self.horse_results.query('index in @horse_id_list')\n",
    "        \n",
    "        # 過去何走分取り出すか指定\n",
    "        if n_samples == 'all':\n",
    "            filtered_df = target_df[target_df['date'] < date]\n",
    "        elif n_samples > 0:\n",
    "            filtered_df = target_df[target_df['date'] < date].sort_values('date', ascending=False).groupby(level=0).head(n_samples)\n",
    "        else:\n",
    "            raise Exception('n_samples must be integer')\n",
    "            \n",
    "        average = filtered_df.groupby(level=0)[['着順', '賞金', '着差', 'first_corner', 'final_corner', 'final_to_rank', 'first_to_rank', 'first_to_final']].mean()\n",
    "        rename_columns = average.rename(columns={'着順': f'着順_{n_samples}R',\n",
    "                                                 '賞金': f'賞金_{n_samples}R',\n",
    "                                                 '着差': f'着差_{n_samples}R',\n",
    "                                                 'first_corner': f'first_corner_{n_samples}R',\n",
    "                                                 'final_corner': f'final_corner_{n_samples}R',\n",
    "                                                 'final_to_rank': f'final_to_rank_{n_samples}R',\n",
    "                                                 'first_to_rank': f'first_to_rank_{n_samples}R',\n",
    "                                                 'first_to_final': f'first_to_final_{n_samples}R'\n",
    "                                                })\n",
    "                                                 \n",
    "        return rename_columns\n",
    "    \n",
    "    def merge(self, results, date, n_samples='all'):\n",
    "        df = results[results['date'] == date]\n",
    "        horse_id_list = df['horse_id']\n",
    "        merged_df = df.merge(self.average(horse_id_list, date, n_samples), left_on='horse_id', right_index=True, how='left')\n",
    "        return merged_df\n",
    "    \n",
    "    def merge_all(self, results, n_samples='all'):\n",
    "        date_list = results['date'].unique()\n",
    "        merged_df = pd.concat([self.merge(results, date, n_samples) for date in date_list])\n",
    "        return merged_df\n",
    "\n",
    "# 血統データを処理するクラス\n",
    "class Peds:\n",
    "    def __init__(self, peds):\n",
    "        self.peds = peds\n",
    "        # LabelEncodingしてcategory型にした変数\n",
    "        self.peds_e = pd.DataFrame()\n",
    "    \n",
    "    @classmethod\n",
    "    def read_pickle(cls, path_list):\n",
    "        df = pd.read_pickle(path_list[0])\n",
    "        for path in path_list[1:]:\n",
    "            df = update_data(df, pd.read_pickle(path))\n",
    "        return cls(df)\n",
    "    \n",
    "    @staticmethod\n",
    "    def scrape(horse_id_list):\n",
    "        # 血統データを取り出す\n",
    "        peds_dict = {}\n",
    "        for horse_id in tqdm(horse_id_list):\n",
    "            try:\n",
    "                url = f'https://db.netkeiba.com/horse/ped/{horse_id}'\n",
    "                df = pd.read_html(url)[0]\n",
    "\n",
    "                # 重複を削除して1列のSeries型データに治す\n",
    "                generations = {}\n",
    "                for i in reversed(range(5)):\n",
    "                    generations[i] = df[i]\n",
    "                    df.drop([i], axis=1, inplace=True)\n",
    "                    df = df.drop_duplicates()\n",
    "\n",
    "                ped = pd.concat([generations[i] for i in range(5)]).rename(horse_id)\n",
    "                peds_dict[horse_id] = ped.reset_index(drop=True)\n",
    "                time.sleep(1)\n",
    "            except IndexError:\n",
    "                continue\n",
    "            except Exception as e:\n",
    "                print(e)\n",
    "                break\n",
    "            except:\n",
    "                break\n",
    "        \n",
    "        # 列名をpeds_0, ..., peds_61にする\n",
    "        peds_df = pd.concat([peds_dict[key] for key in peds_dict], axis=1).T.add_prefix('peds_')\n",
    "        \n",
    "        return peds_df\n",
    "    \n",
    "    def encode(self):\n",
    "        df = self.peds.copy()\n",
    "        for column in df.columns:\n",
    "            df[column] = LabelEncoder().fit_transform(df[column].fillna('Na'))\n",
    "        self.peds_e = df.astype('category')\n",
    "\n",
    "# 払い戻しデータを加工するクラス\n",
    "class Return:\n",
    "    def __init__(self, return_tables):\n",
    "        self.return_tables = return_tables\n",
    "    \n",
    "    @classmethod\n",
    "    def read_pickle(cls, path_list):\n",
    "        df = pd.read_pickle(path_list[0])\n",
    "        for path in path_list[1:]:\n",
    "            df = update_data(df, pd.read_pickle(path))\n",
    "        return cls(df)\n",
    "    \n",
    "    @staticmethod\n",
    "    def scrape(race_id_list):\n",
    "        return_tables = {}\n",
    "        for race_id in tqdm(race_id_list):\n",
    "            try:\n",
    "                url = f'https://db.netkeiba.com/race/{race_id}'\n",
    "\n",
    "                # 複勝やワイドなどが区切られてしまうため、改行コードを文字列に変換して後でsplitする\n",
    "                f = urlopen(url)\n",
    "                html = f.read()\n",
    "                html = html.replace(b'<br />', b'br')            \n",
    "                dfs = pd.read_html(html)\n",
    "\n",
    "                # dfsの2番目に単勝～馬連、3番目にワイド～3連単がある\n",
    "                df = pd.concat([dfs[1], dfs[2]])\n",
    "                \n",
    "                df.index = [race_id] * len(df)\n",
    "                return_tables[race_id] = df\n",
    "                time.sleep(1)\n",
    "            except IndexError:\n",
    "                continue\n",
    "            except Exception as e:\n",
    "                print(e)\n",
    "                break\n",
    "            except:\n",
    "                break\n",
    "        \n",
    "        # pd.DataFrame型にして一つのデータにまとめる\n",
    "        return_tables_df = pd.concat([return_tables[key] for key in return_tables])\n",
    "        \n",
    "        return return_tables_df\n",
    "    \n",
    "    @property\n",
    "    def fukusho(self):\n",
    "        # 複勝の勝ち馬と払い戻しのデータを取り出す\n",
    "        fukusho = self.return_tables[self.return_tables[0] == '複勝'][[1, 2]]\n",
    "        \n",
    "        # 勝ち馬\n",
    "        wins = fukusho[1].str.split('br', expand=True)[[0, 1, 2]]\n",
    "        wins.columns = ['win_0', 'win_1', 'win_2']\n",
    "        \n",
    "        # 払い戻し\n",
    "        returns = fukusho[2].str.split('br', expand=True)[[0, 1, 2]]\n",
    "        returns.columns = ['return_0', 'return_1', 'return_2']\n",
    "        \n",
    "        df = pd.concat([wins, returns], axis=1)\n",
    "        \n",
    "        # int型に変換できないデータがあるので処理\n",
    "        for column in df.columns:\n",
    "            df[column] = df[column].str.replace(',', '')\n",
    "            \n",
    "        df = df.fillna(0).astype(int)\n",
    "        \n",
    "        return df\n",
    "    \n",
    "    @property\n",
    "    def tansho(self):\n",
    "        tansho = self.return_tables[self.return_tables[0] == '単勝'][[1, 2]]\n",
    "        tansho.columns = ['win', 'return']\n",
    "        \n",
    "        for column in tansho.columns:\n",
    "            tansho[column] = pd.to_numeric(tansho[column], errors='coerce')\n",
    "            \n",
    "        return tansho\n",
    "    \n",
    "    @property\n",
    "    def umaren(self):\n",
    "        umaren = self.return_tables[self.return_tables[0] == '馬連'][[1, 2]]\n",
    "        wins = umaren[1].str.split('-', expand=True)[[0, 1]].add_prefix('win_')\n",
    "        return_ = umaren[2].rename('return')\n",
    "        df = pd.concat([wins, return_], axis=1)      \n",
    "        df = df.apply(lambda x: pd.to_numeric(x, errors='coerce'))\n",
    "        \n",
    "        return df\n",
    "\n",
    "# 予測モデルを評価するクラス\n",
    "class ModelEvaluator:\n",
    "    def __init__(self, model, return_tables_path, std=True):\n",
    "        self.model = model\n",
    "        self.rt = Return.read_pickle([return_tables_path])\n",
    "        self.fukusho = self.rt.fukusho\n",
    "        self.tansho = self.rt.tansho\n",
    "        self.umaren = self.rt.umaren\n",
    "        self.std = std\n",
    "        \n",
    "    def predict_proba(self, x):\n",
    "        # 1（3着以内）になる確率を予測\n",
    "        proba = pd.Series(self.model.predict_proba(x)[:, 1], index=x.index)\n",
    "        if self.std:\n",
    "            # 標準化\n",
    "            standard_scaler = lambda x: (x - x.mean()) / x.std()\n",
    "            proba = proba.groupby(level=0).transform(standard_scaler)\n",
    "            # MinMaxスケーリング：データを0から1にする\n",
    "            proba = (proba - proba.min()) / (proba.max() - proba.min())\n",
    "        return proba\n",
    "    \n",
    "    def predict(self, x, threshold=0.5):\n",
    "        # thresholdの値によってpredict_probaで出した値を0か1に決定する\n",
    "        y_pred = self.predict_proba(x)\n",
    "        return [0 if p < threshold else 1 for p in y_pred]\n",
    "    \n",
    "    def score(self, y_true, x):\n",
    "        # スコアを表示\n",
    "        return roc_auc_score(y_true, self.predict_proba(x))\n",
    "    \n",
    "    def feature_importance(self, x, n_display=20):\n",
    "        # 変数の重要度を出力\n",
    "        importances = pd.DataFrame(\n",
    "            {\"features\": x.columns, \"importance\": self.model.feature_importances_}\n",
    "        )\n",
    "        return importances.sort_values('importance', ascending=False)[:n_display]\n",
    "    \n",
    "    def pred_table(self, x, threshold=0.5, bet_only=True):\n",
    "        # 予測したレースIDと馬番を出力する\n",
    "        pred_table = x.copy()[['馬番']]\n",
    "        pred_table['pred'] = self.predict(x, threshold)\n",
    "        \n",
    "        if bet_only:\n",
    "            return pred_table[pred_table['pred'] == 1]['馬番']\n",
    "        \n",
    "        return pred_table\n",
    "    \n",
    "    def fukusho_return(self, x, threshold=0.5):\n",
    "        # 複勝の払い戻しを表示\n",
    "        pred_table = self.pred_table(x, threshold)\n",
    "        n_bets = len(pred_table)\n",
    "        money = -100 * n_bets\n",
    "        df = self.fukusho.copy()\n",
    "        df = df.merge(pred_table, left_index=True, right_index=True, how='right')\n",
    "        for i in range(3):\n",
    "            money += df[df[f'win_{i}'] == df['馬番']][f'return_{i}'].sum()\n",
    "        return_rate = (n_bets * 100 + money) / (n_bets * 100)\n",
    "        return n_bets, return_rate\n",
    "    \n",
    "    def tansho_return(self, x, threshold=0.5):\n",
    "        # 単勝の払い戻しを表示\n",
    "        pred_table = self.pred_table(x, threshold)\n",
    "        n_bets = len(pred_table)\n",
    "        money = -100 * n_bets\n",
    "        df = self.tansho.copy()\n",
    "        df = df.merge(pred_table, left_index=True, right_index=True, how='right')\n",
    "        money += df[df['win'] == df['馬番']]['return'].sum()\n",
    "        return_rate = (n_bets * 100 + money) / (n_bets * 100)\n",
    "        return n_bets, return_rate\n",
    "    \n",
    "    def tansho_return_proper(self, X, threshold=0.5):\n",
    "        pred_table = self.pred_table(X, threshold)\n",
    "        n_bets = len(pred_table)\n",
    "        df = self.tansho.copy()\n",
    "        df = df.merge(pred_table, left_index=True, right_index=True, how='right')\n",
    "        \n",
    "        # 単勝適性回収値を計算\n",
    "        return_rate = len(df.query('win == 馬番')) / (100 / df['return']).sum()\n",
    "        \n",
    "        return n_bets, return_rate\n",
    "    \n",
    "    def umaren_return(self, x, threshold=0.5):\n",
    "        pred_table = self.pred_table(x, threshold)\n",
    "        hit = {}\n",
    "        n_bets = 0\n",
    "        for race_id, preds in pred_table.groupby(level=0):\n",
    "            n_bets += comb(len(preds), 2)\n",
    "            hit[race_id] = set(self.umaren.loc[race_id][['win_0', 'win_1']]).issubset(set(preds))\n",
    "        return_rate = (self.umaren.index.map(hit).values * self.umaren['return']).sum() / (n_bets * 100)\n",
    "        return n_bets, return_rate"
   ]
  },
  {
   "cell_type": "markdown",
   "metadata": {},
   "source": [
    "### 1.2　関数"
   ]
  },
  {
   "cell_type": "code",
   "execution_count": 3,
   "metadata": {},
   "outputs": [],
   "source": [
    "# 時系列に沿って訓練データとテストデータに分ける関数\n",
    "def split_data(df, test_size=0.3):\n",
    "    sorted_id_list = df.sort_values('date').index.unique()   \n",
    "    train_id_list = sorted_id_list[:round(len(sorted_id_list) * (1 - test_size))]\n",
    "    test_id_list = sorted_id_list[round(len(sorted_id_list) * (1 - test_size)):]\n",
    "    train = df.loc[train_id_list]#.drop(['date'], axis=1)\n",
    "    test = df.loc[test_id_list]#.drop(['date'], axis=1)\n",
    "    return train, test\n",
    "\n",
    "# 回収率を計算する関数\n",
    "def gain(return_func, x, n_samples=100, lower=50, min_threshold=0.5):\n",
    "    gain = {}\n",
    "    for i in tqdm(range(n_samples)):\n",
    "        threshold = (i / n_samples) + (min_threshold * (1 - (i / n_samples)))\n",
    "        n_bets, return_rate = return_func(x, threshold)\n",
    "        if n_bets > lower:\n",
    "            gain[n_bets] = return_rate\n",
    "    return pd.Series(gain)\n",
    "\n",
    "# 重複のないデータを作成する関数\n",
    "def update_data(old, new):\n",
    "    filtered_old = old[~old.index.isin(new.index)]\n",
    "    return pd.concat([filtered_old, new])"
   ]
  },
  {
   "cell_type": "markdown",
   "metadata": {},
   "source": [
    "### 2．前処理"
   ]
  },
  {
   "cell_type": "code",
   "execution_count": 4,
   "metadata": {},
   "outputs": [],
   "source": [
    "r = Results.read_pickle(['results.pickle'])\n",
    "\n",
    "# 前処理\n",
    "r.preprocessing()\n",
    "\n",
    "# 馬の過去成績データの追加\n",
    "hr = HorseResults.read_pickle(['horse_results.pickle'])\n",
    "r.merge_horse_results(hr)\n",
    "\n",
    "# 5世代分の血統データの追加\n",
    "p = Peds.read_pickle(['peds.pickle'])\n",
    "p.encode()\n",
    "r.merge_peds(p.peds_e)\n",
    "\n",
    "# カテゴリ変数の処理\n",
    "r.process_categorical()"
   ]
  },
  {
   "cell_type": "markdown",
   "metadata": {},
   "source": [
    "### 3．予測"
   ]
  },
  {
   "cell_type": "code",
   "execution_count": 5,
   "metadata": {},
   "outputs": [],
   "source": [
    "# 時系列に沿って訓練データとテストデータに分ける\n",
    "train, test = split_data(r.data_c)\n",
    "X_train = train.drop(['rank', 'date'], axis=1)\n",
    "y_train = train['rank']\n",
    "X_test = test.drop(['rank', 'date'], axis=1)\n",
    "y_test = test['rank']"
   ]
  },
  {
   "cell_type": "code",
   "execution_count": 6,
   "metadata": {},
   "outputs": [
    {
     "data": {
      "text/plain": [
       "LGBMClassifier(class_weight='balanced', n_estimators=80, num_leaves=4,\n",
       "               random_state=100)"
      ]
     },
     "execution_count": 6,
     "metadata": {},
     "output_type": "execute_result"
    }
   ],
   "source": [
    "params = {\n",
    "    'num_leaves': 4,\n",
    "    'n_estimators': 80,\n",
    "    'class_weight': 'balanced',\n",
    "    'random_state': 100\n",
    "}\n",
    "\n",
    "lgb_clf = lgb.LGBMClassifier(**params)\n",
    "lgb_clf.fit(X_train.values, y_train.values)"
   ]
  },
  {
   "cell_type": "code",
   "execution_count": 7,
   "metadata": {},
   "outputs": [],
   "source": [
    "me = ModelEvaluator(lgb_clf, 'return_tables.pickle')"
   ]
  },
  {
   "cell_type": "code",
   "execution_count": 8,
   "metadata": {},
   "outputs": [],
   "source": [
    "# gain_baseline = gain(me.tansho_return, X_test)\n",
    "# gain_baseline.to_pickle('gain_baseline.pickle')"
   ]
  },
  {
   "cell_type": "code",
   "execution_count": 9,
   "metadata": {},
   "outputs": [],
   "source": [
    "gain_baseline = pd.read_pickle('gain_baseline.pickle')"
   ]
  },
  {
   "cell_type": "markdown",
   "metadata": {},
   "source": [
    "#### 4．単勝適性回収値\n",
    "常に払戻額が一定になるように単勝で賭けた場合の回収率<br>\n",
    "払戻額が常に1万円になるように賭けてみる"
   ]
  },
  {
   "cell_type": "markdown",
   "metadata": {},
   "source": [
    "賭けた金額<br>\n",
    "x円賭けるとすると<br>\n",
    "$$\n",
    "各馬番の単勝オッズ \\times \\frac{x}{100} = 10000 \\\\\n",
    "\\therefore \\quad x = \\frac{100 \\times 10000}{各馬番の単勝オッズ}\n",
    "$$"
   ]
  },
  {
   "cell_type": "markdown",
   "metadata": {},
   "source": [
    "回収率 = 払戻額 / 賭けた金額"
   ]
  },
  {
   "cell_type": "code",
   "execution_count": 10,
   "metadata": {},
   "outputs": [],
   "source": [
    "# gain_proper = gain(me.tansho_return_proper, X_test)\n",
    "# gain_proper.to_pickle('gain_proper.pickle')"
   ]
  },
  {
   "cell_type": "code",
   "execution_count": 11,
   "metadata": {},
   "outputs": [],
   "source": [
    "gain_proper = pd.read_pickle('gain_proper.pickle')"
   ]
  },
  {
   "cell_type": "code",
   "execution_count": 12,
   "metadata": {},
   "outputs": [
    {
     "data": {
      "image/png": "[encoded data removed]",
      "text/plain": [
       "<Figure size 720x576 with 1 Axes>"
      ]
     },
     "metadata": {
      "needs_background": "light"
     },
     "output_type": "display_data"
    }
   ],
   "source": [
    "plt.figure(figsize=(10, 8))\n",
    "gain_baseline.rename('baseline').plot(legend=True)\n",
    "gain_proper.rename('proper').plot(legend=True)\n",
    "plt.grid()"
   ]
  },
  {
   "cell_type": "markdown",
   "metadata": {},
   "source": [
    "### 5．Optuna"
   ]
  },
  {
   "cell_type": "code",
   "execution_count": 13,
   "metadata": {},
   "outputs": [],
   "source": [
    "# 訓練データ、検証データ、テストデータに分ける\n",
    "train, test = split_data(r.data_c)\n",
    "train, valid = split_data(train)"
   ]
  },
  {
   "cell_type": "code",
   "execution_count": 14,
   "metadata": {},
   "outputs": [],
   "source": [
    "# 説明変数と目的変数に分ける\n",
    "X_train = train.drop(['rank', 'date'], axis=1)\n",
    "y_train = train['rank']\n",
    "X_valid = valid.drop(['rank', 'date'], axis=1)\n",
    "y_valid = valid['rank']\n",
    "X_test = test.drop(['rank', 'date'], axis=1)\n",
    "y_test = test['rank']"
   ]
  },
  {
   "cell_type": "code",
   "execution_count": 15,
   "metadata": {},
   "outputs": [
    {
     "name": "stderr",
     "output_type": "stream",
     "text": [
      "\u001b[32m[I 2022-03-21 18:13:22,436]\u001b[0m A new study created in memory with name: no-name-97ca3d18-d168-4181-a692-6a12f8824261\u001b[0m\n",
      "feature_fraction, val_score: inf:   0%|          | 0/7 [00:00<?, ?it/s]"
     ]
    },
    {
     "name": "stdout",
     "output_type": "stream",
     "text": [
      "Training until validation scores don't improve for 10 rounds\n"
     ]
    },
    {
     "name": "stderr",
     "output_type": "stream",
     "text": [
      "feature_fraction, val_score: 0.464526:  14%|#4        | 1/7 [00:03<00:21,  3.50s/it]\u001b[32m[I 2022-03-21 18:13:25,951]\u001b[0m Trial 0 finished with value: 0.4645258436479782 and parameters: {'feature_fraction': 0.5}. Best is trial 0 with value: 0.4645258436479782.\u001b[0m\n",
      "feature_fraction, val_score: 0.464526:  14%|#4        | 1/7 [00:03<00:21,  3.50s/it]"
     ]
    },
    {
     "name": "stdout",
     "output_type": "stream",
     "text": [
      "Early stopping, best iteration is:\n",
      "[75]\tvalid_0's binary_logloss: 0.421952\tvalid_1's binary_logloss: 0.464526\n",
      "Training until validation scores don't improve for 10 rounds\n"
     ]
    },
    {
     "name": "stderr",
     "output_type": "stream",
     "text": [
      "feature_fraction, val_score: 0.464526:  29%|##8       | 2/7 [00:07<00:17,  3.60s/it]\u001b[32m[I 2022-03-21 18:13:29,784]\u001b[0m Trial 1 finished with value: 0.46627659842249697 and parameters: {'feature_fraction': 0.6}. Best is trial 0 with value: 0.4645258436479782.\u001b[0m\n",
      "feature_fraction, val_score: 0.464526:  29%|##8       | 2/7 [00:07<00:17,  3.60s/it]"
     ]
    },
    {
     "name": "stdout",
     "output_type": "stream",
     "text": [
      "Early stopping, best iteration is:\n",
      "[78]\tvalid_0's binary_logloss: 0.418812\tvalid_1's binary_logloss: 0.466277\n",
      "Training until validation scores don't improve for 10 rounds\n"
     ]
    },
    {
     "name": "stderr",
     "output_type": "stream",
     "text": [
      "feature_fraction, val_score: 0.464526:  43%|####2     | 3/7 [00:12<00:15,  3.93s/it]\u001b[32m[I 2022-03-21 18:13:34,468]\u001b[0m Trial 2 finished with value: 0.4669522928192853 and parameters: {'feature_fraction': 1.0}. Best is trial 0 with value: 0.4645258436479782.\u001b[0m\n",
      "feature_fraction, val_score: 0.464526:  43%|####2     | 3/7 [00:12<00:15,  3.93s/it]"
     ]
    },
    {
     "name": "stdout",
     "output_type": "stream",
     "text": [
      "Early stopping, best iteration is:\n",
      "[66]\tvalid_0's binary_logloss: 0.424361\tvalid_1's binary_logloss: 0.466952\n",
      "Training until validation scores don't improve for 10 rounds\n"
     ]
    },
    {
     "name": "stderr",
     "output_type": "stream",
     "text": [
      "feature_fraction, val_score: 0.464526:  57%|#####7    | 4/7 [00:16<00:12,  4.15s/it]\u001b[32m[I 2022-03-21 18:13:39,147]\u001b[0m Trial 3 finished with value: 0.46572789257771885 and parameters: {'feature_fraction': 0.8999999999999999}. Best is trial 0 with value: 0.4645258436479782.\u001b[0m\n",
      "feature_fraction, val_score: 0.464526:  57%|#####7    | 4/7 [00:16<00:12,  4.15s/it]"
     ]
    },
    {
     "name": "stdout",
     "output_type": "stream",
     "text": [
      "Early stopping, best iteration is:\n",
      "[75]\tvalid_0's binary_logloss: 0.419338\tvalid_1's binary_logloss: 0.465728\n",
      "Training until validation scores don't improve for 10 rounds\n"
     ]
    },
    {
     "name": "stderr",
     "output_type": "stream",
     "text": [
      "feature_fraction, val_score: 0.464526:  71%|#######1  | 5/7 [00:20<00:08,  4.08s/it]\u001b[32m[I 2022-03-21 18:13:43,065]\u001b[0m Trial 4 finished with value: 0.46598710191190645 and parameters: {'feature_fraction': 0.8}. Best is trial 0 with value: 0.4645258436479782.\u001b[0m\n",
      "feature_fraction, val_score: 0.464526:  71%|#######1  | 5/7 [00:20<00:08,  4.08s/it]"
     ]
    },
    {
     "name": "stdout",
     "output_type": "stream",
     "text": [
      "Early stopping, best iteration is:\n",
      "[60]\tvalid_0's binary_logloss: 0.428381\tvalid_1's binary_logloss: 0.465987\n",
      "Training until validation scores don't improve for 10 rounds\n"
     ]
    },
    {
     "name": "stderr",
     "output_type": "stream",
     "text": [
      "feature_fraction, val_score: 0.464526:  86%|########5 | 6/7 [00:24<00:03,  3.89s/it]\u001b[32m[I 2022-03-21 18:13:46,504]\u001b[0m Trial 5 finished with value: 0.46552737374807746 and parameters: {'feature_fraction': 0.7}. Best is trial 0 with value: 0.4645258436479782.\u001b[0m\n",
      "feature_fraction, val_score: 0.464526:  86%|########5 | 6/7 [00:24<00:03,  3.89s/it]"
     ]
    },
    {
     "name": "stdout",
     "output_type": "stream",
     "text": [
      "Early stopping, best iteration is:\n",
      "[64]\tvalid_0's binary_logloss: 0.426837\tvalid_1's binary_logloss: 0.465527\n",
      "Training until validation scores don't improve for 10 rounds\n"
     ]
    },
    {
     "name": "stderr",
     "output_type": "stream",
     "text": [
      "feature_fraction, val_score: 0.464526: 100%|##########| 7/7 [00:27<00:00,  3.71s/it]\u001b[32m[I 2022-03-21 18:13:49,800]\u001b[0m Trial 6 finished with value: 0.4652228363658496 and parameters: {'feature_fraction': 0.4}. Best is trial 0 with value: 0.4645258436479782.\u001b[0m\n",
      "feature_fraction, val_score: 0.464526: 100%|##########| 7/7 [00:27<00:00,  3.91s/it]\n",
      "num_leaves, val_score: 0.464526:   0%|          | 0/20 [00:00<?, ?it/s]"
     ]
    },
    {
     "name": "stdout",
     "output_type": "stream",
     "text": [
      "Early stopping, best iteration is:\n",
      "[67]\tvalid_0's binary_logloss: 0.427506\tvalid_1's binary_logloss: 0.465223\n",
      "Training until validation scores don't improve for 10 rounds\n"
     ]
    },
    {
     "name": "stderr",
     "output_type": "stream",
     "text": [
      "num_leaves, val_score: 0.464526:   5%|5         | 1/20 [00:02<00:45,  2.38s/it]\u001b[32m[I 2022-03-21 18:13:52,195]\u001b[0m Trial 7 finished with value: 0.46606168534910714 and parameters: {'num_leaves': 11}. Best is trial 7 with value: 0.46606168534910714.\u001b[0m\n",
      "num_leaves, val_score: 0.464526:   5%|5         | 1/20 [00:02<00:45,  2.38s/it]"
     ]
    },
    {
     "name": "stdout",
     "output_type": "stream",
     "text": [
      "Early stopping, best iteration is:\n",
      "[64]\tvalid_0's binary_logloss: 0.45755\tvalid_1's binary_logloss: 0.466062\n",
      "Training until validation scores don't improve for 10 rounds\n",
      "[100]\tvalid_0's binary_logloss: 0.46855\tvalid_1's binary_logloss: 0.4704\n",
      "[200]\tvalid_0's binary_logloss: 0.460785\tvalid_1's binary_logloss: 0.467523\n"
     ]
    },
    {
     "name": "stderr",
     "output_type": "stream",
     "text": [
      "num_leaves, val_score: 0.464526:  10%|#         | 2/20 [00:06<00:50,  2.79s/it]\u001b[32m[I 2022-03-21 18:13:55,935]\u001b[0m Trial 8 finished with value: 0.4661171904780325 and parameters: {'num_leaves': 4}. Best is trial 7 with value: 0.46606168534910714.\u001b[0m\n",
      "num_leaves, val_score: 0.464526:  10%|#         | 2/20 [00:06<00:50,  2.79s/it]"
     ]
    },
    {
     "name": "stdout",
     "output_type": "stream",
     "text": [
      "[300]\tvalid_0's binary_logloss: 0.454915\tvalid_1's binary_logloss: 0.466117\n",
      "Early stopping, best iteration is:\n",
      "[300]\tvalid_0's binary_logloss: 0.454915\tvalid_1's binary_logloss: 0.466117\n",
      "Training until validation scores don't improve for 10 rounds\n"
     ]
    },
    {
     "name": "stderr",
     "output_type": "stream",
     "text": [
      "num_leaves, val_score: 0.464526:  15%|#5        | 3/20 [00:10<00:54,  3.22s/it]\u001b[32m[I 2022-03-21 18:14:00,166]\u001b[0m Trial 9 finished with value: 0.4680060377930691 and parameters: {'num_leaves': 121}. Best is trial 7 with value: 0.46606168534910714.\u001b[0m\n",
      "num_leaves, val_score: 0.464526:  15%|#5        | 3/20 [00:10<00:54,  3.22s/it]"
     ]
    },
    {
     "name": "stdout",
     "output_type": "stream",
     "text": [
      "Early stopping, best iteration is:\n",
      "[35]\tvalid_0's binary_logloss: 0.386564\tvalid_1's binary_logloss: 0.468006\n",
      "Training until validation scores don't improve for 10 rounds\n"
     ]
    },
    {
     "name": "stderr",
     "output_type": "stream",
     "text": [
      "num_leaves, val_score: 0.464526:  20%|##        | 4/20 [00:13<00:49,  3.11s/it]\u001b[32m[I 2022-03-21 18:14:03,014]\u001b[0m Trial 10 finished with value: 0.46571190260701495 and parameters: {'num_leaves': 20}. Best is trial 10 with value: 0.46571190260701495.\u001b[0m\n",
      "num_leaves, val_score: 0.464526:  20%|##        | 4/20 [00:13<00:49,  3.11s/it]"
     ]
    },
    {
     "name": "stdout",
     "output_type": "stream",
     "text": [
      "Early stopping, best iteration is:\n",
      "[75]\tvalid_0's binary_logloss: 0.439156\tvalid_1's binary_logloss: 0.465712\n",
      "Training until validation scores don't improve for 10 rounds\n"
     ]
    },
    {
     "name": "stderr",
     "output_type": "stream",
     "text": [
      "num_leaves, val_score: 0.464526:  25%|##5       | 5/20 [00:17<00:52,  3.50s/it]\u001b[32m[I 2022-03-21 18:14:07,434]\u001b[0m Trial 11 finished with value: 0.46932602593048617 and parameters: {'num_leaves': 154}. Best is trial 10 with value: 0.46571190260701495.\u001b[0m\n",
      "num_leaves, val_score: 0.464526:  25%|##5       | 5/20 [00:17<00:52,  3.50s/it]"
     ]
    },
    {
     "name": "stdout",
     "output_type": "stream",
     "text": [
      "Early stopping, best iteration is:\n",
      "[31]\tvalid_0's binary_logloss: 0.378714\tvalid_1's binary_logloss: 0.469326\n",
      "Training until validation scores don't improve for 10 rounds\n"
     ]
    },
    {
     "name": "stderr",
     "output_type": "stream",
     "text": [
      "num_leaves, val_score: 0.464526:  30%|###       | 6/20 [00:22<00:53,  3.82s/it]\u001b[32m[I 2022-03-21 18:14:11,996]\u001b[0m Trial 12 finished with value: 0.46951964756750375 and parameters: {'num_leaves': 145}. Best is trial 10 with value: 0.46571190260701495.\u001b[0m\n",
      "num_leaves, val_score: 0.464526:  30%|###       | 6/20 [00:22<00:53,  3.82s/it]"
     ]
    },
    {
     "name": "stdout",
     "output_type": "stream",
     "text": [
      "Early stopping, best iteration is:\n",
      "[37]\tvalid_0's binary_logloss: 0.369219\tvalid_1's binary_logloss: 0.46952\n",
      "Training until validation scores don't improve for 10 rounds\n"
     ]
    },
    {
     "name": "stderr",
     "output_type": "stream",
     "text": [
      "num_leaves, val_score: 0.464526:  35%|###5      | 7/20 [00:26<00:53,  4.09s/it]\u001b[32m[I 2022-03-21 18:14:16,717]\u001b[0m Trial 13 finished with value: 0.46986811958179603 and parameters: {'num_leaves': 191}. Best is trial 10 with value: 0.46571190260701495.\u001b[0m\n",
      "num_leaves, val_score: 0.464526:  35%|###5      | 7/20 [00:26<00:53,  4.09s/it]"
     ]
    },
    {
     "name": "stdout",
     "output_type": "stream",
     "text": [
      "Early stopping, best iteration is:\n",
      "[30]\tvalid_0's binary_logloss: 0.364732\tvalid_1's binary_logloss: 0.469868\n",
      "Training until validation scores don't improve for 10 rounds\n"
     ]
    },
    {
     "name": "stderr",
     "output_type": "stream",
     "text": [
      "num_leaves, val_score: 0.464526:  40%|####      | 8/20 [00:31<00:51,  4.28s/it]\u001b[32m[I 2022-03-21 18:14:21,452]\u001b[0m Trial 14 finished with value: 0.4694158207551859 and parameters: {'num_leaves': 146}. Best is trial 10 with value: 0.46571190260701495.\u001b[0m\n",
      "num_leaves, val_score: 0.464526:  40%|####      | 8/20 [00:31<00:51,  4.28s/it]"
     ]
    },
    {
     "name": "stdout",
     "output_type": "stream",
     "text": [
      "Early stopping, best iteration is:\n",
      "[35]\tvalid_0's binary_logloss: 0.37341\tvalid_1's binary_logloss: 0.469416\n",
      "Training until validation scores don't improve for 10 rounds\n"
     ]
    },
    {
     "name": "stderr",
     "output_type": "stream",
     "text": [
      "num_leaves, val_score: 0.464526:  45%|####5     | 9/20 [00:34<00:43,  4.00s/it]\u001b[32m[I 2022-03-21 18:14:24,784]\u001b[0m Trial 15 finished with value: 0.46494958784481 and parameters: {'num_leaves': 26}. Best is trial 15 with value: 0.46494958784481.\u001b[0m\n",
      "num_leaves, val_score: 0.464526:  45%|####5     | 9/20 [00:34<00:43,  4.00s/it]"
     ]
    },
    {
     "name": "stdout",
     "output_type": "stream",
     "text": [
      "[100]\tvalid_0's binary_logloss: 0.418044\tvalid_1's binary_logloss: 0.465073\n",
      "Early stopping, best iteration is:\n",
      "[98]\tvalid_0's binary_logloss: 0.418887\tvalid_1's binary_logloss: 0.46495\n",
      "Training until validation scores don't improve for 10 rounds\n"
     ]
    },
    {
     "name": "stderr",
     "output_type": "stream",
     "text": [
      "num_leaves, val_score: 0.464526:  50%|#####     | 10/20 [00:39<00:41,  4.16s/it]\u001b[32m[I 2022-03-21 18:14:29,328]\u001b[0m Trial 16 finished with value: 0.47045499768375293 and parameters: {'num_leaves': 190}. Best is trial 15 with value: 0.46494958784481.\u001b[0m\n",
      "num_leaves, val_score: 0.464526:  50%|#####     | 10/20 [00:39<00:41,  4.16s/it]"
     ]
    },
    {
     "name": "stdout",
     "output_type": "stream",
     "text": [
      "Early stopping, best iteration is:\n",
      "[30]\tvalid_0's binary_logloss: 0.364967\tvalid_1's binary_logloss: 0.470455\n",
      "Training until validation scores don't improve for 10 rounds\n"
     ]
    },
    {
     "name": "stderr",
     "output_type": "stream",
     "text": [
      "num_leaves, val_score: 0.464526:  55%|#####5    | 11/20 [00:43<00:36,  4.08s/it]\u001b[32m[I 2022-03-21 18:14:33,222]\u001b[0m Trial 17 finished with value: 0.4662936747308065 and parameters: {'num_leaves': 66}. Best is trial 15 with value: 0.46494958784481.\u001b[0m\n",
      "num_leaves, val_score: 0.464526:  55%|#####5    | 11/20 [00:43<00:36,  4.08s/it]"
     ]
    },
    {
     "name": "stdout",
     "output_type": "stream",
     "text": [
      "Early stopping, best iteration is:\n",
      "[49]\tvalid_0's binary_logloss: 0.402786\tvalid_1's binary_logloss: 0.466294\n",
      "Training until validation scores don't improve for 10 rounds\n"
     ]
    },
    {
     "name": "stderr",
     "output_type": "stream",
     "text": [
      "num_leaves, val_score: 0.464526:  60%|######    | 12/20 [00:46<00:30,  3.82s/it]\u001b[32m[I 2022-03-21 18:14:36,443]\u001b[0m Trial 18 finished with value: 0.4659336666612878 and parameters: {'num_leaves': 58}. Best is trial 15 with value: 0.46494958784481.\u001b[0m\n",
      "num_leaves, val_score: 0.464526:  60%|######    | 12/20 [00:46<00:30,  3.82s/it]"
     ]
    },
    {
     "name": "stdout",
     "output_type": "stream",
     "text": [
      "Early stopping, best iteration is:\n",
      "[41]\tvalid_0's binary_logloss: 0.418887\tvalid_1's binary_logloss: 0.465934\n",
      "Training until validation scores don't improve for 10 rounds\n"
     ]
    },
    {
     "name": "stderr",
     "output_type": "stream",
     "text": [
      "num_leaves, val_score: 0.464526:  65%|######5   | 13/20 [00:50<00:27,  3.90s/it]\u001b[32m[I 2022-03-21 18:14:40,511]\u001b[0m Trial 19 finished with value: 0.4673096250397362 and parameters: {'num_leaves': 62}. Best is trial 15 with value: 0.46494958784481.\u001b[0m\n",
      "num_leaves, val_score: 0.464526:  65%|######5   | 13/20 [00:50<00:27,  3.90s/it]"
     ]
    },
    {
     "name": "stdout",
     "output_type": "stream",
     "text": [
      "Early stopping, best iteration is:\n",
      "[62]\tvalid_0's binary_logloss: 0.393317\tvalid_1's binary_logloss: 0.46731\n",
      "Training until validation scores don't improve for 10 rounds\n"
     ]
    },
    {
     "name": "stderr",
     "output_type": "stream",
     "text": [
      "num_leaves, val_score: 0.464526:  70%|#######   | 14/20 [00:54<00:22,  3.72s/it]\u001b[32m[I 2022-03-21 18:14:43,826]\u001b[0m Trial 20 finished with value: 0.46528737234928486 and parameters: {'num_leaves': 34}. Best is trial 15 with value: 0.46494958784481.\u001b[0m\n",
      "num_leaves, val_score: 0.464526:  70%|#######   | 14/20 [00:54<00:22,  3.72s/it]"
     ]
    },
    {
     "name": "stdout",
     "output_type": "stream",
     "text": [
      "Early stopping, best iteration is:\n",
      "[58]\tvalid_0's binary_logloss: 0.428304\tvalid_1's binary_logloss: 0.465287\n",
      "Training until validation scores don't improve for 10 rounds\n"
     ]
    },
    {
     "name": "stderr",
     "output_type": "stream",
     "text": [
      "num_leaves, val_score: 0.464526:  75%|#######5  | 15/20 [00:59<00:20,  4.19s/it]\u001b[32m[I 2022-03-21 18:14:49,109]\u001b[0m Trial 21 finished with value: 0.4715729549034974 and parameters: {'num_leaves': 249}. Best is trial 15 with value: 0.46494958784481.\u001b[0m\n",
      "num_leaves, val_score: 0.464526:  75%|#######5  | 15/20 [00:59<00:20,  4.19s/it]"
     ]
    },
    {
     "name": "stdout",
     "output_type": "stream",
     "text": [
      "Early stopping, best iteration is:\n",
      "[30]\tvalid_0's binary_logloss: 0.341603\tvalid_1's binary_logloss: 0.471573\n",
      "Training until validation scores don't improve for 10 rounds\n"
     ]
    },
    {
     "name": "stderr",
     "output_type": "stream",
     "text": [
      "num_leaves, val_score: 0.464526:  80%|########  | 16/20 [01:02<00:15,  3.98s/it]\u001b[32m[I 2022-03-21 18:14:52,589]\u001b[0m Trial 22 finished with value: 0.46702930649174 and parameters: {'num_leaves': 46}. Best is trial 15 with value: 0.46494958784481.\u001b[0m\n",
      "num_leaves, val_score: 0.464526:  80%|########  | 16/20 [01:02<00:15,  3.98s/it]"
     ]
    },
    {
     "name": "stdout",
     "output_type": "stream",
     "text": [
      "Early stopping, best iteration is:\n",
      "[57]\tvalid_0's binary_logloss: 0.415282\tvalid_1's binary_logloss: 0.467029\n",
      "Training until validation scores don't improve for 10 rounds\n"
     ]
    },
    {
     "name": "stderr",
     "output_type": "stream",
     "text": [
      "num_leaves, val_score: 0.464526:  85%|########5 | 17/20 [01:06<00:12,  4.05s/it]\u001b[32m[I 2022-03-21 18:14:56,798]\u001b[0m Trial 23 finished with value: 0.46826901541931887 and parameters: {'num_leaves': 101}. Best is trial 15 with value: 0.46494958784481.\u001b[0m\n",
      "num_leaves, val_score: 0.464526:  85%|########5 | 17/20 [01:06<00:12,  4.05s/it]"
     ]
    },
    {
     "name": "stdout",
     "output_type": "stream",
     "text": [
      "Early stopping, best iteration is:\n",
      "[46]\tvalid_0's binary_logloss: 0.378735\tvalid_1's binary_logloss: 0.468269\n",
      "Training until validation scores don't improve for 10 rounds\n"
     ]
    },
    {
     "name": "stderr",
     "output_type": "stream",
     "text": [
      "num_leaves, val_score: 0.464526:  90%|######### | 18/20 [01:11<00:08,  4.07s/it]\u001b[32m[I 2022-03-21 18:15:00,921]\u001b[0m Trial 24 finished with value: 0.46844100168561387 and parameters: {'num_leaves': 93}. Best is trial 15 with value: 0.46494958784481.\u001b[0m\n",
      "num_leaves, val_score: 0.464526:  90%|######### | 18/20 [01:11<00:08,  4.07s/it]"
     ]
    },
    {
     "name": "stdout",
     "output_type": "stream",
     "text": [
      "Early stopping, best iteration is:\n",
      "[39]\tvalid_0's binary_logloss: 0.396426\tvalid_1's binary_logloss: 0.468441\n",
      "Training until validation scores don't improve for 10 rounds\n"
     ]
    },
    {
     "name": "stderr",
     "output_type": "stream",
     "text": [
      "num_leaves, val_score: 0.464526:  95%|#########5| 19/20 [01:14<00:03,  3.82s/it]\u001b[32m[I 2022-03-21 18:15:04,148]\u001b[0m Trial 25 finished with value: 0.46601658745734925 and parameters: {'num_leaves': 37}. Best is trial 15 with value: 0.46494958784481.\u001b[0m\n",
      "num_leaves, val_score: 0.464526:  95%|#########5| 19/20 [01:14<00:03,  3.82s/it]"
     ]
    },
    {
     "name": "stdout",
     "output_type": "stream",
     "text": [
      "Early stopping, best iteration is:\n",
      "[57]\tvalid_0's binary_logloss: 0.425395\tvalid_1's binary_logloss: 0.466017\n",
      "Training until validation scores don't improve for 10 rounds\n"
     ]
    },
    {
     "name": "stderr",
     "output_type": "stream",
     "text": [
      "num_leaves, val_score: 0.464526: 100%|##########| 20/20 [01:18<00:00,  3.80s/it]\u001b[32m[I 2022-03-21 18:15:07,905]\u001b[0m Trial 26 finished with value: 0.4676557622004502 and parameters: {'num_leaves': 87}. Best is trial 15 with value: 0.46494958784481.\u001b[0m\n",
      "num_leaves, val_score: 0.464526: 100%|##########| 20/20 [01:18<00:00,  3.91s/it]\n",
      "bagging, val_score: 0.464526:   0%|          | 0/10 [00:00<?, ?it/s]"
     ]
    },
    {
     "name": "stdout",
     "output_type": "stream",
     "text": [
      "Early stopping, best iteration is:\n",
      "[35]\tvalid_0's binary_logloss: 0.407443\tvalid_1's binary_logloss: 0.467656\n",
      "Training until validation scores don't improve for 10 rounds\n"
     ]
    },
    {
     "name": "stderr",
     "output_type": "stream",
     "text": [
      "bagging, val_score: 0.464526:  10%|#         | 1/10 [00:03<00:33,  3.71s/it]\u001b[32m[I 2022-03-21 18:15:11,627]\u001b[0m Trial 27 finished with value: 0.4658980761345214 and parameters: {'bagging_fraction': 0.7448725158540321, 'bagging_freq': 7}. Best is trial 27 with value: 0.4658980761345214.\u001b[0m\n",
      "bagging, val_score: 0.464526:  10%|#         | 1/10 [00:03<00:33,  3.71s/it]"
     ]
    },
    {
     "name": "stdout",
     "output_type": "stream",
     "text": [
      "Early stopping, best iteration is:\n",
      "[60]\tvalid_0's binary_logloss: 0.43071\tvalid_1's binary_logloss: 0.465898\n",
      "Training until validation scores don't improve for 10 rounds\n"
     ]
    },
    {
     "name": "stderr",
     "output_type": "stream",
     "text": [
      "bagging, val_score: 0.464526:  20%|##        | 2/10 [00:06<00:27,  3.41s/it]\u001b[32m[I 2022-03-21 18:15:14,340]\u001b[0m Trial 28 finished with value: 0.46800808572067665 and parameters: {'bagging_fraction': 0.5679328320264827, 'bagging_freq': 6}. Best is trial 27 with value: 0.4658980761345214.\u001b[0m\n",
      "bagging, val_score: 0.464526:  20%|##        | 2/10 [00:06<00:27,  3.41s/it]"
     ]
    },
    {
     "name": "stdout",
     "output_type": "stream",
     "text": [
      "Early stopping, best iteration is:\n",
      "[46]\tvalid_0's binary_logloss: 0.44112\tvalid_1's binary_logloss: 0.468008\n",
      "Training until validation scores don't improve for 10 rounds\n"
     ]
    },
    {
     "name": "stderr",
     "output_type": "stream",
     "text": [
      "bagging, val_score: 0.464526:  30%|###       | 3/10 [00:10<00:24,  3.50s/it]\u001b[32m[I 2022-03-21 18:15:18,062]\u001b[0m Trial 29 finished with value: 0.4653551517310088 and parameters: {'bagging_fraction': 0.7571476007253335, 'bagging_freq': 6}. Best is trial 29 with value: 0.4653551517310088.\u001b[0m\n",
      "bagging, val_score: 0.464526:  30%|###       | 3/10 [00:10<00:24,  3.50s/it]"
     ]
    },
    {
     "name": "stdout",
     "output_type": "stream",
     "text": [
      "Early stopping, best iteration is:\n",
      "[70]\tvalid_0's binary_logloss: 0.424831\tvalid_1's binary_logloss: 0.465355\n",
      "Training until validation scores don't improve for 10 rounds\n"
     ]
    },
    {
     "name": "stderr",
     "output_type": "stream",
     "text": [
      "bagging, val_score: 0.464526:  40%|####      | 4/10 [00:13<00:20,  3.48s/it]\u001b[32m[I 2022-03-21 18:15:21,476]\u001b[0m Trial 30 finished with value: 0.4665923931009449 and parameters: {'bagging_fraction': 0.8277750733556355, 'bagging_freq': 4}. Best is trial 29 with value: 0.4653551517310088.\u001b[0m\n",
      "bagging, val_score: 0.464526:  40%|####      | 4/10 [00:13<00:20,  3.48s/it]"
     ]
    },
    {
     "name": "stdout",
     "output_type": "stream",
     "text": [
      "Early stopping, best iteration is:\n",
      "[68]\tvalid_0's binary_logloss: 0.426106\tvalid_1's binary_logloss: 0.466592\n",
      "Training until validation scores don't improve for 10 rounds\n"
     ]
    },
    {
     "name": "stderr",
     "output_type": "stream",
     "text": [
      "bagging, val_score: 0.464526:  50%|#####     | 5/10 [00:17<00:18,  3.69s/it]\u001b[32m[I 2022-03-21 18:15:25,657]\u001b[0m Trial 31 finished with value: 0.4674748878662553 and parameters: {'bagging_fraction': 0.6228358721730212, 'bagging_freq': 5}. Best is trial 29 with value: 0.4653551517310088.\u001b[0m\n",
      "bagging, val_score: 0.464526:  50%|#####     | 5/10 [00:17<00:18,  3.69s/it]"
     ]
    },
    {
     "name": "stdout",
     "output_type": "stream",
     "text": [
      "Early stopping, best iteration is:\n",
      "[79]\tvalid_0's binary_logloss: 0.419914\tvalid_1's binary_logloss: 0.467475\n",
      "Training until validation scores don't improve for 10 rounds\n"
     ]
    },
    {
     "name": "stderr",
     "output_type": "stream",
     "text": [
      "bagging, val_score: 0.464526:  60%|######    | 6/10 [00:20<00:14,  3.51s/it]\u001b[32m[I 2022-03-21 18:15:28,755]\u001b[0m Trial 32 finished with value: 0.4698864389665764 and parameters: {'bagging_fraction': 0.40518549070926435, 'bagging_freq': 5}. Best is trial 29 with value: 0.4653551517310088.\u001b[0m\n",
      "bagging, val_score: 0.464526:  60%|######    | 6/10 [00:20<00:14,  3.51s/it]"
     ]
    },
    {
     "name": "stdout",
     "output_type": "stream",
     "text": [
      "Early stopping, best iteration is:\n",
      "[49]\tvalid_0's binary_logloss: 0.441259\tvalid_1's binary_logloss: 0.469886\n",
      "Training until validation scores don't improve for 10 rounds\n"
     ]
    },
    {
     "name": "stderr",
     "output_type": "stream",
     "text": [
      "bagging, val_score: 0.464526:  70%|#######   | 7/10 [00:23<00:09,  3.33s/it]\u001b[32m[I 2022-03-21 18:15:31,663]\u001b[0m Trial 33 finished with value: 0.4667386126558599 and parameters: {'bagging_fraction': 0.7360105547610163, 'bagging_freq': 3}. Best is trial 29 with value: 0.4653551517310088.\u001b[0m\n",
      "bagging, val_score: 0.464526:  70%|#######   | 7/10 [00:23<00:09,  3.33s/it]"
     ]
    },
    {
     "name": "stdout",
     "output_type": "stream",
     "text": [
      "Early stopping, best iteration is:\n",
      "[47]\tvalid_0's binary_logloss: 0.438646\tvalid_1's binary_logloss: 0.466739\n",
      "Training until validation scores don't improve for 10 rounds\n"
     ]
    },
    {
     "name": "stderr",
     "output_type": "stream",
     "text": [
      "bagging, val_score: 0.464526:  80%|########  | 8/10 [00:27<00:07,  3.60s/it]\u001b[32m[I 2022-03-21 18:15:35,908]\u001b[0m Trial 34 finished with value: 0.4649697060981596 and parameters: {'bagging_fraction': 0.8826532768257533, 'bagging_freq': 5}. Best is trial 34 with value: 0.4649697060981596.\u001b[0m\n",
      "bagging, val_score: 0.464526:  80%|########  | 8/10 [00:27<00:07,  3.60s/it]"
     ]
    },
    {
     "name": "stdout",
     "output_type": "stream",
     "text": [
      "Early stopping, best iteration is:\n",
      "[83]\tvalid_0's binary_logloss: 0.417158\tvalid_1's binary_logloss: 0.46497\n",
      "Training until validation scores don't improve for 10 rounds\n"
     ]
    },
    {
     "name": "stderr",
     "output_type": "stream",
     "text": [
      "bagging, val_score: 0.464526:  90%|######### | 9/10 [00:32<00:03,  3.74s/it]\u001b[32m[I 2022-03-21 18:15:39,966]\u001b[0m Trial 35 finished with value: 0.46587101667233893 and parameters: {'bagging_fraction': 0.7279493873023832, 'bagging_freq': 3}. Best is trial 34 with value: 0.4649697060981596.\u001b[0m\n",
      "bagging, val_score: 0.464526:  90%|######### | 9/10 [00:32<00:03,  3.74s/it]"
     ]
    },
    {
     "name": "stdout",
     "output_type": "stream",
     "text": [
      "Early stopping, best iteration is:\n",
      "[67]\tvalid_0's binary_logloss: 0.426514\tvalid_1's binary_logloss: 0.465871\n",
      "Training until validation scores don't improve for 10 rounds\n"
     ]
    },
    {
     "name": "stderr",
     "output_type": "stream",
     "text": [
      "bagging, val_score: 0.464526: 100%|##########| 10/10 [00:36<00:00,  3.90s/it]\u001b[32m[I 2022-03-21 18:15:44,245]\u001b[0m Trial 36 finished with value: 0.4657741690293192 and parameters: {'bagging_fraction': 0.9392256373734511, 'bagging_freq': 7}. Best is trial 34 with value: 0.4649697060981596.\u001b[0m\n",
      "bagging, val_score: 0.464526: 100%|##########| 10/10 [00:36<00:00,  3.63s/it]\n",
      "feature_fraction_stage2, val_score: 0.464526:   0%|          | 0/6 [00:00<?, ?it/s]"
     ]
    },
    {
     "name": "stdout",
     "output_type": "stream",
     "text": [
      "Early stopping, best iteration is:\n",
      "[71]\tvalid_0's binary_logloss: 0.423303\tvalid_1's binary_logloss: 0.465774\n",
      "Training until validation scores don't improve for 10 rounds\n"
     ]
    },
    {
     "name": "stderr",
     "output_type": "stream",
     "text": [
      "feature_fraction_stage2, val_score: 0.464526:  17%|#6        | 1/6 [00:03<00:16,  3.39s/it]\u001b[32m[I 2022-03-21 18:15:47,650]\u001b[0m Trial 37 finished with value: 0.46642614082719325 and parameters: {'feature_fraction': 0.516}. Best is trial 37 with value: 0.46642614082719325.\u001b[0m\n",
      "feature_fraction_stage2, val_score: 0.464526:  17%|#6        | 1/6 [00:03<00:16,  3.39s/it]"
     ]
    },
    {
     "name": "stdout",
     "output_type": "stream",
     "text": [
      "Early stopping, best iteration is:\n",
      "[42]\tvalid_0's binary_logloss: 0.442874\tvalid_1's binary_logloss: 0.466426\n",
      "Training until validation scores don't improve for 10 rounds\n"
     ]
    },
    {
     "name": "stderr",
     "output_type": "stream",
     "text": [
      "feature_fraction_stage2, val_score: 0.464526:  33%|###3      | 2/6 [00:07<00:14,  3.61s/it]\u001b[32m[I 2022-03-21 18:15:51,776]\u001b[0m Trial 38 finished with value: 0.46478426717074156 and parameters: {'feature_fraction': 0.45199999999999996}. Best is trial 38 with value: 0.46478426717074156.\u001b[0m\n",
      "feature_fraction_stage2, val_score: 0.464526:  33%|###3      | 2/6 [00:07<00:14,  3.61s/it]"
     ]
    },
    {
     "name": "stdout",
     "output_type": "stream",
     "text": [
      "Early stopping, best iteration is:\n",
      "[75]\tvalid_0's binary_logloss: 0.422596\tvalid_1's binary_logloss: 0.464784\n",
      "Training until validation scores don't improve for 10 rounds\n"
     ]
    },
    {
     "name": "stderr",
     "output_type": "stream",
     "text": [
      "feature_fraction_stage2, val_score: 0.464526:  50%|#####     | 3/6 [00:11<00:11,  3.76s/it]\u001b[32m[I 2022-03-21 18:15:55,886]\u001b[0m Trial 39 finished with value: 0.46515211298732334 and parameters: {'feature_fraction': 0.484}. Best is trial 38 with value: 0.46478426717074156.\u001b[0m\n",
      "feature_fraction_stage2, val_score: 0.464526:  50%|#####     | 3/6 [00:11<00:11,  3.76s/it]"
     ]
    },
    {
     "name": "stdout",
     "output_type": "stream",
     "text": [
      "Early stopping, best iteration is:\n",
      "[65]\tvalid_0's binary_logloss: 0.428277\tvalid_1's binary_logloss: 0.465152\n",
      "Training until validation scores don't improve for 10 rounds\n"
     ]
    },
    {
     "name": "stderr",
     "output_type": "stream",
     "text": [
      "feature_fraction_stage2, val_score: 0.464526:  67%|######6   | 4/6 [00:16<00:08,  4.15s/it]\u001b[32m[I 2022-03-21 18:16:00,953]\u001b[0m Trial 40 finished with value: 0.46617678406148233 and parameters: {'feature_fraction': 0.58}. Best is trial 38 with value: 0.46478426717074156.\u001b[0m\n",
      "feature_fraction_stage2, val_score: 0.464526:  67%|######6   | 4/6 [00:16<00:08,  4.15s/it]"
     ]
    },
    {
     "name": "stdout",
     "output_type": "stream",
     "text": [
      "Early stopping, best iteration is:\n",
      "[83]\tvalid_0's binary_logloss: 0.417224\tvalid_1's binary_logloss: 0.466177\n",
      "Training until validation scores don't improve for 10 rounds\n"
     ]
    },
    {
     "name": "stderr",
     "output_type": "stream",
     "text": [
      "feature_fraction_stage2, val_score: 0.464526:  83%|########3 | 5/6 [00:20<00:04,  4.11s/it]\u001b[32m[I 2022-03-21 18:16:04,968]\u001b[0m Trial 41 finished with value: 0.4655860881337804 and parameters: {'feature_fraction': 0.5479999999999999}. Best is trial 38 with value: 0.46478426717074156.\u001b[0m\n",
      "feature_fraction_stage2, val_score: 0.464526:  83%|########3 | 5/6 [00:20<00:04,  4.11s/it]"
     ]
    },
    {
     "name": "stdout",
     "output_type": "stream",
     "text": [
      "Early stopping, best iteration is:\n",
      "[59]\tvalid_0's binary_logloss: 0.430912\tvalid_1's binary_logloss: 0.465586\n",
      "Training until validation scores don't improve for 10 rounds\n"
     ]
    },
    {
     "name": "stderr",
     "output_type": "stream",
     "text": [
      "feature_fraction_stage2, val_score: 0.464526: 100%|##########| 6/6 [00:25<00:00,  4.27s/it]\u001b[32m[I 2022-03-21 18:16:09,624]\u001b[0m Trial 42 finished with value: 0.4649828859758623 and parameters: {'feature_fraction': 0.42}. Best is trial 38 with value: 0.46478426717074156.\u001b[0m\n",
      "feature_fraction_stage2, val_score: 0.464526: 100%|##########| 6/6 [00:25<00:00,  4.23s/it]\n",
      "regularization_factors, val_score: 0.464526:   0%|          | 0/20 [00:00<?, ?it/s]"
     ]
    },
    {
     "name": "stdout",
     "output_type": "stream",
     "text": [
      "[100]\tvalid_0's binary_logloss: 0.409732\tvalid_1's binary_logloss: 0.465002\n",
      "Early stopping, best iteration is:\n",
      "[93]\tvalid_0's binary_logloss: 0.413712\tvalid_1's binary_logloss: 0.464983\n",
      "Training until validation scores don't improve for 10 rounds\n"
     ]
    },
    {
     "name": "stderr",
     "output_type": "stream",
     "text": [
      "regularization_factors, val_score: 0.464139:   5%|5         | 1/20 [00:05<01:53,  5.95s/it]\u001b[32m[I 2022-03-21 18:16:15,608]\u001b[0m Trial 43 finished with value: 0.4641391777332397 and parameters: {'lambda_l1': 2.6221013431383153, 'lambda_l2': 0.012923627172470895}. Best is trial 43 with value: 0.4641391777332397.\u001b[0m\n",
      "regularization_factors, val_score: 0.464139:   5%|5         | 1/20 [00:05<01:53,  5.95s/it]"
     ]
    },
    {
     "name": "stdout",
     "output_type": "stream",
     "text": [
      "[100]\tvalid_0's binary_logloss: 0.414549\tvalid_1's binary_logloss: 0.46432\n",
      "Early stopping, best iteration is:\n",
      "[94]\tvalid_0's binary_logloss: 0.417253\tvalid_1's binary_logloss: 0.464139\n",
      "Training until validation scores don't improve for 10 rounds\n"
     ]
    },
    {
     "name": "stderr",
     "output_type": "stream",
     "text": [
      "regularization_factors, val_score: 0.464139:  10%|#         | 2/20 [00:10<01:39,  5.52s/it]\u001b[32m[I 2022-03-21 18:16:20,110]\u001b[0m Trial 44 finished with value: 0.4647323334017608 and parameters: {'lambda_l1': 0.023455322937972433, 'lambda_l2': 0.02614092856944461}. Best is trial 43 with value: 0.4641391777332397.\u001b[0m\n",
      "regularization_factors, val_score: 0.464139:  10%|#         | 2/20 [00:10<01:39,  5.52s/it]"
     ]
    },
    {
     "name": "stdout",
     "output_type": "stream",
     "text": [
      "Early stopping, best iteration is:\n",
      "[68]\tvalid_0's binary_logloss: 0.425959\tvalid_1's binary_logloss: 0.464732\n",
      "Training until validation scores don't improve for 10 rounds\n"
     ]
    },
    {
     "name": "stderr",
     "output_type": "stream",
     "text": [
      "regularization_factors, val_score: 0.464139:  15%|#5        | 3/20 [00:14<01:27,  5.14s/it]\u001b[32m[I 2022-03-21 18:16:24,356]\u001b[0m Trial 45 finished with value: 0.46496943422614273 and parameters: {'lambda_l1': 2.1537963935879207e-05, 'lambda_l2': 0.0015814648864691803}. Best is trial 43 with value: 0.4641391777332397.\u001b[0m\n",
      "regularization_factors, val_score: 0.464139:  15%|#5        | 3/20 [00:14<01:27,  5.14s/it]"
     ]
    },
    {
     "name": "stdout",
     "output_type": "stream",
     "text": [
      "Early stopping, best iteration is:\n",
      "[63]\tvalid_0's binary_logloss: 0.42846\tvalid_1's binary_logloss: 0.464969\n",
      "Training until validation scores don't improve for 10 rounds\n"
     ]
    },
    {
     "name": "stderr",
     "output_type": "stream",
     "text": [
      "regularization_factors, val_score: 0.464139:  20%|##        | 4/20 [00:19<01:18,  4.90s/it]\u001b[32m[I 2022-03-21 18:16:28,704]\u001b[0m Trial 46 finished with value: 0.46479122068002704 and parameters: {'lambda_l1': 0.0002609996764305828, 'lambda_l2': 0.6648154191182744}. Best is trial 43 with value: 0.4641391777332397.\u001b[0m\n",
      "regularization_factors, val_score: 0.464139:  20%|##        | 4/20 [00:19<01:18,  4.90s/it]"
     ]
    },
    {
     "name": "stdout",
     "output_type": "stream",
     "text": [
      "Early stopping, best iteration is:\n",
      "[61]\tvalid_0's binary_logloss: 0.431747\tvalid_1's binary_logloss: 0.464791\n",
      "Training until validation scores don't improve for 10 rounds\n"
     ]
    },
    {
     "name": "stderr",
     "output_type": "stream",
     "text": [
      "regularization_factors, val_score: 0.463518:  25%|##5       | 5/20 [00:24<01:14,  4.97s/it]\u001b[32m[I 2022-03-21 18:16:33,837]\u001b[0m Trial 47 finished with value: 0.46351827556696545 and parameters: {'lambda_l1': 1.7966868451687181, 'lambda_l2': 2.2443377345737075e-07}. Best is trial 47 with value: 0.46351827556696545.\u001b[0m\n",
      "regularization_factors, val_score: 0.463518:  25%|##5       | 5/20 [00:24<01:14,  4.97s/it]"
     ]
    },
    {
     "name": "stdout",
     "output_type": "stream",
     "text": [
      "Early stopping, best iteration is:\n",
      "[83]\tvalid_0's binary_logloss: 0.420667\tvalid_1's binary_logloss: 0.463518\n",
      "Training until validation scores don't improve for 10 rounds\n"
     ]
    },
    {
     "name": "stderr",
     "output_type": "stream",
     "text": [
      "regularization_factors, val_score: 0.463518:  30%|###       | 6/20 [00:28<01:07,  4.79s/it]\u001b[32m[I 2022-03-21 18:16:38,192]\u001b[0m Trial 48 finished with value: 0.46451293144621214 and parameters: {'lambda_l1': 7.64815568040823e-06, 'lambda_l2': 0.002783452003146543}. Best is trial 47 with value: 0.46351827556696545.\u001b[0m\n",
      "regularization_factors, val_score: 0.463518:  30%|###       | 6/20 [00:28<01:07,  4.79s/it]"
     ]
    },
    {
     "name": "stdout",
     "output_type": "stream",
     "text": [
      "Early stopping, best iteration is:\n",
      "[63]\tvalid_0's binary_logloss: 0.428196\tvalid_1's binary_logloss: 0.464513\n",
      "Training until validation scores don't improve for 10 rounds\n"
     ]
    },
    {
     "name": "stderr",
     "output_type": "stream",
     "text": [
      "regularization_factors, val_score: 0.463518:  35%|###5      | 7/20 [00:32<01:00,  4.67s/it]\u001b[32m[I 2022-03-21 18:16:42,581]\u001b[0m Trial 49 finished with value: 0.46496669162993176 and parameters: {'lambda_l1': 9.33851545559277e-06, 'lambda_l2': 0.0009802032271422358}. Best is trial 47 with value: 0.46351827556696545.\u001b[0m\n",
      "regularization_factors, val_score: 0.463518:  35%|###5      | 7/20 [00:32<01:00,  4.67s/it]"
     ]
    },
    {
     "name": "stdout",
     "output_type": "stream",
     "text": [
      "Early stopping, best iteration is:\n",
      "[63]\tvalid_0's binary_logloss: 0.428458\tvalid_1's binary_logloss: 0.464967\n",
      "Training until validation scores don't improve for 10 rounds\n"
     ]
    },
    {
     "name": "stderr",
     "output_type": "stream",
     "text": [
      "regularization_factors, val_score: 0.463518:  40%|####      | 8/20 [00:37<00:56,  4.73s/it]\u001b[32m[I 2022-03-21 18:16:47,477]\u001b[0m Trial 50 finished with value: 0.46535096793358743 and parameters: {'lambda_l1': 3.4671630545284985e-05, 'lambda_l2': 0.39654616394960734}. Best is trial 47 with value: 0.46351827556696545.\u001b[0m\n",
      "regularization_factors, val_score: 0.463518:  40%|####      | 8/20 [00:37<00:56,  4.73s/it]"
     ]
    },
    {
     "name": "stdout",
     "output_type": "stream",
     "text": [
      "Early stopping, best iteration is:\n",
      "[64]\tvalid_0's binary_logloss: 0.429181\tvalid_1's binary_logloss: 0.465351\n",
      "Training until validation scores don't improve for 10 rounds\n"
     ]
    },
    {
     "name": "stderr",
     "output_type": "stream",
     "text": [
      "regularization_factors, val_score: 0.463518:  45%|####5     | 9/20 [00:42<00:51,  4.64s/it]\u001b[32m[I 2022-03-21 18:16:51,884]\u001b[0m Trial 51 finished with value: 0.46456277248653516 and parameters: {'lambda_l1': 1.1987886771512974, 'lambda_l2': 0.00031973575950984063}. Best is trial 47 with value: 0.46351827556696545.\u001b[0m\n",
      "regularization_factors, val_score: 0.463518:  45%|####5     | 9/20 [00:42<00:51,  4.64s/it]"
     ]
    },
    {
     "name": "stdout",
     "output_type": "stream",
     "text": [
      "Early stopping, best iteration is:\n",
      "[68]\tvalid_0's binary_logloss: 0.427715\tvalid_1's binary_logloss: 0.464563\n",
      "Training until validation scores don't improve for 10 rounds\n"
     ]
    },
    {
     "name": "stderr",
     "output_type": "stream",
     "text": [
      "regularization_factors, val_score: 0.463518:  50%|#####     | 10/20 [00:46<00:46,  4.66s/it]\u001b[32m[I 2022-03-21 18:16:56,586]\u001b[0m Trial 52 finished with value: 0.46364978360603304 and parameters: {'lambda_l1': 2.9203708523299497e-07, 'lambda_l2': 5.540760303563121}. Best is trial 47 with value: 0.46351827556696545.\u001b[0m\n",
      "regularization_factors, val_score: 0.463518:  50%|#####     | 10/20 [00:46<00:46,  4.66s/it]"
     ]
    },
    {
     "name": "stdout",
     "output_type": "stream",
     "text": [
      "Early stopping, best iteration is:\n",
      "[76]\tvalid_0's binary_logloss: 0.427367\tvalid_1's binary_logloss: 0.46365\n",
      "Training until validation scores don't improve for 10 rounds\n"
     ]
    },
    {
     "name": "stderr",
     "output_type": "stream",
     "text": [
      "regularization_factors, val_score: 0.463518:  55%|#####5    | 11/20 [00:52<00:43,  4.87s/it]\u001b[32m[I 2022-03-21 18:17:01,959]\u001b[0m Trial 53 finished with value: 0.4650186967877988 and parameters: {'lambda_l1': 0.019846214011242397, 'lambda_l2': 8.722019271650601e-08}. Best is trial 47 with value: 0.46351827556696545.\u001b[0m\n",
      "regularization_factors, val_score: 0.463518:  55%|#####5    | 11/20 [00:52<00:43,  4.87s/it]"
     ]
    },
    {
     "name": "stdout",
     "output_type": "stream",
     "text": [
      "Early stopping, best iteration is:\n",
      "[77]\tvalid_0's binary_logloss: 0.421041\tvalid_1's binary_logloss: 0.465019\n",
      "Training until validation scores don't improve for 10 rounds\n"
     ]
    },
    {
     "name": "stderr",
     "output_type": "stream",
     "text": [
      "regularization_factors, val_score: 0.463518:  60%|######    | 12/20 [00:57<00:38,  4.82s/it]\u001b[32m[I 2022-03-21 18:17:06,674]\u001b[0m Trial 54 finished with value: 0.4645292988863842 and parameters: {'lambda_l1': 1.3713039195051769e-08, 'lambda_l2': 1.1397089616683277e-06}. Best is trial 47 with value: 0.46351827556696545.\u001b[0m\n",
      "regularization_factors, val_score: 0.463518:  60%|######    | 12/20 [00:57<00:38,  4.82s/it]"
     ]
    },
    {
     "name": "stdout",
     "output_type": "stream",
     "text": [
      "Early stopping, best iteration is:\n",
      "[75]\tvalid_0's binary_logloss: 0.421952\tvalid_1's binary_logloss: 0.464529\n",
      "Training until validation scores don't improve for 10 rounds\n"
     ]
    },
    {
     "name": "stderr",
     "output_type": "stream",
     "text": [
      "regularization_factors, val_score: 0.463518:  65%|######5   | 13/20 [01:01<00:33,  4.80s/it]\u001b[32m[I 2022-03-21 18:17:11,431]\u001b[0m Trial 55 finished with value: 0.4645244833510932 and parameters: {'lambda_l1': 3.72356171240671e-08, 'lambda_l2': 1.1484561655270637e-06}. Best is trial 47 with value: 0.46351827556696545.\u001b[0m\n",
      "regularization_factors, val_score: 0.463518:  65%|######5   | 13/20 [01:01<00:33,  4.80s/it]"
     ]
    },
    {
     "name": "stdout",
     "output_type": "stream",
     "text": [
      "Early stopping, best iteration is:\n",
      "[75]\tvalid_0's binary_logloss: 0.421952\tvalid_1's binary_logloss: 0.464524\n",
      "Training until validation scores don't improve for 10 rounds\n",
      "[100]\tvalid_0's binary_logloss: 0.417385\tvalid_1's binary_logloss: 0.463287\n"
     ]
    },
    {
     "name": "stderr",
     "output_type": "stream",
     "text": [
      "regularization_factors, val_score: 0.463175:  70%|#######   | 14/20 [01:08<00:31,  5.30s/it]\u001b[32m[I 2022-03-21 18:17:17,874]\u001b[0m Trial 56 finished with value: 0.4631750239464627 and parameters: {'lambda_l1': 5.186268819103206e-07, 'lambda_l2': 7.663985621877092}. Best is trial 56 with value: 0.4631750239464627.\u001b[0m\n",
      "regularization_factors, val_score: 0.463175:  70%|#######   | 14/20 [01:08<00:31,  5.30s/it]"
     ]
    },
    {
     "name": "stdout",
     "output_type": "stream",
     "text": [
      "Early stopping, best iteration is:\n",
      "[104]\tvalid_0's binary_logloss: 0.415588\tvalid_1's binary_logloss: 0.463175\n",
      "Training until validation scores don't improve for 10 rounds\n"
     ]
    },
    {
     "name": "stderr",
     "output_type": "stream",
     "text": [
      "regularization_factors, val_score: 0.463175:  75%|#######5  | 15/20 [01:12<00:24,  5.00s/it]\u001b[32m[I 2022-03-21 18:17:22,181]\u001b[0m Trial 57 finished with value: 0.4657276766087019 and parameters: {'lambda_l1': 0.0371510876801885, 'lambda_l2': 1.548196549627889e-05}. Best is trial 56 with value: 0.4631750239464627.\u001b[0m\n",
      "regularization_factors, val_score: 0.463175:  75%|#######5  | 15/20 [01:12<00:24,  5.00s/it]"
     ]
    },
    {
     "name": "stdout",
     "output_type": "stream",
     "text": [
      "Early stopping, best iteration is:\n",
      "[56]\tvalid_0's binary_logloss: 0.433433\tvalid_1's binary_logloss: 0.465728\n",
      "Training until validation scores don't improve for 10 rounds\n"
     ]
    },
    {
     "name": "stderr",
     "output_type": "stream",
     "text": [
      "regularization_factors, val_score: 0.463175:  80%|########  | 16/20 [01:16<00:19,  4.78s/it]\u001b[32m[I 2022-03-21 18:17:26,464]\u001b[0m Trial 58 finished with value: 0.4645289110494747 and parameters: {'lambda_l1': 5.412139367797536e-07, 'lambda_l2': 4.054909175936966e-08}. Best is trial 56 with value: 0.4631750239464627.\u001b[0m\n",
      "regularization_factors, val_score: 0.463175:  80%|########  | 16/20 [01:16<00:19,  4.78s/it]"
     ]
    },
    {
     "name": "stdout",
     "output_type": "stream",
     "text": [
      "Early stopping, best iteration is:\n",
      "[75]\tvalid_0's binary_logloss: 0.421952\tvalid_1's binary_logloss: 0.464529\n",
      "Training until validation scores don't improve for 10 rounds\n"
     ]
    },
    {
     "name": "stderr",
     "output_type": "stream",
     "text": [
      "regularization_factors, val_score: 0.463175:  85%|########5 | 17/20 [01:20<00:13,  4.52s/it]\u001b[32m[I 2022-03-21 18:17:30,370]\u001b[0m Trial 59 finished with value: 0.46450727748360293 and parameters: {'lambda_l1': 0.0027356857029682954, 'lambda_l2': 1.5175840493245018e-05}. Best is trial 56 with value: 0.4631750239464627.\u001b[0m\n",
      "regularization_factors, val_score: 0.463175:  85%|########5 | 17/20 [01:20<00:13,  4.52s/it]"
     ]
    },
    {
     "name": "stdout",
     "output_type": "stream",
     "text": [
      "Early stopping, best iteration is:\n",
      "[63]\tvalid_0's binary_logloss: 0.428193\tvalid_1's binary_logloss: 0.464507\n",
      "Training until validation scores don't improve for 10 rounds\n"
     ]
    },
    {
     "name": "stderr",
     "output_type": "stream",
     "text": [
      "regularization_factors, val_score: 0.463175:  90%|######### | 18/20 [01:25<00:09,  4.70s/it]\u001b[32m[I 2022-03-21 18:17:35,500]\u001b[0m Trial 60 finished with value: 0.46564312137410974 and parameters: {'lambda_l1': 0.3491651024895415, 'lambda_l2': 1.108062333688711e-08}. Best is trial 56 with value: 0.4631750239464627.\u001b[0m\n",
      "regularization_factors, val_score: 0.463175:  90%|######### | 18/20 [01:25<00:09,  4.70s/it]"
     ]
    },
    {
     "name": "stdout",
     "output_type": "stream",
     "text": [
      "Early stopping, best iteration is:\n",
      "[63]\tvalid_0's binary_logloss: 0.429073\tvalid_1's binary_logloss: 0.465643\n",
      "Training until validation scores don't improve for 10 rounds\n"
     ]
    },
    {
     "name": "stderr",
     "output_type": "stream",
     "text": [
      "regularization_factors, val_score: 0.463175:  95%|#########5| 19/20 [01:30<00:04,  4.58s/it]\u001b[32m[I 2022-03-21 18:17:39,803]\u001b[0m Trial 61 finished with value: 0.46497000186250137 and parameters: {'lambda_l1': 0.0003620533712589182, 'lambda_l2': 3.018713392667131e-05}. Best is trial 56 with value: 0.4631750239464627.\u001b[0m\n",
      "regularization_factors, val_score: 0.463175:  95%|#########5| 19/20 [01:30<00:04,  4.58s/it]"
     ]
    },
    {
     "name": "stdout",
     "output_type": "stream",
     "text": [
      "Early stopping, best iteration is:\n",
      "[63]\tvalid_0's binary_logloss: 0.428455\tvalid_1's binary_logloss: 0.46497\n",
      "Training until validation scores don't improve for 10 rounds\n"
     ]
    },
    {
     "name": "stderr",
     "output_type": "stream",
     "text": [
      "regularization_factors, val_score: 0.463175: 100%|##########| 20/20 [01:35<00:00,  4.68s/it]\u001b[32m[I 2022-03-21 18:17:44,698]\u001b[0m Trial 62 finished with value: 0.4638407996784531 and parameters: {'lambda_l1': 3.0756735078962366e-07, 'lambda_l2': 7.726373645566161}. Best is trial 56 with value: 0.4631750239464627.\u001b[0m\n",
      "regularization_factors, val_score: 0.463175: 100%|##########| 20/20 [01:35<00:00,  4.75s/it]\n",
      "min_data_in_leaf, val_score: 0.463175:   0%|          | 0/5 [00:00<?, ?it/s]"
     ]
    },
    {
     "name": "stdout",
     "output_type": "stream",
     "text": [
      "Early stopping, best iteration is:\n",
      "[79]\tvalid_0's binary_logloss: 0.426228\tvalid_1's binary_logloss: 0.463841\n",
      "Training until validation scores don't improve for 10 rounds\n"
     ]
    },
    {
     "name": "stderr",
     "output_type": "stream",
     "text": [
      "min_data_in_leaf, val_score: 0.463175:  20%|##        | 1/5 [00:04<00:19,  4.85s/it]\u001b[32m[I 2022-03-21 18:17:49,564]\u001b[0m Trial 63 finished with value: 0.46369562435116046 and parameters: {'min_child_samples': 5}. Best is trial 63 with value: 0.46369562435116046.\u001b[0m\n",
      "min_data_in_leaf, val_score: 0.463175:  20%|##        | 1/5 [00:04<00:19,  4.85s/it]"
     ]
    },
    {
     "name": "stdout",
     "output_type": "stream",
     "text": [
      "Early stopping, best iteration is:\n",
      "[72]\tvalid_0's binary_logloss: 0.430198\tvalid_1's binary_logloss: 0.463696\n",
      "Training until validation scores don't improve for 10 rounds\n",
      "[100]\tvalid_0's binary_logloss: 0.416877\tvalid_1's binary_logloss: 0.463866\n"
     ]
    },
    {
     "name": "stderr",
     "output_type": "stream",
     "text": [
      "min_data_in_leaf, val_score: 0.463175:  40%|####      | 2/5 [00:10<00:15,  5.00s/it]\u001b[32m[I 2022-03-21 18:17:54,921]\u001b[0m Trial 64 finished with value: 0.4635928718753869 and parameters: {'min_child_samples': 50}. Best is trial 64 with value: 0.4635928718753869.\u001b[0m\n",
      "min_data_in_leaf, val_score: 0.463175:  40%|####      | 2/5 [00:10<00:15,  5.00s/it]"
     ]
    },
    {
     "name": "stdout",
     "output_type": "stream",
     "text": [
      "Early stopping, best iteration is:\n",
      "[112]\tvalid_0's binary_logloss: 0.412087\tvalid_1's binary_logloss: 0.463593\n",
      "Training until validation scores don't improve for 10 rounds\n"
     ]
    },
    {
     "name": "stderr",
     "output_type": "stream",
     "text": [
      "min_data_in_leaf, val_score: 0.463175:  60%|######    | 3/5 [00:14<00:09,  4.77s/it]\u001b[32m[I 2022-03-21 18:17:59,163]\u001b[0m Trial 65 finished with value: 0.46405738431662447 and parameters: {'min_child_samples': 10}. Best is trial 64 with value: 0.4635928718753869.\u001b[0m\n",
      "min_data_in_leaf, val_score: 0.463175:  60%|######    | 3/5 [00:14<00:09,  4.77s/it]"
     ]
    },
    {
     "name": "stdout",
     "output_type": "stream",
     "text": [
      "Early stopping, best iteration is:\n",
      "[76]\tvalid_0's binary_logloss: 0.427917\tvalid_1's binary_logloss: 0.464057\n",
      "Training until validation scores don't improve for 10 rounds\n"
     ]
    },
    {
     "name": "stderr",
     "output_type": "stream",
     "text": [
      "min_data_in_leaf, val_score: 0.463175:  80%|########  | 4/5 [00:18<00:04,  4.68s/it]\u001b[32m[I 2022-03-21 18:18:03,630]\u001b[0m Trial 66 finished with value: 0.46480651516373345 and parameters: {'min_child_samples': 100}. Best is trial 64 with value: 0.4635928718753869.\u001b[0m\n",
      "min_data_in_leaf, val_score: 0.463175:  80%|########  | 4/5 [00:18<00:04,  4.68s/it]"
     ]
    },
    {
     "name": "stdout",
     "output_type": "stream",
     "text": [
      "Early stopping, best iteration is:\n",
      "[82]\tvalid_0's binary_logloss: 0.425368\tvalid_1's binary_logloss: 0.464807\n",
      "Training until validation scores don't improve for 10 rounds\n"
     ]
    },
    {
     "name": "stderr",
     "output_type": "stream",
     "text": [
      "min_data_in_leaf, val_score: 0.463175: 100%|##########| 5/5 [00:23<00:00,  4.67s/it]\u001b[32m[I 2022-03-21 18:18:08,258]\u001b[0m Trial 67 finished with value: 0.46392510672207493 and parameters: {'min_child_samples': 25}. Best is trial 64 with value: 0.4635928718753869.\u001b[0m\n",
      "min_data_in_leaf, val_score: 0.463175: 100%|##########| 5/5 [00:23<00:00,  4.71s/it]"
     ]
    },
    {
     "name": "stdout",
     "output_type": "stream",
     "text": [
      "Early stopping, best iteration is:\n",
      "[76]\tvalid_0's binary_logloss: 0.427935\tvalid_1's binary_logloss: 0.463925\n"
     ]
    },
    {
     "name": "stderr",
     "output_type": "stream",
     "text": [
      "\n"
     ]
    }
   ],
   "source": [
    "# データセットの作成\n",
    "lgb_train = lgb_o.Dataset(X_train.values, y_train.values)\n",
    "lgb_valid = lgb_o.Dataset(X_valid.values, y_valid.values)\n",
    "\n",
    "# チューニング実行\n",
    "params = {\n",
    "    'objective': 'binary',\n",
    "    'random_state': 100\n",
    "}\n",
    "\n",
    "lgb_clf_o = lgb_o.train(params, lgb_train, valid_sets=(lgb_train, lgb_valid), verbose_eval=100, early_stopping_rounds=10)"
   ]
  },
  {
   "cell_type": "markdown",
   "metadata": {},
   "source": [
    "1．あるハイパーパラメータを使って、lgb_trainで学習<br>\n",
    "2．そのモデルを使ってlgb_validで検証<br>\n",
    "3．検証結果を利用して、ハイパーパラメータを変えてlgb_trainで再学習<br>\n",
    "4．2～3を繰り返す"
   ]
  },
  {
   "cell_type": "code",
   "execution_count": 16,
   "metadata": {},
   "outputs": [
    {
     "data": {
      "text/plain": [
       "{'objective': 'binary',\n",
       " 'random_state': 100,\n",
       " 'feature_pre_filter': False,\n",
       " 'lambda_l1': 5.186268819103206e-07,\n",
       " 'lambda_l2': 7.663985621877092,\n",
       " 'num_leaves': 31,\n",
       " 'feature_fraction': 0.5,\n",
       " 'bagging_fraction': 1.0,\n",
       " 'bagging_freq': 0,\n",
       " 'min_child_samples': 20}"
      ]
     },
     "execution_count": 16,
     "metadata": {},
     "output_type": "execute_result"
    }
   ],
   "source": [
    "lgb_clf_o.params"
   ]
  },
  {
   "cell_type": "code",
   "execution_count": 17,
   "metadata": {},
   "outputs": [],
   "source": [
    "# 時系列に沿って訓練データとテストデータに分ける\n",
    "train, test = split_data(r.data_c)\n",
    "X_train = train.drop(['rank', 'date'], axis=1)\n",
    "y_train = train['rank']\n",
    "X_test = test.drop(['rank', 'date'], axis=1)\n",
    "y_test = test['rank']"
   ]
  },
  {
   "cell_type": "code",
   "execution_count": 18,
   "metadata": {},
   "outputs": [
    {
     "data": {
      "text/plain": [
       "LGBMClassifier(bagging_fraction=1.0, bagging_freq=0, feature_fraction=0.5,\n",
       "               feature_pre_filter=False, lambda_l1=5.186268819103206e-07,\n",
       "               lambda_l2=7.663985621877092, objective='binary',\n",
       "               random_state=100)"
      ]
     },
     "execution_count": 18,
     "metadata": {},
     "output_type": "execute_result"
    }
   ],
   "source": [
    "lgb_clf = lgb.LGBMClassifier(**lgb_clf_o.params)\n",
    "lgb_clf.fit(X_train.values, y_train.values)"
   ]
  },
  {
   "cell_type": "code",
   "execution_count": 19,
   "metadata": {},
   "outputs": [],
   "source": [
    "me2 = ModelEvaluator(lgb_clf, 'return_tables.pickle')"
   ]
  },
  {
   "cell_type": "code",
   "execution_count": 20,
   "metadata": {},
   "outputs": [
    {
     "data": {
      "text/html": [
       "<div>\n",
       "<style scoped>\n",
       "    .dataframe tbody tr th:only-of-type {\n",
       "        vertical-align: middle;\n",
       "    }\n",
       "\n",
       "    .dataframe tbody tr th {\n",
       "        vertical-align: top;\n",
       "    }\n",
       "\n",
       "    .dataframe thead th {\n",
       "        text-align: right;\n",
       "    }\n",
       "</style>\n",
       "<table border=\"1\" class=\"dataframe\">\n",
       "  <thead>\n",
       "    <tr style=\"text-align: right;\">\n",
       "      <th></th>\n",
       "      <th>features</th>\n",
       "      <th>importance</th>\n",
       "    </tr>\n",
       "  </thead>\n",
       "  <tbody>\n",
       "    <tr>\n",
       "      <th>4</th>\n",
       "      <td>jockey_id</td>\n",
       "      <td>178</td>\n",
       "    </tr>\n",
       "    <tr>\n",
       "      <th>10</th>\n",
       "      <td>賞金_5R</td>\n",
       "      <td>129</td>\n",
       "    </tr>\n",
       "    <tr>\n",
       "      <th>3</th>\n",
       "      <td>horse_id</td>\n",
       "      <td>103</td>\n",
       "    </tr>\n",
       "    <tr>\n",
       "      <th>7</th>\n",
       "      <td>体重</td>\n",
       "      <td>91</td>\n",
       "    </tr>\n",
       "    <tr>\n",
       "      <th>5</th>\n",
       "      <td>course_len</td>\n",
       "      <td>76</td>\n",
       "    </tr>\n",
       "    <tr>\n",
       "      <th>9</th>\n",
       "      <td>着順_5R</td>\n",
       "      <td>63</td>\n",
       "    </tr>\n",
       "    <tr>\n",
       "      <th>34</th>\n",
       "      <td>peds_1</td>\n",
       "      <td>60</td>\n",
       "    </tr>\n",
       "    <tr>\n",
       "      <th>27</th>\n",
       "      <td>着差_allR</td>\n",
       "      <td>57</td>\n",
       "    </tr>\n",
       "    <tr>\n",
       "      <th>1</th>\n",
       "      <td>馬番</td>\n",
       "      <td>56</td>\n",
       "    </tr>\n",
       "    <tr>\n",
       "      <th>18</th>\n",
       "      <td>賞金_9R</td>\n",
       "      <td>56</td>\n",
       "    </tr>\n",
       "    <tr>\n",
       "      <th>19</th>\n",
       "      <td>着差_9R</td>\n",
       "      <td>53</td>\n",
       "    </tr>\n",
       "    <tr>\n",
       "      <th>2</th>\n",
       "      <td>斤量</td>\n",
       "      <td>52</td>\n",
       "    </tr>\n",
       "    <tr>\n",
       "      <th>26</th>\n",
       "      <td>賞金_allR</td>\n",
       "      <td>50</td>\n",
       "    </tr>\n",
       "    <tr>\n",
       "      <th>11</th>\n",
       "      <td>着差_5R</td>\n",
       "      <td>49</td>\n",
       "    </tr>\n",
       "    <tr>\n",
       "      <th>8</th>\n",
       "      <td>体重変化</td>\n",
       "      <td>49</td>\n",
       "    </tr>\n",
       "    <tr>\n",
       "      <th>17</th>\n",
       "      <td>着順_9R</td>\n",
       "      <td>47</td>\n",
       "    </tr>\n",
       "    <tr>\n",
       "      <th>32</th>\n",
       "      <td>first_to_final_allR</td>\n",
       "      <td>43</td>\n",
       "    </tr>\n",
       "    <tr>\n",
       "      <th>37</th>\n",
       "      <td>peds_4</td>\n",
       "      <td>42</td>\n",
       "    </tr>\n",
       "    <tr>\n",
       "      <th>0</th>\n",
       "      <td>枠番</td>\n",
       "      <td>41</td>\n",
       "    </tr>\n",
       "    <tr>\n",
       "      <th>38</th>\n",
       "      <td>peds_5</td>\n",
       "      <td>40</td>\n",
       "    </tr>\n",
       "  </tbody>\n",
       "</table>\n",
       "</div>"
      ],
      "text/plain": [
       "               features  importance\n",
       "4             jockey_id         178\n",
       "10                賞金_5R         129\n",
       "3              horse_id         103\n",
       "7                    体重          91\n",
       "5            course_len          76\n",
       "9                 着順_5R          63\n",
       "34               peds_1          60\n",
       "27              着差_allR          57\n",
       "1                    馬番          56\n",
       "18                賞金_9R          56\n",
       "19                着差_9R          53\n",
       "2                    斤量          52\n",
       "26              賞金_allR          50\n",
       "11                着差_5R          49\n",
       "8                  体重変化          49\n",
       "17                着順_9R          47\n",
       "32  first_to_final_allR          43\n",
       "37               peds_4          42\n",
       "0                    枠番          41\n",
       "38               peds_5          40"
      ]
     },
     "execution_count": 20,
     "metadata": {},
     "output_type": "execute_result"
    }
   ],
   "source": [
    "me2.feature_importance(X_test)"
   ]
  },
  {
   "cell_type": "code",
   "execution_count": 21,
   "metadata": {},
   "outputs": [],
   "source": [
    "# gain_optuna = gain(me2.tansho_return_proper, X_test)\n",
    "# gain_optuna.to_pickle('gain_optuna.pickle')"
   ]
  },
  {
   "cell_type": "code",
   "execution_count": 22,
   "metadata": {},
   "outputs": [],
   "source": [
    "gain_optuna = pd.read_pickle('gain_optuna.pickle')"
   ]
  },
  {
   "cell_type": "code",
   "execution_count": 23,
   "metadata": {},
   "outputs": [
    {
     "data": {
      "image/png": "[encoded data removed]",
      "text/plain": [
       "<Figure size 720x576 with 1 Axes>"
      ]
     },
     "metadata": {
      "needs_background": "light"
     },
     "output_type": "display_data"
    }
   ],
   "source": [
    "plt.figure(figsize=(10, 8))\n",
    "gain_baseline.rename('baseline').plot(legend=True)\n",
    "gain_proper.rename('proper').plot(legend=True)\n",
    "gain_optuna.rename('optuna').plot(legend=True)\n",
    "plt.grid()"
   ]
  },
  {
   "cell_type": "code",
   "execution_count": 24,
   "metadata": {},
   "outputs": [
    {
     "data": {
      "text/plain": [
       "1.2570086534300338"
      ]
     },
     "execution_count": 24,
     "metadata": {},
     "output_type": "execute_result"
    }
   ],
   "source": [
    "gain_optuna.max()"
   ]
  },
  {
   "cell_type": "markdown",
   "metadata": {},
   "source": [
    "### 6．単勝以外の馬券"
   ]
  },
  {
   "cell_type": "code",
   "execution_count": 25,
   "metadata": {},
   "outputs": [
    {
     "data": {
      "text/plain": [
       "(13215.0, 0.636329928111994)"
      ]
     },
     "execution_count": 25,
     "metadata": {},
     "output_type": "execute_result"
    }
   ],
   "source": [
    "me3 = ModelEvaluator(lgb_clf, 'return_tables.pickle')\n",
    "me3.umaren_return(X_test)"
   ]
  },
  {
   "cell_type": "code",
   "execution_count": 26,
   "metadata": {},
   "outputs": [
    {
     "name": "stderr",
     "output_type": "stream",
     "text": [
      " 64%|██████▍   | 64/100 [03:43<01:22,  2.28s/it]C:\\Users\\y_ono\\Anaconda\\lib\\site-packages\\ipykernel_launcher.py:602: RuntimeWarning: invalid value encountered in double_scalars\n",
      "100%|██████████| 100/100 [04:54<00:00,  2.95s/it]\n"
     ]
    }
   ],
   "source": [
    "# gain_umaren = gain(me3.umaren_return, X_test)\n",
    "# gain_umaren.to_pickle('gain_umaren.pickle')"
   ]
  },
  {
   "cell_type": "code",
   "execution_count": 27,
   "metadata": {},
   "outputs": [],
   "source": [
    "gain_umaren= pd.read_pickle('gain_umaren.pickle')"
   ]
  },
  {
   "cell_type": "code",
   "execution_count": 28,
   "metadata": {},
   "outputs": [
    {
     "data": {
      "image/png": "[encoded data removed]",
      "text/plain": [
       "<Figure size 720x576 with 1 Axes>"
      ]
     },
     "metadata": {
      "needs_background": "light"
     },
     "output_type": "display_data"
    }
   ],
   "source": [
    "plt.figure(figsize=(10, 8))\n",
    "gain_optuna.rename('tansho').plot(legend=True)\n",
    "gain_umaren.rename('umaren').plot(legend=True)\n",
    "plt.grid()"
   ]
  },
  {
   "cell_type": "code",
   "execution_count": null,
   "metadata": {},
   "outputs": [],
   "source": []
  }
 ],
 "metadata": {
  "kernelspec": {
   "display_name": "Python 3",
   "language": "python",
   "name": "python3"
  },
  "language_info": {
   "codemirror_mode": {
    "name": "ipython",
    "version": 3
   },
   "file_extension": ".py",
   "mimetype": "text/x-python",
   "name": "python",
   "nbconvert_exporter": "python",
   "pygments_lexer": "ipython3",
   "version": "3.7.6"
  }
 },
 "nbformat": 4,
 "nbformat_minor": 4
}
