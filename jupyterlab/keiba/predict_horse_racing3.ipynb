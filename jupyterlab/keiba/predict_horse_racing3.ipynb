{
 "cells": [
  {
   "cell_type": "markdown",
   "metadata": {},
   "source": [
    "### 1．インポート"
   ]
  },
  {
   "cell_type": "code",
   "execution_count": 1,
   "metadata": {},
   "outputs": [],
   "source": [
    "import pandas as pd\n",
    "import numpy as np\n",
    "import matplotlib.pyplot as plt\n",
    "import re\n",
    "import time\n",
    "import datetime\n",
    "import requests\n",
    "from tqdm import tqdm\n",
    "from bs4 import BeautifulSoup\n",
    "from sklearn.metrics import roc_auc_score\n",
    "from sklearn.preprocessing import LabelEncoder\n",
    "import lightgbm as lgb\n",
    "from urllib.request import urlopen\n",
    "import optuna.integration.lightgbm as lgb_o\n",
    "from scipy.special import comb"
   ]
  },
  {
   "cell_type": "markdown",
   "metadata": {},
   "source": [
    "### 1.1　クラス"
   ]
  },
  {
   "cell_type": "code",
   "execution_count": 67,
   "metadata": {},
   "outputs": [],
   "source": [
    "# 訓練データと出馬表データを加工する抽象クラス\n",
    "class DataProcessor:\n",
    "    def __init__(self):\n",
    "        self.data = pd.DataFrame()\n",
    "        # preprocessing後の変数\n",
    "        self.data_p = pd.DataFrame()\n",
    "        # horse_resultsをmergeした後の変数\n",
    "        self.data_h = pd.DataFrame()\n",
    "        # pedsをmergeした後の変数\n",
    "        self.data_pe = pd.DataFrame()\n",
    "        # カテゴリ変数化した後の変数\n",
    "        self.data_c = pd.DataFrame()\n",
    "        \n",
    "    # 馬の過去成績データの追加\n",
    "    def merge_horse_results(self, hr, n_samples_list=[5, 9, 'all']):\n",
    "        self.data_h = self.data_p.copy()\n",
    "        for n_samples in n_samples_list:\n",
    "            self.data_h = hr.merge_all(self.data_h, n_samples=n_samples)\n",
    "        self.data_h.drop(['開催'], axis=1, inplace=True)\n",
    "            \n",
    "    # 血統データ追加\n",
    "    def merge_peds(self, peds):\n",
    "        self.data_pe = self.data_h.merge(peds, left_on='horse_id', right_index=True, how='left')\n",
    "        self.no_peds = self.data_pe[self.data_pe['peds_0'].isnull()]['horse_id'].unique()\n",
    "        if len(self.no_peds):\n",
    "            print('scrape peds at horse_id_list \"no_peds\"')\n",
    "    \n",
    "    # カテゴリ変数の処理\n",
    "    def process_categorical(self, le_horse, le_jockey, results_m):\n",
    "        df = self.data_pe.copy()\n",
    "        \n",
    "        # ラベルエンコーディング(horse_id, jockey_idを0始まりの整数に変換)\n",
    "        # horse_id\n",
    "        mask_horse = df['horse_id'].isin(le_horse.classes_)\n",
    "        new_horse_id = df['horse_id'].mask(mask_horse).dropna().unique()\n",
    "        le_horse.classes_ = np.concatenate([le_horse.classes_, new_horse_id])\n",
    "        df['horse_id'] = le_horse.transform(df['horse_id'])\n",
    "        \n",
    "        # jockey_id\n",
    "        mask_jockey = df['jockey_id'].isin(le_jockey.classes_)\n",
    "        new_jockey_id = df['jockey_id'].mask(mask_jockey).dropna().unique()\n",
    "        le_jockey.classes_ = np.concatenate([le_jockey.classes_, new_jockey_id])\n",
    "        df['jockey_id'] = le_jockey.transform(df['jockey_id'])\n",
    "        \n",
    "        # horse_id, jockey_idをcategory型に変換\n",
    "        df['horse_id'] = df['horse_id'].astype('category')\n",
    "        df['jockey_id'] = df['jockey_id'].astype('category')\n",
    "        \n",
    "        # そのほかのカテゴリ変数をcategory型に変換してからダミー変数化\n",
    "        weathers = results_m['weather'].unique()\n",
    "        race_types = results_m['race_type'].unique()\n",
    "        ground_states = results_m['ground_state'].unique()\n",
    "        sexes = results_m['性'].unique()\n",
    "        df['weather'] = pd.Categorical(df['weather'], weathers)\n",
    "        df['race_type'] = pd.Categorical(df['race_type'], race_types)\n",
    "        df['ground_state'] = pd.Categorical(df['ground_state'], ground_states)\n",
    "        df['性'] = pd.Categorical(df['性'], sexes)\n",
    "        \n",
    "        df = pd.get_dummies(df, columns=['weather', 'race_type', 'ground_state', '性'])  \n",
    "        self.data_c = df\n",
    "\n",
    "# 予測に使う出馬表データを加工するクラス\n",
    "class ShutubaTable(DataProcessor):\n",
    "    def __init__(self, shutuba_tables):\n",
    "        super(ShutubaTable, self).__init__()\n",
    "        self.data = shutuba_tables\n",
    "    \n",
    "    @classmethod\n",
    "    def scrape(cls, race_id_list, date):\n",
    "        data = pd.DataFrame()\n",
    "        for race_id in tqdm(race_id_list):\n",
    "            url = f'https://race.netkeiba.com/race/shutuba.html?race_id={race_id}'\n",
    "            df = pd.read_html(url)[0]\n",
    "            df = df.T.reset_index(level=0, drop=True).T\n",
    "\n",
    "            html = requests.get(url)\n",
    "            html.encoding = 'EUC-JP'\n",
    "            soup = BeautifulSoup(html.text, 'html.parser')\n",
    "\n",
    "            # race_data\n",
    "            texts = soup.find('div', attrs={'class': 'RaceData01'}).text\n",
    "            texts = re.findall(r'\\w+', texts)\n",
    "            for text in texts:\n",
    "                if 'm' in text:\n",
    "                    df['course_len'] = [int(re.findall(r'\\d+', text)[0])] * len(df)\n",
    "                if text in ['曇', '晴', '雨', '小雨', '小雪', '雪']:\n",
    "                    df['weather'] = [text] * len(df)\n",
    "                if text in ['良', '稍重', '重']:\n",
    "                    df['ground_state'] = [text] * len(df)\n",
    "                if '不' in text:\n",
    "                    df['ground_state'] = ['不良'] * len(df)\n",
    "                if '芝' in text:\n",
    "                    df['race_type'] = ['芝'] * len(df)\n",
    "                if '障' in text:\n",
    "                    df['race_type'] = ['障害'] * len(df)\n",
    "                if 'ダ' in text:\n",
    "                    df['race_type'] = ['ダート'] * len(df)\n",
    "            df['date'] = [date] * len(df)\n",
    "\n",
    "            # horse_id\n",
    "            horse_id_list = []\n",
    "            horse_td_list = soup.find_all('td', attrs={'class': 'HorseInfo'})\n",
    "            for td in horse_td_list:\n",
    "                horse_id = re.findall(r'\\d+', td.find('a')['href'])[0]\n",
    "                horse_id_list.append(horse_id)\n",
    "            df['horse_id'] = horse_id_list\n",
    "\n",
    "            # jockey_id\n",
    "            jockey_id_list = []\n",
    "            jockey_td_list = soup.find_all('td', attrs={'class': 'Jockey'})\n",
    "            for td in jockey_td_list:\n",
    "                jockey_id = re.findall(r'\\d+', td.find('a')['href'])[0]\n",
    "                jockey_id_list.append(jockey_id)\n",
    "            df['jockey_id'] = jockey_id_list\n",
    "\n",
    "            df.index = [race_id] * len(df)\n",
    "            data = data.append(df)\n",
    "            time.sleep(1)\n",
    "        \n",
    "        return cls(data)\n",
    "    \n",
    "    # 前処理\n",
    "    def preprocessing(self):\n",
    "        df = self.data.copy()\n",
    "        \n",
    "        # 性齢を性と年齢に分ける\n",
    "        df['性'] = df['性齢'].map(lambda x: str(x)[0])\n",
    "        df['年齢'] = df['性齢'].map(lambda x: str(x)[1:]).astype(int)\n",
    "\n",
    "        # 馬体重を体重と体重変化に分ける\n",
    "        df = df[df['馬体重(増減)'] != '--']\n",
    "        df['体重'] = df['馬体重(増減)'].str.split('(', expand=True)[0].astype(int)\n",
    "        df['体重変化'] = df['馬体重(増減)'].str.split('(', expand=True)[1].str[:-1].astype(int)\n",
    "        \n",
    "        # 日付をdatetime型に変更\n",
    "        df['date'] = pd.to_datetime(df['date'])\n",
    "\n",
    "        # データをint, floatに変換\n",
    "        df['枠'] = df['枠'].astype(int)\n",
    "        df['馬番'] = df['馬番'].astype(int)\n",
    "        df['斤量'] = df['斤量'].astype(int)\n",
    "\n",
    "    \n",
    "        # 必要な列だけにする\n",
    "        df = df[['枠', '馬番', '斤量', 'course_len', 'weather', 'race_type', 'ground_state', 'date', 'horse_id', 'jockey_id', '性', '年齢', '体重', '体重変化']]\n",
    "        df['開催'] = df.index.map(lambda x:str(x)[4:6])\n",
    "\n",
    "        self.data_p = df.rename(columns={'枠': '枠番'})\n",
    "\n",
    "# 訓練に使う過去レースデータを加工するクラス\n",
    "class Results(DataProcessor):\n",
    "    def __init__(self, results):\n",
    "        super(Results, self).__init__()\n",
    "        self.data = results\n",
    "    \n",
    "    @classmethod\n",
    "    def read_pickle(cls, path_list):\n",
    "        df = pd.read_pickle(path_list[0])\n",
    "        for path in path_list[1:]:\n",
    "            df = update_data(df, pd.read_pickle(path))\n",
    "        return cls(df)\n",
    "    \n",
    "    @staticmethod\n",
    "    def scrape(race_id_list):\n",
    "        # race_idをkeyにしてDataFrame型を格納\n",
    "        race_results = {}\n",
    "        for race_id in tqdm(race_id_list):\n",
    "            time.sleep(1)\n",
    "            try:\n",
    "                url = f'https://db.netkeiba.com/race/{race_id}'\n",
    "                # メインとなるテーブルデータを取得\n",
    "                df = pd.read_html(url)[0]\n",
    "\n",
    "                html = requests.get(url)\n",
    "                html.encoding = 'EUC-JP'\n",
    "                soup = BeautifulSoup(html.text, 'html.parser')\n",
    "\n",
    "                # 天候、レースの種類、コースの長さ、馬場の状態、日付をスクレイピング\n",
    "                texts = (\n",
    "                    soup.find('div', attrs={'class': 'data_intro'}).find_all('p')[0].text\n",
    "                    + soup.find('div', attrs={'class': 'data_intro'}).find_all('p')[1].text\n",
    "                )\n",
    "                info = re.findall(r'\\w+', texts)\n",
    "                for text in info:\n",
    "                    if text in ['芝', 'ダート']:\n",
    "                        df['race_type'] = [text] * len(df)\n",
    "                    if '障' in text:\n",
    "                        df['race_type'] = ['障害'] * len(df)\n",
    "                    if 'm' in text:\n",
    "                        df['course_len'] = [int(re.findall(r'\\d+', text)[0])] * len(df)\n",
    "                    if text in ['良', '稍重', '重', '不良']:\n",
    "                        df['ground_state'] = [text] * len(df)\n",
    "                    if text in ['曇', '晴', '雨', '小雨', '小雪', '雪']:\n",
    "                        df['weather'] = [text] * len(df)\n",
    "                    if '年' in text:\n",
    "                        df['date'] = [text] * len(df)\n",
    "\n",
    "                # 馬ID、騎手IDをスクレイピング\n",
    "                horse_id_list = []\n",
    "                horse_a_list = soup.find('table', attrs={'summary': 'レース結果'}).find_all('a', attrs={'href': re.compile('^/horse')})\n",
    "                for a in horse_a_list:\n",
    "                    horse_id = re.findall(r'\\d+', a['href'])\n",
    "                    horse_id_list.append(horse_id[0])\n",
    "                jockey_id_list = []\n",
    "                jockey_a_list = soup.find(\"table\", attrs={'summary': 'レース結果'}).find_all('a', attrs={'href': re.compile('^/jockey')})\n",
    "                for a in jockey_a_list:\n",
    "                    jockey_id = re.findall(r'\\d+', a['href'])\n",
    "                    jockey_id_list.append(jockey_id[0])\n",
    "                df['horse_id'] = horse_id_list\n",
    "                df['jockey_id'] = jockey_id_list\n",
    "\n",
    "                #インデックスをrace_idにする\n",
    "                df.index = [race_id] * len(df)\n",
    "\n",
    "                race_results[race_id] = df\n",
    "            # 存在しないrace_idを飛ばす\n",
    "            except IndexError:\n",
    "                continue\n",
    "            # wifiの接続が切れた時などでも途中までのデータを返せるようにする\n",
    "            except Exception as e:\n",
    "                print(e)\n",
    "                break\n",
    "            # Jupyterで停止ボタンを押した時の対処\n",
    "            except:\n",
    "                break\n",
    "\n",
    "        # pd.DataFrame型にして一つのデータにまとめる\n",
    "        race_results_df = pd.concat([race_results[key] for key in race_results])\n",
    "\n",
    "        return race_results_df\n",
    "    \n",
    "    # 前処理\n",
    "    def preprocessing(self):\n",
    "        df = self.data.copy()\n",
    "\n",
    "        # 着順に数字以外の文字列が含まれているものを取り除く\n",
    "        df['着順'] = pd.to_numeric(df['着順'], errors='coerce')\n",
    "        df.dropna(subset=['着順'], inplace=True)\n",
    "        df['着順'] = df['着順'].astype(int)\n",
    "        df['rank'] = df['着順'].map(lambda x: 1 if x < 4 else 0)\n",
    "\n",
    "        # 性齢を性と年齢に分ける\n",
    "        df['性'] = df['性齢'].map(lambda x: str(x)[0])\n",
    "        df['年齢'] = df['性齢'].map(lambda x: str(x)[1:]).astype(int)\n",
    "\n",
    "        # 馬体重を体重と体重変化に分ける\n",
    "        df['体重'] = df['馬体重'].str.split('(', expand=True)[0].astype(int)\n",
    "        df['体重変化'] = df['馬体重'].str.split('(', expand=True)[1].str[:-1].astype(int)\n",
    "\n",
    "        # データをint, floatに変換\n",
    "        df['単勝'] = df['単勝'].astype(float)\n",
    "        df['course_len'] = df['course_len'].astype(float) // 100\n",
    "\n",
    "        # 不要な列を削除\n",
    "        df.drop(['タイム', '着差', '調教師', '性齢', '馬体重', '馬名', '騎手', '人気', '着順'], axis=1, inplace=True)\n",
    "\n",
    "        df['date'] = pd.to_datetime(df['date'], format='%Y年%m月%d日')\n",
    "        \n",
    "        # 開催場所\n",
    "        df['開催'] = df.index.map(lambda x: str(x)[4:6])\n",
    "\n",
    "        self.data_p = df\n",
    "    \n",
    "    # カテゴリ変数の処理\n",
    "    def process_categorical(self):\n",
    "        self.le_horse = LabelEncoder().fit(self.data_pe['horse_id'])\n",
    "        self.le_jockey = LabelEncoder().fit(self.data_pe['jockey_id'])        \n",
    "        super().process_categorical(self.le_horse, self.le_jockey, self.data_pe)\n",
    "\n",
    "# 馬の過去成績データを処理するクラス\n",
    "class HorseResults:\n",
    "    def __init__(self, horse_results):\n",
    "        self.horse_results = horse_results[['日付', '着順', '賞金', '着差', '通過', '開催', '距離']]\n",
    "        self.preprocessing()\n",
    "    \n",
    "    @classmethod\n",
    "    def read_pickle(cls, path_list):\n",
    "        df = pd.read_pickle(path_list[0])\n",
    "        for path in path_list[1:]:\n",
    "            df = update_data(df, pd.read_pickle(path))\n",
    "        return cls(df)\n",
    "    \n",
    "    @staticmethod\n",
    "    def scrape(horse_id_list):\n",
    "        # horse_idをkeyにしてDataFrame型を格納\n",
    "        horse_results = {}\n",
    "        for horse_id in tqdm(horse_id_list):\n",
    "            try:\n",
    "                time.sleep(1)\n",
    "                url = f'https://db.netkeiba.com/horse/{horse_id}'\n",
    "                # メインとなるテーブルデータを取得\n",
    "                df = pd.read_html(url)[3]\n",
    "                # 受賞歴がある馬の場合、4番目に受賞歴テーブルが来るため、5番目のデータを取得する\n",
    "                if df.columns[0] == '受賞歴':\n",
    "                    df = pd.read_html(url)[4]\n",
    "                horse_results[horse_id] = df\n",
    "            except IndexError:\n",
    "                continue\n",
    "            except Exception as e:\n",
    "                print(e)\n",
    "                break\n",
    "            except:\n",
    "                break\n",
    "        \n",
    "        # pd.DataFrame型にして一つのデータにまとめる\n",
    "        horse_results_df = pd.concat([horse_results[key] for key in horse_results])\n",
    "        \n",
    "        return horse_results_df\n",
    "        \n",
    "    def preprocessing(self):\n",
    "        df = self.horse_results.copy()\n",
    "        \n",
    "        # 着順に数字以外の文字列が含まれているものを取り除く\n",
    "        df['着順'] = pd.to_numeric(df['着順'], errors='coerce')\n",
    "        df.dropna(subset=['着順'], inplace=True)\n",
    "        df['着順'] = df['着順'].astype(int)\n",
    "        \n",
    "        df['date'] = pd.to_datetime(df['日付'])\n",
    "        df.drop(['日付'], axis=1, inplace=True)\n",
    "        \n",
    "        # 賞金の欠損値を0で埋める\n",
    "        df['賞金'].fillna(0, inplace=True)\n",
    "        \n",
    "        # 1着の着差を0にする\n",
    "        df['着差'] = df['着差'].map(lambda x: 0 if x < 0 else x)\n",
    "                                            \n",
    "        # レース展開データ\n",
    "        def corner(x, n):\n",
    "            if type(x) != str:\n",
    "                return x\n",
    "            # n=1: 最初のコーナー位置、n=4: 最終コーナー位置\n",
    "            if n == 1:\n",
    "                return int(re.findall(r'\\d+', x)[0])\n",
    "            if n == 4:\n",
    "                return int(re.findall(r'\\d+', x)[-1])\n",
    "                                            \n",
    "        df['first_corner'] = df['通過'].map(lambda x: corner(x, 1))\n",
    "        df['final_corner'] = df['通過'].map(lambda x: corner(x, 4))\n",
    "        \n",
    "        df['final_to_rank'] = df['final_corner'] - df['着順']\n",
    "        df['first_to_rank'] = df['first_corner'] - df['着順']\n",
    "        df['first_to_final'] = df['first_corner'] - df['final_corner']\n",
    "        \n",
    "        # 開催場所\n",
    "        df['開催'] = df['開催'].str.extract(r'(\\D+)')[0].map(place_dict).fillna('11')\n",
    "        # race_type\n",
    "        df['race_type'] = df['距離'].str.extract(r'(\\D+)')[0].map(race_type_dict)\n",
    "        # 距離\n",
    "        df['course_len'] = df['距離'].str.extract(r'(\\d+)').astype(int) // 100\n",
    "        df.drop(['距離'], axis=1, inplace=True)\n",
    "        \n",
    "        # インデックス名を与える\n",
    "        df.index.name = 'horse_id'\n",
    "        \n",
    "        self.horse_results = df\n",
    "        self.target_list = ['着順', '賞金', '着差', 'first_corner', 'final_corner', 'final_to_rank', 'first_to_rank', 'first_to_final']\n",
    "    \n",
    "    def average(self, horse_id_list, date, n_samples='all'):\n",
    "        target_df = self.horse_results.query('index in @horse_id_list')\n",
    "        \n",
    "        # 過去何走分取り出すか指定\n",
    "        if n_samples == 'all':\n",
    "            filtered_df = target_df[target_df['date'] < date]\n",
    "        elif n_samples > 0:\n",
    "            filtered_df = target_df[target_df['date'] < date].sort_values('date', ascending=False).groupby(level=0).head(n_samples)\n",
    "        else:\n",
    "            raise Exception('n_samples must be integer')\n",
    "        \n",
    "        self.average_dict = {}\n",
    "        self.average_dict['non_category'] = filtered_df.groupby(level=0)[self.target_list].mean().add_suffix(f'_{n_samples}R')\n",
    "        for column in ['course_len', 'race_type', '開催']:\n",
    "            self.average_dict[column] = filtered_df.groupby(['horse_id', column])[self.target_list].mean().add_suffix(f'_{column}_{n_samples}R')\n",
    "    \n",
    "    def merge(self, results, date, n_samples='all'):\n",
    "        df = results[results['date'] == date]\n",
    "        horse_id_list = df['horse_id']\n",
    "        self.average(horse_id_list, date, n_samples)\n",
    "        merged_df = df.merge(self.average_dict['non_category'], left_on='horse_id', right_index=True, how='left')\n",
    "        for column in ['course_len', 'race_type', '開催']:\n",
    "            merged_df = merged_df.merge(self.average_dict[column], left_on=['horse_id', column], right_index=True, how='left')\n",
    "        return merged_df\n",
    "    \n",
    "    def merge_all(self, results, n_samples='all'):\n",
    "        date_list = results['date'].unique()\n",
    "        merged_df = pd.concat([self.merge(results, date, n_samples) for date in date_list])\n",
    "        return merged_df\n",
    "\n",
    "# 血統データを処理するクラス\n",
    "class Peds:\n",
    "    def __init__(self, peds):\n",
    "        self.peds = peds\n",
    "        # LabelEncodingしてcategory型にした変数\n",
    "        self.peds_e = pd.DataFrame()\n",
    "    \n",
    "    @classmethod\n",
    "    def read_pickle(cls, path_list):\n",
    "        df = pd.read_pickle(path_list[0])\n",
    "        for path in path_list[1:]:\n",
    "            df = update_data(df, pd.read_pickle(path))\n",
    "        return cls(df)\n",
    "    \n",
    "    @staticmethod\n",
    "    def scrape(horse_id_list):\n",
    "        # 血統データを取り出す\n",
    "        peds_dict = {}\n",
    "        for horse_id in tqdm(horse_id_list):\n",
    "            try:\n",
    "                url = f'https://db.netkeiba.com/horse/ped/{horse_id}'\n",
    "                df = pd.read_html(url)[0]\n",
    "\n",
    "                # 重複を削除して1列のSeries型データに治す\n",
    "                generations = {}\n",
    "                for i in reversed(range(5)):\n",
    "                    generations[i] = df[i]\n",
    "                    df.drop([i], axis=1, inplace=True)\n",
    "                    df = df.drop_duplicates()\n",
    "\n",
    "                ped = pd.concat([generations[i] for i in range(5)]).rename(horse_id)\n",
    "                peds_dict[horse_id] = ped.reset_index(drop=True)\n",
    "                time.sleep(1)\n",
    "            except IndexError:\n",
    "                continue\n",
    "            except Exception as e:\n",
    "                print(e)\n",
    "                break\n",
    "            except:\n",
    "                break\n",
    "        \n",
    "        # 列名をpeds_0, ..., peds_61にする\n",
    "        peds_df = pd.concat([peds_dict[key] for key in peds_dict], axis=1).T.add_prefix('peds_')\n",
    "        \n",
    "        return peds_df\n",
    "    \n",
    "    def encode(self):\n",
    "        df = self.peds.copy()\n",
    "        for column in df.columns:\n",
    "            df[column] = LabelEncoder().fit_transform(df[column].fillna('Na'))\n",
    "        self.peds_e = df.astype('category')\n",
    "\n",
    "# 払い戻しデータを加工するクラス\n",
    "class Return:\n",
    "    def __init__(self, return_tables):\n",
    "        self.return_tables = return_tables\n",
    "    \n",
    "    @classmethod\n",
    "    def read_pickle(cls, path_list):\n",
    "        df = pd.read_pickle(path_list[0])\n",
    "        for path in path_list[1:]:\n",
    "            df = update_data(df, pd.read_pickle(path))\n",
    "        return cls(df)\n",
    "    \n",
    "    @staticmethod\n",
    "    def scrape(race_id_list):\n",
    "        return_tables = {}\n",
    "        for race_id in tqdm(race_id_list):\n",
    "            try:\n",
    "                url = f'https://db.netkeiba.com/race/{race_id}'\n",
    "\n",
    "                # 複勝やワイドなどが区切られてしまうため、改行コードを文字列に変換して後でsplitする\n",
    "                f = urlopen(url)\n",
    "                html = f.read()\n",
    "                html = html.replace(b'<br />', b'br')            \n",
    "                dfs = pd.read_html(html)\n",
    "\n",
    "                # dfsの2番目に単勝～馬連、3番目にワイド～3連単がある\n",
    "                df = pd.concat([dfs[1], dfs[2]])\n",
    "                \n",
    "                df.index = [race_id] * len(df)\n",
    "                return_tables[race_id] = df\n",
    "                time.sleep(1)\n",
    "            except IndexError:\n",
    "                continue\n",
    "            except Exception as e:\n",
    "                print(e)\n",
    "                break\n",
    "            except:\n",
    "                break\n",
    "        \n",
    "        # pd.DataFrame型にして一つのデータにまとめる\n",
    "        return_tables_df = pd.concat([return_tables[key] for key in return_tables])\n",
    "        \n",
    "        return return_tables_df\n",
    "    \n",
    "    @property\n",
    "    def fukusho(self):\n",
    "        # 複勝の勝ち馬と払い戻しのデータを取り出す\n",
    "        fukusho = self.return_tables[self.return_tables[0] == '複勝'][[1, 2]]\n",
    "        \n",
    "        # 勝ち馬\n",
    "        wins = fukusho[1].str.split('br', expand=True)[[0, 1, 2]]\n",
    "        wins.columns = ['win_0', 'win_1', 'win_2']\n",
    "        \n",
    "        # 払い戻し\n",
    "        returns = fukusho[2].str.split('br', expand=True)[[0, 1, 2]]\n",
    "        returns.columns = ['return_0', 'return_1', 'return_2']\n",
    "        \n",
    "        df = pd.concat([wins, returns], axis=1)\n",
    "        \n",
    "        # int型に変換できないデータがあるので処理\n",
    "        for column in df.columns:\n",
    "            df[column] = df[column].str.replace(',', '')\n",
    "            \n",
    "        df = df.fillna(0).astype(int)\n",
    "        \n",
    "        return df\n",
    "    \n",
    "    @property\n",
    "    def tansho(self):\n",
    "        tansho = self.return_tables[self.return_tables[0] == '単勝'][[1, 2]]\n",
    "        tansho.columns = ['win', 'return']\n",
    "        \n",
    "        for column in tansho.columns:\n",
    "            tansho[column] = pd.to_numeric(tansho[column], errors='coerce')\n",
    "            \n",
    "        return tansho\n",
    "    \n",
    "    @property\n",
    "    def umaren(self):\n",
    "        umaren = self.return_tables[self.return_tables[0] == '馬連'][[1, 2]]\n",
    "        wins = umaren[1].str.split('-', expand=True)[[0, 1]].add_prefix('win_')\n",
    "        return_ = umaren[2].rename('return')\n",
    "        df = pd.concat([wins, return_], axis=1)      \n",
    "        df = df.apply(lambda x: pd.to_numeric(x, errors='coerce'))\n",
    "        \n",
    "        return df\n",
    "\n",
    "# 予測モデルを評価するクラス\n",
    "class ModelEvaluator:\n",
    "    def __init__(self, model, return_tables_path, std=True):\n",
    "        self.model = model\n",
    "        self.rt = Return.read_pickle([return_tables_path])\n",
    "        self.fukusho = self.rt.fukusho\n",
    "        self.tansho = self.rt.tansho\n",
    "        self.umaren = self.rt.umaren\n",
    "        self.std = std\n",
    "        \n",
    "    def predict_proba(self, x):\n",
    "        # 1（3着以内）になる確率を予測\n",
    "        proba = pd.Series(self.model.predict_proba(x.drop(['単勝'], axis=1))[:, 1], index=x.index)\n",
    "        if self.std:\n",
    "            # 標準化：レース内で相対評価する\n",
    "            standard_scaler = lambda x: (x - x.mean()) / x.std()\n",
    "            proba = proba.groupby(level=0).transform(standard_scaler)\n",
    "            # MinMaxスケーリング：データを0から1にする\n",
    "            proba = (proba - proba.min()) / (proba.max() - proba.min())\n",
    "        return proba\n",
    "    \n",
    "    def predict(self, x, threshold=0.5):\n",
    "        # thresholdの値によってpredict_probaで出した値を0か1に決定する\n",
    "        y_pred = self.predict_proba(x)\n",
    "        return [0 if p < threshold else 1 for p in y_pred]\n",
    "    \n",
    "    def score(self, y_true, x):\n",
    "        # スコアを表示\n",
    "        return roc_auc_score(y_true, self.predict_proba(x))\n",
    "    \n",
    "    def feature_importance(self, x, n_display=20):\n",
    "        # 変数の重要度を出力\n",
    "        importances = pd.DataFrame(\n",
    "            {\"features\": x.columns, \"importance\": self.model.feature_importances_}\n",
    "        )\n",
    "        return importances.sort_values('importance', ascending=False)[:n_display]\n",
    "    \n",
    "    def pred_table(self, x, threshold=0.5, bet_only=True):\n",
    "        # 予測したレースIDと馬番を出力する\n",
    "        pred_table = x.copy()[['馬番', '単勝']]\n",
    "        pred_table['pred'] = self.predict(x, threshold)\n",
    "        \n",
    "        if bet_only:\n",
    "            return pred_table[pred_table['pred'] == 1][['馬番', '単勝']]\n",
    "        \n",
    "        return pred_table\n",
    "    \n",
    "    def fukusho_return(self, x, threshold=0.5):\n",
    "        # 複勝の払い戻しを表示\n",
    "        pred_table = self.pred_table(x, threshold)\n",
    "        n_bets = len(pred_table)\n",
    "        money = -100 * n_bets\n",
    "        df = self.fukusho.copy()\n",
    "        df = df.merge(pred_table, left_index=True, right_index=True, how='right')\n",
    "        for i in range(3):\n",
    "            money += df[df[f'win_{i}'] == df['馬番']][f'return_{i}'].sum()\n",
    "        return_rate = (n_bets * 100 + money) / (n_bets * 100)\n",
    "        return n_bets, return_rate\n",
    "    \n",
    "    def tansho_return(self, x, threshold=0.5):\n",
    "        # 単勝の払い戻しを表示\n",
    "        pred_table = self.pred_table(x, threshold)\n",
    "        n_bets = len(pred_table)\n",
    "        n_races = pred_table.index.nunique()\n",
    "        \n",
    "        money = -100 * n_bets\n",
    "        df = self.tansho.copy()\n",
    "        df = df.merge(pred_table, left_index=True, right_index=True, how='right')\n",
    "        \n",
    "        std = ((df['win'] == df['馬番']) * df['return']).groupby(level=0).sum().std() * np.sqrt(n_races) / (100 * n_bets)\n",
    "        \n",
    "        n_hits = len(df[df['win'] == df['馬番']])\n",
    "        money += df[df['win'] == df['馬番']]['return'].sum()\n",
    "        return_rate = (n_bets * 100 + money) / (n_bets * 100)\n",
    "        return n_bets, return_rate, n_hits, std\n",
    "    \n",
    "    def tansho_return_proper(self, x, threshold=0.5):\n",
    "        # モデルによって「賭ける」と判断された馬たち\n",
    "        pred_table = self.pred_table(x, threshold)\n",
    "        n_bets = len(pred_table)\n",
    "        n_races = pred_table.index.nunique()\n",
    "        \n",
    "        # 払い戻し表にpred_tableをマージ\n",
    "        df = self.tansho.copy()\n",
    "        df = df.merge(pred_table, left_index=True, right_index=True, how='right')\n",
    "        \n",
    "        bet_money = (1 / pred_table['単勝']).sum()\n",
    "        \n",
    "        std = ((df['win'] == df['馬番']).astype(int)).groupby(level=0).sum().std() * np.sqrt(n_races) / bet_money\n",
    "        \n",
    "        # 単勝適正回収値を計算\n",
    "        n_hits = len(df.query('win == 馬番'))\n",
    "        return_rate = n_hits / bet_money\n",
    "        \n",
    "        return n_bets, return_rate, n_hits, std\n",
    "    \n",
    "    def umaren_return(self, x, threshold=0.5):\n",
    "        pred_table = self.pred_table(x, threshold)\n",
    "        hit = {}\n",
    "        n_bets = 0\n",
    "        for race_id, preds in pred_table.groupby(level=0):\n",
    "            n_bets += comb(len(preds, 2))\n",
    "            hit[race_id] = set(self.umaren.loc[race_id][['win_0', 'win_1']]).issubset(set(preds))\n",
    "        return_rate = self.umaren.index.map(hit).values * self.umaren['return'].sum() / (n_bets * 100)\n",
    "        return n_bets, return_rate"
   ]
  },
  {
   "cell_type": "markdown",
   "metadata": {},
   "source": [
    "### 1.2　その他の定義"
   ]
  },
  {
   "cell_type": "markdown",
   "metadata": {},
   "source": [
    "### 2．前処理"
   ]
  },
  {
   "cell_type": "code",
   "execution_count": 49,
   "metadata": {},
   "outputs": [],
   "source": [
    "# 時系列に沿って訓練データとテストデータに分ける関数\n",
    "def split_data(df, test_size=0.3):\n",
    "    sorted_id_list = df.sort_values('date').index.unique()   \n",
    "    train_id_list = sorted_id_list[:round(len(sorted_id_list) * (1 - test_size))]\n",
    "    test_id_list = sorted_id_list[round(len(sorted_id_list) * (1 - test_size)):]\n",
    "    train = df.loc[train_id_list]#.drop(['date'], axis=1)\n",
    "    test = df.loc[test_id_list]#.drop(['date'], axis=1)\n",
    "    return train, test\n",
    "\n",
    "# 回収率を計算する関数\n",
    "def gain(return_func, x, n_samples=100, min_threshold=0.5):\n",
    "    gain = {}\n",
    "    for i in tqdm(range(n_samples)):\n",
    "        threshold = (i / n_samples) + (min_threshold * (1 - (i / n_samples)))\n",
    "        n_bets, return_rate, n_hits, std = return_func(x, threshold)\n",
    "        if n_bets > 2:\n",
    "            gain[n_bets] = {'return_rate': return_rate, 'n_hits': n_hits, 'std': std}\n",
    "    return pd.DataFrame(gain).T\n",
    "\n",
    "# 重複のないデータを作成する関数\n",
    "def update_data(old, new):\n",
    "    filtered_old = old[~old.index.isin(new.index)]\n",
    "    return pd.concat([filtered_old, new])\n",
    "\n",
    "place_dict = {\n",
    "    '札幌': '01', '函館': '02', '福島': '03', '新潟': '04', '東京': '05',\n",
    "    '中山': '06', '中京': '07', '京都': '08', '阪神': '09', '小倉': '10'\n",
    "}\n",
    "\n",
    "race_type_dict = {\n",
    "    '芝': '芝', 'ダ': 'ダート', '障': '障害'\n",
    "}"
   ]
  },
  {
   "cell_type": "code",
   "execution_count": 4,
   "metadata": {},
   "outputs": [],
   "source": [
    "r = Results.read_pickle(['results.pickle'])\n",
    "\n",
    "# 前処理\n",
    "r.preprocessing()\n",
    "\n",
    "# 馬の過去成績データの追加\n",
    "hr = HorseResults.read_pickle(['horse_results.pickle'])\n",
    "r.merge_horse_results(hr)\n",
    "\n",
    "# 5世代分の血統データの追加\n",
    "p = Peds.read_pickle(['peds.pickle'])\n",
    "p.encode()\n",
    "r.merge_peds(p.peds_e)\n",
    "\n",
    "# カテゴリ変数の処理\n",
    "r.process_categorical()"
   ]
  },
  {
   "cell_type": "code",
   "execution_count": null,
   "metadata": {},
   "outputs": [],
   "source": [
    "r.data_h"
   ]
  },
  {
   "cell_type": "markdown",
   "metadata": {},
   "source": [
    "### 3．予測"
   ]
  },
  {
   "cell_type": "code",
   "execution_count": 16,
   "metadata": {},
   "outputs": [],
   "source": [
    "# 時系列に沿って訓練データとテストデータに分ける\n",
    "train, test = split_data(r.data_c)\n",
    "X_train = train.drop(['rank', 'date', '単勝'], axis=1)\n",
    "y_train = train['rank']\n",
    "X_test = test.drop(['rank', 'date'], axis=1)\n",
    "y_test = test['rank']"
   ]
  },
  {
   "cell_type": "code",
   "execution_count": null,
   "metadata": {},
   "outputs": [],
   "source": [
    "params = {\n",
    "    'num_leaves': 4,\n",
    "    'n_estimators': 80,\n",
    "    'class_weight': 'balanced',\n",
    "    'random_state': 100\n",
    "}\n",
    "\n",
    "lgb_clf = lgb.LGBMClassifier(**params)\n",
    "lgb_clf.fit(X_train.values, y_train.values)"
   ]
  },
  {
   "cell_type": "code",
   "execution_count": null,
   "metadata": {},
   "outputs": [],
   "source": [
    "me = ModelEvaluator(lgb_clf, 'return_tables.pickle')"
   ]
  },
  {
   "cell_type": "code",
   "execution_count": null,
   "metadata": {},
   "outputs": [],
   "source": [
    "# gain_baseline = gain(me.tansho_return, X_test)\n",
    "# gain_baseline.to_pickle('gain_baseline.pickle')"
   ]
  },
  {
   "cell_type": "code",
   "execution_count": null,
   "metadata": {},
   "outputs": [],
   "source": [
    "gain_baseline = pd.read_pickle('gain_baseline.pickle')"
   ]
  },
  {
   "cell_type": "markdown",
   "metadata": {},
   "source": [
    "#### 4．単勝適性回収値\n",
    "常に払戻額が一定になるように単勝で賭けた場合の回収率<br>\n",
    "払戻額が常に1万円になるように賭けてみる"
   ]
  },
  {
   "cell_type": "markdown",
   "metadata": {},
   "source": [
    "賭けた金額<br>\n",
    "x円賭けるとすると<br>\n",
    "$$\n",
    "各馬番の単勝オッズ \\times \\frac{x}{100} = 10000 \\\\\n",
    "\\therefore \\quad x = \\frac{100 \\times 10000}{各馬番の単勝オッズ}\n",
    "$$"
   ]
  },
  {
   "cell_type": "markdown",
   "metadata": {},
   "source": [
    "回収率 = 払戻額 / 賭けた金額"
   ]
  },
  {
   "cell_type": "code",
   "execution_count": null,
   "metadata": {},
   "outputs": [],
   "source": [
    "# gain_proper = gain(me.tansho_return_proper, X_test)\n",
    "# gain_proper.to_pickle('gain_proper.pickle')"
   ]
  },
  {
   "cell_type": "code",
   "execution_count": null,
   "metadata": {},
   "outputs": [],
   "source": [
    "gain_proper = pd.read_pickle('gain_proper.pickle')"
   ]
  },
  {
   "cell_type": "code",
   "execution_count": null,
   "metadata": {},
   "outputs": [],
   "source": [
    "plt.figure(figsize=(10, 8))\n",
    "gain_baseline.rename('baseline').plot(legend=True)\n",
    "gain_proper.rename('proper').plot(legend=True)\n",
    "plt.grid()"
   ]
  },
  {
   "cell_type": "markdown",
   "metadata": {},
   "source": [
    "### 5．Optuna"
   ]
  },
  {
   "cell_type": "code",
   "execution_count": 8,
   "metadata": {},
   "outputs": [],
   "source": [
    "# 訓練データ、検証データ、テストデータに分ける\n",
    "train, test = split_data(r.data_c)\n",
    "train, valid = split_data(train)"
   ]
  },
  {
   "cell_type": "code",
   "execution_count": 9,
   "metadata": {},
   "outputs": [],
   "source": [
    "# 説明変数と目的変数に分ける\n",
    "X_train = train.drop(['rank', 'date'], axis=1)\n",
    "y_train = train['rank']\n",
    "X_valid = valid.drop(['rank', 'date'], axis=1)\n",
    "y_valid = valid['rank']\n",
    "X_test = test.drop(['rank', 'date'], axis=1)\n",
    "y_test = test['rank']"
   ]
  },
  {
   "cell_type": "code",
   "execution_count": 10,
   "metadata": {},
   "outputs": [
    {
     "name": "stderr",
     "output_type": "stream",
     "text": [
      "\u001b[32m[I 2022-03-26 14:19:05,321]\u001b[0m A new study created in memory with name: no-name-62093303-7f95-48de-b339-ebc76b1b2d5e\u001b[0m\n",
      "feature_fraction, val_score: inf:   0%|          | 0/7 [00:00<?, ?it/s]"
     ]
    },
    {
     "name": "stdout",
     "output_type": "stream",
     "text": [
      "Training until validation scores don't improve for 10 rounds\n"
     ]
    },
    {
     "name": "stderr",
     "output_type": "stream",
     "text": [
      "feature_fraction, val_score: 0.410068:  14%|#4        | 1/7 [00:05<00:32,  5.34s/it]\u001b[32m[I 2022-03-26 14:19:10,675]\u001b[0m Trial 0 finished with value: 0.4100680313900418 and parameters: {'feature_fraction': 0.8}. Best is trial 0 with value: 0.4100680313900418.\u001b[0m\n",
      "feature_fraction, val_score: 0.410068:  14%|#4        | 1/7 [00:05<00:32,  5.34s/it]"
     ]
    },
    {
     "name": "stdout",
     "output_type": "stream",
     "text": [
      "Early stopping, best iteration is:\n",
      "[40]\tvalid_0's binary_logloss: 0.38361\tvalid_1's binary_logloss: 0.410068\n",
      "Training until validation scores don't improve for 10 rounds\n"
     ]
    },
    {
     "name": "stderr",
     "output_type": "stream",
     "text": [
      "feature_fraction, val_score: 0.410068:  29%|##8       | 2/7 [00:10<00:26,  5.38s/it]\u001b[32m[I 2022-03-26 14:19:16,157]\u001b[0m Trial 1 finished with value: 0.4116700711561412 and parameters: {'feature_fraction': 0.6}. Best is trial 0 with value: 0.4100680313900418.\u001b[0m\n",
      "feature_fraction, val_score: 0.410068:  29%|##8       | 2/7 [00:10<00:26,  5.38s/it]"
     ]
    },
    {
     "name": "stdout",
     "output_type": "stream",
     "text": [
      "Early stopping, best iteration is:\n",
      "[52]\tvalid_0's binary_logloss: 0.378171\tvalid_1's binary_logloss: 0.41167\n",
      "Training until validation scores don't improve for 10 rounds\n"
     ]
    },
    {
     "name": "stderr",
     "output_type": "stream",
     "text": [
      "feature_fraction, val_score: 0.410068:  43%|####2     | 3/7 [00:16<00:21,  5.47s/it]\u001b[32m[I 2022-03-26 14:19:21,824]\u001b[0m Trial 2 finished with value: 0.4104894616626548 and parameters: {'feature_fraction': 1.0}. Best is trial 0 with value: 0.4100680313900418.\u001b[0m\n",
      "feature_fraction, val_score: 0.410068:  43%|####2     | 3/7 [00:16<00:21,  5.47s/it]"
     ]
    },
    {
     "name": "stdout",
     "output_type": "stream",
     "text": [
      "Early stopping, best iteration is:\n",
      "[34]\tvalid_0's binary_logloss: 0.387415\tvalid_1's binary_logloss: 0.410489\n",
      "Training until validation scores don't improve for 10 rounds\n"
     ]
    },
    {
     "name": "stderr",
     "output_type": "stream",
     "text": [
      "feature_fraction, val_score: 0.410068:  57%|#####7    | 4/7 [00:21<00:16,  5.41s/it]\u001b[32m[I 2022-03-26 14:19:27,115]\u001b[0m Trial 3 finished with value: 0.41027085298611154 and parameters: {'feature_fraction': 0.7}. Best is trial 0 with value: 0.4100680313900418.\u001b[0m\n",
      "feature_fraction, val_score: 0.410068:  57%|#####7    | 4/7 [00:21<00:16,  5.41s/it]"
     ]
    },
    {
     "name": "stdout",
     "output_type": "stream",
     "text": [
      "Early stopping, best iteration is:\n",
      "[42]\tvalid_0's binary_logloss: 0.383573\tvalid_1's binary_logloss: 0.410271\n",
      "Training until validation scores don't improve for 10 rounds\n"
     ]
    },
    {
     "name": "stderr",
     "output_type": "stream",
     "text": [
      "feature_fraction, val_score: 0.410068:  71%|#######1  | 5/7 [00:27<00:11,  5.63s/it]\u001b[32m[I 2022-03-26 14:19:33,250]\u001b[0m Trial 4 finished with value: 0.410846847732744 and parameters: {'feature_fraction': 0.8999999999999999}. Best is trial 0 with value: 0.4100680313900418.\u001b[0m\n",
      "feature_fraction, val_score: 0.410068:  71%|#######1  | 5/7 [00:27<00:11,  5.63s/it]"
     ]
    },
    {
     "name": "stdout",
     "output_type": "stream",
     "text": [
      "Early stopping, best iteration is:\n",
      "[36]\tvalid_0's binary_logloss: 0.386313\tvalid_1's binary_logloss: 0.410847\n",
      "Training until validation scores don't improve for 10 rounds\n"
     ]
    },
    {
     "name": "stderr",
     "output_type": "stream",
     "text": [
      "feature_fraction, val_score: 0.410068:  86%|########5 | 6/7 [00:33<00:05,  5.64s/it]\u001b[32m[I 2022-03-26 14:19:38,923]\u001b[0m Trial 5 finished with value: 0.4113185925228599 and parameters: {'feature_fraction': 0.5}. Best is trial 0 with value: 0.4100680313900418.\u001b[0m\n",
      "feature_fraction, val_score: 0.410068:  86%|########5 | 6/7 [00:33<00:05,  5.64s/it]"
     ]
    },
    {
     "name": "stdout",
     "output_type": "stream",
     "text": [
      "Early stopping, best iteration is:\n",
      "[55]\tvalid_0's binary_logloss: 0.376871\tvalid_1's binary_logloss: 0.411319\n",
      "Training until validation scores don't improve for 10 rounds\n"
     ]
    },
    {
     "name": "stderr",
     "output_type": "stream",
     "text": [
      "feature_fraction, val_score: 0.410068: 100%|##########| 7/7 [00:38<00:00,  5.38s/it]\u001b[32m[I 2022-03-26 14:19:43,695]\u001b[0m Trial 6 finished with value: 0.4110749945068864 and parameters: {'feature_fraction': 0.4}. Best is trial 0 with value: 0.4100680313900418.\u001b[0m\n",
      "feature_fraction, val_score: 0.410068: 100%|##########| 7/7 [00:38<00:00,  5.48s/it]\n",
      "num_leaves, val_score: 0.410068:   0%|          | 0/20 [00:00<?, ?it/s]"
     ]
    },
    {
     "name": "stdout",
     "output_type": "stream",
     "text": [
      "Early stopping, best iteration is:\n",
      "[54]\tvalid_0's binary_logloss: 0.379325\tvalid_1's binary_logloss: 0.411075\n",
      "Training until validation scores don't improve for 10 rounds\n"
     ]
    },
    {
     "name": "stderr",
     "output_type": "stream",
     "text": [
      "num_leaves, val_score: 0.408526:   5%|5         | 1/20 [00:04<01:18,  4.11s/it]\u001b[32m[I 2022-03-26 14:19:47,824]\u001b[0m Trial 7 finished with value: 0.40852637663284425 and parameters: {'num_leaves': 8}. Best is trial 7 with value: 0.40852637663284425.\u001b[0m\n",
      "num_leaves, val_score: 0.408526:   5%|5         | 1/20 [00:04<01:18,  4.11s/it]"
     ]
    },
    {
     "name": "stdout",
     "output_type": "stream",
     "text": [
      "Early stopping, best iteration is:\n",
      "[55]\tvalid_0's binary_logloss: 0.40478\tvalid_1's binary_logloss: 0.408526\n",
      "Training until validation scores don't improve for 10 rounds\n"
     ]
    },
    {
     "name": "stderr",
     "output_type": "stream",
     "text": [
      "num_leaves, val_score: 0.408526:  10%|#         | 2/20 [00:09<01:21,  4.55s/it]\u001b[32m[I 2022-03-26 14:19:53,399]\u001b[0m Trial 8 finished with value: 0.41076405210196876 and parameters: {'num_leaves': 35}. Best is trial 7 with value: 0.40852637663284425.\u001b[0m\n",
      "num_leaves, val_score: 0.408526:  10%|#         | 2/20 [00:09<01:21,  4.55s/it]"
     ]
    },
    {
     "name": "stdout",
     "output_type": "stream",
     "text": [
      "Early stopping, best iteration is:\n",
      "[39]\tvalid_0's binary_logloss: 0.380665\tvalid_1's binary_logloss: 0.410764\n",
      "Training until validation scores don't improve for 10 rounds\n"
     ]
    },
    {
     "name": "stderr",
     "output_type": "stream",
     "text": [
      "num_leaves, val_score: 0.408526:  15%|#5        | 3/20 [00:20<01:50,  6.50s/it]\u001b[32m[I 2022-03-26 14:20:04,445]\u001b[0m Trial 9 finished with value: 0.4184209751111451 and parameters: {'num_leaves': 245}. Best is trial 7 with value: 0.40852637663284425.\u001b[0m\n",
      "num_leaves, val_score: 0.408526:  15%|#5        | 3/20 [00:20<01:50,  6.50s/it]"
     ]
    },
    {
     "name": "stdout",
     "output_type": "stream",
     "text": [
      "Early stopping, best iteration is:\n",
      "[26]\tvalid_0's binary_logloss: 0.291544\tvalid_1's binary_logloss: 0.418421\n",
      "Training until validation scores don't improve for 10 rounds\n"
     ]
    },
    {
     "name": "stderr",
     "output_type": "stream",
     "text": [
      "num_leaves, val_score: 0.408526:  20%|##        | 4/20 [00:32<02:07,  7.97s/it]\u001b[32m[I 2022-03-26 14:20:15,836]\u001b[0m Trial 10 finished with value: 0.4187379087698555 and parameters: {'num_leaves': 236}. Best is trial 7 with value: 0.40852637663284425.\u001b[0m\n",
      "num_leaves, val_score: 0.408526:  20%|##        | 4/20 [00:32<02:07,  7.97s/it]"
     ]
    },
    {
     "name": "stdout",
     "output_type": "stream",
     "text": [
      "Early stopping, best iteration is:\n",
      "[23]\tvalid_0's binary_logloss: 0.307383\tvalid_1's binary_logloss: 0.418738\n",
      "Training until validation scores don't improve for 10 rounds\n"
     ]
    },
    {
     "name": "stderr",
     "output_type": "stream",
     "text": [
      "num_leaves, val_score: 0.408526:  25%|##5       | 5/20 [00:37<01:47,  7.18s/it]\u001b[32m[I 2022-03-26 14:20:21,174]\u001b[0m Trial 11 finished with value: 0.4095240326658707 and parameters: {'num_leaves': 21}. Best is trial 7 with value: 0.40852637663284425.\u001b[0m\n",
      "num_leaves, val_score: 0.408526:  25%|##5       | 5/20 [00:37<01:47,  7.18s/it]"
     ]
    },
    {
     "name": "stdout",
     "output_type": "stream",
     "text": [
      "Early stopping, best iteration is:\n",
      "[49]\tvalid_0's binary_logloss: 0.389325\tvalid_1's binary_logloss: 0.409524\n",
      "Training until validation scores don't improve for 10 rounds\n"
     ]
    },
    {
     "name": "stderr",
     "output_type": "stream",
     "text": [
      "num_leaves, val_score: 0.408526:  30%|###       | 6/20 [00:47<01:53,  8.12s/it]\u001b[32m[I 2022-03-26 14:20:31,494]\u001b[0m Trial 12 finished with value: 0.41623139491807754 and parameters: {'num_leaves': 199}. Best is trial 7 with value: 0.40852637663284425.\u001b[0m\n",
      "num_leaves, val_score: 0.408526:  30%|###       | 6/20 [00:47<01:53,  8.12s/it]"
     ]
    },
    {
     "name": "stdout",
     "output_type": "stream",
     "text": [
      "Early stopping, best iteration is:\n",
      "[29]\tvalid_0's binary_logloss: 0.299827\tvalid_1's binary_logloss: 0.416231\n",
      "Training until validation scores don't improve for 10 rounds\n"
     ]
    },
    {
     "name": "stderr",
     "output_type": "stream",
     "text": [
      "num_leaves, val_score: 0.408526:  35%|###5      | 7/20 [00:53<01:37,  7.51s/it]\u001b[32m[I 2022-03-26 14:20:37,567]\u001b[0m Trial 13 finished with value: 0.411310412704535 and parameters: {'num_leaves': 44}. Best is trial 7 with value: 0.40852637663284425.\u001b[0m\n",
      "num_leaves, val_score: 0.408526:  35%|###5      | 7/20 [00:53<01:37,  7.51s/it]"
     ]
    },
    {
     "name": "stdout",
     "output_type": "stream",
     "text": [
      "Early stopping, best iteration is:\n",
      "[45]\tvalid_0's binary_logloss: 0.36616\tvalid_1's binary_logloss: 0.41131\n",
      "Training until validation scores don't improve for 10 rounds\n"
     ]
    },
    {
     "name": "stderr",
     "output_type": "stream",
     "text": [
      "num_leaves, val_score: 0.408526:  40%|####      | 8/20 [01:03<01:37,  8.09s/it]\u001b[32m[I 2022-03-26 14:20:47,023]\u001b[0m Trial 14 finished with value: 0.41675172587375287 and parameters: {'num_leaves': 165}. Best is trial 7 with value: 0.40852637663284425.\u001b[0m\n",
      "num_leaves, val_score: 0.408526:  40%|####      | 8/20 [01:03<01:37,  8.09s/it]"
     ]
    },
    {
     "name": "stdout",
     "output_type": "stream",
     "text": [
      "Early stopping, best iteration is:\n",
      "[29]\tvalid_0's binary_logloss: 0.314664\tvalid_1's binary_logloss: 0.416752\n",
      "Training until validation scores don't improve for 10 rounds\n"
     ]
    },
    {
     "name": "stderr",
     "output_type": "stream",
     "text": [
      "num_leaves, val_score: 0.408526:  45%|####5     | 9/20 [01:07<01:15,  6.88s/it]\u001b[32m[I 2022-03-26 14:20:51,088]\u001b[0m Trial 15 finished with value: 0.40852637663284425 and parameters: {'num_leaves': 8}. Best is trial 7 with value: 0.40852637663284425.\u001b[0m\n",
      "num_leaves, val_score: 0.408526:  45%|####5     | 9/20 [01:07<01:15,  6.88s/it]"
     ]
    },
    {
     "name": "stdout",
     "output_type": "stream",
     "text": [
      "Early stopping, best iteration is:\n",
      "[55]\tvalid_0's binary_logloss: 0.40478\tvalid_1's binary_logloss: 0.408526\n",
      "Training until validation scores don't improve for 10 rounds\n"
     ]
    },
    {
     "name": "stderr",
     "output_type": "stream",
     "text": [
      "num_leaves, val_score: 0.408526:  50%|#####     | 10/20 [01:12<01:04,  6.44s/it]\u001b[32m[I 2022-03-26 14:20:56,509]\u001b[0m Trial 16 finished with value: 0.41072990812796006 and parameters: {'num_leaves': 32}. Best is trial 7 with value: 0.40852637663284425.\u001b[0m\n",
      "num_leaves, val_score: 0.408526:  50%|#####     | 10/20 [01:12<01:04,  6.44s/it]"
     ]
    },
    {
     "name": "stdout",
     "output_type": "stream",
     "text": [
      "Early stopping, best iteration is:\n",
      "[42]\tvalid_0's binary_logloss: 0.381279\tvalid_1's binary_logloss: 0.41073\n",
      "Training until validation scores don't improve for 10 rounds\n"
     ]
    },
    {
     "name": "stderr",
     "output_type": "stream",
     "text": [
      "num_leaves, val_score: 0.408526:  55%|#####5    | 11/20 [01:19<00:59,  6.59s/it]\u001b[32m[I 2022-03-26 14:21:03,434]\u001b[0m Trial 17 finished with value: 0.41378387043077314 and parameters: {'num_leaves': 98}. Best is trial 7 with value: 0.40852637663284425.\u001b[0m\n",
      "num_leaves, val_score: 0.408526:  55%|#####5    | 11/20 [01:19<00:59,  6.59s/it]"
     ]
    },
    {
     "name": "stdout",
     "output_type": "stream",
     "text": [
      "Early stopping, best iteration is:\n",
      "[29]\tvalid_0's binary_logloss: 0.349127\tvalid_1's binary_logloss: 0.413784\n",
      "Training until validation scores don't improve for 10 rounds\n"
     ]
    },
    {
     "name": "stderr",
     "output_type": "stream",
     "text": [
      "num_leaves, val_score: 0.408526:  60%|######    | 12/20 [01:26<00:52,  6.54s/it]\u001b[32m[I 2022-03-26 14:21:09,872]\u001b[0m Trial 18 finished with value: 0.4132202332010497 and parameters: {'num_leaves': 92}. Best is trial 7 with value: 0.40852637663284425.\u001b[0m\n",
      "num_leaves, val_score: 0.408526:  60%|######    | 12/20 [01:26<00:52,  6.54s/it]"
     ]
    },
    {
     "name": "stdout",
     "output_type": "stream",
     "text": [
      "Early stopping, best iteration is:\n",
      "[29]\tvalid_0's binary_logloss: 0.353145\tvalid_1's binary_logloss: 0.41322\n",
      "Training until validation scores don't improve for 10 rounds\n"
     ]
    },
    {
     "name": "stderr",
     "output_type": "stream",
     "text": [
      "num_leaves, val_score: 0.408526:  65%|######5   | 13/20 [01:32<00:46,  6.59s/it]\u001b[32m[I 2022-03-26 14:21:16,566]\u001b[0m Trial 19 finished with value: 0.4130280360541263 and parameters: {'num_leaves': 79}. Best is trial 7 with value: 0.40852637663284425.\u001b[0m\n",
      "num_leaves, val_score: 0.408526:  65%|######5   | 13/20 [01:32<00:46,  6.59s/it]"
     ]
    },
    {
     "name": "stdout",
     "output_type": "stream",
     "text": [
      "Early stopping, best iteration is:\n",
      "[29]\tvalid_0's binary_logloss: 0.360262\tvalid_1's binary_logloss: 0.413028\n",
      "Training until validation scores don't improve for 10 rounds\n",
      "[100]\tvalid_0's binary_logloss: 0.410563\tvalid_1's binary_logloss: 0.409116\n"
     ]
    },
    {
     "name": "stderr",
     "output_type": "stream",
     "text": [
      "num_leaves, val_score: 0.408526:  70%|#######   | 14/20 [01:36<00:34,  5.76s/it]\u001b[32m[I 2022-03-26 14:21:20,393]\u001b[0m Trial 20 finished with value: 0.40879208974664427 and parameters: {'num_leaves': 2}. Best is trial 7 with value: 0.40852637663284425.\u001b[0m\n",
      "num_leaves, val_score: 0.408526:  70%|#######   | 14/20 [01:36<00:34,  5.76s/it]"
     ]
    },
    {
     "name": "stdout",
     "output_type": "stream",
     "text": [
      "Early stopping, best iteration is:\n",
      "[155]\tvalid_0's binary_logloss: 0.409453\tvalid_1's binary_logloss: 0.408792\n",
      "Training until validation scores don't improve for 10 rounds\n"
     ]
    },
    {
     "name": "stderr",
     "output_type": "stream",
     "text": [
      "num_leaves, val_score: 0.408526:  75%|#######5  | 15/20 [01:45<00:33,  6.66s/it]\u001b[32m[I 2022-03-26 14:21:29,155]\u001b[0m Trial 21 finished with value: 0.4153820617409832 and parameters: {'num_leaves': 134}. Best is trial 7 with value: 0.40852637663284425.\u001b[0m\n",
      "num_leaves, val_score: 0.408526:  75%|#######5  | 15/20 [01:45<00:33,  6.66s/it]"
     ]
    },
    {
     "name": "stdout",
     "output_type": "stream",
     "text": [
      "Early stopping, best iteration is:\n",
      "[30]\tvalid_0's binary_logloss: 0.327828\tvalid_1's binary_logloss: 0.415382\n",
      "Training until validation scores don't improve for 10 rounds\n"
     ]
    },
    {
     "name": "stderr",
     "output_type": "stream",
     "text": [
      "num_leaves, val_score: 0.408526:  80%|########  | 16/20 [01:51<00:26,  6.53s/it]\u001b[32m[I 2022-03-26 14:21:35,384]\u001b[0m Trial 22 finished with value: 0.41186079586340935 and parameters: {'num_leaves': 66}. Best is trial 7 with value: 0.40852637663284425.\u001b[0m\n",
      "num_leaves, val_score: 0.408526:  80%|########  | 16/20 [01:51<00:26,  6.53s/it]"
     ]
    },
    {
     "name": "stdout",
     "output_type": "stream",
     "text": [
      "Early stopping, best iteration is:\n",
      "[36]\tvalid_0's binary_logloss: 0.358109\tvalid_1's binary_logloss: 0.411861\n",
      "Training until validation scores don't improve for 10 rounds\n"
     ]
    },
    {
     "name": "stderr",
     "output_type": "stream",
     "text": [
      "num_leaves, val_score: 0.408526:  85%|########5 | 17/20 [01:55<00:17,  5.83s/it]\u001b[32m[I 2022-03-26 14:21:39,590]\u001b[0m Trial 23 finished with value: 0.408563766103933 and parameters: {'num_leaves': 4}. Best is trial 7 with value: 0.40852637663284425.\u001b[0m\n",
      "num_leaves, val_score: 0.408526:  85%|########5 | 17/20 [01:55<00:17,  5.83s/it]"
     ]
    },
    {
     "name": "stdout",
     "output_type": "stream",
     "text": [
      "[100]\tvalid_0's binary_logloss: 0.406246\tvalid_1's binary_logloss: 0.408622\n",
      "Early stopping, best iteration is:\n",
      "[95]\tvalid_0's binary_logloss: 0.406528\tvalid_1's binary_logloss: 0.408564\n",
      "Training until validation scores don't improve for 10 rounds\n"
     ]
    },
    {
     "name": "stderr",
     "output_type": "stream",
     "text": [
      "num_leaves, val_score: 0.408526:  90%|######### | 18/20 [02:04<00:13,  6.66s/it]\u001b[32m[I 2022-03-26 14:21:48,184]\u001b[0m Trial 24 finished with value: 0.4143116541010676 and parameters: {'num_leaves': 126}. Best is trial 7 with value: 0.40852637663284425.\u001b[0m\n",
      "num_leaves, val_score: 0.408526:  90%|######### | 18/20 [02:04<00:13,  6.66s/it]"
     ]
    },
    {
     "name": "stdout",
     "output_type": "stream",
     "text": [
      "Early stopping, best iteration is:\n",
      "[34]\tvalid_0's binary_logloss: 0.322197\tvalid_1's binary_logloss: 0.414312\n",
      "Training until validation scores don't improve for 10 rounds\n"
     ]
    },
    {
     "name": "stderr",
     "output_type": "stream",
     "text": [
      "num_leaves, val_score: 0.408526:  95%|#########5| 19/20 [02:10<00:06,  6.50s/it]\u001b[32m[I 2022-03-26 14:21:54,310]\u001b[0m Trial 25 finished with value: 0.41232022877207625 and parameters: {'num_leaves': 59}. Best is trial 7 with value: 0.40852637663284425.\u001b[0m\n",
      "num_leaves, val_score: 0.408526:  95%|#########5| 19/20 [02:10<00:06,  6.50s/it]"
     ]
    },
    {
     "name": "stdout",
     "output_type": "stream",
     "text": [
      "Early stopping, best iteration is:\n",
      "[39]\tvalid_0's binary_logloss: 0.359467\tvalid_1's binary_logloss: 0.41232\n",
      "Training until validation scores don't improve for 10 rounds\n"
     ]
    },
    {
     "name": "stderr",
     "output_type": "stream",
     "text": [
      "num_leaves, val_score: 0.408526: 100%|##########| 20/20 [02:18<00:00,  6.98s/it]\u001b[32m[I 2022-03-26 14:22:02,401]\u001b[0m Trial 26 finished with value: 0.41444345553918205 and parameters: {'num_leaves': 121}. Best is trial 7 with value: 0.40852637663284425.\u001b[0m\n",
      "num_leaves, val_score: 0.408526: 100%|##########| 20/20 [02:18<00:00,  6.93s/it]\n",
      "bagging, val_score: 0.408526:   0%|          | 0/10 [00:00<?, ?it/s]"
     ]
    },
    {
     "name": "stdout",
     "output_type": "stream",
     "text": [
      "Early stopping, best iteration is:\n",
      "[28]\tvalid_0's binary_logloss: 0.339185\tvalid_1's binary_logloss: 0.414443\n",
      "Training until validation scores don't improve for 10 rounds\n"
     ]
    },
    {
     "name": "stderr",
     "output_type": "stream",
     "text": [
      "bagging, val_score: 0.408526:  10%|#         | 1/10 [00:03<00:32,  3.60s/it]\u001b[32m[I 2022-03-26 14:22:06,011]\u001b[0m Trial 27 finished with value: 0.4090545151987165 and parameters: {'bagging_fraction': 0.6586631779790602, 'bagging_freq': 5}. Best is trial 27 with value: 0.4090545151987165.\u001b[0m\n",
      "bagging, val_score: 0.408526:  10%|#         | 1/10 [00:03<00:32,  3.60s/it]"
     ]
    },
    {
     "name": "stdout",
     "output_type": "stream",
     "text": [
      "Early stopping, best iteration is:\n",
      "[52]\tvalid_0's binary_logloss: 0.404825\tvalid_1's binary_logloss: 0.409055\n",
      "Training until validation scores don't improve for 10 rounds\n"
     ]
    },
    {
     "name": "stderr",
     "output_type": "stream",
     "text": [
      "bagging, val_score: 0.408526:  20%|##        | 2/10 [00:07<00:28,  3.62s/it]\u001b[32m[I 2022-03-26 14:22:09,708]\u001b[0m Trial 28 finished with value: 0.40938803970882104 and parameters: {'bagging_fraction': 0.517908802550702, 'bagging_freq': 1}. Best is trial 27 with value: 0.4090545151987165.\u001b[0m\n",
      "bagging, val_score: 0.408526:  20%|##        | 2/10 [00:07<00:28,  3.62s/it]"
     ]
    },
    {
     "name": "stdout",
     "output_type": "stream",
     "text": [
      "Early stopping, best iteration is:\n",
      "[46]\tvalid_0's binary_logloss: 0.405613\tvalid_1's binary_logloss: 0.409388\n",
      "Training until validation scores don't improve for 10 rounds\n"
     ]
    },
    {
     "name": "stderr",
     "output_type": "stream",
     "text": [
      "bagging, val_score: 0.408526:  30%|###       | 3/10 [00:11<00:27,  3.94s/it]\u001b[32m[I 2022-03-26 14:22:14,368]\u001b[0m Trial 29 finished with value: 0.4085414055377842 and parameters: {'bagging_fraction': 0.9868801520720079, 'bagging_freq': 5}. Best is trial 29 with value: 0.4085414055377842.\u001b[0m\n",
      "bagging, val_score: 0.408526:  30%|###       | 3/10 [00:11<00:27,  3.94s/it]"
     ]
    },
    {
     "name": "stdout",
     "output_type": "stream",
     "text": [
      "Early stopping, best iteration is:\n",
      "[75]\tvalid_0's binary_logloss: 0.401361\tvalid_1's binary_logloss: 0.408541\n",
      "Training until validation scores don't improve for 10 rounds\n"
     ]
    },
    {
     "name": "stderr",
     "output_type": "stream",
     "text": [
      "bagging, val_score: 0.408526:  40%|####      | 4/10 [00:15<00:23,  3.94s/it]\u001b[32m[I 2022-03-26 14:22:18,322]\u001b[0m Trial 30 finished with value: 0.4092511205584828 and parameters: {'bagging_fraction': 0.45404085969440783, 'bagging_freq': 3}. Best is trial 29 with value: 0.4085414055377842.\u001b[0m\n",
      "bagging, val_score: 0.408526:  40%|####      | 4/10 [00:15<00:23,  3.94s/it]"
     ]
    },
    {
     "name": "stdout",
     "output_type": "stream",
     "text": [
      "Early stopping, best iteration is:\n",
      "[54]\tvalid_0's binary_logloss: 0.404407\tvalid_1's binary_logloss: 0.409251\n",
      "Training until validation scores don't improve for 10 rounds\n"
     ]
    },
    {
     "name": "stderr",
     "output_type": "stream",
     "text": [
      "bagging, val_score: 0.408526:  50%|#####     | 5/10 [00:19<00:18,  3.77s/it]\u001b[32m[I 2022-03-26 14:22:21,690]\u001b[0m Trial 31 finished with value: 0.40875932654705227 and parameters: {'bagging_fraction': 0.7137556711913327, 'bagging_freq': 6}. Best is trial 29 with value: 0.4085414055377842.\u001b[0m\n",
      "bagging, val_score: 0.408526:  50%|#####     | 5/10 [00:19<00:18,  3.77s/it]"
     ]
    },
    {
     "name": "stdout",
     "output_type": "stream",
     "text": [
      "Early stopping, best iteration is:\n",
      "[43]\tvalid_0's binary_logloss: 0.406667\tvalid_1's binary_logloss: 0.408759\n",
      "Training until validation scores don't improve for 10 rounds\n"
     ]
    },
    {
     "name": "stderr",
     "output_type": "stream",
     "text": [
      "bagging, val_score: 0.408526:  60%|######    | 6/10 [00:23<00:15,  3.78s/it]\u001b[32m[I 2022-03-26 14:22:25,490]\u001b[0m Trial 32 finished with value: 0.40911031944308324 and parameters: {'bagging_fraction': 0.7243131785588106, 'bagging_freq': 7}. Best is trial 29 with value: 0.4085414055377842.\u001b[0m\n",
      "bagging, val_score: 0.408526:  60%|######    | 6/10 [00:23<00:15,  3.78s/it]"
     ]
    },
    {
     "name": "stdout",
     "output_type": "stream",
     "text": [
      "Early stopping, best iteration is:\n",
      "[53]\tvalid_0's binary_logloss: 0.404926\tvalid_1's binary_logloss: 0.40911\n",
      "Training until validation scores don't improve for 10 rounds\n"
     ]
    },
    {
     "name": "stderr",
     "output_type": "stream",
     "text": [
      "bagging, val_score: 0.408526:  70%|#######   | 7/10 [00:26<00:11,  3.73s/it]\u001b[32m[I 2022-03-26 14:22:29,123]\u001b[0m Trial 33 finished with value: 0.4087081203435716 and parameters: {'bagging_fraction': 0.7429521455204109, 'bagging_freq': 3}. Best is trial 29 with value: 0.4085414055377842.\u001b[0m\n",
      "bagging, val_score: 0.408526:  70%|#######   | 7/10 [00:26<00:11,  3.73s/it]"
     ]
    },
    {
     "name": "stdout",
     "output_type": "stream",
     "text": [
      "Early stopping, best iteration is:\n",
      "[50]\tvalid_0's binary_logloss: 0.405309\tvalid_1's binary_logloss: 0.408708\n",
      "Training until validation scores don't improve for 10 rounds\n"
     ]
    },
    {
     "name": "stderr",
     "output_type": "stream",
     "text": [
      "bagging, val_score: 0.408203:  80%|########  | 8/10 [00:31<00:08,  4.01s/it]\u001b[32m[I 2022-03-26 14:22:33,778]\u001b[0m Trial 34 finished with value: 0.40820331793872006 and parameters: {'bagging_fraction': 0.8712462002790506, 'bagging_freq': 2}. Best is trial 34 with value: 0.40820331793872006.\u001b[0m\n",
      "bagging, val_score: 0.408203:  80%|########  | 8/10 [00:31<00:08,  4.01s/it]"
     ]
    },
    {
     "name": "stdout",
     "output_type": "stream",
     "text": [
      "Early stopping, best iteration is:\n",
      "[63]\tvalid_0's binary_logloss: 0.403111\tvalid_1's binary_logloss: 0.408203\n",
      "Training until validation scores don't improve for 10 rounds\n"
     ]
    },
    {
     "name": "stderr",
     "output_type": "stream",
     "text": [
      "bagging, val_score: 0.408203:  90%|######### | 9/10 [00:35<00:03,  3.99s/it]\u001b[32m[I 2022-03-26 14:22:37,735]\u001b[0m Trial 35 finished with value: 0.4086039283443787 and parameters: {'bagging_fraction': 0.8157721506347092, 'bagging_freq': 4}. Best is trial 34 with value: 0.40820331793872006.\u001b[0m\n",
      "bagging, val_score: 0.408203:  90%|######### | 9/10 [00:35<00:03,  3.99s/it]"
     ]
    },
    {
     "name": "stdout",
     "output_type": "stream",
     "text": [
      "Early stopping, best iteration is:\n",
      "[56]\tvalid_0's binary_logloss: 0.404227\tvalid_1's binary_logloss: 0.408604\n",
      "Training until validation scores don't improve for 10 rounds\n"
     ]
    },
    {
     "name": "stderr",
     "output_type": "stream",
     "text": [
      "bagging, val_score: 0.408203: 100%|##########| 10/10 [00:39<00:00,  3.93s/it]\u001b[32m[I 2022-03-26 14:22:41,526]\u001b[0m Trial 36 finished with value: 0.40918666272579307 and parameters: {'bagging_fraction': 0.44827944164169764, 'bagging_freq': 3}. Best is trial 34 with value: 0.40820331793872006.\u001b[0m\n",
      "bagging, val_score: 0.408203: 100%|##########| 10/10 [00:39<00:00,  3.91s/it]\n",
      "feature_fraction_stage2, val_score: 0.408203:   0%|          | 0/6 [00:00<?, ?it/s]"
     ]
    },
    {
     "name": "stdout",
     "output_type": "stream",
     "text": [
      "Early stopping, best iteration is:\n",
      "[50]\tvalid_0's binary_logloss: 0.405151\tvalid_1's binary_logloss: 0.409187\n",
      "Training until validation scores don't improve for 10 rounds\n"
     ]
    },
    {
     "name": "stderr",
     "output_type": "stream",
     "text": [
      "feature_fraction_stage2, val_score: 0.408203:  17%|#6        | 1/6 [00:04<00:20,  4.14s/it]\u001b[32m[I 2022-03-26 14:22:45,675]\u001b[0m Trial 37 finished with value: 0.40847969470515044 and parameters: {'feature_fraction': 0.8160000000000001}. Best is trial 37 with value: 0.40847969470515044.\u001b[0m\n",
      "feature_fraction_stage2, val_score: 0.408203:  17%|#6        | 1/6 [00:04<00:20,  4.14s/it]"
     ]
    },
    {
     "name": "stdout",
     "output_type": "stream",
     "text": [
      "Early stopping, best iteration is:\n",
      "[61]\tvalid_0's binary_logloss: 0.403478\tvalid_1's binary_logloss: 0.40848\n",
      "Training until validation scores don't improve for 10 rounds\n"
     ]
    },
    {
     "name": "stderr",
     "output_type": "stream",
     "text": [
      "feature_fraction_stage2, val_score: 0.408203:  33%|###3      | 2/6 [00:08<00:17,  4.27s/it]\u001b[32m[I 2022-03-26 14:22:50,273]\u001b[0m Trial 38 finished with value: 0.4085610265433278 and parameters: {'feature_fraction': 0.7520000000000001}. Best is trial 37 with value: 0.40847969470515044.\u001b[0m\n",
      "feature_fraction_stage2, val_score: 0.408203:  33%|###3      | 2/6 [00:08<00:17,  4.27s/it]"
     ]
    },
    {
     "name": "stdout",
     "output_type": "stream",
     "text": [
      "Early stopping, best iteration is:\n",
      "[71]\tvalid_0's binary_logloss: 0.401784\tvalid_1's binary_logloss: 0.408561\n",
      "Training until validation scores don't improve for 10 rounds\n"
     ]
    },
    {
     "name": "stderr",
     "output_type": "stream",
     "text": [
      "feature_fraction_stage2, val_score: 0.408203:  50%|#####     | 3/6 [00:12<00:12,  4.19s/it]\u001b[32m[I 2022-03-26 14:22:54,268]\u001b[0m Trial 39 finished with value: 0.4086106854247324 and parameters: {'feature_fraction': 0.88}. Best is trial 37 with value: 0.40847969470515044.\u001b[0m\n",
      "feature_fraction_stage2, val_score: 0.408203:  50%|#####     | 3/6 [00:12<00:12,  4.19s/it]"
     ]
    },
    {
     "name": "stdout",
     "output_type": "stream",
     "text": [
      "Early stopping, best iteration is:\n",
      "[47]\tvalid_0's binary_logloss: 0.405415\tvalid_1's binary_logloss: 0.408611\n",
      "Training until validation scores don't improve for 10 rounds\n"
     ]
    },
    {
     "name": "stderr",
     "output_type": "stream",
     "text": [
      "feature_fraction_stage2, val_score: 0.408203:  67%|######6   | 4/6 [00:17<00:08,  4.26s/it]\u001b[32m[I 2022-03-26 14:22:58,697]\u001b[0m Trial 40 finished with value: 0.4084657586652586 and parameters: {'feature_fraction': 0.8480000000000001}. Best is trial 40 with value: 0.4084657586652586.\u001b[0m\n",
      "feature_fraction_stage2, val_score: 0.408203:  67%|######6   | 4/6 [00:17<00:08,  4.26s/it]"
     ]
    },
    {
     "name": "stdout",
     "output_type": "stream",
     "text": [
      "Early stopping, best iteration is:\n",
      "[67]\tvalid_0's binary_logloss: 0.402312\tvalid_1's binary_logloss: 0.408466\n",
      "Training until validation scores don't improve for 10 rounds\n"
     ]
    },
    {
     "name": "stderr",
     "output_type": "stream",
     "text": [
      "feature_fraction_stage2, val_score: 0.408203:  83%|########3 | 5/6 [00:21<00:04,  4.26s/it]\u001b[32m[I 2022-03-26 14:23:02,970]\u001b[0m Trial 41 finished with value: 0.4083170330440122 and parameters: {'feature_fraction': 0.784}. Best is trial 41 with value: 0.4083170330440122.\u001b[0m\n",
      "feature_fraction_stage2, val_score: 0.408203:  83%|########3 | 5/6 [00:21<00:04,  4.26s/it]"
     ]
    },
    {
     "name": "stdout",
     "output_type": "stream",
     "text": [
      "Early stopping, best iteration is:\n",
      "[62]\tvalid_0's binary_logloss: 0.403156\tvalid_1's binary_logloss: 0.408317\n",
      "Training until validation scores don't improve for 10 rounds\n"
     ]
    },
    {
     "name": "stderr",
     "output_type": "stream",
     "text": [
      "feature_fraction_stage2, val_score: 0.408203: 100%|##########| 6/6 [00:25<00:00,  4.15s/it]\u001b[32m[I 2022-03-26 14:23:06,860]\u001b[0m Trial 42 finished with value: 0.40901191808447906 and parameters: {'feature_fraction': 0.7200000000000001}. Best is trial 41 with value: 0.4083170330440122.\u001b[0m\n",
      "feature_fraction_stage2, val_score: 0.408203: 100%|##########| 6/6 [00:25<00:00,  4.22s/it]\n",
      "regularization_factors, val_score: 0.408203:   0%|          | 0/20 [00:00<?, ?it/s]"
     ]
    },
    {
     "name": "stdout",
     "output_type": "stream",
     "text": [
      "Early stopping, best iteration is:\n",
      "[55]\tvalid_0's binary_logloss: 0.404636\tvalid_1's binary_logloss: 0.409012\n",
      "Training until validation scores don't improve for 10 rounds\n"
     ]
    },
    {
     "name": "stderr",
     "output_type": "stream",
     "text": [
      "regularization_factors, val_score: 0.408203:   5%|5         | 1/20 [00:04<01:20,  4.26s/it]\u001b[32m[I 2022-03-26 14:23:11,133]\u001b[0m Trial 43 finished with value: 0.4082998076281628 and parameters: {'lambda_l1': 2.87343700913083e-05, 'lambda_l2': 0.07016709243778012}. Best is trial 43 with value: 0.4082998076281628.\u001b[0m\n",
      "regularization_factors, val_score: 0.408203:   5%|5         | 1/20 [00:04<01:20,  4.26s/it]"
     ]
    },
    {
     "name": "stdout",
     "output_type": "stream",
     "text": [
      "Early stopping, best iteration is:\n",
      "[67]\tvalid_0's binary_logloss: 0.402642\tvalid_1's binary_logloss: 0.4083\n",
      "Training until validation scores don't improve for 10 rounds\n"
     ]
    },
    {
     "name": "stderr",
     "output_type": "stream",
     "text": [
      "regularization_factors, val_score: 0.408203:  10%|#         | 2/20 [00:08<01:17,  4.30s/it]\u001b[32m[I 2022-03-26 14:23:15,520]\u001b[0m Trial 44 finished with value: 0.4082032677346894 and parameters: {'lambda_l1': 0.001266179196014545, 'lambda_l2': 7.551972904939021e-06}. Best is trial 44 with value: 0.4082032677346894.\u001b[0m\n",
      "regularization_factors, val_score: 0.408203:  10%|#         | 2/20 [00:08<01:17,  4.30s/it]"
     ]
    },
    {
     "name": "stdout",
     "output_type": "stream",
     "text": [
      "Early stopping, best iteration is:\n",
      "[63]\tvalid_0's binary_logloss: 0.403112\tvalid_1's binary_logloss: 0.408203\n",
      "Training until validation scores don't improve for 10 rounds\n"
     ]
    },
    {
     "name": "stderr",
     "output_type": "stream",
     "text": [
      "regularization_factors, val_score: 0.408203:  15%|#5        | 3/20 [00:13<01:13,  4.34s/it]\u001b[32m[I 2022-03-26 14:23:19,991]\u001b[0m Trial 45 finished with value: 0.40847617337292397 and parameters: {'lambda_l1': 0.021499988213390223, 'lambda_l2': 1.1282822131546373e-05}. Best is trial 44 with value: 0.4082032677346894.\u001b[0m\n",
      "regularization_factors, val_score: 0.408203:  15%|#5        | 3/20 [00:13<01:13,  4.34s/it]"
     ]
    },
    {
     "name": "stdout",
     "output_type": "stream",
     "text": [
      "Early stopping, best iteration is:\n",
      "[67]\tvalid_0's binary_logloss: 0.402383\tvalid_1's binary_logloss: 0.408476\n",
      "Training until validation scores don't improve for 10 rounds\n"
     ]
    },
    {
     "name": "stderr",
     "output_type": "stream",
     "text": [
      "regularization_factors, val_score: 0.408199:  20%|##        | 4/20 [00:17<01:08,  4.29s/it]\u001b[32m[I 2022-03-26 14:23:24,135]\u001b[0m Trial 46 finished with value: 0.4081993145065827 and parameters: {'lambda_l1': 1.6691377204717948e-05, 'lambda_l2': 3.4057695491963347e-06}. Best is trial 46 with value: 0.4081993145065827.\u001b[0m\n",
      "regularization_factors, val_score: 0.408199:  20%|##        | 4/20 [00:17<01:08,  4.29s/it]"
     ]
    },
    {
     "name": "stdout",
     "output_type": "stream",
     "text": [
      "Early stopping, best iteration is:\n",
      "[63]\tvalid_0's binary_logloss: 0.403111\tvalid_1's binary_logloss: 0.408199\n",
      "Training until validation scores don't improve for 10 rounds\n"
     ]
    },
    {
     "name": "stderr",
     "output_type": "stream",
     "text": [
      "regularization_factors, val_score: 0.408199:  25%|##5       | 5/20 [00:21<01:03,  4.23s/it]\u001b[32m[I 2022-03-26 14:23:28,235]\u001b[0m Trial 47 finished with value: 0.40820331787743835 and parameters: {'lambda_l1': 1.5878493618885048e-06, 'lambda_l2': 1.0971996172318488e-08}. Best is trial 46 with value: 0.4081993145065827.\u001b[0m\n",
      "regularization_factors, val_score: 0.408199:  25%|##5       | 5/20 [00:21<01:03,  4.23s/it]"
     ]
    },
    {
     "name": "stdout",
     "output_type": "stream",
     "text": [
      "Early stopping, best iteration is:\n",
      "[63]\tvalid_0's binary_logloss: 0.403111\tvalid_1's binary_logloss: 0.408203\n",
      "Training until validation scores don't improve for 10 rounds\n"
     ]
    },
    {
     "name": "stderr",
     "output_type": "stream",
     "text": [
      "regularization_factors, val_score: 0.408199:  30%|###       | 6/20 [00:25<00:59,  4.25s/it]\u001b[32m[I 2022-03-26 14:23:32,509]\u001b[0m Trial 48 finished with value: 0.4083373686062789 and parameters: {'lambda_l1': 0.07140639864846075, 'lambda_l2': 0.003812253990406897}. Best is trial 46 with value: 0.4081993145065827.\u001b[0m\n",
      "regularization_factors, val_score: 0.408199:  30%|###       | 6/20 [00:25<00:59,  4.25s/it]"
     ]
    },
    {
     "name": "stdout",
     "output_type": "stream",
     "text": [
      "Early stopping, best iteration is:\n",
      "[61]\tvalid_0's binary_logloss: 0.403378\tvalid_1's binary_logloss: 0.408337\n",
      "Training until validation scores don't improve for 10 rounds\n"
     ]
    },
    {
     "name": "stderr",
     "output_type": "stream",
     "text": [
      "regularization_factors, val_score: 0.408199:  35%|###5      | 7/20 [00:30<00:57,  4.45s/it]\u001b[32m[I 2022-03-26 14:23:37,435]\u001b[0m Trial 49 finished with value: 0.40857142386429585 and parameters: {'lambda_l1': 0.11916631023928173, 'lambda_l2': 4.38784326864852e-06}. Best is trial 46 with value: 0.4081993145065827.\u001b[0m\n",
      "regularization_factors, val_score: 0.408199:  35%|###5      | 7/20 [00:30<00:57,  4.45s/it]"
     ]
    },
    {
     "name": "stdout",
     "output_type": "stream",
     "text": [
      "Early stopping, best iteration is:\n",
      "[71]\tvalid_0's binary_logloss: 0.40183\tvalid_1's binary_logloss: 0.408571\n",
      "Training until validation scores don't improve for 10 rounds\n"
     ]
    },
    {
     "name": "stderr",
     "output_type": "stream",
     "text": [
      "regularization_factors, val_score: 0.408199:  40%|####      | 8/20 [00:34<00:51,  4.30s/it]\u001b[32m[I 2022-03-26 14:23:41,369]\u001b[0m Trial 50 finished with value: 0.4081993144600394 and parameters: {'lambda_l1': 1.2789792492253545e-05, 'lambda_l2': 4.5527036796930415e-06}. Best is trial 50 with value: 0.4081993144600394.\u001b[0m\n",
      "regularization_factors, val_score: 0.408199:  40%|####      | 8/20 [00:34<00:51,  4.30s/it]"
     ]
    },
    {
     "name": "stdout",
     "output_type": "stream",
     "text": [
      "Early stopping, best iteration is:\n",
      "[63]\tvalid_0's binary_logloss: 0.403111\tvalid_1's binary_logloss: 0.408199\n",
      "Training until validation scores don't improve for 10 rounds\n"
     ]
    },
    {
     "name": "stderr",
     "output_type": "stream",
     "text": [
      "regularization_factors, val_score: 0.408199:  45%|####5     | 9/20 [00:38<00:46,  4.27s/it]\u001b[32m[I 2022-03-26 14:23:45,590]\u001b[0m Trial 51 finished with value: 0.4081993155608514 and parameters: {'lambda_l1': 3.9595068625382484e-06, 'lambda_l2': 1.1140647169822989e-08}. Best is trial 50 with value: 0.4081993144600394.\u001b[0m\n",
      "regularization_factors, val_score: 0.408199:  45%|####5     | 9/20 [00:38<00:46,  4.27s/it]"
     ]
    },
    {
     "name": "stdout",
     "output_type": "stream",
     "text": [
      "Early stopping, best iteration is:\n",
      "[63]\tvalid_0's binary_logloss: 0.403111\tvalid_1's binary_logloss: 0.408199\n",
      "Training until validation scores don't improve for 10 rounds\n"
     ]
    },
    {
     "name": "stderr",
     "output_type": "stream",
     "text": [
      "regularization_factors, val_score: 0.408199:  50%|#####     | 10/20 [00:42<00:42,  4.25s/it]\u001b[32m[I 2022-03-26 14:23:49,789]\u001b[0m Trial 52 finished with value: 0.40836229404152374 and parameters: {'lambda_l1': 0.10106469950682734, 'lambda_l2': 1.298897711757759e-06}. Best is trial 50 with value: 0.4081993144600394.\u001b[0m\n",
      "regularization_factors, val_score: 0.408199:  50%|#####     | 10/20 [00:42<00:42,  4.25s/it]"
     ]
    },
    {
     "name": "stdout",
     "output_type": "stream",
     "text": [
      "Early stopping, best iteration is:\n",
      "[60]\tvalid_0's binary_logloss: 0.403779\tvalid_1's binary_logloss: 0.408362\n",
      "Training until validation scores don't improve for 10 rounds\n"
     ]
    },
    {
     "name": "stderr",
     "output_type": "stream",
     "text": [
      "regularization_factors, val_score: 0.408199:  55%|#####5    | 11/20 [00:47<00:39,  4.34s/it]\u001b[32m[I 2022-03-26 14:23:54,359]\u001b[0m Trial 53 finished with value: 0.40837829804274534 and parameters: {'lambda_l1': 6.336725497102651e-08, 'lambda_l2': 1.316443670208095}. Best is trial 50 with value: 0.4081993144600394.\u001b[0m\n",
      "regularization_factors, val_score: 0.408199:  55%|#####5    | 11/20 [00:47<00:39,  4.34s/it]"
     ]
    },
    {
     "name": "stdout",
     "output_type": "stream",
     "text": [
      "Early stopping, best iteration is:\n",
      "[57]\tvalid_0's binary_logloss: 0.404843\tvalid_1's binary_logloss: 0.408378\n",
      "Training until validation scores don't improve for 10 rounds\n"
     ]
    },
    {
     "name": "stderr",
     "output_type": "stream",
     "text": [
      "regularization_factors, val_score: 0.408199:  60%|######    | 12/20 [00:51<00:34,  4.26s/it]\u001b[32m[I 2022-03-26 14:23:58,418]\u001b[0m Trial 54 finished with value: 0.40820320278675815 and parameters: {'lambda_l1': 0.00034438072841304297, 'lambda_l2': 0.0006014083286804007}. Best is trial 50 with value: 0.4081993144600394.\u001b[0m\n",
      "regularization_factors, val_score: 0.408199:  60%|######    | 12/20 [00:51<00:34,  4.26s/it]"
     ]
    },
    {
     "name": "stdout",
     "output_type": "stream",
     "text": [
      "Early stopping, best iteration is:\n",
      "[63]\tvalid_0's binary_logloss: 0.403112\tvalid_1's binary_logloss: 0.408203\n",
      "Training until validation scores don't improve for 10 rounds\n"
     ]
    },
    {
     "name": "stderr",
     "output_type": "stream",
     "text": [
      "regularization_factors, val_score: 0.408199:  65%|######5   | 13/20 [00:55<00:29,  4.26s/it]\u001b[32m[I 2022-03-26 14:24:02,671]\u001b[0m Trial 55 finished with value: 0.40820331788376046 and parameters: {'lambda_l1': 2.46922411469471e-08, 'lambda_l2': 3.1858076939363804e-07}. Best is trial 50 with value: 0.4081993144600394.\u001b[0m\n",
      "regularization_factors, val_score: 0.408199:  65%|######5   | 13/20 [00:55<00:29,  4.26s/it]"
     ]
    },
    {
     "name": "stdout",
     "output_type": "stream",
     "text": [
      "Early stopping, best iteration is:\n",
      "[63]\tvalid_0's binary_logloss: 0.403111\tvalid_1's binary_logloss: 0.408203\n",
      "Training until validation scores don't improve for 10 rounds\n"
     ]
    },
    {
     "name": "stderr",
     "output_type": "stream",
     "text": [
      "regularization_factors, val_score: 0.408197:  70%|#######   | 14/20 [01:00<00:25,  4.25s/it]\u001b[32m[I 2022-03-26 14:24:06,897]\u001b[0m Trial 56 finished with value: 0.4081974307540971 and parameters: {'lambda_l1': 7.82235804356751, 'lambda_l2': 7.019781610548802e-05}. Best is trial 56 with value: 0.4081974307540971.\u001b[0m\n",
      "regularization_factors, val_score: 0.408197:  70%|#######   | 14/20 [01:00<00:25,  4.25s/it]"
     ]
    },
    {
     "name": "stdout",
     "output_type": "stream",
     "text": [
      "Early stopping, best iteration is:\n",
      "[62]\tvalid_0's binary_logloss: 0.405086\tvalid_1's binary_logloss: 0.408197\n",
      "Training until validation scores don't improve for 10 rounds\n"
     ]
    },
    {
     "name": "stderr",
     "output_type": "stream",
     "text": [
      "regularization_factors, val_score: 0.408190:  75%|#######5  | 15/20 [01:04<00:22,  4.43s/it]\u001b[32m[I 2022-03-26 14:24:11,763]\u001b[0m Trial 57 finished with value: 0.4081900090955129 and parameters: {'lambda_l1': 6.417259129173017, 'lambda_l2': 0.00013168075829390517}. Best is trial 57 with value: 0.4081900090955129.\u001b[0m\n",
      "regularization_factors, val_score: 0.408190:  75%|#######5  | 15/20 [01:04<00:22,  4.43s/it]"
     ]
    },
    {
     "name": "stdout",
     "output_type": "stream",
     "text": [
      "Early stopping, best iteration is:\n",
      "[67]\tvalid_0's binary_logloss: 0.404263\tvalid_1's binary_logloss: 0.40819\n",
      "Training until validation scores don't improve for 10 rounds\n"
     ]
    },
    {
     "name": "stderr",
     "output_type": "stream",
     "text": [
      "regularization_factors, val_score: 0.408190:  80%|########  | 16/20 [01:10<00:18,  4.68s/it]\u001b[32m[I 2022-03-26 14:24:17,010]\u001b[0m Trial 58 finished with value: 0.40846642541149564 and parameters: {'lambda_l1': 6.841180540307618, 'lambda_l2': 0.00021643744438940886}. Best is trial 57 with value: 0.4081900090955129.\u001b[0m\n",
      "regularization_factors, val_score: 0.408190:  80%|########  | 16/20 [01:10<00:18,  4.68s/it]"
     ]
    },
    {
     "name": "stdout",
     "output_type": "stream",
     "text": [
      "Early stopping, best iteration is:\n",
      "[67]\tvalid_0's binary_logloss: 0.40436\tvalid_1's binary_logloss: 0.408466\n",
      "Training until validation scores don't improve for 10 rounds\n"
     ]
    },
    {
     "name": "stderr",
     "output_type": "stream",
     "text": [
      "regularization_factors, val_score: 0.408141:  85%|########5 | 17/20 [01:14<00:13,  4.58s/it]\u001b[32m[I 2022-03-26 14:24:21,347]\u001b[0m Trial 59 finished with value: 0.40814052329241307 and parameters: {'lambda_l1': 4.291507566129652, 'lambda_l2': 0.012016357560330492}. Best is trial 59 with value: 0.40814052329241307.\u001b[0m\n",
      "regularization_factors, val_score: 0.408141:  85%|########5 | 17/20 [01:14<00:13,  4.58s/it]"
     ]
    },
    {
     "name": "stdout",
     "output_type": "stream",
     "text": [
      "Early stopping, best iteration is:\n",
      "[61]\tvalid_0's binary_logloss: 0.404726\tvalid_1's binary_logloss: 0.408141\n",
      "Training until validation scores don't improve for 10 rounds\n"
     ]
    },
    {
     "name": "stderr",
     "output_type": "stream",
     "text": [
      "regularization_factors, val_score: 0.408141:  90%|######### | 18/20 [01:18<00:09,  4.51s/it]\u001b[32m[I 2022-03-26 14:24:25,709]\u001b[0m Trial 60 finished with value: 0.4086793584847037 and parameters: {'lambda_l1': 0.5527036646857707, 'lambda_l2': 0.014373088587120487}. Best is trial 59 with value: 0.40814052329241307.\u001b[0m\n",
      "regularization_factors, val_score: 0.408141:  90%|######### | 18/20 [01:18<00:09,  4.51s/it]"
     ]
    },
    {
     "name": "stdout",
     "output_type": "stream",
     "text": [
      "Early stopping, best iteration is:\n",
      "[55]\tvalid_0's binary_logloss: 0.404875\tvalid_1's binary_logloss: 0.408679\n",
      "Training until validation scores don't improve for 10 rounds\n"
     ]
    },
    {
     "name": "stderr",
     "output_type": "stream",
     "text": [
      "regularization_factors, val_score: 0.408141:  95%|#########5| 19/20 [01:22<00:04,  4.39s/it]\u001b[32m[I 2022-03-26 14:24:29,817]\u001b[0m Trial 61 finished with value: 0.40852351068865644 and parameters: {'lambda_l1': 1.178342820823742, 'lambda_l2': 0.4981001808118453}. Best is trial 59 with value: 0.40814052329241307.\u001b[0m\n",
      "regularization_factors, val_score: 0.408141:  95%|#########5| 19/20 [01:22<00:04,  4.39s/it]"
     ]
    },
    {
     "name": "stdout",
     "output_type": "stream",
     "text": [
      "Early stopping, best iteration is:\n",
      "[56]\tvalid_0's binary_logloss: 0.40495\tvalid_1's binary_logloss: 0.408524\n",
      "Training until validation scores don't improve for 10 rounds\n"
     ]
    },
    {
     "name": "stderr",
     "output_type": "stream",
     "text": [
      "regularization_factors, val_score: 0.408141: 100%|##########| 20/20 [01:27<00:00,  4.40s/it]\u001b[32m[I 2022-03-26 14:24:34,221]\u001b[0m Trial 62 finished with value: 0.4082226533227908 and parameters: {'lambda_l1': 0.01026110850127255, 'lambda_l2': 9.325839899689354}. Best is trial 59 with value: 0.40814052329241307.\u001b[0m\n",
      "regularization_factors, val_score: 0.408141: 100%|##########| 20/20 [01:27<00:00,  4.37s/it]\n",
      "min_data_in_leaf, val_score: 0.408141:   0%|          | 0/5 [00:00<?, ?it/s]"
     ]
    },
    {
     "name": "stdout",
     "output_type": "stream",
     "text": [
      "Early stopping, best iteration is:\n",
      "[56]\tvalid_0's binary_logloss: 0.405497\tvalid_1's binary_logloss: 0.408223\n",
      "Training until validation scores don't improve for 10 rounds\n"
     ]
    },
    {
     "name": "stderr",
     "output_type": "stream",
     "text": [
      "min_data_in_leaf, val_score: 0.408080:  20%|##        | 1/5 [00:04<00:17,  4.31s/it]\u001b[32m[I 2022-03-26 14:24:38,540]\u001b[0m Trial 63 finished with value: 0.4080796768749473 and parameters: {'min_child_samples': 50}. Best is trial 63 with value: 0.4080796768749473.\u001b[0m\n",
      "min_data_in_leaf, val_score: 0.408080:  20%|##        | 1/5 [00:04<00:17,  4.31s/it]"
     ]
    },
    {
     "name": "stdout",
     "output_type": "stream",
     "text": [
      "Early stopping, best iteration is:\n",
      "[58]\tvalid_0's binary_logloss: 0.405186\tvalid_1's binary_logloss: 0.40808\n",
      "Training until validation scores don't improve for 10 rounds\n"
     ]
    },
    {
     "name": "stderr",
     "output_type": "stream",
     "text": [
      "min_data_in_leaf, val_score: 0.408080:  40%|####      | 2/5 [00:08<00:13,  4.41s/it]\u001b[32m[I 2022-03-26 14:24:43,199]\u001b[0m Trial 64 finished with value: 0.40864223302203023 and parameters: {'min_child_samples': 10}. Best is trial 63 with value: 0.4080796768749473.\u001b[0m\n",
      "min_data_in_leaf, val_score: 0.408080:  40%|####      | 2/5 [00:08<00:13,  4.41s/it]"
     ]
    },
    {
     "name": "stdout",
     "output_type": "stream",
     "text": [
      "Early stopping, best iteration is:\n",
      "[68]\tvalid_0's binary_logloss: 0.403869\tvalid_1's binary_logloss: 0.408642\n",
      "Training until validation scores don't improve for 10 rounds\n"
     ]
    },
    {
     "name": "stderr",
     "output_type": "stream",
     "text": [
      "min_data_in_leaf, val_score: 0.408080:  60%|######    | 3/5 [00:13<00:08,  4.44s/it]\u001b[32m[I 2022-03-26 14:24:47,721]\u001b[0m Trial 65 finished with value: 0.40814052329241307 and parameters: {'min_child_samples': 25}. Best is trial 63 with value: 0.4080796768749473.\u001b[0m\n",
      "min_data_in_leaf, val_score: 0.408080:  60%|######    | 3/5 [00:13<00:08,  4.44s/it]"
     ]
    },
    {
     "name": "stdout",
     "output_type": "stream",
     "text": [
      "Early stopping, best iteration is:\n",
      "[61]\tvalid_0's binary_logloss: 0.404726\tvalid_1's binary_logloss: 0.408141\n",
      "Training until validation scores don't improve for 10 rounds\n"
     ]
    },
    {
     "name": "stderr",
     "output_type": "stream",
     "text": [
      "min_data_in_leaf, val_score: 0.408019:  80%|########  | 4/5 [00:17<00:04,  4.46s/it]\u001b[32m[I 2022-03-26 14:24:52,210]\u001b[0m Trial 66 finished with value: 0.4080194990000158 and parameters: {'min_child_samples': 100}. Best is trial 66 with value: 0.4080194990000158.\u001b[0m\n",
      "min_data_in_leaf, val_score: 0.408019:  80%|########  | 4/5 [00:17<00:04,  4.46s/it]"
     ]
    },
    {
     "name": "stdout",
     "output_type": "stream",
     "text": [
      "Early stopping, best iteration is:\n",
      "[62]\tvalid_0's binary_logloss: 0.404594\tvalid_1's binary_logloss: 0.408019\n",
      "Training until validation scores don't improve for 10 rounds\n"
     ]
    },
    {
     "name": "stderr",
     "output_type": "stream",
     "text": [
      "min_data_in_leaf, val_score: 0.408019: 100%|##########| 5/5 [00:22<00:00,  4.62s/it]\u001b[32m[I 2022-03-26 14:24:57,193]\u001b[0m Trial 67 finished with value: 0.40829047795315143 and parameters: {'min_child_samples': 5}. Best is trial 66 with value: 0.4080194990000158.\u001b[0m\n",
      "min_data_in_leaf, val_score: 0.408019: 100%|##########| 5/5 [00:22<00:00,  4.59s/it]"
     ]
    },
    {
     "name": "stdout",
     "output_type": "stream",
     "text": [
      "Early stopping, best iteration is:\n",
      "[56]\tvalid_0's binary_logloss: 0.4055\tvalid_1's binary_logloss: 0.40829\n"
     ]
    },
    {
     "name": "stderr",
     "output_type": "stream",
     "text": [
      "\n"
     ]
    }
   ],
   "source": [
    "# データセットの作成\n",
    "lgb_train = lgb_o.Dataset(X_train.values, y_train.values)\n",
    "lgb_valid = lgb_o.Dataset(X_valid.values, y_valid.values)\n",
    "\n",
    "# チューニング実行\n",
    "params = {\n",
    "    'objective': 'binary',\n",
    "    'random_state': 100\n",
    "}\n",
    "\n",
    "lgb_clf_o = lgb_o.train(params, lgb_train, valid_sets=(lgb_train, lgb_valid), verbose_eval=100, early_stopping_rounds=10)"
   ]
  },
  {
   "cell_type": "markdown",
   "metadata": {},
   "source": [
    "1．あるハイパーパラメータを使って、lgb_trainで学習<br>\n",
    "2．そのモデルを使ってlgb_validで検証<br>\n",
    "3．検証結果を利用して、ハイパーパラメータを変えてlgb_trainで再学習<br>\n",
    "4．2～3を繰り返す"
   ]
  },
  {
   "cell_type": "code",
   "execution_count": 11,
   "metadata": {},
   "outputs": [
    {
     "data": {
      "text/plain": [
       "{'objective': 'binary',\n",
       " 'random_state': 100,\n",
       " 'feature_pre_filter': False,\n",
       " 'lambda_l1': 4.291507566129652,\n",
       " 'lambda_l2': 0.012016357560330492,\n",
       " 'num_leaves': 8,\n",
       " 'feature_fraction': 0.8,\n",
       " 'bagging_fraction': 0.8712462002790506,\n",
       " 'bagging_freq': 2,\n",
       " 'min_child_samples': 100}"
      ]
     },
     "execution_count": 11,
     "metadata": {},
     "output_type": "execute_result"
    }
   ],
   "source": [
    "lgb_clf_o.params"
   ]
  },
  {
   "cell_type": "code",
   "execution_count": 12,
   "metadata": {},
   "outputs": [],
   "source": [
    "# 時系列に沿って訓練データとテストデータに分ける\n",
    "train, test = split_data(r.data_c)\n",
    "X_train = train.drop(['rank', 'date'], axis=1)\n",
    "y_train = train['rank']\n",
    "X_test = test.drop(['rank', 'date'], axis=1)\n",
    "y_test = test['rank']"
   ]
  },
  {
   "cell_type": "code",
   "execution_count": 17,
   "metadata": {},
   "outputs": [
    {
     "data": {
      "text/plain": [
       "LGBMClassifier(bagging_fraction=0.8712462002790506, bagging_freq=2,\n",
       "               feature_fraction=0.8, feature_pre_filter=False,\n",
       "               lambda_l1=4.291507566129652, lambda_l2=0.012016357560330492,\n",
       "               min_child_samples=100, num_leaves=8, objective='binary',\n",
       "               random_state=100)"
      ]
     },
     "execution_count": 17,
     "metadata": {},
     "output_type": "execute_result"
    }
   ],
   "source": [
    "params = {\n",
    "    'objective': 'binary',\n",
    "     'random_state': 100,\n",
    "     'feature_pre_filter': False,\n",
    "     'lambda_l1': 4.291507566129652,\n",
    "     'lambda_l2': 0.012016357560330492,\n",
    "     'num_leaves': 8,\n",
    "     'feature_fraction': 0.8,\n",
    "     'bagging_fraction': 0.8712462002790506,\n",
    "     'bagging_freq': 2,\n",
    "     'min_child_samples': 100\n",
    "}\n",
    "\n",
    "lgb_clf = lgb.LGBMClassifier(**params)\n",
    "lgb_clf.fit(X_train.values, y_train.values)"
   ]
  },
  {
   "cell_type": "code",
   "execution_count": null,
   "metadata": {},
   "outputs": [],
   "source": [
    "me = ModelEvaluator(lgb_clf, 'return_tables.pickle')"
   ]
  },
  {
   "cell_type": "code",
   "execution_count": null,
   "metadata": {},
   "outputs": [],
   "source": [
    "me.feature_importance(X_test)"
   ]
  },
  {
   "cell_type": "code",
   "execution_count": null,
   "metadata": {},
   "outputs": [],
   "source": [
    "# gain_optuna = gain(me.tansho_return_proper, X_test)\n",
    "# gain_optuna.to_pickle('gain_optuna.pickle')"
   ]
  },
  {
   "cell_type": "code",
   "execution_count": null,
   "metadata": {},
   "outputs": [],
   "source": [
    "gain_optuna = pd.read_pickle('gain_optuna.pickle')"
   ]
  },
  {
   "cell_type": "code",
   "execution_count": null,
   "metadata": {},
   "outputs": [],
   "source": [
    "plt.figure(figsize=(10, 8))\n",
    "gain_optuna.rename('optuna').plot(legend=True)\n",
    "plt.grid()"
   ]
  },
  {
   "cell_type": "code",
   "execution_count": null,
   "metadata": {},
   "outputs": [],
   "source": [
    "gain_optuna.max()"
   ]
  },
  {
   "cell_type": "markdown",
   "metadata": {},
   "source": [
    "### 6．単勝以外の馬券"
   ]
  },
  {
   "cell_type": "code",
   "execution_count": 22,
   "metadata": {},
   "outputs": [
    {
     "ename": "TypeError",
     "evalue": "len() takes exactly one argument (2 given)",
     "output_type": "error",
     "traceback": [
      "\u001b[1;31m---------------------------------------------------------------------------\u001b[0m",
      "\u001b[1;31mTypeError\u001b[0m                                 Traceback (most recent call last)",
      "\u001b[1;32m<ipython-input-22-2834476a38b7>\u001b[0m in \u001b[0;36m<module>\u001b[1;34m\u001b[0m\n\u001b[0;32m      1\u001b[0m \u001b[0mme\u001b[0m \u001b[1;33m=\u001b[0m \u001b[0mModelEvaluator\u001b[0m\u001b[1;33m(\u001b[0m\u001b[0mlgb_clf\u001b[0m\u001b[1;33m,\u001b[0m \u001b[1;34m'return_tables.pickle'\u001b[0m\u001b[1;33m)\u001b[0m\u001b[1;33m\u001b[0m\u001b[1;33m\u001b[0m\u001b[0m\n\u001b[1;32m----> 2\u001b[1;33m \u001b[0mme\u001b[0m\u001b[1;33m.\u001b[0m\u001b[0mumaren_return\u001b[0m\u001b[1;33m(\u001b[0m\u001b[0mX_test\u001b[0m\u001b[1;33m)\u001b[0m\u001b[1;33m\u001b[0m\u001b[1;33m\u001b[0m\u001b[0m\n\u001b[0m",
      "\u001b[1;32m<ipython-input-21-2c9adf3abf4c>\u001b[0m in \u001b[0;36mumaren_return\u001b[1;34m(self, x, threshold)\u001b[0m\n\u001b[0;32m    615\u001b[0m         \u001b[0mn_bets\u001b[0m \u001b[1;33m=\u001b[0m \u001b[1;36m0\u001b[0m\u001b[1;33m\u001b[0m\u001b[1;33m\u001b[0m\u001b[0m\n\u001b[0;32m    616\u001b[0m         \u001b[1;32mfor\u001b[0m \u001b[0mrace_id\u001b[0m\u001b[1;33m,\u001b[0m \u001b[0mpreds\u001b[0m \u001b[1;32min\u001b[0m \u001b[0mpred_table\u001b[0m\u001b[1;33m.\u001b[0m\u001b[0mgroupby\u001b[0m\u001b[1;33m(\u001b[0m\u001b[0mlevel\u001b[0m\u001b[1;33m=\u001b[0m\u001b[1;36m0\u001b[0m\u001b[1;33m)\u001b[0m\u001b[1;33m:\u001b[0m\u001b[1;33m\u001b[0m\u001b[1;33m\u001b[0m\u001b[0m\n\u001b[1;32m--> 617\u001b[1;33m             \u001b[0mn_bets\u001b[0m \u001b[1;33m+=\u001b[0m \u001b[0mcomb\u001b[0m\u001b[1;33m(\u001b[0m\u001b[0mlen\u001b[0m\u001b[1;33m(\u001b[0m\u001b[0mpreds\u001b[0m\u001b[1;33m,\u001b[0m \u001b[1;36m2\u001b[0m\u001b[1;33m)\u001b[0m\u001b[1;33m)\u001b[0m\u001b[1;33m\u001b[0m\u001b[1;33m\u001b[0m\u001b[0m\n\u001b[0m\u001b[0;32m    618\u001b[0m             \u001b[0mhit\u001b[0m\u001b[1;33m[\u001b[0m\u001b[0mrace_id\u001b[0m\u001b[1;33m]\u001b[0m \u001b[1;33m=\u001b[0m \u001b[0mset\u001b[0m\u001b[1;33m(\u001b[0m\u001b[0mself\u001b[0m\u001b[1;33m.\u001b[0m\u001b[0mumaren\u001b[0m\u001b[1;33m.\u001b[0m\u001b[0mloc\u001b[0m\u001b[1;33m[\u001b[0m\u001b[0mrace_id\u001b[0m\u001b[1;33m]\u001b[0m\u001b[1;33m[\u001b[0m\u001b[1;33m[\u001b[0m\u001b[1;34m'win_0'\u001b[0m\u001b[1;33m,\u001b[0m \u001b[1;34m'win_1'\u001b[0m\u001b[1;33m]\u001b[0m\u001b[1;33m]\u001b[0m\u001b[1;33m)\u001b[0m\u001b[1;33m.\u001b[0m\u001b[0missubset\u001b[0m\u001b[1;33m(\u001b[0m\u001b[0mset\u001b[0m\u001b[1;33m(\u001b[0m\u001b[0mpreds\u001b[0m\u001b[1;33m)\u001b[0m\u001b[1;33m)\u001b[0m\u001b[1;33m\u001b[0m\u001b[1;33m\u001b[0m\u001b[0m\n\u001b[0;32m    619\u001b[0m         \u001b[0mreturn_rate\u001b[0m \u001b[1;33m=\u001b[0m \u001b[0mself\u001b[0m\u001b[1;33m.\u001b[0m\u001b[0mumaren\u001b[0m\u001b[1;33m.\u001b[0m\u001b[0mindex\u001b[0m\u001b[1;33m.\u001b[0m\u001b[0mmap\u001b[0m\u001b[1;33m(\u001b[0m\u001b[0mhit\u001b[0m\u001b[1;33m)\u001b[0m\u001b[1;33m.\u001b[0m\u001b[0mvalues\u001b[0m \u001b[1;33m*\u001b[0m \u001b[0mself\u001b[0m\u001b[1;33m.\u001b[0m\u001b[0mumaren\u001b[0m\u001b[1;33m[\u001b[0m\u001b[1;34m'return'\u001b[0m\u001b[1;33m]\u001b[0m\u001b[1;33m.\u001b[0m\u001b[0msum\u001b[0m\u001b[1;33m(\u001b[0m\u001b[1;33m)\u001b[0m \u001b[1;33m/\u001b[0m \u001b[1;33m(\u001b[0m\u001b[0mn_bets\u001b[0m \u001b[1;33m*\u001b[0m \u001b[1;36m100\u001b[0m\u001b[1;33m)\u001b[0m\u001b[1;33m\u001b[0m\u001b[1;33m\u001b[0m\u001b[0m\n",
      "\u001b[1;31mTypeError\u001b[0m: len() takes exactly one argument (2 given)"
     ]
    }
   ],
   "source": [
    "me = ModelEvaluator(lgb_clf, 'return_tables.pickle')\n",
    "me.umaren_return(X_test)"
   ]
  },
  {
   "cell_type": "code",
   "execution_count": null,
   "metadata": {},
   "outputs": [],
   "source": [
    "# gain_umaren = gain(me.umaren_return, X_test)\n",
    "# gain_umaren.to_pickle('gain_umaren.pickle')"
   ]
  },
  {
   "cell_type": "code",
   "execution_count": null,
   "metadata": {},
   "outputs": [],
   "source": [
    "gain_umaren= pd.read_pickle('gain_umaren.pickle')"
   ]
  },
  {
   "cell_type": "code",
   "execution_count": null,
   "metadata": {},
   "outputs": [],
   "source": [
    "plt.figure(figsize=(10, 8))\n",
    "gain_optuna.rename('tansho').plot(legend=True)\n",
    "gain_umaren.rename('umaren').plot(legend=True)\n",
    "plt.grid()"
   ]
  },
  {
   "cell_type": "markdown",
   "metadata": {},
   "source": [
    "## 7．単勝適正回収値修正"
   ]
  },
  {
   "cell_type": "code",
   "execution_count": 29,
   "metadata": {},
   "outputs": [],
   "source": [
    "me = ModelEvaluator(lgb_clf, 'return_tables.pickle')"
   ]
  },
  {
   "cell_type": "code",
   "execution_count": 26,
   "metadata": {},
   "outputs": [
    {
     "name": "stderr",
     "output_type": "stream",
     "text": [
      "100%|██████████| 100/100 [04:04<00:00,  2.44s/it]\n"
     ]
    },
    {
     "data": {
      "text/html": [
       "<div>\n",
       "<style scoped>\n",
       "    .dataframe tbody tr th:only-of-type {\n",
       "        vertical-align: middle;\n",
       "    }\n",
       "\n",
       "    .dataframe tbody tr th {\n",
       "        vertical-align: top;\n",
       "    }\n",
       "\n",
       "    .dataframe thead th {\n",
       "        text-align: right;\n",
       "    }\n",
       "</style>\n",
       "<table border=\"1\" class=\"dataframe\">\n",
       "  <thead>\n",
       "    <tr style=\"text-align: right;\">\n",
       "      <th></th>\n",
       "      <th>return_rate</th>\n",
       "      <th>n_hits</th>\n",
       "    </tr>\n",
       "  </thead>\n",
       "  <tbody>\n",
       "    <tr>\n",
       "      <th>8244</th>\n",
       "      <td>0.767636</td>\n",
       "      <td>1219.0</td>\n",
       "    </tr>\n",
       "    <tr>\n",
       "      <th>8019</th>\n",
       "      <td>0.766408</td>\n",
       "      <td>1198.0</td>\n",
       "    </tr>\n",
       "    <tr>\n",
       "      <th>7795</th>\n",
       "      <td>0.765270</td>\n",
       "      <td>1177.0</td>\n",
       "    </tr>\n",
       "    <tr>\n",
       "      <th>7604</th>\n",
       "      <td>0.763340</td>\n",
       "      <td>1156.0</td>\n",
       "    </tr>\n",
       "    <tr>\n",
       "      <th>7370</th>\n",
       "      <td>0.765999</td>\n",
       "      <td>1140.0</td>\n",
       "    </tr>\n",
       "    <tr>\n",
       "      <th>...</th>\n",
       "      <td>...</td>\n",
       "      <td>...</td>\n",
       "    </tr>\n",
       "    <tr>\n",
       "      <th>91</th>\n",
       "      <td>0.624449</td>\n",
       "      <td>23.0</td>\n",
       "    </tr>\n",
       "    <tr>\n",
       "      <th>82</th>\n",
       "      <td>0.601091</td>\n",
       "      <td>20.0</td>\n",
       "    </tr>\n",
       "    <tr>\n",
       "      <th>67</th>\n",
       "      <td>0.622418</td>\n",
       "      <td>17.0</td>\n",
       "    </tr>\n",
       "    <tr>\n",
       "      <th>59</th>\n",
       "      <td>0.587318</td>\n",
       "      <td>14.0</td>\n",
       "    </tr>\n",
       "    <tr>\n",
       "      <th>52</th>\n",
       "      <td>0.646651</td>\n",
       "      <td>13.0</td>\n",
       "    </tr>\n",
       "  </tbody>\n",
       "</table>\n",
       "<p>77 rows × 2 columns</p>\n",
       "</div>"
      ],
      "text/plain": [
       "      return_rate  n_hits\n",
       "8244     0.767636  1219.0\n",
       "8019     0.766408  1198.0\n",
       "7795     0.765270  1177.0\n",
       "7604     0.763340  1156.0\n",
       "7370     0.765999  1140.0\n",
       "...           ...     ...\n",
       "91       0.624449    23.0\n",
       "82       0.601091    20.0\n",
       "67       0.622418    17.0\n",
       "59       0.587318    14.0\n",
       "52       0.646651    13.0\n",
       "\n",
       "[77 rows x 2 columns]"
      ]
     },
     "execution_count": 26,
     "metadata": {},
     "output_type": "execute_result"
    }
   ],
   "source": [
    "g = gain(me.tansho_return_proper, X_test)\n",
    "g"
   ]
  },
  {
   "cell_type": "code",
   "execution_count": 27,
   "metadata": {},
   "outputs": [
    {
     "data": {
      "image/png": "[encoded data removed]",
      "text/plain": [
       "<Figure size 432x288 with 1 Axes>"
      ]
     },
     "metadata": {
      "needs_background": "light"
     },
     "output_type": "display_data"
    }
   ],
   "source": [
    "(g['n_hits'] / g.index).plot()\n",
    "plt.grid()"
   ]
  },
  {
   "cell_type": "code",
   "execution_count": 30,
   "metadata": {},
   "outputs": [
    {
     "name": "stderr",
     "output_type": "stream",
     "text": [
      "100%|██████████| 100/100 [04:02<00:00,  2.42s/it]\n"
     ]
    }
   ],
   "source": [
    "g_tansho = gain(me.tansho_return, X_test)"
   ]
  },
  {
   "cell_type": "code",
   "execution_count": 31,
   "metadata": {},
   "outputs": [
    {
     "data": {
      "image/png": "[encoded data removed]",
      "text/plain": [
       "<Figure size 432x288 with 1 Axes>"
      ]
     },
     "metadata": {
      "needs_background": "light"
     },
     "output_type": "display_data"
    }
   ],
   "source": [
    "plt.plot(g.index, g['return_rate'])\n",
    "plt.plot(g_tansho.index, g_tansho['return_rate'])\n",
    "plt.grid()"
   ]
  },
  {
   "cell_type": "code",
   "execution_count": 32,
   "metadata": {},
   "outputs": [
    {
     "data": {
      "text/plain": [
       "return_rate       0.766048\n",
       "n_hits         1219.000000\n",
       "dtype: float64"
      ]
     },
     "execution_count": 32,
     "metadata": {},
     "output_type": "execute_result"
    }
   ],
   "source": [
    "g_tansho.max()"
   ]
  },
  {
   "cell_type": "markdown",
   "metadata": {},
   "source": [
    "### 8．回収率の標準偏差"
   ]
  },
  {
   "cell_type": "code",
   "execution_count": 68,
   "metadata": {},
   "outputs": [],
   "source": [
    "me = ModelEvaluator(lgb_clf, 'return_tables.pickle')"
   ]
  },
  {
   "cell_type": "code",
   "execution_count": 51,
   "metadata": {},
   "outputs": [
    {
     "name": "stderr",
     "output_type": "stream",
     "text": [
      "100%|██████████| 100/100 [03:52<00:00,  2.32s/it]\n"
     ]
    }
   ],
   "source": [
    "g = gain(me.tansho_return, X_test)"
   ]
  },
  {
   "cell_type": "code",
   "execution_count": 52,
   "metadata": {},
   "outputs": [
    {
     "data": {
      "text/html": [
       "<div>\n",
       "<style scoped>\n",
       "    .dataframe tbody tr th:only-of-type {\n",
       "        vertical-align: middle;\n",
       "    }\n",
       "\n",
       "    .dataframe tbody tr th {\n",
       "        vertical-align: top;\n",
       "    }\n",
       "\n",
       "    .dataframe thead th {\n",
       "        text-align: right;\n",
       "    }\n",
       "</style>\n",
       "<table border=\"1\" class=\"dataframe\">\n",
       "  <thead>\n",
       "    <tr style=\"text-align: right;\">\n",
       "      <th></th>\n",
       "      <th>return_rate</th>\n",
       "      <th>n_hits</th>\n",
       "      <th>std</th>\n",
       "    </tr>\n",
       "  </thead>\n",
       "  <tbody>\n",
       "    <tr>\n",
       "      <th>8244</th>\n",
       "      <td>0.709959</td>\n",
       "      <td>1219.0</td>\n",
       "      <td>0.022119</td>\n",
       "    </tr>\n",
       "    <tr>\n",
       "      <th>8019</th>\n",
       "      <td>0.705624</td>\n",
       "      <td>1198.0</td>\n",
       "      <td>0.022115</td>\n",
       "    </tr>\n",
       "    <tr>\n",
       "      <th>7795</th>\n",
       "      <td>0.707300</td>\n",
       "      <td>1177.0</td>\n",
       "      <td>0.022511</td>\n",
       "    </tr>\n",
       "    <tr>\n",
       "      <th>7604</th>\n",
       "      <td>0.708877</td>\n",
       "      <td>1156.0</td>\n",
       "      <td>0.022937</td>\n",
       "    </tr>\n",
       "    <tr>\n",
       "      <th>7370</th>\n",
       "      <td>0.713881</td>\n",
       "      <td>1140.0</td>\n",
       "      <td>0.023300</td>\n",
       "    </tr>\n",
       "    <tr>\n",
       "      <th>...</th>\n",
       "      <td>...</td>\n",
       "      <td>...</td>\n",
       "      <td>...</td>\n",
       "    </tr>\n",
       "    <tr>\n",
       "      <th>10</th>\n",
       "      <td>0.350000</td>\n",
       "      <td>1.0</td>\n",
       "      <td>0.350000</td>\n",
       "    </tr>\n",
       "    <tr>\n",
       "      <th>7</th>\n",
       "      <td>0.500000</td>\n",
       "      <td>1.0</td>\n",
       "      <td>0.500000</td>\n",
       "    </tr>\n",
       "    <tr>\n",
       "      <th>6</th>\n",
       "      <td>0.000000</td>\n",
       "      <td>0.0</td>\n",
       "      <td>0.000000</td>\n",
       "    </tr>\n",
       "    <tr>\n",
       "      <th>4</th>\n",
       "      <td>0.000000</td>\n",
       "      <td>0.0</td>\n",
       "      <td>0.000000</td>\n",
       "    </tr>\n",
       "    <tr>\n",
       "      <th>3</th>\n",
       "      <td>0.000000</td>\n",
       "      <td>0.0</td>\n",
       "      <td>0.000000</td>\n",
       "    </tr>\n",
       "  </tbody>\n",
       "</table>\n",
       "<p>94 rows × 3 columns</p>\n",
       "</div>"
      ],
      "text/plain": [
       "      return_rate  n_hits       std\n",
       "8244     0.709959  1219.0  0.022119\n",
       "8019     0.705624  1198.0  0.022115\n",
       "7795     0.707300  1177.0  0.022511\n",
       "7604     0.708877  1156.0  0.022937\n",
       "7370     0.713881  1140.0  0.023300\n",
       "...           ...     ...       ...\n",
       "10       0.350000     1.0  0.350000\n",
       "7        0.500000     1.0  0.500000\n",
       "6        0.000000     0.0  0.000000\n",
       "4        0.000000     0.0  0.000000\n",
       "3        0.000000     0.0  0.000000\n",
       "\n",
       "[94 rows x 3 columns]"
      ]
     },
     "execution_count": 52,
     "metadata": {},
     "output_type": "execute_result"
    }
   ],
   "source": [
    "g"
   ]
  },
  {
   "cell_type": "code",
   "execution_count": 72,
   "metadata": {},
   "outputs": [
    {
     "data": {
      "image/png": "[encoded data removed]",
      "text/plain": [
       "<Figure size 432x288 with 1 Axes>"
      ]
     },
     "metadata": {
      "needs_background": "light"
     },
     "output_type": "display_data"
    }
   ],
   "source": [
    "plt.fill_between(g.index, y1=g['return_rate']-g['std'], y2=g['return_rate']+g['std'], alpha=0.3)\n",
    "plt.plot(g.index, g['return_rate'], label='tansho')\n",
    "plt.fill_between(g_proper.index, y1=g_proper['return_rate']-g_proper['std'], y2=g_proper['return_rate']+g_proper['std'], alpha=0.3)\n",
    "plt.plot(g_proper.index, g_proper['return_rate'], label='proper')\n",
    "plt.xlim(-10, 1000)\n",
    "plt.legend()\n",
    "plt.grid()"
   ]
  },
  {
   "cell_type": "code",
   "execution_count": 62,
   "metadata": {},
   "outputs": [
    {
     "data": {
      "image/png": "[encoded data removed]",
      "text/plain": [
       "<Figure size 432x288 with 1 Axes>"
      ]
     },
     "metadata": {
      "needs_background": "light"
     },
     "output_type": "display_data"
    }
   ],
   "source": [
    "plt.plot(g.index, g['std'])\n",
    "plt.xlim(-10, 1000)\n",
    "plt.grid()"
   ]
  },
  {
   "cell_type": "code",
   "execution_count": 69,
   "metadata": {},
   "outputs": [
    {
     "name": "stderr",
     "output_type": "stream",
     "text": [
      "100%|██████████| 100/100 [03:41<00:00,  2.21s/it]\n"
     ]
    }
   ],
   "source": [
    "g_proper = gain(me.tansho_return_proper, X_test)"
   ]
  },
  {
   "cell_type": "code",
   "execution_count": 70,
   "metadata": {},
   "outputs": [
    {
     "data": {
      "text/html": [
       "<div>\n",
       "<style scoped>\n",
       "    .dataframe tbody tr th:only-of-type {\n",
       "        vertical-align: middle;\n",
       "    }\n",
       "\n",
       "    .dataframe tbody tr th {\n",
       "        vertical-align: top;\n",
       "    }\n",
       "\n",
       "    .dataframe thead th {\n",
       "        text-align: right;\n",
       "    }\n",
       "</style>\n",
       "<table border=\"1\" class=\"dataframe\">\n",
       "  <thead>\n",
       "    <tr style=\"text-align: right;\">\n",
       "      <th></th>\n",
       "      <th>return_rate</th>\n",
       "      <th>n_hits</th>\n",
       "      <th>std</th>\n",
       "    </tr>\n",
       "  </thead>\n",
       "  <tbody>\n",
       "    <tr>\n",
       "      <th>8244</th>\n",
       "      <td>0.767636</td>\n",
       "      <td>1219.0</td>\n",
       "      <td>0.013972</td>\n",
       "    </tr>\n",
       "    <tr>\n",
       "      <th>8019</th>\n",
       "      <td>0.766408</td>\n",
       "      <td>1198.0</td>\n",
       "      <td>0.014249</td>\n",
       "    </tr>\n",
       "    <tr>\n",
       "      <th>7795</th>\n",
       "      <td>0.765270</td>\n",
       "      <td>1177.0</td>\n",
       "      <td>0.014531</td>\n",
       "    </tr>\n",
       "    <tr>\n",
       "      <th>7604</th>\n",
       "      <td>0.763340</td>\n",
       "      <td>1156.0</td>\n",
       "      <td>0.014802</td>\n",
       "    </tr>\n",
       "    <tr>\n",
       "      <th>7370</th>\n",
       "      <td>0.765999</td>\n",
       "      <td>1140.0</td>\n",
       "      <td>0.015091</td>\n",
       "    </tr>\n",
       "    <tr>\n",
       "      <th>...</th>\n",
       "      <td>...</td>\n",
       "      <td>...</td>\n",
       "      <td>...</td>\n",
       "    </tr>\n",
       "    <tr>\n",
       "      <th>10</th>\n",
       "      <td>0.243525</td>\n",
       "      <td>1.0</td>\n",
       "      <td>0.243525</td>\n",
       "    </tr>\n",
       "    <tr>\n",
       "      <th>7</th>\n",
       "      <td>0.359878</td>\n",
       "      <td>1.0</td>\n",
       "      <td>0.359878</td>\n",
       "    </tr>\n",
       "    <tr>\n",
       "      <th>6</th>\n",
       "      <td>0.000000</td>\n",
       "      <td>0.0</td>\n",
       "      <td>0.000000</td>\n",
       "    </tr>\n",
       "    <tr>\n",
       "      <th>4</th>\n",
       "      <td>0.000000</td>\n",
       "      <td>0.0</td>\n",
       "      <td>0.000000</td>\n",
       "    </tr>\n",
       "    <tr>\n",
       "      <th>3</th>\n",
       "      <td>0.000000</td>\n",
       "      <td>0.0</td>\n",
       "      <td>0.000000</td>\n",
       "    </tr>\n",
       "  </tbody>\n",
       "</table>\n",
       "<p>94 rows × 3 columns</p>\n",
       "</div>"
      ],
      "text/plain": [
       "      return_rate  n_hits       std\n",
       "8244     0.767636  1219.0  0.013972\n",
       "8019     0.766408  1198.0  0.014249\n",
       "7795     0.765270  1177.0  0.014531\n",
       "7604     0.763340  1156.0  0.014802\n",
       "7370     0.765999  1140.0  0.015091\n",
       "...           ...     ...       ...\n",
       "10       0.243525     1.0  0.243525\n",
       "7        0.359878     1.0  0.359878\n",
       "6        0.000000     0.0  0.000000\n",
       "4        0.000000     0.0  0.000000\n",
       "3        0.000000     0.0  0.000000\n",
       "\n",
       "[94 rows x 3 columns]"
      ]
     },
     "execution_count": 70,
     "metadata": {},
     "output_type": "execute_result"
    }
   ],
   "source": [
    "g_proper"
   ]
  },
  {
   "cell_type": "code",
   "execution_count": 71,
   "metadata": {},
   "outputs": [
    {
     "data": {
      "image/png": "[encoded data removed]",
      "text/plain": [
       "<Figure size 432x288 with 1 Axes>"
      ]
     },
     "metadata": {
      "needs_background": "light"
     },
     "output_type": "display_data"
    }
   ],
   "source": [
    "plt.plot(g.index, g['std'], label='tansho')\n",
    "plt.plot(g_proper.index, g_proper['std'], label='proper')\n",
    "plt.xlim(-10, 1000)\n",
    "plt.legend()\n",
    "plt.grid()"
   ]
  },
  {
   "cell_type": "code",
   "execution_count": 73,
   "metadata": {},
   "outputs": [
    {
     "data": {
      "image/png": "[encoded data removed]",
      "text/plain": [
       "<Figure size 432x288 with 1 Axes>"
      ]
     },
     "metadata": {
      "needs_background": "light"
     },
     "output_type": "display_data"
    }
   ],
   "source": [
    "plt.plot(g.index, (g['return_rate'] - 1) / g['std'], label='tansho')\n",
    "plt.plot(g_proper.index, (g_proper['return_rate'] - 1) / g_proper['std'], label='proper')\n",
    "plt.xlim(-10, 1000)\n",
    "plt.legend()\n",
    "plt.grid()"
   ]
  },
  {
   "cell_type": "code",
   "execution_count": null,
   "metadata": {},
   "outputs": [],
   "source": []
  }
 ],
 "metadata": {
  "kernelspec": {
   "display_name": "Python 3",
   "language": "python",
   "name": "python3"
  },
  "language_info": {
   "codemirror_mode": {
    "name": "ipython",
    "version": 3
   },
   "file_extension": ".py",
   "mimetype": "text/x-python",
   "name": "python",
   "nbconvert_exporter": "python",
   "pygments_lexer": "ipython3",
   "version": "3.7.6"
  }
 },
 "nbformat": 4,
 "nbformat_minor": 4
}
