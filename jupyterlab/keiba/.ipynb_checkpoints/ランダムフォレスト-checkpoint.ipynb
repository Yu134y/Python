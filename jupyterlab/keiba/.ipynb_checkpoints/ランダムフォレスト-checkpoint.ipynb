{
 "cells": [
  {
   "cell_type": "markdown",
   "metadata": {},
   "source": [
    "### BeautifulSoupで競馬予想"
   ]
  },
  {
   "cell_type": "code",
   "execution_count": 1,
   "metadata": {},
   "outputs": [],
   "source": [
    "import pandas as pd\n",
    "import requests\n",
    "from bs4 import BeautifulSoup\n",
    "import time\n",
    "import re\n",
    "import datetime"
   ]
  },
  {
   "cell_type": "code",
   "execution_count": 2,
   "metadata": {},
   "outputs": [],
   "source": [
    "def scrape_race_info(race_id_list):\n",
    "    race_infos = {}\n",
    "    for race_id in race_id_list:\n",
    "        try:\n",
    "            url = 'https://db.netkeiba.com/race/' + race_id\n",
    "            html = requests.get(url)\n",
    "            html.encoding = 'EUC-JP'\n",
    "            soup = BeautifulSoup(html.text, 'html.parser')\n",
    "\n",
    "            texts = soup.find('div', attrs={'class': 'data_intro'}).find_all('p')[0].text + soup.find('div', attrs={'class': 'data_intro'}).find_all('p')[1].text\n",
    "            info = re.findall(r'\\w+', texts)\n",
    "            info_dict = {}\n",
    "            for text in info:\n",
    "                if text in ['芝', 'ダート']:\n",
    "                    info_dict['race_type'] = text\n",
    "                if '障' in text:\n",
    "                    info_dict['race_type'] = '障害'\n",
    "                if 'm' in text:\n",
    "                    info_dict['course_len'] = int(re.findall(r'\\d+', text)[0])\n",
    "                if text in ['良', '稍重', '重', '不良']:\n",
    "                    info_dict['ground_state'] = text\n",
    "                if text in ['曇', '晴', '雨', '小雨', '小雪', '雪']:\n",
    "                    info_dict['weather'] = text\n",
    "                if '年' in text:\n",
    "                    info_dict['date'] = text\n",
    "            race_infos[race_id] = info_dict\n",
    "            time.sleep(1)\n",
    "        except IndexError:\n",
    "            continue\n",
    "        except Exception as e:\n",
    "            print(e)\n",
    "            break\n",
    "        except:\n",
    "            break\n",
    "    return race_infos"
   ]
  },
  {
   "cell_type": "code",
   "execution_count": 3,
   "metadata": {},
   "outputs": [],
   "source": [
    "# 保存したpickleファイルからデータ取得\n",
    "results = pd.read_pickle('results.pickle')"
   ]
  },
  {
   "cell_type": "code",
   "execution_count": 4,
   "metadata": {},
   "outputs": [],
   "source": [
    "#レースID一覧を取得してスクレイピング\n",
    "race_id_list = results.index.unique()\n",
    "race_infos = scrape_race_info(race_id_list)"
   ]
  },
  {
   "cell_type": "code",
   "execution_count": 5,
   "metadata": {},
   "outputs": [],
   "source": [
    "#DataFrame型にする\n",
    "race_infos = pd.DataFrame(race_infos).T"
   ]
  },
  {
   "cell_type": "code",
   "execution_count": 6,
   "metadata": {},
   "outputs": [],
   "source": [
    "# resultsに結合\n",
    "results_addinfo = results.merge(race_infos, left_index=True, right_index=True, how='inner')"
   ]
  },
  {
   "cell_type": "code",
   "execution_count": 7,
   "metadata": {},
   "outputs": [],
   "source": [
    "# データを保存\n",
    "results_addinfo.to_pickle('results_addinfo.pickle')"
   ]
  },
  {
   "cell_type": "code",
   "execution_count": 8,
   "metadata": {},
   "outputs": [],
   "source": [
    "#date列の処理を追加\n",
    "def preprocessing(results):\n",
    "    df = results.copy()\n",
    "\n",
    "    # 着順に数字以外の文字列が含まれているものを取り除く\n",
    "    df = df[~(df['着順'].astype(str).str.contains('\\D'))]\n",
    "    df['着順'] = df['着順'].astype(int)\n",
    "\n",
    "    # 性齢を性と年齢に分ける\n",
    "    df['性'] = df['性齢'].map(lambda x: str(x)[0])\n",
    "    df['年齢'] = df['性齢'].map(lambda x: str(x)[1:]).astype(int)\n",
    "\n",
    "    # 馬体重を体重と体重変化に分ける\n",
    "    df['体重'] = df['馬体重'].str.split('(', expand=True)[0].astype(int)\n",
    "    df['体重変化'] = df['馬体重'].str.split('(', expand=True)[1].str[:-1].astype(int)\n",
    "\n",
    "    # データをint, floatに変換\n",
    "    df['単勝'] = df['単勝'].astype(float)\n",
    "    df['course_len'] = df['course_len'].astype(int)\n",
    "    \n",
    "    # 不要な列を削除\n",
    "    df.drop(['タイム', '着差', '調教師', '性齢', '馬体重'], axis=1, inplace=True)\n",
    "    \n",
    "    df['date'] = pd.to_datetime(df['date'], format='%Y年%m月%d日')\n",
    "\n",
    "    return df"
   ]
  },
  {
   "cell_type": "code",
   "execution_count": 9,
   "metadata": {},
   "outputs": [],
   "source": [
    "# 前処理\n",
    "results_p = preprocessing(results_addinfo)"
   ]
  },
  {
   "cell_type": "code",
   "execution_count": 40,
   "metadata": {},
   "outputs": [],
   "source": [
    "# 時系列に沿ってデータを分割\n",
    "def split_data(df, test_size=0.3):\n",
    "    sorted_id_list = df.sort_values('date').index.unique()   \n",
    "    train_id_list = sorted_id_list[:round(len(sorted_id_list) * (1 - test_size))]\n",
    "    test_id_list = sorted_id_list[round(len(sorted_id_list) * (1 - test_size)):]\n",
    "    train = df.loc[train_id_list]\n",
    "    test = df.loc[test_id_list]\n",
    "    return train, test"
   ]
  },
  {
   "cell_type": "code",
   "execution_count": 11,
   "metadata": {},
   "outputs": [],
   "source": [
    "results_p.drop(['馬名'], axis=1, inplace=True)"
   ]
  },
  {
   "cell_type": "code",
   "execution_count": 12,
   "metadata": {},
   "outputs": [],
   "source": [
    "results_d = pd.get_dummies(results_p)"
   ]
  },
  {
   "cell_type": "code",
   "execution_count": 13,
   "metadata": {},
   "outputs": [],
   "source": [
    "results_d['rank'] = results_d['着順'].map(lambda x: x if x < 4 else 4)"
   ]
  },
  {
   "cell_type": "code",
   "execution_count": 14,
   "metadata": {},
   "outputs": [],
   "source": [
    "train, test = split_data(results_d, test_size=0.3)"
   ]
  },
  {
   "cell_type": "code",
   "execution_count": 15,
   "metadata": {},
   "outputs": [],
   "source": [
    "X_train = train.drop(['着順', 'date', 'rank'], axis=1)\n",
    "y_train = train['rank']\n",
    "X_test = test.drop(['着順', 'date', 'rank'], axis=1)\n",
    "y_test = test['rank']"
   ]
  },
  {
   "cell_type": "code",
   "execution_count": 16,
   "metadata": {},
   "outputs": [],
   "source": [
    "from imblearn.under_sampling import RandomUnderSampler"
   ]
  },
  {
   "cell_type": "code",
   "execution_count": 19,
   "metadata": {},
   "outputs": [],
   "source": [
    "# アンダーサンプリング\n",
    "rank_1 = train['rank'].value_counts()[1]\n",
    "rank_2 = train['rank'].value_counts()[2]\n",
    "rank_3 = train['rank'].value_counts()[3]\n",
    "\n",
    "rus = RandomUnderSampler(sampling_strategy={1: rank_1, 2: rank_2, 3: rank_3, 4: rank_1}, random_state=71)\n",
    "X_train_rus, y_train_rus = rus.fit_resample(X_train, y_train)"
   ]
  },
  {
   "cell_type": "code",
   "execution_count": 20,
   "metadata": {},
   "outputs": [],
   "source": [
    "from sklearn.ensemble import RandomForestClassifier"
   ]
  },
  {
   "cell_type": "code",
   "execution_count": 21,
   "metadata": {},
   "outputs": [
    {
     "name": "stdout",
     "output_type": "stream",
     "text": [
      "0.7229148428774111 0.5393467228932886\n"
     ]
    }
   ],
   "source": [
    "# ランダムフォレストによる予測\n",
    "clf = RandomForestClassifier(random_state=0)\n",
    "clf.fit(X_train_rus, y_train_rus)\n",
    "print(clf.score(X_train, y_train), clf.score(X_test, y_test))"
   ]
  },
  {
   "cell_type": "markdown",
   "metadata": {},
   "source": [
    "### モデルを作る"
   ]
  },
  {
   "cell_type": "code",
   "execution_count": 35,
   "metadata": {},
   "outputs": [],
   "source": [
    "# 前処理\n",
    "results_p = preprocessing(results_addinfo)"
   ]
  },
  {
   "cell_type": "code",
   "execution_count": 41,
   "metadata": {},
   "outputs": [],
   "source": [
    "# 着順を0or1にする\n",
    "results_p['rank'] = results_p['着順'].map(lambda x: 1 if x < 4 else 0)\n",
    "results_p.drop(['着順'], axis=1, inplace=True)"
   ]
  },
  {
   "cell_type": "code",
   "execution_count": 46,
   "metadata": {},
   "outputs": [],
   "source": [
    "results_d = pd.get_dummies(results_p)"
   ]
  },
  {
   "cell_type": "code",
   "execution_count": 47,
   "metadata": {},
   "outputs": [],
   "source": [
    "train, test = split_data(results_d)"
   ]
  },
  {
   "cell_type": "code",
   "execution_count": 48,
   "metadata": {},
   "outputs": [],
   "source": [
    "X_train = train.drop(['rank', 'date'], axis=1)\n",
    "y_train = train['rank']\n",
    "X_test = test.drop(['rank', 'date'], axis=1)\n",
    "y_test = test['rank']"
   ]
  },
  {
   "cell_type": "code",
   "execution_count": 51,
   "metadata": {},
   "outputs": [
    {
     "data": {
      "text/plain": [
       "RandomForestClassifier(random_state=100)"
      ]
     },
     "execution_count": 51,
     "metadata": {},
     "output_type": "execute_result"
    }
   ],
   "source": [
    "# ランダムフォレストによる予測モデル作成\n",
    "rf = RandomForestClassifier(random_state=100)\n",
    "rf.fit(X_train, y_train)"
   ]
  },
  {
   "cell_type": "code",
   "execution_count": 52,
   "metadata": {},
   "outputs": [],
   "source": [
    "y_pred = rf.predict_proba(X_test)[:, 1]"
   ]
  },
  {
   "cell_type": "code",
   "execution_count": 53,
   "metadata": {},
   "outputs": [],
   "source": [
    "from sklearn.metrics import roc_curve, roc_auc_score\n",
    "import matplotlib.pyplot as plt"
   ]
  },
  {
   "cell_type": "code",
   "execution_count": 54,
   "metadata": {},
   "outputs": [
    {
     "data": {
      "image/png": "[encoded data removed]",
      "text/plain": [
       "<Figure size 432x288 with 1 Axes>"
      ]
     },
     "metadata": {
      "needs_background": "light"
     },
     "output_type": "display_data"
    }
   ],
   "source": [
    "#ROC曲線の表示\n",
    "fpr, tpr, thresholds = roc_curve(y_test, y_pred)\n",
    "plt.plot(fpr, tpr, marker='o')\n",
    "plt.xlabel('False positive rate')\n",
    "plt.ylabel('True positive rate')\n",
    "plt.grid()\n",
    "plt.show()"
   ]
  },
  {
   "cell_type": "code",
   "execution_count": 57,
   "metadata": {},
   "outputs": [
    {
     "data": {
      "text/plain": [
       "0.7904520431644172"
      ]
     },
     "execution_count": 57,
     "metadata": {},
     "output_type": "execute_result"
    }
   ],
   "source": [
    "#AUCスコアの表示\n",
    "roc_auc_score(y_test, y_pred)"
   ]
  },
  {
   "cell_type": "code",
   "execution_count": 60,
   "metadata": {},
   "outputs": [
    {
     "data": {
      "image/png": "[encoded data removed]",
      "text/plain": [
       "<Figure size 432x288 with 1 Axes>"
      ]
     },
     "metadata": {
      "needs_background": "light"
     },
     "output_type": "display_data"
    }
   ],
   "source": [
    "fpr, tpr, thresholds = roc_curve(y_train, y_pred_train)\n",
    "plt.plot(fpr, tpr, marker='o')\n",
    "plt.xlabel('False positive rate')\n",
    "plt.ylabel('True positive rate')\n",
    "plt.grid()\n",
    "plt.show()"
   ]
  },
  {
   "cell_type": "code",
   "execution_count": 61,
   "metadata": {},
   "outputs": [
    {
     "data": {
      "text/plain": [
       "1.0"
      ]
     },
     "execution_count": 61,
     "metadata": {},
     "output_type": "execute_result"
    }
   ],
   "source": [
    "y_pred_train = rf.predict_proba(X_train)[:, 1]\n",
    "roc_auc_score(y_train, y_pred_train)"
   ]
  },
  {
   "cell_type": "code",
   "execution_count": null,
   "metadata": {},
   "outputs": [],
   "source": [
    "# パラメータの調整\n",
    "params = {\n",
    "    'min_samples_split': 500,\n",
    "    'max_depth': None,\n",
    "    'n_estimators': 60,\n",
    "    'criterion': 'entropy',\n",
    "    'class_weight': 'balanced',\n",
    "    'random_state': 100,\n",
    "}\n",
    "\n",
    "rf = RandomForestClassifier(**params)\n",
    "rf.fit(X_train, y_train)\n",
    "y_pred_train = rf.predict_proba(X_train)[:, 1]\n",
    "y_pred = rf.predict_proba(X_test)[:, 1]\n",
    "print(roc_auc_score(y_train, y_pred_train))\n",
    "print(roc_auc_score(y_test, y_pred))"
   ]
  },
  {
   "cell_type": "code",
   "execution_count": null,
   "metadata": {},
   "outputs": [],
   "source": [
    "# 変数の重要度の表示\n",
    "importances = pd.DataFrame({'features': X_train.columns, 'importance': rf.feature_importances_})\n",
    "importances.sort_values('importance', ascending=False)[:20]"
   ]
  },
  {
   "cell_type": "code",
   "execution_count": null,
   "metadata": {},
   "outputs": [],
   "source": []
  }
 ],
 "metadata": {
  "kernelspec": {
   "display_name": "Python 3",
   "language": "python",
   "name": "python3"
  },
  "language_info": {
   "codemirror_mode": {
    "name": "ipython",
    "version": 3
   },
   "file_extension": ".py",
   "mimetype": "text/x-python",
   "name": "python",
   "nbconvert_exporter": "python",
   "pygments_lexer": "ipython3",
   "version": "3.7.6"
  }
 },
 "nbformat": 4,
 "nbformat_minor": 4
}
