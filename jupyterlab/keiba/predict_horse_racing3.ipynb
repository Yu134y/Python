{
 "cells": [
  {
   "cell_type": "markdown",
   "metadata": {},
   "source": [
    "### 1．インポート"
   ]
  },
  {
   "cell_type": "code",
   "execution_count": 1,
   "metadata": {},
   "outputs": [],
   "source": [
    "import pandas as pd\n",
    "import numpy as np\n",
    "import matplotlib.pyplot as plt\n",
    "import re\n",
    "import time\n",
    "import datetime\n",
    "import requests\n",
    "from tqdm import tqdm\n",
    "from bs4 import BeautifulSoup\n",
    "from sklearn.metrics import roc_auc_score\n",
    "from sklearn.preprocessing import LabelEncoder\n",
    "import lightgbm as lgb\n",
    "from urllib.request import urlopen\n",
    "import optuna.integration.lightgbm as lgb_o"
   ]
  },
  {
   "cell_type": "markdown",
   "metadata": {},
   "source": [
    "### 1.1　クラス"
   ]
  },
  {
   "cell_type": "code",
   "execution_count": 2,
   "metadata": {},
   "outputs": [],
   "source": [
    "# 訓練データと出馬表データを加工する抽象クラス\n",
    "class DataProcessor:\n",
    "    def __init__(self):\n",
    "        self.data = pd.DataFrame()\n",
    "        # preprocessing後の変数\n",
    "        self.data_p = pd.DataFrame()\n",
    "        # horse_resultsをmergeした後の変数\n",
    "        self.data_h = pd.DataFrame()\n",
    "        # pedsをmergeした後の変数\n",
    "        self.data_pe = pd.DataFrame()\n",
    "        # カテゴリ変数化した後の変数\n",
    "        self.data_c = pd.DataFrame()\n",
    "        \n",
    "    # 馬の過去成績データの追加\n",
    "    def merge_horse_results(self, hr, n_samples_list=[5, 9, 'all']):\n",
    "        self.data_h = self.data_p.copy()\n",
    "        for n_samples in n_samples_list:\n",
    "            self.data_h = hr.merge_all(self.data_h, n_samples=n_samples)\n",
    "            \n",
    "    # 血統データ追加\n",
    "    def merge_peds(self, peds):\n",
    "        self.data_pe = self.data_h.merge(peds, left_on='horse_id', right_index=True, how='left')\n",
    "        self.no_peds = self.data_pe[self.data_pe['peds_0'].isnull()]['horse_id'].unique()\n",
    "        if len(self.no_peds):\n",
    "            print('scrape peds at horse_id_list \"no_peds\"')\n",
    "    \n",
    "    # カテゴリ変数の処理\n",
    "    def process_categorical(self, le_horse, le_jockey, results_m):\n",
    "        df = self.data_pe.copy()\n",
    "        \n",
    "        # ラベルエンコーディング(horse_id, jockey_idを0始まりの整数に変換)\n",
    "        # horse_id\n",
    "        mask_horse = df['horse_id'].isin(le_horse.classes_)\n",
    "        new_horse_id = df['horse_id'].mask(mask_horse).dropna().unique()\n",
    "        le_horse.classes_ = np.concatenate([le_horse.classes_, new_horse_id])\n",
    "        df['horse_id'] = le_horse.transform(df['horse_id'])\n",
    "        \n",
    "        # jockey_id\n",
    "        mask_jockey = df['jockey_id'].isin(le_jockey.classes_)\n",
    "        new_jockey_id = df['jockey_id'].mask(mask_jockey).dropna().unique()\n",
    "        le_jockey.classes_ = np.concatenate([le_jockey.classes_, new_jockey_id])\n",
    "        df['jockey_id'] = le_jockey.transform(df['jockey_id'])\n",
    "        \n",
    "        # horse_id, jockey_idをcategory型に変換\n",
    "        df['horse_id'] = df['horse_id'].astype('category')\n",
    "        df['jockey_id'] = df['jockey_id'].astype('category')\n",
    "        \n",
    "        # そのほかのカテゴリ変数をcategory型に変換してからダミー変数化\n",
    "        weathers = results_m['weather'].unique()\n",
    "        race_types = results_m['race_type'].unique()\n",
    "        ground_states = results_m['ground_state'].unique()\n",
    "        sexes = results_m['性'].unique()\n",
    "        df['weather'] = pd.Categorical(df['weather'], weathers)\n",
    "        df['race_type'] = pd.Categorical(df['race_type'], race_types)\n",
    "        df['ground_state'] = pd.Categorical(df['ground_state'], ground_states)\n",
    "        df['性'] = pd.Categorical(df['性'], sexes)\n",
    "        \n",
    "        df = pd.get_dummies(df, columns=['weather', 'race_type', 'ground_state', '性'])  \n",
    "        self.data_c = df\n",
    "\n",
    "# 予測に使う出馬表データを加工するクラス\n",
    "class ShutubaTable(DataProcessor):\n",
    "    def __init__(self, shutuba_tables):\n",
    "        super(ShutubaTable, self).__init__()\n",
    "        self.data = shutuba_tables\n",
    "    \n",
    "    @classmethod\n",
    "    def scrape(cls, race_id_list, date):\n",
    "        data = pd.DataFrame()\n",
    "        for race_id in tqdm(race_id_list):\n",
    "            url = f'https://race.netkeiba.com/race/shutuba.html?race_id={race_id}'\n",
    "            df = pd.read_html(url)[0]\n",
    "            df = df.T.reset_index(level=0, drop=True).T\n",
    "\n",
    "            html = requests.get(url)\n",
    "            html.encoding = 'EUC-JP'\n",
    "            soup = BeautifulSoup(html.text, 'html.parser')\n",
    "\n",
    "            # race_data\n",
    "            texts = soup.find('div', attrs={'class': 'RaceData01'}).text\n",
    "            texts = re.findall(r'\\w+', texts)\n",
    "            for text in texts:\n",
    "                if 'm' in text:\n",
    "                    df['course_len'] = [int(re.findall(r'\\d+', text)[0])] * len(df)\n",
    "                if text in ['曇', '晴', '雨', '小雨', '小雪', '雪']:\n",
    "                    df['weather'] = [text] * len(df)\n",
    "                if text in ['良', '稍重', '重']:\n",
    "                    df['ground_state'] = [text] * len(df)\n",
    "                if '不' in text:\n",
    "                    df['ground_state'] = ['不良'] * len(df)\n",
    "                if '芝' in text:\n",
    "                    df['race_type'] = ['芝'] * len(df)\n",
    "                if '障' in text:\n",
    "                    df['race_type'] = ['障害'] * len(df)\n",
    "                if 'ダ' in text:\n",
    "                    df['race_type'] = ['ダート'] * len(df)\n",
    "            df['date'] = [date] * len(df)\n",
    "\n",
    "            # horse_id\n",
    "            horse_id_list = []\n",
    "            horse_td_list = soup.find_all('td', attrs={'class': 'HorseInfo'})\n",
    "            for td in horse_td_list:\n",
    "                horse_id = re.findall(r'\\d+', td.find('a')['href'])[0]\n",
    "                horse_id_list.append(horse_id)\n",
    "            df['horse_id'] = horse_id_list\n",
    "\n",
    "            # jockey_id\n",
    "            jockey_id_list = []\n",
    "            jockey_td_list = soup.find_all('td', attrs={'class': 'Jockey'})\n",
    "            for td in jockey_td_list:\n",
    "                jockey_id = re.findall(r'\\d+', td.find('a')['href'])[0]\n",
    "                jockey_id_list.append(jockey_id)\n",
    "            df['jockey_id'] = jockey_id_list\n",
    "\n",
    "            df.index = [race_id] * len(df)\n",
    "            data = data.append(df)\n",
    "            time.sleep(1)\n",
    "        \n",
    "        return cls(data)\n",
    "    \n",
    "    # 前処理\n",
    "    def preprocessing(self):\n",
    "        df = self.data.copy()\n",
    "        \n",
    "        # 性齢を性と年齢に分ける\n",
    "        df['性'] = df['性齢'].map(lambda x: str(x)[0])\n",
    "        df['年齢'] = df['性齢'].map(lambda x: str(x)[1:]).astype(int)\n",
    "\n",
    "        # 馬体重を体重と体重変化に分ける\n",
    "        df = df[df['馬体重(増減)'] != '--']\n",
    "        df['体重'] = df['馬体重(増減)'].str.split('(', expand=True)[0].astype(int)\n",
    "        df['体重変化'] = df['馬体重(増減)'].str.split('(', expand=True)[1].str[:-1].astype(int)\n",
    "        \n",
    "        # 日付をdatetime型に変更\n",
    "        df['date'] = pd.to_datetime(df['date'])\n",
    "\n",
    "        # データをint, floatに変換\n",
    "        df['枠'] = df['枠'].astype(int)\n",
    "        df['馬番'] = df['馬番'].astype(int)\n",
    "        df['斤量'] = df['斤量'].astype(int)\n",
    "\n",
    "    \n",
    "        # 必要な列だけにする\n",
    "        df = df[['枠', '馬番', '斤量', 'course_len', 'weather', 'race_type', 'ground_state', 'date', 'horse_id', 'jockey_id', '性', '年齢', '体重', '体重変化']]\n",
    "\n",
    "        self.data_p = df.rename(columns={'枠': '枠番'})\n",
    "\n",
    "# 訓練に使う過去レースデータを加工するクラス\n",
    "class Results(DataProcessor):\n",
    "    def __init__(self, results):\n",
    "        super(Results, self).__init__()\n",
    "        self.data = results\n",
    "    \n",
    "    @classmethod\n",
    "    def read_pickle(cls, path_list):\n",
    "        df = pd.read_pickle(path_list[0])\n",
    "        for path in path_list[1:]:\n",
    "            df = update_data(df, pd.read_pickle(path))\n",
    "        return cls(df)\n",
    "    \n",
    "    @staticmethod\n",
    "    def scrape(race_id_list):\n",
    "        # race_idをkeyにしてDataFrame型を格納\n",
    "        race_results = {}\n",
    "        for race_id in tqdm(race_id_list):\n",
    "            time.sleep(1)\n",
    "            try:\n",
    "                url = f'https://db.netkeiba.com/race/{race_id}'\n",
    "                # メインとなるテーブルデータを取得\n",
    "                df = pd.read_html(url)[0]\n",
    "\n",
    "                html = requests.get(url)\n",
    "                html.encoding = 'EUC-JP'\n",
    "                soup = BeautifulSoup(html.text, 'html.parser')\n",
    "\n",
    "                # 天候、レースの種類、コースの長さ、馬場の状態、日付をスクレイピング\n",
    "                texts = (\n",
    "                    soup.find('div', attrs={'class': 'data_intro'}).find_all('p')[0].text\n",
    "                    + soup.find('div', attrs={'class': 'data_intro'}).find_all('p')[1].text\n",
    "                )\n",
    "                info = re.findall(r'\\w+', texts)\n",
    "                for text in info:\n",
    "                    if text in ['芝', 'ダート']:\n",
    "                        df['race_type'] = [text] * len(df)\n",
    "                    if '障' in text:\n",
    "                        df['race_type'] = ['障害'] * len(df)\n",
    "                    if 'm' in text:\n",
    "                        df['course_len'] = [int(re.findall(r'\\d+', text)[0])] * len(df)\n",
    "                    if text in ['良', '稍重', '重', '不良']:\n",
    "                        df['ground_state'] = [text] * len(df)\n",
    "                    if text in ['曇', '晴', '雨', '小雨', '小雪', '雪']:\n",
    "                        df['weather'] = [text] * len(df)\n",
    "                    if '年' in text:\n",
    "                        df['date'] = [text] * len(df)\n",
    "\n",
    "                # 馬ID、騎手IDをスクレイピング\n",
    "                horse_id_list = []\n",
    "                horse_a_list = soup.find('table', attrs={'summary': 'レース結果'}).find_all('a', attrs={'href': re.compile('^/horse')})\n",
    "                for a in horse_a_list:\n",
    "                    horse_id = re.findall(r'\\d+', a['href'])\n",
    "                    horse_id_list.append(horse_id[0])\n",
    "                jockey_id_list = []\n",
    "                jockey_a_list = soup.find(\"table\", attrs={'summary': 'レース結果'}).find_all('a', attrs={'href': re.compile('^/jockey')})\n",
    "                for a in jockey_a_list:\n",
    "                    jockey_id = re.findall(r'\\d+', a['href'])\n",
    "                    jockey_id_list.append(jockey_id[0])\n",
    "                df['horse_id'] = horse_id_list\n",
    "                df['jockey_id'] = jockey_id_list\n",
    "\n",
    "                #インデックスをrace_idにする\n",
    "                df.index = [race_id] * len(df)\n",
    "\n",
    "                race_results[race_id] = df\n",
    "            # 存在しないrace_idを飛ばす\n",
    "            except IndexError:\n",
    "                continue\n",
    "            # wifiの接続が切れた時などでも途中までのデータを返せるようにする\n",
    "            except Exception as e:\n",
    "                print(e)\n",
    "                break\n",
    "            # Jupyterで停止ボタンを押した時の対処\n",
    "            except:\n",
    "                break\n",
    "\n",
    "        # pd.DataFrame型にして一つのデータにまとめる\n",
    "        race_results_df = pd.concat([race_results[key] for key in race_results])\n",
    "\n",
    "        return race_results_df\n",
    "    \n",
    "    # 前処理\n",
    "    def preprocessing(self):\n",
    "        df = self.data.copy()\n",
    "\n",
    "        # 着順に数字以外の文字列が含まれているものを取り除く\n",
    "        df = df[~(df['着順'].astype(str).str.contains('\\D'))]\n",
    "        df['着順'] = df['着順'].astype(int)\n",
    "        df['rank'] = df['着順'].map(lambda x: 1 if x < 4 else 0)\n",
    "\n",
    "        # 性齢を性と年齢に分ける\n",
    "        df['性'] = df['性齢'].map(lambda x: str(x)[0])\n",
    "        df['年齢'] = df['性齢'].map(lambda x: str(x)[1:]).astype(int)\n",
    "\n",
    "        # 馬体重を体重と体重変化に分ける\n",
    "        df['体重'] = df['馬体重'].str.split('(', expand=True)[0].astype(int)\n",
    "        df['体重変化'] = df['馬体重'].str.split('(', expand=True)[1].str[:-1].astype(int)\n",
    "\n",
    "        # データをint, floatに変換\n",
    "        df['単勝'] = df['単勝'].astype(float)\n",
    "        df['course_len'] = df['course_len'].astype(int)\n",
    "\n",
    "        # 不要な列を削除\n",
    "        df.drop(['タイム', '着差', '調教師', '性齢', '馬体重', '馬名', '騎手', '単勝', '人気', '着順'], axis=1, inplace=True)\n",
    "\n",
    "        df['date'] = pd.to_datetime(df['date'], format='%Y年%m月%d日')\n",
    "\n",
    "        self.data_p = df\n",
    "    \n",
    "    # カテゴリ変数の処理\n",
    "    def process_categorical(self):\n",
    "        self.le_horse = LabelEncoder().fit(self.data_pe['horse_id'])\n",
    "        self.le_jockey = LabelEncoder().fit(self.data_pe['jockey_id'])        \n",
    "        super().process_categorical(self.le_horse, self.le_jockey, self.data_pe)\n",
    "\n",
    "# 馬の過去成績データを処理するクラス\n",
    "class HorseResults:\n",
    "    def __init__(self, horse_results):\n",
    "        self.horse_results = horse_results[['日付', '着順', '賞金', '着差', '通過']]\n",
    "        self.preprocessing()\n",
    "    \n",
    "    @classmethod\n",
    "    def read_pickle(cls, path_list):\n",
    "        df = pd.read_pickle(path_list[0])\n",
    "        for path in path_list[1:]:\n",
    "            df = update_data(df, pd.read_pickle(path))\n",
    "        return cls(df)\n",
    "    \n",
    "    @staticmethod\n",
    "    def scrape(horse_id_list):\n",
    "        # horse_idをkeyにしてDataFrame型を格納\n",
    "        horse_results = {}\n",
    "        for horse_id in tqdm(horse_id_list):\n",
    "            try:\n",
    "                time.sleep(1)\n",
    "                url = f'https://db.netkeiba.com/horse/{horse_id}'\n",
    "                # メインとなるテーブルデータを取得\n",
    "                df = pd.read_html(url)[3]\n",
    "                # 受賞歴がある馬の場合、4番目に受賞歴テーブルが来るため、5番目のデータを取得する\n",
    "                if df.columns[0] == '受賞歴':\n",
    "                    df = pd.read_html(url)[4]\n",
    "                horse_results[horse_id] = df\n",
    "            except IndexError:\n",
    "                continue\n",
    "            except Exception as e:\n",
    "                print(e)\n",
    "                break\n",
    "            except:\n",
    "                break\n",
    "        \n",
    "        # pd.DataFrame型にして一つのデータにまとめる\n",
    "        horse_results_df = pd.concat([horse_results[key] for key in horse_results])\n",
    "        \n",
    "        return horse_results_df\n",
    "        \n",
    "    def preprocessing(self):\n",
    "        df = self.horse_results.copy()\n",
    "        \n",
    "        # 着順に数字以外の文字列が含まれているものを取り除く\n",
    "        df['着順'] = pd.to_numeric(df['着順'], errors='coerce')\n",
    "        df.dropna(subset=['着順'], inplace=True)\n",
    "        df['着順'] = df['着順'].astype(int)\n",
    "        \n",
    "        df['date'] = pd.to_datetime(df['日付'])\n",
    "        df.drop(['日付'], axis=1, inplace=True)\n",
    "        \n",
    "        # 賞金の欠損値を0で埋める\n",
    "        df['賞金'].fillna(0, inplace=True)\n",
    "        \n",
    "        # 1着の着差を0にする\n",
    "        df['着差'] = df['着差'].map(lambda x: 0 if x < 0 else x)\n",
    "                                            \n",
    "        # レース展開データ\n",
    "        def corner(x, n):\n",
    "            if type(x) != str:\n",
    "                return x\n",
    "            # n=1: 最初のコーナー位置、n=4: 最終コーナー位置\n",
    "            if n == 1:\n",
    "                return int(re.findall(r'\\d+', x)[0])\n",
    "            if n == 4:\n",
    "                return int(re.findall(r'\\d+', x)[-1])\n",
    "                                            \n",
    "        df['first_corner'] = df['通過'].map(lambda x: corner(x, 1))\n",
    "        df['final_corner'] = df['通過'].map(lambda x: corner(x, 4))\n",
    "        \n",
    "        df['final_to_rank'] = df['final_corner'] - df['着順']\n",
    "        df['first_to_rank'] = df['first_corner'] - df['着順']\n",
    "        df['first_to_final'] = df['first_corner'] - df['final_corner']\n",
    "                            \n",
    "        self.horse_results = df\n",
    "    \n",
    "    def average(self, horse_id_list, date, n_samples='all'):\n",
    "        target_df = self.horse_results.query('index in @horse_id_list')\n",
    "        \n",
    "        # 過去何走分取り出すか指定\n",
    "        if n_samples == 'all':\n",
    "            filtered_df = target_df[target_df['date'] < date]\n",
    "        elif n_samples > 0:\n",
    "            filtered_df = target_df[target_df['date'] < date].sort_values('date', ascending=False).groupby(level=0).head(n_samples)\n",
    "        else:\n",
    "            raise Exception('n_samples must be integer')\n",
    "            \n",
    "        average = filtered_df.groupby(level=0)[['着順', '賞金', '着差', 'first_corner', 'final_corner', 'final_to_rank', 'first_to_rank', 'first_to_final']].mean()\n",
    "        rename_columns = average.rename(columns={'着順': f'着順_{n_samples}R',\n",
    "                                                 '賞金': f'賞金_{n_samples}R',\n",
    "                                                 '着差': f'着差_{n_samples}R',\n",
    "                                                 'first_corner': f'first_corner_{n_samples}R',\n",
    "                                                 'final_corner': f'final_corner_{n_samples}R',\n",
    "                                                 'final_to_rank': f'final_to_rank_{n_samples}R',\n",
    "                                                 'first_to_rank': f'first_to_rank_{n_samples}R',\n",
    "                                                 'first_to_final': f'first_to_final_{n_samples}R'\n",
    "                                                })\n",
    "                                                 \n",
    "        return rename_columns\n",
    "    \n",
    "    def merge(self, results, date, n_samples='all'):\n",
    "        df = results[results['date'] == date]\n",
    "        horse_id_list = df['horse_id']\n",
    "        merged_df = df.merge(self.average(horse_id_list, date, n_samples), left_on='horse_id', right_index=True, how='left')\n",
    "        return merged_df\n",
    "    \n",
    "    def merge_all(self, results, n_samples='all'):\n",
    "        date_list = results['date'].unique()\n",
    "        merged_df = pd.concat([self.merge(results, date, n_samples) for date in date_list])\n",
    "        return merged_df\n",
    "\n",
    "# 血統データを処理するクラス\n",
    "class Peds:\n",
    "    def __init__(self, peds):\n",
    "        self.peds = peds\n",
    "        # LabelEncodingしてcategory型にした変数\n",
    "        self.peds_e = pd.DataFrame()\n",
    "    \n",
    "    @classmethod\n",
    "    def read_pickle(cls, path_list):\n",
    "        df = pd.read_pickle(path_list[0])\n",
    "        for path in path_list[1:]:\n",
    "            df = update_data(df, pd.read_pickle(path))\n",
    "        return cls(df)\n",
    "    \n",
    "    @staticmethod\n",
    "    def scrape(horse_id_list):\n",
    "        # 血統データを取り出す\n",
    "        peds_dict = {}\n",
    "        for horse_id in tqdm(horse_id_list):\n",
    "            try:\n",
    "                url = f'https://db.netkeiba.com/horse/ped/{horse_id}'\n",
    "                df = pd.read_html(url)[0]\n",
    "\n",
    "                # 重複を削除して1列のSeries型データに治す\n",
    "                generations = {}\n",
    "                for i in reversed(range(5)):\n",
    "                    generations[i] = df[i]\n",
    "                    df.drop([i], axis=1, inplace=True)\n",
    "                    df = df.drop_duplicates()\n",
    "\n",
    "                ped = pd.concat([generations[i] for i in range(5)]).rename(horse_id)\n",
    "                peds_dict[horse_id] = ped.reset_index(drop=True)\n",
    "                time.sleep(1)\n",
    "            except IndexError:\n",
    "                continue\n",
    "            except Exception as e:\n",
    "                print(e)\n",
    "                break\n",
    "            except:\n",
    "                break\n",
    "        \n",
    "        # 列名をpeds_0, ..., peds_61にする\n",
    "        peds_df = pd.concat([peds_dict[key] for key in peds_dict], axis=1).T.add_prefix('peds_')\n",
    "        \n",
    "        return peds_df\n",
    "    \n",
    "    def encode(self):\n",
    "        df = self.peds.copy()\n",
    "        for column in df.columns:\n",
    "            df[column] = LabelEncoder().fit_transform(df[column].fillna('Na'))\n",
    "        self.peds_e = df.astype('category')\n",
    "\n",
    "# 払い戻しデータを加工するクラス\n",
    "class Return:\n",
    "    def __init__(self, return_tables):\n",
    "        self.return_tables = return_tables\n",
    "    \n",
    "    @classmethod\n",
    "    def read_pickle(cls, path_list):\n",
    "        df = pd.read_pickle(path_list[0])\n",
    "        for path in path_list[1:]:\n",
    "            df = update_data(df, pd.read_pickle(path))\n",
    "        return cls(df)\n",
    "    \n",
    "    @staticmethod\n",
    "    def scrape(race_id_list):\n",
    "        return_tables = {}\n",
    "        for race_id in tqdm(race_id_list):\n",
    "            try:\n",
    "                url = f'https://db.netkeiba.com/race/{race_id}'\n",
    "\n",
    "                # 複勝やワイドなどが区切られてしまうため、改行コードを文字列に変換して後でsplitする\n",
    "                f = urlopen(url)\n",
    "                html = f.read()\n",
    "                html = html.replace(b'<br />', b'br')            \n",
    "                dfs = pd.read_html(html)\n",
    "\n",
    "                # dfsの2番目に単勝～馬連、3番目にワイド～3連単がある\n",
    "                df = pd.concat([dfs[1], dfs[2]])\n",
    "                \n",
    "                df.index = [race_id] * len(df)\n",
    "                return_tables[race_id] = df\n",
    "                time.sleep(1)\n",
    "            except IndexError:\n",
    "                continue\n",
    "            except Exception as e:\n",
    "                print(e)\n",
    "                break\n",
    "            except:\n",
    "                break\n",
    "        \n",
    "        # pd.DataFrame型にして一つのデータにまとめる\n",
    "        return_tables_df = pd.concat([return_tables[key] for key in return_tables])\n",
    "        \n",
    "        return return_tables_df\n",
    "    \n",
    "    @property\n",
    "    def fukusho(self):\n",
    "        # 複勝の勝ち馬と払い戻しのデータを取り出す\n",
    "        fukusho = self.return_tables[self.return_tables[0] == '複勝'][[1, 2]]\n",
    "        \n",
    "        # 勝ち馬\n",
    "        wins = fukusho[1].str.split('br', expand=True)[[0, 1, 2]]\n",
    "        wins.columns = ['win_0', 'win_1', 'win_2']\n",
    "        \n",
    "        # 払い戻し\n",
    "        returns = fukusho[2].str.split('br', expand=True)[[0, 1, 2]]\n",
    "        returns.columns = ['return_0', 'return_1', 'return_2']\n",
    "        \n",
    "        df = pd.concat([wins, returns], axis=1)\n",
    "        \n",
    "        # int型に変換できないデータがあるので処理\n",
    "        for column in df.columns:\n",
    "            df[column] = df[column].str.replace(',', '')\n",
    "            \n",
    "        df = df.fillna(0).astype(int)\n",
    "        \n",
    "        return df\n",
    "    \n",
    "    @property\n",
    "    def tansho(self):\n",
    "        tansho = self.return_tables[self.return_tables[0] == '単勝'][[1, 2]]\n",
    "        tansho.columns = ['win', 'return']\n",
    "        \n",
    "        for column in tansho.columns:\n",
    "            tansho[column] = pd.to_numeric(tansho[column], errors='coerce')\n",
    "            \n",
    "        return tansho\n",
    "\n",
    "# 予測モデルを評価するクラス\n",
    "class ModelEvaluator:\n",
    "    def __init__(self, model, return_tables_path, std=True):\n",
    "        self.model = model\n",
    "        self.fukusho = Return.read_pickle([return_tables_path]).fukusho\n",
    "        self.tansho = Return.read_pickle([return_tables_path]).tansho\n",
    "        self.std = std\n",
    "        \n",
    "    def predict_proba(self, x):\n",
    "        # 1（3着以内）になる確率を予測\n",
    "        proba = pd.Series(self.model.predict_proba(x)[:, 1], index=x.index)\n",
    "        if self.std:\n",
    "            # 標準化\n",
    "            standard_scaler = lambda x: (x - x.mean()) / x.std()\n",
    "            proba = proba.groupby(level=0).transform(standard_scaler)\n",
    "            # MinMaxスケーリング：データを0から1にする\n",
    "            proba = (proba - proba.min()) / (proba.max() - proba.min())\n",
    "        return proba\n",
    "    \n",
    "    def predict(self, x, threshold=0.5):\n",
    "        # thresholdの値によってpredict_probaで出した値を0か1に決定する\n",
    "        y_pred = self.predict_proba(x)\n",
    "        return [0 if p < threshold else 1 for p in y_pred]\n",
    "    \n",
    "    def score(self, y_true, x):\n",
    "        # スコアを表示\n",
    "        return roc_auc_score(y_true, self.predict_proba(x))\n",
    "    \n",
    "    def feature_importance(self, x, n_display=20):\n",
    "        # 変数の重要度を出力\n",
    "        importances = pd.DataFrame(\n",
    "            {\"features\": x.columns, \"importance\": self.model.feature_importances_}\n",
    "        )\n",
    "        return importances.sort_values('importance', ascending=False)[:n_display]\n",
    "    \n",
    "    def pred_table(self, x, threshold=0.5, bet_only=True):\n",
    "        # 予測したレースIDと馬番を出力する\n",
    "        pred_table = x.copy()[['馬番']]\n",
    "        pred_table['pred'] = self.predict(x, threshold)\n",
    "        \n",
    "        if bet_only:\n",
    "            return pred_table[pred_table['pred'] == 1]['馬番']\n",
    "        \n",
    "        return pred_table\n",
    "    \n",
    "    def fukusho_return(self, x, threshold=0.5):\n",
    "        # 複勝の払い戻しを表示\n",
    "        pred_table = self.pred_table(x, threshold)\n",
    "        n_bets = len(pred_table)\n",
    "        money = -100 * n_bets\n",
    "        df = self.fukusho.copy()\n",
    "        df = df.merge(pred_table, left_index=True, right_index=True, how='right')\n",
    "        for i in range(3):\n",
    "            money += df[df[f'win_{i}'] == df['馬番']][f'return_{i}'].sum()\n",
    "        return_rate = (n_bets * 100 + money) / (n_bets * 100)\n",
    "        return n_bets, return_rate\n",
    "    \n",
    "    def tansho_return(self, x, threshold=0.5):\n",
    "        # 単勝の払い戻しを表示\n",
    "        pred_table = self.pred_table(x, threshold)\n",
    "        n_bets = len(pred_table)\n",
    "        money = -100 * n_bets\n",
    "        df = self.tansho.copy()\n",
    "        df = df.merge(pred_table, left_index=True, right_index=True, how='right')\n",
    "        money += df[df['win'] == df['馬番']]['return'].sum()\n",
    "        return_rate = (n_bets * 100 + money) / (n_bets * 100)\n",
    "        return n_bets, return_rate\n",
    "    \n",
    "    def tansho_return_proper(self, X, threshold=0.5):\n",
    "        pred_table = self.pred_table(X, threshold)\n",
    "        n_bets = len(pred_table)\n",
    "        df = self.tansho.copy()\n",
    "        df = df.merge(pred_table, left_index=True, right_index=True, how='right')\n",
    "        \n",
    "        # 単勝適性回収値を計算\n",
    "        return_rate = len(df.query('win == 馬番')) / (100 / df['return']).sum()\n",
    "        \n",
    "        return n_bets, return_rate"
   ]
  },
  {
   "cell_type": "markdown",
   "metadata": {},
   "source": [
    "### 1.2　関数"
   ]
  },
  {
   "cell_type": "code",
   "execution_count": 3,
   "metadata": {},
   "outputs": [],
   "source": [
    "# 時系列に沿って訓練データとテストデータに分ける関数\n",
    "def split_data(df, test_size=0.3):\n",
    "    sorted_id_list = df.sort_values('date').index.unique()   \n",
    "    train_id_list = sorted_id_list[:round(len(sorted_id_list) * (1 - test_size))]\n",
    "    test_id_list = sorted_id_list[round(len(sorted_id_list) * (1 - test_size)):]\n",
    "    train = df.loc[train_id_list]#.drop(['date'], axis=1)\n",
    "    test = df.loc[test_id_list]#.drop(['date'], axis=1)\n",
    "    return train, test\n",
    "\n",
    "# 回収率を計算する関数\n",
    "def gain(return_func, x, n_samples=100, lower=50, min_threshold=0.5):\n",
    "    gain = {}\n",
    "    for i in tqdm(range(n_samples)):\n",
    "        threshold = (i / n_samples) + (min_threshold * (1 - (i / n_samples)))\n",
    "        n_bets, return_rate = return_func(x, threshold)\n",
    "        if n_bets > lower:\n",
    "            gain[n_bets] = return_rate\n",
    "    return pd.Series(gain)\n",
    "\n",
    "# 重複のないデータを作成する関数\n",
    "def update_data(old, new):\n",
    "    filtered_old = old[~old.index.isin(new.index)]\n",
    "    return pd.concat([filtered_old, new])"
   ]
  },
  {
   "cell_type": "markdown",
   "metadata": {},
   "source": [
    "### 2．前処理"
   ]
  },
  {
   "cell_type": "code",
   "execution_count": 4,
   "metadata": {},
   "outputs": [],
   "source": [
    "r = Results.read_pickle(['results.pickle'])\n",
    "\n",
    "# 前処理\n",
    "r.preprocessing()\n",
    "\n",
    "# 馬の過去成績データの追加\n",
    "hr = HorseResults.read_pickle(['horse_results.pickle'])\n",
    "r.merge_horse_results(hr)\n",
    "\n",
    "# 5世代分の血統データの追加\n",
    "p = Peds.read_pickle(['peds.pickle'])\n",
    "p.encode()\n",
    "r.merge_peds(p.peds_e)\n",
    "\n",
    "# カテゴリ変数の処理\n",
    "r.process_categorical()"
   ]
  },
  {
   "cell_type": "markdown",
   "metadata": {},
   "source": [
    "### 3．予測"
   ]
  },
  {
   "cell_type": "code",
   "execution_count": 5,
   "metadata": {},
   "outputs": [],
   "source": [
    "# 時系列に沿って訓練データとテストデータに分ける\n",
    "train, test = split_data(r.data_c)\n",
    "X_train = train.drop(['rank', 'date'], axis=1)\n",
    "y_train = train['rank']\n",
    "X_test = test.drop(['rank', 'date'], axis=1)\n",
    "y_test = test['rank']"
   ]
  },
  {
   "cell_type": "code",
   "execution_count": 6,
   "metadata": {},
   "outputs": [
    {
     "data": {
      "text/plain": [
       "LGBMClassifier(class_weight='balanced', n_estimators=80, num_leaves=4,\n",
       "               random_state=100)"
      ]
     },
     "execution_count": 6,
     "metadata": {},
     "output_type": "execute_result"
    }
   ],
   "source": [
    "params = {\n",
    "    'num_leaves': 4,\n",
    "    'n_estimators': 80,\n",
    "    'class_weight': 'balanced',\n",
    "    'random_state': 100\n",
    "}\n",
    "\n",
    "lgb_clf = lgb.LGBMClassifier(**params)\n",
    "lgb_clf.fit(X_train.values, y_train.values)"
   ]
  },
  {
   "cell_type": "code",
   "execution_count": 7,
   "metadata": {},
   "outputs": [],
   "source": [
    "me = ModelEvaluator(lgb_clf, 'return_tables.pickle')"
   ]
  },
  {
   "cell_type": "code",
   "execution_count": 8,
   "metadata": {},
   "outputs": [],
   "source": [
    "# gain_baseline = gain(me.tansho_return, X_test)\n",
    "# gain_baseline.to_pickle('gain_baseline.pickle')"
   ]
  },
  {
   "cell_type": "code",
   "execution_count": 9,
   "metadata": {},
   "outputs": [],
   "source": [
    "gain_baseline = pd.read_pickle('gain_baseline.pickle')"
   ]
  },
  {
   "cell_type": "markdown",
   "metadata": {},
   "source": [
    "#### 4．単勝適性回収値\n",
    "常に払戻額が一定になるように単勝で賭けた場合の回収率<br>\n",
    "払戻額が常に1万円になるように賭けてみる"
   ]
  },
  {
   "cell_type": "markdown",
   "metadata": {},
   "source": [
    "賭けた金額<br>\n",
    "x円賭けるとすると<br>\n",
    "$$\n",
    "各馬番の単勝オッズ \\times \\frac{x}{100} = 10000 \\\\\n",
    "\\therefore \\quad x = \\frac{100 \\times 10000}{各馬番の単勝オッズ}\n",
    "$$"
   ]
  },
  {
   "cell_type": "markdown",
   "metadata": {},
   "source": [
    "回収率 = 払戻額 / 賭けた金額"
   ]
  },
  {
   "cell_type": "code",
   "execution_count": 10,
   "metadata": {},
   "outputs": [],
   "source": [
    "# gain_proper = gain(me.tansho_return_proper, X_test)\n",
    "# gain_proper.to_pickle('gain_proper.pickle')"
   ]
  },
  {
   "cell_type": "code",
   "execution_count": 11,
   "metadata": {},
   "outputs": [],
   "source": [
    "gain_proper = pd.read_pickle('gain_proper.pickle')"
   ]
  },
  {
   "cell_type": "code",
   "execution_count": 12,
   "metadata": {},
   "outputs": [
    {
     "data": {
      "image/png": "[encoded data removed]",
      "text/plain": [
       "<Figure size 720x576 with 1 Axes>"
      ]
     },
     "metadata": {
      "needs_background": "light"
     },
     "output_type": "display_data"
    }
   ],
   "source": [
    "plt.figure(figsize=(10, 8))\n",
    "gain_baseline.rename('baseline').plot(legend=True)\n",
    "gain_proper.rename('proper').plot(legend=True)\n",
    "plt.grid()"
   ]
  },
  {
   "cell_type": "markdown",
   "metadata": {},
   "source": [
    "### 5．Optuna"
   ]
  },
  {
   "cell_type": "code",
   "execution_count": 13,
   "metadata": {},
   "outputs": [],
   "source": [
    "# 訓練データ、検証データ、テストデータに分ける\n",
    "train, test = split_data(r.data_c)\n",
    "train, valid = split_data(train)"
   ]
  },
  {
   "cell_type": "code",
   "execution_count": 14,
   "metadata": {},
   "outputs": [],
   "source": [
    "# 説明変数と目的変数に分ける\n",
    "X_train = train.drop(['rank', 'date'], axis=1)\n",
    "y_train = train['rank']\n",
    "X_valid = valid.drop(['rank', 'date'], axis=1)\n",
    "y_valid = valid['rank']\n",
    "X_test = test.drop(['rank', 'date'], axis=1)\n",
    "y_test = test['rank']"
   ]
  },
  {
   "cell_type": "code",
   "execution_count": 15,
   "metadata": {},
   "outputs": [
    {
     "name": "stderr",
     "output_type": "stream",
     "text": [
      "\u001b[32m[I 2022-03-21 16:54:27,807]\u001b[0m A new study created in memory with name: no-name-7d902950-c744-4ff4-af1c-0dc00275a1ad\u001b[0m\n",
      "feature_fraction, val_score: inf:   0%|          | 0/7 [00:00<?, ?it/s]"
     ]
    },
    {
     "name": "stdout",
     "output_type": "stream",
     "text": [
      "Training until validation scores don't improve for 10 rounds\n"
     ]
    },
    {
     "name": "stderr",
     "output_type": "stream",
     "text": [
      "feature_fraction, val_score: 0.466952:  14%|#4        | 1/7 [00:04<00:27,  4.64s/it]\u001b[32m[I 2022-03-21 16:54:32,460]\u001b[0m Trial 0 finished with value: 0.4669522928192853 and parameters: {'feature_fraction': 1.0}. Best is trial 0 with value: 0.4669522928192853.\u001b[0m\n",
      "feature_fraction, val_score: 0.466952:  14%|#4        | 1/7 [00:04<00:27,  4.64s/it]"
     ]
    },
    {
     "name": "stdout",
     "output_type": "stream",
     "text": [
      "Early stopping, best iteration is:\n",
      "[66]\tvalid_0's binary_logloss: 0.424361\tvalid_1's binary_logloss: 0.466952\n",
      "Training until validation scores don't improve for 10 rounds\n"
     ]
    },
    {
     "name": "stderr",
     "output_type": "stream",
     "text": [
      "feature_fraction, val_score: 0.464526:  29%|##8       | 2/7 [00:08<00:22,  4.52s/it]\u001b[32m[I 2022-03-21 16:54:36,715]\u001b[0m Trial 1 finished with value: 0.4645258436479782 and parameters: {'feature_fraction': 0.5}. Best is trial 1 with value: 0.4645258436479782.\u001b[0m\n",
      "feature_fraction, val_score: 0.464526:  29%|##8       | 2/7 [00:08<00:22,  4.52s/it]"
     ]
    },
    {
     "name": "stdout",
     "output_type": "stream",
     "text": [
      "Early stopping, best iteration is:\n",
      "[75]\tvalid_0's binary_logloss: 0.421952\tvalid_1's binary_logloss: 0.464526\n",
      "Training until validation scores don't improve for 10 rounds\n"
     ]
    },
    {
     "name": "stderr",
     "output_type": "stream",
     "text": [
      "feature_fraction, val_score: 0.464526:  43%|####2     | 3/7 [00:13<00:17,  4.47s/it]\u001b[32m[I 2022-03-21 16:54:41,052]\u001b[0m Trial 2 finished with value: 0.46627659842249697 and parameters: {'feature_fraction': 0.6}. Best is trial 1 with value: 0.4645258436479782.\u001b[0m\n",
      "feature_fraction, val_score: 0.464526:  43%|####2     | 3/7 [00:13<00:17,  4.47s/it]"
     ]
    },
    {
     "name": "stdout",
     "output_type": "stream",
     "text": [
      "Early stopping, best iteration is:\n",
      "[78]\tvalid_0's binary_logloss: 0.418812\tvalid_1's binary_logloss: 0.466277\n",
      "Training until validation scores don't improve for 10 rounds\n"
     ]
    },
    {
     "name": "stderr",
     "output_type": "stream",
     "text": [
      "feature_fraction, val_score: 0.464526:  57%|#####7    | 4/7 [00:18<00:13,  4.60s/it]\u001b[32m[I 2022-03-21 16:54:45,978]\u001b[0m Trial 3 finished with value: 0.46572789257771885 and parameters: {'feature_fraction': 0.8999999999999999}. Best is trial 1 with value: 0.4645258436479782.\u001b[0m\n",
      "feature_fraction, val_score: 0.464526:  57%|#####7    | 4/7 [00:18<00:13,  4.60s/it]"
     ]
    },
    {
     "name": "stdout",
     "output_type": "stream",
     "text": [
      "Early stopping, best iteration is:\n",
      "[75]\tvalid_0's binary_logloss: 0.419338\tvalid_1's binary_logloss: 0.465728\n",
      "Training until validation scores don't improve for 10 rounds\n"
     ]
    },
    {
     "name": "stderr",
     "output_type": "stream",
     "text": [
      "feature_fraction, val_score: 0.464526:  71%|#######1  | 5/7 [00:22<00:08,  4.38s/it]\u001b[32m[I 2022-03-21 16:54:49,844]\u001b[0m Trial 4 finished with value: 0.46598710191190645 and parameters: {'feature_fraction': 0.8}. Best is trial 1 with value: 0.4645258436479782.\u001b[0m\n",
      "feature_fraction, val_score: 0.464526:  71%|#######1  | 5/7 [00:22<00:08,  4.38s/it]"
     ]
    },
    {
     "name": "stdout",
     "output_type": "stream",
     "text": [
      "Early stopping, best iteration is:\n",
      "[60]\tvalid_0's binary_logloss: 0.428381\tvalid_1's binary_logloss: 0.465987\n",
      "Training until validation scores don't improve for 10 rounds\n"
     ]
    },
    {
     "name": "stderr",
     "output_type": "stream",
     "text": [
      "feature_fraction, val_score: 0.464526:  86%|########5 | 6/7 [00:25<00:04,  4.25s/it]\u001b[32m[I 2022-03-21 16:54:53,771]\u001b[0m Trial 5 finished with value: 0.4652228363658496 and parameters: {'feature_fraction': 0.4}. Best is trial 1 with value: 0.4645258436479782.\u001b[0m\n",
      "feature_fraction, val_score: 0.464526:  86%|########5 | 6/7 [00:25<00:04,  4.25s/it]"
     ]
    },
    {
     "name": "stdout",
     "output_type": "stream",
     "text": [
      "Early stopping, best iteration is:\n",
      "[67]\tvalid_0's binary_logloss: 0.427506\tvalid_1's binary_logloss: 0.465223\n",
      "Training until validation scores don't improve for 10 rounds\n"
     ]
    },
    {
     "name": "stderr",
     "output_type": "stream",
     "text": [
      "feature_fraction, val_score: 0.464526: 100%|##########| 7/7 [00:30<00:00,  4.27s/it]\u001b[32m[I 2022-03-21 16:54:58,114]\u001b[0m Trial 6 finished with value: 0.46552737374807746 and parameters: {'feature_fraction': 0.7}. Best is trial 1 with value: 0.4645258436479782.\u001b[0m\n",
      "feature_fraction, val_score: 0.464526: 100%|##########| 7/7 [00:30<00:00,  4.33s/it]\n",
      "num_leaves, val_score: 0.464526:   0%|          | 0/20 [00:00<?, ?it/s]"
     ]
    },
    {
     "name": "stdout",
     "output_type": "stream",
     "text": [
      "Early stopping, best iteration is:\n",
      "[64]\tvalid_0's binary_logloss: 0.426837\tvalid_1's binary_logloss: 0.465527\n",
      "Training until validation scores don't improve for 10 rounds\n"
     ]
    },
    {
     "name": "stderr",
     "output_type": "stream",
     "text": [
      "num_leaves, val_score: 0.464526:   5%|5         | 1/20 [00:04<01:20,  4.23s/it]\u001b[32m[I 2022-03-21 16:55:02,360]\u001b[0m Trial 7 finished with value: 0.4662936747308065 and parameters: {'num_leaves': 66}. Best is trial 7 with value: 0.4662936747308065.\u001b[0m\n",
      "num_leaves, val_score: 0.464526:   5%|5         | 1/20 [00:04<01:20,  4.23s/it]"
     ]
    },
    {
     "name": "stdout",
     "output_type": "stream",
     "text": [
      "Early stopping, best iteration is:\n",
      "[49]\tvalid_0's binary_logloss: 0.402786\tvalid_1's binary_logloss: 0.466294\n",
      "Training until validation scores don't improve for 10 rounds\n"
     ]
    },
    {
     "name": "stderr",
     "output_type": "stream",
     "text": [
      "num_leaves, val_score: 0.464526:  10%|#         | 2/20 [00:10<01:28,  4.93s/it]\u001b[32m[I 2022-03-21 16:55:08,919]\u001b[0m Trial 8 finished with value: 0.47085886016232315 and parameters: {'num_leaves': 241}. Best is trial 7 with value: 0.4662936747308065.\u001b[0m\n",
      "num_leaves, val_score: 0.464526:  10%|#         | 2/20 [00:10<01:28,  4.93s/it]"
     ]
    },
    {
     "name": "stdout",
     "output_type": "stream",
     "text": [
      "Early stopping, best iteration is:\n",
      "[35]\tvalid_0's binary_logloss: 0.327383\tvalid_1's binary_logloss: 0.470859\n",
      "Training until validation scores don't improve for 10 rounds\n"
     ]
    },
    {
     "name": "stderr",
     "output_type": "stream",
     "text": [
      "num_leaves, val_score: 0.464526:  15%|#5        | 3/20 [00:15<01:24,  4.98s/it]\u001b[32m[I 2022-03-21 16:55:14,010]\u001b[0m Trial 9 finished with value: 0.46831513744886905 and parameters: {'num_leaves': 117}. Best is trial 7 with value: 0.4662936747308065.\u001b[0m\n",
      "num_leaves, val_score: 0.464526:  15%|#5        | 3/20 [00:15<01:24,  4.98s/it]"
     ]
    },
    {
     "name": "stdout",
     "output_type": "stream",
     "text": [
      "Early stopping, best iteration is:\n",
      "[45]\tvalid_0's binary_logloss: 0.370019\tvalid_1's binary_logloss: 0.468315\n",
      "Training until validation scores don't improve for 10 rounds\n"
     ]
    },
    {
     "name": "stderr",
     "output_type": "stream",
     "text": [
      "num_leaves, val_score: 0.464526:  20%|##        | 4/20 [00:21<01:24,  5.31s/it]\u001b[32m[I 2022-03-21 16:55:20,100]\u001b[0m Trial 10 finished with value: 0.47243863008600195 and parameters: {'num_leaves': 230}. Best is trial 7 with value: 0.4662936747308065.\u001b[0m\n",
      "num_leaves, val_score: 0.464526:  20%|##        | 4/20 [00:21<01:24,  5.31s/it]"
     ]
    },
    {
     "name": "stdout",
     "output_type": "stream",
     "text": [
      "Early stopping, best iteration is:\n",
      "[35]\tvalid_0's binary_logloss: 0.332146\tvalid_1's binary_logloss: 0.472439\n",
      "Training until validation scores don't improve for 10 rounds\n"
     ]
    },
    {
     "name": "stderr",
     "output_type": "stream",
     "text": [
      "num_leaves, val_score: 0.464526:  25%|##5       | 5/20 [00:27<01:19,  5.30s/it]\u001b[32m[I 2022-03-21 16:55:25,378]\u001b[0m Trial 11 finished with value: 0.46712097247599144 and parameters: {'num_leaves': 110}. Best is trial 7 with value: 0.4662936747308065.\u001b[0m\n",
      "num_leaves, val_score: 0.464526:  25%|##5       | 5/20 [00:27<01:19,  5.30s/it]"
     ]
    },
    {
     "name": "stdout",
     "output_type": "stream",
     "text": [
      "Early stopping, best iteration is:\n",
      "[44]\tvalid_0's binary_logloss: 0.376912\tvalid_1's binary_logloss: 0.467121\n",
      "Training until validation scores don't improve for 10 rounds\n"
     ]
    },
    {
     "name": "stderr",
     "output_type": "stream",
     "text": [
      "num_leaves, val_score: 0.464526:  30%|###       | 6/20 [00:31<01:09,  4.96s/it]\u001b[32m[I 2022-03-21 16:55:29,549]\u001b[0m Trial 12 finished with value: 0.46803031993988065 and parameters: {'num_leaves': 130}. Best is trial 7 with value: 0.4662936747308065.\u001b[0m\n",
      "num_leaves, val_score: 0.464526:  30%|###       | 6/20 [00:31<01:09,  4.96s/it]"
     ]
    },
    {
     "name": "stdout",
     "output_type": "stream",
     "text": [
      "Early stopping, best iteration is:\n",
      "[32]\tvalid_0's binary_logloss: 0.387743\tvalid_1's binary_logloss: 0.46803\n",
      "Training until validation scores don't improve for 10 rounds\n"
     ]
    },
    {
     "name": "stderr",
     "output_type": "stream",
     "text": [
      "num_leaves, val_score: 0.464526:  35%|###5      | 7/20 [00:36<01:04,  4.94s/it]\u001b[32m[I 2022-03-21 16:55:34,416]\u001b[0m Trial 13 finished with value: 0.4670773395388374 and parameters: {'num_leaves': 89}. Best is trial 7 with value: 0.4662936747308065.\u001b[0m\n",
      "num_leaves, val_score: 0.464526:  35%|###5      | 7/20 [00:36<01:04,  4.94s/it]"
     ]
    },
    {
     "name": "stdout",
     "output_type": "stream",
     "text": [
      "Early stopping, best iteration is:\n",
      "[58]\tvalid_0's binary_logloss: 0.370945\tvalid_1's binary_logloss: 0.467077\n",
      "Training until validation scores don't improve for 10 rounds\n"
     ]
    },
    {
     "name": "stderr",
     "output_type": "stream",
     "text": [
      "num_leaves, val_score: 0.464526:  40%|####      | 8/20 [00:43<01:07,  5.58s/it]\u001b[32m[I 2022-03-21 16:55:41,514]\u001b[0m Trial 14 finished with value: 0.47235236965123717 and parameters: {'num_leaves': 255}. Best is trial 7 with value: 0.4662936747308065.\u001b[0m\n",
      "num_leaves, val_score: 0.464526:  40%|####      | 8/20 [00:43<01:07,  5.58s/it]"
     ]
    },
    {
     "name": "stdout",
     "output_type": "stream",
     "text": [
      "Early stopping, best iteration is:\n",
      "[35]\tvalid_0's binary_logloss: 0.322659\tvalid_1's binary_logloss: 0.472352\n",
      "Training until validation scores don't improve for 10 rounds\n"
     ]
    },
    {
     "name": "stderr",
     "output_type": "stream",
     "text": [
      "num_leaves, val_score: 0.464526:  45%|####5     | 9/20 [00:49<01:03,  5.73s/it]\u001b[32m[I 2022-03-21 16:55:47,585]\u001b[0m Trial 15 finished with value: 0.4709611365579836 and parameters: {'num_leaves': 235}. Best is trial 7 with value: 0.4662936747308065.\u001b[0m\n",
      "num_leaves, val_score: 0.464526:  45%|####5     | 9/20 [00:49<01:03,  5.73s/it]"
     ]
    },
    {
     "name": "stdout",
     "output_type": "stream",
     "text": [
      "Early stopping, best iteration is:\n",
      "[35]\tvalid_0's binary_logloss: 0.330395\tvalid_1's binary_logloss: 0.470961\n",
      "Training until validation scores don't improve for 10 rounds\n"
     ]
    },
    {
     "name": "stderr",
     "output_type": "stream",
     "text": [
      "num_leaves, val_score: 0.464526:  50%|#####     | 10/20 [00:54<00:54,  5.45s/it]\u001b[32m[I 2022-03-21 16:55:52,382]\u001b[0m Trial 16 finished with value: 0.47020518953528406 and parameters: {'num_leaves': 140}. Best is trial 7 with value: 0.4662936747308065.\u001b[0m\n",
      "num_leaves, val_score: 0.464526:  50%|#####     | 10/20 [00:54<00:54,  5.45s/it]"
     ]
    },
    {
     "name": "stdout",
     "output_type": "stream",
     "text": [
      "Early stopping, best iteration is:\n",
      "[35]\tvalid_0's binary_logloss: 0.375845\tvalid_1's binary_logloss: 0.470205\n",
      "Training until validation scores don't improve for 10 rounds\n"
     ]
    },
    {
     "name": "stderr",
     "output_type": "stream",
     "text": [
      "num_leaves, val_score: 0.464100:  55%|#####5    | 11/20 [00:57<00:43,  4.80s/it]\u001b[32m[I 2022-03-21 16:55:55,657]\u001b[0m Trial 17 finished with value: 0.46410006823676 and parameters: {'num_leaves': 22}. Best is trial 17 with value: 0.46410006823676.\u001b[0m\n",
      "num_leaves, val_score: 0.464100:  55%|#####5    | 11/20 [00:57<00:43,  4.80s/it]"
     ]
    },
    {
     "name": "stdout",
     "output_type": "stream",
     "text": [
      "Early stopping, best iteration is:\n",
      "[70]\tvalid_0's binary_logloss: 0.438021\tvalid_1's binary_logloss: 0.4641\n",
      "Training until validation scores don't improve for 10 rounds\n",
      "[100]\tvalid_0's binary_logloss: 0.464972\tvalid_1's binary_logloss: 0.468806\n",
      "[200]\tvalid_0's binary_logloss: 0.455146\tvalid_1's binary_logloss: 0.466145\n"
     ]
    },
    {
     "name": "stderr",
     "output_type": "stream",
     "text": [
      "num_leaves, val_score: 0.464100:  60%|######    | 12/20 [01:02<00:37,  4.73s/it]\u001b[32m[I 2022-03-21 16:56:00,230]\u001b[0m Trial 18 finished with value: 0.4660096330175981 and parameters: {'num_leaves': 5}. Best is trial 17 with value: 0.46410006823676.\u001b[0m\n",
      "num_leaves, val_score: 0.464100:  60%|######    | 12/20 [01:02<00:37,  4.73s/it]"
     ]
    },
    {
     "name": "stdout",
     "output_type": "stream",
     "text": [
      "Early stopping, best iteration is:\n",
      "[210]\tvalid_0's binary_logloss: 0.454338\tvalid_1's binary_logloss: 0.46601\n",
      "Training until validation scores don't improve for 10 rounds\n",
      "[100]\tvalid_0's binary_logloss: 0.478073\tvalid_1's binary_logloss: 0.476243\n",
      "[200]\tvalid_0's binary_logloss: 0.474438\tvalid_1's binary_logloss: 0.474258\n",
      "[300]\tvalid_0's binary_logloss: 0.472169\tvalid_1's binary_logloss: 0.472868\n",
      "[400]\tvalid_0's binary_logloss: 0.470487\tvalid_1's binary_logloss: 0.471993\n",
      "Early stopping, best iteration is:\n",
      "[417]\tvalid_0's binary_logloss: 0.470242\tvalid_1's binary_logloss: 0.471842"
     ]
    },
    {
     "name": "stderr",
     "output_type": "stream",
     "text": [
      "num_leaves, val_score: 0.464100:  65%|######5   | 13/20 [01:06<00:33,  4.77s/it]\u001b[32m[I 2022-03-21 16:56:05,090]\u001b[0m Trial 19 finished with value: 0.4718419690148495 and parameters: {'num_leaves': 2}. Best is trial 17 with value: 0.46410006823676.\u001b[0m\n",
      "num_leaves, val_score: 0.464100:  65%|######5   | 13/20 [01:06<00:33,  4.77s/it]"
     ]
    },
    {
     "name": "stdout",
     "output_type": "stream",
     "text": [
      "\n",
      "Training until validation scores don't improve for 10 rounds\n",
      "[100]\tvalid_0's binary_logloss: 0.478073\tvalid_1's binary_logloss: 0.476243\n",
      "[200]\tvalid_0's binary_logloss: 0.474438\tvalid_1's binary_logloss: 0.474258\n",
      "[300]\tvalid_0's binary_logloss: 0.472169\tvalid_1's binary_logloss: 0.472868\n",
      "[400]\tvalid_0's binary_logloss: 0.470487\tvalid_1's binary_logloss: 0.471993\n",
      "Early stopping, best iteration is:\n",
      "[417]\tvalid_0's binary_logloss: 0.470242\tvalid_1's binary_logloss: 0.471842"
     ]
    },
    {
     "name": "stderr",
     "output_type": "stream",
     "text": [
      "num_leaves, val_score: 0.464100:  70%|#######   | 14/20 [01:11<00:28,  4.82s/it]\u001b[32m[I 2022-03-21 16:56:10,013]\u001b[0m Trial 20 finished with value: 0.4718419690148495 and parameters: {'num_leaves': 2}. Best is trial 17 with value: 0.46410006823676.\u001b[0m\n",
      "num_leaves, val_score: 0.464100:  70%|#######   | 14/20 [01:11<00:28,  4.82s/it]"
     ]
    },
    {
     "name": "stdout",
     "output_type": "stream",
     "text": [
      "\n",
      "Training until validation scores don't improve for 10 rounds\n"
     ]
    },
    {
     "name": "stderr",
     "output_type": "stream",
     "text": [
      "num_leaves, val_score: 0.464100:  75%|#######5  | 15/20 [01:16<00:23,  4.63s/it]\u001b[32m[I 2022-03-21 16:56:14,207]\u001b[0m Trial 21 finished with value: 0.46555310470747785 and parameters: {'num_leaves': 47}. Best is trial 17 with value: 0.46410006823676.\u001b[0m\n",
      "num_leaves, val_score: 0.464100:  75%|#######5  | 15/20 [01:16<00:23,  4.63s/it]"
     ]
    },
    {
     "name": "stdout",
     "output_type": "stream",
     "text": [
      "Early stopping, best iteration is:\n",
      "[53]\tvalid_0's binary_logloss: 0.417345\tvalid_1's binary_logloss: 0.465553\n",
      "Training until validation scores don't improve for 10 rounds\n"
     ]
    },
    {
     "name": "stderr",
     "output_type": "stream",
     "text": [
      "num_leaves, val_score: 0.464100:  80%|########  | 16/20 [01:20<00:18,  4.51s/it]\u001b[32m[I 2022-03-21 16:56:18,431]\u001b[0m Trial 22 finished with value: 0.4650941840830286 and parameters: {'num_leaves': 41}. Best is trial 17 with value: 0.46410006823676.\u001b[0m\n",
      "num_leaves, val_score: 0.464100:  80%|########  | 16/20 [01:20<00:18,  4.51s/it]"
     ]
    },
    {
     "name": "stdout",
     "output_type": "stream",
     "text": [
      "Early stopping, best iteration is:\n",
      "[54]\tvalid_0's binary_logloss: 0.423163\tvalid_1's binary_logloss: 0.465094\n",
      "Training until validation scores don't improve for 10 rounds\n"
     ]
    },
    {
     "name": "stderr",
     "output_type": "stream",
     "text": [
      "num_leaves, val_score: 0.464100:  85%|########5 | 17/20 [01:24<00:13,  4.49s/it]\u001b[32m[I 2022-03-21 16:56:22,886]\u001b[0m Trial 23 finished with value: 0.46597086311049535 and parameters: {'num_leaves': 43}. Best is trial 17 with value: 0.46410006823676.\u001b[0m\n",
      "num_leaves, val_score: 0.464100:  85%|########5 | 17/20 [01:24<00:13,  4.49s/it]"
     ]
    },
    {
     "name": "stdout",
     "output_type": "stream",
     "text": [
      "Early stopping, best iteration is:\n",
      "[61]\tvalid_0's binary_logloss: 0.415063\tvalid_1's binary_logloss: 0.465971\n",
      "Training until validation scores don't improve for 10 rounds\n"
     ]
    },
    {
     "name": "stderr",
     "output_type": "stream",
     "text": [
      "num_leaves, val_score: 0.464100:  90%|######### | 18/20 [01:31<00:10,  5.06s/it]\u001b[32m[I 2022-03-21 16:56:29,271]\u001b[0m Trial 24 finished with value: 0.4693265979554445 and parameters: {'num_leaves': 163}. Best is trial 17 with value: 0.46410006823676.\u001b[0m\n",
      "num_leaves, val_score: 0.464100:  90%|######### | 18/20 [01:31<00:10,  5.06s/it]"
     ]
    },
    {
     "name": "stdout",
     "output_type": "stream",
     "text": [
      "Early stopping, best iteration is:\n",
      "[35]\tvalid_0's binary_logloss: 0.363679\tvalid_1's binary_logloss: 0.469327\n",
      "Training until validation scores don't improve for 10 rounds\n"
     ]
    },
    {
     "name": "stderr",
     "output_type": "stream",
     "text": [
      "num_leaves, val_score: 0.464100:  95%|#########5| 19/20 [01:35<00:04,  4.76s/it]\u001b[32m[I 2022-03-21 16:56:33,324]\u001b[0m Trial 25 finished with value: 0.4649934969201699 and parameters: {'num_leaves': 33}. Best is trial 17 with value: 0.46410006823676.\u001b[0m\n",
      "num_leaves, val_score: 0.464100:  95%|#########5| 19/20 [01:35<00:04,  4.76s/it]"
     ]
    },
    {
     "name": "stdout",
     "output_type": "stream",
     "text": [
      "Early stopping, best iteration is:\n",
      "[63]\tvalid_0's binary_logloss: 0.426118\tvalid_1's binary_logloss: 0.464993\n",
      "Training until validation scores don't improve for 10 rounds\n"
     ]
    },
    {
     "name": "stderr",
     "output_type": "stream",
     "text": [
      "num_leaves, val_score: 0.464100: 100%|##########| 20/20 [01:40<00:00,  5.03s/it]\u001b[32m[I 2022-03-21 16:56:38,979]\u001b[0m Trial 26 finished with value: 0.47013444973049173 and parameters: {'num_leaves': 186}. Best is trial 17 with value: 0.46410006823676.\u001b[0m\n",
      "num_leaves, val_score: 0.464100: 100%|##########| 20/20 [01:40<00:00,  5.04s/it]\n",
      "bagging, val_score: 0.464100:   0%|          | 0/10 [00:00<?, ?it/s]"
     ]
    },
    {
     "name": "stdout",
     "output_type": "stream",
     "text": [
      "Early stopping, best iteration is:\n",
      "[37]\tvalid_0's binary_logloss: 0.34734\tvalid_1's binary_logloss: 0.470134\n",
      "Training until validation scores don't improve for 10 rounds\n"
     ]
    },
    {
     "name": "stderr",
     "output_type": "stream",
     "text": [
      "bagging, val_score: 0.464100:  10%|#         | 1/10 [00:03<00:27,  3.09s/it]\u001b[32m[I 2022-03-21 16:56:42,088]\u001b[0m Trial 27 finished with value: 0.4672130681384405 and parameters: {'bagging_fraction': 0.6606826792014431, 'bagging_freq': 7}. Best is trial 27 with value: 0.4672130681384405.\u001b[0m\n",
      "bagging, val_score: 0.464100:  10%|#         | 1/10 [00:03<00:27,  3.09s/it]"
     ]
    },
    {
     "name": "stdout",
     "output_type": "stream",
     "text": [
      "Early stopping, best iteration is:\n",
      "[78]\tvalid_0's binary_logloss: 0.435058\tvalid_1's binary_logloss: 0.467213\n",
      "Training until validation scores don't improve for 10 rounds\n"
     ]
    },
    {
     "name": "stderr",
     "output_type": "stream",
     "text": [
      "bagging, val_score: 0.464100:  20%|##        | 2/10 [00:06<00:25,  3.16s/it]\u001b[32m[I 2022-03-21 16:56:45,390]\u001b[0m Trial 28 finished with value: 0.46771939319309325 and parameters: {'bagging_fraction': 0.5567982719957818, 'bagging_freq': 2}. Best is trial 27 with value: 0.4672130681384405.\u001b[0m\n",
      "bagging, val_score: 0.464100:  20%|##        | 2/10 [00:06<00:25,  3.16s/it]"
     ]
    },
    {
     "name": "stdout",
     "output_type": "stream",
     "text": [
      "Early stopping, best iteration is:\n",
      "[49]\tvalid_0's binary_logloss: 0.448835\tvalid_1's binary_logloss: 0.467719\n",
      "Training until validation scores don't improve for 10 rounds\n"
     ]
    },
    {
     "name": "stderr",
     "output_type": "stream",
     "text": [
      "bagging, val_score: 0.464100:  30%|###       | 3/10 [00:09<00:21,  3.06s/it]\u001b[32m[I 2022-03-21 16:56:48,225]\u001b[0m Trial 29 finished with value: 0.4683463553201233 and parameters: {'bagging_fraction': 0.5547318673316066, 'bagging_freq': 5}. Best is trial 27 with value: 0.4672130681384405.\u001b[0m\n",
      "bagging, val_score: 0.464100:  30%|###       | 3/10 [00:09<00:21,  3.06s/it]"
     ]
    },
    {
     "name": "stdout",
     "output_type": "stream",
     "text": [
      "Early stopping, best iteration is:\n",
      "[63]\tvalid_0's binary_logloss: 0.441384\tvalid_1's binary_logloss: 0.468346\n",
      "Training until validation scores don't improve for 10 rounds\n"
     ]
    },
    {
     "name": "stderr",
     "output_type": "stream",
     "text": [
      "bagging, val_score: 0.464100:  40%|####      | 4/10 [00:12<00:18,  3.16s/it]\u001b[32m[I 2022-03-21 16:56:51,608]\u001b[0m Trial 30 finished with value: 0.46669139953882516 and parameters: {'bagging_fraction': 0.6336210074529448, 'bagging_freq': 4}. Best is trial 30 with value: 0.46669139953882516.\u001b[0m\n",
      "bagging, val_score: 0.464100:  40%|####      | 4/10 [00:12<00:18,  3.16s/it]"
     ]
    },
    {
     "name": "stdout",
     "output_type": "stream",
     "text": [
      "Early stopping, best iteration is:\n",
      "[69]\tvalid_0's binary_logloss: 0.43887\tvalid_1's binary_logloss: 0.466691\n",
      "Training until validation scores don't improve for 10 rounds\n"
     ]
    },
    {
     "name": "stderr",
     "output_type": "stream",
     "text": [
      "bagging, val_score: 0.464100:  50%|#####     | 5/10 [00:16<00:17,  3.43s/it]\u001b[32m[I 2022-03-21 16:56:55,671]\u001b[0m Trial 31 finished with value: 0.4647840935215753 and parameters: {'bagging_fraction': 0.972720562732205, 'bagging_freq': 2}. Best is trial 31 with value: 0.4647840935215753.\u001b[0m\n",
      "bagging, val_score: 0.464100:  50%|#####     | 5/10 [00:16<00:17,  3.43s/it]"
     ]
    },
    {
     "name": "stdout",
     "output_type": "stream",
     "text": [
      "Early stopping, best iteration is:\n",
      "[85]\tvalid_0's binary_logloss: 0.431301\tvalid_1's binary_logloss: 0.464784\n",
      "Training until validation scores don't improve for 10 rounds\n"
     ]
    },
    {
     "name": "stderr",
     "output_type": "stream",
     "text": [
      "bagging, val_score: 0.464100:  60%|######    | 6/10 [00:19<00:13,  3.25s/it]\u001b[32m[I 2022-03-21 16:56:58,517]\u001b[0m Trial 32 finished with value: 0.467317913034173 and parameters: {'bagging_fraction': 0.6090515077316583, 'bagging_freq': 7}. Best is trial 31 with value: 0.4647840935215753.\u001b[0m\n",
      "bagging, val_score: 0.464100:  60%|######    | 6/10 [00:19<00:13,  3.25s/it]"
     ]
    },
    {
     "name": "stdout",
     "output_type": "stream",
     "text": [
      "Early stopping, best iteration is:\n",
      "[53]\tvalid_0's binary_logloss: 0.446791\tvalid_1's binary_logloss: 0.467318\n",
      "Training until validation scores don't improve for 10 rounds\n"
     ]
    },
    {
     "name": "stderr",
     "output_type": "stream",
     "text": [
      "bagging, val_score: 0.464100:  70%|#######   | 7/10 [00:23<00:10,  3.48s/it]\u001b[32m[I 2022-03-21 16:57:02,525]\u001b[0m Trial 33 finished with value: 0.4679913882144748 and parameters: {'bagging_fraction': 0.44834731542834805, 'bagging_freq': 6}. Best is trial 31 with value: 0.4647840935215753.\u001b[0m\n",
      "bagging, val_score: 0.464100:  70%|#######   | 7/10 [00:23<00:10,  3.48s/it]"
     ]
    },
    {
     "name": "stdout",
     "output_type": "stream",
     "text": [
      "Early stopping, best iteration is:\n",
      "[67]\tvalid_0's binary_logloss: 0.440726\tvalid_1's binary_logloss: 0.467991\n",
      "Training until validation scores don't improve for 10 rounds\n"
     ]
    },
    {
     "name": "stderr",
     "output_type": "stream",
     "text": [
      "bagging, val_score: 0.464100:  80%|########  | 8/10 [00:26<00:06,  3.40s/it]\u001b[32m[I 2022-03-21 16:57:05,749]\u001b[0m Trial 34 finished with value: 0.46542681327025087 and parameters: {'bagging_fraction': 0.827816455645868, 'bagging_freq': 6}. Best is trial 31 with value: 0.4647840935215753.\u001b[0m\n",
      "bagging, val_score: 0.464100:  80%|########  | 8/10 [00:26<00:06,  3.40s/it]"
     ]
    },
    {
     "name": "stdout",
     "output_type": "stream",
     "text": [
      "Early stopping, best iteration is:\n",
      "[69]\tvalid_0's binary_logloss: 0.438119\tvalid_1's binary_logloss: 0.465427\n",
      "Training until validation scores don't improve for 10 rounds\n"
     ]
    },
    {
     "name": "stderr",
     "output_type": "stream",
     "text": [
      "bagging, val_score: 0.464100:  90%|######### | 9/10 [00:30<00:03,  3.59s/it]\u001b[32m[I 2022-03-21 16:57:09,759]\u001b[0m Trial 35 finished with value: 0.4654386337278423 and parameters: {'bagging_fraction': 0.680109232267089, 'bagging_freq': 5}. Best is trial 31 with value: 0.4647840935215753.\u001b[0m\n",
      "bagging, val_score: 0.464100:  90%|######### | 9/10 [00:30<00:03,  3.59s/it]"
     ]
    },
    {
     "name": "stdout",
     "output_type": "stream",
     "text": [
      "[100]\tvalid_0's binary_logloss: 0.425623\tvalid_1's binary_logloss: 0.465603\n",
      "Early stopping, best iteration is:\n",
      "[95]\tvalid_0's binary_logloss: 0.427683\tvalid_1's binary_logloss: 0.465439\n",
      "Training until validation scores don't improve for 10 rounds\n"
     ]
    },
    {
     "name": "stderr",
     "output_type": "stream",
     "text": [
      "bagging, val_score: 0.464100: 100%|##########| 10/10 [00:34<00:00,  3.64s/it]\u001b[32m[I 2022-03-21 16:57:13,533]\u001b[0m Trial 36 finished with value: 0.4661153487498029 and parameters: {'bagging_fraction': 0.7418756974938925, 'bagging_freq': 6}. Best is trial 31 with value: 0.4647840935215753.\u001b[0m\n",
      "bagging, val_score: 0.464100: 100%|##########| 10/10 [00:34<00:00,  3.45s/it]\n",
      "feature_fraction_stage2, val_score: 0.464100:   0%|          | 0/6 [00:00<?, ?it/s]"
     ]
    },
    {
     "name": "stdout",
     "output_type": "stream",
     "text": [
      "Early stopping, best iteration is:\n",
      "[68]\tvalid_0's binary_logloss: 0.438771\tvalid_1's binary_logloss: 0.466115\n",
      "Training until validation scores don't improve for 10 rounds\n"
     ]
    },
    {
     "name": "stderr",
     "output_type": "stream",
     "text": [
      "feature_fraction_stage2, val_score: 0.463877:  17%|#6        | 1/6 [00:03<00:19,  3.91s/it]\u001b[32m[I 2022-03-21 16:57:17,460]\u001b[0m Trial 37 finished with value: 0.4638771195044651 and parameters: {'feature_fraction': 0.484}. Best is trial 37 with value: 0.4638771195044651.\u001b[0m\n",
      "feature_fraction_stage2, val_score: 0.463877:  17%|#6        | 1/6 [00:03<00:19,  3.91s/it]"
     ]
    },
    {
     "name": "stdout",
     "output_type": "stream",
     "text": [
      "[100]\tvalid_0's binary_logloss: 0.425951\tvalid_1's binary_logloss: 0.464078\n",
      "Early stopping, best iteration is:\n",
      "[91]\tvalid_0's binary_logloss: 0.42946\tvalid_1's binary_logloss: 0.463877\n",
      "Training until validation scores don't improve for 10 rounds\n"
     ]
    },
    {
     "name": "stderr",
     "output_type": "stream",
     "text": [
      "feature_fraction_stage2, val_score: 0.463877:  33%|###3      | 2/6 [00:07<00:15,  3.79s/it]\u001b[32m[I 2022-03-21 16:57:20,954]\u001b[0m Trial 38 finished with value: 0.4651316375628343 and parameters: {'feature_fraction': 0.42}. Best is trial 37 with value: 0.4638771195044651.\u001b[0m\n",
      "feature_fraction_stage2, val_score: 0.463877:  33%|###3      | 2/6 [00:07<00:15,  3.79s/it]"
     ]
    },
    {
     "name": "stdout",
     "output_type": "stream",
     "text": [
      "Early stopping, best iteration is:\n",
      "[80]\tvalid_0's binary_logloss: 0.434827\tvalid_1's binary_logloss: 0.465132\n",
      "Training until validation scores don't improve for 10 rounds\n"
     ]
    },
    {
     "name": "stderr",
     "output_type": "stream",
     "text": [
      "feature_fraction_stage2, val_score: 0.463877:  50%|#####     | 3/6 [00:11<00:11,  3.84s/it]\u001b[32m[I 2022-03-21 16:57:24,908]\u001b[0m Trial 39 finished with value: 0.4646762606483462 and parameters: {'feature_fraction': 0.516}. Best is trial 37 with value: 0.4638771195044651.\u001b[0m\n",
      "feature_fraction_stage2, val_score: 0.463877:  50%|#####     | 3/6 [00:11<00:11,  3.84s/it]"
     ]
    },
    {
     "name": "stdout",
     "output_type": "stream",
     "text": [
      "Early stopping, best iteration is:\n",
      "[85]\tvalid_0's binary_logloss: 0.432085\tvalid_1's binary_logloss: 0.464676\n",
      "Training until validation scores don't improve for 10 rounds\n"
     ]
    },
    {
     "name": "stderr",
     "output_type": "stream",
     "text": [
      "feature_fraction_stage2, val_score: 0.463877:  67%|######6   | 4/6 [00:15<00:07,  3.88s/it]\u001b[32m[I 2022-03-21 16:57:28,894]\u001b[0m Trial 40 finished with value: 0.4645473652470832 and parameters: {'feature_fraction': 0.58}. Best is trial 37 with value: 0.4638771195044651.\u001b[0m\n",
      "feature_fraction_stage2, val_score: 0.463877:  67%|######6   | 4/6 [00:15<00:07,  3.88s/it]"
     ]
    },
    {
     "name": "stdout",
     "output_type": "stream",
     "text": [
      "[100]\tvalid_0's binary_logloss: 0.425368\tvalid_1's binary_logloss: 0.464593\n",
      "Early stopping, best iteration is:\n",
      "[99]\tvalid_0's binary_logloss: 0.425794\tvalid_1's binary_logloss: 0.464547\n",
      "Training until validation scores don't improve for 10 rounds\n"
     ]
    },
    {
     "name": "stderr",
     "output_type": "stream",
     "text": [
      "feature_fraction_stage2, val_score: 0.463877:  83%|########3 | 5/6 [00:19<00:04,  4.09s/it]\u001b[32m[I 2022-03-21 16:57:33,484]\u001b[0m Trial 41 finished with value: 0.46404566689364074 and parameters: {'feature_fraction': 0.5479999999999999}. Best is trial 37 with value: 0.4638771195044651.\u001b[0m\n",
      "feature_fraction_stage2, val_score: 0.463877:  83%|########3 | 5/6 [00:19<00:04,  4.09s/it]"
     ]
    },
    {
     "name": "stdout",
     "output_type": "stream",
     "text": [
      "Early stopping, best iteration is:\n",
      "[84]\tvalid_0's binary_logloss: 0.43201\tvalid_1's binary_logloss: 0.464046\n",
      "Training until validation scores don't improve for 10 rounds\n"
     ]
    },
    {
     "name": "stderr",
     "output_type": "stream",
     "text": [
      "feature_fraction_stage2, val_score: 0.463877: 100%|##########| 6/6 [00:23<00:00,  4.02s/it]\u001b[32m[I 2022-03-21 16:57:37,330]\u001b[0m Trial 42 finished with value: 0.464145464769308 and parameters: {'feature_fraction': 0.45199999999999996}. Best is trial 37 with value: 0.4638771195044651.\u001b[0m\n",
      "feature_fraction_stage2, val_score: 0.463877: 100%|##########| 6/6 [00:23<00:00,  3.97s/it]\n",
      "regularization_factors, val_score: 0.463877:   0%|          | 0/20 [00:00<?, ?it/s]"
     ]
    },
    {
     "name": "stdout",
     "output_type": "stream",
     "text": [
      "Early stopping, best iteration is:\n",
      "[84]\tvalid_0's binary_logloss: 0.432814\tvalid_1's binary_logloss: 0.464145\n",
      "Training until validation scores don't improve for 10 rounds\n"
     ]
    },
    {
     "name": "stderr",
     "output_type": "stream",
     "text": [
      "regularization_factors, val_score: 0.463877:   5%|5         | 1/20 [00:03<01:07,  3.54s/it]\u001b[32m[I 2022-03-21 16:57:40,884]\u001b[0m Trial 43 finished with value: 0.4641080533053184 and parameters: {'lambda_l1': 0.0004236804138911462, 'lambda_l2': 0.010633284223141633}. Best is trial 43 with value: 0.4641080533053184.\u001b[0m\n",
      "regularization_factors, val_score: 0.463877:   5%|5         | 1/20 [00:03<01:07,  3.54s/it]"
     ]
    },
    {
     "name": "stdout",
     "output_type": "stream",
     "text": [
      "[100]\tvalid_0's binary_logloss: 0.426156\tvalid_1's binary_logloss: 0.464207\n",
      "Early stopping, best iteration is:\n",
      "[90]\tvalid_0's binary_logloss: 0.429938\tvalid_1's binary_logloss: 0.464108\n",
      "Training until validation scores don't improve for 10 rounds\n"
     ]
    },
    {
     "name": "stderr",
     "output_type": "stream",
     "text": [
      "regularization_factors, val_score: 0.463862:  10%|#         | 2/20 [00:07<01:05,  3.65s/it]\u001b[32m[I 2022-03-21 16:57:44,786]\u001b[0m Trial 44 finished with value: 0.4638620852374004 and parameters: {'lambda_l1': 1.989908892259332e-05, 'lambda_l2': 1.0178698676751325e-07}. Best is trial 44 with value: 0.4638620852374004.\u001b[0m\n",
      "regularization_factors, val_score: 0.463862:  10%|#         | 2/20 [00:07<01:05,  3.65s/it]"
     ]
    },
    {
     "name": "stdout",
     "output_type": "stream",
     "text": [
      "[100]\tvalid_0's binary_logloss: 0.425951\tvalid_1's binary_logloss: 0.464063\n",
      "Early stopping, best iteration is:\n",
      "[91]\tvalid_0's binary_logloss: 0.42946\tvalid_1's binary_logloss: 0.463862\n",
      "Training until validation scores don't improve for 10 rounds\n"
     ]
    },
    {
     "name": "stderr",
     "output_type": "stream",
     "text": [
      "regularization_factors, val_score: 0.463862:  15%|#5        | 3/20 [00:11<01:06,  3.90s/it]\u001b[32m[I 2022-03-21 16:57:49,266]\u001b[0m Trial 45 finished with value: 0.4638646457887692 and parameters: {'lambda_l1': 2.999060634361234e-07, 'lambda_l2': 1.6520236804008875e-06}. Best is trial 44 with value: 0.4638620852374004.\u001b[0m\n",
      "regularization_factors, val_score: 0.463862:  15%|#5        | 3/20 [00:11<01:06,  3.90s/it]"
     ]
    },
    {
     "name": "stdout",
     "output_type": "stream",
     "text": [
      "[100]\tvalid_0's binary_logloss: 0.425951\tvalid_1's binary_logloss: 0.464065\n",
      "Early stopping, best iteration is:\n",
      "[91]\tvalid_0's binary_logloss: 0.42946\tvalid_1's binary_logloss: 0.463865\n",
      "Training until validation scores don't improve for 10 rounds\n"
     ]
    },
    {
     "name": "stderr",
     "output_type": "stream",
     "text": [
      "regularization_factors, val_score: 0.463862:  20%|##        | 4/20 [00:16<01:03,  3.99s/it]\u001b[32m[I 2022-03-21 16:57:53,490]\u001b[0m Trial 46 finished with value: 0.46402305507559655 and parameters: {'lambda_l1': 0.12559408454860588, 'lambda_l2': 0.11974279154473512}. Best is trial 44 with value: 0.4638620852374004.\u001b[0m\n",
      "regularization_factors, val_score: 0.463862:  20%|##        | 4/20 [00:16<01:03,  3.99s/it]"
     ]
    },
    {
     "name": "stdout",
     "output_type": "stream",
     "text": [
      "[100]\tvalid_0's binary_logloss: 0.426482\tvalid_1's binary_logloss: 0.464127\n",
      "Early stopping, best iteration is:\n",
      "[97]\tvalid_0's binary_logloss: 0.427726\tvalid_1's binary_logloss: 0.464023\n",
      "Training until validation scores don't improve for 10 rounds\n"
     ]
    },
    {
     "name": "stderr",
     "output_type": "stream",
     "text": [
      "regularization_factors, val_score: 0.463862:  25%|##5       | 5/20 [00:19<00:57,  3.83s/it]\u001b[32m[I 2022-03-21 16:57:56,932]\u001b[0m Trial 47 finished with value: 0.4638665104913978 and parameters: {'lambda_l1': 7.995080678607144e-08, 'lambda_l2': 5.125749486599461e-07}. Best is trial 44 with value: 0.4638620852374004.\u001b[0m\n",
      "regularization_factors, val_score: 0.463862:  25%|##5       | 5/20 [00:19<00:57,  3.83s/it]"
     ]
    },
    {
     "name": "stdout",
     "output_type": "stream",
     "text": [
      "[100]\tvalid_0's binary_logloss: 0.425951\tvalid_1's binary_logloss: 0.464067\n",
      "Early stopping, best iteration is:\n",
      "[91]\tvalid_0's binary_logloss: 0.42946\tvalid_1's binary_logloss: 0.463867\n",
      "Training until validation scores don't improve for 10 rounds\n"
     ]
    },
    {
     "name": "stderr",
     "output_type": "stream",
     "text": [
      "regularization_factors, val_score: 0.463862:  30%|###       | 6/20 [00:23<00:54,  3.92s/it]\u001b[32m[I 2022-03-21 16:58:01,073]\u001b[0m Trial 48 finished with value: 0.4641133576825394 and parameters: {'lambda_l1': 2.188621911375053e-07, 'lambda_l2': 0.5709615905122917}. Best is trial 44 with value: 0.4638620852374004.\u001b[0m\n",
      "regularization_factors, val_score: 0.463862:  30%|###       | 6/20 [00:23<00:54,  3.92s/it]"
     ]
    },
    {
     "name": "stdout",
     "output_type": "stream",
     "text": [
      "Early stopping, best iteration is:\n",
      "[83]\tvalid_0's binary_logloss: 0.433961\tvalid_1's binary_logloss: 0.464113\n",
      "Training until validation scores don't improve for 10 rounds\n"
     ]
    },
    {
     "name": "stderr",
     "output_type": "stream",
     "text": [
      "regularization_factors, val_score: 0.463862:  35%|###5      | 7/20 [00:27<00:51,  3.93s/it]\u001b[32m[I 2022-03-21 16:58:05,021]\u001b[0m Trial 49 finished with value: 0.4645964947552997 and parameters: {'lambda_l1': 4.819934327880389e-06, 'lambda_l2': 0.0005191034498387895}. Best is trial 44 with value: 0.4638620852374004.\u001b[0m\n",
      "regularization_factors, val_score: 0.463862:  35%|###5      | 7/20 [00:27<00:51,  3.93s/it]"
     ]
    },
    {
     "name": "stdout",
     "output_type": "stream",
     "text": [
      "Early stopping, best iteration is:\n",
      "[63]\tvalid_0's binary_logloss: 0.441437\tvalid_1's binary_logloss: 0.464596\n",
      "Training until validation scores don't improve for 10 rounds\n"
     ]
    },
    {
     "name": "stderr",
     "output_type": "stream",
     "text": [
      "regularization_factors, val_score: 0.463862:  40%|####      | 8/20 [00:30<00:44,  3.69s/it]\u001b[32m[I 2022-03-21 16:58:08,164]\u001b[0m Trial 50 finished with value: 0.46526556331209834 and parameters: {'lambda_l1': 0.00787027841709964, 'lambda_l2': 0.0011014943429299138}. Best is trial 44 with value: 0.4638620852374004.\u001b[0m\n",
      "regularization_factors, val_score: 0.463862:  40%|####      | 8/20 [00:30<00:44,  3.69s/it]"
     ]
    },
    {
     "name": "stdout",
     "output_type": "stream",
     "text": [
      "Early stopping, best iteration is:\n",
      "[67]\tvalid_0's binary_logloss: 0.439675\tvalid_1's binary_logloss: 0.465266\n",
      "Training until validation scores don't improve for 10 rounds\n",
      "[100]\tvalid_0's binary_logloss: 0.428234\tvalid_1's binary_logloss: 0.464407\n"
     ]
    },
    {
     "name": "stderr",
     "output_type": "stream",
     "text": [
      "regularization_factors, val_score: 0.463862:  45%|####5     | 9/20 [00:36<00:45,  4.16s/it]\u001b[32m[I 2022-03-21 16:58:13,420]\u001b[0m Trial 51 finished with value: 0.4639510173374048 and parameters: {'lambda_l1': 0.7235911986502394, 'lambda_l2': 0.4103271276760123}. Best is trial 44 with value: 0.4638620852374004.\u001b[0m\n",
      "regularization_factors, val_score: 0.463862:  45%|####5     | 9/20 [00:36<00:45,  4.16s/it]"
     ]
    },
    {
     "name": "stdout",
     "output_type": "stream",
     "text": [
      "Early stopping, best iteration is:\n",
      "[127]\tvalid_0's binary_logloss: 0.418768\tvalid_1's binary_logloss: 0.463951\n",
      "Training until validation scores don't improve for 10 rounds\n"
     ]
    },
    {
     "name": "stderr",
     "output_type": "stream",
     "text": [
      "regularization_factors, val_score: 0.463860:  50%|#####     | 10/20 [00:39<00:40,  4.08s/it]\u001b[32m[I 2022-03-21 16:58:17,286]\u001b[0m Trial 52 finished with value: 0.463859592619179 and parameters: {'lambda_l1': 5.344601449126035e-05, 'lambda_l2': 2.8989178764255108e-05}. Best is trial 52 with value: 0.463859592619179.\u001b[0m\n",
      "regularization_factors, val_score: 0.463860:  50%|#####     | 10/20 [00:39<00:40,  4.08s/it]"
     ]
    },
    {
     "name": "stdout",
     "output_type": "stream",
     "text": [
      "[100]\tvalid_0's binary_logloss: 0.425951\tvalid_1's binary_logloss: 0.46406\n",
      "Early stopping, best iteration is:\n",
      "[91]\tvalid_0's binary_logloss: 0.42946\tvalid_1's binary_logloss: 0.46386\n",
      "Training until validation scores don't improve for 10 rounds\n"
     ]
    },
    {
     "name": "stderr",
     "output_type": "stream",
     "text": [
      "regularization_factors, val_score: 0.463860:  55%|#####5    | 11/20 [00:43<00:35,  3.98s/it]\u001b[32m[I 2022-03-21 16:58:21,053]\u001b[0m Trial 53 finished with value: 0.4640011300437748 and parameters: {'lambda_l1': 0.0006630196724657287, 'lambda_l2': 1.4970754961869017e-05}. Best is trial 52 with value: 0.463859592619179.\u001b[0m\n",
      "regularization_factors, val_score: 0.463860:  55%|#####5    | 11/20 [00:43<00:35,  3.98s/it]"
     ]
    },
    {
     "name": "stdout",
     "output_type": "stream",
     "text": [
      "Early stopping, best iteration is:\n",
      "[86]\tvalid_0's binary_logloss: 0.431424\tvalid_1's binary_logloss: 0.464001\n",
      "Training until validation scores don't improve for 10 rounds\n"
     ]
    },
    {
     "name": "stderr",
     "output_type": "stream",
     "text": [
      "regularization_factors, val_score: 0.463860:  60%|######    | 12/20 [00:47<00:32,  4.00s/it]\u001b[32m[I 2022-03-21 16:58:25,097]\u001b[0m Trial 54 finished with value: 0.4638736909071909 and parameters: {'lambda_l1': 1.0354303572198022e-05, 'lambda_l2': 2.0716997620970903e-08}. Best is trial 52 with value: 0.463859592619179.\u001b[0m\n",
      "regularization_factors, val_score: 0.463860:  60%|######    | 12/20 [00:47<00:32,  4.00s/it]"
     ]
    },
    {
     "name": "stdout",
     "output_type": "stream",
     "text": [
      "[100]\tvalid_0's binary_logloss: 0.425951\tvalid_1's binary_logloss: 0.464074\n",
      "Early stopping, best iteration is:\n",
      "[91]\tvalid_0's binary_logloss: 0.42946\tvalid_1's binary_logloss: 0.463874\n",
      "Training until validation scores don't improve for 10 rounds\n"
     ]
    },
    {
     "name": "stderr",
     "output_type": "stream",
     "text": [
      "regularization_factors, val_score: 0.463860:  65%|######5   | 13/20 [00:51<00:27,  3.96s/it]\u001b[32m[I 2022-03-21 16:58:28,968]\u001b[0m Trial 55 finished with value: 0.46386310350473114 and parameters: {'lambda_l1': 1.2403294612802988e-05, 'lambda_l2': 1.0479234778570076e-08}. Best is trial 52 with value: 0.463859592619179.\u001b[0m\n",
      "regularization_factors, val_score: 0.463860:  65%|######5   | 13/20 [00:51<00:27,  3.96s/it]"
     ]
    },
    {
     "name": "stdout",
     "output_type": "stream",
     "text": [
      "[100]\tvalid_0's binary_logloss: 0.425951\tvalid_1's binary_logloss: 0.464064\n",
      "Early stopping, best iteration is:\n",
      "[91]\tvalid_0's binary_logloss: 0.42946\tvalid_1's binary_logloss: 0.463863\n",
      "Training until validation scores don't improve for 10 rounds\n"
     ]
    },
    {
     "name": "stderr",
     "output_type": "stream",
     "text": [
      "regularization_factors, val_score: 0.463860:  70%|#######   | 14/20 [00:54<00:22,  3.69s/it]\u001b[32m[I 2022-03-21 16:58:32,012]\u001b[0m Trial 56 finished with value: 0.46526620754443054 and parameters: {'lambda_l1': 0.006560277191354514, 'lambda_l2': 1.359546058045992e-05}. Best is trial 52 with value: 0.463859592619179.\u001b[0m\n",
      "regularization_factors, val_score: 0.463860:  70%|#######   | 14/20 [00:54<00:22,  3.69s/it]"
     ]
    },
    {
     "name": "stdout",
     "output_type": "stream",
     "text": [
      "Early stopping, best iteration is:\n",
      "[67]\tvalid_0's binary_logloss: 0.439671\tvalid_1's binary_logloss: 0.465266\n",
      "Training until validation scores don't improve for 10 rounds\n"
     ]
    },
    {
     "name": "stderr",
     "output_type": "stream",
     "text": [
      "regularization_factors, val_score: 0.463860:  75%|#######5  | 15/20 [00:59<00:19,  3.94s/it]\u001b[32m[I 2022-03-21 16:58:36,543]\u001b[0m Trial 57 finished with value: 0.46387139299542385 and parameters: {'lambda_l1': 2.4271901203070884e-05, 'lambda_l2': 3.648372299183812e-07}. Best is trial 52 with value: 0.463859592619179.\u001b[0m\n",
      "regularization_factors, val_score: 0.463860:  75%|#######5  | 15/20 [00:59<00:19,  3.94s/it]"
     ]
    },
    {
     "name": "stdout",
     "output_type": "stream",
     "text": [
      "[100]\tvalid_0's binary_logloss: 0.425951\tvalid_1's binary_logloss: 0.464072\n",
      "Early stopping, best iteration is:\n",
      "[91]\tvalid_0's binary_logloss: 0.42946\tvalid_1's binary_logloss: 0.463871\n",
      "Training until validation scores don't improve for 10 rounds\n"
     ]
    },
    {
     "name": "stderr",
     "output_type": "stream",
     "text": [
      "regularization_factors, val_score: 0.463860:  80%|########  | 16/20 [01:03<00:15,  3.94s/it]\u001b[32m[I 2022-03-21 16:58:40,494]\u001b[0m Trial 58 finished with value: 0.46386677768607126 and parameters: {'lambda_l1': 1.2172925201039315e-08, 'lambda_l2': 3.7659167506637446e-05}. Best is trial 52 with value: 0.463859592619179.\u001b[0m\n",
      "regularization_factors, val_score: 0.463860:  80%|########  | 16/20 [01:03<00:15,  3.94s/it]"
     ]
    },
    {
     "name": "stdout",
     "output_type": "stream",
     "text": [
      "[100]\tvalid_0's binary_logloss: 0.425951\tvalid_1's binary_logloss: 0.464068\n",
      "Early stopping, best iteration is:\n",
      "[91]\tvalid_0's binary_logloss: 0.42946\tvalid_1's binary_logloss: 0.463867\n",
      "Training until validation scores don't improve for 10 rounds\n"
     ]
    },
    {
     "name": "stderr",
     "output_type": "stream",
     "text": [
      "regularization_factors, val_score: 0.463860:  85%|########5 | 17/20 [01:06<00:11,  3.81s/it]\u001b[32m[I 2022-03-21 16:58:43,987]\u001b[0m Trial 59 finished with value: 0.4638643311296851 and parameters: {'lambda_l1': 0.00010079189184488884, 'lambda_l2': 9.474273725147405e-08}. Best is trial 52 with value: 0.463859592619179.\u001b[0m\n",
      "regularization_factors, val_score: 0.463860:  85%|########5 | 17/20 [01:06<00:11,  3.81s/it]"
     ]
    },
    {
     "name": "stdout",
     "output_type": "stream",
     "text": [
      "[100]\tvalid_0's binary_logloss: 0.425951\tvalid_1's binary_logloss: 0.464065\n",
      "Early stopping, best iteration is:\n",
      "[91]\tvalid_0's binary_logloss: 0.42946\tvalid_1's binary_logloss: 0.463864\n",
      "Training until validation scores don't improve for 10 rounds\n"
     ]
    },
    {
     "name": "stderr",
     "output_type": "stream",
     "text": [
      "regularization_factors, val_score: 0.463271:  90%|######### | 18/20 [01:10<00:07,  3.79s/it]\u001b[32m[I 2022-03-21 16:58:47,751]\u001b[0m Trial 60 finished with value: 0.4632710981670513 and parameters: {'lambda_l1': 1.659486213190481e-06, 'lambda_l2': 9.314290151707889}. Best is trial 60 with value: 0.4632710981670513.\u001b[0m\n",
      "regularization_factors, val_score: 0.463271:  90%|######### | 18/20 [01:10<00:07,  3.79s/it]"
     ]
    },
    {
     "name": "stdout",
     "output_type": "stream",
     "text": [
      "Early stopping, best iteration is:\n",
      "[85]\tvalid_0's binary_logloss: 0.437045\tvalid_1's binary_logloss: 0.463271\n",
      "Training until validation scores don't improve for 10 rounds\n"
     ]
    },
    {
     "name": "stderr",
     "output_type": "stream",
     "text": [
      "regularization_factors, val_score: 0.463271:  95%|#########5| 19/20 [01:14<00:03,  3.83s/it]\u001b[32m[I 2022-03-21 16:58:51,653]\u001b[0m Trial 61 finished with value: 0.4645320433146461 and parameters: {'lambda_l1': 1.0757641583721525e-06, 'lambda_l2': 0.006720337454942807}. Best is trial 60 with value: 0.4632710981670513.\u001b[0m\n",
      "regularization_factors, val_score: 0.463271:  95%|#########5| 19/20 [01:14<00:03,  3.83s/it]"
     ]
    },
    {
     "name": "stdout",
     "output_type": "stream",
     "text": [
      "[100]\tvalid_0's binary_logloss: 0.426057\tvalid_1's binary_logloss: 0.464731\n",
      "Early stopping, best iteration is:\n",
      "[98]\tvalid_0's binary_logloss: 0.426863\tvalid_1's binary_logloss: 0.464532\n",
      "Training until validation scores don't improve for 10 rounds\n"
     ]
    },
    {
     "name": "stderr",
     "output_type": "stream",
     "text": [
      "regularization_factors, val_score: 0.463271: 100%|##########| 20/20 [01:18<00:00,  3.79s/it]\u001b[32m[I 2022-03-21 16:58:55,369]\u001b[0m Trial 62 finished with value: 0.46330623940237625 and parameters: {'lambda_l1': 0.004106513016723718, 'lambda_l2': 8.982784831740283}. Best is trial 60 with value: 0.4632710981670513.\u001b[0m\n",
      "regularization_factors, val_score: 0.463271: 100%|##########| 20/20 [01:18<00:00,  3.90s/it]\n",
      "min_data_in_leaf, val_score: 0.463271:   0%|          | 0/5 [00:00<?, ?it/s]"
     ]
    },
    {
     "name": "stdout",
     "output_type": "stream",
     "text": [
      "[100]\tvalid_0's binary_logloss: 0.432575\tvalid_1's binary_logloss: 0.463465\n",
      "Early stopping, best iteration is:\n",
      "[93]\tvalid_0's binary_logloss: 0.434762\tvalid_1's binary_logloss: 0.463306\n",
      "Training until validation scores don't improve for 10 rounds\n",
      "[100]\tvalid_0's binary_logloss: 0.432611\tvalid_1's binary_logloss: 0.463319\n"
     ]
    },
    {
     "name": "stderr",
     "output_type": "stream",
     "text": [
      "min_data_in_leaf, val_score: 0.462717:  20%|##        | 1/5 [00:04<00:17,  4.46s/it]\u001b[32m[I 2022-03-21 16:58:59,845]\u001b[0m Trial 63 finished with value: 0.46271688134829153 and parameters: {'min_child_samples': 25}. Best is trial 63 with value: 0.46271688134829153.\u001b[0m\n",
      "min_data_in_leaf, val_score: 0.462717:  20%|##        | 1/5 [00:04<00:17,  4.46s/it]"
     ]
    },
    {
     "name": "stdout",
     "output_type": "stream",
     "text": [
      "Early stopping, best iteration is:\n",
      "[130]\tvalid_0's binary_logloss: 0.42386\tvalid_1's binary_logloss: 0.462717\n",
      "Training until validation scores don't improve for 10 rounds\n"
     ]
    },
    {
     "name": "stderr",
     "output_type": "stream",
     "text": [
      "min_data_in_leaf, val_score: 0.462717:  40%|####      | 2/5 [00:08<00:12,  4.24s/it]\u001b[32m[I 2022-03-21 16:59:03,556]\u001b[0m Trial 64 finished with value: 0.4638533052566162 and parameters: {'min_child_samples': 50}. Best is trial 63 with value: 0.46271688134829153.\u001b[0m\n",
      "min_data_in_leaf, val_score: 0.462717:  40%|####      | 2/5 [00:08<00:12,  4.24s/it]"
     ]
    },
    {
     "name": "stdout",
     "output_type": "stream",
     "text": [
      "Early stopping, best iteration is:\n",
      "[79]\tvalid_0's binary_logloss: 0.439106\tvalid_1's binary_logloss: 0.463853\n",
      "Training until validation scores don't improve for 10 rounds\n"
     ]
    },
    {
     "name": "stderr",
     "output_type": "stream",
     "text": [
      "min_data_in_leaf, val_score: 0.462717:  60%|######    | 3/5 [00:11<00:08,  4.04s/it]\u001b[32m[I 2022-03-21 16:59:07,139]\u001b[0m Trial 65 finished with value: 0.4639718519737836 and parameters: {'min_child_samples': 10}. Best is trial 63 with value: 0.46271688134829153.\u001b[0m\n",
      "min_data_in_leaf, val_score: 0.462717:  60%|######    | 3/5 [00:11<00:08,  4.04s/it]"
     ]
    },
    {
     "name": "stdout",
     "output_type": "stream",
     "text": [
      "[100]\tvalid_0's binary_logloss: 0.432643\tvalid_1's binary_logloss: 0.464028\n",
      "Early stopping, best iteration is:\n",
      "[95]\tvalid_0's binary_logloss: 0.434194\tvalid_1's binary_logloss: 0.463972\n",
      "Training until validation scores don't improve for 10 rounds\n"
     ]
    },
    {
     "name": "stderr",
     "output_type": "stream",
     "text": [
      "min_data_in_leaf, val_score: 0.462717:  80%|########  | 4/5 [00:15<00:03,  4.00s/it]\u001b[32m[I 2022-03-21 16:59:11,034]\u001b[0m Trial 66 finished with value: 0.4638186935836423 and parameters: {'min_child_samples': 100}. Best is trial 63 with value: 0.46271688134829153.\u001b[0m\n",
      "min_data_in_leaf, val_score: 0.462717:  80%|########  | 4/5 [00:15<00:03,  4.00s/it]"
     ]
    },
    {
     "name": "stdout",
     "output_type": "stream",
     "text": [
      "Early stopping, best iteration is:\n",
      "[87]\tvalid_0's binary_logloss: 0.436741\tvalid_1's binary_logloss: 0.463819\n",
      "Training until validation scores don't improve for 10 rounds\n",
      "[100]\tvalid_0's binary_logloss: 0.431907\tvalid_1's binary_logloss: 0.463367\n"
     ]
    },
    {
     "name": "stderr",
     "output_type": "stream",
     "text": [
      "min_data_in_leaf, val_score: 0.462717: 100%|##########| 5/5 [00:19<00:00,  4.09s/it]\u001b[32m[I 2022-03-21 16:59:15,344]\u001b[0m Trial 67 finished with value: 0.4632124654588772 and parameters: {'min_child_samples': 5}. Best is trial 63 with value: 0.46271688134829153.\u001b[0m\n",
      "min_data_in_leaf, val_score: 0.462717: 100%|##########| 5/5 [00:19<00:00,  3.99s/it]"
     ]
    },
    {
     "name": "stdout",
     "output_type": "stream",
     "text": [
      "Early stopping, best iteration is:\n",
      "[107]\tvalid_0's binary_logloss: 0.429897\tvalid_1's binary_logloss: 0.463212\n"
     ]
    },
    {
     "name": "stderr",
     "output_type": "stream",
     "text": [
      "\n"
     ]
    }
   ],
   "source": [
    "# データセットの作成\n",
    "lgb_train = lgb_o.Dataset(X_train.values, y_train.values)\n",
    "lgb_valid = lgb_o.Dataset(X_valid.values, y_valid.values)\n",
    "\n",
    "# チューニング実行\n",
    "params = {\n",
    "    'objective': 'binary',\n",
    "    'random_state': 100\n",
    "}\n",
    "\n",
    "lgb_clf_o = lgb_o.train(params, lgb_train, valid_sets=(lgb_train, lgb_valid), verbose_eval=100, early_stopping_rounds=10)"
   ]
  },
  {
   "cell_type": "markdown",
   "metadata": {},
   "source": [
    "1．あるハイパーパラメータを使って、lgb_trainで学習<br>\n",
    "2．そのモデルを使ってlgb_validで検証<br>\n",
    "3．検証結果を利用して、ハイパーパラメータを変えてlgb_trainで再学習<br>\n",
    "4．2～3を繰り返す"
   ]
  },
  {
   "cell_type": "code",
   "execution_count": 16,
   "metadata": {},
   "outputs": [
    {
     "data": {
      "text/plain": [
       "{'objective': 'binary',\n",
       " 'random_state': 100,\n",
       " 'feature_pre_filter': False,\n",
       " 'lambda_l1': 1.659486213190481e-06,\n",
       " 'lambda_l2': 9.314290151707889,\n",
       " 'num_leaves': 22,\n",
       " 'feature_fraction': 0.484,\n",
       " 'bagging_fraction': 1.0,\n",
       " 'bagging_freq': 0,\n",
       " 'min_child_samples': 25}"
      ]
     },
     "execution_count": 16,
     "metadata": {},
     "output_type": "execute_result"
    }
   ],
   "source": [
    "lgb_clf_o.params"
   ]
  },
  {
   "cell_type": "code",
   "execution_count": 17,
   "metadata": {},
   "outputs": [],
   "source": [
    "# 時系列に沿って訓練データとテストデータに分ける\n",
    "train, test = split_data(r.data_c)\n",
    "X_train = train.drop(['rank', 'date'], axis=1)\n",
    "y_train = train['rank']\n",
    "X_test = test.drop(['rank', 'date'], axis=1)\n",
    "y_test = test['rank']"
   ]
  },
  {
   "cell_type": "code",
   "execution_count": 18,
   "metadata": {},
   "outputs": [
    {
     "data": {
      "text/plain": [
       "LGBMClassifier(bagging_fraction=1.0, bagging_freq=0, feature_fraction=0.484,\n",
       "               feature_pre_filter=False, lambda_l1=1.659486213190481e-06,\n",
       "               lambda_l2=9.314290151707889, min_child_samples=25, num_leaves=22,\n",
       "               objective='binary', random_state=100)"
      ]
     },
     "execution_count": 18,
     "metadata": {},
     "output_type": "execute_result"
    }
   ],
   "source": [
    "lgb_clf = lgb.LGBMClassifier(**lgb_clf_o.params)\n",
    "lgb_clf.fit(X_train.values, y_train.values)"
   ]
  },
  {
   "cell_type": "code",
   "execution_count": 19,
   "metadata": {},
   "outputs": [],
   "source": [
    "me2 = ModelEvaluator(lgb_clf, 'return_tables.pickle')"
   ]
  },
  {
   "cell_type": "code",
   "execution_count": 20,
   "metadata": {},
   "outputs": [
    {
     "data": {
      "text/html": [
       "<div>\n",
       "<style scoped>\n",
       "    .dataframe tbody tr th:only-of-type {\n",
       "        vertical-align: middle;\n",
       "    }\n",
       "\n",
       "    .dataframe tbody tr th {\n",
       "        vertical-align: top;\n",
       "    }\n",
       "\n",
       "    .dataframe thead th {\n",
       "        text-align: right;\n",
       "    }\n",
       "</style>\n",
       "<table border=\"1\" class=\"dataframe\">\n",
       "  <thead>\n",
       "    <tr style=\"text-align: right;\">\n",
       "      <th></th>\n",
       "      <th>features</th>\n",
       "      <th>importance</th>\n",
       "    </tr>\n",
       "  </thead>\n",
       "  <tbody>\n",
       "    <tr>\n",
       "      <th>4</th>\n",
       "      <td>jockey_id</td>\n",
       "      <td>133</td>\n",
       "    </tr>\n",
       "    <tr>\n",
       "      <th>10</th>\n",
       "      <td>賞金_5R</td>\n",
       "      <td>107</td>\n",
       "    </tr>\n",
       "    <tr>\n",
       "      <th>7</th>\n",
       "      <td>体重</td>\n",
       "      <td>80</td>\n",
       "    </tr>\n",
       "    <tr>\n",
       "      <th>3</th>\n",
       "      <td>horse_id</td>\n",
       "      <td>74</td>\n",
       "    </tr>\n",
       "    <tr>\n",
       "      <th>9</th>\n",
       "      <td>着順_5R</td>\n",
       "      <td>65</td>\n",
       "    </tr>\n",
       "    <tr>\n",
       "      <th>5</th>\n",
       "      <td>course_len</td>\n",
       "      <td>61</td>\n",
       "    </tr>\n",
       "    <tr>\n",
       "      <th>26</th>\n",
       "      <td>賞金_allR</td>\n",
       "      <td>49</td>\n",
       "    </tr>\n",
       "    <tr>\n",
       "      <th>1</th>\n",
       "      <td>馬番</td>\n",
       "      <td>46</td>\n",
       "    </tr>\n",
       "    <tr>\n",
       "      <th>19</th>\n",
       "      <td>着差_9R</td>\n",
       "      <td>46</td>\n",
       "    </tr>\n",
       "    <tr>\n",
       "      <th>8</th>\n",
       "      <td>体重変化</td>\n",
       "      <td>44</td>\n",
       "    </tr>\n",
       "    <tr>\n",
       "      <th>27</th>\n",
       "      <td>着差_allR</td>\n",
       "      <td>41</td>\n",
       "    </tr>\n",
       "    <tr>\n",
       "      <th>11</th>\n",
       "      <td>着差_5R</td>\n",
       "      <td>41</td>\n",
       "    </tr>\n",
       "    <tr>\n",
       "      <th>2</th>\n",
       "      <td>斤量</td>\n",
       "      <td>37</td>\n",
       "    </tr>\n",
       "    <tr>\n",
       "      <th>6</th>\n",
       "      <td>年齢</td>\n",
       "      <td>36</td>\n",
       "    </tr>\n",
       "    <tr>\n",
       "      <th>17</th>\n",
       "      <td>着順_9R</td>\n",
       "      <td>35</td>\n",
       "    </tr>\n",
       "    <tr>\n",
       "      <th>18</th>\n",
       "      <td>賞金_9R</td>\n",
       "      <td>34</td>\n",
       "    </tr>\n",
       "    <tr>\n",
       "      <th>0</th>\n",
       "      <td>枠番</td>\n",
       "      <td>31</td>\n",
       "    </tr>\n",
       "    <tr>\n",
       "      <th>25</th>\n",
       "      <td>着順_allR</td>\n",
       "      <td>30</td>\n",
       "    </tr>\n",
       "    <tr>\n",
       "      <th>62</th>\n",
       "      <td>peds_29</td>\n",
       "      <td>30</td>\n",
       "    </tr>\n",
       "    <tr>\n",
       "      <th>20</th>\n",
       "      <td>first_corner_9R</td>\n",
       "      <td>30</td>\n",
       "    </tr>\n",
       "  </tbody>\n",
       "</table>\n",
       "</div>"
      ],
      "text/plain": [
       "           features  importance\n",
       "4         jockey_id         133\n",
       "10            賞金_5R         107\n",
       "7                体重          80\n",
       "3          horse_id          74\n",
       "9             着順_5R          65\n",
       "5        course_len          61\n",
       "26          賞金_allR          49\n",
       "1                馬番          46\n",
       "19            着差_9R          46\n",
       "8              体重変化          44\n",
       "27          着差_allR          41\n",
       "11            着差_5R          41\n",
       "2                斤量          37\n",
       "6                年齢          36\n",
       "17            着順_9R          35\n",
       "18            賞金_9R          34\n",
       "0                枠番          31\n",
       "25          着順_allR          30\n",
       "62          peds_29          30\n",
       "20  first_corner_9R          30"
      ]
     },
     "execution_count": 20,
     "metadata": {},
     "output_type": "execute_result"
    }
   ],
   "source": [
    "me2.feature_importance(X_test)"
   ]
  },
  {
   "cell_type": "code",
   "execution_count": 21,
   "metadata": {},
   "outputs": [],
   "source": [
    "# gain_optuna = gain(me2.tansho_return_proper, X_test)\n",
    "# gain_optuna.to_pickle('gain_optuna.pickle')"
   ]
  },
  {
   "cell_type": "code",
   "execution_count": 22,
   "metadata": {},
   "outputs": [],
   "source": [
    "gain_optuna = pd.read_pickle('gain_optuna.pickle')"
   ]
  },
  {
   "cell_type": "code",
   "execution_count": 24,
   "metadata": {},
   "outputs": [
    {
     "data": {
      "image/png": "[encoded data removed]",
      "text/plain": [
       "<Figure size 720x576 with 1 Axes>"
      ]
     },
     "metadata": {
      "needs_background": "light"
     },
     "output_type": "display_data"
    }
   ],
   "source": [
    "plt.figure(figsize=(10, 8))\n",
    "gain_baseline.rename('baseline').plot(legend=True)\n",
    "gain_proper.rename('proper').plot(legend=True)\n",
    "gain_optuna.rename('optuna').plot(legend=True)\n",
    "plt.grid()"
   ]
  },
  {
   "cell_type": "code",
   "execution_count": 25,
   "metadata": {},
   "outputs": [
    {
     "data": {
      "text/plain": [
       "1.2570086534300338"
      ]
     },
     "execution_count": 25,
     "metadata": {},
     "output_type": "execute_result"
    }
   ],
   "source": [
    "gain_optuna.max()"
   ]
  },
  {
   "cell_type": "code",
   "execution_count": null,
   "metadata": {},
   "outputs": [],
   "source": []
  }
 ],
 "metadata": {
  "kernelspec": {
   "display_name": "Python 3",
   "language": "python",
   "name": "python3"
  },
  "language_info": {
   "codemirror_mode": {
    "name": "ipython",
    "version": 3
   },
   "file_extension": ".py",
   "mimetype": "text/x-python",
   "name": "python",
   "nbconvert_exporter": "python",
   "pygments_lexer": "ipython3",
   "version": "3.7.6"
  }
 },
 "nbformat": 4,
 "nbformat_minor": 4
}
