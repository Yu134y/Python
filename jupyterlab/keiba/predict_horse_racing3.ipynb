{
 "cells": [
  {
   "cell_type": "markdown",
   "metadata": {},
   "source": [
    "### 1．インポート"
   ]
  },
  {
   "cell_type": "code",
   "execution_count": 1,
   "metadata": {},
   "outputs": [],
   "source": [
    "import pandas as pd\n",
    "import numpy as np\n",
    "import matplotlib.pyplot as plt\n",
    "import re\n",
    "import time\n",
    "import datetime\n",
    "import requests\n",
    "from tqdm import tqdm\n",
    "from bs4 import BeautifulSoup\n",
    "from sklearn.metrics import roc_auc_score\n",
    "from sklearn.preprocessing import LabelEncoder\n",
    "import lightgbm as lgb\n",
    "from urllib.request import urlopen\n",
    "import optuna.integration.lightgbm as lgb_o\n",
    "from scipy.special import comb"
   ]
  },
  {
   "cell_type": "markdown",
   "metadata": {},
   "source": [
    "### 1.1　クラス"
   ]
  },
  {
   "cell_type": "code",
   "execution_count": 2,
   "metadata": {},
   "outputs": [],
   "source": [
    "# 訓練データと出馬表データを加工する抽象クラス\n",
    "class DataProcessor:\n",
    "    def __init__(self):\n",
    "        self.data = pd.DataFrame()\n",
    "        # preprocessing後の変数\n",
    "        self.data_p = pd.DataFrame()\n",
    "        # horse_resultsをmergeした後の変数\n",
    "        self.data_h = pd.DataFrame()\n",
    "        # pedsをmergeした後の変数\n",
    "        self.data_pe = pd.DataFrame()\n",
    "        # カテゴリ変数化した後の変数\n",
    "        self.data_c = pd.DataFrame()\n",
    "        \n",
    "    # 馬の過去成績データの追加\n",
    "    def merge_horse_results(self, hr, n_samples_list=[5, 9, 'all']):\n",
    "        self.data_h = self.data_p.copy()\n",
    "        for n_samples in n_samples_list:\n",
    "            self.data_h = hr.merge_all(self.data_h, n_samples=n_samples)\n",
    "        self.data_h.drop(['開催'], axis=1, inplace=True)\n",
    "            \n",
    "    # 血統データ追加\n",
    "    def merge_peds(self, peds):\n",
    "        self.data_pe = self.data_h.merge(peds, left_on='horse_id', right_index=True, how='left')\n",
    "        self.no_peds = self.data_pe[self.data_pe['peds_0'].isnull()]['horse_id'].unique()\n",
    "        if len(self.no_peds):\n",
    "            print('scrape peds at horse_id_list \"no_peds\"')\n",
    "    \n",
    "    # カテゴリ変数の処理\n",
    "    def process_categorical(self, le_horse, le_jockey, results_m):\n",
    "        df = self.data_pe.copy()\n",
    "        \n",
    "        # ラベルエンコーディング(horse_id, jockey_idを0始まりの整数に変換)\n",
    "        # horse_id\n",
    "        mask_horse = df['horse_id'].isin(le_horse.classes_)\n",
    "        new_horse_id = df['horse_id'].mask(mask_horse).dropna().unique()\n",
    "        le_horse.classes_ = np.concatenate([le_horse.classes_, new_horse_id])\n",
    "        df['horse_id'] = le_horse.transform(df['horse_id'])\n",
    "        \n",
    "        # jockey_id\n",
    "        mask_jockey = df['jockey_id'].isin(le_jockey.classes_)\n",
    "        new_jockey_id = df['jockey_id'].mask(mask_jockey).dropna().unique()\n",
    "        le_jockey.classes_ = np.concatenate([le_jockey.classes_, new_jockey_id])\n",
    "        df['jockey_id'] = le_jockey.transform(df['jockey_id'])\n",
    "        \n",
    "        # horse_id, jockey_idをcategory型に変換\n",
    "        df['horse_id'] = df['horse_id'].astype('category')\n",
    "        df['jockey_id'] = df['jockey_id'].astype('category')\n",
    "        \n",
    "        # そのほかのカテゴリ変数をcategory型に変換してからダミー変数化\n",
    "        weathers = results_m['weather'].unique()\n",
    "        race_types = results_m['race_type'].unique()\n",
    "        ground_states = results_m['ground_state'].unique()\n",
    "        sexes = results_m['性'].unique()\n",
    "        df['weather'] = pd.Categorical(df['weather'], weathers)\n",
    "        df['race_type'] = pd.Categorical(df['race_type'], race_types)\n",
    "        df['ground_state'] = pd.Categorical(df['ground_state'], ground_states)\n",
    "        df['性'] = pd.Categorical(df['性'], sexes)\n",
    "        \n",
    "        df = pd.get_dummies(df, columns=['weather', 'race_type', 'ground_state', '性'])  \n",
    "        self.data_c = df\n",
    "\n",
    "# 予測に使う出馬表データを加工するクラス\n",
    "class ShutubaTable(DataProcessor):\n",
    "    def __init__(self, shutuba_tables):\n",
    "        super(ShutubaTable, self).__init__()\n",
    "        self.data = shutuba_tables\n",
    "    \n",
    "    @classmethod\n",
    "    def scrape(cls, race_id_list, date):\n",
    "        data = pd.DataFrame()\n",
    "        for race_id in tqdm(race_id_list):\n",
    "            url = f'https://race.netkeiba.com/race/shutuba.html?race_id={race_id}'\n",
    "            df = pd.read_html(url)[0]\n",
    "            df = df.T.reset_index(level=0, drop=True).T\n",
    "\n",
    "            html = requests.get(url)\n",
    "            html.encoding = 'EUC-JP'\n",
    "            soup = BeautifulSoup(html.text, 'html.parser')\n",
    "\n",
    "            # race_data\n",
    "            texts = soup.find('div', attrs={'class': 'RaceData01'}).text\n",
    "            texts = re.findall(r'\\w+', texts)\n",
    "            for text in texts:\n",
    "                if 'm' in text:\n",
    "                    df['course_len'] = [int(re.findall(r'\\d+', text)[0])] * len(df)\n",
    "                if text in ['曇', '晴', '雨', '小雨', '小雪', '雪']:\n",
    "                    df['weather'] = [text] * len(df)\n",
    "                if text in ['良', '稍重', '重']:\n",
    "                    df['ground_state'] = [text] * len(df)\n",
    "                if '不' in text:\n",
    "                    df['ground_state'] = ['不良'] * len(df)\n",
    "                if '芝' in text:\n",
    "                    df['race_type'] = ['芝'] * len(df)\n",
    "                if '障' in text:\n",
    "                    df['race_type'] = ['障害'] * len(df)\n",
    "                if 'ダ' in text:\n",
    "                    df['race_type'] = ['ダート'] * len(df)\n",
    "            df['date'] = [date] * len(df)\n",
    "\n",
    "            # horse_id\n",
    "            horse_id_list = []\n",
    "            horse_td_list = soup.find_all('td', attrs={'class': 'HorseInfo'})\n",
    "            for td in horse_td_list:\n",
    "                horse_id = re.findall(r'\\d+', td.find('a')['href'])[0]\n",
    "                horse_id_list.append(horse_id)\n",
    "            df['horse_id'] = horse_id_list\n",
    "\n",
    "            # jockey_id\n",
    "            jockey_id_list = []\n",
    "            jockey_td_list = soup.find_all('td', attrs={'class': 'Jockey'})\n",
    "            for td in jockey_td_list:\n",
    "                jockey_id = re.findall(r'\\d+', td.find('a')['href'])[0]\n",
    "                jockey_id_list.append(jockey_id)\n",
    "            df['jockey_id'] = jockey_id_list\n",
    "\n",
    "            df.index = [race_id] * len(df)\n",
    "            data = data.append(df)\n",
    "            time.sleep(1)\n",
    "        \n",
    "        return cls(data)\n",
    "    \n",
    "    # 前処理\n",
    "    def preprocessing(self):\n",
    "        df = self.data.copy()\n",
    "        \n",
    "        # 性齢を性と年齢に分ける\n",
    "        df['性'] = df['性齢'].map(lambda x: str(x)[0])\n",
    "        df['年齢'] = df['性齢'].map(lambda x: str(x)[1:]).astype(int)\n",
    "\n",
    "        # 馬体重を体重と体重変化に分ける\n",
    "        df = df[df['馬体重(増減)'] != '--']\n",
    "        df['体重'] = df['馬体重(増減)'].str.split('(', expand=True)[0].astype(int)\n",
    "        df['体重変化'] = df['馬体重(増減)'].str.split('(', expand=True)[1].str[:-1].astype(int)\n",
    "        \n",
    "        # 日付をdatetime型に変更\n",
    "        df['date'] = pd.to_datetime(df['date'])\n",
    "\n",
    "        # データをint, floatに変換\n",
    "        df['枠'] = df['枠'].astype(int)\n",
    "        df['馬番'] = df['馬番'].astype(int)\n",
    "        df['斤量'] = df['斤量'].astype(int)\n",
    "\n",
    "    \n",
    "        # 必要な列だけにする\n",
    "        df = df[['枠', '馬番', '斤量', 'course_len', 'weather', 'race_type', 'ground_state', 'date', 'horse_id', 'jockey_id', '性', '年齢', '体重', '体重変化']]\n",
    "        df['開催'] = df.index.map(lambda x:str(x)[4:6])\n",
    "\n",
    "        self.data_p = df.rename(columns={'枠': '枠番'})\n",
    "\n",
    "# 訓練に使う過去レースデータを加工するクラス\n",
    "class Results(DataProcessor):\n",
    "    def __init__(self, results):\n",
    "        super(Results, self).__init__()\n",
    "        self.data = results\n",
    "    \n",
    "    @classmethod\n",
    "    def read_pickle(cls, path_list):\n",
    "        df = pd.read_pickle(path_list[0])\n",
    "        for path in path_list[1:]:\n",
    "            df = update_data(df, pd.read_pickle(path))\n",
    "        return cls(df)\n",
    "    \n",
    "    @staticmethod\n",
    "    def scrape(race_id_list):\n",
    "        # race_idをkeyにしてDataFrame型を格納\n",
    "        race_results = {}\n",
    "        for race_id in tqdm(race_id_list):\n",
    "            time.sleep(1)\n",
    "            try:\n",
    "                url = f'https://db.netkeiba.com/race/{race_id}'\n",
    "                # メインとなるテーブルデータを取得\n",
    "                df = pd.read_html(url)[0]\n",
    "\n",
    "                html = requests.get(url)\n",
    "                html.encoding = 'EUC-JP'\n",
    "                soup = BeautifulSoup(html.text, 'html.parser')\n",
    "\n",
    "                # 天候、レースの種類、コースの長さ、馬場の状態、日付をスクレイピング\n",
    "                texts = (\n",
    "                    soup.find('div', attrs={'class': 'data_intro'}).find_all('p')[0].text\n",
    "                    + soup.find('div', attrs={'class': 'data_intro'}).find_all('p')[1].text\n",
    "                )\n",
    "                info = re.findall(r'\\w+', texts)\n",
    "                for text in info:\n",
    "                    if text in ['芝', 'ダート']:\n",
    "                        df['race_type'] = [text] * len(df)\n",
    "                    if '障' in text:\n",
    "                        df['race_type'] = ['障害'] * len(df)\n",
    "                    if 'm' in text:\n",
    "                        df['course_len'] = [int(re.findall(r'\\d+', text)[0])] * len(df)\n",
    "                    if text in ['良', '稍重', '重', '不良']:\n",
    "                        df['ground_state'] = [text] * len(df)\n",
    "                    if text in ['曇', '晴', '雨', '小雨', '小雪', '雪']:\n",
    "                        df['weather'] = [text] * len(df)\n",
    "                    if '年' in text:\n",
    "                        df['date'] = [text] * len(df)\n",
    "\n",
    "                # 馬ID、騎手IDをスクレイピング\n",
    "                horse_id_list = []\n",
    "                horse_a_list = soup.find('table', attrs={'summary': 'レース結果'}).find_all('a', attrs={'href': re.compile('^/horse')})\n",
    "                for a in horse_a_list:\n",
    "                    horse_id = re.findall(r'\\d+', a['href'])\n",
    "                    horse_id_list.append(horse_id[0])\n",
    "                jockey_id_list = []\n",
    "                jockey_a_list = soup.find(\"table\", attrs={'summary': 'レース結果'}).find_all('a', attrs={'href': re.compile('^/jockey')})\n",
    "                for a in jockey_a_list:\n",
    "                    jockey_id = re.findall(r'\\d+', a['href'])\n",
    "                    jockey_id_list.append(jockey_id[0])\n",
    "                df['horse_id'] = horse_id_list\n",
    "                df['jockey_id'] = jockey_id_list\n",
    "\n",
    "                #インデックスをrace_idにする\n",
    "                df.index = [race_id] * len(df)\n",
    "\n",
    "                race_results[race_id] = df\n",
    "            # 存在しないrace_idを飛ばす\n",
    "            except IndexError:\n",
    "                continue\n",
    "            # wifiの接続が切れた時などでも途中までのデータを返せるようにする\n",
    "            except Exception as e:\n",
    "                print(e)\n",
    "                break\n",
    "            # Jupyterで停止ボタンを押した時の対処\n",
    "            except:\n",
    "                break\n",
    "\n",
    "        # pd.DataFrame型にして一つのデータにまとめる\n",
    "        race_results_df = pd.concat([race_results[key] for key in race_results])\n",
    "\n",
    "        return race_results_df\n",
    "    \n",
    "    # 前処理\n",
    "    def preprocessing(self):\n",
    "        df = self.data.copy()\n",
    "\n",
    "        # 着順に数字以外の文字列が含まれているものを取り除く\n",
    "        df['着順'] = pd.to_numeric(df['着順'], errors='coerce')\n",
    "        df.dropna(subset=['着順'], inplace=True)\n",
    "#         df = df[~(df['着順'].astype(str).str.contains('\\D'))]\n",
    "        df['着順'] = df['着順'].astype(int)\n",
    "        df['rank'] = df['着順'].map(lambda x: 1 if x < 4 else 0)\n",
    "\n",
    "        # 性齢を性と年齢に分ける\n",
    "        df['性'] = df['性齢'].map(lambda x: str(x)[0])\n",
    "        df['年齢'] = df['性齢'].map(lambda x: str(x)[1:]).astype(int)\n",
    "\n",
    "        # 馬体重を体重と体重変化に分ける\n",
    "        df['体重'] = df['馬体重'].str.split('(', expand=True)[0].astype(int)\n",
    "        df['体重変化'] = df['馬体重'].str.split('(', expand=True)[1].str[:-1].astype(int)\n",
    "\n",
    "        # データをint, floatに変換\n",
    "        df['単勝'] = df['単勝'].astype(float)\n",
    "        df['course_len'] = df['course_len'].astype(float) // 100\n",
    "\n",
    "        # 不要な列を削除\n",
    "        df.drop(['タイム', '着差', '調教師', '性齢', '馬体重', '馬名', '騎手', '単勝', '人気', '着順'], axis=1, inplace=True)\n",
    "\n",
    "        df['date'] = pd.to_datetime(df['date'], format='%Y年%m月%d日')\n",
    "        \n",
    "        # 開催場所\n",
    "        df['開催'] = df.index.map(lambda x: str(x)[4:6])\n",
    "\n",
    "        self.data_p = df\n",
    "    \n",
    "    # カテゴリ変数の処理\n",
    "    def process_categorical(self):\n",
    "        self.le_horse = LabelEncoder().fit(self.data_pe['horse_id'])\n",
    "        self.le_jockey = LabelEncoder().fit(self.data_pe['jockey_id'])        \n",
    "        super().process_categorical(self.le_horse, self.le_jockey, self.data_pe)\n",
    "\n",
    "# 馬の過去成績データを処理するクラス\n",
    "class HorseResults:\n",
    "    def __init__(self, horse_results):\n",
    "        self.horse_results = horse_results[['日付', '着順', '賞金', '着差', '通過', '開催', '距離']]\n",
    "        self.preprocessing()\n",
    "    \n",
    "    @classmethod\n",
    "    def read_pickle(cls, path_list):\n",
    "        df = pd.read_pickle(path_list[0])\n",
    "        for path in path_list[1:]:\n",
    "            df = update_data(df, pd.read_pickle(path))\n",
    "        return cls(df)\n",
    "    \n",
    "    @staticmethod\n",
    "    def scrape(horse_id_list):\n",
    "        # horse_idをkeyにしてDataFrame型を格納\n",
    "        horse_results = {}\n",
    "        for horse_id in tqdm(horse_id_list):\n",
    "            try:\n",
    "                time.sleep(1)\n",
    "                url = f'https://db.netkeiba.com/horse/{horse_id}'\n",
    "                # メインとなるテーブルデータを取得\n",
    "                df = pd.read_html(url)[3]\n",
    "                # 受賞歴がある馬の場合、4番目に受賞歴テーブルが来るため、5番目のデータを取得する\n",
    "                if df.columns[0] == '受賞歴':\n",
    "                    df = pd.read_html(url)[4]\n",
    "                horse_results[horse_id] = df\n",
    "            except IndexError:\n",
    "                continue\n",
    "            except Exception as e:\n",
    "                print(e)\n",
    "                break\n",
    "            except:\n",
    "                break\n",
    "        \n",
    "        # pd.DataFrame型にして一つのデータにまとめる\n",
    "        horse_results_df = pd.concat([horse_results[key] for key in horse_results])\n",
    "        \n",
    "        return horse_results_df\n",
    "        \n",
    "    def preprocessing(self):\n",
    "        df = self.horse_results.copy()\n",
    "        \n",
    "        # 着順に数字以外の文字列が含まれているものを取り除く\n",
    "        df['着順'] = pd.to_numeric(df['着順'], errors='coerce')\n",
    "        df.dropna(subset=['着順'], inplace=True)\n",
    "        df['着順'] = df['着順'].astype(int)\n",
    "        \n",
    "        df['date'] = pd.to_datetime(df['日付'])\n",
    "        df.drop(['日付'], axis=1, inplace=True)\n",
    "        \n",
    "        # 賞金の欠損値を0で埋める\n",
    "        df['賞金'].fillna(0, inplace=True)\n",
    "        \n",
    "        # 1着の着差を0にする\n",
    "        df['着差'] = df['着差'].map(lambda x: 0 if x < 0 else x)\n",
    "                                            \n",
    "        # レース展開データ\n",
    "        def corner(x, n):\n",
    "            if type(x) != str:\n",
    "                return x\n",
    "            # n=1: 最初のコーナー位置、n=4: 最終コーナー位置\n",
    "            if n == 1:\n",
    "                return int(re.findall(r'\\d+', x)[0])\n",
    "            if n == 4:\n",
    "                return int(re.findall(r'\\d+', x)[-1])\n",
    "                                            \n",
    "        df['first_corner'] = df['通過'].map(lambda x: corner(x, 1))\n",
    "        df['final_corner'] = df['通過'].map(lambda x: corner(x, 4))\n",
    "        \n",
    "        df['final_to_rank'] = df['final_corner'] - df['着順']\n",
    "        df['first_to_rank'] = df['first_corner'] - df['着順']\n",
    "        df['first_to_final'] = df['first_corner'] - df['final_corner']\n",
    "        \n",
    "        # 開催場所\n",
    "        df['開催'] = df['開催'].str.extract(r'(\\D+)')[0].map(place_dict).fillna('11')\n",
    "        # race_type\n",
    "        df['race_type'] = df['距離'].str.extract(r'(\\D+)')[0].map(race_type_dict)\n",
    "        # 距離\n",
    "        df['course_len'] = df['距離'].str.extract(r'(\\d+)').astype(int) // 100\n",
    "        df.drop(['距離'], axis=1, inplace=True)\n",
    "        \n",
    "        # インデックス名を与える\n",
    "        df.index.name = 'horse_id'\n",
    "        \n",
    "        self.horse_results = df\n",
    "        self.target_list = ['着順', '賞金', '着差', 'first_corner', 'final_corner', 'final_to_rank', 'first_to_rank', 'first_to_final']\n",
    "    \n",
    "    def average(self, horse_id_list, date, n_samples='all'):\n",
    "        target_df = self.horse_results.query('index in @horse_id_list')\n",
    "        \n",
    "        # 過去何走分取り出すか指定\n",
    "        if n_samples == 'all':\n",
    "            filtered_df = target_df[target_df['date'] < date]\n",
    "        elif n_samples > 0:\n",
    "            filtered_df = target_df[target_df['date'] < date].sort_values('date', ascending=False).groupby(level=0).head(n_samples)\n",
    "        else:\n",
    "            raise Exception('n_samples must be integer')\n",
    "        \n",
    "        self.average_dict = {}\n",
    "        self.average_dict['non_category'] = filtered_df.groupby(level=0)[self.target_list].mean().add_suffix(f'_{n_samples}R')\n",
    "        for column in ['course_len', 'race_type', '開催']:\n",
    "            self.average_dict[column] = filtered_df.groupby(['horse_id', column])[self.target_list].mean().add_suffix(f'_{column}_{n_samples}R')\n",
    "    \n",
    "    def merge(self, results, date, n_samples='all'):\n",
    "        df = results[results['date'] == date]\n",
    "        horse_id_list = df['horse_id']\n",
    "        self.average(horse_id_list, date, n_samples)\n",
    "        merged_df = df.merge(self.average_dict['non_category'], left_on='horse_id', right_index=True, how='left')\n",
    "        for column in ['course_len', 'race_type', '開催']:\n",
    "            merged_df = merged_df.merge(self.average_dict[column], left_on=['horse_id', column], right_index=True, how='left')\n",
    "        return merged_df\n",
    "    \n",
    "    def merge_all(self, results, n_samples='all'):\n",
    "        date_list = results['date'].unique()\n",
    "        merged_df = pd.concat([self.merge(results, date, n_samples) for date in date_list])\n",
    "        return merged_df\n",
    "\n",
    "# 血統データを処理するクラス\n",
    "class Peds:\n",
    "    def __init__(self, peds):\n",
    "        self.peds = peds\n",
    "        # LabelEncodingしてcategory型にした変数\n",
    "        self.peds_e = pd.DataFrame()\n",
    "    \n",
    "    @classmethod\n",
    "    def read_pickle(cls, path_list):\n",
    "        df = pd.read_pickle(path_list[0])\n",
    "        for path in path_list[1:]:\n",
    "            df = update_data(df, pd.read_pickle(path))\n",
    "        return cls(df)\n",
    "    \n",
    "    @staticmethod\n",
    "    def scrape(horse_id_list):\n",
    "        # 血統データを取り出す\n",
    "        peds_dict = {}\n",
    "        for horse_id in tqdm(horse_id_list):\n",
    "            try:\n",
    "                url = f'https://db.netkeiba.com/horse/ped/{horse_id}'\n",
    "                df = pd.read_html(url)[0]\n",
    "\n",
    "                # 重複を削除して1列のSeries型データに治す\n",
    "                generations = {}\n",
    "                for i in reversed(range(5)):\n",
    "                    generations[i] = df[i]\n",
    "                    df.drop([i], axis=1, inplace=True)\n",
    "                    df = df.drop_duplicates()\n",
    "\n",
    "                ped = pd.concat([generations[i] for i in range(5)]).rename(horse_id)\n",
    "                peds_dict[horse_id] = ped.reset_index(drop=True)\n",
    "                time.sleep(1)\n",
    "            except IndexError:\n",
    "                continue\n",
    "            except Exception as e:\n",
    "                print(e)\n",
    "                break\n",
    "            except:\n",
    "                break\n",
    "        \n",
    "        # 列名をpeds_0, ..., peds_61にする\n",
    "        peds_df = pd.concat([peds_dict[key] for key in peds_dict], axis=1).T.add_prefix('peds_')\n",
    "        \n",
    "        return peds_df\n",
    "    \n",
    "    def encode(self):\n",
    "        df = self.peds.copy()\n",
    "        for column in df.columns:\n",
    "            df[column] = LabelEncoder().fit_transform(df[column].fillna('Na'))\n",
    "        self.peds_e = df.astype('category')\n",
    "\n",
    "# 払い戻しデータを加工するクラス\n",
    "class Return:\n",
    "    def __init__(self, return_tables):\n",
    "        self.return_tables = return_tables\n",
    "    \n",
    "    @classmethod\n",
    "    def read_pickle(cls, path_list):\n",
    "        df = pd.read_pickle(path_list[0])\n",
    "        for path in path_list[1:]:\n",
    "            df = update_data(df, pd.read_pickle(path))\n",
    "        return cls(df)\n",
    "    \n",
    "    @staticmethod\n",
    "    def scrape(race_id_list):\n",
    "        return_tables = {}\n",
    "        for race_id in tqdm(race_id_list):\n",
    "            try:\n",
    "                url = f'https://db.netkeiba.com/race/{race_id}'\n",
    "\n",
    "                # 複勝やワイドなどが区切られてしまうため、改行コードを文字列に変換して後でsplitする\n",
    "                f = urlopen(url)\n",
    "                html = f.read()\n",
    "                html = html.replace(b'<br />', b'br')            \n",
    "                dfs = pd.read_html(html)\n",
    "\n",
    "                # dfsの2番目に単勝～馬連、3番目にワイド～3連単がある\n",
    "                df = pd.concat([dfs[1], dfs[2]])\n",
    "                \n",
    "                df.index = [race_id] * len(df)\n",
    "                return_tables[race_id] = df\n",
    "                time.sleep(1)\n",
    "            except IndexError:\n",
    "                continue\n",
    "            except Exception as e:\n",
    "                print(e)\n",
    "                break\n",
    "            except:\n",
    "                break\n",
    "        \n",
    "        # pd.DataFrame型にして一つのデータにまとめる\n",
    "        return_tables_df = pd.concat([return_tables[key] for key in return_tables])\n",
    "        \n",
    "        return return_tables_df\n",
    "    \n",
    "    @property\n",
    "    def fukusho(self):\n",
    "        # 複勝の勝ち馬と払い戻しのデータを取り出す\n",
    "        fukusho = self.return_tables[self.return_tables[0] == '複勝'][[1, 2]]\n",
    "        \n",
    "        # 勝ち馬\n",
    "        wins = fukusho[1].str.split('br', expand=True)[[0, 1, 2]]\n",
    "        wins.columns = ['win_0', 'win_1', 'win_2']\n",
    "        \n",
    "        # 払い戻し\n",
    "        returns = fukusho[2].str.split('br', expand=True)[[0, 1, 2]]\n",
    "        returns.columns = ['return_0', 'return_1', 'return_2']\n",
    "        \n",
    "        df = pd.concat([wins, returns], axis=1)\n",
    "        \n",
    "        # int型に変換できないデータがあるので処理\n",
    "        for column in df.columns:\n",
    "            df[column] = df[column].str.replace(',', '')\n",
    "            \n",
    "        df = df.fillna(0).astype(int)\n",
    "        \n",
    "        return df\n",
    "    \n",
    "    @property\n",
    "    def tansho(self):\n",
    "        tansho = self.return_tables[self.return_tables[0] == '単勝'][[1, 2]]\n",
    "        tansho.columns = ['win', 'return']\n",
    "        \n",
    "        for column in tansho.columns:\n",
    "            tansho[column] = pd.to_numeric(tansho[column], errors='coerce')\n",
    "            \n",
    "        return tansho\n",
    "    \n",
    "    @property\n",
    "    def umaren(self):\n",
    "        umaren = self.return_tables[self.return_tables[0] == '馬連'][[1, 2]]\n",
    "        wins = umaren[1].str.split('-', expand=True)[[0, 1]].add_prefix('win_')\n",
    "        return_ = umaren[2].rename('return')\n",
    "        df = pd.concat([wins, return_], axis=1)      \n",
    "        df = df.apply(lambda x: pd.to_numeric(x, errors='coerce'))\n",
    "        \n",
    "        return df\n",
    "\n",
    "# 予測モデルを評価するクラス\n",
    "class ModelEvaluator:\n",
    "    def __init__(self, model, return_tables_path, std=True):\n",
    "        self.model = model\n",
    "        self.rt = Return.read_pickle([return_tables_path])\n",
    "        self.fukusho = self.rt.fukusho\n",
    "        self.tansho = self.rt.tansho\n",
    "        self.umaren = self.rt.umaren\n",
    "        self.std = std\n",
    "        \n",
    "    def predict_proba(self, x):\n",
    "        # 1（3着以内）になる確率を予測\n",
    "        proba = pd.Series(self.model.predict_proba(x)[:, 1], index=x.index)\n",
    "        if self.std:\n",
    "            # 標準化\n",
    "            standard_scaler = lambda x: (x - x.mean()) / x.std()\n",
    "            proba = proba.groupby(level=0).transform(standard_scaler)\n",
    "            # MinMaxスケーリング：データを0から1にする\n",
    "            proba = (proba - proba.min()) / (proba.max() - proba.min())\n",
    "        return proba\n",
    "    \n",
    "    def predict(self, x, threshold=0.5):\n",
    "        # thresholdの値によってpredict_probaで出した値を0か1に決定する\n",
    "        y_pred = self.predict_proba(x)\n",
    "        return [0 if p < threshold else 1 for p in y_pred]\n",
    "    \n",
    "    def score(self, y_true, x):\n",
    "        # スコアを表示\n",
    "        return roc_auc_score(y_true, self.predict_proba(x))\n",
    "    \n",
    "    def feature_importance(self, x, n_display=20):\n",
    "        # 変数の重要度を出力\n",
    "        importances = pd.DataFrame(\n",
    "            {\"features\": x.columns, \"importance\": self.model.feature_importances_}\n",
    "        )\n",
    "        return importances.sort_values('importance', ascending=False)[:n_display]\n",
    "    \n",
    "    def pred_table(self, x, threshold=0.5, bet_only=True):\n",
    "        # 予測したレースIDと馬番を出力する\n",
    "        pred_table = x.copy()[['馬番']]\n",
    "        pred_table['pred'] = self.predict(x, threshold)\n",
    "        \n",
    "        if bet_only:\n",
    "            return pred_table[pred_table['pred'] == 1]['馬番']\n",
    "        \n",
    "        return pred_table\n",
    "    \n",
    "    def fukusho_return(self, x, threshold=0.5):\n",
    "        # 複勝の払い戻しを表示\n",
    "        pred_table = self.pred_table(x, threshold)\n",
    "        n_bets = len(pred_table)\n",
    "        money = -100 * n_bets\n",
    "        df = self.fukusho.copy()\n",
    "        df = df.merge(pred_table, left_index=True, right_index=True, how='right')\n",
    "        for i in range(3):\n",
    "            money += df[df[f'win_{i}'] == df['馬番']][f'return_{i}'].sum()\n",
    "        return_rate = (n_bets * 100 + money) / (n_bets * 100)\n",
    "        return n_bets, return_rate\n",
    "    \n",
    "    def tansho_return(self, x, threshold=0.5):\n",
    "        # 単勝の払い戻しを表示\n",
    "        pred_table = self.pred_table(x, threshold)\n",
    "        n_bets = len(pred_table)\n",
    "        money = -100 * n_bets\n",
    "        df = self.tansho.copy()\n",
    "        df = df.merge(pred_table, left_index=True, right_index=True, how='right')\n",
    "        money += df[df['win'] == df['馬番']]['return'].sum()\n",
    "        return_rate = (n_bets * 100 + money) / (n_bets * 100)\n",
    "        return n_bets, return_rate\n",
    "    \n",
    "    def tansho_return_proper(self, X, threshold=0.5):\n",
    "        pred_table = self.pred_table(X, threshold)\n",
    "        n_bets = len(pred_table)\n",
    "        df = self.tansho.copy()\n",
    "        df = df.merge(pred_table, left_index=True, right_index=True, how='right')\n",
    "        \n",
    "        # 単勝適性回収値を計算\n",
    "        return_rate = len(df.query('win == 馬番')) / (100 / df['return']).sum()\n",
    "        \n",
    "        return n_bets, return_rate\n",
    "    \n",
    "    def umaren_return(self, x, threshold=0.5):\n",
    "        pred_table = self.pred_table(x, threshold)\n",
    "        hit = {}\n",
    "        n_bets = 0\n",
    "        for race_id, preds in pred_table.groupby(level=0):\n",
    "            n_bets += comb(len(preds), 2)\n",
    "            hit[race_id] = set(self.umaren.loc[race_id][['win_0', 'win_1']]).issubset(set(preds))\n",
    "        return_rate = (self.umaren.index.map(hit).values * self.umaren['return']).sum() / (n_bets * 100)\n",
    "        return n_bets, return_rate"
   ]
  },
  {
   "cell_type": "markdown",
   "metadata": {},
   "source": [
    "### 1.2　その他の定義"
   ]
  },
  {
   "cell_type": "code",
   "execution_count": 3,
   "metadata": {},
   "outputs": [],
   "source": [
    "# 時系列に沿って訓練データとテストデータに分ける関数\n",
    "def split_data(df, test_size=0.3):\n",
    "    sorted_id_list = df.sort_values('date').index.unique()   \n",
    "    train_id_list = sorted_id_list[:round(len(sorted_id_list) * (1 - test_size))]\n",
    "    test_id_list = sorted_id_list[round(len(sorted_id_list) * (1 - test_size)):]\n",
    "    train = df.loc[train_id_list]#.drop(['date'], axis=1)\n",
    "    test = df.loc[test_id_list]#.drop(['date'], axis=1)\n",
    "    return train, test\n",
    "\n",
    "# 回収率を計算する関数\n",
    "def gain(return_func, x, n_samples=100, lower=50, min_threshold=0.5):\n",
    "    gain = {}\n",
    "    for i in tqdm(range(n_samples)):\n",
    "        threshold = (i / n_samples) + (min_threshold * (1 - (i / n_samples)))\n",
    "        n_bets, return_rate = return_func(x, threshold)\n",
    "        if n_bets > lower:\n",
    "            gain[n_bets] = return_rate\n",
    "    return pd.Series(gain)\n",
    "\n",
    "# 重複のないデータを作成する関数\n",
    "def update_data(old, new):\n",
    "    filtered_old = old[~old.index.isin(new.index)]\n",
    "    return pd.concat([filtered_old, new])\n",
    "\n",
    "place_dict = {\n",
    "    '札幌': '01', '函館': '02', '福島': '03', '新潟': '04', '東京': '05',\n",
    "    '中山': '06', '中京': '07', '京都': '08', '阪神': '09', '小倉': '10'\n",
    "}\n",
    "\n",
    "race_type_dict = {\n",
    "    '芝': '芝', 'ダ': 'ダート', '障': '障害'\n",
    "}"
   ]
  },
  {
   "cell_type": "markdown",
   "metadata": {},
   "source": [
    "### 2．前処理"
   ]
  },
  {
   "cell_type": "code",
   "execution_count": 4,
   "metadata": {},
   "outputs": [],
   "source": [
    "r = Results.read_pickle(['results.pickle'])\n",
    "\n",
    "# 前処理\n",
    "r.preprocessing()\n",
    "\n",
    "# 馬の過去成績データの追加\n",
    "hr = HorseResults.read_pickle(['horse_results.pickle'])\n",
    "r.merge_horse_results(hr)\n",
    "\n",
    "# 5世代分の血統データの追加\n",
    "p = Peds.read_pickle(['peds.pickle'])\n",
    "p.encode()\n",
    "r.merge_peds(p.peds_e)\n",
    "\n",
    "# カテゴリ変数の処理\n",
    "r.process_categorical()"
   ]
  },
  {
   "cell_type": "code",
   "execution_count": 5,
   "metadata": {},
   "outputs": [
    {
     "data": {
      "text/html": [
       "<div>\n",
       "<style scoped>\n",
       "    .dataframe tbody tr th:only-of-type {\n",
       "        vertical-align: middle;\n",
       "    }\n",
       "\n",
       "    .dataframe tbody tr th {\n",
       "        vertical-align: top;\n",
       "    }\n",
       "\n",
       "    .dataframe thead th {\n",
       "        text-align: right;\n",
       "    }\n",
       "</style>\n",
       "<table border=\"1\" class=\"dataframe\">\n",
       "  <thead>\n",
       "    <tr style=\"text-align: right;\">\n",
       "      <th></th>\n",
       "      <th>枠番</th>\n",
       "      <th>馬番</th>\n",
       "      <th>斤量</th>\n",
       "      <th>horse_id</th>\n",
       "      <th>jockey_id</th>\n",
       "      <th>course_len</th>\n",
       "      <th>weather</th>\n",
       "      <th>race_type</th>\n",
       "      <th>ground_state</th>\n",
       "      <th>date</th>\n",
       "      <th>...</th>\n",
       "      <th>first_to_rank_race_type_allR</th>\n",
       "      <th>first_to_final_race_type_allR</th>\n",
       "      <th>着順_開催_allR</th>\n",
       "      <th>賞金_開催_allR</th>\n",
       "      <th>着差_開催_allR</th>\n",
       "      <th>first_corner_開催_allR</th>\n",
       "      <th>final_corner_開催_allR</th>\n",
       "      <th>final_to_rank_開催_allR</th>\n",
       "      <th>first_to_rank_開催_allR</th>\n",
       "      <th>first_to_final_開催_allR</th>\n",
       "    </tr>\n",
       "  </thead>\n",
       "  <tbody>\n",
       "    <tr>\n",
       "      <th>201901010101</th>\n",
       "      <td>1</td>\n",
       "      <td>1</td>\n",
       "      <td>54.0</td>\n",
       "      <td>2017105318</td>\n",
       "      <td>05339</td>\n",
       "      <td>18.0</td>\n",
       "      <td>曇</td>\n",
       "      <td>芝</td>\n",
       "      <td>良</td>\n",
       "      <td>2019-07-27</td>\n",
       "      <td>...</td>\n",
       "      <td>5.000000</td>\n",
       "      <td>6.000000</td>\n",
       "      <td>NaN</td>\n",
       "      <td>NaN</td>\n",
       "      <td>NaN</td>\n",
       "      <td>NaN</td>\n",
       "      <td>NaN</td>\n",
       "      <td>NaN</td>\n",
       "      <td>NaN</td>\n",
       "      <td>NaN</td>\n",
       "    </tr>\n",
       "    <tr>\n",
       "      <th>201901010101</th>\n",
       "      <td>3</td>\n",
       "      <td>3</td>\n",
       "      <td>54.0</td>\n",
       "      <td>2017104612</td>\n",
       "      <td>05203</td>\n",
       "      <td>18.0</td>\n",
       "      <td>曇</td>\n",
       "      <td>芝</td>\n",
       "      <td>良</td>\n",
       "      <td>2019-07-27</td>\n",
       "      <td>...</td>\n",
       "      <td>3.000000</td>\n",
       "      <td>3.000000</td>\n",
       "      <td>NaN</td>\n",
       "      <td>NaN</td>\n",
       "      <td>NaN</td>\n",
       "      <td>NaN</td>\n",
       "      <td>NaN</td>\n",
       "      <td>NaN</td>\n",
       "      <td>NaN</td>\n",
       "      <td>NaN</td>\n",
       "    </tr>\n",
       "    <tr>\n",
       "      <th>201901010101</th>\n",
       "      <td>4</td>\n",
       "      <td>4</td>\n",
       "      <td>51.0</td>\n",
       "      <td>2017103879</td>\n",
       "      <td>01180</td>\n",
       "      <td>18.0</td>\n",
       "      <td>曇</td>\n",
       "      <td>芝</td>\n",
       "      <td>良</td>\n",
       "      <td>2019-07-27</td>\n",
       "      <td>...</td>\n",
       "      <td>NaN</td>\n",
       "      <td>NaN</td>\n",
       "      <td>NaN</td>\n",
       "      <td>NaN</td>\n",
       "      <td>NaN</td>\n",
       "      <td>NaN</td>\n",
       "      <td>NaN</td>\n",
       "      <td>NaN</td>\n",
       "      <td>NaN</td>\n",
       "      <td>NaN</td>\n",
       "    </tr>\n",
       "    <tr>\n",
       "      <th>201901010101</th>\n",
       "      <td>8</td>\n",
       "      <td>9</td>\n",
       "      <td>51.0</td>\n",
       "      <td>2017106259</td>\n",
       "      <td>01179</td>\n",
       "      <td>18.0</td>\n",
       "      <td>曇</td>\n",
       "      <td>芝</td>\n",
       "      <td>良</td>\n",
       "      <td>2019-07-27</td>\n",
       "      <td>...</td>\n",
       "      <td>1.000000</td>\n",
       "      <td>-2.000000</td>\n",
       "      <td>NaN</td>\n",
       "      <td>NaN</td>\n",
       "      <td>NaN</td>\n",
       "      <td>NaN</td>\n",
       "      <td>NaN</td>\n",
       "      <td>NaN</td>\n",
       "      <td>NaN</td>\n",
       "      <td>NaN</td>\n",
       "    </tr>\n",
       "    <tr>\n",
       "      <th>201901010101</th>\n",
       "      <td>5</td>\n",
       "      <td>5</td>\n",
       "      <td>54.0</td>\n",
       "      <td>2017104140</td>\n",
       "      <td>01062</td>\n",
       "      <td>18.0</td>\n",
       "      <td>曇</td>\n",
       "      <td>芝</td>\n",
       "      <td>良</td>\n",
       "      <td>2019-07-27</td>\n",
       "      <td>...</td>\n",
       "      <td>-5.000000</td>\n",
       "      <td>-2.000000</td>\n",
       "      <td>NaN</td>\n",
       "      <td>NaN</td>\n",
       "      <td>NaN</td>\n",
       "      <td>NaN</td>\n",
       "      <td>NaN</td>\n",
       "      <td>NaN</td>\n",
       "      <td>NaN</td>\n",
       "      <td>NaN</td>\n",
       "    </tr>\n",
       "    <tr>\n",
       "      <th>...</th>\n",
       "      <td>...</td>\n",
       "      <td>...</td>\n",
       "      <td>...</td>\n",
       "      <td>...</td>\n",
       "      <td>...</td>\n",
       "      <td>...</td>\n",
       "      <td>...</td>\n",
       "      <td>...</td>\n",
       "      <td>...</td>\n",
       "      <td>...</td>\n",
       "      <td>...</td>\n",
       "      <td>...</td>\n",
       "      <td>...</td>\n",
       "      <td>...</td>\n",
       "      <td>...</td>\n",
       "      <td>...</td>\n",
       "      <td>...</td>\n",
       "      <td>...</td>\n",
       "      <td>...</td>\n",
       "      <td>...</td>\n",
       "      <td>...</td>\n",
       "    </tr>\n",
       "    <tr>\n",
       "      <th>202006050812</th>\n",
       "      <td>4</td>\n",
       "      <td>7</td>\n",
       "      <td>55.0</td>\n",
       "      <td>2015101984</td>\n",
       "      <td>01134</td>\n",
       "      <td>12.0</td>\n",
       "      <td>晴</td>\n",
       "      <td>芝</td>\n",
       "      <td>良</td>\n",
       "      <td>2020-12-27</td>\n",
       "      <td>...</td>\n",
       "      <td>-2.000000</td>\n",
       "      <td>0.052632</td>\n",
       "      <td>7.20</td>\n",
       "      <td>18.000000</td>\n",
       "      <td>0.620000</td>\n",
       "      <td>5.000000</td>\n",
       "      <td>4.600000</td>\n",
       "      <td>-2.600000</td>\n",
       "      <td>-2.200000</td>\n",
       "      <td>0.40</td>\n",
       "    </tr>\n",
       "    <tr>\n",
       "      <th>202006050812</th>\n",
       "      <td>5</td>\n",
       "      <td>10</td>\n",
       "      <td>55.0</td>\n",
       "      <td>2014100549</td>\n",
       "      <td>01183</td>\n",
       "      <td>12.0</td>\n",
       "      <td>晴</td>\n",
       "      <td>芝</td>\n",
       "      <td>良</td>\n",
       "      <td>2020-12-27</td>\n",
       "      <td>...</td>\n",
       "      <td>-4.409091</td>\n",
       "      <td>-0.318182</td>\n",
       "      <td>3.00</td>\n",
       "      <td>190.000000</td>\n",
       "      <td>0.100000</td>\n",
       "      <td>2.000000</td>\n",
       "      <td>2.000000</td>\n",
       "      <td>-1.000000</td>\n",
       "      <td>-1.000000</td>\n",
       "      <td>0.00</td>\n",
       "    </tr>\n",
       "    <tr>\n",
       "      <th>202006050812</th>\n",
       "      <td>6</td>\n",
       "      <td>11</td>\n",
       "      <td>57.0</td>\n",
       "      <td>2016104265</td>\n",
       "      <td>01115</td>\n",
       "      <td>12.0</td>\n",
       "      <td>晴</td>\n",
       "      <td>芝</td>\n",
       "      <td>良</td>\n",
       "      <td>2020-12-27</td>\n",
       "      <td>...</td>\n",
       "      <td>-2.266667</td>\n",
       "      <td>0.266667</td>\n",
       "      <td>8.75</td>\n",
       "      <td>91.250000</td>\n",
       "      <td>0.800000</td>\n",
       "      <td>5.500000</td>\n",
       "      <td>5.250000</td>\n",
       "      <td>-3.500000</td>\n",
       "      <td>-3.250000</td>\n",
       "      <td>0.25</td>\n",
       "    </tr>\n",
       "    <tr>\n",
       "      <th>202006050812</th>\n",
       "      <td>4</td>\n",
       "      <td>8</td>\n",
       "      <td>54.0</td>\n",
       "      <td>2017106131</td>\n",
       "      <td>01170</td>\n",
       "      <td>12.0</td>\n",
       "      <td>晴</td>\n",
       "      <td>芝</td>\n",
       "      <td>良</td>\n",
       "      <td>2020-12-27</td>\n",
       "      <td>...</td>\n",
       "      <td>-2.000000</td>\n",
       "      <td>0.250000</td>\n",
       "      <td>NaN</td>\n",
       "      <td>NaN</td>\n",
       "      <td>NaN</td>\n",
       "      <td>NaN</td>\n",
       "      <td>NaN</td>\n",
       "      <td>NaN</td>\n",
       "      <td>NaN</td>\n",
       "      <td>NaN</td>\n",
       "    </tr>\n",
       "    <tr>\n",
       "      <th>202006050812</th>\n",
       "      <td>7</td>\n",
       "      <td>13</td>\n",
       "      <td>55.0</td>\n",
       "      <td>2016103261</td>\n",
       "      <td>01004</td>\n",
       "      <td>12.0</td>\n",
       "      <td>晴</td>\n",
       "      <td>芝</td>\n",
       "      <td>良</td>\n",
       "      <td>2020-12-27</td>\n",
       "      <td>...</td>\n",
       "      <td>-5.315789</td>\n",
       "      <td>-0.157895</td>\n",
       "      <td>8.00</td>\n",
       "      <td>64.183333</td>\n",
       "      <td>0.666667</td>\n",
       "      <td>2.333333</td>\n",
       "      <td>2.333333</td>\n",
       "      <td>-5.666667</td>\n",
       "      <td>-5.666667</td>\n",
       "      <td>0.00</td>\n",
       "    </tr>\n",
       "  </tbody>\n",
       "</table>\n",
       "<p>93686 rows × 111 columns</p>\n",
       "</div>"
      ],
      "text/plain": [
       "              枠番  馬番    斤量    horse_id jockey_id  course_len weather  \\\n",
       "201901010101   1   1  54.0  2017105318     05339        18.0       曇   \n",
       "201901010101   3   3  54.0  2017104612     05203        18.0       曇   \n",
       "201901010101   4   4  51.0  2017103879     01180        18.0       曇   \n",
       "201901010101   8   9  51.0  2017106259     01179        18.0       曇   \n",
       "201901010101   5   5  54.0  2017104140     01062        18.0       曇   \n",
       "...           ..  ..   ...         ...       ...         ...     ...   \n",
       "202006050812   4   7  55.0  2015101984     01134        12.0       晴   \n",
       "202006050812   5  10  55.0  2014100549     01183        12.0       晴   \n",
       "202006050812   6  11  57.0  2016104265     01115        12.0       晴   \n",
       "202006050812   4   8  54.0  2017106131     01170        12.0       晴   \n",
       "202006050812   7  13  55.0  2016103261     01004        12.0       晴   \n",
       "\n",
       "             race_type ground_state       date  ...  \\\n",
       "201901010101         芝            良 2019-07-27  ...   \n",
       "201901010101         芝            良 2019-07-27  ...   \n",
       "201901010101         芝            良 2019-07-27  ...   \n",
       "201901010101         芝            良 2019-07-27  ...   \n",
       "201901010101         芝            良 2019-07-27  ...   \n",
       "...                ...          ...        ...  ...   \n",
       "202006050812         芝            良 2020-12-27  ...   \n",
       "202006050812         芝            良 2020-12-27  ...   \n",
       "202006050812         芝            良 2020-12-27  ...   \n",
       "202006050812         芝            良 2020-12-27  ...   \n",
       "202006050812         芝            良 2020-12-27  ...   \n",
       "\n",
       "              first_to_rank_race_type_allR first_to_final_race_type_allR  \\\n",
       "201901010101                      5.000000                      6.000000   \n",
       "201901010101                      3.000000                      3.000000   \n",
       "201901010101                           NaN                           NaN   \n",
       "201901010101                      1.000000                     -2.000000   \n",
       "201901010101                     -5.000000                     -2.000000   \n",
       "...                                    ...                           ...   \n",
       "202006050812                     -2.000000                      0.052632   \n",
       "202006050812                     -4.409091                     -0.318182   \n",
       "202006050812                     -2.266667                      0.266667   \n",
       "202006050812                     -2.000000                      0.250000   \n",
       "202006050812                     -5.315789                     -0.157895   \n",
       "\n",
       "              着順_開催_allR  賞金_開催_allR  着差_開催_allR  first_corner_開催_allR  \\\n",
       "201901010101         NaN         NaN         NaN                   NaN   \n",
       "201901010101         NaN         NaN         NaN                   NaN   \n",
       "201901010101         NaN         NaN         NaN                   NaN   \n",
       "201901010101         NaN         NaN         NaN                   NaN   \n",
       "201901010101         NaN         NaN         NaN                   NaN   \n",
       "...                  ...         ...         ...                   ...   \n",
       "202006050812        7.20   18.000000    0.620000              5.000000   \n",
       "202006050812        3.00  190.000000    0.100000              2.000000   \n",
       "202006050812        8.75   91.250000    0.800000              5.500000   \n",
       "202006050812         NaN         NaN         NaN                   NaN   \n",
       "202006050812        8.00   64.183333    0.666667              2.333333   \n",
       "\n",
       "              final_corner_開催_allR  final_to_rank_開催_allR  \\\n",
       "201901010101                   NaN                    NaN   \n",
       "201901010101                   NaN                    NaN   \n",
       "201901010101                   NaN                    NaN   \n",
       "201901010101                   NaN                    NaN   \n",
       "201901010101                   NaN                    NaN   \n",
       "...                            ...                    ...   \n",
       "202006050812              4.600000              -2.600000   \n",
       "202006050812              2.000000              -1.000000   \n",
       "202006050812              5.250000              -3.500000   \n",
       "202006050812                   NaN                    NaN   \n",
       "202006050812              2.333333              -5.666667   \n",
       "\n",
       "              first_to_rank_開催_allR  first_to_final_開催_allR  \n",
       "201901010101                    NaN                     NaN  \n",
       "201901010101                    NaN                     NaN  \n",
       "201901010101                    NaN                     NaN  \n",
       "201901010101                    NaN                     NaN  \n",
       "201901010101                    NaN                     NaN  \n",
       "...                             ...                     ...  \n",
       "202006050812              -2.200000                    0.40  \n",
       "202006050812              -1.000000                    0.00  \n",
       "202006050812              -3.250000                    0.25  \n",
       "202006050812                    NaN                     NaN  \n",
       "202006050812              -5.666667                    0.00  \n",
       "\n",
       "[93686 rows x 111 columns]"
      ]
     },
     "execution_count": 5,
     "metadata": {},
     "output_type": "execute_result"
    }
   ],
   "source": [
    "r.data_h"
   ]
  },
  {
   "cell_type": "markdown",
   "metadata": {},
   "source": [
    "### 3．予測"
   ]
  },
  {
   "cell_type": "code",
   "execution_count": 6,
   "metadata": {},
   "outputs": [],
   "source": [
    "# 時系列に沿って訓練データとテストデータに分ける\n",
    "train, test = split_data(r.data_c)\n",
    "X_train = train.drop(['rank', 'date'], axis=1)\n",
    "y_train = train['rank']\n",
    "X_test = test.drop(['rank', 'date'], axis=1)\n",
    "y_test = test['rank']"
   ]
  },
  {
   "cell_type": "code",
   "execution_count": 7,
   "metadata": {},
   "outputs": [
    {
     "data": {
      "text/plain": [
       "LGBMClassifier(class_weight='balanced', n_estimators=80, num_leaves=4,\n",
       "               random_state=100)"
      ]
     },
     "execution_count": 7,
     "metadata": {},
     "output_type": "execute_result"
    }
   ],
   "source": [
    "params = {\n",
    "    'num_leaves': 4,\n",
    "    'n_estimators': 80,\n",
    "    'class_weight': 'balanced',\n",
    "    'random_state': 100\n",
    "}\n",
    "\n",
    "lgb_clf = lgb.LGBMClassifier(**params)\n",
    "lgb_clf.fit(X_train.values, y_train.values)"
   ]
  },
  {
   "cell_type": "code",
   "execution_count": 8,
   "metadata": {},
   "outputs": [],
   "source": [
    "me = ModelEvaluator(lgb_clf, 'return_tables.pickle')"
   ]
  },
  {
   "cell_type": "code",
   "execution_count": 9,
   "metadata": {},
   "outputs": [],
   "source": [
    "# gain_baseline = gain(me.tansho_return, X_test)\n",
    "# gain_baseline.to_pickle('gain_baseline.pickle')"
   ]
  },
  {
   "cell_type": "code",
   "execution_count": 10,
   "metadata": {},
   "outputs": [],
   "source": [
    "gain_baseline = pd.read_pickle('gain_baseline.pickle')"
   ]
  },
  {
   "cell_type": "markdown",
   "metadata": {},
   "source": [
    "#### 4．単勝適性回収値\n",
    "常に払戻額が一定になるように単勝で賭けた場合の回収率<br>\n",
    "払戻額が常に1万円になるように賭けてみる"
   ]
  },
  {
   "cell_type": "markdown",
   "metadata": {},
   "source": [
    "賭けた金額<br>\n",
    "x円賭けるとすると<br>\n",
    "$$\n",
    "各馬番の単勝オッズ \\times \\frac{x}{100} = 10000 \\\\\n",
    "\\therefore \\quad x = \\frac{100 \\times 10000}{各馬番の単勝オッズ}\n",
    "$$"
   ]
  },
  {
   "cell_type": "markdown",
   "metadata": {},
   "source": [
    "回収率 = 払戻額 / 賭けた金額"
   ]
  },
  {
   "cell_type": "code",
   "execution_count": 11,
   "metadata": {},
   "outputs": [],
   "source": [
    "# gain_proper = gain(me.tansho_return_proper, X_test)\n",
    "# gain_proper.to_pickle('gain_proper.pickle')"
   ]
  },
  {
   "cell_type": "code",
   "execution_count": 12,
   "metadata": {},
   "outputs": [],
   "source": [
    "gain_proper = pd.read_pickle('gain_proper.pickle')"
   ]
  },
  {
   "cell_type": "code",
   "execution_count": 13,
   "metadata": {},
   "outputs": [
    {
     "data": {
      "image/png": "[encoded data removed]",
      "text/plain": [
       "<Figure size 720x576 with 1 Axes>"
      ]
     },
     "metadata": {
      "needs_background": "light"
     },
     "output_type": "display_data"
    }
   ],
   "source": [
    "plt.figure(figsize=(10, 8))\n",
    "gain_baseline.rename('baseline').plot(legend=True)\n",
    "gain_proper.rename('proper').plot(legend=True)\n",
    "plt.grid()"
   ]
  },
  {
   "cell_type": "markdown",
   "metadata": {},
   "source": [
    "### 5．Optuna"
   ]
  },
  {
   "cell_type": "code",
   "execution_count": 14,
   "metadata": {},
   "outputs": [],
   "source": [
    "# 訓練データ、検証データ、テストデータに分ける\n",
    "train, test = split_data(r.data_c)\n",
    "train, valid = split_data(train)"
   ]
  },
  {
   "cell_type": "code",
   "execution_count": 15,
   "metadata": {},
   "outputs": [],
   "source": [
    "# 説明変数と目的変数に分ける\n",
    "X_train = train.drop(['rank', 'date'], axis=1)\n",
    "y_train = train['rank']\n",
    "X_valid = valid.drop(['rank', 'date'], axis=1)\n",
    "y_valid = valid['rank']\n",
    "X_test = test.drop(['rank', 'date'], axis=1)\n",
    "y_test = test['rank']"
   ]
  },
  {
   "cell_type": "code",
   "execution_count": 16,
   "metadata": {},
   "outputs": [
    {
     "name": "stderr",
     "output_type": "stream",
     "text": [
      "\u001b[32m[I 2022-03-21 22:24:47,452]\u001b[0m A new study created in memory with name: no-name-c758d765-c399-46bd-8763-722dd22528ac\u001b[0m\n",
      "feature_fraction, val_score: inf:   0%|          | 0/7 [00:00<?, ?it/s]"
     ]
    },
    {
     "name": "stdout",
     "output_type": "stream",
     "text": [
      "Training until validation scores don't improve for 10 rounds\n"
     ]
    },
    {
     "name": "stderr",
     "output_type": "stream",
     "text": [
      "feature_fraction, val_score: 0.461536:  14%|#4        | 1/7 [00:05<00:35,  5.91s/it]\u001b[32m[I 2022-03-21 22:24:53,383]\u001b[0m Trial 0 finished with value: 0.4615360256175456 and parameters: {'feature_fraction': 0.7}. Best is trial 0 with value: 0.4615360256175456.\u001b[0m\n",
      "feature_fraction, val_score: 0.461536:  14%|#4        | 1/7 [00:05<00:35,  5.91s/it]"
     ]
    },
    {
     "name": "stdout",
     "output_type": "stream",
     "text": [
      "Early stopping, best iteration is:\n",
      "[65]\tvalid_0's binary_logloss: 0.418478\tvalid_1's binary_logloss: 0.461536\n",
      "Training until validation scores don't improve for 10 rounds\n"
     ]
    },
    {
     "name": "stderr",
     "output_type": "stream",
     "text": [
      "feature_fraction, val_score: 0.461536:  29%|##8       | 2/7 [00:11<00:28,  5.71s/it]\u001b[32m[I 2022-03-21 22:24:58,624]\u001b[0m Trial 1 finished with value: 0.4616370726534182 and parameters: {'feature_fraction': 0.5}. Best is trial 0 with value: 0.4615360256175456.\u001b[0m\n",
      "feature_fraction, val_score: 0.461536:  29%|##8       | 2/7 [00:11<00:28,  5.71s/it]"
     ]
    },
    {
     "name": "stdout",
     "output_type": "stream",
     "text": [
      "Early stopping, best iteration is:\n",
      "[67]\tvalid_0's binary_logloss: 0.41851\tvalid_1's binary_logloss: 0.461637\n",
      "Training until validation scores don't improve for 10 rounds\n"
     ]
    },
    {
     "name": "stderr",
     "output_type": "stream",
     "text": [
      "feature_fraction, val_score: 0.461515:  43%|####2     | 3/7 [00:17<00:23,  5.98s/it]\u001b[32m[I 2022-03-21 22:25:05,238]\u001b[0m Trial 2 finished with value: 0.46151547990528746 and parameters: {'feature_fraction': 0.8999999999999999}. Best is trial 2 with value: 0.46151547990528746.\u001b[0m\n",
      "feature_fraction, val_score: 0.461515:  43%|####2     | 3/7 [00:17<00:23,  5.98s/it]"
     ]
    },
    {
     "name": "stdout",
     "output_type": "stream",
     "text": [
      "Early stopping, best iteration is:\n",
      "[52]\tvalid_0's binary_logloss: 0.425856\tvalid_1's binary_logloss: 0.461515\n",
      "Training until validation scores don't improve for 10 rounds\n"
     ]
    },
    {
     "name": "stderr",
     "output_type": "stream",
     "text": [
      "feature_fraction, val_score: 0.461515:  57%|#####7    | 4/7 [00:23<00:17,  5.96s/it]\u001b[32m[I 2022-03-21 22:25:11,132]\u001b[0m Trial 3 finished with value: 0.46182606679730087 and parameters: {'feature_fraction': 0.6}. Best is trial 2 with value: 0.46151547990528746.\u001b[0m\n",
      "feature_fraction, val_score: 0.461515:  57%|#####7    | 4/7 [00:23<00:17,  5.96s/it]"
     ]
    },
    {
     "name": "stdout",
     "output_type": "stream",
     "text": [
      "Early stopping, best iteration is:\n",
      "[75]\tvalid_0's binary_logloss: 0.412918\tvalid_1's binary_logloss: 0.461826\n",
      "Training until validation scores don't improve for 10 rounds\n"
     ]
    },
    {
     "name": "stderr",
     "output_type": "stream",
     "text": [
      "feature_fraction, val_score: 0.461327:  71%|#######1  | 5/7 [00:30<00:12,  6.08s/it]\u001b[32m[I 2022-03-21 22:25:17,500]\u001b[0m Trial 4 finished with value: 0.4613266629052235 and parameters: {'feature_fraction': 0.8}. Best is trial 4 with value: 0.4613266629052235.\u001b[0m\n",
      "feature_fraction, val_score: 0.461327:  71%|#######1  | 5/7 [00:30<00:12,  6.08s/it]"
     ]
    },
    {
     "name": "stdout",
     "output_type": "stream",
     "text": [
      "Early stopping, best iteration is:\n",
      "[63]\tvalid_0's binary_logloss: 0.419281\tvalid_1's binary_logloss: 0.461327\n",
      "Training until validation scores don't improve for 10 rounds\n"
     ]
    },
    {
     "name": "stderr",
     "output_type": "stream",
     "text": [
      "feature_fraction, val_score: 0.461233:  86%|########5 | 6/7 [00:35<00:05,  5.77s/it]\u001b[32m[I 2022-03-21 22:25:22,545]\u001b[0m Trial 5 finished with value: 0.4612325780083472 and parameters: {'feature_fraction': 0.4}. Best is trial 5 with value: 0.4612325780083472.\u001b[0m\n",
      "feature_fraction, val_score: 0.461233:  86%|########5 | 6/7 [00:35<00:05,  5.77s/it]"
     ]
    },
    {
     "name": "stdout",
     "output_type": "stream",
     "text": [
      "Early stopping, best iteration is:\n",
      "[65]\tvalid_0's binary_logloss: 0.421293\tvalid_1's binary_logloss: 0.461233\n",
      "Training until validation scores don't improve for 10 rounds\n"
     ]
    },
    {
     "name": "stderr",
     "output_type": "stream",
     "text": [
      "feature_fraction, val_score: 0.461166: 100%|##########| 7/7 [00:42<00:00,  6.18s/it]\u001b[32m[I 2022-03-21 22:25:29,668]\u001b[0m Trial 6 finished with value: 0.46116577045881724 and parameters: {'feature_fraction': 1.0}. Best is trial 6 with value: 0.46116577045881724.\u001b[0m\n",
      "feature_fraction, val_score: 0.461166: 100%|##########| 7/7 [00:42<00:00,  6.03s/it]\n",
      "num_leaves, val_score: 0.461166:   0%|          | 0/20 [00:00<?, ?it/s]"
     ]
    },
    {
     "name": "stdout",
     "output_type": "stream",
     "text": [
      "Early stopping, best iteration is:\n",
      "[62]\tvalid_0's binary_logloss: 0.418859\tvalid_1's binary_logloss: 0.461166\n",
      "Training until validation scores don't improve for 10 rounds\n"
     ]
    },
    {
     "name": "stderr",
     "output_type": "stream",
     "text": [
      "num_leaves, val_score: 0.461166:   5%|5         | 1/20 [00:14<04:39, 14.69s/it]\u001b[32m[I 2022-03-21 22:25:44,370]\u001b[0m Trial 7 finished with value: 0.4698014924272182 and parameters: {'num_leaves': 208}. Best is trial 7 with value: 0.4698014924272182.\u001b[0m\n",
      "num_leaves, val_score: 0.461166:   5%|5         | 1/20 [00:14<04:39, 14.69s/it]"
     ]
    },
    {
     "name": "stdout",
     "output_type": "stream",
     "text": [
      "Early stopping, best iteration is:\n",
      "[34]\tvalid_0's binary_logloss: 0.320678\tvalid_1's binary_logloss: 0.469801\n",
      "Training until validation scores don't improve for 10 rounds\n"
     ]
    },
    {
     "name": "stderr",
     "output_type": "stream",
     "text": [
      "num_leaves, val_score: 0.461166:  10%|#         | 2/20 [00:22<03:47, 12.65s/it]\u001b[32m[I 2022-03-21 22:25:52,292]\u001b[0m Trial 8 finished with value: 0.46264581592749765 and parameters: {'num_leaves': 46}. Best is trial 8 with value: 0.46264581592749765.\u001b[0m\n",
      "num_leaves, val_score: 0.461166:  10%|#         | 2/20 [00:22<03:47, 12.65s/it]"
     ]
    },
    {
     "name": "stdout",
     "output_type": "stream",
     "text": [
      "Early stopping, best iteration is:\n",
      "[46]\tvalid_0's binary_logloss: 0.413242\tvalid_1's binary_logloss: 0.462646\n",
      "Training until validation scores don't improve for 10 rounds\n"
     ]
    },
    {
     "name": "stderr",
     "output_type": "stream",
     "text": [
      "num_leaves, val_score: 0.461166:  15%|#5        | 3/20 [00:34<03:30, 12.37s/it]\u001b[32m[I 2022-03-21 22:26:03,972]\u001b[0m Trial 9 finished with value: 0.4672608097779368 and parameters: {'num_leaves': 172}. Best is trial 8 with value: 0.46264581592749765.\u001b[0m\n",
      "num_leaves, val_score: 0.461166:  15%|#5        | 3/20 [00:34<03:30, 12.37s/it]"
     ]
    },
    {
     "name": "stdout",
     "output_type": "stream",
     "text": [
      "Early stopping, best iteration is:\n",
      "[29]\tvalid_0's binary_logloss: 0.355946\tvalid_1's binary_logloss: 0.467261\n",
      "Training until validation scores don't improve for 10 rounds\n"
     ]
    },
    {
     "name": "stderr",
     "output_type": "stream",
     "text": [
      "num_leaves, val_score: 0.461166:  20%|##        | 4/20 [00:44<03:05, 11.62s/it]\u001b[32m[I 2022-03-21 22:26:13,859]\u001b[0m Trial 10 finished with value: 0.46251174985407817 and parameters: {'num_leaves': 49}. Best is trial 10 with value: 0.46251174985407817.\u001b[0m\n",
      "num_leaves, val_score: 0.461166:  20%|##        | 4/20 [00:44<03:05, 11.62s/it]"
     ]
    },
    {
     "name": "stdout",
     "output_type": "stream",
     "text": [
      "Early stopping, best iteration is:\n",
      "[62]\tvalid_0's binary_logloss: 0.393562\tvalid_1's binary_logloss: 0.462512\n",
      "Training until validation scores don't improve for 10 rounds\n"
     ]
    },
    {
     "name": "stderr",
     "output_type": "stream",
     "text": [
      "num_leaves, val_score: 0.461166:  25%|##5       | 5/20 [00:58<03:04, 12.33s/it]\u001b[32m[I 2022-03-21 22:26:27,847]\u001b[0m Trial 11 finished with value: 0.4698059973530933 and parameters: {'num_leaves': 226}. Best is trial 10 with value: 0.46251174985407817.\u001b[0m\n",
      "num_leaves, val_score: 0.461166:  25%|##5       | 5/20 [00:58<03:04, 12.33s/it]"
     ]
    },
    {
     "name": "stdout",
     "output_type": "stream",
     "text": [
      "Early stopping, best iteration is:\n",
      "[23]\tvalid_0's binary_logloss: 0.354225\tvalid_1's binary_logloss: 0.469806\n",
      "Training until validation scores don't improve for 10 rounds\n"
     ]
    },
    {
     "name": "stderr",
     "output_type": "stream",
     "text": [
      "num_leaves, val_score: 0.461166:  30%|###       | 6/20 [01:12<03:00, 12.93s/it]\u001b[32m[I 2022-03-21 22:26:42,166]\u001b[0m Trial 12 finished with value: 0.4662380032654097 and parameters: {'num_leaves': 123}. Best is trial 10 with value: 0.46251174985407817.\u001b[0m\n",
      "num_leaves, val_score: 0.461166:  30%|###       | 6/20 [01:12<03:00, 12.93s/it]"
     ]
    },
    {
     "name": "stdout",
     "output_type": "stream",
     "text": [
      "Early stopping, best iteration is:\n",
      "[37]\tvalid_0's binary_logloss: 0.361249\tvalid_1's binary_logloss: 0.466238\n",
      "Training until validation scores don't improve for 10 rounds\n"
     ]
    },
    {
     "name": "stderr",
     "output_type": "stream",
     "text": [
      "num_leaves, val_score: 0.461166:  35%|###5      | 7/20 [01:28<02:58, 13.75s/it]\u001b[32m[I 2022-03-21 22:26:57,832]\u001b[0m Trial 13 finished with value: 0.4662380032654097 and parameters: {'num_leaves': 123}. Best is trial 10 with value: 0.46251174985407817.\u001b[0m\n",
      "num_leaves, val_score: 0.461166:  35%|###5      | 7/20 [01:28<02:58, 13.75s/it]"
     ]
    },
    {
     "name": "stdout",
     "output_type": "stream",
     "text": [
      "Early stopping, best iteration is:\n",
      "[37]\tvalid_0's binary_logloss: 0.361249\tvalid_1's binary_logloss: 0.466238\n",
      "Training until validation scores don't improve for 10 rounds\n"
     ]
    },
    {
     "name": "stderr",
     "output_type": "stream",
     "text": [
      "num_leaves, val_score: 0.461166:  40%|####      | 8/20 [01:44<02:55, 14.62s/it]\u001b[32m[I 2022-03-21 22:27:14,492]\u001b[0m Trial 14 finished with value: 0.4644643632747996 and parameters: {'num_leaves': 88}. Best is trial 10 with value: 0.46251174985407817.\u001b[0m\n",
      "num_leaves, val_score: 0.461166:  40%|####      | 8/20 [01:44<02:55, 14.62s/it]"
     ]
    },
    {
     "name": "stdout",
     "output_type": "stream",
     "text": [
      "Early stopping, best iteration is:\n",
      "[46]\tvalid_0's binary_logloss: 0.371277\tvalid_1's binary_logloss: 0.464464\n",
      "Training until validation scores don't improve for 10 rounds\n"
     ]
    },
    {
     "name": "stderr",
     "output_type": "stream",
     "text": [
      "num_leaves, val_score: 0.461166:  45%|####5     | 9/20 [01:57<02:34, 14.06s/it]\u001b[32m[I 2022-03-21 22:27:27,222]\u001b[0m Trial 15 finished with value: 0.46154763639307506 and parameters: {'num_leaves': 41}. Best is trial 15 with value: 0.46154763639307506.\u001b[0m\n",
      "num_leaves, val_score: 0.461166:  45%|####5     | 9/20 [01:57<02:34, 14.06s/it]"
     ]
    },
    {
     "name": "stdout",
     "output_type": "stream",
     "text": [
      "Early stopping, best iteration is:\n",
      "[50]\tvalid_0's binary_logloss: 0.414814\tvalid_1's binary_logloss: 0.461548\n",
      "Training until validation scores don't improve for 10 rounds\n"
     ]
    },
    {
     "name": "stderr",
     "output_type": "stream",
     "text": [
      "num_leaves, val_score: 0.461166:  50%|#####     | 10/20 [02:23<02:55, 17.57s/it]\u001b[32m[I 2022-03-21 22:27:53,000]\u001b[0m Trial 16 finished with value: 0.46882758269677993 and parameters: {'num_leaves': 232}. Best is trial 15 with value: 0.46154763639307506.\u001b[0m\n",
      "num_leaves, val_score: 0.461166:  50%|#####     | 10/20 [02:23<02:55, 17.57s/it]"
     ]
    },
    {
     "name": "stdout",
     "output_type": "stream",
     "text": [
      "Early stopping, best iteration is:\n",
      "[29]\tvalid_0's binary_logloss: 0.327145\tvalid_1's binary_logloss: 0.468828\n",
      "Training until validation scores don't improve for 10 rounds\n",
      "[100]\tvalid_0's binary_logloss: 0.463601\tvalid_1's binary_logloss: 0.465462\n",
      "[200]\tvalid_0's binary_logloss: 0.455117\tvalid_1's binary_logloss: 0.462972\n",
      "[300]\tvalid_0's binary_logloss: 0.448423\tvalid_1's binary_logloss: 0.461601\n"
     ]
    },
    {
     "name": "stderr",
     "output_type": "stream",
     "text": [
      "num_leaves, val_score: 0.461166:  55%|#####5    | 11/20 [02:37<02:29, 16.57s/it]\u001b[32m[I 2022-03-21 22:28:07,236]\u001b[0m Trial 17 finished with value: 0.46142467143407107 and parameters: {'num_leaves': 4}. Best is trial 17 with value: 0.46142467143407107.\u001b[0m\n",
      "num_leaves, val_score: 0.461166:  55%|#####5    | 11/20 [02:37<02:29, 16.57s/it]"
     ]
    },
    {
     "name": "stdout",
     "output_type": "stream",
     "text": [
      "Early stopping, best iteration is:\n",
      "[315]\tvalid_0's binary_logloss: 0.447411\tvalid_1's binary_logloss: 0.461425\n",
      "Training until validation scores don't improve for 10 rounds\n",
      "[100]\tvalid_0's binary_logloss: 0.453318\tvalid_1's binary_logloss: 0.461445\n"
     ]
    },
    {
     "name": "stderr",
     "output_type": "stream",
     "text": [
      "num_leaves, val_score: 0.460855:  60%|######    | 12/20 [02:47<01:57, 14.73s/it]\u001b[32m[I 2022-03-21 22:28:17,679]\u001b[0m Trial 18 finished with value: 0.4608552543005302 and parameters: {'num_leaves': 7}. Best is trial 18 with value: 0.4608552543005302.\u001b[0m\n",
      "num_leaves, val_score: 0.460855:  60%|######    | 12/20 [02:48<01:57, 14.73s/it]"
     ]
    },
    {
     "name": "stdout",
     "output_type": "stream",
     "text": [
      "Early stopping, best iteration is:\n",
      "[123]\tvalid_0's binary_logloss: 0.449691\tvalid_1's binary_logloss: 0.460855\n",
      "Training until validation scores don't improve for 10 rounds\n",
      "[100]\tvalid_0's binary_logloss: 0.468273\tvalid_1's binary_logloss: 0.468187\n",
      "[200]\tvalid_0's binary_logloss: 0.46153\tvalid_1's binary_logloss: 0.464871\n",
      "[300]\tvalid_0's binary_logloss: 0.456908\tvalid_1's binary_logloss: 0.463547\n",
      "[400]\tvalid_0's binary_logloss: 0.453016\tvalid_1's binary_logloss: 0.462722\n"
     ]
    },
    {
     "name": "stderr",
     "output_type": "stream",
     "text": [
      "num_leaves, val_score: 0.460855:  65%|######5   | 13/20 [03:02<01:42, 14.65s/it]\u001b[32m[I 2022-03-21 22:28:32,139]\u001b[0m Trial 19 finished with value: 0.4624203608726152 and parameters: {'num_leaves': 3}. Best is trial 18 with value: 0.4608552543005302.\u001b[0m\n",
      "num_leaves, val_score: 0.460855:  65%|######5   | 13/20 [03:02<01:42, 14.65s/it]"
     ]
    },
    {
     "name": "stdout",
     "output_type": "stream",
     "text": [
      "Early stopping, best iteration is:\n",
      "[437]\tvalid_0's binary_logloss: 0.45169\tvalid_1's binary_logloss: 0.46242\n",
      "Training until validation scores don't improve for 10 rounds\n",
      "[100]\tvalid_0's binary_logloss: 0.456364\tvalid_1's binary_logloss: 0.46288\n"
     ]
    },
    {
     "name": "stderr",
     "output_type": "stream",
     "text": [
      "num_leaves, val_score: 0.460855:  70%|#######   | 14/20 [03:11<01:17, 12.85s/it]\u001b[32m[I 2022-03-21 22:28:40,794]\u001b[0m Trial 20 finished with value: 0.46151871319441296 and parameters: {'num_leaves': 6}. Best is trial 18 with value: 0.4608552543005302.\u001b[0m\n",
      "num_leaves, val_score: 0.460855:  70%|#######   | 14/20 [03:11<01:17, 12.85s/it]"
     ]
    },
    {
     "name": "stdout",
     "output_type": "stream",
     "text": [
      "Early stopping, best iteration is:\n",
      "[176]\tvalid_0's binary_logloss: 0.446705\tvalid_1's binary_logloss: 0.461519\n",
      "Training until validation scores don't improve for 10 rounds\n"
     ]
    },
    {
     "name": "stderr",
     "output_type": "stream",
     "text": [
      "num_leaves, val_score: 0.460855:  75%|#######5  | 15/20 [03:23<01:03, 12.61s/it]\u001b[32m[I 2022-03-21 22:28:52,862]\u001b[0m Trial 21 finished with value: 0.462793102639267 and parameters: {'num_leaves': 79}. Best is trial 18 with value: 0.4608552543005302.\u001b[0m\n",
      "num_leaves, val_score: 0.460855:  75%|#######5  | 15/20 [03:23<01:03, 12.61s/it]"
     ]
    },
    {
     "name": "stdout",
     "output_type": "stream",
     "text": [
      "Early stopping, best iteration is:\n",
      "[45]\tvalid_0's binary_logloss: 0.381476\tvalid_1's binary_logloss: 0.462793\n",
      "Training until validation scores don't improve for 10 rounds\n"
     ]
    },
    {
     "name": "stderr",
     "output_type": "stream",
     "text": [
      "num_leaves, val_score: 0.460855:  80%|########  | 16/20 [03:30<00:44, 11.10s/it]\u001b[32m[I 2022-03-21 22:29:00,416]\u001b[0m Trial 22 finished with value: 0.46151539880708603 and parameters: {'num_leaves': 25}. Best is trial 18 with value: 0.4608552543005302.\u001b[0m\n",
      "num_leaves, val_score: 0.460855:  80%|########  | 16/20 [03:30<00:44, 11.10s/it]"
     ]
    },
    {
     "name": "stdout",
     "output_type": "stream",
     "text": [
      "Early stopping, best iteration is:\n",
      "[57]\tvalid_0's binary_logloss: 0.431191\tvalid_1's binary_logloss: 0.461515\n",
      "Training until validation scores don't improve for 10 rounds\n"
     ]
    },
    {
     "name": "stderr",
     "output_type": "stream",
     "text": [
      "num_leaves, val_score: 0.460855:  85%|########5 | 17/20 [03:41<00:32, 10.86s/it]\u001b[32m[I 2022-03-21 22:29:10,731]\u001b[0m Trial 23 finished with value: 0.46353463222025615 and parameters: {'num_leaves': 72}. Best is trial 18 with value: 0.4608552543005302.\u001b[0m\n",
      "num_leaves, val_score: 0.460855:  85%|########5 | 17/20 [03:41<00:32, 10.86s/it]"
     ]
    },
    {
     "name": "stdout",
     "output_type": "stream",
     "text": [
      "Early stopping, best iteration is:\n",
      "[44]\tvalid_0's binary_logloss: 0.389564\tvalid_1's binary_logloss: 0.463535\n",
      "Training until validation scores don't improve for 10 rounds\n"
     ]
    },
    {
     "name": "stderr",
     "output_type": "stream",
     "text": [
      "num_leaves, val_score: 0.460855:  90%|######### | 18/20 [03:54<00:23, 11.61s/it]\u001b[32m[I 2022-03-21 22:29:24,072]\u001b[0m Trial 24 finished with value: 0.4676171742947053 and parameters: {'num_leaves': 173}. Best is trial 18 with value: 0.4608552543005302.\u001b[0m\n",
      "num_leaves, val_score: 0.460855:  90%|######### | 18/20 [03:54<00:23, 11.61s/it]"
     ]
    },
    {
     "name": "stdout",
     "output_type": "stream",
     "text": [
      "Early stopping, best iteration is:\n",
      "[30]\tvalid_0's binary_logloss: 0.351021\tvalid_1's binary_logloss: 0.467617\n",
      "Training until validation scores don't improve for 10 rounds\n"
     ]
    },
    {
     "name": "stderr",
     "output_type": "stream",
     "text": [
      "num_leaves, val_score: 0.460855:  95%|#########5| 19/20 [04:06<00:11, 11.90s/it]\u001b[32m[I 2022-03-21 22:29:36,644]\u001b[0m Trial 25 finished with value: 0.4643227287461673 and parameters: {'num_leaves': 100}. Best is trial 18 with value: 0.4608552543005302.\u001b[0m\n",
      "num_leaves, val_score: 0.460855:  95%|#########5| 19/20 [04:06<00:11, 11.90s/it]"
     ]
    },
    {
     "name": "stdout",
     "output_type": "stream",
     "text": [
      "Early stopping, best iteration is:\n",
      "[49]\tvalid_0's binary_logloss: 0.354888\tvalid_1's binary_logloss: 0.464323\n",
      "Training until validation scores don't improve for 10 rounds\n"
     ]
    },
    {
     "name": "stderr",
     "output_type": "stream",
     "text": [
      "num_leaves, val_score: 0.460855: 100%|##########| 20/20 [04:19<00:00, 12.22s/it]\u001b[32m[I 2022-03-21 22:29:49,622]\u001b[0m Trial 26 finished with value: 0.4667891634499752 and parameters: {'num_leaves': 158}. Best is trial 18 with value: 0.4608552543005302.\u001b[0m\n",
      "num_leaves, val_score: 0.460855: 100%|##########| 20/20 [04:19<00:00, 13.00s/it]\n",
      "bagging, val_score: 0.460855:   0%|          | 0/10 [00:00<?, ?it/s]"
     ]
    },
    {
     "name": "stdout",
     "output_type": "stream",
     "text": [
      "Early stopping, best iteration is:\n",
      "[37]\tvalid_0's binary_logloss: 0.338578\tvalid_1's binary_logloss: 0.466789\n",
      "Training until validation scores don't improve for 10 rounds\n",
      "[100]\tvalid_0's binary_logloss: 0.453037\tvalid_1's binary_logloss: 0.464208\n"
     ]
    },
    {
     "name": "stderr",
     "output_type": "stream",
     "text": [
      "bagging, val_score: 0.460855:  10%|#         | 1/10 [00:05<00:50,  5.63s/it]\u001b[32m[I 2022-03-21 22:29:55,264]\u001b[0m Trial 27 finished with value: 0.46358666166099377 and parameters: {'bagging_fraction': 0.40088663352241183, 'bagging_freq': 3}. Best is trial 27 with value: 0.46358666166099377.\u001b[0m\n",
      "bagging, val_score: 0.460855:  10%|#         | 1/10 [00:05<00:50,  5.63s/it]"
     ]
    },
    {
     "name": "stdout",
     "output_type": "stream",
     "text": [
      "Early stopping, best iteration is:\n",
      "[143]\tvalid_0's binary_logloss: 0.446373\tvalid_1's binary_logloss: 0.463587\n",
      "Training until validation scores don't improve for 10 rounds\n",
      "[100]\tvalid_0's binary_logloss: 0.452943\tvalid_1's binary_logloss: 0.462525\n"
     ]
    },
    {
     "name": "stderr",
     "output_type": "stream",
     "text": [
      "bagging, val_score: 0.460855:  20%|##        | 2/10 [00:12<00:47,  5.93s/it]\u001b[32m[I 2022-03-21 22:30:01,918]\u001b[0m Trial 28 finished with value: 0.46092677080516403 and parameters: {'bagging_fraction': 0.8730769481914111, 'bagging_freq': 5}. Best is trial 28 with value: 0.46092677080516403.\u001b[0m\n",
      "bagging, val_score: 0.460855:  20%|##        | 2/10 [00:12<00:47,  5.93s/it]"
     ]
    },
    {
     "name": "stdout",
     "output_type": "stream",
     "text": [
      "Early stopping, best iteration is:\n",
      "[160]\tvalid_0's binary_logloss: 0.443549\tvalid_1's binary_logloss: 0.460927\n",
      "Training until validation scores don't improve for 10 rounds\n",
      "[100]\tvalid_0's binary_logloss: 0.4534\tvalid_1's binary_logloss: 0.461933\n"
     ]
    },
    {
     "name": "stderr",
     "output_type": "stream",
     "text": [
      "bagging, val_score: 0.460855:  30%|###       | 3/10 [00:19<00:43,  6.24s/it]\u001b[32m[I 2022-03-21 22:30:08,881]\u001b[0m Trial 29 finished with value: 0.4609648436684378 and parameters: {'bagging_fraction': 0.989084885168733, 'bagging_freq': 3}. Best is trial 28 with value: 0.46092677080516403.\u001b[0m\n",
      "bagging, val_score: 0.460855:  30%|###       | 3/10 [00:19<00:43,  6.24s/it]"
     ]
    },
    {
     "name": "stdout",
     "output_type": "stream",
     "text": [
      "Early stopping, best iteration is:\n",
      "[127]\tvalid_0's binary_logloss: 0.449066\tvalid_1's binary_logloss: 0.460965\n",
      "Training until validation scores don't improve for 10 rounds\n",
      "[100]\tvalid_0's binary_logloss: 0.453032\tvalid_1's binary_logloss: 0.462025\n"
     ]
    },
    {
     "name": "stderr",
     "output_type": "stream",
     "text": [
      "bagging, val_score: 0.460855:  40%|####      | 4/10 [00:25<00:37,  6.19s/it]\u001b[32m[I 2022-03-21 22:30:14,931]\u001b[0m Trial 30 finished with value: 0.4614615880429435 and parameters: {'bagging_fraction': 0.8729036157770029, 'bagging_freq': 6}. Best is trial 28 with value: 0.46092677080516403.\u001b[0m\n",
      "bagging, val_score: 0.460855:  40%|####      | 4/10 [00:25<00:37,  6.19s/it]"
     ]
    },
    {
     "name": "stdout",
     "output_type": "stream",
     "text": [
      "Early stopping, best iteration is:\n",
      "[114]\tvalid_0's binary_logloss: 0.450406\tvalid_1's binary_logloss: 0.461462\n",
      "Training until validation scores don't improve for 10 rounds\n",
      "[100]\tvalid_0's binary_logloss: 0.45298\tvalid_1's binary_logloss: 0.462972\n"
     ]
    },
    {
     "name": "stderr",
     "output_type": "stream",
     "text": [
      "bagging, val_score: 0.460855:  50%|#####     | 5/10 [00:31<00:30,  6.05s/it]\u001b[32m[I 2022-03-21 22:30:20,673]\u001b[0m Trial 31 finished with value: 0.46213865050685804 and parameters: {'bagging_fraction': 0.6141074753370626, 'bagging_freq': 3}. Best is trial 28 with value: 0.46092677080516403.\u001b[0m\n",
      "bagging, val_score: 0.460855:  50%|#####     | 5/10 [00:31<00:30,  6.05s/it]"
     ]
    },
    {
     "name": "stdout",
     "output_type": "stream",
     "text": [
      "Early stopping, best iteration is:\n",
      "[142]\tvalid_0's binary_logloss: 0.446417\tvalid_1's binary_logloss: 0.462139\n",
      "Training until validation scores don't improve for 10 rounds\n"
     ]
    },
    {
     "name": "stderr",
     "output_type": "stream",
     "text": [
      "bagging, val_score: 0.460855:  60%|######    | 6/10 [00:36<00:23,  5.76s/it]\u001b[32m[I 2022-03-21 22:30:25,748]\u001b[0m Trial 32 finished with value: 0.46274411076691896 and parameters: {'bagging_fraction': 0.6300432074747234, 'bagging_freq': 1}. Best is trial 28 with value: 0.46092677080516403.\u001b[0m\n",
      "bagging, val_score: 0.460855:  60%|######    | 6/10 [00:36<00:23,  5.76s/it]"
     ]
    },
    {
     "name": "stdout",
     "output_type": "stream",
     "text": [
      "Early stopping, best iteration is:\n",
      "[83]\tvalid_0's binary_logloss: 0.455214\tvalid_1's binary_logloss: 0.462744\n",
      "Training until validation scores don't improve for 10 rounds\n",
      "[100]\tvalid_0's binary_logloss: 0.453159\tvalid_1's binary_logloss: 0.462417\n"
     ]
    },
    {
     "name": "stderr",
     "output_type": "stream",
     "text": [
      "bagging, val_score: 0.460855:  70%|#######   | 7/10 [00:42<00:17,  5.91s/it]\u001b[32m[I 2022-03-21 22:30:32,025]\u001b[0m Trial 33 finished with value: 0.46154474276144114 and parameters: {'bagging_fraction': 0.9243017081586317, 'bagging_freq': 7}. Best is trial 28 with value: 0.46092677080516403.\u001b[0m\n",
      "bagging, val_score: 0.460855:  70%|#######   | 7/10 [00:42<00:17,  5.91s/it]"
     ]
    },
    {
     "name": "stdout",
     "output_type": "stream",
     "text": [
      "Early stopping, best iteration is:\n",
      "[127]\tvalid_0's binary_logloss: 0.448782\tvalid_1's binary_logloss: 0.461545\n",
      "Training until validation scores don't improve for 10 rounds\n",
      "[100]\tvalid_0's binary_logloss: 0.453113\tvalid_1's binary_logloss: 0.46193\n"
     ]
    },
    {
     "name": "stderr",
     "output_type": "stream",
     "text": [
      "bagging, val_score: 0.460855:  80%|########  | 8/10 [00:49<00:12,  6.15s/it]\u001b[32m[I 2022-03-21 22:30:38,724]\u001b[0m Trial 34 finished with value: 0.4613045274724065 and parameters: {'bagging_fraction': 0.9907306163560824, 'bagging_freq': 4}. Best is trial 28 with value: 0.46092677080516403.\u001b[0m\n",
      "bagging, val_score: 0.460855:  80%|########  | 8/10 [00:49<00:12,  6.15s/it]"
     ]
    },
    {
     "name": "stdout",
     "output_type": "stream",
     "text": [
      "Early stopping, best iteration is:\n",
      "[138]\tvalid_0's binary_logloss: 0.4472\tvalid_1's binary_logloss: 0.461305\n",
      "Training until validation scores don't improve for 10 rounds\n",
      "[100]\tvalid_0's binary_logloss: 0.453742\tvalid_1's binary_logloss: 0.463982\n"
     ]
    },
    {
     "name": "stderr",
     "output_type": "stream",
     "text": [
      "bagging, val_score: 0.460855:  90%|######### | 9/10 [00:54<00:05,  5.88s/it]\u001b[32m[I 2022-03-21 22:30:43,962]\u001b[0m Trial 35 finished with value: 0.46317959067872366 and parameters: {'bagging_fraction': 0.4670638587398209, 'bagging_freq': 3}. Best is trial 28 with value: 0.46092677080516403.\u001b[0m\n",
      "bagging, val_score: 0.460855:  90%|######### | 9/10 [00:54<00:05,  5.88s/it]"
     ]
    },
    {
     "name": "stdout",
     "output_type": "stream",
     "text": [
      "Early stopping, best iteration is:\n",
      "[130]\tvalid_0's binary_logloss: 0.448866\tvalid_1's binary_logloss: 0.46318\n",
      "Training until validation scores don't improve for 10 rounds\n"
     ]
    },
    {
     "name": "stderr",
     "output_type": "stream",
     "text": [
      "bagging, val_score: 0.460855: 100%|##########| 10/10 [00:58<00:00,  5.36s/it]\u001b[32m[I 2022-03-21 22:30:48,118]\u001b[0m Trial 36 finished with value: 0.4643549263071908 and parameters: {'bagging_fraction': 0.4799806756553595, 'bagging_freq': 3}. Best is trial 28 with value: 0.46092677080516403.\u001b[0m\n",
      "bagging, val_score: 0.460855: 100%|##########| 10/10 [00:58<00:00,  5.85s/it]\n",
      "feature_fraction_stage2, val_score: 0.460855:   0%|          | 0/3 [00:00<?, ?it/s]"
     ]
    },
    {
     "name": "stdout",
     "output_type": "stream",
     "text": [
      "Early stopping, best iteration is:\n",
      "[69]\tvalid_0's binary_logloss: 0.459086\tvalid_1's binary_logloss: 0.464355\n",
      "Training until validation scores don't improve for 10 rounds\n",
      "[100]\tvalid_0's binary_logloss: 0.453323\tvalid_1's binary_logloss: 0.462395\n"
     ]
    },
    {
     "name": "stderr",
     "output_type": "stream",
     "text": [
      "feature_fraction_stage2, val_score: 0.460805:  33%|###3      | 1/3 [00:07<00:15,  7.60s/it]\u001b[32m[I 2022-03-21 22:30:55,751]\u001b[0m Trial 37 finished with value: 0.4608051561751111 and parameters: {'feature_fraction': 0.9520000000000001}. Best is trial 37 with value: 0.4608051561751111.\u001b[0m\n",
      "feature_fraction_stage2, val_score: 0.460805:  33%|###3      | 1/3 [00:07<00:15,  7.60s/it]"
     ]
    },
    {
     "name": "stdout",
     "output_type": "stream",
     "text": [
      "Early stopping, best iteration is:\n",
      "[178]\tvalid_0's binary_logloss: 0.441722\tvalid_1's binary_logloss: 0.460805\n",
      "Training until validation scores don't improve for 10 rounds\n",
      "[100]\tvalid_0's binary_logloss: 0.453175\tvalid_1's binary_logloss: 0.461748\n"
     ]
    },
    {
     "name": "stderr",
     "output_type": "stream",
     "text": [
      "feature_fraction_stage2, val_score: 0.460488:  67%|######6   | 2/3 [00:14<00:07,  7.47s/it]\u001b[32m[I 2022-03-21 22:31:02,907]\u001b[0m Trial 38 finished with value: 0.46048798100671756 and parameters: {'feature_fraction': 0.9840000000000001}. Best is trial 38 with value: 0.46048798100671756.\u001b[0m\n",
      "feature_fraction_stage2, val_score: 0.460488:  67%|######6   | 2/3 [00:14<00:07,  7.47s/it]"
     ]
    },
    {
     "name": "stdout",
     "output_type": "stream",
     "text": [
      "Early stopping, best iteration is:\n",
      "[178]\tvalid_0's binary_logloss: 0.441518\tvalid_1's binary_logloss: 0.460488\n",
      "Training until validation scores don't improve for 10 rounds\n",
      "[100]\tvalid_0's binary_logloss: 0.453535\tvalid_1's binary_logloss: 0.462232\n"
     ]
    },
    {
     "name": "stderr",
     "output_type": "stream",
     "text": [
      "feature_fraction_stage2, val_score: 0.460488: 100%|##########| 3/3 [00:20<00:00,  6.89s/it]\u001b[32m[I 2022-03-21 22:31:08,440]\u001b[0m Trial 39 finished with value: 0.46187094378485666 and parameters: {'feature_fraction': 0.92}. Best is trial 38 with value: 0.46048798100671756.\u001b[0m\n",
      "feature_fraction_stage2, val_score: 0.460488: 100%|##########| 3/3 [00:20<00:00,  6.77s/it]\n",
      "regularization_factors, val_score: 0.460488:   0%|          | 0/20 [00:00<?, ?it/s]"
     ]
    },
    {
     "name": "stdout",
     "output_type": "stream",
     "text": [
      "Early stopping, best iteration is:\n",
      "[107]\tvalid_0's binary_logloss: 0.452304\tvalid_1's binary_logloss: 0.461871\n",
      "Training until validation scores don't improve for 10 rounds\n",
      "[100]\tvalid_0's binary_logloss: 0.453321\tvalid_1's binary_logloss: 0.461804\n"
     ]
    },
    {
     "name": "stderr",
     "output_type": "stream",
     "text": [
      "regularization_factors, val_score: 0.459987:   5%|5         | 1/20 [00:07<02:26,  7.74s/it]\u001b[32m[I 2022-03-21 22:31:16,196]\u001b[0m Trial 40 finished with value: 0.4599868013338786 and parameters: {'lambda_l1': 0.673370414103064, 'lambda_l2': 1.1370320954673316e-07}. Best is trial 40 with value: 0.4599868013338786.\u001b[0m\n",
      "regularization_factors, val_score: 0.459987:   5%|5         | 1/20 [00:07<02:26,  7.74s/it]"
     ]
    },
    {
     "name": "stdout",
     "output_type": "stream",
     "text": [
      "Early stopping, best iteration is:\n",
      "[183]\tvalid_0's binary_logloss: 0.440934\tvalid_1's binary_logloss: 0.459987\n",
      "Training until validation scores don't improve for 10 rounds\n",
      "[100]\tvalid_0's binary_logloss: 0.453254\tvalid_1's binary_logloss: 0.461675\n"
     ]
    },
    {
     "name": "stderr",
     "output_type": "stream",
     "text": [
      "regularization_factors, val_score: 0.459987:  10%|#         | 2/20 [00:14<02:14,  7.48s/it]\u001b[32m[I 2022-03-21 22:31:23,086]\u001b[0m Trial 41 finished with value: 0.4604775466640942 and parameters: {'lambda_l1': 0.0023664402054952745, 'lambda_l2': 4.0095853150715666e-06}. Best is trial 40 with value: 0.4599868013338786.\u001b[0m\n",
      "regularization_factors, val_score: 0.459987:  10%|#         | 2/20 [00:14<02:14,  7.48s/it]"
     ]
    },
    {
     "name": "stdout",
     "output_type": "stream",
     "text": [
      "Early stopping, best iteration is:\n",
      "[157]\tvalid_0's binary_logloss: 0.444571\tvalid_1's binary_logloss: 0.460478\n",
      "Training until validation scores don't improve for 10 rounds\n",
      "[100]\tvalid_0's binary_logloss: 0.453253\tvalid_1's binary_logloss: 0.461678\n"
     ]
    },
    {
     "name": "stderr",
     "output_type": "stream",
     "text": [
      "regularization_factors, val_score: 0.459978:  15%|#5        | 3/20 [00:22<02:11,  7.73s/it]\u001b[32m[I 2022-03-21 22:31:31,396]\u001b[0m Trial 42 finished with value: 0.4599780713347459 and parameters: {'lambda_l1': 0.004863748900839032, 'lambda_l2': 0.0007789291989911249}. Best is trial 42 with value: 0.4599780713347459.\u001b[0m\n",
      "regularization_factors, val_score: 0.459978:  15%|#5        | 3/20 [00:22<02:11,  7.73s/it]"
     ]
    },
    {
     "name": "stdout",
     "output_type": "stream",
     "text": [
      "Early stopping, best iteration is:\n",
      "[187]\tvalid_0's binary_logloss: 0.440503\tvalid_1's binary_logloss: 0.459978\n",
      "Training until validation scores don't improve for 10 rounds\n",
      "[100]\tvalid_0's binary_logloss: 0.453243\tvalid_1's binary_logloss: 0.461369\n"
     ]
    },
    {
     "name": "stderr",
     "output_type": "stream",
     "text": [
      "regularization_factors, val_score: 0.459978:  20%|##        | 4/20 [00:30<02:01,  7.62s/it]\u001b[32m[I 2022-03-21 22:31:38,768]\u001b[0m Trial 43 finished with value: 0.46032627501650913 and parameters: {'lambda_l1': 5.742230587264367e-05, 'lambda_l2': 0.3811064724712604}. Best is trial 42 with value: 0.4599780713347459.\u001b[0m\n",
      "regularization_factors, val_score: 0.459978:  20%|##        | 4/20 [00:30<02:01,  7.62s/it]"
     ]
    },
    {
     "name": "stdout",
     "output_type": "stream",
     "text": [
      "Early stopping, best iteration is:\n",
      "[163]\tvalid_0's binary_logloss: 0.444084\tvalid_1's binary_logloss: 0.460326\n",
      "Training until validation scores don't improve for 10 rounds\n",
      "[100]\tvalid_0's binary_logloss: 0.453181\tvalid_1's binary_logloss: 0.462008\n"
     ]
    },
    {
     "name": "stderr",
     "output_type": "stream",
     "text": [
      "regularization_factors, val_score: 0.459978:  25%|##5       | 5/20 [00:37<01:52,  7.51s/it]\u001b[32m[I 2022-03-21 22:31:46,026]\u001b[0m Trial 44 finished with value: 0.4612520214448661 and parameters: {'lambda_l1': 0.1386656673192986, 'lambda_l2': 2.0301726022551416e-05}. Best is trial 42 with value: 0.4599780713347459.\u001b[0m\n",
      "regularization_factors, val_score: 0.459978:  25%|##5       | 5/20 [00:37<01:52,  7.51s/it]"
     ]
    },
    {
     "name": "stdout",
     "output_type": "stream",
     "text": [
      "Early stopping, best iteration is:\n",
      "[146]\tvalid_0's binary_logloss: 0.446207\tvalid_1's binary_logloss: 0.461252\n",
      "Training until validation scores don't improve for 10 rounds\n",
      "[100]\tvalid_0's binary_logloss: 0.453175\tvalid_1's binary_logloss: 0.461749\n"
     ]
    },
    {
     "name": "stderr",
     "output_type": "stream",
     "text": [
      "regularization_factors, val_score: 0.459978:  30%|###       | 6/20 [00:45<01:45,  7.56s/it]\u001b[32m[I 2022-03-21 22:31:53,696]\u001b[0m Trial 45 finished with value: 0.46048952659747727 and parameters: {'lambda_l1': 4.967742143196258e-05, 'lambda_l2': 2.491317749935497e-07}. Best is trial 42 with value: 0.4599780713347459.\u001b[0m\n",
      "regularization_factors, val_score: 0.459978:  30%|###       | 6/20 [00:45<01:45,  7.56s/it]"
     ]
    },
    {
     "name": "stdout",
     "output_type": "stream",
     "text": [
      "Early stopping, best iteration is:\n",
      "[178]\tvalid_0's binary_logloss: 0.441518\tvalid_1's binary_logloss: 0.46049\n",
      "Training until validation scores don't improve for 10 rounds\n",
      "[100]\tvalid_0's binary_logloss: 0.453982\tvalid_1's binary_logloss: 0.461425\n"
     ]
    },
    {
     "name": "stderr",
     "output_type": "stream",
     "text": [
      "regularization_factors, val_score: 0.459978:  35%|###5      | 7/20 [00:52<01:36,  7.43s/it]\u001b[32m[I 2022-03-21 22:32:00,826]\u001b[0m Trial 46 finished with value: 0.46106958761909594 and parameters: {'lambda_l1': 0.25643273191545596, 'lambda_l2': 2.4355146472092093}. Best is trial 42 with value: 0.4599780713347459.\u001b[0m\n",
      "regularization_factors, val_score: 0.459978:  35%|###5      | 7/20 [00:52<01:36,  7.43s/it]"
     ]
    },
    {
     "name": "stdout",
     "output_type": "stream",
     "text": [
      "Early stopping, best iteration is:\n",
      "[114]\tvalid_0's binary_logloss: 0.451945\tvalid_1's binary_logloss: 0.46107\n",
      "Training until validation scores don't improve for 10 rounds\n",
      "[100]\tvalid_0's binary_logloss: 0.453374\tvalid_1's binary_logloss: 0.462061\n"
     ]
    },
    {
     "name": "stderr",
     "output_type": "stream",
     "text": [
      "regularization_factors, val_score: 0.459978:  40%|####      | 8/20 [00:58<01:25,  7.16s/it]\u001b[32m[I 2022-03-21 22:32:07,363]\u001b[0m Trial 47 finished with value: 0.4617545762610314 and parameters: {'lambda_l1': 0.1001217928528576, 'lambda_l2': 2.117605247944602e-08}. Best is trial 42 with value: 0.4599780713347459.\u001b[0m\n",
      "regularization_factors, val_score: 0.459978:  40%|####      | 8/20 [00:58<01:25,  7.16s/it]"
     ]
    },
    {
     "name": "stdout",
     "output_type": "stream",
     "text": [
      "Early stopping, best iteration is:\n",
      "[115]\tvalid_0's binary_logloss: 0.450947\tvalid_1's binary_logloss: 0.461755\n",
      "Training until validation scores don't improve for 10 rounds\n",
      "[100]\tvalid_0's binary_logloss: 0.453175\tvalid_1's binary_logloss: 0.461751\n"
     ]
    },
    {
     "name": "stderr",
     "output_type": "stream",
     "text": [
      "regularization_factors, val_score: 0.459978:  45%|####5     | 9/20 [01:07<01:24,  7.70s/it]\u001b[32m[I 2022-03-21 22:32:16,328]\u001b[0m Trial 48 finished with value: 0.46048921534443976 and parameters: {'lambda_l1': 1.4388543370117957e-06, 'lambda_l2': 1.4783973996202653e-05}. Best is trial 42 with value: 0.4599780713347459.\u001b[0m\n",
      "regularization_factors, val_score: 0.459978:  45%|####5     | 9/20 [01:07<01:24,  7.70s/it]"
     ]
    },
    {
     "name": "stdout",
     "output_type": "stream",
     "text": [
      "Early stopping, best iteration is:\n",
      "[178]\tvalid_0's binary_logloss: 0.441518\tvalid_1's binary_logloss: 0.460489\n",
      "Training until validation scores don't improve for 10 rounds\n",
      "[100]\tvalid_0's binary_logloss: 0.453254\tvalid_1's binary_logloss: 0.461678\n"
     ]
    },
    {
     "name": "stderr",
     "output_type": "stream",
     "text": [
      "regularization_factors, val_score: 0.459978:  50%|#####     | 10/20 [01:15<01:17,  7.77s/it]\u001b[32m[I 2022-03-21 22:32:24,249]\u001b[0m Trial 49 finished with value: 0.46047991890433454 and parameters: {'lambda_l1': 0.0014639331870642698, 'lambda_l2': 0.0038634146692918853}. Best is trial 42 with value: 0.4599780713347459.\u001b[0m\n",
      "regularization_factors, val_score: 0.459978:  50%|#####     | 10/20 [01:15<01:17,  7.77s/it]"
     ]
    },
    {
     "name": "stdout",
     "output_type": "stream",
     "text": [
      "Early stopping, best iteration is:\n",
      "[157]\tvalid_0's binary_logloss: 0.444575\tvalid_1's binary_logloss: 0.46048\n",
      "Training until validation scores don't improve for 10 rounds\n",
      "[100]\tvalid_0's binary_logloss: 0.453177\tvalid_1's binary_logloss: 0.461751\n"
     ]
    },
    {
     "name": "stderr",
     "output_type": "stream",
     "text": [
      "regularization_factors, val_score: 0.459978:  55%|#####5    | 11/20 [01:23<01:10,  7.82s/it]\u001b[32m[I 2022-03-21 22:32:32,182]\u001b[0m Trial 50 finished with value: 0.4610101858944805 and parameters: {'lambda_l1': 5.964994795627945e-08, 'lambda_l2': 0.0023768765084308087}. Best is trial 42 with value: 0.4599780713347459.\u001b[0m\n",
      "regularization_factors, val_score: 0.459978:  55%|#####5    | 11/20 [01:23<01:10,  7.82s/it]"
     ]
    },
    {
     "name": "stdout",
     "output_type": "stream",
     "text": [
      "Early stopping, best iteration is:\n",
      "[138]\tvalid_0's binary_logloss: 0.447183\tvalid_1's binary_logloss: 0.46101\n",
      "Training until validation scores don't improve for 10 rounds\n",
      "[100]\tvalid_0's binary_logloss: 0.455124\tvalid_1's binary_logloss: 0.461373\n",
      "[200]\tvalid_0's binary_logloss: 0.443785\tvalid_1's binary_logloss: 0.459305\n"
     ]
    },
    {
     "name": "stderr",
     "output_type": "stream",
     "text": [
      "regularization_factors, val_score: 0.458442:  60%|######    | 12/20 [01:35<01:11,  8.96s/it]\u001b[32m[I 2022-03-21 22:32:43,816]\u001b[0m Trial 51 finished with value: 0.45844234710704135 and parameters: {'lambda_l1': 8.767623686340933, 'lambda_l2': 0.00047800275786932393}. Best is trial 51 with value: 0.45844234710704135.\u001b[0m\n",
      "regularization_factors, val_score: 0.458442:  60%|######    | 12/20 [01:35<01:11,  8.96s/it]"
     ]
    },
    {
     "name": "stdout",
     "output_type": "stream",
     "text": [
      "Early stopping, best iteration is:\n",
      "[256]\tvalid_0's binary_logloss: 0.438202\tvalid_1's binary_logloss: 0.458442\n",
      "Training until validation scores don't improve for 10 rounds\n",
      "[100]\tvalid_0's binary_logloss: 0.454901\tvalid_1's binary_logloss: 0.461437\n"
     ]
    },
    {
     "name": "stderr",
     "output_type": "stream",
     "text": [
      "regularization_factors, val_score: 0.458442:  65%|######5   | 13/20 [01:45<01:05,  9.40s/it]\u001b[32m[I 2022-03-21 22:32:54,239]\u001b[0m Trial 52 finished with value: 0.45945868730586353 and parameters: {'lambda_l1': 7.264269609719954, 'lambda_l2': 0.018005798566244444}. Best is trial 51 with value: 0.45844234710704135.\u001b[0m\n",
      "regularization_factors, val_score: 0.458442:  65%|######5   | 13/20 [01:45<01:05,  9.40s/it]"
     ]
    },
    {
     "name": "stdout",
     "output_type": "stream",
     "text": [
      "[200]\tvalid_0's binary_logloss: 0.443319\tvalid_1's binary_logloss: 0.459513\n",
      "Early stopping, best iteration is:\n",
      "[190]\tvalid_0's binary_logloss: 0.444389\tvalid_1's binary_logloss: 0.459459\n",
      "Training until validation scores don't improve for 10 rounds\n",
      "[100]\tvalid_0's binary_logloss: 0.454336\tvalid_1's binary_logloss: 0.461563\n",
      "[200]\tvalid_0's binary_logloss: 0.441952\tvalid_1's binary_logloss: 0.459452\n"
     ]
    },
    {
     "name": "stderr",
     "output_type": "stream",
     "text": [
      "regularization_factors, val_score: 0.458442:  70%|#######   | 14/20 [01:57<00:59,  9.95s/it]\u001b[32m[I 2022-03-21 22:33:05,486]\u001b[0m Trial 53 finished with value: 0.4592953256525098 and parameters: {'lambda_l1': 5.0647355656234705, 'lambda_l2': 0.05324820497596174}. Best is trial 51 with value: 0.45844234710704135.\u001b[0m\n",
      "regularization_factors, val_score: 0.458442:  70%|#######   | 14/20 [01:57<00:59,  9.95s/it]"
     ]
    },
    {
     "name": "stdout",
     "output_type": "stream",
     "text": [
      "Early stopping, best iteration is:\n",
      "[203]\tvalid_0's binary_logloss: 0.441593\tvalid_1's binary_logloss: 0.459295\n",
      "Training until validation scores don't improve for 10 rounds\n",
      "[100]\tvalid_0's binary_logloss: 0.45523\tvalid_1's binary_logloss: 0.462007\n",
      "[200]\tvalid_0's binary_logloss: 0.443699\tvalid_1's binary_logloss: 0.459138\n"
     ]
    },
    {
     "name": "stderr",
     "output_type": "stream",
     "text": [
      "regularization_factors, val_score: 0.458442:  75%|#######5  | 15/20 [02:09<00:53, 10.71s/it]\u001b[32m[I 2022-03-21 22:33:17,957]\u001b[0m Trial 54 finished with value: 0.45878213916681976 and parameters: {'lambda_l1': 8.925732131019124, 'lambda_l2': 0.07967961808640045}. Best is trial 51 with value: 0.45844234710704135.\u001b[0m\n",
      "regularization_factors, val_score: 0.458442:  75%|#######5  | 15/20 [02:09<00:53, 10.71s/it]"
     ]
    },
    {
     "name": "stdout",
     "output_type": "stream",
     "text": [
      "Early stopping, best iteration is:\n",
      "[230]\tvalid_0's binary_logloss: 0.440558\tvalid_1's binary_logloss: 0.458782\n",
      "Training until validation scores don't improve for 10 rounds\n",
      "[100]\tvalid_0's binary_logloss: 0.454403\tvalid_1's binary_logloss: 0.461911\n"
     ]
    },
    {
     "name": "stderr",
     "output_type": "stream",
     "text": [
      "regularization_factors, val_score: 0.458442:  80%|########  | 16/20 [02:18<00:40, 10.08s/it]\u001b[32m[I 2022-03-21 22:33:26,572]\u001b[0m Trial 55 finished with value: 0.46126044405971217 and parameters: {'lambda_l1': 0.01190355231426643, 'lambda_l2': 7.681871766833952}. Best is trial 51 with value: 0.45844234710704135.\u001b[0m\n",
      "regularization_factors, val_score: 0.458442:  80%|########  | 16/20 [02:18<00:40, 10.08s/it]"
     ]
    },
    {
     "name": "stdout",
     "output_type": "stream",
     "text": [
      "Early stopping, best iteration is:\n",
      "[124]\tvalid_0's binary_logloss: 0.451096\tvalid_1's binary_logloss: 0.46126\n",
      "Training until validation scores don't improve for 10 rounds\n",
      "[100]\tvalid_0's binary_logloss: 0.454752\tvalid_1's binary_logloss: 0.461055\n",
      "[200]\tvalid_0's binary_logloss: 0.442898\tvalid_1's binary_logloss: 0.458997\n"
     ]
    },
    {
     "name": "stderr",
     "output_type": "stream",
     "text": [
      "regularization_factors, val_score: 0.458442:  85%|########5 | 17/20 [02:30<00:32, 10.68s/it]\u001b[32m[I 2022-03-21 22:33:38,638]\u001b[0m Trial 56 finished with value: 0.45885820683129974 and parameters: {'lambda_l1': 6.864801649064419, 'lambda_l2': 0.00014017348255270426}. Best is trial 51 with value: 0.45844234710704135.\u001b[0m\n",
      "regularization_factors, val_score: 0.458442:  85%|########5 | 17/20 [02:30<00:32, 10.68s/it]"
     ]
    },
    {
     "name": "stdout",
     "output_type": "stream",
     "text": [
      "Early stopping, best iteration is:\n",
      "[207]\tvalid_0's binary_logloss: 0.442122\tvalid_1's binary_logloss: 0.458858\n",
      "Training until validation scores don't improve for 10 rounds\n",
      "[100]\tvalid_0's binary_logloss: 0.453342\tvalid_1's binary_logloss: 0.461504\n"
     ]
    },
    {
     "name": "stderr",
     "output_type": "stream",
     "text": [
      "regularization_factors, val_score: 0.458442:  90%|######### | 18/20 [02:38<00:20, 10.00s/it]\u001b[32m[I 2022-03-21 22:33:47,061]\u001b[0m Trial 57 finished with value: 0.4605473603223667 and parameters: {'lambda_l1': 0.6856448969740802, 'lambda_l2': 0.058100644712383596}. Best is trial 51 with value: 0.45844234710704135.\u001b[0m\n",
      "regularization_factors, val_score: 0.458442:  90%|######### | 18/20 [02:38<00:20, 10.00s/it]"
     ]
    },
    {
     "name": "stdout",
     "output_type": "stream",
     "text": [
      "Early stopping, best iteration is:\n",
      "[143]\tvalid_0's binary_logloss: 0.446883\tvalid_1's binary_logloss: 0.460547\n",
      "Training until validation scores don't improve for 10 rounds\n",
      "[100]\tvalid_0's binary_logloss: 0.452949\tvalid_1's binary_logloss: 0.461863\n"
     ]
    },
    {
     "name": "stderr",
     "output_type": "stream",
     "text": [
      "regularization_factors, val_score: 0.458442:  95%|#########5| 19/20 [02:46<00:09,  9.32s/it]\u001b[32m[I 2022-03-21 22:33:54,803]\u001b[0m Trial 58 finished with value: 0.46180499330215674 and parameters: {'lambda_l1': 0.03927537180055245, 'lambda_l2': 0.00021618029971203515}. Best is trial 51 with value: 0.45844234710704135.\u001b[0m\n",
      "regularization_factors, val_score: 0.458442:  95%|#########5| 19/20 [02:46<00:09,  9.32s/it]"
     ]
    },
    {
     "name": "stdout",
     "output_type": "stream",
     "text": [
      "Early stopping, best iteration is:\n",
      "[99]\tvalid_0's binary_logloss: 0.45311\tvalid_1's binary_logloss: 0.461805\n",
      "Training until validation scores don't improve for 10 rounds\n",
      "[100]\tvalid_0's binary_logloss: 0.453487\tvalid_1's binary_logloss: 0.46156\n"
     ]
    },
    {
     "name": "stderr",
     "output_type": "stream",
     "text": [
      "regularization_factors, val_score: 0.458442: 100%|##########| 20/20 [02:54<00:00,  9.09s/it]\u001b[32m[I 2022-03-21 22:34:03,335]\u001b[0m Trial 59 finished with value: 0.4603373013147442 and parameters: {'lambda_l1': 0.00019724425240129722, 'lambda_l2': 0.5070727001703805}. Best is trial 51 with value: 0.45844234710704135.\u001b[0m\n",
      "regularization_factors, val_score: 0.458442: 100%|##########| 20/20 [02:54<00:00,  8.74s/it]\n",
      "min_data_in_leaf, val_score: 0.458442:   0%|          | 0/5 [00:00<?, ?it/s]"
     ]
    },
    {
     "name": "stdout",
     "output_type": "stream",
     "text": [
      "Early stopping, best iteration is:\n",
      "[143]\tvalid_0's binary_logloss: 0.446893\tvalid_1's binary_logloss: 0.460337\n",
      "Training until validation scores don't improve for 10 rounds\n",
      "[100]\tvalid_0's binary_logloss: 0.455124\tvalid_1's binary_logloss: 0.461373\n",
      "[200]\tvalid_0's binary_logloss: 0.443653\tvalid_1's binary_logloss: 0.459182\n"
     ]
    },
    {
     "name": "stderr",
     "output_type": "stream",
     "text": [
      "min_data_in_leaf, val_score: 0.458442:  20%|##        | 1/5 [00:11<00:47, 11.96s/it]\u001b[32m[I 2022-03-21 22:34:15,320]\u001b[0m Trial 60 finished with value: 0.4590432839581284 and parameters: {'min_child_samples': 100}. Best is trial 60 with value: 0.4590432839581284.\u001b[0m\n",
      "min_data_in_leaf, val_score: 0.458442:  20%|##        | 1/5 [00:11<00:47, 11.96s/it]"
     ]
    },
    {
     "name": "stdout",
     "output_type": "stream",
     "text": [
      "Early stopping, best iteration is:\n",
      "[216]\tvalid_0's binary_logloss: 0.44204\tvalid_1's binary_logloss: 0.459043\n",
      "Training until validation scores don't improve for 10 rounds\n",
      "[100]\tvalid_0's binary_logloss: 0.455124\tvalid_1's binary_logloss: 0.461373\n"
     ]
    },
    {
     "name": "stderr",
     "output_type": "stream",
     "text": [
      "min_data_in_leaf, val_score: 0.458442:  40%|####      | 2/5 [00:23<00:35, 11.72s/it]\u001b[32m[I 2022-03-21 22:34:26,473]\u001b[0m Trial 61 finished with value: 0.4591580683735148 and parameters: {'min_child_samples': 50}. Best is trial 60 with value: 0.4590432839581284.\u001b[0m\n",
      "min_data_in_leaf, val_score: 0.458442:  40%|####      | 2/5 [00:23<00:35, 11.72s/it]"
     ]
    },
    {
     "name": "stdout",
     "output_type": "stream",
     "text": [
      "Early stopping, best iteration is:\n",
      "[185]\tvalid_0's binary_logloss: 0.445101\tvalid_1's binary_logloss: 0.459158\n",
      "Training until validation scores don't improve for 10 rounds\n",
      "[100]\tvalid_0's binary_logloss: 0.45505\tvalid_1's binary_logloss: 0.461401\n",
      "[200]\tvalid_0's binary_logloss: 0.443537\tvalid_1's binary_logloss: 0.459073\n"
     ]
    },
    {
     "name": "stderr",
     "output_type": "stream",
     "text": [
      "min_data_in_leaf, val_score: 0.458442:  60%|######    | 3/5 [00:36<00:24, 12.20s/it]\u001b[32m[I 2022-03-21 22:34:39,777]\u001b[0m Trial 62 finished with value: 0.45865944508619927 and parameters: {'min_child_samples': 5}. Best is trial 62 with value: 0.45865944508619927.\u001b[0m\n",
      "min_data_in_leaf, val_score: 0.458442:  60%|######    | 3/5 [00:36<00:24, 12.20s/it]"
     ]
    },
    {
     "name": "stdout",
     "output_type": "stream",
     "text": [
      "Early stopping, best iteration is:\n",
      "[241]\tvalid_0's binary_logloss: 0.43957\tvalid_1's binary_logloss: 0.458659\n",
      "Training until validation scores don't improve for 10 rounds\n",
      "[100]\tvalid_0's binary_logloss: 0.455124\tvalid_1's binary_logloss: 0.461373\n",
      "[200]\tvalid_0's binary_logloss: 0.443786\tvalid_1's binary_logloss: 0.459315\n"
     ]
    },
    {
     "name": "stderr",
     "output_type": "stream",
     "text": [
      "min_data_in_leaf, val_score: 0.458442:  80%|########  | 4/5 [00:48<00:12, 12.23s/it]\u001b[32m[I 2022-03-21 22:34:52,090]\u001b[0m Trial 63 finished with value: 0.45852441621546886 and parameters: {'min_child_samples': 25}. Best is trial 63 with value: 0.45852441621546886.\u001b[0m\n",
      "min_data_in_leaf, val_score: 0.458442:  80%|########  | 4/5 [00:48<00:12, 12.23s/it]"
     ]
    },
    {
     "name": "stdout",
     "output_type": "stream",
     "text": [
      "Early stopping, best iteration is:\n",
      "[245]\tvalid_0's binary_logloss: 0.439139\tvalid_1's binary_logloss: 0.458524\n",
      "Training until validation scores don't improve for 10 rounds\n",
      "[100]\tvalid_0's binary_logloss: 0.455207\tvalid_1's binary_logloss: 0.461869\n",
      "[200]\tvalid_0's binary_logloss: 0.443826\tvalid_1's binary_logloss: 0.459373\n"
     ]
    },
    {
     "name": "stderr",
     "output_type": "stream",
     "text": [
      "min_data_in_leaf, val_score: 0.458442: 100%|##########| 5/5 [01:00<00:00, 11.98s/it]\u001b[32m[I 2022-03-21 22:35:03,477]\u001b[0m Trial 64 finished with value: 0.4592986801582055 and parameters: {'min_child_samples': 10}. Best is trial 63 with value: 0.45852441621546886.\u001b[0m\n",
      "min_data_in_leaf, val_score: 0.458442: 100%|##########| 5/5 [01:00<00:00, 12.03s/it]"
     ]
    },
    {
     "name": "stdout",
     "output_type": "stream",
     "text": [
      "Early stopping, best iteration is:\n",
      "[208]\tvalid_0's binary_logloss: 0.44297\tvalid_1's binary_logloss: 0.459299\n"
     ]
    },
    {
     "name": "stderr",
     "output_type": "stream",
     "text": [
      "\n"
     ]
    }
   ],
   "source": [
    "# データセットの作成\n",
    "lgb_train = lgb_o.Dataset(X_train.values, y_train.values)\n",
    "lgb_valid = lgb_o.Dataset(X_valid.values, y_valid.values)\n",
    "\n",
    "# チューニング実行\n",
    "params = {\n",
    "    'objective': 'binary',\n",
    "    'random_state': 100\n",
    "}\n",
    "\n",
    "lgb_clf_o = lgb_o.train(params, lgb_train, valid_sets=(lgb_train, lgb_valid), verbose_eval=100, early_stopping_rounds=10)"
   ]
  },
  {
   "cell_type": "markdown",
   "metadata": {},
   "source": [
    "1．あるハイパーパラメータを使って、lgb_trainで学習<br>\n",
    "2．そのモデルを使ってlgb_validで検証<br>\n",
    "3．検証結果を利用して、ハイパーパラメータを変えてlgb_trainで再学習<br>\n",
    "4．2～3を繰り返す"
   ]
  },
  {
   "cell_type": "code",
   "execution_count": 17,
   "metadata": {},
   "outputs": [
    {
     "data": {
      "text/plain": [
       "{'objective': 'binary',\n",
       " 'random_state': 100,\n",
       " 'feature_pre_filter': False,\n",
       " 'lambda_l1': 8.767623686340933,\n",
       " 'lambda_l2': 0.00047800275786932393,\n",
       " 'num_leaves': 7,\n",
       " 'feature_fraction': 0.9840000000000001,\n",
       " 'bagging_fraction': 1.0,\n",
       " 'bagging_freq': 0,\n",
       " 'min_child_samples': 20}"
      ]
     },
     "execution_count": 17,
     "metadata": {},
     "output_type": "execute_result"
    }
   ],
   "source": [
    "lgb_clf_o.params"
   ]
  },
  {
   "cell_type": "code",
   "execution_count": 18,
   "metadata": {},
   "outputs": [],
   "source": [
    "# 時系列に沿って訓練データとテストデータに分ける\n",
    "train, test = split_data(r.data_c)\n",
    "X_train = train.drop(['rank', 'date'], axis=1)\n",
    "y_train = train['rank']\n",
    "X_test = test.drop(['rank', 'date'], axis=1)\n",
    "y_test = test['rank']"
   ]
  },
  {
   "cell_type": "code",
   "execution_count": 19,
   "metadata": {},
   "outputs": [
    {
     "data": {
      "text/plain": [
       "LGBMClassifier(bagging_fraction=1.0, bagging_freq=0,\n",
       "               feature_fraction=0.9840000000000001, feature_pre_filter=False,\n",
       "               lambda_l1=8.767623686340933, lambda_l2=0.00047800275786932393,\n",
       "               num_leaves=7, objective='binary', random_state=100)"
      ]
     },
     "execution_count": 19,
     "metadata": {},
     "output_type": "execute_result"
    }
   ],
   "source": [
    "lgb_clf = lgb.LGBMClassifier(**lgb_clf_o.params)\n",
    "lgb_clf.fit(X_train.values, y_train.values)"
   ]
  },
  {
   "cell_type": "code",
   "execution_count": 20,
   "metadata": {},
   "outputs": [],
   "source": [
    "me = ModelEvaluator(lgb_clf, 'return_tables.pickle')"
   ]
  },
  {
   "cell_type": "code",
   "execution_count": 21,
   "metadata": {},
   "outputs": [
    {
     "data": {
      "text/html": [
       "<div>\n",
       "<style scoped>\n",
       "    .dataframe tbody tr th:only-of-type {\n",
       "        vertical-align: middle;\n",
       "    }\n",
       "\n",
       "    .dataframe tbody tr th {\n",
       "        vertical-align: top;\n",
       "    }\n",
       "\n",
       "    .dataframe thead th {\n",
       "        text-align: right;\n",
       "    }\n",
       "</style>\n",
       "<table border=\"1\" class=\"dataframe\">\n",
       "  <thead>\n",
       "    <tr style=\"text-align: right;\">\n",
       "      <th></th>\n",
       "      <th>features</th>\n",
       "      <th>importance</th>\n",
       "    </tr>\n",
       "  </thead>\n",
       "  <tbody>\n",
       "    <tr>\n",
       "      <th>4</th>\n",
       "      <td>jockey_id</td>\n",
       "      <td>55</td>\n",
       "    </tr>\n",
       "    <tr>\n",
       "      <th>3</th>\n",
       "      <td>horse_id</td>\n",
       "      <td>40</td>\n",
       "    </tr>\n",
       "    <tr>\n",
       "      <th>7</th>\n",
       "      <td>体重</td>\n",
       "      <td>33</td>\n",
       "    </tr>\n",
       "    <tr>\n",
       "      <th>10</th>\n",
       "      <td>賞金_5R</td>\n",
       "      <td>30</td>\n",
       "    </tr>\n",
       "    <tr>\n",
       "      <th>26</th>\n",
       "      <td>賞金_race_type_5R</td>\n",
       "      <td>29</td>\n",
       "    </tr>\n",
       "    <tr>\n",
       "      <th>1</th>\n",
       "      <td>馬番</td>\n",
       "      <td>21</td>\n",
       "    </tr>\n",
       "    <tr>\n",
       "      <th>5</th>\n",
       "      <td>course_len</td>\n",
       "      <td>20</td>\n",
       "    </tr>\n",
       "    <tr>\n",
       "      <th>25</th>\n",
       "      <td>着順_race_type_5R</td>\n",
       "      <td>16</td>\n",
       "    </tr>\n",
       "    <tr>\n",
       "      <th>2</th>\n",
       "      <td>斤量</td>\n",
       "      <td>15</td>\n",
       "    </tr>\n",
       "    <tr>\n",
       "      <th>75</th>\n",
       "      <td>着差_allR</td>\n",
       "      <td>15</td>\n",
       "    </tr>\n",
       "    <tr>\n",
       "      <th>0</th>\n",
       "      <td>枠番</td>\n",
       "      <td>13</td>\n",
       "    </tr>\n",
       "    <tr>\n",
       "      <th>9</th>\n",
       "      <td>着順_5R</td>\n",
       "      <td>12</td>\n",
       "    </tr>\n",
       "    <tr>\n",
       "      <th>8</th>\n",
       "      <td>体重変化</td>\n",
       "      <td>10</td>\n",
       "    </tr>\n",
       "    <tr>\n",
       "      <th>89</th>\n",
       "      <td>着順_race_type_allR</td>\n",
       "      <td>10</td>\n",
       "    </tr>\n",
       "    <tr>\n",
       "      <th>17</th>\n",
       "      <td>着順_course_len_5R</td>\n",
       "      <td>10</td>\n",
       "    </tr>\n",
       "    <tr>\n",
       "      <th>57</th>\n",
       "      <td>着順_race_type_9R</td>\n",
       "      <td>9</td>\n",
       "    </tr>\n",
       "    <tr>\n",
       "      <th>49</th>\n",
       "      <td>着順_course_len_9R</td>\n",
       "      <td>9</td>\n",
       "    </tr>\n",
       "    <tr>\n",
       "      <th>18</th>\n",
       "      <td>賞金_course_len_5R</td>\n",
       "      <td>9</td>\n",
       "    </tr>\n",
       "    <tr>\n",
       "      <th>81</th>\n",
       "      <td>着順_course_len_allR</td>\n",
       "      <td>8</td>\n",
       "    </tr>\n",
       "    <tr>\n",
       "      <th>33</th>\n",
       "      <td>着順_開催_5R</td>\n",
       "      <td>8</td>\n",
       "    </tr>\n",
       "  </tbody>\n",
       "</table>\n",
       "</div>"
      ],
      "text/plain": [
       "              features  importance\n",
       "4            jockey_id          55\n",
       "3             horse_id          40\n",
       "7                   体重          33\n",
       "10               賞金_5R          30\n",
       "26     賞金_race_type_5R          29\n",
       "1                   馬番          21\n",
       "5           course_len          20\n",
       "25     着順_race_type_5R          16\n",
       "2                   斤量          15\n",
       "75             着差_allR          15\n",
       "0                   枠番          13\n",
       "9                着順_5R          12\n",
       "8                 体重変化          10\n",
       "89   着順_race_type_allR          10\n",
       "17    着順_course_len_5R          10\n",
       "57     着順_race_type_9R           9\n",
       "49    着順_course_len_9R           9\n",
       "18    賞金_course_len_5R           9\n",
       "81  着順_course_len_allR           8\n",
       "33            着順_開催_5R           8"
      ]
     },
     "execution_count": 21,
     "metadata": {},
     "output_type": "execute_result"
    }
   ],
   "source": [
    "me.feature_importance(X_test)"
   ]
  },
  {
   "cell_type": "code",
   "execution_count": 22,
   "metadata": {},
   "outputs": [
    {
     "name": "stderr",
     "output_type": "stream",
     "text": [
      "100%|██████████| 100/100 [03:23<00:00,  2.03s/it]\n"
     ]
    }
   ],
   "source": [
    "gain_optuna = gain(me.tansho_return_proper, X_test)\n",
    "gain_optuna.to_pickle('gain_optuna.pickle')"
   ]
  },
  {
   "cell_type": "code",
   "execution_count": 23,
   "metadata": {},
   "outputs": [],
   "source": [
    "gain_optuna = pd.read_pickle('gain_optuna.pickle')"
   ]
  },
  {
   "cell_type": "code",
   "execution_count": 24,
   "metadata": {},
   "outputs": [
    {
     "data": {
      "image/png": "[encoded data removed]",
      "text/plain": [
       "<Figure size 720x576 with 1 Axes>"
      ]
     },
     "metadata": {
      "needs_background": "light"
     },
     "output_type": "display_data"
    }
   ],
   "source": [
    "plt.figure(figsize=(10, 8))\n",
    "gain_optuna.rename('optuna').plot(legend=True)\n",
    "plt.grid()"
   ]
  },
  {
   "cell_type": "code",
   "execution_count": 25,
   "metadata": {},
   "outputs": [
    {
     "data": {
      "text/plain": [
       "1.1195571351571942"
      ]
     },
     "execution_count": 25,
     "metadata": {},
     "output_type": "execute_result"
    }
   ],
   "source": [
    "gain_optuna.max()"
   ]
  },
  {
   "cell_type": "markdown",
   "metadata": {},
   "source": [
    "### 6．単勝以外の馬券"
   ]
  },
  {
   "cell_type": "code",
   "execution_count": 26,
   "metadata": {},
   "outputs": [
    {
     "data": {
      "text/plain": [
       "(14250.0, 0.6111578947368421)"
      ]
     },
     "execution_count": 26,
     "metadata": {},
     "output_type": "execute_result"
    }
   ],
   "source": [
    "me = ModelEvaluator(lgb_clf, 'return_tables.pickle')\n",
    "me.umaren_return(X_test)"
   ]
  },
  {
   "cell_type": "code",
   "execution_count": 27,
   "metadata": {},
   "outputs": [],
   "source": [
    "# gain_umaren = gain(me.umaren_return, X_test)\n",
    "# gain_umaren.to_pickle('gain_umaren.pickle')"
   ]
  },
  {
   "cell_type": "code",
   "execution_count": 28,
   "metadata": {},
   "outputs": [],
   "source": [
    "gain_umaren= pd.read_pickle('gain_umaren.pickle')"
   ]
  },
  {
   "cell_type": "code",
   "execution_count": 29,
   "metadata": {},
   "outputs": [
    {
     "data": {
      "image/png": "[encoded data removed]",
      "text/plain": [
       "<Figure size 720x576 with 1 Axes>"
      ]
     },
     "metadata": {
      "needs_background": "light"
     },
     "output_type": "display_data"
    }
   ],
   "source": [
    "plt.figure(figsize=(10, 8))\n",
    "gain_optuna.rename('tansho').plot(legend=True)\n",
    "gain_umaren.rename('umaren').plot(legend=True)\n",
    "plt.grid()"
   ]
  },
  {
   "cell_type": "code",
   "execution_count": null,
   "metadata": {},
   "outputs": [],
   "source": []
  }
 ],
 "metadata": {
  "kernelspec": {
   "display_name": "Python 3",
   "language": "python",
   "name": "python3"
  },
  "language_info": {
   "codemirror_mode": {
    "name": "ipython",
    "version": 3
   },
   "file_extension": ".py",
   "mimetype": "text/x-python",
   "name": "python",
   "nbconvert_exporter": "python",
   "pygments_lexer": "ipython3",
   "version": "3.7.6"
  }
 },
 "nbformat": 4,
 "nbformat_minor": 4
}
