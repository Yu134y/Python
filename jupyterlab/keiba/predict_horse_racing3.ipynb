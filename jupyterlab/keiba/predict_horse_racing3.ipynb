{
 "cells": [
  {
   "cell_type": "markdown",
   "metadata": {},
   "source": [
    "### 1．インポート"
   ]
  },
  {
   "cell_type": "code",
   "execution_count": 1,
   "metadata": {},
   "outputs": [],
   "source": [
    "import pandas as pd\n",
    "import numpy as np\n",
    "import matplotlib.pyplot as plt\n",
    "import re\n",
    "import time\n",
    "import datetime\n",
    "import requests\n",
    "from tqdm import tqdm\n",
    "from bs4 import BeautifulSoup\n",
    "from sklearn.metrics import roc_auc_score\n",
    "from sklearn.preprocessing import LabelEncoder\n",
    "import lightgbm as lgb\n",
    "from urllib.request import urlopen"
   ]
  },
  {
   "cell_type": "markdown",
   "metadata": {},
   "source": [
    "### 1.1　クラス"
   ]
  },
  {
   "cell_type": "code",
   "execution_count": 2,
   "metadata": {},
   "outputs": [],
   "source": [
    "# 訓練データと出馬表データを加工する抽象クラス\n",
    "class DataProcessor:\n",
    "    def __init__(self):\n",
    "        self.data = pd.DataFrame()\n",
    "        # preprocessing後の変数\n",
    "        self.data_p = pd.DataFrame()\n",
    "        # horse_resultsをmergeした後の変数\n",
    "        self.data_h = pd.DataFrame()\n",
    "        # pedsをmergeした後の変数\n",
    "        self.data_pe = pd.DataFrame()\n",
    "        # カテゴリ変数化した後の変数\n",
    "        self.data_c = pd.DataFrame()\n",
    "        \n",
    "    # 馬の過去成績データの追加\n",
    "    def merge_horse_results(self, hr, n_samples_list=[5, 9, 'all']):\n",
    "        self.data_h = self.data_p.copy()\n",
    "        for n_samples in n_samples_list:\n",
    "            self.data_h = hr.merge_all(self.data_h, n_samples=n_samples)\n",
    "            \n",
    "    # 血統データ追加\n",
    "    def merge_peds(self, peds):\n",
    "        self.data_pe = self.data_h.merge(peds, left_on='horse_id', right_index=True, how='left')\n",
    "        self.no_peds = self.data_pe[self.data_pe['peds_0'].isnull()]['horse_id'].unique()\n",
    "        if len(self.no_peds):\n",
    "            print('scrape peds at horse_id_list \"no_peds\"')\n",
    "    \n",
    "    # カテゴリ変数の処理\n",
    "    def process_categorical(self, le_horse, le_jockey, results_m):\n",
    "        df = self.data_pe.copy()\n",
    "        \n",
    "        # ラベルエンコーディング(horse_id, jockey_idを0始まりの整数に変換)\n",
    "        # horse_id\n",
    "        mask_horse = df['horse_id'].isin(le_horse.classes_)\n",
    "        new_horse_id = df['horse_id'].mask(mask_horse).dropna().unique()\n",
    "        le_horse.classes_ = np.concatenate([le_horse.classes_, new_horse_id])\n",
    "        df['horse_id'] = le_horse.transform(df['horse_id'])\n",
    "        \n",
    "        # jockey_id\n",
    "        mask_jockey = df['jockey_id'].isin(le_jockey.classes_)\n",
    "        new_jockey_id = df['jockey_id'].mask(mask_jockey).dropna().unique()\n",
    "        le_jockey.classes_ = np.concatenate([le_jockey.classes_, new_jockey_id])\n",
    "        df['jockey_id'] = le_jockey.transform(df['jockey_id'])\n",
    "        \n",
    "        # horse_id, jockey_idをcategory型に変換\n",
    "        df['horse_id'] = df['horse_id'].astype('category')\n",
    "        df['jockey_id'] = df['jockey_id'].astype('category')\n",
    "        \n",
    "        # そのほかのカテゴリ変数をcategory型に変換してからダミー変数化\n",
    "        weathers = results_m['weather'].unique()\n",
    "        race_types = results_m['race_type'].unique()\n",
    "        ground_states = results_m['ground_state'].unique()\n",
    "        sexes = results_m['性'].unique()\n",
    "        df['weather'] = pd.Categorical(df['weather'], weathers)\n",
    "        df['race_type'] = pd.Categorical(df['race_type'], race_types)\n",
    "        df['ground_state'] = pd.Categorical(df['ground_state'], ground_states)\n",
    "        df['性'] = pd.Categorical(df['性'], sexes)\n",
    "        \n",
    "        df = pd.get_dummies(df, columns=['weather', 'race_type', 'ground_state', '性'])  \n",
    "        self.data_c = df\n",
    "\n",
    "# 予測に使う出馬表データを加工するクラス\n",
    "class ShutubaTable(DataProcessor):\n",
    "    def __init__(self, shutuba_tables):\n",
    "        super(ShutubaTable, self).__init__()\n",
    "        self.data = shutuba_tables\n",
    "    \n",
    "    @classmethod\n",
    "    def scrape(cls, race_id_list, date):\n",
    "        data = pd.DataFrame()\n",
    "        for race_id in tqdm(race_id_list):\n",
    "            url = f'https://race.netkeiba.com/race/shutuba.html?race_id={race_id}'\n",
    "            df = pd.read_html(url)[0]\n",
    "            df = df.T.reset_index(level=0, drop=True).T\n",
    "\n",
    "            html = requests.get(url)\n",
    "            html.encoding = 'EUC-JP'\n",
    "            soup = BeautifulSoup(html.text, 'html.parser')\n",
    "\n",
    "            # race_data\n",
    "            texts = soup.find('div', attrs={'class': 'RaceData01'}).text\n",
    "            texts = re.findall(r'\\w+', texts)\n",
    "            for text in texts:\n",
    "                if 'm' in text:\n",
    "                    df['course_len'] = [int(re.findall(r'\\d+', text)[0])] * len(df)\n",
    "                if text in ['曇', '晴', '雨', '小雨', '小雪', '雪']:\n",
    "                    df['weather'] = [text] * len(df)\n",
    "                if text in ['良', '稍重', '重']:\n",
    "                    df['ground_state'] = [text] * len(df)\n",
    "                if '不' in text:\n",
    "                    df['ground_state'] = ['不良'] * len(df)\n",
    "                if '芝' in text:\n",
    "                    df['race_type'] = ['芝'] * len(df)\n",
    "                if '障' in text:\n",
    "                    df['race_type'] = ['障害'] * len(df)\n",
    "                if 'ダ' in text:\n",
    "                    df['race_type'] = ['ダート'] * len(df)\n",
    "            df['date'] = [date] * len(df)\n",
    "\n",
    "            # horse_id\n",
    "            horse_id_list = []\n",
    "            horse_td_list = soup.find_all('td', attrs={'class': 'HorseInfo'})\n",
    "            for td in horse_td_list:\n",
    "                horse_id = re.findall(r'\\d+', td.find('a')['href'])[0]\n",
    "                horse_id_list.append(horse_id)\n",
    "            df['horse_id'] = horse_id_list\n",
    "\n",
    "            # jockey_id\n",
    "            jockey_id_list = []\n",
    "            jockey_td_list = soup.find_all('td', attrs={'class': 'Jockey'})\n",
    "            for td in jockey_td_list:\n",
    "                jockey_id = re.findall(r'\\d+', td.find('a')['href'])[0]\n",
    "                jockey_id_list.append(jockey_id)\n",
    "            df['jockey_id'] = jockey_id_list\n",
    "\n",
    "            df.index = [race_id] * len(df)\n",
    "            data = data.append(df)\n",
    "            time.sleep(1)\n",
    "        \n",
    "        return cls(data)\n",
    "    \n",
    "    # 前処理\n",
    "    def preprocessing(self):\n",
    "        df = self.data.copy()\n",
    "        \n",
    "        # 性齢を性と年齢に分ける\n",
    "        df['性'] = df['性齢'].map(lambda x: str(x)[0])\n",
    "        df['年齢'] = df['性齢'].map(lambda x: str(x)[1:]).astype(int)\n",
    "\n",
    "        # 馬体重を体重と体重変化に分ける\n",
    "        df = df[df['馬体重(増減)'] != '--']\n",
    "        df['体重'] = df['馬体重(増減)'].str.split('(', expand=True)[0].astype(int)\n",
    "        df['体重変化'] = df['馬体重(増減)'].str.split('(', expand=True)[1].str[:-1].astype(int)\n",
    "        \n",
    "        # 日付をdatetime型に変更\n",
    "        df['date'] = pd.to_datetime(df['date'])\n",
    "\n",
    "        # データをint, floatに変換\n",
    "        df['枠'] = df['枠'].astype(int)\n",
    "        df['馬番'] = df['馬番'].astype(int)\n",
    "        df['斤量'] = df['斤量'].astype(int)\n",
    "\n",
    "    \n",
    "        # 必要な列だけにする\n",
    "        df = df[['枠', '馬番', '斤量', 'course_len', 'weather', 'race_type', 'ground_state', 'date', 'horse_id', 'jockey_id', '性', '年齢', '体重', '体重変化']]\n",
    "\n",
    "        self.data_p = df.rename(columns={'枠': '枠番'})\n",
    "\n",
    "# 訓練に使う過去レースデータを加工するクラス\n",
    "class Results(DataProcessor):\n",
    "    def __init__(self, results):\n",
    "        super(Results, self).__init__()\n",
    "        self.data = results\n",
    "    \n",
    "    @classmethod\n",
    "    def read_pickle(cls, path_list):\n",
    "        df = pd.read_pickle(path_list[0])\n",
    "        for path in path_list[1:]:\n",
    "            df = update_data(df, pd.read_pickle(path))\n",
    "        return cls(df)\n",
    "    \n",
    "    @staticmethod\n",
    "    def scrape(race_id_list):\n",
    "        # race_idをkeyにしてDataFrame型を格納\n",
    "        race_results = {}\n",
    "        for race_id in tqdm(race_id_list):\n",
    "            time.sleep(1)\n",
    "            try:\n",
    "                url = f'https://db.netkeiba.com/race/{race_id}'\n",
    "                # メインとなるテーブルデータを取得\n",
    "                df = pd.read_html(url)[0]\n",
    "\n",
    "                html = requests.get(url)\n",
    "                html.encoding = 'EUC-JP'\n",
    "                soup = BeautifulSoup(html.text, 'html.parser')\n",
    "\n",
    "                # 天候、レースの種類、コースの長さ、馬場の状態、日付をスクレイピング\n",
    "                texts = (\n",
    "                    soup.find('div', attrs={'class': 'data_intro'}).find_all('p')[0].text\n",
    "                    + soup.find('div', attrs={'class': 'data_intro'}).find_all('p')[1].text\n",
    "                )\n",
    "                info = re.findall(r'\\w+', texts)\n",
    "                for text in info:\n",
    "                    if text in ['芝', 'ダート']:\n",
    "                        df['race_type'] = [text] * len(df)\n",
    "                    if '障' in text:\n",
    "                        df['race_type'] = ['障害'] * len(df)\n",
    "                    if 'm' in text:\n",
    "                        df['course_len'] = [int(re.findall(r'\\d+', text)[0])] * len(df)\n",
    "                    if text in ['良', '稍重', '重', '不良']:\n",
    "                        df['ground_state'] = [text] * len(df)\n",
    "                    if text in ['曇', '晴', '雨', '小雨', '小雪', '雪']:\n",
    "                        df['weather'] = [text] * len(df)\n",
    "                    if '年' in text:\n",
    "                        df['date'] = [text] * len(df)\n",
    "\n",
    "                # 馬ID、騎手IDをスクレイピング\n",
    "                horse_id_list = []\n",
    "                horse_a_list = soup.find('table', attrs={'summary': 'レース結果'}).find_all('a', attrs={'href': re.compile('^/horse')})\n",
    "                for a in horse_a_list:\n",
    "                    horse_id = re.findall(r'\\d+', a['href'])\n",
    "                    horse_id_list.append(horse_id[0])\n",
    "                jockey_id_list = []\n",
    "                jockey_a_list = soup.find(\"table\", attrs={'summary': 'レース結果'}).find_all('a', attrs={'href': re.compile('^/jockey')})\n",
    "                for a in jockey_a_list:\n",
    "                    jockey_id = re.findall(r'\\d+', a['href'])\n",
    "                    jockey_id_list.append(jockey_id[0])\n",
    "                df['horse_id'] = horse_id_list\n",
    "                df['jockey_id'] = jockey_id_list\n",
    "\n",
    "                #インデックスをrace_idにする\n",
    "                df.index = [race_id] * len(df)\n",
    "\n",
    "                race_results[race_id] = df\n",
    "            # 存在しないrace_idを飛ばす\n",
    "            except IndexError:\n",
    "                continue\n",
    "            # wifiの接続が切れた時などでも途中までのデータを返せるようにする\n",
    "            except Exception as e:\n",
    "                print(e)\n",
    "                break\n",
    "            # Jupyterで停止ボタンを押した時の対処\n",
    "            except:\n",
    "                break\n",
    "\n",
    "        # pd.DataFrame型にして一つのデータにまとめる\n",
    "        race_results_df = pd.concat([race_results[key] for key in race_results])\n",
    "\n",
    "        return race_results_df\n",
    "    \n",
    "    # 前処理\n",
    "    def preprocessing(self):\n",
    "        df = self.data.copy()\n",
    "\n",
    "        # 着順に数字以外の文字列が含まれているものを取り除く\n",
    "        df = df[~(df['着順'].astype(str).str.contains('\\D'))]\n",
    "        df['着順'] = df['着順'].astype(int)\n",
    "        df['rank'] = df['着順'].map(lambda x: 1 if x < 4 else 0)\n",
    "\n",
    "        # 性齢を性と年齢に分ける\n",
    "        df['性'] = df['性齢'].map(lambda x: str(x)[0])\n",
    "        df['年齢'] = df['性齢'].map(lambda x: str(x)[1:]).astype(int)\n",
    "\n",
    "        # 馬体重を体重と体重変化に分ける\n",
    "        df['体重'] = df['馬体重'].str.split('(', expand=True)[0].astype(int)\n",
    "        df['体重変化'] = df['馬体重'].str.split('(', expand=True)[1].str[:-1].astype(int)\n",
    "\n",
    "        # データをint, floatに変換\n",
    "        df['単勝'] = df['単勝'].astype(float)\n",
    "        df['course_len'] = df['course_len'].astype(int)\n",
    "\n",
    "        # 不要な列を削除\n",
    "        df.drop(['タイム', '着差', '調教師', '性齢', '馬体重', '馬名', '騎手', '単勝', '人気', '着順'], axis=1, inplace=True)\n",
    "\n",
    "        df['date'] = pd.to_datetime(df['date'], format='%Y年%m月%d日')\n",
    "\n",
    "        self.data_p = df\n",
    "    \n",
    "    # カテゴリ変数の処理\n",
    "    def process_categorical(self):\n",
    "        self.le_horse = LabelEncoder().fit(self.data_pe['horse_id'])\n",
    "        self.le_jockey = LabelEncoder().fit(self.data_pe['jockey_id'])        \n",
    "        super().process_categorical(self.le_horse, self.le_jockey, self.data_pe)\n",
    "\n",
    "# 馬の過去成績データを処理するクラス\n",
    "class HorseResults:\n",
    "    def __init__(self, horse_results):\n",
    "        self.horse_results = horse_results[['日付', '着順', '賞金']]\n",
    "        self.preprocessing()\n",
    "    \n",
    "    @classmethod\n",
    "    def read_pickle(cls, path_list):\n",
    "        df = pd.read_pickle(path_list[0])\n",
    "        for path in path_list[1:]:\n",
    "            df = update_data(df, pd.read_pickle(path))\n",
    "        return cls(df)\n",
    "    \n",
    "    @staticmethod\n",
    "    def scrape(horse_id_list):\n",
    "        # horse_idをkeyにしてDataFrame型を格納\n",
    "        horse_results = {}\n",
    "        for horse_id in tqdm(horse_id_list):\n",
    "            try:\n",
    "                time.sleep(1)\n",
    "                url = f'https://db.netkeiba.com/horse/{horse_id}'\n",
    "                # メインとなるテーブルデータを取得\n",
    "                df = pd.read_html(url)[3]\n",
    "                # 受賞歴がある馬の場合、4番目に受賞歴テーブルが来るため、5番目のデータを取得する\n",
    "                if df.columns[0] == '受賞歴':\n",
    "                    df = pd.read_html(url)[4]\n",
    "                horse_results[horse_id] = df\n",
    "            except IndexError:\n",
    "                continue\n",
    "            except Exception as e:\n",
    "                print(e)\n",
    "                break\n",
    "            except:\n",
    "                break\n",
    "        \n",
    "        # pd.DataFrame型にして一つのデータにまとめる\n",
    "        horse_results_df = pd.concat([horse_results[key] for key in horse_results])\n",
    "        \n",
    "        return horse_results_df\n",
    "        \n",
    "    def preprocessing(self):\n",
    "        df = self.horse_results.copy()\n",
    "        \n",
    "        # 着順に数字以外の文字列が含まれているものを取り除く\n",
    "        df['着順'] = pd.to_numeric(df['着順'], errors='coerce')\n",
    "        df.dropna(subset=['着順'], inplace=True)\n",
    "        df['着順'] = df['着順'].astype(int)\n",
    "        \n",
    "        df['date'] = pd.to_datetime(df['日付'])\n",
    "        df.drop(['日付'], axis=1, inplace=True)\n",
    "        \n",
    "        # 賞金の欠損値を0で埋める\n",
    "        df['賞金'].fillna(0, inplace=True)\n",
    "        \n",
    "        self.horse_results = df\n",
    "    \n",
    "    def average(self, horse_id_list, date, n_samples='all'):\n",
    "        target_df = self.horse_results.query('index in @horse_id_list')\n",
    "        \n",
    "        # 過去何走分取り出すか指定\n",
    "        if n_samples == 'all':\n",
    "            filtered_df = target_df[target_df['date'] < date]\n",
    "        elif n_samples > 0:\n",
    "            filtered_df = target_df[target_df['date'] < date].sort_values('date', ascending=False).groupby(level=0).head(n_samples)\n",
    "        else:\n",
    "            raise Exception('n_samples must be integer')\n",
    "            \n",
    "        average = filtered_df.groupby(level=0)[['着順', '賞金']].mean()\n",
    "        rename_columns = average.rename(columns={'着順': f'着順_{n_samples}R', '賞金': f'賞金_{n_samples}R'})\n",
    "        return rename_columns\n",
    "    \n",
    "    def merge(self, results, date, n_samples='all'):\n",
    "        df = results[results['date'] == date]\n",
    "        horse_id_list = df['horse_id']\n",
    "        merged_df = df.merge(self.average(horse_id_list, date, n_samples), left_on='horse_id', right_index=True, how='left')\n",
    "        return merged_df\n",
    "    \n",
    "    def merge_all(self, results, n_samples='all'):\n",
    "        date_list = results['date'].unique()\n",
    "        merged_df = pd.concat([self.merge(results, date, n_samples) for date in date_list])\n",
    "        return merged_df\n",
    "\n",
    "# 血統データを処理するクラス\n",
    "class Peds:\n",
    "    def __init__(self, peds):\n",
    "        self.peds = peds\n",
    "        # LabelEncodingしてcategory型にした変数\n",
    "        self.peds_e = pd.DataFrame()\n",
    "    \n",
    "    @classmethod\n",
    "    def read_pickle(cls, path_list):\n",
    "        df = pd.read_pickle(path_list[0])\n",
    "        for path in path_list[1:]:\n",
    "            df = update_data(df, pd.read_pickle(path))\n",
    "        return cls(df)\n",
    "    \n",
    "    @staticmethod\n",
    "    def scrape(horse_id_list):\n",
    "        # 血統データを取り出す\n",
    "        peds_dict = {}\n",
    "        for horse_id in tqdm(horse_id_list):\n",
    "            try:\n",
    "                url = f'https://db.netkeiba.com/horse/ped/{horse_id}'\n",
    "                df = pd.read_html(url)[0]\n",
    "\n",
    "                # 重複を削除して1列のSeries型データに治す\n",
    "                generations = {}\n",
    "                for i in reversed(range(5)):\n",
    "                    generations[i] = df[i]\n",
    "                    df.drop([i], axis=1, inplace=True)\n",
    "                    df = df.drop_duplicates()\n",
    "\n",
    "                ped = pd.concat([generations[i] for i in range(5)]).rename(horse_id)\n",
    "                peds_dict[horse_id] = ped.reset_index(drop=True)\n",
    "                time.sleep(1)\n",
    "            except IndexError:\n",
    "                continue\n",
    "            except Exception as e:\n",
    "                print(e)\n",
    "                break\n",
    "            except:\n",
    "                break\n",
    "        \n",
    "        # 列名をpeds_0, ..., peds_61にする\n",
    "        peds_df = pd.concat([peds_dict[key] for key in peds_dict], axis=1).T.add_prefix('peds_')\n",
    "        \n",
    "        return peds_df\n",
    "    \n",
    "    def encode(self):\n",
    "        df = self.peds.copy()\n",
    "        for column in df.columns:\n",
    "            df[column] = LabelEncoder().fit_transform(df[column].fillna('Na'))\n",
    "        self.peds_e = df.astype('category')\n",
    "\n",
    "# 払い戻しデータを加工するクラス\n",
    "class Return:\n",
    "    def __init__(self, return_tables):\n",
    "        self.return_tables = return_tables\n",
    "    \n",
    "    @classmethod\n",
    "    def read_pickle(cls, path_list):\n",
    "        df = pd.read_pickle(path_list[0])\n",
    "        for path in path_list[1:]:\n",
    "            df = update_data(df, pd.read_pickle(path))\n",
    "        return cls(df)\n",
    "    \n",
    "    @staticmethod\n",
    "    def scrape(race_id_list):\n",
    "        return_tables = {}\n",
    "        for race_id in tqdm(race_id_list):\n",
    "            try:\n",
    "                url = f'https://db.netkeiba.com/race/{race_id}'\n",
    "\n",
    "                # 複勝やワイドなどが区切られてしまうため、改行コードを文字列に変換して後でsplitする\n",
    "                f = urlopen(url)\n",
    "                html = f.read()\n",
    "                html = html.replace(b'<br />', b'br')            \n",
    "                dfs = pd.read_html(html)\n",
    "\n",
    "                # dfsの2番目に単勝～馬連、3番目にワイド～3連単がある\n",
    "                df = pd.concat([dfs[1], dfs[2]])\n",
    "                \n",
    "                df.index = [race_id] * len(df)\n",
    "                return_tables[race_id] = df\n",
    "                time.sleep(1)\n",
    "            except IndexError:\n",
    "                continue\n",
    "            except Exception as e:\n",
    "                print(e)\n",
    "                break\n",
    "            except:\n",
    "                break\n",
    "        \n",
    "        # pd.DataFrame型にして一つのデータにまとめる\n",
    "        return_tables_df = pd.concat([return_tables[key] for key in return_tables])\n",
    "        \n",
    "        return return_tables_df\n",
    "    \n",
    "    @property\n",
    "    def fukusho(self):\n",
    "        # 複勝の勝ち馬と払い戻しのデータを取り出す\n",
    "        fukusho = self.return_tables[self.return_tables[0] == '複勝'][[1, 2]]\n",
    "        \n",
    "        # 勝ち馬\n",
    "        wins = fukusho[1].str.split('br', expand=True)[[0, 1, 2]]\n",
    "        wins.columns = ['win_0', 'win_1', 'win_2']\n",
    "        \n",
    "        # 払い戻し\n",
    "        returns = fukusho[2].str.split('br', expand=True)[[0, 1, 2]]\n",
    "        returns.columns = ['return_0', 'return_1', 'return_2']\n",
    "        \n",
    "        df = pd.concat([wins, returns], axis=1)\n",
    "        \n",
    "        # int型に変換できないデータがあるので処理\n",
    "        for column in df.columns:\n",
    "            df[column] = df[column].str.replace(',', '')\n",
    "            \n",
    "        df = df.fillna(0).astype(int)\n",
    "        \n",
    "        return df\n",
    "    \n",
    "    @property\n",
    "    def tansho(self):\n",
    "        tansho = self.return_tables[self.return_tables[0] == '単勝'][[1, 2]]\n",
    "        tansho.columns = ['win', 'return']\n",
    "        \n",
    "        for column in tansho.columns:\n",
    "            tansho[column] = pd.to_numeric(tansho[column], errors='coerce')\n",
    "            \n",
    "        return tansho\n",
    "\n",
    "# 予測モデルを評価するクラス\n",
    "class ModelEvaluator:\n",
    "    def __init__(self, model, return_tables_path, std=True):\n",
    "        self.model = model\n",
    "        self.fukusho = Return.read_pickle([return_tables_path]).fukusho\n",
    "        self.tansho = Return.read_pickle([return_tables_path]).tansho\n",
    "        self.std = std\n",
    "        \n",
    "    def predict_proba(self, x):\n",
    "        # 1（3着以内）になる確率を予測\n",
    "        proba = pd.Series(self.model.predict_proba(x)[:, 1], index=x.index)\n",
    "        if self.std:\n",
    "            # 標準化\n",
    "            standard_scaler = lambda x: (x - x.mean()) / x.std()\n",
    "            proba = proba.groupby(level=0).transform(standard_scaler)\n",
    "            # MinMaxスケーリング：データを0から1にする\n",
    "            proba = (proba - proba.min()) / (proba.max() - proba.min())\n",
    "        return proba\n",
    "    \n",
    "    def predict(self, x, threshold=0.5):\n",
    "        # thresholdの値によってpredict_probaで出した値を0か1に決定する\n",
    "        y_pred = self.predict_proba(x)\n",
    "        return [0 if p < threshold else 1 for p in y_pred]\n",
    "    \n",
    "    def score(self, y_true, x):\n",
    "        # スコアを表示\n",
    "        return roc_auc_score(y_true, self.predict_proba(x))\n",
    "    \n",
    "    def feature_importance(self, x, n_display=20):\n",
    "        # 変数の重要度を出力\n",
    "        importances = pd.DataFrame(\n",
    "            {\"features\": x.columns, \"importance\": self.model.feature_importances_}\n",
    "        )\n",
    "        return importances.sort_values('importance', ascending=False)[:n_display]\n",
    "    \n",
    "    def pred_table(self, x, threshold=0.5, bet_only=True):\n",
    "        # 予測したレースIDと馬番を出力する\n",
    "        pred_table = x.copy()[['馬番']]\n",
    "        pred_table['pred'] = self.predict(x, threshold)\n",
    "        \n",
    "        if bet_only:\n",
    "            return pred_table[pred_table['pred'] == 1]['馬番']\n",
    "        \n",
    "        return pred_table\n",
    "    \n",
    "    def fukusho_return(self, x, threshold=0.5):\n",
    "        # 複勝の払い戻しを表示\n",
    "        pred_table = self.pred_table(x, threshold)\n",
    "        n_bets = len(pred_table)\n",
    "        money = -100 * n_bets\n",
    "        df = self.fukusho.copy()\n",
    "        df = df.merge(pred_table, left_index=True, right_index=True, how='right')\n",
    "        for i in range(3):\n",
    "            money += df[df[f'win_{i}'] == df['馬番']][f'return_{i}'].sum()\n",
    "        return_rate = (n_bets * 100 + money) / (n_bets * 100)\n",
    "        return n_bets, return_rate\n",
    "    \n",
    "    def tansho_return(self, x, threshold=0.5):\n",
    "        # 単勝の払い戻しを表示\n",
    "        pred_table = self.pred_table(x, threshold)\n",
    "        n_bets = len(pred_table)\n",
    "        money = -100 * n_bets\n",
    "        df = self.tansho.copy()\n",
    "        df = df.merge(pred_table, left_index=True, right_index=True, how='right')\n",
    "        money += df[df['win'] == df['馬番']]['return'].sum()\n",
    "        return_rate = (n_bets * 100 + money) / (n_bets * 100)\n",
    "        return n_bets, return_rate\n",
    "    \n",
    "    def tansho_return_proper(self, X, threshold=0.5):\n",
    "        pred_table = self.pred_table(X, threshold)\n",
    "        n_bets = len(pred_table)\n",
    "        df = self.tansho.copy()\n",
    "        df = df.merge(pred_table, left_index=True, right_index=True, how='right')\n",
    "        \n",
    "        # 単勝適性回収値を計算\n",
    "        return_rate = len(df.query('win == 馬番')) / (100 / df['return']).sum()\n",
    "        \n",
    "        return n_bets, return_rate"
   ]
  },
  {
   "cell_type": "markdown",
   "metadata": {},
   "source": [
    "### 1.2　関数"
   ]
  },
  {
   "cell_type": "code",
   "execution_count": 3,
   "metadata": {},
   "outputs": [],
   "source": [
    "# 時系列に沿って訓練データとテストデータに分ける関数\n",
    "def split_data(df, test_size=0.3):\n",
    "    sorted_id_list = df.sort_values('date').index.unique()   \n",
    "    train_id_list = sorted_id_list[:round(len(sorted_id_list) * (1 - test_size))]\n",
    "    test_id_list = sorted_id_list[round(len(sorted_id_list) * (1 - test_size)):]\n",
    "    train = df.loc[train_id_list]#.drop(['date'], axis=1)\n",
    "    test = df.loc[test_id_list]#.drop(['date'], axis=1)\n",
    "    return train, test\n",
    "\n",
    "# 回収率を計算する関数\n",
    "def gain(return_func, x, n_samples=100, lower=50, min_threshold=0.5):\n",
    "    gain = {}\n",
    "    for i in tqdm(range(n_samples)):\n",
    "        threshold = (i / n_samples) + (min_threshold * (1 - (i / n_samples)))\n",
    "        n_bets, return_rate = return_func(x, threshold)\n",
    "        if n_bets > lower:\n",
    "            gain[n_bets] = return_rate\n",
    "    return pd.Series(gain)\n",
    "\n",
    "# 重複のないデータを作成する関数\n",
    "def update_data(old, new):\n",
    "    filtered_old = old[~old.index.isin(new.index)]\n",
    "    return pd.concat([filtered_old, new])"
   ]
  },
  {
   "cell_type": "markdown",
   "metadata": {},
   "source": [
    "### 2．前処理"
   ]
  },
  {
   "cell_type": "code",
   "execution_count": 4,
   "metadata": {},
   "outputs": [],
   "source": [
    "r = Results.read_pickle(['results.pickle'])\n",
    "\n",
    "# 前処理\n",
    "r.preprocessing()\n",
    "\n",
    "# 馬の過去成績データの追加\n",
    "hr = HorseResults.read_pickle(['horse_results.pickle'])\n",
    "r.merge_horse_results(hr)\n",
    "\n",
    "# 5世代分の血統データの追加\n",
    "p = Peds.read_pickle(['peds.pickle'])\n",
    "p.encode()\n",
    "r.merge_peds(p.peds_e)\n",
    "\n",
    "# カテゴリ変数の処理\n",
    "r.process_categorical()"
   ]
  },
  {
   "cell_type": "markdown",
   "metadata": {},
   "source": [
    "### 3．予測"
   ]
  },
  {
   "cell_type": "code",
   "execution_count": 5,
   "metadata": {},
   "outputs": [],
   "source": [
    "train, test = split_data(r.data_c)\n",
    "X_train = train.drop(['rank', 'date'], axis=1)\n",
    "y_train = train['rank']\n",
    "X_test = test.drop(['rank', 'date'], axis=1)\n",
    "y_test = test['rank']"
   ]
  },
  {
   "cell_type": "code",
   "execution_count": 6,
   "metadata": {},
   "outputs": [
    {
     "data": {
      "text/plain": [
       "LGBMClassifier(class_weight='balanced', n_estimators=80, num_leaves=4,\n",
       "               random_state=100)"
      ]
     },
     "execution_count": 6,
     "metadata": {},
     "output_type": "execute_result"
    }
   ],
   "source": [
    "params = {\n",
    "    'num_leaves': 4,\n",
    "    'n_estimators': 80,\n",
    "    'class_weight': 'balanced',\n",
    "    'random_state': 100\n",
    "}\n",
    "\n",
    "lgb_clf = lgb.LGBMClassifier(**params)\n",
    "lgb_clf.fit(X_train.values, y_train.values)"
   ]
  },
  {
   "cell_type": "code",
   "execution_count": 7,
   "metadata": {},
   "outputs": [],
   "source": [
    "me = ModelEvaluator(lgb_clf, 'return_tables.pickle')"
   ]
  },
  {
   "cell_type": "code",
   "execution_count": 8,
   "metadata": {},
   "outputs": [
    {
     "name": "stderr",
     "output_type": "stream",
     "text": [
      "100%|██████████| 100/100 [02:59<00:00,  1.79s/it]\n"
     ]
    },
    {
     "data": {
      "text/plain": [
       "<matplotlib.axes._subplots.AxesSubplot at 0x233ed999f08>"
      ]
     },
     "execution_count": 8,
     "metadata": {},
     "output_type": "execute_result"
    },
    {
     "data": {
      "image/png": "[encoded data removed]",
      "text/plain": [
       "<Figure size 432x288 with 1 Axes>"
      ]
     },
     "metadata": {
      "needs_background": "light"
     },
     "output_type": "display_data"
    }
   ],
   "source": [
    "baseline = gain(me.tansho_return, X_test)\n",
    "baseline.plot()"
   ]
  },
  {
   "cell_type": "markdown",
   "metadata": {},
   "source": [
    "#### 4．単勝適性回収値\n",
    "常に払戻額が一定になるように単勝で賭けた場合の回収率<br>\n",
    "払戻額が常に1万円になるように賭けてみる"
   ]
  },
  {
   "cell_type": "markdown",
   "metadata": {},
   "source": [
    "賭けた金額<br>\n",
    "x円賭けるとすると<br>\n",
    "$$\n",
    "各馬番の単勝オッズ \\times \\frac{x}{100} = 10000 \\\\\n",
    "\\therefore \\quad x = \\frac{100 \\times 10000}{各馬番の単勝オッズ}\n",
    "$$"
   ]
  },
  {
   "cell_type": "markdown",
   "metadata": {},
   "source": [
    "回収率 = 払戻額 / 賭けた金額"
   ]
  },
  {
   "cell_type": "code",
   "execution_count": 9,
   "metadata": {},
   "outputs": [
    {
     "name": "stderr",
     "output_type": "stream",
     "text": [
      "100%|██████████| 100/100 [02:58<00:00,  1.79s/it]\n"
     ]
    },
    {
     "data": {
      "text/plain": [
       "<matplotlib.axes._subplots.AxesSubplot at 0x2338f301988>"
      ]
     },
     "execution_count": 9,
     "metadata": {},
     "output_type": "execute_result"
    },
    {
     "data": {
      "image/png": "[encoded data removed]",
      "text/plain": [
       "<Figure size 432x288 with 1 Axes>"
      ]
     },
     "metadata": {
      "needs_background": "light"
     },
     "output_type": "display_data"
    }
   ],
   "source": [
    "gain_proper = gain(me.tansho_return_proper, X_test)\n",
    "gain_proper.plot()"
   ]
  },
  {
   "cell_type": "code",
   "execution_count": 10,
   "metadata": {},
   "outputs": [
    {
     "data": {
      "image/png": "[encoded data removed]",
      "text/plain": [
       "<Figure size 720x576 with 1 Axes>"
      ]
     },
     "metadata": {
      "needs_background": "light"
     },
     "output_type": "display_data"
    }
   ],
   "source": [
    "plt.figure(figsize=(10, 8))\n",
    "baseline.rename('baseline').plot(legend=True)\n",
    "gain_proper.rename('proper').plot(legend=True)\n",
    "plt.grid()"
   ]
  },
  {
   "cell_type": "markdown",
   "metadata": {},
   "source": [
    "### 5．Optuna"
   ]
  },
  {
   "cell_type": "code",
   "execution_count": 11,
   "metadata": {},
   "outputs": [],
   "source": [
    "train, test = split_data(r.data_c)\n",
    "train, valid = split_data(train)"
   ]
  },
  {
   "cell_type": "code",
   "execution_count": 12,
   "metadata": {},
   "outputs": [],
   "source": [
    "import optuna.integration.lightgbm as lgb_o\n",
    "\n",
    "# 説明変数と目的変数に分ける\n",
    "X_train = train.drop(['rank', 'date'], axis=1)\n",
    "y_train = train['rank']\n",
    "X_valid = valid.drop(['rank', 'date'], axis=1)\n",
    "y_valid = valid['rank']\n",
    "X_test = test.drop(['rank', 'date'], axis=1)\n",
    "y_test = test['rank']"
   ]
  },
  {
   "cell_type": "code",
   "execution_count": 13,
   "metadata": {},
   "outputs": [
    {
     "name": "stderr",
     "output_type": "stream",
     "text": [
      "\u001b[32m[I 2022-03-21 15:02:12,367]\u001b[0m A new study created in memory with name: no-name-12ead92d-13f3-4aa2-8b19-d826e78eddf6\u001b[0m\n",
      "feature_fraction, val_score: inf:   0%|          | 0/7 [00:00<?, ?it/s]"
     ]
    },
    {
     "name": "stdout",
     "output_type": "stream",
     "text": [
      "Training until validation scores don't improve for 10 rounds\n"
     ]
    },
    {
     "name": "stderr",
     "output_type": "stream",
     "text": [
      "feature_fraction, val_score: 0.466295:  14%|#4        | 1/7 [00:02<00:17,  2.84s/it]\u001b[32m[I 2022-03-21 15:02:15,215]\u001b[0m Trial 0 finished with value: 0.4662950262803995 and parameters: {'feature_fraction': 0.5}. Best is trial 0 with value: 0.4662950262803995.\u001b[0m\n",
      "feature_fraction, val_score: 0.466295:  14%|#4        | 1/7 [00:02<00:17,  2.84s/it]"
     ]
    },
    {
     "name": "stdout",
     "output_type": "stream",
     "text": [
      "Early stopping, best iteration is:\n",
      "[70]\tvalid_0's binary_logloss: 0.428393\tvalid_1's binary_logloss: 0.466295\n",
      "Training until validation scores don't improve for 10 rounds\n"
     ]
    },
    {
     "name": "stderr",
     "output_type": "stream",
     "text": [
      "feature_fraction, val_score: 0.466295:  29%|##8       | 2/7 [00:05<00:13,  2.69s/it]\u001b[32m[I 2022-03-21 15:02:17,566]\u001b[0m Trial 1 finished with value: 0.46685912351570663 and parameters: {'feature_fraction': 0.4}. Best is trial 0 with value: 0.4662950262803995.\u001b[0m\n",
      "feature_fraction, val_score: 0.466295:  29%|##8       | 2/7 [00:05<00:13,  2.69s/it]"
     ]
    },
    {
     "name": "stdout",
     "output_type": "stream",
     "text": [
      "Early stopping, best iteration is:\n",
      "[69]\tvalid_0's binary_logloss: 0.430351\tvalid_1's binary_logloss: 0.466859\n",
      "Training until validation scores don't improve for 10 rounds\n"
     ]
    },
    {
     "name": "stderr",
     "output_type": "stream",
     "text": [
      "feature_fraction, val_score: 0.466295:  43%|####2     | 3/7 [00:08<00:11,  2.90s/it]\u001b[32m[I 2022-03-21 15:02:20,966]\u001b[0m Trial 2 finished with value: 0.4676660352703846 and parameters: {'feature_fraction': 0.8}. Best is trial 0 with value: 0.4662950262803995.\u001b[0m\n",
      "feature_fraction, val_score: 0.466295:  43%|####2     | 3/7 [00:08<00:11,  2.90s/it]"
     ]
    },
    {
     "name": "stdout",
     "output_type": "stream",
     "text": [
      "Early stopping, best iteration is:\n",
      "[52]\tvalid_0's binary_logloss: 0.436656\tvalid_1's binary_logloss: 0.467666\n",
      "Training until validation scores don't improve for 10 rounds\n"
     ]
    },
    {
     "name": "stderr",
     "output_type": "stream",
     "text": [
      "feature_fraction, val_score: 0.466295:  57%|#####7    | 4/7 [00:11<00:08,  2.81s/it]\u001b[32m[I 2022-03-21 15:02:23,559]\u001b[0m Trial 3 finished with value: 0.46703874641351345 and parameters: {'feature_fraction': 0.8999999999999999}. Best is trial 0 with value: 0.4662950262803995.\u001b[0m\n",
      "feature_fraction, val_score: 0.466295:  57%|#####7    | 4/7 [00:11<00:08,  2.81s/it]"
     ]
    },
    {
     "name": "stdout",
     "output_type": "stream",
     "text": [
      "Early stopping, best iteration is:\n",
      "[46]\tvalid_0's binary_logloss: 0.439963\tvalid_1's binary_logloss: 0.467039\n",
      "Training until validation scores don't improve for 10 rounds\n"
     ]
    },
    {
     "name": "stderr",
     "output_type": "stream",
     "text": [
      "feature_fraction, val_score: 0.466295:  71%|#######1  | 5/7 [00:14<00:05,  2.97s/it]\u001b[32m[I 2022-03-21 15:02:26,886]\u001b[0m Trial 4 finished with value: 0.46694048366899216 and parameters: {'feature_fraction': 0.7}. Best is trial 0 with value: 0.4662950262803995.\u001b[0m\n",
      "feature_fraction, val_score: 0.466295:  71%|#######1  | 5/7 [00:14<00:05,  2.97s/it]"
     ]
    },
    {
     "name": "stdout",
     "output_type": "stream",
     "text": [
      "Early stopping, best iteration is:\n",
      "[78]\tvalid_0's binary_logloss: 0.422333\tvalid_1's binary_logloss: 0.46694\n",
      "Training until validation scores don't improve for 10 rounds\n"
     ]
    },
    {
     "name": "stderr",
     "output_type": "stream",
     "text": [
      "feature_fraction, val_score: 0.466295:  86%|########5 | 6/7 [00:17<00:02,  3.00s/it]\u001b[32m[I 2022-03-21 15:02:29,964]\u001b[0m Trial 5 finished with value: 0.4678417511624703 and parameters: {'feature_fraction': 1.0}. Best is trial 0 with value: 0.4662950262803995.\u001b[0m\n",
      "feature_fraction, val_score: 0.466295:  86%|########5 | 6/7 [00:17<00:02,  3.00s/it]"
     ]
    },
    {
     "name": "stdout",
     "output_type": "stream",
     "text": [
      "Early stopping, best iteration is:\n",
      "[53]\tvalid_0's binary_logloss: 0.435011\tvalid_1's binary_logloss: 0.467842\n",
      "Training until validation scores don't improve for 10 rounds\n"
     ]
    },
    {
     "name": "stderr",
     "output_type": "stream",
     "text": [
      "feature_fraction, val_score: 0.465903: 100%|##########| 7/7 [00:20<00:00,  2.95s/it]\u001b[32m[I 2022-03-21 15:02:32,795]\u001b[0m Trial 6 finished with value: 0.465903356797551 and parameters: {'feature_fraction': 0.6}. Best is trial 6 with value: 0.465903356797551.\u001b[0m\n",
      "feature_fraction, val_score: 0.465903: 100%|##########| 7/7 [00:20<00:00,  2.92s/it]\n",
      "num_leaves, val_score: 0.465903:   0%|          | 0/20 [00:00<?, ?it/s]"
     ]
    },
    {
     "name": "stdout",
     "output_type": "stream",
     "text": [
      "Early stopping, best iteration is:\n",
      "[61]\tvalid_0's binary_logloss: 0.432324\tvalid_1's binary_logloss: 0.465903\n",
      "Training until validation scores don't improve for 10 rounds\n"
     ]
    },
    {
     "name": "stderr",
     "output_type": "stream",
     "text": [
      "num_leaves, val_score: 0.465903:   5%|5         | 1/20 [00:04<01:30,  4.76s/it]\u001b[32m[I 2022-03-21 15:02:37,568]\u001b[0m Trial 7 finished with value: 0.4741382424477718 and parameters: {'num_leaves': 254}. Best is trial 7 with value: 0.4741382424477718.\u001b[0m\n",
      "num_leaves, val_score: 0.465903:   5%|5         | 1/20 [00:04<01:30,  4.76s/it]"
     ]
    },
    {
     "name": "stdout",
     "output_type": "stream",
     "text": [
      "Early stopping, best iteration is:\n",
      "[26]\tvalid_0's binary_logloss: 0.357829\tvalid_1's binary_logloss: 0.474138\n",
      "Training until validation scores don't improve for 10 rounds\n"
     ]
    },
    {
     "name": "stderr",
     "output_type": "stream",
     "text": [
      "num_leaves, val_score: 0.465903:  10%|#         | 2/20 [00:07<01:17,  4.28s/it]\u001b[32m[I 2022-03-21 15:02:40,730]\u001b[0m Trial 8 finished with value: 0.46819786830524424 and parameters: {'num_leaves': 59}. Best is trial 8 with value: 0.46819786830524424.\u001b[0m\n",
      "num_leaves, val_score: 0.465903:  10%|#         | 2/20 [00:07<01:17,  4.28s/it]"
     ]
    },
    {
     "name": "stdout",
     "output_type": "stream",
     "text": [
      "Early stopping, best iteration is:\n",
      "[65]\tvalid_0's binary_logloss: 0.39649\tvalid_1's binary_logloss: 0.468198\n",
      "Training until validation scores don't improve for 10 rounds\n"
     ]
    },
    {
     "name": "stderr",
     "output_type": "stream",
     "text": [
      "num_leaves, val_score: 0.465903:  15%|#5        | 3/20 [00:12<01:12,  4.26s/it]\u001b[32m[I 2022-03-21 15:02:44,928]\u001b[0m Trial 9 finished with value: 0.47056151675290286 and parameters: {'num_leaves': 150}. Best is trial 8 with value: 0.46819786830524424.\u001b[0m\n",
      "num_leaves, val_score: 0.465903:  15%|#5        | 3/20 [00:12<01:12,  4.26s/it]"
     ]
    },
    {
     "name": "stdout",
     "output_type": "stream",
     "text": [
      "Early stopping, best iteration is:\n",
      "[41]\tvalid_0's binary_logloss: 0.360039\tvalid_1's binary_logloss: 0.470562\n",
      "Training until validation scores don't improve for 10 rounds\n"
     ]
    },
    {
     "name": "stderr",
     "output_type": "stream",
     "text": [
      "num_leaves, val_score: 0.465903:  20%|##        | 4/20 [00:16<01:08,  4.28s/it]\u001b[32m[I 2022-03-21 15:02:49,265]\u001b[0m Trial 10 finished with value: 0.47326552867642524 and parameters: {'num_leaves': 229}. Best is trial 8 with value: 0.46819786830524424.\u001b[0m\n",
      "num_leaves, val_score: 0.465903:  20%|##        | 4/20 [00:16<01:08,  4.28s/it]"
     ]
    },
    {
     "name": "stdout",
     "output_type": "stream",
     "text": [
      "Early stopping, best iteration is:\n",
      "[29]\tvalid_0's binary_logloss: 0.355831\tvalid_1's binary_logloss: 0.473266\n",
      "Training until validation scores don't improve for 10 rounds\n"
     ]
    },
    {
     "name": "stderr",
     "output_type": "stream",
     "text": [
      "num_leaves, val_score: 0.465903:  25%|##5       | 5/20 [00:20<01:01,  4.08s/it]\u001b[32m[I 2022-03-21 15:02:52,887]\u001b[0m Trial 11 finished with value: 0.47112865060687914 and parameters: {'num_leaves': 143}. Best is trial 8 with value: 0.46819786830524424.\u001b[0m\n",
      "num_leaves, val_score: 0.465903:  25%|##5       | 5/20 [00:20<01:01,  4.08s/it]"
     ]
    },
    {
     "name": "stdout",
     "output_type": "stream",
     "text": [
      "Early stopping, best iteration is:\n",
      "[30]\tvalid_0's binary_logloss: 0.388824\tvalid_1's binary_logloss: 0.471129\n",
      "Training until validation scores don't improve for 10 rounds\n"
     ]
    },
    {
     "name": "stderr",
     "output_type": "stream",
     "text": [
      "num_leaves, val_score: 0.465903:  30%|###       | 6/20 [00:22<00:52,  3.71s/it]\u001b[32m[I 2022-03-21 15:02:55,741]\u001b[0m Trial 12 finished with value: 0.46611958273425397 and parameters: {'num_leaves': 36}. Best is trial 12 with value: 0.46611958273425397.\u001b[0m\n",
      "num_leaves, val_score: 0.465903:  30%|###       | 6/20 [00:22<00:52,  3.71s/it]"
     ]
    },
    {
     "name": "stdout",
     "output_type": "stream",
     "text": [
      "Early stopping, best iteration is:\n",
      "[62]\tvalid_0's binary_logloss: 0.425261\tvalid_1's binary_logloss: 0.46612\n",
      "Training until validation scores don't improve for 10 rounds\n"
     ]
    },
    {
     "name": "stderr",
     "output_type": "stream",
     "text": [
      "num_leaves, val_score: 0.465903:  35%|###5      | 7/20 [00:26<00:48,  3.71s/it]\u001b[32m[I 2022-03-21 15:02:59,432]\u001b[0m Trial 13 finished with value: 0.4727062897876732 and parameters: {'num_leaves': 172}. Best is trial 12 with value: 0.46611958273425397.\u001b[0m\n",
      "num_leaves, val_score: 0.465903:  35%|###5      | 7/20 [00:26<00:48,  3.71s/it]"
     ]
    },
    {
     "name": "stdout",
     "output_type": "stream",
     "text": [
      "Early stopping, best iteration is:\n",
      "[24]\tvalid_0's binary_logloss: 0.393549\tvalid_1's binary_logloss: 0.472706\n",
      "Training until validation scores don't improve for 10 rounds\n"
     ]
    },
    {
     "name": "stderr",
     "output_type": "stream",
     "text": [
      "num_leaves, val_score: 0.465903:  40%|####      | 8/20 [00:30<00:45,  3.82s/it]\u001b[32m[I 2022-03-21 15:03:03,509]\u001b[0m Trial 14 finished with value: 0.4721080078593282 and parameters: {'num_leaves': 232}. Best is trial 12 with value: 0.46611958273425397.\u001b[0m\n",
      "num_leaves, val_score: 0.465903:  40%|####      | 8/20 [00:30<00:45,  3.82s/it]"
     ]
    },
    {
     "name": "stdout",
     "output_type": "stream",
     "text": [
      "Early stopping, best iteration is:\n",
      "[28]\tvalid_0's binary_logloss: 0.358223\tvalid_1's binary_logloss: 0.472108\n",
      "Training until validation scores don't improve for 10 rounds\n"
     ]
    },
    {
     "name": "stderr",
     "output_type": "stream",
     "text": [
      "num_leaves, val_score: 0.465903:  45%|####5     | 9/20 [00:33<00:38,  3.54s/it]\u001b[32m[I 2022-03-21 15:03:06,391]\u001b[0m Trial 15 finished with value: 0.46842118810447814 and parameters: {'num_leaves': 65}. Best is trial 12 with value: 0.46611958273425397.\u001b[0m\n",
      "num_leaves, val_score: 0.465903:  45%|####5     | 9/20 [00:33<00:38,  3.54s/it]"
     ]
    },
    {
     "name": "stdout",
     "output_type": "stream",
     "text": [
      "Early stopping, best iteration is:\n",
      "[34]\tvalid_0's binary_logloss: 0.425408\tvalid_1's binary_logloss: 0.468421\n",
      "Training until validation scores don't improve for 10 rounds\n"
     ]
    },
    {
     "name": "stderr",
     "output_type": "stream",
     "text": [
      "num_leaves, val_score: 0.465903:  50%|#####     | 10/20 [00:38<00:38,  3.87s/it]\u001b[32m[I 2022-03-21 15:03:11,038]\u001b[0m Trial 16 finished with value: 0.4718966728531361 and parameters: {'num_leaves': 227}. Best is trial 12 with value: 0.46611958273425397.\u001b[0m\n",
      "num_leaves, val_score: 0.465903:  50%|#####     | 10/20 [00:38<00:38,  3.87s/it]"
     ]
    },
    {
     "name": "stdout",
     "output_type": "stream",
     "text": [
      "Early stopping, best iteration is:\n",
      "[29]\tvalid_0's binary_logloss: 0.356611\tvalid_1's binary_logloss: 0.471897\n",
      "Training until validation scores don't improve for 10 rounds\n",
      "[100]\tvalid_0's binary_logloss: 0.472879\tvalid_1's binary_logloss: 0.472613\n",
      "[200]\tvalid_0's binary_logloss: 0.467537\tvalid_1's binary_logloss: 0.470243\n"
     ]
    },
    {
     "name": "stderr",
     "output_type": "stream",
     "text": [
      "num_leaves, val_score: 0.465903:  55%|#####5    | 11/20 [00:41<00:32,  3.56s/it]\u001b[32m[I 2022-03-21 15:03:13,869]\u001b[0m Trial 17 finished with value: 0.46940979487741735 and parameters: {'num_leaves': 3}. Best is trial 12 with value: 0.46611958273425397.\u001b[0m\n",
      "num_leaves, val_score: 0.465903:  55%|#####5    | 11/20 [00:41<00:32,  3.56s/it]"
     ]
    },
    {
     "name": "stdout",
     "output_type": "stream",
     "text": [
      "Early stopping, best iteration is:\n",
      "[264]\tvalid_0's binary_logloss: 0.465034\tvalid_1's binary_logloss: 0.46941\n",
      "Training until validation scores don't improve for 10 rounds\n"
     ]
    },
    {
     "name": "stderr",
     "output_type": "stream",
     "text": [
      "num_leaves, val_score: 0.465903:  60%|######    | 12/20 [00:43<00:26,  3.34s/it]\u001b[32m[I 2022-03-21 15:03:16,702]\u001b[0m Trial 18 finished with value: 0.46842118810447814 and parameters: {'num_leaves': 65}. Best is trial 12 with value: 0.46611958273425397.\u001b[0m\n",
      "num_leaves, val_score: 0.465903:  60%|######    | 12/20 [00:43<00:26,  3.34s/it]"
     ]
    },
    {
     "name": "stdout",
     "output_type": "stream",
     "text": [
      "Early stopping, best iteration is:\n",
      "[34]\tvalid_0's binary_logloss: 0.425408\tvalid_1's binary_logloss: 0.468421\n",
      "Training until validation scores don't improve for 10 rounds\n"
     ]
    },
    {
     "name": "stderr",
     "output_type": "stream",
     "text": [
      "num_leaves, val_score: 0.465903:  65%|######5   | 13/20 [00:46<00:21,  3.12s/it]\u001b[32m[I 2022-03-21 15:03:19,314]\u001b[0m Trial 19 finished with value: 0.4679865127548185 and parameters: {'num_leaves': 57}. Best is trial 12 with value: 0.46611958273425397.\u001b[0m\n",
      "num_leaves, val_score: 0.465903:  65%|######5   | 13/20 [00:46<00:21,  3.12s/it]"
     ]
    },
    {
     "name": "stdout",
     "output_type": "stream",
     "text": [
      "Early stopping, best iteration is:\n",
      "[38]\tvalid_0's binary_logloss: 0.425906\tvalid_1's binary_logloss: 0.467987\n",
      "Training until validation scores don't improve for 10 rounds\n",
      "[100]\tvalid_0's binary_logloss: 0.465482\tvalid_1's binary_logloss: 0.469466\n"
     ]
    },
    {
     "name": "stderr",
     "output_type": "stream",
     "text": [
      "num_leaves, val_score: 0.465903:  70%|#######   | 14/20 [00:49<00:18,  3.07s/it]\u001b[32m[I 2022-03-21 15:03:22,269]\u001b[0m Trial 20 finished with value: 0.46703940811737854 and parameters: {'num_leaves': 5}. Best is trial 12 with value: 0.46611958273425397.\u001b[0m\n",
      "num_leaves, val_score: 0.465903:  70%|#######   | 14/20 [00:49<00:18,  3.07s/it]"
     ]
    },
    {
     "name": "stdout",
     "output_type": "stream",
     "text": [
      "Early stopping, best iteration is:\n",
      "[189]\tvalid_0's binary_logloss: 0.457579\tvalid_1's binary_logloss: 0.467039\n",
      "Training until validation scores don't improve for 10 rounds\n",
      "[100]\tvalid_0's binary_logloss: 0.472879\tvalid_1's binary_logloss: 0.472613\n",
      "[200]\tvalid_0's binary_logloss: 0.467537\tvalid_1's binary_logloss: 0.470243\n"
     ]
    },
    {
     "name": "stderr",
     "output_type": "stream",
     "text": [
      "num_leaves, val_score: 0.465903:  75%|#######5  | 15/20 [00:52<00:15,  3.13s/it]\u001b[32m[I 2022-03-21 15:03:25,546]\u001b[0m Trial 21 finished with value: 0.46940979487741735 and parameters: {'num_leaves': 3}. Best is trial 12 with value: 0.46611958273425397.\u001b[0m\n",
      "num_leaves, val_score: 0.465903:  75%|#######5  | 15/20 [00:52<00:15,  3.13s/it]"
     ]
    },
    {
     "name": "stdout",
     "output_type": "stream",
     "text": [
      "Early stopping, best iteration is:\n",
      "[264]\tvalid_0's binary_logloss: 0.465034\tvalid_1's binary_logloss: 0.46941\n",
      "Training until validation scores don't improve for 10 rounds\n"
     ]
    },
    {
     "name": "stderr",
     "output_type": "stream",
     "text": [
      "num_leaves, val_score: 0.465903:  80%|########  | 16/20 [00:56<00:13,  3.27s/it]\u001b[32m[I 2022-03-21 15:03:29,123]\u001b[0m Trial 22 finished with value: 0.4685478833906658 and parameters: {'num_leaves': 98}. Best is trial 12 with value: 0.46611958273425397.\u001b[0m\n",
      "num_leaves, val_score: 0.465903:  80%|########  | 16/20 [00:56<00:13,  3.27s/it]"
     ]
    },
    {
     "name": "stdout",
     "output_type": "stream",
     "text": [
      "Early stopping, best iteration is:\n",
      "[45]\tvalid_0's binary_logloss: 0.386319\tvalid_1's binary_logloss: 0.468548\n",
      "Training until validation scores don't improve for 10 rounds\n"
     ]
    },
    {
     "name": "stderr",
     "output_type": "stream",
     "text": [
      "num_leaves, val_score: 0.465903:  85%|########5 | 17/20 [00:58<00:08,  2.99s/it]\u001b[32m[I 2022-03-21 15:03:31,464]\u001b[0m Trial 23 finished with value: 0.4670716489869232 and parameters: {'num_leaves': 28}. Best is trial 12 with value: 0.46611958273425397.\u001b[0m\n",
      "num_leaves, val_score: 0.465903:  85%|########5 | 17/20 [00:58<00:08,  2.99s/it]"
     ]
    },
    {
     "name": "stdout",
     "output_type": "stream",
     "text": [
      "Early stopping, best iteration is:\n",
      "[57]\tvalid_0's binary_logloss: 0.438041\tvalid_1's binary_logloss: 0.467072\n",
      "Training until validation scores don't improve for 10 rounds\n"
     ]
    },
    {
     "name": "stderr",
     "output_type": "stream",
     "text": [
      "num_leaves, val_score: 0.465903:  90%|######### | 18/20 [01:01<00:06,  3.03s/it]\u001b[32m[I 2022-03-21 15:03:34,600]\u001b[0m Trial 24 finished with value: 0.4682170131288516 and parameters: {'num_leaves': 90}. Best is trial 12 with value: 0.46611958273425397.\u001b[0m\n",
      "num_leaves, val_score: 0.465903:  90%|######### | 18/20 [01:01<00:06,  3.03s/it]"
     ]
    },
    {
     "name": "stdout",
     "output_type": "stream",
     "text": [
      "Early stopping, best iteration is:\n",
      "[41]\tvalid_0's binary_logloss: 0.398014\tvalid_1's binary_logloss: 0.468217\n",
      "Training until validation scores don't improve for 10 rounds\n"
     ]
    },
    {
     "name": "stderr",
     "output_type": "stream",
     "text": [
      "num_leaves, val_score: 0.465903:  95%|#########5| 19/20 [01:04<00:02,  2.90s/it]\u001b[32m[I 2022-03-21 15:03:37,194]\u001b[0m Trial 25 finished with value: 0.46669226628383925 and parameters: {'num_leaves': 29}. Best is trial 12 with value: 0.46611958273425397.\u001b[0m\n",
      "num_leaves, val_score: 0.465903:  95%|#########5| 19/20 [01:04<00:02,  2.90s/it]"
     ]
    },
    {
     "name": "stdout",
     "output_type": "stream",
     "text": [
      "Early stopping, best iteration is:\n",
      "[71]\tvalid_0's binary_logloss: 0.429009\tvalid_1's binary_logloss: 0.466692\n",
      "Training until validation scores don't improve for 10 rounds\n"
     ]
    },
    {
     "name": "stderr",
     "output_type": "stream",
     "text": [
      "num_leaves, val_score: 0.465903: 100%|##########| 20/20 [01:08<00:00,  3.22s/it]\u001b[32m[I 2022-03-21 15:03:41,142]\u001b[0m Trial 26 finished with value: 0.46858266294090295 and parameters: {'num_leaves': 107}. Best is trial 12 with value: 0.46611958273425397.\u001b[0m\n",
      "num_leaves, val_score: 0.465903: 100%|##########| 20/20 [01:08<00:00,  3.42s/it]\n",
      "bagging, val_score: 0.465903:   0%|          | 0/10 [00:00<?, ?it/s]"
     ]
    },
    {
     "name": "stdout",
     "output_type": "stream",
     "text": [
      "Early stopping, best iteration is:\n",
      "[42]\tvalid_0's binary_logloss: 0.385148\tvalid_1's binary_logloss: 0.468583\n",
      "Training until validation scores don't improve for 10 rounds\n"
     ]
    },
    {
     "name": "stderr",
     "output_type": "stream",
     "text": [
      "bagging, val_score: 0.465903:  10%|#         | 1/10 [00:02<00:20,  2.23s/it]\u001b[32m[I 2022-03-21 15:03:43,389]\u001b[0m Trial 27 finished with value: 0.4685513270391066 and parameters: {'bagging_fraction': 0.6004399363361499, 'bagging_freq': 3}. Best is trial 27 with value: 0.4685513270391066.\u001b[0m\n",
      "bagging, val_score: 0.465903:  10%|#         | 1/10 [00:02<00:20,  2.23s/it]"
     ]
    },
    {
     "name": "stdout",
     "output_type": "stream",
     "text": [
      "Early stopping, best iteration is:\n",
      "[54]\tvalid_0's binary_logloss: 0.437095\tvalid_1's binary_logloss: 0.468551\n",
      "Training until validation scores don't improve for 10 rounds\n"
     ]
    },
    {
     "name": "stderr",
     "output_type": "stream",
     "text": [
      "bagging, val_score: 0.465903:  20%|##        | 2/10 [00:05<00:19,  2.40s/it]\u001b[32m[I 2022-03-21 15:03:46,161]\u001b[0m Trial 28 finished with value: 0.4668914159400346 and parameters: {'bagging_fraction': 0.9784879735703084, 'bagging_freq': 7}. Best is trial 28 with value: 0.4668914159400346.\u001b[0m\n",
      "bagging, val_score: 0.465903:  20%|##        | 2/10 [00:05<00:19,  2.40s/it]"
     ]
    },
    {
     "name": "stdout",
     "output_type": "stream",
     "text": [
      "Early stopping, best iteration is:\n",
      "[63]\tvalid_0's binary_logloss: 0.431163\tvalid_1's binary_logloss: 0.466891\n",
      "Training until validation scores don't improve for 10 rounds\n"
     ]
    },
    {
     "name": "stderr",
     "output_type": "stream",
     "text": [
      "bagging, val_score: 0.465903:  30%|###       | 3/10 [00:07<00:17,  2.48s/it]\u001b[32m[I 2022-03-21 15:03:48,838]\u001b[0m Trial 29 finished with value: 0.46771454190711775 and parameters: {'bagging_fraction': 0.800916479901486, 'bagging_freq': 7}. Best is trial 28 with value: 0.4668914159400346.\u001b[0m\n",
      "bagging, val_score: 0.465903:  30%|###       | 3/10 [00:07<00:17,  2.48s/it]"
     ]
    },
    {
     "name": "stdout",
     "output_type": "stream",
     "text": [
      "Early stopping, best iteration is:\n",
      "[73]\tvalid_0's binary_logloss: 0.425654\tvalid_1's binary_logloss: 0.467715\n",
      "Training until validation scores don't improve for 10 rounds\n"
     ]
    },
    {
     "name": "stderr",
     "output_type": "stream",
     "text": [
      "bagging, val_score: 0.465903:  40%|####      | 4/10 [00:09<00:14,  2.39s/it]\u001b[32m[I 2022-03-21 15:03:51,026]\u001b[0m Trial 30 finished with value: 0.4703516728094533 and parameters: {'bagging_fraction': 0.43676068859894157, 'bagging_freq': 1}. Best is trial 28 with value: 0.4668914159400346.\u001b[0m\n",
      "bagging, val_score: 0.465903:  40%|####      | 4/10 [00:09<00:14,  2.39s/it]"
     ]
    },
    {
     "name": "stdout",
     "output_type": "stream",
     "text": [
      "Early stopping, best iteration is:\n",
      "[37]\tvalid_0's binary_logloss: 0.448639\tvalid_1's binary_logloss: 0.470352\n",
      "Training until validation scores don't improve for 10 rounds\n"
     ]
    },
    {
     "name": "stderr",
     "output_type": "stream",
     "text": [
      "bagging, val_score: 0.465903:  50%|#####     | 5/10 [00:12<00:11,  2.39s/it]\u001b[32m[I 2022-03-21 15:03:53,426]\u001b[0m Trial 31 finished with value: 0.4665634824290026 and parameters: {'bagging_fraction': 0.8611628442509367, 'bagging_freq': 1}. Best is trial 31 with value: 0.4665634824290026.\u001b[0m\n",
      "bagging, val_score: 0.465903:  50%|#####     | 5/10 [00:12<00:11,  2.39s/it]"
     ]
    },
    {
     "name": "stdout",
     "output_type": "stream",
     "text": [
      "Early stopping, best iteration is:\n",
      "[49]\tvalid_0's binary_logloss: 0.439386\tvalid_1's binary_logloss: 0.466563\n",
      "Training until validation scores don't improve for 10 rounds\n"
     ]
    },
    {
     "name": "stderr",
     "output_type": "stream",
     "text": [
      "bagging, val_score: 0.465903:  60%|######    | 6/10 [00:15<00:10,  2.62s/it]\u001b[32m[I 2022-03-21 15:03:56,555]\u001b[0m Trial 32 finished with value: 0.4683795814095057 and parameters: {'bagging_fraction': 0.8728787792497965, 'bagging_freq': 4}. Best is trial 31 with value: 0.4665634824290026.\u001b[0m\n",
      "bagging, val_score: 0.465903:  60%|######    | 6/10 [00:15<00:10,  2.62s/it]"
     ]
    },
    {
     "name": "stdout",
     "output_type": "stream",
     "text": [
      "Early stopping, best iteration is:\n",
      "[50]\tvalid_0's binary_logloss: 0.438807\tvalid_1's binary_logloss: 0.46838\n",
      "Training until validation scores don't improve for 10 rounds\n"
     ]
    },
    {
     "name": "stderr",
     "output_type": "stream",
     "text": [
      "bagging, val_score: 0.465903:  70%|#######   | 7/10 [00:17<00:07,  2.44s/it]\u001b[32m[I 2022-03-21 15:03:58,579]\u001b[0m Trial 33 finished with value: 0.47059480956791716 and parameters: {'bagging_fraction': 0.46398008373021704, 'bagging_freq': 5}. Best is trial 31 with value: 0.4665634824290026.\u001b[0m\n",
      "bagging, val_score: 0.465903:  70%|#######   | 7/10 [00:17<00:07,  2.44s/it]"
     ]
    },
    {
     "name": "stdout",
     "output_type": "stream",
     "text": [
      "Early stopping, best iteration is:\n",
      "[40]\tvalid_0's binary_logloss: 0.446653\tvalid_1's binary_logloss: 0.470595\n",
      "Training until validation scores don't improve for 10 rounds\n"
     ]
    },
    {
     "name": "stderr",
     "output_type": "stream",
     "text": [
      "bagging, val_score: 0.465903:  80%|########  | 8/10 [00:20<00:05,  2.57s/it]\u001b[32m[I 2022-03-21 15:04:01,472]\u001b[0m Trial 34 finished with value: 0.46791413498850953 and parameters: {'bagging_fraction': 0.8498016066494237, 'bagging_freq': 2}. Best is trial 31 with value: 0.4665634824290026.\u001b[0m\n",
      "bagging, val_score: 0.465903:  80%|########  | 8/10 [00:20<00:05,  2.57s/it]"
     ]
    },
    {
     "name": "stdout",
     "output_type": "stream",
     "text": [
      "Early stopping, best iteration is:\n",
      "[61]\tvalid_0's binary_logloss: 0.43222\tvalid_1's binary_logloss: 0.467914\n",
      "Training until validation scores don't improve for 10 rounds\n"
     ]
    },
    {
     "name": "stderr",
     "output_type": "stream",
     "text": [
      "bagging, val_score: 0.465903:  90%|######### | 9/10 [00:22<00:02,  2.55s/it]\u001b[32m[I 2022-03-21 15:04:03,959]\u001b[0m Trial 35 finished with value: 0.4661064673402401 and parameters: {'bagging_fraction': 0.9674092717393806, 'bagging_freq': 3}. Best is trial 35 with value: 0.4661064673402401.\u001b[0m\n",
      "bagging, val_score: 0.465903:  90%|######### | 9/10 [00:22<00:02,  2.55s/it]"
     ]
    },
    {
     "name": "stdout",
     "output_type": "stream",
     "text": [
      "Early stopping, best iteration is:\n",
      "[52]\tvalid_0's binary_logloss: 0.43773\tvalid_1's binary_logloss: 0.466106\n",
      "Training until validation scores don't improve for 10 rounds\n"
     ]
    },
    {
     "name": "stderr",
     "output_type": "stream",
     "text": [
      "bagging, val_score: 0.465726: 100%|##########| 10/10 [00:25<00:00,  2.73s/it]\u001b[32m[I 2022-03-21 15:04:07,106]\u001b[0m Trial 36 finished with value: 0.4657257247796287 and parameters: {'bagging_fraction': 0.9834622214210752, 'bagging_freq': 6}. Best is trial 36 with value: 0.4657257247796287.\u001b[0m\n",
      "bagging, val_score: 0.465726: 100%|##########| 10/10 [00:25<00:00,  2.60s/it]\n",
      "feature_fraction_stage2, val_score: 0.465726:   0%|          | 0/6 [00:00<?, ?it/s]"
     ]
    },
    {
     "name": "stdout",
     "output_type": "stream",
     "text": [
      "Early stopping, best iteration is:\n",
      "[78]\tvalid_0's binary_logloss: 0.422472\tvalid_1's binary_logloss: 0.465726\n",
      "Training until validation scores don't improve for 10 rounds\n"
     ]
    },
    {
     "name": "stderr",
     "output_type": "stream",
     "text": [
      "feature_fraction_stage2, val_score: 0.465726:  17%|#6        | 1/6 [00:02<00:13,  2.66s/it]\u001b[32m[I 2022-03-21 15:04:09,776]\u001b[0m Trial 37 finished with value: 0.4660953894927217 and parameters: {'feature_fraction': 0.616}. Best is trial 37 with value: 0.4660953894927217.\u001b[0m\n",
      "feature_fraction_stage2, val_score: 0.465726:  17%|#6        | 1/6 [00:02<00:13,  2.66s/it]"
     ]
    },
    {
     "name": "stdout",
     "output_type": "stream",
     "text": [
      "Early stopping, best iteration is:\n",
      "[68]\tvalid_0's binary_logloss: 0.428669\tvalid_1's binary_logloss: 0.466095\n",
      "Training until validation scores don't improve for 10 rounds\n"
     ]
    },
    {
     "name": "stderr",
     "output_type": "stream",
     "text": [
      "feature_fraction_stage2, val_score: 0.465726:  33%|###3      | 2/6 [00:05<00:11,  2.84s/it]\u001b[32m[I 2022-03-21 15:04:13,044]\u001b[0m Trial 38 finished with value: 0.4670658446272603 and parameters: {'feature_fraction': 0.552}. Best is trial 37 with value: 0.4660953894927217.\u001b[0m\n",
      "feature_fraction_stage2, val_score: 0.465726:  33%|###3      | 2/6 [00:05<00:11,  2.84s/it]"
     ]
    },
    {
     "name": "stdout",
     "output_type": "stream",
     "text": [
      "Early stopping, best iteration is:\n",
      "[55]\tvalid_0's binary_logloss: 0.436308\tvalid_1's binary_logloss: 0.467066\n",
      "Training until validation scores don't improve for 10 rounds\n"
     ]
    },
    {
     "name": "stderr",
     "output_type": "stream",
     "text": [
      "feature_fraction_stage2, val_score: 0.465726:  50%|#####     | 3/6 [00:08<00:08,  2.80s/it]\u001b[32m[I 2022-03-21 15:04:15,743]\u001b[0m Trial 39 finished with value: 0.4663645509140586 and parameters: {'feature_fraction': 0.584}. Best is trial 37 with value: 0.4660953894927217.\u001b[0m\n",
      "feature_fraction_stage2, val_score: 0.465726:  50%|#####     | 3/6 [00:08<00:08,  2.80s/it]"
     ]
    },
    {
     "name": "stdout",
     "output_type": "stream",
     "text": [
      "Early stopping, best iteration is:\n",
      "[74]\tvalid_0's binary_logloss: 0.425359\tvalid_1's binary_logloss: 0.466365\n",
      "Training until validation scores don't improve for 10 rounds\n"
     ]
    },
    {
     "name": "stderr",
     "output_type": "stream",
     "text": [
      "feature_fraction_stage2, val_score: 0.465726:  67%|######6   | 4/6 [00:11<00:05,  2.75s/it]\u001b[32m[I 2022-03-21 15:04:18,370]\u001b[0m Trial 40 finished with value: 0.46751792575635465 and parameters: {'feature_fraction': 0.6479999999999999}. Best is trial 37 with value: 0.4660953894927217.\u001b[0m\n",
      "feature_fraction_stage2, val_score: 0.465726:  67%|######6   | 4/6 [00:11<00:05,  2.75s/it]"
     ]
    },
    {
     "name": "stdout",
     "output_type": "stream",
     "text": [
      "Early stopping, best iteration is:\n",
      "[44]\tvalid_0's binary_logloss: 0.442566\tvalid_1's binary_logloss: 0.467518\n",
      "Training until validation scores don't improve for 10 rounds\n"
     ]
    },
    {
     "name": "stderr",
     "output_type": "stream",
     "text": [
      "feature_fraction_stage2, val_score: 0.465726:  83%|########3 | 5/6 [00:13<00:02,  2.68s/it]\u001b[32m[I 2022-03-21 15:04:20,909]\u001b[0m Trial 41 finished with value: 0.4661937286135145 and parameters: {'feature_fraction': 0.52}. Best is trial 37 with value: 0.4660953894927217.\u001b[0m\n",
      "feature_fraction_stage2, val_score: 0.465726:  83%|########3 | 5/6 [00:13<00:02,  2.68s/it]"
     ]
    },
    {
     "name": "stdout",
     "output_type": "stream",
     "text": [
      "Early stopping, best iteration is:\n",
      "[67]\tvalid_0's binary_logloss: 0.429616\tvalid_1's binary_logloss: 0.466194\n",
      "Training until validation scores don't improve for 10 rounds\n"
     ]
    },
    {
     "name": "stderr",
     "output_type": "stream",
     "text": [
      "feature_fraction_stage2, val_score: 0.465726: 100%|##########| 6/6 [00:17<00:00,  2.86s/it]\u001b[32m[I 2022-03-21 15:04:24,193]\u001b[0m Trial 42 finished with value: 0.4669325307309065 and parameters: {'feature_fraction': 0.6799999999999999}. Best is trial 37 with value: 0.4660953894927217.\u001b[0m\n",
      "feature_fraction_stage2, val_score: 0.465726: 100%|##########| 6/6 [00:17<00:00,  2.85s/it]\n",
      "regularization_factors, val_score: 0.465726:   0%|          | 0/20 [00:00<?, ?it/s]"
     ]
    },
    {
     "name": "stdout",
     "output_type": "stream",
     "text": [
      "Early stopping, best iteration is:\n",
      "[67]\tvalid_0's binary_logloss: 0.428687\tvalid_1's binary_logloss: 0.466933\n",
      "Training until validation scores don't improve for 10 rounds\n"
     ]
    },
    {
     "name": "stderr",
     "output_type": "stream",
     "text": [
      "regularization_factors, val_score: 0.465726:   5%|5         | 1/20 [00:03<00:58,  3.06s/it]\u001b[32m[I 2022-03-21 15:04:27,269]\u001b[0m Trial 43 finished with value: 0.46573097606482566 and parameters: {'lambda_l1': 2.863301990815536, 'lambda_l2': 3.4790455302610253e-06}. Best is trial 43 with value: 0.46573097606482566.\u001b[0m\n",
      "regularization_factors, val_score: 0.465726:   5%|5         | 1/20 [00:03<00:58,  3.06s/it]"
     ]
    },
    {
     "name": "stdout",
     "output_type": "stream",
     "text": [
      "Early stopping, best iteration is:\n",
      "[84]\tvalid_0's binary_logloss: 0.424428\tvalid_1's binary_logloss: 0.465731\n",
      "Training until validation scores don't improve for 10 rounds\n"
     ]
    },
    {
     "name": "stderr",
     "output_type": "stream",
     "text": [
      "regularization_factors, val_score: 0.465655:  10%|#         | 2/20 [00:06<00:55,  3.08s/it]\u001b[32m[I 2022-03-21 15:04:30,387]\u001b[0m Trial 44 finished with value: 0.4656551305629859 and parameters: {'lambda_l1': 3.4423400389106476e-07, 'lambda_l2': 0.09432504485912582}. Best is trial 44 with value: 0.4656551305629859.\u001b[0m\n",
      "regularization_factors, val_score: 0.465655:  10%|#         | 2/20 [00:06<00:55,  3.08s/it]"
     ]
    },
    {
     "name": "stdout",
     "output_type": "stream",
     "text": [
      "Early stopping, best iteration is:\n",
      "[61]\tvalid_0's binary_logloss: 0.432217\tvalid_1's binary_logloss: 0.465655\n",
      "Training until validation scores don't improve for 10 rounds\n"
     ]
    },
    {
     "name": "stderr",
     "output_type": "stream",
     "text": [
      "regularization_factors, val_score: 0.465655:  15%|#5        | 3/20 [00:09<00:51,  3.02s/it]\u001b[32m[I 2022-03-21 15:04:33,258]\u001b[0m Trial 45 finished with value: 0.4657907454594751 and parameters: {'lambda_l1': 0.0001919799916682511, 'lambda_l2': 0.000751442757881295}. Best is trial 44 with value: 0.4656551305629859.\u001b[0m\n",
      "regularization_factors, val_score: 0.465655:  15%|#5        | 3/20 [00:09<00:51,  3.02s/it]"
     ]
    },
    {
     "name": "stdout",
     "output_type": "stream",
     "text": [
      "Early stopping, best iteration is:\n",
      "[81]\tvalid_0's binary_logloss: 0.421125\tvalid_1's binary_logloss: 0.465791\n",
      "Training until validation scores don't improve for 10 rounds\n"
     ]
    },
    {
     "name": "stderr",
     "output_type": "stream",
     "text": [
      "regularization_factors, val_score: 0.465655:  20%|##        | 4/20 [00:12<00:50,  3.13s/it]\u001b[32m[I 2022-03-21 15:04:36,654]\u001b[0m Trial 46 finished with value: 0.4661291894118331 and parameters: {'lambda_l1': 0.0002712016319554973, 'lambda_l2': 9.029215989230533}. Best is trial 44 with value: 0.4656551305629859.\u001b[0m\n",
      "regularization_factors, val_score: 0.465655:  20%|##        | 4/20 [00:12<00:50,  3.13s/it]"
     ]
    },
    {
     "name": "stdout",
     "output_type": "stream",
     "text": [
      "Early stopping, best iteration is:\n",
      "[88]\tvalid_0's binary_logloss: 0.425522\tvalid_1's binary_logloss: 0.466129\n",
      "Training until validation scores don't improve for 10 rounds\n"
     ]
    },
    {
     "name": "stderr",
     "output_type": "stream",
     "text": [
      "regularization_factors, val_score: 0.465655:  25%|##5       | 5/20 [00:15<00:47,  3.17s/it]\u001b[32m[I 2022-03-21 15:04:39,910]\u001b[0m Trial 47 finished with value: 0.4657257247564612 and parameters: {'lambda_l1': 8.324694813768678e-08, 'lambda_l2': 1.6091800364762935e-08}. Best is trial 44 with value: 0.4656551305629859.\u001b[0m\n",
      "regularization_factors, val_score: 0.465655:  25%|##5       | 5/20 [00:15<00:47,  3.17s/it]"
     ]
    },
    {
     "name": "stdout",
     "output_type": "stream",
     "text": [
      "Early stopping, best iteration is:\n",
      "[78]\tvalid_0's binary_logloss: 0.422472\tvalid_1's binary_logloss: 0.465726\n",
      "Training until validation scores don't improve for 10 rounds\n"
     ]
    },
    {
     "name": "stderr",
     "output_type": "stream",
     "text": [
      "regularization_factors, val_score: 0.465655:  30%|###       | 6/20 [00:18<00:42,  3.05s/it]\u001b[32m[I 2022-03-21 15:04:42,691]\u001b[0m Trial 48 finished with value: 0.46666749528766355 and parameters: {'lambda_l1': 0.16713734187574147, 'lambda_l2': 0.003311629857561789}. Best is trial 44 with value: 0.4656551305629859.\u001b[0m\n",
      "regularization_factors, val_score: 0.465655:  30%|###       | 6/20 [00:18<00:42,  3.05s/it]"
     ]
    },
    {
     "name": "stdout",
     "output_type": "stream",
     "text": [
      "Early stopping, best iteration is:\n",
      "[61]\tvalid_0's binary_logloss: 0.432067\tvalid_1's binary_logloss: 0.466667\n",
      "Training until validation scores don't improve for 10 rounds\n"
     ]
    },
    {
     "name": "stderr",
     "output_type": "stream",
     "text": [
      "regularization_factors, val_score: 0.465641:  35%|###5      | 7/20 [00:22<00:41,  3.19s/it]\u001b[32m[I 2022-03-21 15:04:46,212]\u001b[0m Trial 49 finished with value: 0.4656413068633415 and parameters: {'lambda_l1': 1.4491271468232854, 'lambda_l2': 0.148702394420231}. Best is trial 49 with value: 0.4656413068633415.\u001b[0m\n",
      "regularization_factors, val_score: 0.465641:  35%|###5      | 7/20 [00:22<00:41,  3.19s/it]"
     ]
    },
    {
     "name": "stdout",
     "output_type": "stream",
     "text": [
      "Early stopping, best iteration is:\n",
      "[68]\tvalid_0's binary_logloss: 0.430302\tvalid_1's binary_logloss: 0.465641\n",
      "Training until validation scores don't improve for 10 rounds\n"
     ]
    },
    {
     "name": "stderr",
     "output_type": "stream",
     "text": [
      "regularization_factors, val_score: 0.465613:  40%|####      | 8/20 [00:24<00:36,  3.04s/it]\u001b[32m[I 2022-03-21 15:04:48,898]\u001b[0m Trial 50 finished with value: 0.46561269460272386 and parameters: {'lambda_l1': 1.2666076709097942, 'lambda_l2': 0.13231185657899294}. Best is trial 50 with value: 0.46561269460272386.\u001b[0m\n",
      "regularization_factors, val_score: 0.465613:  40%|####      | 8/20 [00:24<00:36,  3.04s/it]"
     ]
    },
    {
     "name": "stdout",
     "output_type": "stream",
     "text": [
      "Early stopping, best iteration is:\n",
      "[64]\tvalid_0's binary_logloss: 0.432619\tvalid_1's binary_logloss: 0.465613\n",
      "Training until validation scores don't improve for 10 rounds\n"
     ]
    },
    {
     "name": "stderr",
     "output_type": "stream",
     "text": [
      "regularization_factors, val_score: 0.465613:  45%|####5     | 9/20 [00:27<00:33,  3.07s/it]\u001b[32m[I 2022-03-21 15:04:52,045]\u001b[0m Trial 51 finished with value: 0.4663374554111924 and parameters: {'lambda_l1': 0.00016510264374323995, 'lambda_l2': 1.036893735211795}. Best is trial 50 with value: 0.46561269460272386.\u001b[0m\n",
      "regularization_factors, val_score: 0.465613:  45%|####5     | 9/20 [00:27<00:33,  3.07s/it]"
     ]
    },
    {
     "name": "stdout",
     "output_type": "stream",
     "text": [
      "Early stopping, best iteration is:\n",
      "[63]\tvalid_0's binary_logloss: 0.432737\tvalid_1's binary_logloss: 0.466337\n",
      "Training until validation scores don't improve for 10 rounds\n"
     ]
    },
    {
     "name": "stderr",
     "output_type": "stream",
     "text": [
      "regularization_factors, val_score: 0.465613:  50%|#####     | 10/20 [00:30<00:30,  3.06s/it]\u001b[32m[I 2022-03-21 15:04:55,076]\u001b[0m Trial 52 finished with value: 0.46579103619954365 and parameters: {'lambda_l1': 1.0801401384937103e-06, 'lambda_l2': 0.0002509762116202364}. Best is trial 50 with value: 0.46561269460272386.\u001b[0m\n",
      "regularization_factors, val_score: 0.465613:  50%|#####     | 10/20 [00:30<00:30,  3.06s/it]"
     ]
    },
    {
     "name": "stdout",
     "output_type": "stream",
     "text": [
      "Early stopping, best iteration is:\n",
      "[81]\tvalid_0's binary_logloss: 0.421123\tvalid_1's binary_logloss: 0.465791\n",
      "Training until validation scores don't improve for 10 rounds\n"
     ]
    },
    {
     "name": "stderr",
     "output_type": "stream",
     "text": [
      "regularization_factors, val_score: 0.465613:  55%|#####5    | 11/20 [00:33<00:27,  3.05s/it]\u001b[32m[I 2022-03-21 15:04:58,088]\u001b[0m Trial 53 finished with value: 0.4666777628593891 and parameters: {'lambda_l1': 0.022452416257076835, 'lambda_l2': 7.780219132936525e-07}. Best is trial 50 with value: 0.46561269460272386.\u001b[0m\n",
      "regularization_factors, val_score: 0.465613:  55%|#####5    | 11/20 [00:33<00:27,  3.05s/it]"
     ]
    },
    {
     "name": "stdout",
     "output_type": "stream",
     "text": [
      "Early stopping, best iteration is:\n",
      "[69]\tvalid_0's binary_logloss: 0.42725\tvalid_1's binary_logloss: 0.466678\n",
      "Training until validation scores don't improve for 10 rounds\n",
      "[100]\tvalid_0's binary_logloss: 0.422885\tvalid_1's binary_logloss: 0.465387\n",
      "Early stopping, best iteration is:\n",
      "[101]\tvalid_0's binary_logloss: 0.422535\tvalid_1's binary_logloss: 0.465314"
     ]
    },
    {
     "name": "stderr",
     "output_type": "stream",
     "text": [
      "regularization_factors, val_score: 0.465314:  60%|######    | 12/20 [00:38<00:27,  3.43s/it]\u001b[32m[I 2022-03-21 15:05:02,406]\u001b[0m Trial 54 finished with value: 0.4653136135537174 and parameters: {'lambda_l1': 5.792531211716478, 'lambda_l2': 0.06219810382611309}. Best is trial 54 with value: 0.4653136135537174.\u001b[0m\n",
      "regularization_factors, val_score: 0.465314:  60%|######    | 12/20 [00:38<00:27,  3.43s/it]"
     ]
    },
    {
     "name": "stdout",
     "output_type": "stream",
     "text": [
      "\n",
      "Training until validation scores don't improve for 10 rounds\n"
     ]
    },
    {
     "name": "stderr",
     "output_type": "stream",
     "text": [
      "regularization_factors, val_score: 0.465314:  65%|######5   | 13/20 [00:40<00:22,  3.17s/it]\u001b[32m[I 2022-03-21 15:05:04,975]\u001b[0m Trial 55 finished with value: 0.4662842689470536 and parameters: {'lambda_l1': 0.03419283150592357, 'lambda_l2': 0.016730565355298287}. Best is trial 54 with value: 0.4653136135537174.\u001b[0m\n",
      "regularization_factors, val_score: 0.465314:  65%|######5   | 13/20 [00:40<00:22,  3.17s/it]"
     ]
    },
    {
     "name": "stdout",
     "output_type": "stream",
     "text": [
      "Early stopping, best iteration is:\n",
      "[60]\tvalid_0's binary_logloss: 0.432853\tvalid_1's binary_logloss: 0.466284\n",
      "Training until validation scores don't improve for 10 rounds\n"
     ]
    },
    {
     "name": "stderr",
     "output_type": "stream",
     "text": [
      "regularization_factors, val_score: 0.465314:  70%|#######   | 14/20 [00:44<00:19,  3.25s/it]\u001b[32m[I 2022-03-21 15:05:08,425]\u001b[0m Trial 56 finished with value: 0.46539277519753813 and parameters: {'lambda_l1': 6.13422737723487, 'lambda_l2': 9.163286857968444}. Best is trial 54 with value: 0.4653136135537174.\u001b[0m\n",
      "regularization_factors, val_score: 0.465314:  70%|#######   | 14/20 [00:44<00:19,  3.25s/it]"
     ]
    },
    {
     "name": "stdout",
     "output_type": "stream",
     "text": [
      "Early stopping, best iteration is:\n",
      "[75]\tvalid_0's binary_logloss: 0.43549\tvalid_1's binary_logloss: 0.465393\n",
      "Training until validation scores don't improve for 10 rounds\n"
     ]
    },
    {
     "name": "stderr",
     "output_type": "stream",
     "text": [
      "regularization_factors, val_score: 0.465314:  75%|#######5  | 15/20 [00:47<00:16,  3.21s/it]\u001b[32m[I 2022-03-21 15:05:11,546]\u001b[0m Trial 57 finished with value: 0.46611646936675566 and parameters: {'lambda_l1': 0.00921144348224726, 'lambda_l2': 8.79202123318962}. Best is trial 54 with value: 0.4653136135537174.\u001b[0m\n",
      "regularization_factors, val_score: 0.465314:  75%|#######5  | 15/20 [00:47<00:16,  3.21s/it]"
     ]
    },
    {
     "name": "stdout",
     "output_type": "stream",
     "text": [
      "Early stopping, best iteration is:\n",
      "[73]\tvalid_0's binary_logloss: 0.43231\tvalid_1's binary_logloss: 0.466116\n",
      "Training until validation scores don't improve for 10 rounds\n"
     ]
    },
    {
     "name": "stderr",
     "output_type": "stream",
     "text": [
      "regularization_factors, val_score: 0.465314:  80%|########  | 16/20 [00:50<00:12,  3.15s/it]\u001b[32m[I 2022-03-21 15:05:14,553]\u001b[0m Trial 58 finished with value: 0.46569596171337746 and parameters: {'lambda_l1': 5.292151566538273, 'lambda_l2': 0.8749919617759291}. Best is trial 54 with value: 0.4653136135537174.\u001b[0m\n",
      "regularization_factors, val_score: 0.465314:  80%|########  | 16/20 [00:50<00:12,  3.15s/it]"
     ]
    },
    {
     "name": "stdout",
     "output_type": "stream",
     "text": [
      "Early stopping, best iteration is:\n",
      "[63]\tvalid_0's binary_logloss: 0.438041\tvalid_1's binary_logloss: 0.465696\n",
      "Training until validation scores don't improve for 10 rounds\n"
     ]
    },
    {
     "name": "stderr",
     "output_type": "stream",
     "text": [
      "regularization_factors, val_score: 0.465314:  85%|########5 | 17/20 [00:53<00:09,  3.10s/it]\u001b[32m[I 2022-03-21 15:05:17,523]\u001b[0m Trial 59 finished with value: 0.46623153861010996 and parameters: {'lambda_l1': 0.004145130224076027, 'lambda_l2': 3.0690185763246866e-05}. Best is trial 54 with value: 0.4653136135537174.\u001b[0m\n",
      "regularization_factors, val_score: 0.465314:  85%|########5 | 17/20 [00:53<00:09,  3.10s/it]"
     ]
    },
    {
     "name": "stdout",
     "output_type": "stream",
     "text": [
      "Early stopping, best iteration is:\n",
      "[61]\tvalid_0's binary_logloss: 0.43222\tvalid_1's binary_logloss: 0.466232\n",
      "Training until validation scores don't improve for 10 rounds\n"
     ]
    },
    {
     "name": "stderr",
     "output_type": "stream",
     "text": [
      "regularization_factors, val_score: 0.465314:  90%|######### | 18/20 [00:56<00:06,  3.10s/it]\u001b[32m[I 2022-03-21 15:05:20,645]\u001b[0m Trial 60 finished with value: 0.46617605279402125 and parameters: {'lambda_l1': 6.996622741743034e-06, 'lambda_l2': 0.010414840331201713}. Best is trial 54 with value: 0.4653136135537174.\u001b[0m\n",
      "regularization_factors, val_score: 0.465314:  90%|######### | 18/20 [00:56<00:06,  3.10s/it]"
     ]
    },
    {
     "name": "stdout",
     "output_type": "stream",
     "text": [
      "Early stopping, best iteration is:\n",
      "[85]\tvalid_0's binary_logloss: 0.418713\tvalid_1's binary_logloss: 0.466176\n",
      "Training until validation scores don't improve for 10 rounds\n"
     ]
    },
    {
     "name": "stderr",
     "output_type": "stream",
     "text": [
      "regularization_factors, val_score: 0.465314:  95%|#########5| 19/20 [00:58<00:02,  2.94s/it]\u001b[32m[I 2022-03-21 15:05:23,200]\u001b[0m Trial 61 finished with value: 0.46579062340530225 and parameters: {'lambda_l1': 0.17431176731372885, 'lambda_l2': 1.7898677567825523}. Best is trial 54 with value: 0.4653136135537174.\u001b[0m\n",
      "regularization_factors, val_score: 0.465314:  95%|#########5| 19/20 [00:58<00:02,  2.94s/it]"
     ]
    },
    {
     "name": "stdout",
     "output_type": "stream",
     "text": [
      "Early stopping, best iteration is:\n",
      "[54]\tvalid_0's binary_logloss: 0.438524\tvalid_1's binary_logloss: 0.465791\n",
      "Training until validation scores don't improve for 10 rounds\n"
     ]
    },
    {
     "name": "stderr",
     "output_type": "stream",
     "text": [
      "regularization_factors, val_score: 0.465314: 100%|##########| 20/20 [01:01<00:00,  2.94s/it]\u001b[32m[I 2022-03-21 15:05:26,143]\u001b[0m Trial 62 finished with value: 0.4663118566055001 and parameters: {'lambda_l1': 0.2510503498137443, 'lambda_l2': 0.04790010254768029}. Best is trial 54 with value: 0.4653136135537174.\u001b[0m\n",
      "regularization_factors, val_score: 0.465314: 100%|##########| 20/20 [01:01<00:00,  3.10s/it]\n",
      "min_data_in_leaf, val_score: 0.465314:   0%|          | 0/5 [00:00<?, ?it/s]"
     ]
    },
    {
     "name": "stdout",
     "output_type": "stream",
     "text": [
      "Early stopping, best iteration is:\n",
      "[67]\tvalid_0's binary_logloss: 0.429232\tvalid_1's binary_logloss: 0.466312\n",
      "Training until validation scores don't improve for 10 rounds\n"
     ]
    },
    {
     "name": "stderr",
     "output_type": "stream",
     "text": [
      "min_data_in_leaf, val_score: 0.465314:  20%|##        | 1/5 [00:04<00:16,  4.01s/it]\u001b[32m[I 2022-03-21 15:05:30,162]\u001b[0m Trial 63 finished with value: 0.4657622655811081 and parameters: {'min_child_samples': 5}. Best is trial 63 with value: 0.4657622655811081.\u001b[0m\n",
      "min_data_in_leaf, val_score: 0.465314:  20%|##        | 1/5 [00:04<00:16,  4.01s/it]"
     ]
    },
    {
     "name": "stdout",
     "output_type": "stream",
     "text": [
      "[100]\tvalid_0's binary_logloss: 0.422994\tvalid_1's binary_logloss: 0.466051\n",
      "Early stopping, best iteration is:\n",
      "[92]\tvalid_0's binary_logloss: 0.426046\tvalid_1's binary_logloss: 0.465762\n",
      "Training until validation scores don't improve for 10 rounds\n"
     ]
    },
    {
     "name": "stderr",
     "output_type": "stream",
     "text": [
      "min_data_in_leaf, val_score: 0.464886:  40%|####      | 2/5 [00:07<00:11,  3.91s/it]\u001b[32m[I 2022-03-21 15:05:33,842]\u001b[0m Trial 64 finished with value: 0.4648855201085171 and parameters: {'min_child_samples': 50}. Best is trial 64 with value: 0.4648855201085171.\u001b[0m\n",
      "min_data_in_leaf, val_score: 0.464886:  40%|####      | 2/5 [00:07<00:11,  3.91s/it]"
     ]
    },
    {
     "name": "stdout",
     "output_type": "stream",
     "text": [
      "Early stopping, best iteration is:\n",
      "[74]\tvalid_0's binary_logloss: 0.433085\tvalid_1's binary_logloss: 0.464886\n",
      "Training until validation scores don't improve for 10 rounds\n",
      "[100]\tvalid_0's binary_logloss: 0.422584\tvalid_1's binary_logloss: 0.465762\n",
      "Early stopping, best iteration is:\n",
      "[99]\tvalid_0's binary_logloss: 0.422973\tvalid_1's binary_logloss: 0.465628\n"
     ]
    },
    {
     "name": "stderr",
     "output_type": "stream",
     "text": [
      "min_data_in_leaf, val_score: 0.464886:  60%|######    | 3/5 [00:11<00:07,  3.92s/it]\u001b[32m[I 2022-03-21 15:05:37,789]\u001b[0m Trial 65 finished with value: 0.4656276305857161 and parameters: {'min_child_samples': 25}. Best is trial 64 with value: 0.4648855201085171.\u001b[0m\n",
      "min_data_in_leaf, val_score: 0.464886:  60%|######    | 3/5 [00:11<00:07,  3.92s/it]"
     ]
    },
    {
     "name": "stdout",
     "output_type": "stream",
     "text": [
      "Training until validation scores don't improve for 10 rounds\n"
     ]
    },
    {
     "name": "stderr",
     "output_type": "stream",
     "text": [
      "min_data_in_leaf, val_score: 0.464639:  80%|########  | 4/5 [00:15<00:03,  3.82s/it]\u001b[32m[I 2022-03-21 15:05:41,391]\u001b[0m Trial 66 finished with value: 0.46463927705272734 and parameters: {'min_child_samples': 100}. Best is trial 66 with value: 0.46463927705272734.\u001b[0m\n",
      "min_data_in_leaf, val_score: 0.464639:  80%|########  | 4/5 [00:15<00:03,  3.82s/it]"
     ]
    },
    {
     "name": "stdout",
     "output_type": "stream",
     "text": [
      "Early stopping, best iteration is:\n",
      "[89]\tvalid_0's binary_logloss: 0.427335\tvalid_1's binary_logloss: 0.464639\n",
      "Training until validation scores don't improve for 10 rounds\n"
     ]
    },
    {
     "name": "stderr",
     "output_type": "stream",
     "text": [
      "min_data_in_leaf, val_score: 0.464639: 100%|##########| 5/5 [00:18<00:00,  3.57s/it]\u001b[32m[I 2022-03-21 15:05:44,359]\u001b[0m Trial 67 finished with value: 0.46592301853721513 and parameters: {'min_child_samples': 10}. Best is trial 66 with value: 0.46463927705272734.\u001b[0m\n",
      "min_data_in_leaf, val_score: 0.464639: 100%|##########| 5/5 [00:18<00:00,  3.64s/it]"
     ]
    },
    {
     "name": "stdout",
     "output_type": "stream",
     "text": [
      "Early stopping, best iteration is:\n",
      "[59]\tvalid_0's binary_logloss: 0.440623\tvalid_1's binary_logloss: 0.465923\n"
     ]
    },
    {
     "name": "stderr",
     "output_type": "stream",
     "text": [
      "\n"
     ]
    }
   ],
   "source": [
    "# データセットの作成\n",
    "lgb_train = lgb_o.Dataset(X_train.values, y_train.values)\n",
    "lgb_valid = lgb_o.Dataset(X_valid.values, y_valid.values)\n",
    "\n",
    "# チューニング実行\n",
    "params = {\n",
    "    'objective': 'binary',\n",
    "    'random_state': 100\n",
    "}\n",
    "\n",
    "lgb_clf_o = lgb_o.train(params, lgb_train, valid_sets=(lgb_train, lgb_valid), verbose_eval=100, early_stopping_rounds=10)"
   ]
  },
  {
   "cell_type": "markdown",
   "metadata": {},
   "source": [
    "1．あるハイパーパラメータを使って、lgb_trainで学習<br>\n",
    "2．そのモデルを使ってlgb_validで検証<br>\n",
    "3．検証結果を利用して、ハイパーパラメータを変えてlgb_trainで再学習<br>\n",
    "4．2～3を繰り返す"
   ]
  },
  {
   "cell_type": "code",
   "execution_count": 14,
   "metadata": {},
   "outputs": [
    {
     "data": {
      "text/plain": [
       "{'objective': 'binary',\n",
       " 'random_state': 100,\n",
       " 'feature_pre_filter': False,\n",
       " 'lambda_l1': 5.792531211716478,\n",
       " 'lambda_l2': 0.06219810382611309,\n",
       " 'num_leaves': 31,\n",
       " 'feature_fraction': 0.6,\n",
       " 'bagging_fraction': 0.9834622214210752,\n",
       " 'bagging_freq': 6,\n",
       " 'min_child_samples': 100}"
      ]
     },
     "execution_count": 14,
     "metadata": {},
     "output_type": "execute_result"
    }
   ],
   "source": [
    "lgb_clf_o.params"
   ]
  },
  {
   "cell_type": "code",
   "execution_count": 15,
   "metadata": {},
   "outputs": [
    {
     "data": {
      "text/plain": [
       "LGBMClassifier(bagging_fraction=0.9834622214210752, bagging_freq=6,\n",
       "               feature_fraction=0.6, feature_pre_filter=False,\n",
       "               lambda_l1=5.792531211716478, lambda_l2=0.06219810382611309,\n",
       "               min_child_samples=100, objective='binary', random_state=100)"
      ]
     },
     "execution_count": 15,
     "metadata": {},
     "output_type": "execute_result"
    }
   ],
   "source": [
    "lgb_clf = lgb.LGBMClassifier(**lgb_clf_o.params)\n",
    "lgb_clf.fit(X_train.values, y_train.values)"
   ]
  },
  {
   "cell_type": "code",
   "execution_count": 17,
   "metadata": {},
   "outputs": [],
   "source": [
    "me2 = ModelEvaluator(lgb_clf, 'return_tables.pickle')"
   ]
  },
  {
   "cell_type": "code",
   "execution_count": 18,
   "metadata": {},
   "outputs": [
    {
     "name": "stderr",
     "output_type": "stream",
     "text": [
      "100%|██████████| 100/100 [03:05<00:00,  1.85s/it]\n"
     ]
    }
   ],
   "source": [
    "gain_optuna = gain(me2.tansho_return_proper, X_test)"
   ]
  },
  {
   "cell_type": "code",
   "execution_count": 19,
   "metadata": {},
   "outputs": [
    {
     "data": {
      "image/png": "[encoded data removed]",
      "text/plain": [
       "<Figure size 720x576 with 1 Axes>"
      ]
     },
     "metadata": {
      "needs_background": "light"
     },
     "output_type": "display_data"
    }
   ],
   "source": [
    "plt.figure(figsize=(10, 8))\n",
    "gain_proper.rename('proper').plot(legend=True)\n",
    "gain_optuna.rename('optuna').plot(legend=True)\n",
    "plt.grid()"
   ]
  },
  {
   "cell_type": "code",
   "execution_count": 20,
   "metadata": {},
   "outputs": [
    {
     "data": {
      "text/plain": [
       "1.306776185176064"
      ]
     },
     "execution_count": 20,
     "metadata": {},
     "output_type": "execute_result"
    }
   ],
   "source": [
    "gain_optuna.max()"
   ]
  },
  {
   "cell_type": "code",
   "execution_count": null,
   "metadata": {},
   "outputs": [],
   "source": []
  }
 ],
 "metadata": {
  "kernelspec": {
   "display_name": "Python 3",
   "language": "python",
   "name": "python3"
  },
  "language_info": {
   "codemirror_mode": {
    "name": "ipython",
    "version": 3
   },
   "file_extension": ".py",
   "mimetype": "text/x-python",
   "name": "python",
   "nbconvert_exporter": "python",
   "pygments_lexer": "ipython3",
   "version": "3.7.6"
  }
 },
 "nbformat": 4,
 "nbformat_minor": 4
}
