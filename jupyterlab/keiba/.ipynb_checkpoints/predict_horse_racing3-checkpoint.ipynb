{
 "cells": [
  {
   "cell_type": "markdown",
   "metadata": {},
   "source": [
    "### 1．インポート"
   ]
  },
  {
   "cell_type": "code",
   "execution_count": 1,
   "metadata": {},
   "outputs": [],
   "source": [
    "import pandas as pd\n",
    "import numpy as np\n",
    "import matplotlib.pyplot as plt\n",
    "import re\n",
    "import time\n",
    "import datetime\n",
    "import requests\n",
    "from tqdm import tqdm\n",
    "from bs4 import BeautifulSoup\n",
    "from sklearn.metrics import roc_auc_score\n",
    "from sklearn.preprocessing import LabelEncoder\n",
    "import lightgbm as lgb\n",
    "from urllib.request import urlopen"
   ]
  },
  {
   "cell_type": "markdown",
   "metadata": {},
   "source": [
    "### 1.1　クラス"
   ]
  },
  {
   "cell_type": "code",
   "execution_count": 2,
   "metadata": {},
   "outputs": [],
   "source": [
    "# 訓練データと出馬表データを加工する抽象クラス\n",
    "class DataProcessor:\n",
    "    def __init__(self):\n",
    "        self.data = pd.DataFrame()\n",
    "        # preprocessing後の変数\n",
    "        self.data_p = pd.DataFrame()\n",
    "        # horse_resultsをmergeした後の変数\n",
    "        self.data_h = pd.DataFrame()\n",
    "        # pedsをmergeした後の変数\n",
    "        self.data_pe = pd.DataFrame()\n",
    "        # カテゴリ変数化した後の変数\n",
    "        self.data_c = pd.DataFrame()\n",
    "        \n",
    "    # 馬の過去成績データの追加\n",
    "    def merge_horse_results(self, hr, n_samples_list=[5, 9, 'all']):\n",
    "        self.data_h = self.data_p.copy()\n",
    "        for n_samples in n_samples_list:\n",
    "            self.data_h = hr.merge_all(self.data_h, n_samples=n_samples)\n",
    "            \n",
    "    # 血統データ追加\n",
    "    def merge_peds(self, peds):\n",
    "        self.data_pe = self.data_h.merge(peds, left_on='horse_id', right_index=True, how='left')\n",
    "        self.no_peds = self.data_pe[self.data_pe['peds_0'].isnull()]['horse_id'].unique()\n",
    "        if len(self.no_peds):\n",
    "            print('scrape peds at horse_id_list \"no_peds\"')\n",
    "    \n",
    "    # カテゴリ変数の処理\n",
    "    def process_categorical(self, le_horse, le_jockey, results_m):\n",
    "        df = self.data_pe.copy()\n",
    "        \n",
    "        # ラベルエンコーディング(horse_id, jockey_idを0始まりの整数に変換)\n",
    "        # horse_id\n",
    "        mask_horse = df['horse_id'].isin(le_horse.classes_)\n",
    "        new_horse_id = df['horse_id'].mask(mask_horse).dropna().unique()\n",
    "        le_horse.classes_ = np.concatenate([le_horse.classes_, new_horse_id])\n",
    "        df['horse_id'] = le_horse.transform(df['horse_id'])\n",
    "        \n",
    "        # jockey_id\n",
    "        mask_jockey = df['jockey_id'].isin(le_jockey.classes_)\n",
    "        new_jockey_id = df['jockey_id'].mask(mask_jockey).dropna().unique()\n",
    "        le_jockey.classes_ = np.concatenate([le_jockey.classes_, new_jockey_id])\n",
    "        df['jockey_id'] = le_jockey.transform(df['jockey_id'])\n",
    "        \n",
    "        # horse_id, jockey_idをcategory型に変換\n",
    "        df['horse_id'] = df['horse_id'].astype('category')\n",
    "        df['jockey_id'] = df['jockey_id'].astype('category')\n",
    "        \n",
    "        # そのほかのカテゴリ変数をcategory型に変換してからダミー変数化\n",
    "        weathers = results_m['weather'].unique()\n",
    "        race_types = results_m['race_type'].unique()\n",
    "        ground_states = results_m['ground_state'].unique()\n",
    "        sexes = results_m['性'].unique()\n",
    "        df['weather'] = pd.Categorical(df['weather'], weathers)\n",
    "        df['race_type'] = pd.Categorical(df['race_type'], race_types)\n",
    "        df['ground_state'] = pd.Categorical(df['ground_state'], ground_states)\n",
    "        df['性'] = pd.Categorical(df['性'], sexes)\n",
    "        \n",
    "        df = pd.get_dummies(df, columns=['weather', 'race_type', 'ground_state', '性'])  \n",
    "        self.data_c = df\n",
    "\n",
    "# 予測に使う出馬表データを加工するクラス\n",
    "class ShutubaTable(DataProcessor):\n",
    "    def __init__(self):\n",
    "        super(ShutubaTable, self).__init__()\n",
    "        \n",
    "    def scrape(self, race_id_list, date):\n",
    "        for race_id in tqdm(race_id_list):\n",
    "            url = f'https://race.netkeiba.com/race/shutuba.html?race_id={race_id}'\n",
    "            df = pd.read_html(url)[0]\n",
    "            df = df.T.reset_index(level=0, drop=True).T\n",
    "\n",
    "            html = requests.get(url)\n",
    "            html.encoding = 'EUC-JP'\n",
    "            soup = BeautifulSoup(html.text, 'html.parser')\n",
    "\n",
    "            # race_data\n",
    "            texts = soup.find('div', attrs={'class': 'RaceData01'}).text\n",
    "            texts = re.findall(r'\\w+', texts)\n",
    "            for text in texts:\n",
    "                if 'm' in text:\n",
    "                    df['course_len'] = [int(re.findall(r'\\d+', text)[0])] * len(df)\n",
    "                if text in ['曇', '晴', '雨', '小雨', '小雪', '雪']:\n",
    "                    df['weather'] = [text] * len(df)\n",
    "                if text in [\"良\", \"稍重\", \"重\"]:\n",
    "                    df[\"ground_state\"] = [text] * len(df)\n",
    "                if '不' in text:\n",
    "                    df[\"ground_state\"] = ['不良'] * len(df)\n",
    "                if '芝' in text:\n",
    "                    df['race_type'] = ['芝'] * len(df)\n",
    "                if '障' in text:\n",
    "                    df['race_type'] = ['障害'] * len(df)\n",
    "                if 'ダ' in text:\n",
    "                    df['race_type'] = ['ダート'] * len(df)\n",
    "            df['date'] = [date] * len(df)\n",
    "\n",
    "            # horse_id\n",
    "            horse_id_list = []\n",
    "            horse_td_list = soup.find_all(\"td\", attrs={'class': 'HorseInfo'})\n",
    "            for td in horse_td_list:\n",
    "                horse_id = re.findall(r'\\d+', td.find('a')['href'])[0]\n",
    "                horse_id_list.append(horse_id)\n",
    "            df['horse_id'] = horse_id_list\n",
    "\n",
    "            # jockey_id\n",
    "            jockey_id_list = []\n",
    "            jockey_td_list = soup.find_all(\"td\", attrs={'class': 'Jockey'})\n",
    "            for td in jockey_td_list:\n",
    "                jockey_id = re.findall(r'\\d+', td.find('a')['href'])[0]\n",
    "                jockey_id_list.append(jockey_id)\n",
    "            df['jockey_id'] = jockey_id_list\n",
    "\n",
    "            df.index = [race_id] * len(df)\n",
    "            self.data = self.data.append(df)\n",
    "            time.sleep(1)\n",
    "    \n",
    "    # 前処理\n",
    "    def preprocessing(self):\n",
    "        df = self.data.copy()\n",
    "        \n",
    "        # 性齢を性と年齢に分ける\n",
    "        df['性'] = df['性齢'].map(lambda x: str(x)[0])\n",
    "        df['年齢'] = df['性齢'].map(lambda x: str(x)[1:]).astype(int)\n",
    "\n",
    "        # 馬体重を体重と体重変化に分ける\n",
    "        df = df[df['馬体重(増減)'] != '--']\n",
    "        df['体重'] = df['馬体重(増減)'].str.split('(', expand=True)[0].astype(int)\n",
    "        df['体重変化'] = df['馬体重(増減)'].str.split('(', expand=True)[1].str[:-1].astype(int)\n",
    "        \n",
    "        # 日付をdatetime型に変更\n",
    "        df['date'] = pd.to_datetime(df['date'])\n",
    "\n",
    "        # データをint, floatに変換\n",
    "        df['枠'] = df['枠'].astype(int)\n",
    "        df['馬番'] = df['馬番'].astype(int)\n",
    "        df['斤量'] = df['斤量'].astype(int)\n",
    "\n",
    "    \n",
    "        # 必要な列だけにする\n",
    "        df = df[['枠', '馬番', '斤量', 'course_len', 'weather', 'race_type', 'ground_state', 'date', 'horse_id', 'jockey_id', '性', '年齢', '体重', '体重変化']]\n",
    "\n",
    "        self.data_p = df.rename(columns={'枠': '枠番'})\n",
    "\n",
    "# 訓練に使う過去レースデータを加工するクラス\n",
    "class Results(DataProcessor):\n",
    "    def __init__(self, results):\n",
    "        super(Results, self).__init__()\n",
    "        self.data = results\n",
    "    \n",
    "    # 前処理\n",
    "    def preprocessing(self):\n",
    "        df = self.data.copy()\n",
    "\n",
    "        # 着順に数字以外の文字列が含まれているものを取り除く\n",
    "        df = df[~(df['着順'].astype(str).str.contains('\\D'))]\n",
    "        df['着順'] = df['着順'].astype(int)\n",
    "        df['rank'] = df['着順'].map(lambda x: 1 if x < 4 else 0)\n",
    "\n",
    "        # 性齢を性と年齢に分ける\n",
    "        df['性'] = df['性齢'].map(lambda x: str(x)[0])\n",
    "        df['年齢'] = df['性齢'].map(lambda x: str(x)[1:]).astype(int)\n",
    "\n",
    "        # 馬体重を体重と体重変化に分ける\n",
    "        df['体重'] = df['馬体重'].str.split('(', expand=True)[0].astype(int)\n",
    "        df['体重変化'] = df['馬体重'].str.split('(', expand=True)[1].str[:-1].astype(int)\n",
    "\n",
    "        # データをint, floatに変換\n",
    "        df['単勝'] = df['単勝'].astype(float)\n",
    "        df['course_len'] = df['course_len'].astype(int)\n",
    "\n",
    "        # 不要な列を削除\n",
    "        df.drop(['タイム', '着差', '調教師', '性齢', '馬体重', '馬名', '騎手', '単勝', '人気', '着順'], axis=1, inplace=True)\n",
    "\n",
    "        df['date'] = pd.to_datetime(df['date'], format='%Y年%m月%d日')\n",
    "\n",
    "        self.data_p = df\n",
    "    \n",
    "    # カテゴリ変数の処理\n",
    "    def process_categorical(self):\n",
    "        self.le_horse = LabelEncoder().fit(self.data_pe['horse_id'])\n",
    "        self.le_jockey = LabelEncoder().fit(self.data_pe['jockey_id'])        \n",
    "        super().process_categorical(self.le_horse, self.le_jockey, self.data_pe)\n",
    "\n",
    "# 馬の過去成績データを処理するクラス\n",
    "class HorseResults:\n",
    "    def __init__(self, horse_results):\n",
    "        self.horse_results = horse_results[['日付', '着順', '賞金']]\n",
    "        self.preprocessing()\n",
    "        \n",
    "    def preprocessing(self):\n",
    "        df = self.horse_results.copy()\n",
    "        \n",
    "        # 着順に数字以外の文字列が含まれているものを取り除く\n",
    "        df['着順'] = pd.to_numeric(df['着順'], errors='coerce')\n",
    "        df.dropna(subset=['着順'], inplace=True)\n",
    "        df['着順'] = df['着順'].astype(int)\n",
    "        \n",
    "        df['date'] = pd.to_datetime(df['日付'])\n",
    "        df.drop(['日付'], axis=1, inplace=True)\n",
    "        \n",
    "        # 賞金の欠損値を0で埋める\n",
    "        df['賞金'].fillna(0, inplace=True)\n",
    "        \n",
    "        self.horse_results = df\n",
    "    \n",
    "    def average(self, horse_id_list, date, n_samples='all'):\n",
    "        target_df = self.horse_results.query('index in @horse_id_list')\n",
    "        \n",
    "        # 過去何走分取り出すか指定\n",
    "        if n_samples == 'all':\n",
    "            filtered_df = target_df[target_df['date'] < date]\n",
    "        elif n_samples > 0:\n",
    "            filtered_df = target_df[target_df['date'] < date].sort_values('date', ascending=False).groupby(level=0).head(n_samples)\n",
    "        else:\n",
    "            raise Exception('n_samples must be integer')\n",
    "            \n",
    "        average = filtered_df.groupby(level=0)[['着順', '賞金']].mean()\n",
    "        rename_columns = average.rename(columns={'着順': f'着順_{n_samples}R', '賞金': f'賞金_{n_samples}R'})\n",
    "        return rename_columns\n",
    "    \n",
    "    def merge(self, results, date, n_samples='all'):\n",
    "        df = results[results['date'] == date]\n",
    "        horse_id_list = df['horse_id']\n",
    "        merged_df = df.merge(self.average(horse_id_list, date, n_samples), left_on='horse_id', right_index=True, how='left')\n",
    "        return merged_df\n",
    "    \n",
    "    def merge_all(self, results, n_samples='all'):\n",
    "        date_list = results['date'].unique()\n",
    "        merged_df = pd.concat([self.merge(results, date, n_samples) for date in date_list])\n",
    "        return merged_df\n",
    "\n",
    "# 血統データを処理するクラス\n",
    "class Peds:\n",
    "    def __init__(self, peds):\n",
    "        self.peds = peds\n",
    "        # LabelEncodingしてcategory型にした変数\n",
    "        self.peds_e = pd.DataFrame()\n",
    "    \n",
    "    def encode(self):\n",
    "        df = self.peds.copy()\n",
    "        for column in df.columns:\n",
    "            df[column] = LabelEncoder().fit_transform(df[column].fillna('Na'))\n",
    "        self.peds_e = df.astype('category')\n",
    "\n",
    "# 払い戻しデータを加工するクラス\n",
    "class Return:\n",
    "    def __init__(self, return_tables):\n",
    "        self.return_tables = return_tables\n",
    "    \n",
    "    @property\n",
    "    def fukusho(self):\n",
    "        # 複勝の勝ち馬と払い戻しのデータを取り出す\n",
    "        fukusho = self.return_tables[self.return_tables[0] == '複勝'][[1, 2]]\n",
    "        \n",
    "        # 勝ち馬\n",
    "        wins = fukusho[1].str.split('br', expand=True)[[0, 1, 2]]\n",
    "        wins.columns = ['win_0', 'win_1', 'win_2']\n",
    "        \n",
    "        # 払い戻し\n",
    "        returns = fukusho[2].str.split('br', expand=True)[[0, 1, 2]]\n",
    "        returns.columns = ['return_0', 'return_1', 'return_2']\n",
    "        \n",
    "        df = pd.concat([wins, returns], axis=1)\n",
    "        \n",
    "        # int型に変換できないデータがあるので処理\n",
    "        for column in df.columns:\n",
    "            df[column] = df[column].str.replace(',', '')\n",
    "            \n",
    "        df = df.fillna(0).astype(int)\n",
    "        \n",
    "        return df\n",
    "    \n",
    "    @property\n",
    "    def tansho(self):\n",
    "        tansho = self.return_tables[self.return_tables[0] == '単勝'][[1, 2]]\n",
    "        tansho.columns = ['win', 'return']\n",
    "        \n",
    "        for column in tansho.columns:\n",
    "            tansho[column] = pd.to_numeric(tansho[column], errors='coerce')\n",
    "            \n",
    "        return tansho\n",
    "\n",
    "# 予測モデルを評価するクラス\n",
    "class ModelEvaluator:\n",
    "    def __init__(self, model, return_tables, std=True):\n",
    "        self.model = model\n",
    "        self.fukusho = Return(return_tables).fukusho\n",
    "        self.tansho = Return(return_tables).tansho\n",
    "        self.std = std\n",
    "        \n",
    "    def predict_proba(self, x):\n",
    "        # 1（3着以内）になる確率を予測\n",
    "        proba = pd.Series(self.model.predict_proba(x)[:, 1], index=x.index)\n",
    "        if self.std:\n",
    "            # 標準化\n",
    "            standard_scaler = lambda x: (x - x.mean()) / x.std()\n",
    "            proba = proba.groupby(level=0).transform(standard_scaler)\n",
    "            # MinMaxスケーリング：データを0から1にする\n",
    "            proba = (proba - proba.min()) / (proba.max() - proba.min())\n",
    "        return proba\n",
    "    \n",
    "    def predict(self, x, threshold=0.5):\n",
    "        # thresholdの値によってpredict_probaで出した値を0か1に決定する\n",
    "        y_pred = self.predict_proba(x)\n",
    "        return [0 if p < threshold else 1 for p in y_pred]\n",
    "    \n",
    "    def score(self, y_true, x):\n",
    "        # スコアを表示\n",
    "        return roc_auc_score(y_true, self.predict_proba(x))\n",
    "    \n",
    "    def feature_importance(self, x, n_display=20):\n",
    "        # 変数の重要度を出力\n",
    "        importances = pd.DataFrame(\n",
    "            {\"features\": x.columns, \"importance\": self.model.feature_importances_}\n",
    "        )\n",
    "        return importances.sort_values('importance', ascending=False)[:n_display]\n",
    "    \n",
    "    def pred_table(self, x, threshold=0.5, bet_only=True):\n",
    "        # 予測したレースIDと馬番を出力する\n",
    "        pred_table = x.copy()[['馬番']]\n",
    "        pred_table['pred'] = self.predict(x, threshold)\n",
    "        \n",
    "        if bet_only:\n",
    "            return pred_table[pred_table['pred'] == 1]['馬番']\n",
    "        \n",
    "        return pred_table\n",
    "    \n",
    "    def fukusho_return(self, x, threshold=0.5):\n",
    "        # 複勝の払い戻しを表示\n",
    "        pred_table = self.pred_table(x, threshold)\n",
    "        n_bets = len(pred_table)\n",
    "        money = -100 * n_bets\n",
    "        df = self.fukusho.copy()\n",
    "        df = df.merge(pred_table, left_index=True, right_index=True, how='right')\n",
    "        for i in range(3):\n",
    "            money += df[df[f'win_{i}'] == df['馬番']][f'return_{i}'].sum()\n",
    "        return_rate = (n_bets * 100 + money) / (n_bets * 100)\n",
    "        return n_bets, return_rate\n",
    "    \n",
    "    def tansho_return(self, x, threshold=0.5):\n",
    "        # 単勝の払い戻しを表示\n",
    "        pred_table = self.pred_table(x, threshold)\n",
    "        n_bets = len(pred_table)\n",
    "        money = -100 * n_bets\n",
    "        df = self.tansho.copy()\n",
    "        df = df.merge(pred_table, left_index=True, right_index=True, how='right')\n",
    "        money += df[df['win'] == df['馬番']]['return'].sum()\n",
    "        return_rate = (n_bets * 100 + money) / (n_bets * 100)\n",
    "        return n_bets, return_rate\n",
    "    \n",
    "    def tansho_return_proper(self, X, threshold=0.5):\n",
    "        pred_table = self.pred_table(X, threshold)\n",
    "        n_bets = len(pred_table)\n",
    "        df = self.tansho.copy()\n",
    "        df = df.merge(pred_table, left_index=True, right_index=True, how='right')\n",
    "        \n",
    "        # 単勝適性回収値を計算\n",
    "        return_rate = len(df.query('win == 馬番')) / (100 / df['return']).sum()\n",
    "        \n",
    "        return n_bets, return_rate"
   ]
  },
  {
   "cell_type": "markdown",
   "metadata": {},
   "source": [
    "### 1.2　関数"
   ]
  },
  {
   "cell_type": "code",
   "execution_count": 15,
   "metadata": {},
   "outputs": [],
   "source": [
    "# 時系列に沿って訓練データとテストデータに分ける関数\n",
    "def split_data(df, test_size=0.3):\n",
    "    sorted_id_list = df.sort_values('date').index.unique()   \n",
    "    train_id_list = sorted_id_list[:round(len(sorted_id_list) * (1 - test_size))]\n",
    "    test_id_list = sorted_id_list[round(len(sorted_id_list) * (1 - test_size)):]\n",
    "    train = df.loc[train_id_list]#.drop(['date'], axis=1)\n",
    "    test = df.loc[test_id_list]#.drop(['date'], axis=1)\n",
    "    return train, test\n",
    "\n",
    "# 回収率を計算する関数\n",
    "def gain(return_func, x, n_samples=100, lower=50, min_threshold=0.5):\n",
    "    gain = {}\n",
    "    for i in tqdm(range(n_samples)):\n",
    "        threshold = (i / n_samples) + (min_threshold * (1 - (i / n_samples)))\n",
    "        n_bets, return_rate = return_func(x, threshold)\n",
    "        if n_bets > lower:\n",
    "            gain[n_bets] = return_rate\n",
    "    return pd.Series(gain)"
   ]
  },
  {
   "cell_type": "markdown",
   "metadata": {},
   "source": [
    "### 1.3　pickleファイル "
   ]
  },
  {
   "cell_type": "code",
   "execution_count": 4,
   "metadata": {},
   "outputs": [],
   "source": [
    "# 過去のレースデータ\n",
    "results = pd.read_pickle('results.pickle')\n",
    "\n",
    "# 馬の過去成績データ\n",
    "horse_results = pd.read_pickle('horse_results.pickle')\n",
    "\n",
    "# 払い戻し金額データ\n",
    "return_tables = pd.read_pickle('return_tables.pickle')\n",
    "\n",
    "# 5世代血統データ\n",
    "peds = pd.read_pickle('peds.pickle')"
   ]
  },
  {
   "cell_type": "markdown",
   "metadata": {},
   "source": [
    "### 2．前処理"
   ]
  },
  {
   "cell_type": "code",
   "execution_count": 5,
   "metadata": {},
   "outputs": [],
   "source": [
    "r = Results(results)\n",
    "\n",
    "# 前処理\n",
    "r.preprocessing()\n",
    "\n",
    "# 馬の過去成績データの追加\n",
    "hr = HorseResults(horse_results)\n",
    "r.merge_horse_results(hr)\n",
    "\n",
    "# 5世代分の血統データの追加\n",
    "p = Peds(peds)\n",
    "p.encode()\n",
    "r.merge_peds(p.peds_e)\n",
    "\n",
    "# カテゴリ変数の処理\n",
    "r.process_categorical()"
   ]
  },
  {
   "cell_type": "markdown",
   "metadata": {},
   "source": [
    "### 3．予測"
   ]
  },
  {
   "cell_type": "code",
   "execution_count": 6,
   "metadata": {},
   "outputs": [],
   "source": [
    "train, test = split_data(r.data_c)\n",
    "X_train = train.drop(['rank', 'date'], axis=1)\n",
    "y_train = train['rank']\n",
    "X_test = test.drop(['rank', 'date'], axis=1)\n",
    "y_test = test['rank']"
   ]
  },
  {
   "cell_type": "code",
   "execution_count": 7,
   "metadata": {},
   "outputs": [
    {
     "data": {
      "text/plain": [
       "LGBMClassifier(class_weight='balanced', n_estimators=80, num_leaves=4,\n",
       "               random_state=100)"
      ]
     },
     "execution_count": 7,
     "metadata": {},
     "output_type": "execute_result"
    }
   ],
   "source": [
    "params = {\n",
    "    'num_leaves': 4,\n",
    "    'n_estimators': 80,\n",
    "    'class_weight': 'balanced',\n",
    "    'random_state': 100\n",
    "}\n",
    "\n",
    "lgb_clf = lgb.LGBMClassifier(**params)\n",
    "lgb_clf.fit(X_train.values, y_train.values)"
   ]
  },
  {
   "cell_type": "code",
   "execution_count": 8,
   "metadata": {},
   "outputs": [],
   "source": [
    "me = ModelEvaluator(lgb_clf, return_tables)"
   ]
  },
  {
   "cell_type": "code",
   "execution_count": 9,
   "metadata": {},
   "outputs": [
    {
     "name": "stderr",
     "output_type": "stream",
     "text": [
      "100%|██████████| 100/100 [03:00<00:00,  1.80s/it]\n"
     ]
    },
    {
     "data": {
      "text/plain": [
       "<matplotlib.axes._subplots.AxesSubplot at 0x1d7e8a0dc48>"
      ]
     },
     "execution_count": 9,
     "metadata": {},
     "output_type": "execute_result"
    },
    {
     "data": {
      "image/png": "[encoded data removed]",
      "text/plain": [
       "<Figure size 432x288 with 1 Axes>"
      ]
     },
     "metadata": {
      "needs_background": "light"
     },
     "output_type": "display_data"
    }
   ],
   "source": [
    "baseline = gain(me.tansho_return, X_test)\n",
    "baseline.plot()"
   ]
  },
  {
   "cell_type": "markdown",
   "metadata": {},
   "source": [
    "#### 4．単勝適性回収値\n",
    "常に払戻額が一定になるように単勝で賭けた場合の回収率<br>\n",
    "払戻額が常に1万円になるように賭けてみる"
   ]
  },
  {
   "cell_type": "markdown",
   "metadata": {},
   "source": [
    "賭けた金額<br>\n",
    "x円賭けるとすると<br>\n",
    "$$\n",
    "各馬番の単勝オッズ \\times \\frac{x}{100} = 10000 \\\\\n",
    "\\therefore \\quad x = \\frac{100 \\times 10000}{各馬番の単勝オッズ}\n",
    "$$"
   ]
  },
  {
   "cell_type": "markdown",
   "metadata": {},
   "source": [
    "回収率 = 払戻額 / 賭けた金額"
   ]
  },
  {
   "cell_type": "code",
   "execution_count": 10,
   "metadata": {},
   "outputs": [
    {
     "name": "stderr",
     "output_type": "stream",
     "text": [
      "100%|██████████| 100/100 [02:57<00:00,  1.77s/it]\n"
     ]
    },
    {
     "data": {
      "text/plain": [
       "<matplotlib.axes._subplots.AxesSubplot at 0x1d7c763b688>"
      ]
     },
     "execution_count": 10,
     "metadata": {},
     "output_type": "execute_result"
    },
    {
     "data": {
      "image/png": "[encoded data removed]",
      "text/plain": [
       "<Figure size 432x288 with 1 Axes>"
      ]
     },
     "metadata": {
      "needs_background": "light"
     },
     "output_type": "display_data"
    }
   ],
   "source": [
    "gain_proper = gain(me.tansho_return_proper, X_test)\n",
    "gain_proper.plot()"
   ]
  },
  {
   "cell_type": "code",
   "execution_count": 12,
   "metadata": {},
   "outputs": [
    {
     "data": {
      "image/png": "[encoded data removed]",
      "text/plain": [
       "<Figure size 720x576 with 1 Axes>"
      ]
     },
     "metadata": {
      "needs_background": "light"
     },
     "output_type": "display_data"
    }
   ],
   "source": [
    "plt.figure(figsize=(10, 8))\n",
    "baseline.rename('baseline').plot(legend=True)\n",
    "gain_proper.rename('proper').plot(legend=True)\n",
    "plt.grid()"
   ]
  },
  {
   "cell_type": "markdown",
   "metadata": {},
   "source": [
    "### 5．Optuna"
   ]
  },
  {
   "cell_type": "code",
   "execution_count": 16,
   "metadata": {},
   "outputs": [],
   "source": [
    "train, test = split_data(r.data_c)\n",
    "train, valid = split_data(train)"
   ]
  },
  {
   "cell_type": "code",
   "execution_count": 22,
   "metadata": {},
   "outputs": [],
   "source": [
    "import optuna.integration.lightgbm as lgb_o\n",
    "\n",
    "# 説明変数と目的変数に分ける\n",
    "X_train = train.drop(['rank', 'date'], axis=1)\n",
    "y_train = train['rank']\n",
    "X_valid = valid.drop(['rank', 'date'], axis=1)\n",
    "y_valid = valid['rank']\n",
    "X_test = test.drop(['rank', 'date'], axis=1)\n",
    "y_test = test['rank']"
   ]
  },
  {
   "cell_type": "code",
   "execution_count": 23,
   "metadata": {},
   "outputs": [
    {
     "name": "stderr",
     "output_type": "stream",
     "text": [
      "C:\\Users\\y_ono\\Anaconda\\lib\\site-packages\\optuna\\_experimental.py:61: ExperimentalWarning: train is experimental (supported from v0.18.0). The interface can change in the future.\n",
      "  \"The interface can change in the future.\".format(\n",
      "C:\\Users\\y_ono\\Anaconda\\lib\\site-packages\\optuna\\_experimental.py:83: ExperimentalWarning: LightGBMTuner is experimental (supported from v1.5.0). The interface can change in the future.\n",
      "  \"The interface can change in the future.\".format(\n",
      "feature_fraction, val_score: inf:   0%|          | 0/7 [00:00<?, ?it/s]"
     ]
    },
    {
     "name": "stdout",
     "output_type": "stream",
     "text": [
      "Training until validation scores don't improve for 10 rounds\n",
      "Early stopping, best iteration is:\n",
      "[52]\ttraining's binary_logloss: 0.436656\tvalid_1's binary_logloss: 0.467666\n"
     ]
    },
    {
     "name": "stderr",
     "output_type": "stream",
     "text": [
      "feature_fraction, val_score: 0.467666:  14%|#4        | 1/7 [00:02<00:14,  2.49s/it][I 2022-03-20 15:59:18,324] Finished trial#0 with value: 0.4676660352703846 with parameters: {'feature_fraction': 0.8}. Best is trial#0 with value: 0.4676660352703846.\n",
      "feature_fraction, val_score: 0.467666:  14%|#4        | 1/7 [00:02<00:14,  2.49s/it]"
     ]
    },
    {
     "name": "stdout",
     "output_type": "stream",
     "text": [
      "Training until validation scores don't improve for 10 rounds\n",
      "Early stopping, best iteration is:\n",
      "[78]\ttraining's binary_logloss: 0.422333\tvalid_1's binary_logloss: 0.46694\n"
     ]
    },
    {
     "name": "stderr",
     "output_type": "stream",
     "text": [
      "feature_fraction, val_score: 0.466940:  29%|##8       | 2/7 [00:04<00:11,  2.35s/it][I 2022-03-20 15:59:20,325] Finished trial#1 with value: 0.46694048366899216 with parameters: {'feature_fraction': 0.7}. Best is trial#1 with value: 0.46694048366899216.\n",
      "feature_fraction, val_score: 0.466940:  29%|##8       | 2/7 [00:04<00:11,  2.35s/it]"
     ]
    },
    {
     "name": "stdout",
     "output_type": "stream",
     "text": [
      "Training until validation scores don't improve for 10 rounds\n",
      "Early stopping, best iteration is:\n",
      "[61]\ttraining's binary_logloss: 0.432324\tvalid_1's binary_logloss: 0.465903\n"
     ]
    },
    {
     "name": "stderr",
     "output_type": "stream",
     "text": [
      "feature_fraction, val_score: 0.465903:  43%|####2     | 3/7 [00:06<00:08,  2.24s/it][I 2022-03-20 15:59:22,296] Finished trial#2 with value: 0.465903356797551 with parameters: {'feature_fraction': 0.6}. Best is trial#2 with value: 0.465903356797551.\n",
      "feature_fraction, val_score: 0.465903:  43%|####2     | 3/7 [00:06<00:08,  2.24s/it]"
     ]
    },
    {
     "name": "stdout",
     "output_type": "stream",
     "text": [
      "Training until validation scores don't improve for 10 rounds\n",
      "Early stopping, best iteration is:\n",
      "[53]\ttraining's binary_logloss: 0.435011\tvalid_1's binary_logloss: 0.467842\n"
     ]
    },
    {
     "name": "stderr",
     "output_type": "stream",
     "text": [
      "feature_fraction, val_score: 0.465903:  57%|#####7    | 4/7 [00:08<00:06,  2.28s/it][I 2022-03-20 15:59:24,687] Finished trial#3 with value: 0.4678417511624703 with parameters: {'feature_fraction': 1.0}. Best is trial#2 with value: 0.465903356797551.\n",
      "feature_fraction, val_score: 0.465903:  57%|#####7    | 4/7 [00:09<00:06,  2.28s/it]"
     ]
    },
    {
     "name": "stdout",
     "output_type": "stream",
     "text": [
      "Training until validation scores don't improve for 10 rounds\n",
      "Early stopping, best iteration is:\n",
      "[70]\ttraining's binary_logloss: 0.428393\tvalid_1's binary_logloss: 0.466295\n"
     ]
    },
    {
     "name": "stderr",
     "output_type": "stream",
     "text": [
      "feature_fraction, val_score: 0.465903:  71%|#######1  | 5/7 [00:11<00:04,  2.28s/it][I 2022-03-20 15:59:26,966] Finished trial#4 with value: 0.4662950262803995 with parameters: {'feature_fraction': 0.5}. Best is trial#2 with value: 0.465903356797551.\n",
      "feature_fraction, val_score: 0.465903:  71%|#######1  | 5/7 [00:11<00:04,  2.28s/it]"
     ]
    },
    {
     "name": "stdout",
     "output_type": "stream",
     "text": [
      "Training until validation scores don't improve for 10 rounds\n",
      "Early stopping, best iteration is:\n",
      "[69]\ttraining's binary_logloss: 0.430351\tvalid_1's binary_logloss: 0.466859\n"
     ]
    },
    {
     "name": "stderr",
     "output_type": "stream",
     "text": [
      "feature_fraction, val_score: 0.465903:  86%|########5 | 6/7 [00:12<00:02,  2.02s/it][I 2022-03-20 15:59:28,405] Finished trial#5 with value: 0.46685912351570663 with parameters: {'feature_fraction': 0.4}. Best is trial#2 with value: 0.465903356797551.\n",
      "feature_fraction, val_score: 0.465903:  86%|########5 | 6/7 [00:12<00:02,  2.02s/it]"
     ]
    },
    {
     "name": "stdout",
     "output_type": "stream",
     "text": [
      "Training until validation scores don't improve for 10 rounds\n",
      "Early stopping, best iteration is:\n",
      "[46]\ttraining's binary_logloss: 0.439963\tvalid_1's binary_logloss: 0.467039\n"
     ]
    },
    {
     "name": "stderr",
     "output_type": "stream",
     "text": [
      "feature_fraction, val_score: 0.465903: 100%|##########| 7/7 [00:14<00:00,  1.92s/it][I 2022-03-20 15:59:30,076] Finished trial#6 with value: 0.46703874641351345 with parameters: {'feature_fraction': 0.8999999999999999}. Best is trial#2 with value: 0.465903356797551.\n",
      "feature_fraction, val_score: 0.465903: 100%|##########| 7/7 [00:14<00:00,  2.07s/it]\n",
      "num_leaves, val_score: 0.465903:   0%|          | 0/20 [00:00<?, ?it/s]"
     ]
    },
    {
     "name": "stdout",
     "output_type": "stream",
     "text": [
      "Training until validation scores don't improve for 10 rounds\n",
      "Early stopping, best iteration is:\n",
      "[35]\ttraining's binary_logloss: 0.360615\tvalid_1's binary_logloss: 0.46998\n"
     ]
    },
    {
     "name": "stderr",
     "output_type": "stream",
     "text": [
      "num_leaves, val_score: 0.465903:   5%|5         | 1/20 [00:03<01:01,  3.22s/it][I 2022-03-20 15:59:33,518] Finished trial#7 with value: 0.46997986805515196 with parameters: {'num_leaves': 177}. Best is trial#7 with value: 0.46997986805515196.\n",
      "num_leaves, val_score: 0.465903:   5%|5         | 1/20 [00:03<01:01,  3.22s/it]"
     ]
    },
    {
     "name": "stdout",
     "output_type": "stream",
     "text": [
      "Training until validation scores don't improve for 10 rounds\n",
      "Early stopping, best iteration is:\n",
      "[35]\ttraining's binary_logloss: 0.360615\tvalid_1's binary_logloss: 0.46998\n"
     ]
    },
    {
     "name": "stderr",
     "output_type": "stream",
     "text": [
      "num_leaves, val_score: 0.465903:  10%|#         | 2/20 [00:06<00:56,  3.14s/it][I 2022-03-20 15:59:36,475] Finished trial#8 with value: 0.46997986805515196 with parameters: {'num_leaves': 177}. Best is trial#7 with value: 0.46997986805515196.\n",
      "num_leaves, val_score: 0.465903:  10%|#         | 2/20 [00:06<00:56,  3.14s/it]"
     ]
    },
    {
     "name": "stdout",
     "output_type": "stream",
     "text": [
      "Training until validation scores don't improve for 10 rounds\n",
      "Early stopping, best iteration is:\n",
      "[41]\ttraining's binary_logloss: 0.360039\tvalid_1's binary_logloss: 0.470562\n"
     ]
    },
    {
     "name": "stderr",
     "output_type": "stream",
     "text": [
      "num_leaves, val_score: 0.465903:  15%|#5        | 3/20 [00:09<00:55,  3.28s/it][I 2022-03-20 15:59:40,100] Finished trial#9 with value: 0.47056151675290286 with parameters: {'num_leaves': 150}. Best is trial#7 with value: 0.46997986805515196.\n",
      "num_leaves, val_score: 0.465903:  15%|#5        | 3/20 [00:10<00:55,  3.28s/it]"
     ]
    },
    {
     "name": "stdout",
     "output_type": "stream",
     "text": [
      "Training until validation scores don't improve for 10 rounds\n",
      "Early stopping, best iteration is:\n",
      "[30]\ttraining's binary_logloss: 0.351216\tvalid_1's binary_logloss: 0.473643\n"
     ]
    },
    {
     "name": "stderr",
     "output_type": "stream",
     "text": [
      "num_leaves, val_score: 0.465903:  20%|##        | 4/20 [00:13<00:54,  3.43s/it][I 2022-03-20 15:59:43,860] Finished trial#10 with value: 0.47364289130417453 with parameters: {'num_leaves': 233}. Best is trial#7 with value: 0.46997986805515196.\n",
      "num_leaves, val_score: 0.465903:  20%|##        | 4/20 [00:13<00:54,  3.43s/it]"
     ]
    },
    {
     "name": "stdout",
     "output_type": "stream",
     "text": [
      "Training until validation scores don't improve for 10 rounds\n",
      "Early stopping, best iteration is:\n",
      "[33]\ttraining's binary_logloss: 0.352733\tvalid_1's binary_logloss: 0.470974\n"
     ]
    },
    {
     "name": "stderr",
     "output_type": "stream",
     "text": [
      "num_leaves, val_score: 0.465903:  25%|##5       | 5/20 [00:16<00:50,  3.35s/it][I 2022-03-20 15:59:47,061] Finished trial#11 with value: 0.4709739367762434 with parameters: {'num_leaves': 207}. Best is trial#7 with value: 0.46997986805515196.\n",
      "num_leaves, val_score: 0.465903:  25%|##5       | 5/20 [00:16<00:50,  3.35s/it]"
     ]
    },
    {
     "name": "stdout",
     "output_type": "stream",
     "text": [
      "Training until validation scores don't improve for 10 rounds\n",
      "Early stopping, best iteration is:\n",
      "[27]\ttraining's binary_logloss: 0.366271\tvalid_1's binary_logloss: 0.471406\n"
     ]
    },
    {
     "name": "stderr",
     "output_type": "stream",
     "text": [
      "num_leaves, val_score: 0.465903:  30%|###       | 6/20 [00:20<00:47,  3.37s/it][I 2022-03-20 15:59:50,472] Finished trial#12 with value: 0.4714058235501373 with parameters: {'num_leaves': 218}. Best is trial#7 with value: 0.46997986805515196.\n",
      "num_leaves, val_score: 0.465903:  30%|###       | 6/20 [00:20<00:47,  3.37s/it]"
     ]
    },
    {
     "name": "stdout",
     "output_type": "stream",
     "text": [
      "Training until validation scores don't improve for 10 rounds\n",
      "Early stopping, best iteration is:\n",
      "[42]\ttraining's binary_logloss: 0.40227\tvalid_1's binary_logloss: 0.467551\n"
     ]
    },
    {
     "name": "stderr",
     "output_type": "stream",
     "text": [
      "num_leaves, val_score: 0.465903:  35%|###5      | 7/20 [00:22<00:38,  3.00s/it][I 2022-03-20 15:59:52,569] Finished trial#13 with value: 0.46755060798243026 with parameters: {'num_leaves': 82}. Best is trial#13 with value: 0.46755060798243026.\n",
      "num_leaves, val_score: 0.465903:  35%|###5      | 7/20 [00:22<00:38,  3.00s/it]"
     ]
    },
    {
     "name": "stdout",
     "output_type": "stream",
     "text": [
      "Training until validation scores don't improve for 10 rounds\n",
      "Early stopping, best iteration is:\n",
      "[30]\ttraining's binary_logloss: 0.34455\tvalid_1's binary_logloss: 0.472539\n"
     ]
    },
    {
     "name": "stderr",
     "output_type": "stream",
     "text": [
      "num_leaves, val_score: 0.465903:  40%|####      | 8/20 [00:26<00:41,  3.44s/it][I 2022-03-20 15:59:57,103] Finished trial#14 with value: 0.4725388826638109 with parameters: {'num_leaves': 251}. Best is trial#13 with value: 0.46755060798243026.\n",
      "num_leaves, val_score: 0.465903:  40%|####      | 8/20 [00:27<00:41,  3.44s/it]"
     ]
    },
    {
     "name": "stdout",
     "output_type": "stream",
     "text": [
      "Training until validation scores don't improve for 10 rounds\n",
      "Early stopping, best iteration is:\n",
      "[28]\ttraining's binary_logloss: 0.354116\tvalid_1's binary_logloss: 0.472524\n"
     ]
    },
    {
     "name": "stderr",
     "output_type": "stream",
     "text": [
      "num_leaves, val_score: 0.465903:  45%|####5     | 9/20 [00:30<00:38,  3.52s/it][I 2022-03-20 16:00:00,783] Finished trial#15 with value: 0.47252355208110874 with parameters: {'num_leaves': 243}. Best is trial#13 with value: 0.46755060798243026.\n",
      "num_leaves, val_score: 0.465903:  45%|####5     | 9/20 [00:30<00:38,  3.52s/it]"
     ]
    },
    {
     "name": "stdout",
     "output_type": "stream",
     "text": [
      "Training until validation scores don't improve for 10 rounds\n",
      "Early stopping, best iteration is:\n",
      "[43]\ttraining's binary_logloss: 0.366561\tvalid_1's binary_logloss: 0.470737\n"
     ]
    },
    {
     "name": "stderr",
     "output_type": "stream",
     "text": [
      "num_leaves, val_score: 0.465903:  50%|#####     | 10/20 [00:33<00:33,  3.39s/it][I 2022-03-20 16:00:03,925] Finished trial#16 with value: 0.470736960426676 with parameters: {'num_leaves': 133}. Best is trial#13 with value: 0.46755060798243026.\n",
      "num_leaves, val_score: 0.465903:  50%|#####     | 10/20 [00:33<00:33,  3.39s/it]"
     ]
    },
    {
     "name": "stdout",
     "output_type": "stream",
     "text": [
      "Training until validation scores don't improve for 10 rounds\n",
      "Early stopping, best iteration is:\n",
      "[47]\ttraining's binary_logloss: 0.423984\tvalid_1's binary_logloss: 0.46722\n"
     ]
    },
    {
     "name": "stderr",
     "output_type": "stream",
     "text": [
      "num_leaves, val_score: 0.465903:  55%|#####5    | 11/20 [00:35<00:27,  3.09s/it][I 2022-03-20 16:00:06,228] Finished trial#17 with value: 0.4672196743335552 with parameters: {'num_leaves': 48}. Best is trial#17 with value: 0.4672196743335552.\n",
      "num_leaves, val_score: 0.465903:  55%|#####5    | 11/20 [00:36<00:27,  3.09s/it]"
     ]
    },
    {
     "name": "stdout",
     "output_type": "stream",
     "text": [
      "Training until validation scores don't improve for 10 rounds\n",
      "Early stopping, best iteration is:\n",
      "[63]\ttraining's binary_logloss: 0.413771\tvalid_1's binary_logloss: 0.467341\n"
     ]
    },
    {
     "name": "stderr",
     "output_type": "stream",
     "text": [
      "num_leaves, val_score: 0.465903:  60%|######    | 12/20 [00:38<00:22,  2.84s/it][I 2022-03-20 16:00:08,500] Finished trial#18 with value: 0.46734136226698925 with parameters: {'num_leaves': 45}. Best is trial#17 with value: 0.4672196743335552.\n",
      "num_leaves, val_score: 0.465903:  60%|######    | 12/20 [00:38<00:22,  2.84s/it]"
     ]
    },
    {
     "name": "stdout",
     "output_type": "stream",
     "text": [
      "Training until validation scores don't improve for 10 rounds\n",
      "[100]\ttraining's binary_logloss: 0.472879\tvalid_1's binary_logloss: 0.472613\n",
      "[200]\ttraining's binary_logloss: 0.467537\tvalid_1's binary_logloss: 0.470243\n",
      "Early stopping, best iteration is:\n",
      "[264]\ttraining's binary_logloss: 0.465034\tvalid_1's binary_logloss: 0.46941\n"
     ]
    },
    {
     "name": "stderr",
     "output_type": "stream",
     "text": [
      "num_leaves, val_score: 0.465903:  65%|######5   | 13/20 [00:40<00:17,  2.56s/it][I 2022-03-20 16:00:10,428] Finished trial#19 with value: 0.46940979487741735 with parameters: {'num_leaves': 3}. Best is trial#17 with value: 0.4672196743335552.\n",
      "num_leaves, val_score: 0.465903:  65%|######5   | 13/20 [00:40<00:17,  2.56s/it]"
     ]
    },
    {
     "name": "stdout",
     "output_type": "stream",
     "text": [
      "Training until validation scores don't improve for 10 rounds\n",
      "Early stopping, best iteration is:\n",
      "[52]\ttraining's binary_logloss: 0.416358\tvalid_1's binary_logloss: 0.467211\n"
     ]
    },
    {
     "name": "stderr",
     "output_type": "stream",
     "text": [
      "num_leaves, val_score: 0.465903:  70%|#######   | 14/20 [00:42<00:15,  2.52s/it][I 2022-03-20 16:00:12,812] Finished trial#20 with value: 0.4672111475837657 with parameters: {'num_leaves': 51}. Best is trial#20 with value: 0.4672111475837657.\n",
      "num_leaves, val_score: 0.465903:  70%|#######   | 14/20 [00:42<00:15,  2.52s/it]"
     ]
    },
    {
     "name": "stdout",
     "output_type": "stream",
     "text": [
      "Training until validation scores don't improve for 10 rounds\n",
      "Early stopping, best iteration is:\n",
      "[42]\ttraining's binary_logloss: 0.404568\tvalid_1's binary_logloss: 0.468059\n"
     ]
    },
    {
     "name": "stderr",
     "output_type": "stream",
     "text": [
      "num_leaves, val_score: 0.465903:  75%|#######5  | 15/20 [00:44<00:11,  2.39s/it][I 2022-03-20 16:00:14,884] Finished trial#21 with value: 0.468058558468333 with parameters: {'num_leaves': 79}. Best is trial#20 with value: 0.4672111475837657.\n",
      "num_leaves, val_score: 0.465903:  75%|#######5  | 15/20 [00:44<00:11,  2.39s/it]"
     ]
    },
    {
     "name": "stdout",
     "output_type": "stream",
     "text": [
      "Training until validation scores don't improve for 10 rounds\n",
      "[100]\ttraining's binary_logloss: 0.455346\tvalid_1's binary_logloss: 0.46679\n",
      "Early stopping, best iteration is:\n",
      "[156]\ttraining's binary_logloss: 0.446475\tvalid_1's binary_logloss: 0.465939\n"
     ]
    },
    {
     "name": "stderr",
     "output_type": "stream",
     "text": [
      "num_leaves, val_score: 0.465903:  80%|########  | 16/20 [00:46<00:09,  2.33s/it][I 2022-03-20 16:00:17,104] Finished trial#22 with value: 0.46593920470855743 with parameters: {'num_leaves': 9}. Best is trial#22 with value: 0.46593920470855743.\n",
      "num_leaves, val_score: 0.465903:  80%|########  | 16/20 [00:47<00:09,  2.33s/it]"
     ]
    },
    {
     "name": "stdout",
     "output_type": "stream",
     "text": [
      "Training until validation scores don't improve for 10 rounds\n",
      "[100]\ttraining's binary_logloss: 0.446745\tvalid_1's binary_logloss: 0.465992\n",
      "Early stopping, best iteration is:\n",
      "[133]\ttraining's binary_logloss: 0.439058\tvalid_1's binary_logloss: 0.465511\n"
     ]
    },
    {
     "name": "stderr",
     "output_type": "stream",
     "text": [
      "num_leaves, val_score: 0.465511:  85%|########5 | 17/20 [00:48<00:06,  2.15s/it][I 2022-03-20 16:00:18,792] Finished trial#23 with value: 0.4655112458184313 with parameters: {'num_leaves': 13}. Best is trial#23 with value: 0.4655112458184313.\n",
      "num_leaves, val_score: 0.465511:  85%|########5 | 17/20 [00:48<00:06,  2.15s/it]"
     ]
    },
    {
     "name": "stdout",
     "output_type": "stream",
     "text": [
      "Training until validation scores don't improve for 10 rounds\n",
      "[100]\ttraining's binary_logloss: 0.478449\tvalid_1's binary_logloss: 0.476674\n",
      "[200]\ttraining's binary_logloss: 0.475084\tvalid_1's binary_logloss: 0.474808\n",
      "[300]\ttraining's binary_logloss: 0.473017\tvalid_1's binary_logloss: 0.473572\n",
      "[400]\ttraining's binary_logloss: 0.471517\tvalid_1's binary_logloss: 0.472851\n",
      "Early stopping, best iteration is:\n",
      "[395]\ttraining's binary_logloss: 0.471584\tvalid_1's binary_logloss: 0.472835\n"
     ]
    },
    {
     "name": "stderr",
     "output_type": "stream",
     "text": [
      "num_leaves, val_score: 0.465511:  90%|######### | 18/20 [00:50<00:04,  2.14s/it][I 2022-03-20 16:00:20,936] Finished trial#24 with value: 0.47283476268654656 with parameters: {'num_leaves': 2}. Best is trial#23 with value: 0.4655112458184313.\n",
      "num_leaves, val_score: 0.465511:  90%|######### | 18/20 [00:50<00:04,  2.14s/it]"
     ]
    },
    {
     "name": "stdout",
     "output_type": "stream",
     "text": [
      "Training until validation scores don't improve for 10 rounds\n",
      "Early stopping, best iteration is:\n",
      "[62]\ttraining's binary_logloss: 0.449164\tvalid_1's binary_logloss: 0.466464\n"
     ]
    },
    {
     "name": "stderr",
     "output_type": "stream",
     "text": [
      "num_leaves, val_score: 0.465511:  95%|#########5| 19/20 [00:52<00:01,  1.96s/it][I 2022-03-20 16:00:22,459] Finished trial#25 with value: 0.46646441981165065 with parameters: {'num_leaves': 18}. Best is trial#23 with value: 0.4655112458184313.\n",
      "num_leaves, val_score: 0.465511:  95%|#########5| 19/20 [00:52<00:01,  1.96s/it]"
     ]
    },
    {
     "name": "stdout",
     "output_type": "stream",
     "text": [
      "Training until validation scores don't improve for 10 rounds\n",
      "Early stopping, best iteration is:\n",
      "[40]\ttraining's binary_logloss: 0.397178\tvalid_1's binary_logloss: 0.469613\n"
     ]
    },
    {
     "name": "stderr",
     "output_type": "stream",
     "text": [
      "num_leaves, val_score: 0.465511: 100%|##########| 20/20 [00:54<00:00,  1.96s/it][I 2022-03-20 16:00:24,426] Finished trial#26 with value: 0.4696127361960817 with parameters: {'num_leaves': 93}. Best is trial#23 with value: 0.4655112458184313.\n",
      "num_leaves, val_score: 0.465511: 100%|##########| 20/20 [00:54<00:00,  2.72s/it]\n",
      "bagging, val_score: 0.465511:   0%|          | 0/10 [00:00<?, ?it/s]"
     ]
    },
    {
     "name": "stdout",
     "output_type": "stream",
     "text": [
      "Training until validation scores don't improve for 10 rounds\n",
      "Early stopping, best iteration is:\n",
      "[86]\ttraining's binary_logloss: 0.449537\tvalid_1's binary_logloss: 0.466971\n"
     ]
    },
    {
     "name": "stderr",
     "output_type": "stream",
     "text": [
      "bagging, val_score: 0.465511:  10%|#         | 1/10 [00:01<00:09,  1.04s/it][I 2022-03-20 16:00:25,665] Finished trial#27 with value: 0.4669705713809279 with parameters: {'bagging_fraction': 0.6911197900577284, 'bagging_freq': 3}. Best is trial#27 with value: 0.4669705713809279.\n",
      "bagging, val_score: 0.465511:  10%|#         | 1/10 [00:01<00:09,  1.04s/it]"
     ]
    },
    {
     "name": "stdout",
     "output_type": "stream",
     "text": [
      "Training until validation scores don't improve for 10 rounds\n",
      "Early stopping, best iteration is:\n",
      "[66]\ttraining's binary_logloss: 0.456329\tvalid_1's binary_logloss: 0.470216\n"
     ]
    },
    {
     "name": "stderr",
     "output_type": "stream",
     "text": [
      "bagging, val_score: 0.465511:  20%|##        | 2/10 [00:01<00:07,  1.01it/s][I 2022-03-20 16:00:26,562] Finished trial#28 with value: 0.470215844120433 with parameters: {'bagging_fraction': 0.40817842691113665, 'bagging_freq': 7}. Best is trial#27 with value: 0.4669705713809279.\n",
      "bagging, val_score: 0.465511:  20%|##        | 2/10 [00:02<00:07,  1.01it/s]"
     ]
    },
    {
     "name": "stdout",
     "output_type": "stream",
     "text": [
      "Training until validation scores don't improve for 10 rounds\n",
      "Early stopping, best iteration is:\n",
      "[80]\ttraining's binary_logloss: 0.452639\tvalid_1's binary_logloss: 0.469146\n"
     ]
    },
    {
     "name": "stderr",
     "output_type": "stream",
     "text": [
      "bagging, val_score: 0.465511:  30%|###       | 3/10 [00:03<00:08,  1.18s/it][I 2022-03-20 16:00:28,198] Finished trial#29 with value: 0.46914626514568347 with parameters: {'bagging_fraction': 0.46001263155111405, 'bagging_freq': 7}. Best is trial#27 with value: 0.4669705713809279.\n",
      "bagging, val_score: 0.465511:  30%|###       | 3/10 [00:03<00:08,  1.18s/it]"
     ]
    },
    {
     "name": "stdout",
     "output_type": "stream",
     "text": [
      "Training until validation scores don't improve for 10 rounds\n",
      "[100]\ttraining's binary_logloss: 0.446136\tvalid_1's binary_logloss: 0.466851\n",
      "Early stopping, best iteration is:\n",
      "[101]\ttraining's binary_logloss: 0.445887\tvalid_1's binary_logloss: 0.466806\n"
     ]
    },
    {
     "name": "stderr",
     "output_type": "stream",
     "text": [
      "bagging, val_score: 0.465511:  40%|####      | 4/10 [00:05<00:07,  1.29s/it][I 2022-03-20 16:00:29,744] Finished trial#30 with value: 0.466806054199393 with parameters: {'bagging_fraction': 0.5294944989938909, 'bagging_freq': 1}. Best is trial#30 with value: 0.466806054199393.\n",
      "bagging, val_score: 0.465511:  40%|####      | 4/10 [00:05<00:07,  1.29s/it]"
     ]
    },
    {
     "name": "stdout",
     "output_type": "stream",
     "text": [
      "Training until validation scores don't improve for 10 rounds\n",
      "Early stopping, best iteration is:\n",
      "[79]\ttraining's binary_logloss: 0.451149\tvalid_1's binary_logloss: 0.466642\n"
     ]
    },
    {
     "name": "stderr",
     "output_type": "stream",
     "text": [
      "bagging, val_score: 0.465511:  50%|#####     | 5/10 [00:06<00:06,  1.27s/it][I 2022-03-20 16:00:30,959] Finished trial#31 with value: 0.46664167205185964 with parameters: {'bagging_fraction': 0.628808528112693, 'bagging_freq': 3}. Best is trial#31 with value: 0.46664167205185964.\n",
      "bagging, val_score: 0.465511:  50%|#####     | 5/10 [00:06<00:06,  1.27s/it]"
     ]
    },
    {
     "name": "stdout",
     "output_type": "stream",
     "text": [
      "Training until validation scores don't improve for 10 rounds\n",
      "Early stopping, best iteration is:\n",
      "[71]\ttraining's binary_logloss: 0.45401\tvalid_1's binary_logloss: 0.466664\n"
     ]
    },
    {
     "name": "stderr",
     "output_type": "stream",
     "text": [
      "bagging, val_score: 0.465511:  60%|######    | 6/10 [00:07<00:05,  1.27s/it][I 2022-03-20 16:00:32,235] Finished trial#32 with value: 0.46666408555405064 with parameters: {'bagging_fraction': 0.9301427291023792, 'bagging_freq': 6}. Best is trial#31 with value: 0.46664167205185964.\n",
      "bagging, val_score: 0.465511:  60%|######    | 6/10 [00:07<00:05,  1.27s/it]"
     ]
    },
    {
     "name": "stdout",
     "output_type": "stream",
     "text": [
      "Training until validation scores don't improve for 10 rounds\n",
      "Early stopping, best iteration is:\n",
      "[80]\ttraining's binary_logloss: 0.451505\tvalid_1's binary_logloss: 0.468703\n"
     ]
    },
    {
     "name": "stderr",
     "output_type": "stream",
     "text": [
      "bagging, val_score: 0.465511:  70%|#######   | 7/10 [00:09<00:04,  1.36s/it][I 2022-03-20 16:00:33,786] Finished trial#33 with value: 0.46870343135738196 with parameters: {'bagging_fraction': 0.5376090467240138, 'bagging_freq': 2}. Best is trial#31 with value: 0.46664167205185964.\n",
      "bagging, val_score: 0.465511:  70%|#######   | 7/10 [00:09<00:04,  1.36s/it]"
     ]
    },
    {
     "name": "stdout",
     "output_type": "stream",
     "text": [
      "Training until validation scores don't improve for 10 rounds\n",
      "[100]\ttraining's binary_logloss: 0.446113\tvalid_1's binary_logloss: 0.466251\n",
      "Early stopping, best iteration is:\n",
      "[134]\ttraining's binary_logloss: 0.438735\tvalid_1's binary_logloss: 0.466065\n"
     ]
    },
    {
     "name": "stderr",
     "output_type": "stream",
     "text": [
      "bagging, val_score: 0.465511:  80%|########  | 8/10 [00:11<00:03,  1.57s/it][I 2022-03-20 16:00:35,848] Finished trial#34 with value: 0.46606479997771766 with parameters: {'bagging_fraction': 0.9839019321640243, 'bagging_freq': 1}. Best is trial#34 with value: 0.46606479997771766.\n",
      "bagging, val_score: 0.465511:  80%|########  | 8/10 [00:11<00:03,  1.57s/it]"
     ]
    },
    {
     "name": "stdout",
     "output_type": "stream",
     "text": [
      "Training until validation scores don't improve for 10 rounds\n",
      "Early stopping, best iteration is:\n",
      "[55]\ttraining's binary_logloss: 0.458288\tvalid_1's binary_logloss: 0.468321\n"
     ]
    },
    {
     "name": "stderr",
     "output_type": "stream",
     "text": [
      "bagging, val_score: 0.465511:  90%|######### | 9/10 [00:12<00:01,  1.39s/it][I 2022-03-20 16:00:36,822] Finished trial#35 with value: 0.46832054151290375 with parameters: {'bagging_fraction': 0.5357747415928947, 'bagging_freq': 1}. Best is trial#34 with value: 0.46606479997771766.\n",
      "bagging, val_score: 0.465511:  90%|######### | 9/10 [00:12<00:01,  1.39s/it]"
     ]
    },
    {
     "name": "stdout",
     "output_type": "stream",
     "text": [
      "Training until validation scores don't improve for 10 rounds\n",
      "Early stopping, best iteration is:\n",
      "[67]\ttraining's binary_logloss: 0.455091\tvalid_1's binary_logloss: 0.467169\n"
     ]
    },
    {
     "name": "stderr",
     "output_type": "stream",
     "text": [
      "bagging, val_score: 0.465511: 100%|##########| 10/10 [00:13<00:00,  1.28s/it][I 2022-03-20 16:00:37,851] Finished trial#36 with value: 0.46716939866354795 with parameters: {'bagging_fraction': 0.6218474704091115, 'bagging_freq': 6}. Best is trial#34 with value: 0.46606479997771766.\n",
      "bagging, val_score: 0.465511: 100%|##########| 10/10 [00:13<00:00,  1.34s/it]\n",
      "feature_fraction_stage2, val_score: 0.465511:   0%|          | 0/6 [00:00<?, ?it/s]"
     ]
    },
    {
     "name": "stdout",
     "output_type": "stream",
     "text": [
      "Training until validation scores don't improve for 10 rounds\n",
      "[100]\ttraining's binary_logloss: 0.446166\tvalid_1's binary_logloss: 0.465867\n",
      "Early stopping, best iteration is:\n",
      "[110]\ttraining's binary_logloss: 0.443756\tvalid_1's binary_logloss: 0.465609\n"
     ]
    },
    {
     "name": "stderr",
     "output_type": "stream",
     "text": [
      "feature_fraction_stage2, val_score: 0.465511:  17%|#6        | 1/6 [00:01<00:08,  1.73s/it][I 2022-03-20 16:00:39,785] Finished trial#37 with value: 0.4656091598617962 with parameters: {'feature_fraction': 0.616}. Best is trial#37 with value: 0.4656091598617962.\n",
      "feature_fraction_stage2, val_score: 0.465511:  17%|#6        | 1/6 [00:01<00:08,  1.73s/it]"
     ]
    },
    {
     "name": "stdout",
     "output_type": "stream",
     "text": [
      "Training until validation scores don't improve for 10 rounds\n",
      "Early stopping, best iteration is:\n",
      "[66]\ttraining's binary_logloss: 0.455508\tvalid_1's binary_logloss: 0.466656\n"
     ]
    },
    {
     "name": "stderr",
     "output_type": "stream",
     "text": [
      "feature_fraction_stage2, val_score: 0.465511:  33%|###3      | 2/6 [00:02<00:06,  1.52s/it][I 2022-03-20 16:00:40,821] Finished trial#38 with value: 0.46665649343055066 with parameters: {'feature_fraction': 0.552}. Best is trial#37 with value: 0.4656091598617962.\n",
      "feature_fraction_stage2, val_score: 0.465511:  33%|###3      | 2/6 [00:02<00:06,  1.52s/it]"
     ]
    },
    {
     "name": "stdout",
     "output_type": "stream",
     "text": [
      "Training until validation scores don't improve for 10 rounds\n",
      "Early stopping, best iteration is:\n",
      "[70]\ttraining's binary_logloss: 0.454507\tvalid_1's binary_logloss: 0.465995\n"
     ]
    },
    {
     "name": "stderr",
     "output_type": "stream",
     "text": [
      "feature_fraction_stage2, val_score: 0.465511:  50%|#####     | 3/6 [00:03<00:04,  1.40s/it][I 2022-03-20 16:00:41,931] Finished trial#39 with value: 0.4659946800333257 with parameters: {'feature_fraction': 0.584}. Best is trial#37 with value: 0.4656091598617962.\n",
      "feature_fraction_stage2, val_score: 0.465511:  50%|#####     | 3/6 [00:04<00:04,  1.40s/it]"
     ]
    },
    {
     "name": "stdout",
     "output_type": "stream",
     "text": [
      "Training until validation scores don't improve for 10 rounds\n",
      "[100]\ttraining's binary_logloss: 0.445858\tvalid_1's binary_logloss: 0.466189\n",
      "Early stopping, best iteration is:\n",
      "[97]\ttraining's binary_logloss: 0.446641\tvalid_1's binary_logloss: 0.466086\n"
     ]
    },
    {
     "name": "stderr",
     "output_type": "stream",
     "text": [
      "feature_fraction_stage2, val_score: 0.465511:  67%|######6   | 4/6 [00:05<00:02,  1.41s/it][I 2022-03-20 16:00:43,364] Finished trial#40 with value: 0.46608619632399356 with parameters: {'feature_fraction': 0.6479999999999999}. Best is trial#37 with value: 0.4656091598617962.\n",
      "feature_fraction_stage2, val_score: 0.465511:  67%|######6   | 4/6 [00:05<00:02,  1.41s/it]"
     ]
    },
    {
     "name": "stdout",
     "output_type": "stream",
     "text": [
      "Training until validation scores don't improve for 10 rounds\n",
      "[100]\ttraining's binary_logloss: 0.447613\tvalid_1's binary_logloss: 0.466525\n",
      "Early stopping, best iteration is:\n",
      "[105]\ttraining's binary_logloss: 0.44637\tvalid_1's binary_logloss: 0.466383\n"
     ]
    },
    {
     "name": "stderr",
     "output_type": "stream",
     "text": [
      "feature_fraction_stage2, val_score: 0.465511:  83%|########3 | 5/6 [00:07<00:01,  1.64s/it][I 2022-03-20 16:00:45,554] Finished trial#41 with value: 0.4663833797053638 with parameters: {'feature_fraction': 0.52}. Best is trial#37 with value: 0.4656091598617962.\n",
      "feature_fraction_stage2, val_score: 0.465511:  83%|########3 | 5/6 [00:07<00:01,  1.64s/it]"
     ]
    },
    {
     "name": "stdout",
     "output_type": "stream",
     "text": [
      "Training until validation scores don't improve for 10 rounds\n",
      "[100]\ttraining's binary_logloss: 0.446316\tvalid_1's binary_logloss: 0.466111\n",
      "Early stopping, best iteration is:\n",
      "[110]\ttraining's binary_logloss: 0.444011\tvalid_1's binary_logloss: 0.465935\n"
     ]
    },
    {
     "name": "stderr",
     "output_type": "stream",
     "text": [
      "feature_fraction_stage2, val_score: 0.465511: 100%|##########| 6/6 [00:09<00:00,  1.65s/it][I 2022-03-20 16:00:47,247] Finished trial#42 with value: 0.4659347080633997 with parameters: {'feature_fraction': 0.6799999999999999}. Best is trial#37 with value: 0.4656091598617962.\n",
      "feature_fraction_stage2, val_score: 0.465511: 100%|##########| 6/6 [00:09<00:00,  1.56s/it]\n",
      "regularization_factors, val_score: 0.465511:   0%|          | 0/20 [00:00<?, ?it/s]"
     ]
    },
    {
     "name": "stdout",
     "output_type": "stream",
     "text": [
      "Training until validation scores don't improve for 10 rounds\n",
      "[100]\ttraining's binary_logloss: 0.446746\tvalid_1's binary_logloss: 0.465992\n",
      "Early stopping, best iteration is:\n",
      "[133]\ttraining's binary_logloss: 0.439061\tvalid_1's binary_logloss: 0.465511\n"
     ]
    },
    {
     "name": "stderr",
     "output_type": "stream",
     "text": [
      "regularization_factors, val_score: 0.465511:   5%|5         | 1/20 [00:01<00:29,  1.54s/it][I 2022-03-20 16:00:49,000] Finished trial#43 with value: 0.46551107542101783 with parameters: {'lambda_l1': 0.0012740947825850332, 'lambda_l2': 0.00018210352994056664}. Best is trial#43 with value: 0.46551107542101783.\n",
      "regularization_factors, val_score: 0.465511:   5%|5         | 1/20 [00:01<00:29,  1.54s/it]"
     ]
    },
    {
     "name": "stdout",
     "output_type": "stream",
     "text": [
      "Training until validation scores don't improve for 10 rounds\n",
      "[100]\ttraining's binary_logloss: 0.446745\tvalid_1's binary_logloss: 0.465992\n",
      "Early stopping, best iteration is:\n",
      "[133]\ttraining's binary_logloss: 0.439059\tvalid_1's binary_logloss: 0.465506\n"
     ]
    },
    {
     "name": "stderr",
     "output_type": "stream",
     "text": [
      "regularization_factors, val_score: 0.465506:  10%|#         | 2/20 [00:03<00:30,  1.69s/it][I 2022-03-20 16:00:51,032] Finished trial#44 with value: 0.4655064659656306 with parameters: {'lambda_l1': 8.523003268596963e-07, 'lambda_l2': 0.00030157874274998347}. Best is trial#44 with value: 0.4655064659656306.\n",
      "regularization_factors, val_score: 0.465506:  10%|#         | 2/20 [00:03<00:30,  1.69s/it]"
     ]
    },
    {
     "name": "stdout",
     "output_type": "stream",
     "text": [
      "Training until validation scores don't improve for 10 rounds\n",
      "Early stopping, best iteration is:\n",
      "[84]\ttraining's binary_logloss: 0.450654\tvalid_1's binary_logloss: 0.46596\n"
     ]
    },
    {
     "name": "stderr",
     "output_type": "stream",
     "text": [
      "regularization_factors, val_score: 0.465506:  15%|#5        | 3/20 [00:04<00:26,  1.58s/it][I 2022-03-20 16:00:52,381] Finished trial#45 with value: 0.4659601012562545 with parameters: {'lambda_l1': 0.2584721389281074, 'lambda_l2': 0.00027654423512523394}. Best is trial#44 with value: 0.4655064659656306.\n",
      "regularization_factors, val_score: 0.465506:  15%|#5        | 3/20 [00:05<00:26,  1.58s/it]"
     ]
    },
    {
     "name": "stdout",
     "output_type": "stream",
     "text": [
      "Training until validation scores don't improve for 10 rounds\n",
      "Early stopping, best iteration is:\n",
      "[80]\ttraining's binary_logloss: 0.452405\tvalid_1's binary_logloss: 0.465771\n"
     ]
    },
    {
     "name": "stderr",
     "output_type": "stream",
     "text": [
      "regularization_factors, val_score: 0.465506:  20%|##        | 4/20 [00:06<00:23,  1.50s/it][I 2022-03-20 16:00:53,681] Finished trial#46 with value: 0.465770783140143 with parameters: {'lambda_l1': 0.0001325514164172002, 'lambda_l2': 0.9232212317505032}. Best is trial#44 with value: 0.4655064659656306.\n",
      "regularization_factors, val_score: 0.465506:  20%|##        | 4/20 [00:06<00:23,  1.50s/it]"
     ]
    },
    {
     "name": "stdout",
     "output_type": "stream",
     "text": [
      "Training until validation scores don't improve for 10 rounds\n",
      "[100]\ttraining's binary_logloss: 0.446757\tvalid_1's binary_logloss: 0.465991\n",
      "Early stopping, best iteration is:\n",
      "[113]\ttraining's binary_logloss: 0.443758\tvalid_1's binary_logloss: 0.465729\n"
     ]
    },
    {
     "name": "stderr",
     "output_type": "stream",
     "text": [
      "regularization_factors, val_score: 0.465506:  25%|##5       | 5/20 [00:08<00:24,  1.61s/it][I 2022-03-20 16:00:55,577] Finished trial#47 with value: 0.4657293956004654 with parameters: {'lambda_l1': 0.011533136416586008, 'lambda_l2': 1.1476479258885942e-06}. Best is trial#44 with value: 0.4655064659656306.\n",
      "regularization_factors, val_score: 0.465506:  25%|##5       | 5/20 [00:08<00:24,  1.61s/it]"
     ]
    },
    {
     "name": "stdout",
     "output_type": "stream",
     "text": [
      "Training until validation scores don't improve for 10 rounds\n",
      "[100]\ttraining's binary_logloss: 0.451043\tvalid_1's binary_logloss: 0.466135\n",
      "Early stopping, best iteration is:\n",
      "[98]\ttraining's binary_logloss: 0.451448\tvalid_1's binary_logloss: 0.466035\n"
     ]
    },
    {
     "name": "stderr",
     "output_type": "stream",
     "text": [
      "regularization_factors, val_score: 0.465506:  30%|###       | 6/20 [00:09<00:23,  1.66s/it][I 2022-03-20 16:00:57,347] Finished trial#48 with value: 0.46603526512372007 with parameters: {'lambda_l1': 7.866187013746794, 'lambda_l2': 0.00208470292845526}. Best is trial#44 with value: 0.4655064659656306.\n",
      "regularization_factors, val_score: 0.465506:  30%|###       | 6/20 [00:10<00:23,  1.66s/it]"
     ]
    },
    {
     "name": "stdout",
     "output_type": "stream",
     "text": [
      "Training until validation scores don't improve for 10 rounds\n",
      "[100]\ttraining's binary_logloss: 0.44675\tvalid_1's binary_logloss: 0.465991\n",
      "Early stopping, best iteration is:\n",
      "[133]\ttraining's binary_logloss: 0.439066\tvalid_1's binary_logloss: 0.465506\n"
     ]
    },
    {
     "name": "stderr",
     "output_type": "stream",
     "text": [
      "regularization_factors, val_score: 0.465506:  35%|###5      | 7/20 [00:11<00:22,  1.75s/it][I 2022-03-20 16:00:59,324] Finished trial#49 with value: 0.46550566341066135 with parameters: {'lambda_l1': 2.6148953378548105e-06, 'lambda_l2': 0.003246675768200458}. Best is trial#49 with value: 0.46550566341066135.\n",
      "regularization_factors, val_score: 0.465506:  35%|###5      | 7/20 [00:12<00:22,  1.75s/it]"
     ]
    },
    {
     "name": "stdout",
     "output_type": "stream",
     "text": [
      "Training until validation scores don't improve for 10 rounds\n",
      "Early stopping, best iteration is:\n",
      "[89]\ttraining's binary_logloss: 0.452391\tvalid_1's binary_logloss: 0.465891\n"
     ]
    },
    {
     "name": "stderr",
     "output_type": "stream",
     "text": [
      "regularization_factors, val_score: 0.465506:  40%|####      | 8/20 [00:14<00:24,  2.06s/it][I 2022-03-20 16:01:02,093] Finished trial#50 with value: 0.465891373671696 with parameters: {'lambda_l1': 5.176080015172087, 'lambda_l2': 0.008502468053262434}. Best is trial#49 with value: 0.46550566341066135.\n",
      "regularization_factors, val_score: 0.465506:  40%|####      | 8/20 [00:14<00:24,  2.06s/it]"
     ]
    },
    {
     "name": "stdout",
     "output_type": "stream",
     "text": [
      "Training until validation scores don't improve for 10 rounds\n",
      "[100]\ttraining's binary_logloss: 0.447436\tvalid_1's binary_logloss: 0.465857\n",
      "Early stopping, best iteration is:\n",
      "[105]\ttraining's binary_logloss: 0.446277\tvalid_1's binary_logloss: 0.465501\n"
     ]
    },
    {
     "name": "stderr",
     "output_type": "stream",
     "text": [
      "regularization_factors, val_score: 0.465501:  45%|####5     | 9/20 [00:16<00:20,  1.90s/it][I 2022-03-20 16:01:03,597] Finished trial#51 with value: 0.46550118945492786 with parameters: {'lambda_l1': 1.044331469685313, 'lambda_l2': 0.0006884053717377605}. Best is trial#51 with value: 0.46550118945492786.\n",
      "regularization_factors, val_score: 0.465501:  45%|####5     | 9/20 [00:16<00:20,  1.90s/it]"
     ]
    },
    {
     "name": "stdout",
     "output_type": "stream",
     "text": [
      "Training until validation scores don't improve for 10 rounds\n",
      "Early stopping, best iteration is:\n",
      "[81]\ttraining's binary_logloss: 0.45179\tvalid_1's binary_logloss: 0.466357\n"
     ]
    },
    {
     "name": "stderr",
     "output_type": "stream",
     "text": [
      "regularization_factors, val_score: 0.465501:  50%|#####     | 10/20 [00:17<00:16,  1.69s/it][I 2022-03-20 16:01:04,809] Finished trial#52 with value: 0.4663569232096946 with parameters: {'lambda_l1': 0.2031287108696974, 'lambda_l2': 1.3612597519744764e-07}. Best is trial#51 with value: 0.46550118945492786.\n",
      "regularization_factors, val_score: 0.465501:  50%|#####     | 10/20 [00:17<00:16,  1.69s/it]"
     ]
    },
    {
     "name": "stdout",
     "output_type": "stream",
     "text": [
      "Training until validation scores don't improve for 10 rounds\n",
      "Early stopping, best iteration is:\n",
      "[68]\ttraining's binary_logloss: 0.455639\tvalid_1's binary_logloss: 0.467039\n"
     ]
    },
    {
     "name": "stderr",
     "output_type": "stream",
     "text": [
      "regularization_factors, val_score: 0.465501:  55%|#####5    | 11/20 [00:18<00:13,  1.52s/it][I 2022-03-20 16:01:05,997] Finished trial#53 with value: 0.4670388949619035 with parameters: {'lambda_l1': 5.092114221407812e-05, 'lambda_l2': 3.285140190765017}. Best is trial#51 with value: 0.46550118945492786.\n",
      "regularization_factors, val_score: 0.465501:  55%|#####5    | 11/20 [00:18<00:13,  1.52s/it]"
     ]
    },
    {
     "name": "stdout",
     "output_type": "stream",
     "text": [
      "Training until validation scores don't improve for 10 rounds\n",
      "Early stopping, best iteration is:\n",
      "[86]\ttraining's binary_logloss: 0.450068\tvalid_1's binary_logloss: 0.465912\n"
     ]
    },
    {
     "name": "stderr",
     "output_type": "stream",
     "text": [
      "regularization_factors, val_score: 0.465501:  60%|######    | 12/20 [00:20<00:12,  1.55s/it][I 2022-03-20 16:01:07,549] Finished trial#54 with value: 0.46591194761434096 with parameters: {'lambda_l1': 2.2085075422521487e-08, 'lambda_l2': 0.11256940904967884}. Best is trial#51 with value: 0.46550118945492786.\n",
      "regularization_factors, val_score: 0.465501:  60%|######    | 12/20 [00:20<00:12,  1.55s/it]"
     ]
    },
    {
     "name": "stdout",
     "output_type": "stream",
     "text": [
      "Training until validation scores don't improve for 10 rounds\n",
      "[100]\ttraining's binary_logloss: 0.446745\tvalid_1's binary_logloss: 0.465992\n",
      "Early stopping, best iteration is:\n",
      "[133]\ttraining's binary_logloss: 0.439058\tvalid_1's binary_logloss: 0.465511\n"
     ]
    },
    {
     "name": "stderr",
     "output_type": "stream",
     "text": [
      "regularization_factors, val_score: 0.465501:  65%|######5   | 13/20 [00:22<00:12,  1.72s/it][I 2022-03-20 16:01:09,691] Finished trial#55 with value: 0.4655112410488853 with parameters: {'lambda_l1': 1.5907129492528056e-06, 'lambda_l2': 1.686221932766077e-05}. Best is trial#51 with value: 0.46550118945492786.\n",
      "regularization_factors, val_score: 0.465501:  65%|######5   | 13/20 [00:22<00:12,  1.72s/it]"
     ]
    },
    {
     "name": "stdout",
     "output_type": "stream",
     "text": [
      "Training until validation scores don't improve for 10 rounds\n",
      "[100]\ttraining's binary_logloss: 0.446453\tvalid_1's binary_logloss: 0.466419\n",
      "Early stopping, best iteration is:\n",
      "[107]\ttraining's binary_logloss: 0.44464\tvalid_1's binary_logloss: 0.466101\n"
     ]
    },
    {
     "name": "stderr",
     "output_type": "stream",
     "text": [
      "regularization_factors, val_score: 0.465501:  70%|#######   | 14/20 [00:23<00:10,  1.73s/it][I 2022-03-20 16:01:11,517] Finished trial#56 with value: 0.46610065034519416 with parameters: {'lambda_l1': 4.769783044838223e-06, 'lambda_l2': 0.02068127575065672}. Best is trial#51 with value: 0.46550118945492786.\n",
      "regularization_factors, val_score: 0.465501:  70%|#######   | 14/20 [00:24<00:10,  1.73s/it]"
     ]
    },
    {
     "name": "stdout",
     "output_type": "stream",
     "text": [
      "Training until validation scores don't improve for 10 rounds\n",
      "[100]\ttraining's binary_logloss: 0.446745\tvalid_1's binary_logloss: 0.465992\n",
      "Early stopping, best iteration is:\n",
      "[133]\ttraining's binary_logloss: 0.439058\tvalid_1's binary_logloss: 0.465511\n"
     ]
    },
    {
     "name": "stderr",
     "output_type": "stream",
     "text": [
      "regularization_factors, val_score: 0.465501:  75%|#######5  | 15/20 [00:26<00:09,  1.92s/it][I 2022-03-20 16:01:13,820] Finished trial#57 with value: 0.46551124415699635 with parameters: {'lambda_l1': 1.6153173601058995e-08, 'lambda_l2': 6.077865379133519e-06}. Best is trial#51 with value: 0.46550118945492786.\n",
      "regularization_factors, val_score: 0.465501:  75%|#######5  | 15/20 [00:26<00:09,  1.92s/it]"
     ]
    },
    {
     "name": "stdout",
     "output_type": "stream",
     "text": [
      "Training until validation scores don't improve for 10 rounds\n",
      "Early stopping, best iteration is:\n",
      "[86]\ttraining's binary_logloss: 0.450066\tvalid_1's binary_logloss: 0.465912\n"
     ]
    },
    {
     "name": "stderr",
     "output_type": "stream",
     "text": [
      "regularization_factors, val_score: 0.465501:  80%|########  | 16/20 [00:27<00:07,  1.79s/it][I 2022-03-20 16:01:15,294] Finished trial#58 with value: 0.465912037207936 with parameters: {'lambda_l1': 1.5669058045507565e-07, 'lambda_l2': 0.11038534134564848}. Best is trial#51 with value: 0.46550118945492786.\n",
      "regularization_factors, val_score: 0.465501:  80%|########  | 16/20 [00:28<00:07,  1.79s/it]"
     ]
    },
    {
     "name": "stdout",
     "output_type": "stream",
     "text": [
      "Training until validation scores don't improve for 10 rounds\n",
      "[100]\ttraining's binary_logloss: 0.446752\tvalid_1's binary_logloss: 0.465991\n",
      "Early stopping, best iteration is:\n",
      "[113]\ttraining's binary_logloss: 0.443752\tvalid_1's binary_logloss: 0.46573\n"
     ]
    },
    {
     "name": "stderr",
     "output_type": "stream",
     "text": [
      "regularization_factors, val_score: 0.465501:  85%|########5 | 17/20 [00:30<00:06,  2.06s/it][I 2022-03-20 16:01:17,994] Finished trial#59 with value: 0.4657297358518745 with parameters: {'lambda_l1': 0.006958181521685595, 'lambda_l2': 3.834902099555002e-05}. Best is trial#51 with value: 0.46550118945492786.\n",
      "regularization_factors, val_score: 0.465501:  85%|########5 | 17/20 [00:30<00:06,  2.06s/it]"
     ]
    },
    {
     "name": "stdout",
     "output_type": "stream",
     "text": [
      "Training until validation scores don't improve for 10 rounds\n",
      "[100]\ttraining's binary_logloss: 0.446746\tvalid_1's binary_logloss: 0.465991\n",
      "Early stopping, best iteration is:\n",
      "[133]\ttraining's binary_logloss: 0.439061\tvalid_1's binary_logloss: 0.465506\n"
     ]
    },
    {
     "name": "stderr",
     "output_type": "stream",
     "text": [
      "regularization_factors, val_score: 0.465501:  90%|######### | 18/20 [00:32<00:04,  2.04s/it][I 2022-03-20 16:01:20,024] Finished trial#60 with value: 0.46550625239274207 with parameters: {'lambda_l1': 1.3655659426312497e-05, 'lambda_l2': 0.0010800042758817641}. Best is trial#51 with value: 0.46550118945492786.\n",
      "regularization_factors, val_score: 0.465501:  90%|######### | 18/20 [00:32<00:04,  2.04s/it]"
     ]
    },
    {
     "name": "stdout",
     "output_type": "stream",
     "text": [
      "Training until validation scores don't improve for 10 rounds\n",
      "[100]\ttraining's binary_logloss: 0.447067\tvalid_1's binary_logloss: 0.465764\n",
      "Early stopping, best iteration is:\n",
      "[94]\ttraining's binary_logloss: 0.448558\tvalid_1's binary_logloss: 0.465705\n"
     ]
    },
    {
     "name": "stderr",
     "output_type": "stream",
     "text": [
      "regularization_factors, val_score: 0.465501:  95%|#########5| 19/20 [00:34<00:01,  1.93s/it][I 2022-03-20 16:01:21,654] Finished trial#61 with value: 0.46570451993066814 with parameters: {'lambda_l1': 0.4842437030384033, 'lambda_l2': 0.015150465091294288}. Best is trial#51 with value: 0.46550118945492786.\n",
      "regularization_factors, val_score: 0.465501:  95%|#########5| 19/20 [00:34<00:01,  1.93s/it]"
     ]
    },
    {
     "name": "stdout",
     "output_type": "stream",
     "text": [
      "Training until validation scores don't improve for 10 rounds\n",
      "[100]\ttraining's binary_logloss: 0.446745\tvalid_1's binary_logloss: 0.465992\n",
      "Early stopping, best iteration is:\n",
      "[133]\ttraining's binary_logloss: 0.439058\tvalid_1's binary_logloss: 0.465511\n"
     ]
    },
    {
     "name": "stderr",
     "output_type": "stream",
     "text": [
      "regularization_factors, val_score: 0.465501: 100%|##########| 20/20 [00:36<00:00,  2.15s/it][I 2022-03-20 16:01:24,308] Finished trial#62 with value: 0.4655112457937434 with parameters: {'lambda_l1': 1.94437612540785e-07, 'lambda_l2': 1.8146075909372312e-08}. Best is trial#51 with value: 0.46550118945492786.\n",
      "regularization_factors, val_score: 0.465501: 100%|##########| 20/20 [00:37<00:00,  1.85s/it]\n",
      "min_data_in_leaf, val_score: 0.465501:   0%|          | 0/5 [00:00<?, ?it/s]"
     ]
    },
    {
     "name": "stdout",
     "output_type": "stream",
     "text": [
      "Training until validation scores don't improve for 10 rounds\n",
      "[100]\ttraining's binary_logloss: 0.447289\tvalid_1's binary_logloss: 0.46679\n",
      "Early stopping, best iteration is:\n",
      "[104]\ttraining's binary_logloss: 0.446479\tvalid_1's binary_logloss: 0.46672\n"
     ]
    },
    {
     "name": "stderr",
     "output_type": "stream",
     "text": [
      "min_data_in_leaf, val_score: 0.465501:  20%|##        | 1/5 [00:01<00:05,  1.33s/it][I 2022-03-20 16:01:25,850] Finished trial#63 with value: 0.4667196253441776 with parameters: {'min_child_samples': 10}. Best is trial#63 with value: 0.4667196253441776.\n",
      "min_data_in_leaf, val_score: 0.465501:  20%|##        | 1/5 [00:01<00:05,  1.33s/it]"
     ]
    },
    {
     "name": "stdout",
     "output_type": "stream",
     "text": [
      "Training until validation scores don't improve for 10 rounds\n",
      "Early stopping, best iteration is:\n",
      "[70]\ttraining's binary_logloss: 0.454852\tvalid_1's binary_logloss: 0.46657\n"
     ]
    },
    {
     "name": "stderr",
     "output_type": "stream",
     "text": [
      "min_data_in_leaf, val_score: 0.465501:  40%|####      | 2/5 [00:02<00:03,  1.29s/it][I 2022-03-20 16:01:27,039] Finished trial#64 with value: 0.4665698735126961 with parameters: {'min_child_samples': 50}. Best is trial#64 with value: 0.4665698735126961.\n",
      "min_data_in_leaf, val_score: 0.465501:  40%|####      | 2/5 [00:02<00:03,  1.29s/it]"
     ]
    },
    {
     "name": "stdout",
     "output_type": "stream",
     "text": [
      "Training until validation scores don't improve for 10 rounds\n",
      "[100]\ttraining's binary_logloss: 0.447987\tvalid_1's binary_logloss: 0.465646\n",
      "Early stopping, best iteration is:\n",
      "[131]\ttraining's binary_logloss: 0.441749\tvalid_1's binary_logloss: 0.465181\n"
     ]
    },
    {
     "name": "stderr",
     "output_type": "stream",
     "text": [
      "min_data_in_leaf, val_score: 0.465181:  60%|######    | 3/5 [00:04<00:03,  1.53s/it][I 2022-03-20 16:01:29,136] Finished trial#65 with value: 0.4651813583279094 with parameters: {'min_child_samples': 100}. Best is trial#65 with value: 0.4651813583279094.\n",
      "min_data_in_leaf, val_score: 0.465181:  60%|######    | 3/5 [00:04<00:03,  1.53s/it]"
     ]
    },
    {
     "name": "stdout",
     "output_type": "stream",
     "text": [
      "Training until validation scores don't improve for 10 rounds\n",
      "[100]\ttraining's binary_logloss: 0.447368\tvalid_1's binary_logloss: 0.466293\n",
      "Early stopping, best iteration is:\n",
      "[117]\ttraining's binary_logloss: 0.443402\tvalid_1's binary_logloss: 0.465951\n"
     ]
    },
    {
     "name": "stderr",
     "output_type": "stream",
     "text": [
      "min_data_in_leaf, val_score: 0.465181:  80%|########  | 4/5 [00:06<00:01,  1.58s/it][I 2022-03-20 16:01:30,832] Finished trial#66 with value: 0.4659509574755774 with parameters: {'min_child_samples': 25}. Best is trial#65 with value: 0.4651813583279094.\n",
      "min_data_in_leaf, val_score: 0.465181:  80%|########  | 4/5 [00:06<00:01,  1.58s/it]"
     ]
    },
    {
     "name": "stdout",
     "output_type": "stream",
     "text": [
      "Training until validation scores don't improve for 10 rounds\n",
      "Early stopping, best iteration is:\n",
      "[79]\ttraining's binary_logloss: 0.452494\tvalid_1's binary_logloss: 0.466918\n"
     ]
    },
    {
     "name": "stderr",
     "output_type": "stream",
     "text": [
      "min_data_in_leaf, val_score: 0.465181: 100%|##########| 5/5 [00:07<00:00,  1.56s/it][I 2022-03-20 16:01:32,353] Finished trial#67 with value: 0.46691848906696826 with parameters: {'min_child_samples': 5}. Best is trial#65 with value: 0.4651813583279094.\n",
      "min_data_in_leaf, val_score: 0.465181: 100%|##########| 5/5 [00:08<00:00,  1.61s/it]\n"
     ]
    }
   ],
   "source": [
    "# データセットの作成\n",
    "lgb_train = lgb_o.Dataset(X_train.values, y_train.values)\n",
    "lgb_valid = lgb_o.Dataset(X_valid.values, y_valid.values)\n",
    "\n",
    "# チューニング実行\n",
    "params = {\n",
    "    'objective': 'binary',\n",
    "    'random_state': 100\n",
    "}\n",
    "\n",
    "lgb_clf_o = lgb_o.train(params, lgb_train, valid_sets=(lgb_train, lgb_valid), verbose_eval=100, early_stopping_rounds=10)"
   ]
  },
  {
   "cell_type": "markdown",
   "metadata": {},
   "source": [
    "1．あるハイパーパラメータを使って、lgb_trainで学習<br>\n",
    "2．そのモデルを使ってlgb_validで検証<br>\n",
    "3．検証結果を利用して、ハイパーパラメータを変えてlgb_trainで再学習<br>\n",
    "4．2～3を繰り返す"
   ]
  },
  {
   "cell_type": "code",
   "execution_count": 24,
   "metadata": {},
   "outputs": [
    {
     "data": {
      "text/plain": [
       "{'objective': 'binary',\n",
       " 'random_state': 100,\n",
       " 'lambda_l1': 1.044331469685313,\n",
       " 'lambda_l2': 0.0006884053717377605,\n",
       " 'num_leaves': 13,\n",
       " 'feature_fraction': 0.6,\n",
       " 'bagging_fraction': 1.0,\n",
       " 'bagging_freq': 0,\n",
       " 'min_child_samples': 100}"
      ]
     },
     "execution_count": 24,
     "metadata": {},
     "output_type": "execute_result"
    }
   ],
   "source": [
    "lgb_clf_o.params"
   ]
  },
  {
   "cell_type": "code",
   "execution_count": 25,
   "metadata": {},
   "outputs": [
    {
     "data": {
      "text/plain": [
       "LGBMClassifier(bagging_fraction=1.0, bagging_freq=0, feature_fraction=0.6,\n",
       "               lambda_l1=1.044331469685313, lambda_l2=0.0006884053717377605,\n",
       "               min_child_samples=100, num_leaves=13, objective='binary',\n",
       "               random_state=100)"
      ]
     },
     "execution_count": 25,
     "metadata": {},
     "output_type": "execute_result"
    }
   ],
   "source": [
    "lgb_clf = lgb.LGBMClassifier(**lgb_clf_o.params)\n",
    "lgb_clf.fit(X_train.values, y_train.values)"
   ]
  },
  {
   "cell_type": "code",
   "execution_count": 26,
   "metadata": {},
   "outputs": [],
   "source": [
    "me2 = ModelEvaluator(lgb_clf, return_tables)"
   ]
  },
  {
   "cell_type": "code",
   "execution_count": 27,
   "metadata": {},
   "outputs": [
    {
     "name": "stderr",
     "output_type": "stream",
     "text": [
      "100%|██████████| 100/100 [03:27<00:00,  2.07s/it]\n"
     ]
    }
   ],
   "source": [
    "gain_optuna = gain(me2.tansho_return_proper, X_test)"
   ]
  },
  {
   "cell_type": "code",
   "execution_count": 28,
   "metadata": {},
   "outputs": [
    {
     "data": {
      "image/png": "[encoded data removed]",
      "text/plain": [
       "<Figure size 720x576 with 1 Axes>"
      ]
     },
     "metadata": {
      "needs_background": "light"
     },
     "output_type": "display_data"
    }
   ],
   "source": [
    "plt.figure(figsize=(10, 8))\n",
    "gain_proper.rename('proper').plot(legend=True)\n",
    "gain_optuna.rename('optuna').plot(legend=True)\n",
    "plt.grid()"
   ]
  },
  {
   "cell_type": "code",
   "execution_count": 29,
   "metadata": {},
   "outputs": [
    {
     "data": {
      "text/plain": [
       "1.2956211704963414"
      ]
     },
     "execution_count": 29,
     "metadata": {},
     "output_type": "execute_result"
    }
   ],
   "source": [
    "gain_optuna.max()"
   ]
  },
  {
   "cell_type": "code",
   "execution_count": null,
   "metadata": {},
   "outputs": [],
   "source": []
  }
 ],
 "metadata": {
  "kernelspec": {
   "display_name": "Python 3",
   "language": "python",
   "name": "python3"
  },
  "language_info": {
   "codemirror_mode": {
    "name": "ipython",
    "version": 3
   },
   "file_extension": ".py",
   "mimetype": "text/x-python",
   "name": "python",
   "nbconvert_exporter": "python",
   "pygments_lexer": "ipython3",
   "version": "3.7.6"
  }
 },
 "nbformat": 4,
 "nbformat_minor": 4
}
