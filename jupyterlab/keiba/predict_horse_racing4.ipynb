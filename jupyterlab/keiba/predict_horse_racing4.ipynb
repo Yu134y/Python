{
 "cells": [
  {
   "cell_type": "markdown",
   "metadata": {},
   "source": [
    "#### インポート"
   ]
  },
  {
   "cell_type": "code",
   "execution_count": 1,
   "metadata": {},
   "outputs": [],
   "source": [
    "import pandas as pd\n",
    "import numpy as np\n",
    "import matplotlib.pyplot as plt\n",
    "import re\n",
    "import time\n",
    "import datetime\n",
    "import requests\n",
    "from tqdm import tqdm\n",
    "from bs4 import BeautifulSoup\n",
    "from sklearn.metrics import roc_auc_score\n",
    "from sklearn.preprocessing import LabelEncoder\n",
    "import lightgbm as lgb\n",
    "from urllib.request import urlopen\n",
    "import optuna.integration.lightgbm as lgb_o\n",
    "from scipy.special import comb\n",
    "from itertools import combinations"
   ]
  },
  {
   "cell_type": "markdown",
   "metadata": {},
   "source": [
    "#### クラス定義"
   ]
  },
  {
   "cell_type": "code",
   "execution_count": 2,
   "metadata": {},
   "outputs": [],
   "source": [
    "# 訓練データと出馬表データを加工する抽象クラス\n",
    "# 追加有\n",
    "class DataProcessor:\n",
    "    def __init__(self):\n",
    "        self.data = pd.DataFrame()\n",
    "        self.data_p = pd.DataFrame()  # preprocessing後の変数\n",
    "        self.data_h = pd.DataFrame()  # horse_resultsをmergeした後の変数\n",
    "        self.data_pe = pd.DataFrame()  # pedsをmergeした後の変数\n",
    "        self.data_c = pd.DataFrame()  # カテゴリ変数化した後の変数\n",
    "        \n",
    "    # 馬の過去成績データの追加\n",
    "    # 追加有\n",
    "    def merge_horse_results(self, hr, n_samples_list=[5, 9, 'all']):\n",
    "        self.data_h = self.data_p.copy()\n",
    "        for n_samples in n_samples_list:\n",
    "            self.data_h = hr.merge_all(self.data_h, n_samples=n_samples)\n",
    "            \n",
    "        # 4/6馬の出走間隔追加\n",
    "        self.data_h['interval'] = (self.data_h['date'] - self.data_h['latest']).dt.days\n",
    "        self.data_h.drop(['開催', 'latest'], axis=1, inplace=True)\n",
    "            \n",
    "    # 血統データ追加\n",
    "    def merge_peds(self, peds):\n",
    "        self.data_pe = self.data_h.merge(peds, left_on='horse_id', right_index=True, how='left')\n",
    "        self.no_peds = self.data_pe[self.data_pe['peds_0'].isnull()]['horse_id'].unique()\n",
    "        if len(self.no_peds):\n",
    "            print('scrape peds at horse_id_list \"no_peds\"')\n",
    "    \n",
    "    # カテゴリ変数の処理\n",
    "    def process_categorical(self, le_horse, le_jockey, results_m):\n",
    "        df = self.data_pe.copy()\n",
    "        \n",
    "        # ラベルエンコーディング(horse_id, jockey_idを0始まりの整数に変換)\n",
    "        # horse_id\n",
    "        mask_horse = df['horse_id'].isin(le_horse.classes_)\n",
    "        new_horse_id = df['horse_id'].mask(mask_horse).dropna().unique()\n",
    "        le_horse.classes_ = np.concatenate([le_horse.classes_, new_horse_id])\n",
    "        df['horse_id'] = le_horse.transform(df['horse_id'])\n",
    "        \n",
    "        # jockey_id\n",
    "        mask_jockey = df['jockey_id'].isin(le_jockey.classes_)\n",
    "        new_jockey_id = df['jockey_id'].mask(mask_jockey).dropna().unique()\n",
    "        le_jockey.classes_ = np.concatenate([le_jockey.classes_, new_jockey_id])\n",
    "        df['jockey_id'] = le_jockey.transform(df['jockey_id'])\n",
    "        \n",
    "        # horse_id, jockey_idをcategory型に変換\n",
    "        df['horse_id'] = df['horse_id'].astype('category')\n",
    "        df['jockey_id'] = df['jockey_id'].astype('category')\n",
    "        \n",
    "        # そのほかのカテゴリ変数をcategory型に変換してからダミー変数化\n",
    "        weathers = results_m['weather'].unique()\n",
    "        race_types = results_m['race_type'].unique()\n",
    "        ground_states = results_m['ground_state'].unique()\n",
    "        sexes = results_m['性'].unique()\n",
    "        df['weather'] = pd.Categorical(df['weather'], weathers)\n",
    "        df['race_type'] = pd.Categorical(df['race_type'], race_types)\n",
    "        df['ground_state'] = pd.Categorical(df['ground_state'], ground_states)\n",
    "        df['性'] = pd.Categorical(df['性'], sexes)\n",
    "        \n",
    "        df = pd.get_dummies(df, columns=['weather', 'race_type', 'ground_state', '性'])  \n",
    "        self.data_c = df\n",
    "\n",
    "# 予測に使う出馬表データを加工するクラス\n",
    "# 追加有\n",
    "class ShutubaTable(DataProcessor):\n",
    "    def __init__(self, shutuba_tables):\n",
    "        super(ShutubaTable, self).__init__()\n",
    "        self.data = shutuba_tables\n",
    "    \n",
    "    # 出馬表データをスクレイピング\n",
    "    # 追加有\n",
    "    @classmethod\n",
    "    def scrape(cls, race_id_list, date):\n",
    "        data = pd.DataFrame()\n",
    "        for race_id in tqdm(race_id_list):\n",
    "            url = f'https://race.netkeiba.com/race/shutuba.html?race_id={race_id}'\n",
    "            df = pd.read_html(url)[0]\n",
    "            df = df.T.reset_index(level=0, drop=True).T\n",
    "\n",
    "            html = requests.get(url)\n",
    "            html.encoding = 'EUC-JP'\n",
    "            soup = BeautifulSoup(html.text, 'html.parser')\n",
    "\n",
    "            texts = soup.find('div', attrs={'class': 'RaceData01'}).text\n",
    "            texts = re.findall(r'\\w+', texts)\n",
    "            for text in texts:\n",
    "                # 4/6 -1に修正\n",
    "                if 'm' in text:\n",
    "                    df['course_len'] = [int(re.findall(r'\\d+', text)[-1])] * len(df)\n",
    "                if text in ['曇', '晴', '雨', '小雨', '小雪', '雪']:\n",
    "                    df['weather'] = [text] * len(df)\n",
    "                if text in ['良', '稍重', '重']:\n",
    "                    df['ground_state'] = [text] * len(df)\n",
    "                if '不' in text:\n",
    "                    df['ground_state'] = ['不良'] * len(df)\n",
    "                # 4/6追加\n",
    "                if '稍' in text:\n",
    "                    df['ground_state'] = ['稍重'] * len(df)\n",
    "                if '芝' in text:\n",
    "                    df['race_type'] = ['芝'] * len(df)\n",
    "                if '障' in text:\n",
    "                    df['race_type'] = ['障害'] * len(df)\n",
    "                if 'ダ' in text:\n",
    "                    df['race_type'] = ['ダート'] * len(df)\n",
    "            df['date'] = [date] * len(df)\n",
    "\n",
    "            # horse_id\n",
    "            horse_id_list = []\n",
    "            horse_td_list = soup.find_all('td', attrs={'class': 'HorseInfo'})\n",
    "            for td in horse_td_list:\n",
    "                horse_id = re.findall(r'\\d+', td.find('a')['href'])[0]\n",
    "                horse_id_list.append(horse_id)\n",
    "            df['horse_id'] = horse_id_list\n",
    "\n",
    "            # jockey_id\n",
    "            jockey_id_list = []\n",
    "            jockey_td_list = soup.find_all('td', attrs={'class': 'Jockey'})\n",
    "            for td in jockey_td_list:\n",
    "                jockey_id = re.findall(r'\\d+', td.find('a')['href'])[0]\n",
    "                jockey_id_list.append(jockey_id)\n",
    "            df['jockey_id'] = jockey_id_list\n",
    "\n",
    "            df.index = [race_id] * len(df)\n",
    "            data = data.append(df)\n",
    "            time.sleep(1)\n",
    "        \n",
    "        return cls(data)\n",
    "    \n",
    "    # 前処理\n",
    "    # 追加有\n",
    "    def preprocessing(self):\n",
    "        df = self.data.copy()\n",
    "        \n",
    "        # 性齢を性と年齢に分ける\n",
    "        df['性'] = df['性齢'].map(lambda x: str(x)[0])\n",
    "        df['年齢'] = df['性齢'].map(lambda x: str(x)[1:]).astype(int)\n",
    "\n",
    "        # 馬体重を体重と体重変化に分ける\n",
    "        df = df[df['馬体重(増減)'] != '--']\n",
    "        df['体重'] = df['馬体重(増減)'].str.split('(', expand=True)[0].astype(int)\n",
    "        df['体重変化'] = df['馬体重(増減)'].str.split('(', expand=True)[1].str[:-1].astype(int)\n",
    "        # 4/6追加：増減が「前計不」などのときは欠損値にする\n",
    "        df['体重変化'] = pd.to_numeric(df['体重変化'], errors='coerce')\n",
    "        \n",
    "        # 日付をdatetime型に変更\n",
    "        df['date'] = pd.to_datetime(df['date'])\n",
    "\n",
    "        # データをint, floatに変換\n",
    "        df['枠'] = df['枠'].astype(int)\n",
    "        df['馬番'] = df['馬番'].astype(int)\n",
    "        df['斤量'] = df['斤量'].astype(int)\n",
    "        \n",
    "        df['開催'] = df.index.map(lambda x: str(x)[4:6])\n",
    "        \n",
    "        # 4/6追加：距離は10の位を切り捨てる\n",
    "        df['course_len'] = df['course_len'].astype(float) // 100\n",
    "        \n",
    "        # 4/6追加：出走数\n",
    "        df['n_horses'] = df.index.map(df.index.value_counts())\n",
    "    \n",
    "        # 使用する列を選択\n",
    "        df = df[['枠', '馬番', '斤量', 'course_len', 'weather', 'race_type', 'ground_state', 'date', 'horse_id', 'jockey_id', '性', '年齢', '体重', '体重変化', '開催', 'n_horses']]\n",
    "\n",
    "        self.data_p = df.rename(columns={'枠': '枠番'})\n",
    "\n",
    "# 訓練に使う過去レースデータを加工するクラス\n",
    "# 追加有\n",
    "class Results(DataProcessor):\n",
    "    def __init__(self, results):\n",
    "        super(Results, self).__init__()\n",
    "        self.data = results\n",
    "    \n",
    "    # pickleファイルの読み込みと結合\n",
    "    @classmethod\n",
    "    def read_pickle(cls, path_list):\n",
    "        df = pd.read_pickle(path_list[0])\n",
    "        for path in path_list[1:]:\n",
    "            df = update_data(df, pd.read_pickle(path))\n",
    "        return cls(df)\n",
    "    \n",
    "    # レース結果データをスクレイピング\n",
    "    # 追加有\n",
    "    @staticmethod\n",
    "    def scrape(race_id_list):\n",
    "        # race_idをkeyにしてDataFrame型を格納\n",
    "        race_results = {}\n",
    "        for race_id in tqdm(race_id_list):\n",
    "            try:\n",
    "                url = f'https://db.netkeiba.com/race/{race_id}'\n",
    "                # メインとなるテーブルデータを取得\n",
    "                df = pd.read_html(url)[0]\n",
    "\n",
    "                html = requests.get(url)\n",
    "                html.encoding = 'EUC-JP'\n",
    "                soup = BeautifulSoup(html.text, 'html.parser')\n",
    "\n",
    "                # 天候、レースの種類、コースの長さ、馬場の状態、日付をスクレイピング\n",
    "                texts = (\n",
    "                    soup.find('div', attrs={'class': 'data_intro'}).find_all('p')[0].text\n",
    "                    + soup.find('div', attrs={'class': 'data_intro'}).find_all('p')[1].text\n",
    "                )\n",
    "                info = re.findall(r'\\w+', texts)\n",
    "                for text in info:\n",
    "                    if text in ['芝', 'ダート']:\n",
    "                        df['race_type'] = [text] * len(df)\n",
    "                    if '障' in text:\n",
    "                        df['race_type'] = ['障害'] * len(df)\n",
    "                    # 4/6 -1に修正\n",
    "                    if 'm' in text:\n",
    "                        df['course_len'] = [int(re.findall(r'\\d+', text)[-1])] * len(df)\n",
    "                    if text in ['良', '稍重', '重', '不良']:\n",
    "                        df['ground_state'] = [text] * len(df)\n",
    "                    if text in ['曇', '晴', '雨', '小雨', '小雪', '雪']:\n",
    "                        df['weather'] = [text] * len(df)\n",
    "                    if '年' in text:\n",
    "                        df['date'] = [text] * len(df)\n",
    "\n",
    "                # 馬ID、騎手IDをスクレイピング\n",
    "                horse_id_list = []\n",
    "                horse_a_list = soup.find('table', attrs={'summary': 'レース結果'}).find_all('a', attrs={'href': re.compile('^/horse')})\n",
    "                for a in horse_a_list:\n",
    "                    horse_id = re.findall(r'\\d+', a['href'])\n",
    "                    horse_id_list.append(horse_id[0])\n",
    "                jockey_id_list = []\n",
    "                jockey_a_list = soup.find('table', attrs={'summary': 'レース結果'}).find_all('a', attrs={'href': re.compile('^/jockey')})\n",
    "                for a in jockey_a_list:\n",
    "                    jockey_id = re.findall(r'\\d+', a['href'])\n",
    "                    jockey_id_list.append(jockey_id[0])\n",
    "                df['horse_id'] = horse_id_list\n",
    "                df['jockey_id'] = jockey_id_list\n",
    "\n",
    "                #インデックスをrace_idにする\n",
    "                df.index = [race_id] * len(df)\n",
    "\n",
    "                race_results[race_id] = df\n",
    "                time.sleep(1)\n",
    "            # 存在しないrace_idを飛ばす\n",
    "            except IndexError:\n",
    "                continue\n",
    "            # 存在しないrace_idでAttributeErrorになるページの対処\n",
    "            except AttributeError:\n",
    "                continue\n",
    "            # wifiの接続が切れた時などでも途中までのデータを返せるようにする\n",
    "            except Exception as e:\n",
    "                print(e)\n",
    "                break\n",
    "            # Jupyterで停止ボタンを押した時の対処\n",
    "            except:\n",
    "                break\n",
    "\n",
    "        # pd.DataFrame型にして一つのデータにまとめる\n",
    "        race_results_df = pd.concat([race_results[key] for key in race_results])\n",
    "\n",
    "        return race_results_df\n",
    "    \n",
    "    # 前処理\n",
    "    # 追加有\n",
    "    def preprocessing(self):\n",
    "        df = self.data.copy()\n",
    "\n",
    "        # 着順に数字以外の文字列が含まれているものを取り除く\n",
    "        df['着順'] = pd.to_numeric(df['着順'], errors='coerce')\n",
    "        df.dropna(subset=['着順'], inplace=True)\n",
    "        df['着順'] = df['着順'].astype(int)\n",
    "        df['rank'] = df['着順'].map(lambda x: 1 if x < 4 else 0)\n",
    "\n",
    "        # 性齢を性と年齢に分ける\n",
    "        df['性'] = df['性齢'].map(lambda x: str(x)[0])\n",
    "        df['年齢'] = df['性齢'].map(lambda x: str(x)[1:]).astype(int)\n",
    "\n",
    "        # 馬体重を体重と体重変化に分ける\n",
    "        df['体重'] = df['馬体重'].str.split('(', expand=True)[0].astype(int)\n",
    "        df['体重変化'] = df['馬体重'].str.split('(', expand=True)[1].str[:-1].astype(int)\n",
    "\n",
    "        # データをint, floatに変換\n",
    "        df['単勝'] = df['単勝'].astype(float)\n",
    "        # 距離は10の位を切り捨てる\n",
    "        df['course_len'] = df['course_len'].astype(float) // 100\n",
    "\n",
    "        # 不要な列を削除\n",
    "        df.drop(['タイム', '着差', '調教師', '性齢', '馬体重', '馬名', '騎手', '人気', '着順'], axis=1, inplace=True)\n",
    "\n",
    "        df['date'] = pd.to_datetime(df['date'], format='%Y年%m月%d日')\n",
    "        \n",
    "        # 開催場所\n",
    "        df['開催'] = df.index.map(lambda x: str(x)[4:6])\n",
    "        \n",
    "        # 6/6出走数追加\n",
    "        df['n_horses'] = df.index.map(df.index.value_counts())\n",
    "\n",
    "        self.data_p = df\n",
    "    \n",
    "    # カテゴリ変数の処理\n",
    "    def process_categorical(self):\n",
    "        self.le_horse = LabelEncoder().fit(self.data_pe['horse_id'])\n",
    "        self.le_jockey = LabelEncoder().fit(self.data_pe['jockey_id'])        \n",
    "        super().process_categorical(self.le_horse, self.le_jockey, self.data_pe)\n",
    "\n",
    "# 馬の過去成績データを処理するクラス\n",
    "# 追加有\n",
    "class HorseResults:\n",
    "    def __init__(self, horse_results):\n",
    "        self.horse_results = horse_results[['日付', '着順', '賞金', '着差', '通過', '開催', '距離']]\n",
    "        self.preprocessing()\n",
    "    \n",
    "    # pickleファイルの読み込みと結合\n",
    "    @classmethod\n",
    "    def read_pickle(cls, path_list):\n",
    "        df = pd.read_pickle(path_list[0])\n",
    "        for path in path_list[1:]:\n",
    "            df = update_data(df, pd.read_pickle(path))\n",
    "        return cls(df)\n",
    "    \n",
    "    # 馬の過去成績データをスクレイピング\n",
    "    @staticmethod\n",
    "    def scrape(horse_id_list):\n",
    "        # horse_idをkeyにしてDataFrame型を格納\n",
    "        horse_results = {}\n",
    "        for horse_id in tqdm(horse_id_list):\n",
    "            try:\n",
    "                url = f'https://db.netkeiba.com/horse/{horse_id}'\n",
    "                # メインとなるテーブルデータを取得\n",
    "                df = pd.read_html(url)[3]\n",
    "                # 受賞歴がある馬の場合、4番目に受賞歴テーブルが来るため、5番目のデータを取得する\n",
    "                if df.columns[0] == '受賞歴':\n",
    "                    df = pd.read_html(url)[4]\n",
    "                df.index = [horse_id] * len(df)\n",
    "                horse_results[horse_id] = df\n",
    "                time.sleep(1)\n",
    "            except IndexError:\n",
    "                continue\n",
    "            except Exception as e:\n",
    "                print(e)\n",
    "                break\n",
    "            except:\n",
    "                break\n",
    "        \n",
    "        # pd.DataFrame型にして一つのデータにまとめる\n",
    "        horse_results_df = pd.concat([horse_results[key] for key in horse_results])\n",
    "        \n",
    "        return horse_results_df\n",
    "    \n",
    "    # 前処理\n",
    "    def preprocessing(self):\n",
    "        df = self.horse_results.copy()\n",
    "        \n",
    "        # 着順に数字以外の文字列が含まれているものを取り除く\n",
    "        df['着順'] = pd.to_numeric(df['着順'], errors='coerce')\n",
    "        df.dropna(subset=['着順'], inplace=True)\n",
    "        df['着順'] = df['着順'].astype(int)\n",
    "        \n",
    "        df['date'] = pd.to_datetime(df['日付'])\n",
    "        df.drop(['日付'], axis=1, inplace=True)\n",
    "        \n",
    "        # 賞金の欠損値を0で埋める\n",
    "        df['賞金'].fillna(0, inplace=True)\n",
    "        \n",
    "        # 1着の着差を0にする\n",
    "        df['着差'] = df['着差'].map(lambda x: 0 if x < 0 else x)\n",
    "                                            \n",
    "        # レース展開データ\n",
    "        def corner(x, n):\n",
    "            if type(x) != str:\n",
    "                return x\n",
    "            # n=1: 最初のコーナー位置、n=4: 最終コーナー位置\n",
    "            if n == 1:\n",
    "                return int(re.findall(r'\\d+', x)[0])\n",
    "            if n == 4:\n",
    "                return int(re.findall(r'\\d+', x)[-1])\n",
    "                                            \n",
    "        df['first_corner'] = df['通過'].map(lambda x: corner(x, 1))\n",
    "        df['final_corner'] = df['通過'].map(lambda x: corner(x, 4))\n",
    "        \n",
    "        df['first_to_rank'] = df['first_corner'] - df['着順']\n",
    "        df['final_to_rank'] = df['final_corner'] - df['着順']\n",
    "        df['first_to_final'] = df['first_corner'] - df['final_corner']\n",
    "        \n",
    "        # 開催場所\n",
    "        df['開催'] = df['開催'].str.extract(r'(\\D+)')[0].map(place_dict).fillna('11')\n",
    "        # race_type\n",
    "        df['race_type'] = df['距離'].str.extract(r'(\\D+)')[0].map(race_type_dict)\n",
    "        # 距離は10の位を切り捨てる\n",
    "        df['course_len'] = df['距離'].str.extract(r'(\\d+)').astype(int) // 100\n",
    "        df.drop(['距離'], axis=1, inplace=True)\n",
    "        \n",
    "        # インデックス名を与える\n",
    "        df.index.name = 'horse_id'\n",
    "        \n",
    "        self.horse_results = df\n",
    "        self.target_list = ['着順', '賞金', '着差', 'first_corner', 'final_corner', 'first_to_rank', 'final_to_rank', 'first_to_final']\n",
    "    \n",
    "    # n_samplesレース分馬ごとに平均する\n",
    "    # 追加有\n",
    "    def average(self, horse_id_list, date, n_samples='all'):\n",
    "        target_df = self.horse_results.query('index in @horse_id_list')\n",
    "        \n",
    "        # 過去何走分取り出すか指定\n",
    "        if n_samples == 'all':\n",
    "            filtered_df = target_df[target_df['date'] < date]\n",
    "        elif n_samples > 0:\n",
    "            filtered_df = target_df[target_df['date'] < date].sort_values('date', ascending=False).groupby(level=0).head(n_samples)\n",
    "        else:\n",
    "            raise Exception('n_samples must be integer')\n",
    "        \n",
    "        # 集計して辞書型に入れる\n",
    "        self.average_dict = {}\n",
    "        self.average_dict['non_category'] = filtered_df.groupby(level=0)[self.target_list].mean().add_suffix(f'_{n_samples}R')\n",
    "        for column in ['course_len', 'race_type', '開催']:\n",
    "            self.average_dict[column] = filtered_df.groupby(['horse_id', column])[self.target_list].mean().add_suffix(f'_{column}_{n_samples}R')\n",
    "        \n",
    "        # 4/6追加：全レースの日付を変数latestに格納\n",
    "        if n_samples == 5:\n",
    "            self.latest = filtered_df.groupby('horse_id')['date'].max().rename('latest')\n",
    "    \n",
    "    # 追加有\n",
    "    def merge(self, results, date, n_samples='all'):\n",
    "        df = results[results['date'] == date]\n",
    "        horse_id_list = df['horse_id']\n",
    "        self.average(horse_id_list, date, n_samples)\n",
    "        merged_df = df.merge(self.average_dict['non_category'], left_on='horse_id', right_index=True, how='left')\n",
    "        for column in ['course_len', 'race_type', '開催']:\n",
    "            merged_df = merged_df.merge(self.average_dict[column], left_on=['horse_id', column], right_index=True, how='left')\n",
    "            \n",
    "        # 4/6追加：全レースの日付を変数latestに格納\n",
    "        if n_samples == 5:\n",
    "            merged_df = merged_df.merge(self.latest, left_on='horse_id', right_index=True, how='left')\n",
    "            \n",
    "        return merged_df\n",
    "    \n",
    "    def merge_all(self, results, n_samples='all'):\n",
    "        date_list = results['date'].unique()\n",
    "        merged_df = pd.concat([self.merge(results, date, n_samples) for date in tqdm(date_list)])\n",
    "        return merged_df\n",
    "\n",
    "# 血統データを処理するクラス\n",
    "class Peds:\n",
    "    def __init__(self, peds):\n",
    "        self.peds = peds\n",
    "        self.peds_e = pd.DataFrame()  # LabelEncodingしてcategory型にした変数\n",
    "    \n",
    "    # pickleファイルの読み込みと結合\n",
    "    @classmethod\n",
    "    def read_pickle(cls, path_list):\n",
    "        df = pd.read_pickle(path_list[0])\n",
    "        for path in path_list[1:]:\n",
    "            df = update_data(df, pd.read_pickle(path))\n",
    "        return cls(df)\n",
    "    \n",
    "    # 血糖データをスクレイピング\n",
    "    @staticmethod\n",
    "    def scrape(horse_id_list):\n",
    "        peds_dict = {}\n",
    "        for horse_id in tqdm(horse_id_list):\n",
    "            try:\n",
    "                url = f'https://db.netkeiba.com/horse/ped/{horse_id}'\n",
    "                df = pd.read_html(url)[0]\n",
    "\n",
    "                # 重複を削除して1列のSeries型データに治す\n",
    "                generations = {}\n",
    "                for i in reversed(range(5)):\n",
    "                    generations[i] = df[i]\n",
    "                    df.drop([i], axis=1, inplace=True)\n",
    "                    df = df.drop_duplicates()\n",
    "\n",
    "                ped = pd.concat([generations[i] for i in range(5)]).rename(horse_id)\n",
    "                peds_dict[horse_id] = ped.reset_index(drop=True)\n",
    "                time.sleep(1)\n",
    "            except IndexError:\n",
    "                continue\n",
    "            except Exception as e:\n",
    "                print(e)\n",
    "                break\n",
    "            except:\n",
    "                break\n",
    "        \n",
    "        # 列名をpeds_0, ..., peds_61にする\n",
    "        peds_df = pd.concat([peds_dict[key] for key in peds_dict], axis=1).T.add_prefix('peds_')\n",
    "        \n",
    "        return peds_df\n",
    "    \n",
    "    def encode(self):\n",
    "        df = self.peds.copy()\n",
    "        for column in df.columns:\n",
    "            df[column] = LabelEncoder().fit_transform(df[column].fillna('Na'))\n",
    "        self.peds_e = df.astype('category')\n",
    "\n",
    "# 払い戻し表データを加工するクラス\n",
    "class Return:\n",
    "    def __init__(self, return_tables):\n",
    "        self.return_tables = return_tables\n",
    "    \n",
    "    # pickleファイルの読み込みと結合\n",
    "    @classmethod\n",
    "    def read_pickle(cls, path_list):\n",
    "        df = pd.read_pickle(path_list[0])\n",
    "        for path in path_list[1:]:\n",
    "            df = update_data(df, pd.read_pickle(path))\n",
    "        return cls(df)\n",
    "    \n",
    "    # 払い戻し表データをスクレイピング\n",
    "    @staticmethod\n",
    "    def scrape(race_id_list):\n",
    "        return_tables = {}\n",
    "        for race_id in tqdm(race_id_list):\n",
    "            try:\n",
    "                url = f'https://db.netkeiba.com/race/{race_id}'\n",
    "\n",
    "                # 複勝やワイドなどが区切られてしまうため、改行コードを文字列に変換して後でsplitする\n",
    "                f = urlopen(url)\n",
    "                html = f.read()\n",
    "                html = html.replace(b'<br />', b'br')            \n",
    "                dfs = pd.read_html(html)\n",
    "\n",
    "                # dfsの2番目に単勝～馬連、3番目にワイド～3連単がある\n",
    "                df = pd.concat([dfs[1], dfs[2]])\n",
    "                \n",
    "                df.index = [race_id] * len(df)\n",
    "                return_tables[race_id] = df\n",
    "                time.sleep(1)\n",
    "            except IndexError:\n",
    "                continue\n",
    "            except Exception as e:\n",
    "                print(e)\n",
    "                break\n",
    "            except:\n",
    "                break\n",
    "        \n",
    "        # pd.DataFrame型にして一つのデータにまとめる\n",
    "        return_tables_df = pd.concat([return_tables[key] for key in return_tables])\n",
    "        \n",
    "        return return_tables_df\n",
    "    \n",
    "    # 複勝の勝ち馬と払い戻しのデータを取り出す\n",
    "    @property\n",
    "    def fukusho(self):\n",
    "        fukusho = self.return_tables[self.return_tables[0] == '複勝'][[1, 2]]\n",
    "        \n",
    "        # 勝ち馬\n",
    "        wins = fukusho[1].str.split('br', expand=True)[[0, 1, 2]]\n",
    "        wins.columns = ['win_0', 'win_1', 'win_2']\n",
    "        \n",
    "        # 払い戻し\n",
    "        returns = fukusho[2].str.split('br', expand=True)[[0, 1, 2]]\n",
    "        returns.columns = ['return_0', 'return_1', 'return_2']\n",
    "        \n",
    "        df = pd.concat([wins, returns], axis=1)\n",
    "        \n",
    "        # int型に変換できないデータがあるので処理\n",
    "        for column in df.columns:\n",
    "            df[column] = df[column].str.replace(',', '')\n",
    "            \n",
    "        df = df.fillna(0).astype(int)\n",
    "        \n",
    "        return df\n",
    "    \n",
    "    # 単勝の勝ち馬と払い戻しのデータを取り出す\n",
    "    @property\n",
    "    def tansho(self):\n",
    "        tansho = self.return_tables[self.return_tables[0] == '単勝'][[1, 2]]\n",
    "        tansho.columns = ['win', 'return']\n",
    "        \n",
    "        for column in tansho.columns:\n",
    "            tansho[column] = pd.to_numeric(tansho[column], errors='coerce')\n",
    "            \n",
    "        return tansho\n",
    "    \n",
    "    # 馬連の勝ち馬と払い戻しのデータを取り出す\n",
    "    @property\n",
    "    def umaren(self):\n",
    "        umaren = self.return_tables[self.return_tables[0] == '馬連'][[1, 2]]\n",
    "        wins = umaren[1].str.split('-', expand=True)[[0, 1]].add_prefix('win_')\n",
    "        return_ = umaren[2].rename('return')\n",
    "        df = pd.concat([wins, return_], axis=1)      \n",
    "        df = df.apply(lambda x: pd.to_numeric(x, errors='coerce'))\n",
    "        \n",
    "        return df\n",
    "    \n",
    "    # 馬単の勝ち馬と払い戻しのデータを取り出す\n",
    "    @property\n",
    "    def umatan(self):\n",
    "        umatan = self.return_tables[self.return_tables[0] == '馬単'][[1, 2]]\n",
    "        wins = umatan[1].str.split('→', expand=True)[[0, 1]].add_prefix('win_')\n",
    "        return_ = umatan[2].rename('return')\n",
    "        df = pd.concat([wins, return_], axis=1)      \n",
    "        df = df.apply(lambda x: pd.to_numeric(x, errors='coerce'))\n",
    "        \n",
    "        return df\n",
    "    \n",
    "    # ワイドの勝ち馬と払い戻しのデータを取り出す\n",
    "    @property\n",
    "    def wide(self):\n",
    "        wide = self.return_tables[self.return_tables[0] == 'ワイド'][[1, 2]]\n",
    "        wins = wide[1].str.split('br', expand=True)[[0, 1, 2]]\n",
    "        wins = wins.stack().str.split('-', expand=True).add_prefix('win_')\n",
    "        return_ = wide[2].str.split('br', expand=True)[[0, 1, 2]]\n",
    "        return_ = return_.stack().rename('return')\n",
    "        df = pd.concat([wins, return_], axis=1)\n",
    "        df = df.apply(lambda x: pd.to_numeric(x.str.replace(',', ''), errors='coerce'))\n",
    "        \n",
    "        return df\n",
    "    \n",
    "    # 三連複の勝ち馬と払い戻しのデータを取り出す\n",
    "    @property\n",
    "    def sanrenpuku(self):\n",
    "        sanrenpuku = self.return_tables[self.return_tables[0] == '三連複'][[1, 2]]\n",
    "        wins = sanrenpuku[1].str.split('-', expand=True)[[0, 1, 2]].add_prefix('win_')\n",
    "        return_ = sanrenpuku[2].rename('return')\n",
    "        df = pd.concat([wins, return_], axis=1)      \n",
    "        df = df.apply(lambda x: pd.to_numeric(x, errors='coerce'))\n",
    "        \n",
    "        return df\n",
    "    \n",
    "    # 三連単の勝ち馬と払い戻しのデータを取り出す\n",
    "    @property\n",
    "    def sanrentan(self):\n",
    "        sanrentan = self.return_tables[self.return_tables[0] == '三連単'][[1, 2]]\n",
    "        wins = sanrentan[1].str.split('→', expand=True)[[0, 1, 2]].add_prefix('win_')\n",
    "        return_ = sanrentan[2].rename('return')\n",
    "        df = pd.concat([wins, return_], axis=1)      \n",
    "        df = df.apply(lambda x: pd.to_numeric(x, errors='coerce'))\n",
    "        \n",
    "        return df\n",
    "        \n",
    "# 予測モデルを評価するクラス\n",
    "# 追加有\n",
    "class ModelEvaluator:\n",
    "    def __init__(self, model, return_tables_path_list):\n",
    "        self.model = model\n",
    "        self.rt = Return.read_pickle(return_tables_path_list)\n",
    "        self.fukusho = self.rt.fukusho\n",
    "        self.tansho = self.rt.tansho\n",
    "        self.umaren = self.rt.umaren\n",
    "        self.umatan = self.rt.umatan\n",
    "        self.wide = self.rt.wide\n",
    "        self.sanrenpuku = self.rt.sanrenpuku\n",
    "        self.sanrentan = self.rt.sanrentan\n",
    "    \n",
    "    # 1（3着以内）になる確率を予測\n",
    "    # 追加有\n",
    "    def predict_proba(self, x, train=True, std=True, minmax=False):\n",
    "        # 4/17追加\n",
    "        if train:\n",
    "            proba = pd.Series(self.model.predict_proba(x.drop(['単勝'], axis=1))[:, 1], index=x.index)\n",
    "        else:\n",
    "            proba = pd.Series(self.model.predict_proba(x, axis=1)[:, 1], index=x.index)\n",
    "        if std:\n",
    "            # 標準化：レース内で相対評価する\n",
    "            standard_scaler = lambda x: (x - x.mean()) / x.std(ddof=0)\n",
    "            proba = proba.groupby(level=0).transform(standard_scaler)\n",
    "        if minmax:\n",
    "            # MinMaxスケーリング：データを0から1にする\n",
    "            proba = (proba - proba.min()) / (proba.max() - proba.min())\n",
    "        return proba\n",
    "    \n",
    "    # thresholdの値によってpredict_probaで出した値を0か1に決定する\n",
    "    # 追加有\n",
    "    def predict(self, x, threshold=0.5):\n",
    "        y_pred = self.predict_proba(x)\n",
    "        # 4/17追加\n",
    "        self.proba = y_pred\n",
    "        return [0 if p < threshold else 1 for p in y_pred]\n",
    "    \n",
    "    # スコアを表示\n",
    "    def score(self, y_true, x):\n",
    "        return roc_auc_score(y_true, self.predict_proba(x))\n",
    "    \n",
    "    # 変数の重要度を出力\n",
    "    def feature_importance(self, x, n_display=20):\n",
    "        importances = pd.DataFrame(\n",
    "            {\"features\": x.columns, \"importance\": self.model.feature_importances_}\n",
    "        )\n",
    "        return importances.sort_values('importance', ascending=False)[:n_display]\n",
    "    \n",
    "    # 予測したレースIDと馬番を出力する\n",
    "    # 追加有\n",
    "    def pred_table(self, x, threshold=0.5, bet_only=True):\n",
    "        pred_table = x.copy()[['馬番', '単勝']]\n",
    "        pred_table['pred'] = self.predict(x, threshold)\n",
    "        # 4/17追加\n",
    "        pred_table['score'] = self.proba\n",
    "        \n",
    "        if bet_only:\n",
    "            # 4/17追加\n",
    "            return pred_table[pred_table['pred'] == 1][['馬番', '単勝', 'score']]\n",
    "        return pred_table[['馬番', '単勝', 'score', 'pred']]\n",
    "    \n",
    "    def bet(self, race_id, kind, umaban, amount):\n",
    "        if kind == 'tansho':\n",
    "            rt_1R = self.tansho.loc[race_id]\n",
    "            return_ = (rt_1R['win'] == umaban) * rt_1R['return'] * amount / 100\n",
    "        if kind == 'fukusho':\n",
    "            rt_1R = self.fukusho.loc[race_id]\n",
    "            return_ = (rt_1R[['win_0', 'win_1', 'win_2']] == umaban).values * rt_1R[['return_0', 'return_1', 'return_2']].values * amount / 100\n",
    "            return_ = np.sum(return_)\n",
    "        if kind == 'umaren':\n",
    "            rt_1R = self.umaren.loc[race_id]\n",
    "            return_ = (set(rt_1R[['win_0', 'win_1']]) == set(umaban)) * rt_1R['return'] * amount / 100\n",
    "        if kind == 'umatan':\n",
    "            rt_1R = self.umatan.loc[race_id]\n",
    "            return_ = (list(rt_1R[['win_0', 'win_1']]) == list(umaban)) * rt_1R['return'] * amount / 100\n",
    "        if kind == 'wide':\n",
    "            rt_1R = self.wide.loc[race_id]\n",
    "            return_ = (rt_1R[['win_0', 'win_1']].apply(lambda x: set(x) == set(umaban), axis=1)) * rt_1R['return'] * amount / 100\n",
    "            return_ = return_.sum()\n",
    "        if kind == 'sanrenpuku':\n",
    "            rt_1R = self.sanrenpuku.loc[race_id]\n",
    "            return_ = (set(rt_1R[['win_0', 'win_1', 'win_2']]) == set(umaban)) * rt_1R['return'] * amount / 100\n",
    "        if kind == 'sanrentan':\n",
    "            rt_1R = self.sanrentan.loc[race_id]\n",
    "            return_ = (list(rt_1R[['win_0', 'win_1', 'win_2']]) == list(umaban)) * rt_1R['return'] * amount / 100\n",
    "        if not (return_ >= 0):\n",
    "            return_ = amount\n",
    "            \n",
    "        return return_\n",
    "    \n",
    "    # 複勝の払い戻しを表示\n",
    "    def fukusho_return(self, x, threshold=0.5):\n",
    "        pred_table = self.pred_table(x, threshold)\n",
    "        n_bets = len(pred_table)\n",
    "        \n",
    "        return_list = []\n",
    "        for race_id, preds in pred_table.groupby(level=0):\n",
    "            # 賭けた金額＝賭けた枚数になるように1円を賭ける\n",
    "            return_list.append(np.sum([self.bet(race_id, 'fukusho', umaban, 1) for umaban in preds['馬番']]))\n",
    "        \n",
    "        return_rate = np.sum(return_list) / n_bets\n",
    "        n_hits = np.sum([x > 0 for x in return_list])\n",
    "        std = np.sqrt(len(return_list)) * np.std(return_list) / n_bets\n",
    "        \n",
    "        return n_bets, return_rate, n_hits, std\n",
    "        \n",
    "    # 単勝の払い戻しを表示\n",
    "    def tansho_return(self, x, threshold=0.5):\n",
    "        pred_table = self.pred_table(x, threshold)\n",
    "        n_bets = len(pred_table)\n",
    "        \n",
    "        return_list = []\n",
    "        for race_id, preds in pred_table.groupby(level=0):\n",
    "            # 賭けた金額＝賭けた枚数になるように1円を賭ける\n",
    "            return_list.append(np.sum([self.bet(race_id, 'tansho', umaban, 1) for umaban in preds['馬番']]))\n",
    "        \n",
    "        return_rate = np.sum(return_list) / n_bets\n",
    "        n_hits = np.sum([x > 0 for x in return_list])\n",
    "        std = np.sqrt(len(return_list)) * np.std(return_list) / n_bets\n",
    "        \n",
    "        return n_bets, return_rate, n_hits, std\n",
    "    \n",
    "    # モデルによって「賭ける」と判断された馬たち\n",
    "    def tansho_return_proper(self, x, threshold=0.5):\n",
    "        pred_table = self.pred_table(x, threshold)\n",
    "        n_bets = len(pred_table)\n",
    "        \n",
    "        return_list = []\n",
    "        for race_id, preds in pred_table.groupby(level=0):\n",
    "            # 賭けた金額＝賭けた枚数になるように1円を賭ける\n",
    "            return_list.append(np.sum(preds.apply(lambda x: self.bet(race_id, 'tansho', x['馬番'], 1/x['単勝']), axis=1)))\n",
    "        \n",
    "        bet_money = (1 / pred_table['単勝']).sum()\n",
    "        return_rate = np.sum(return_list) / n_bets\n",
    "        n_hits = np.sum([x > 0 for x in return_list])\n",
    "        std = np.sqrt(len(return_list)) * np.std(return_list) / bet_money\n",
    "        \n",
    "        return n_bets, return_rate, n_hits, std\n",
    "    \n",
    "    # 馬連(ボックス)の払い戻しを表示\n",
    "    def umaren_box(self, x, threshold=0.5, n_aite=5):\n",
    "        pred_table = self.pred_table(x, threshold)\n",
    "        n_bets = 0\n",
    "        \n",
    "        return_list = []\n",
    "        for race_id, preds in pred_table.groupby(level=0):\n",
    "            return_ = 0\n",
    "            preds_jiku = preds.query('pred == 1')\n",
    "            if len(preds_jiku) == 1:\n",
    "                continue\n",
    "            elif len(preds_jiku) >= 2:\n",
    "                for umaban in combinations(preds_jiku['馬番'], 2):\n",
    "                    return_ += self.bet(race_id, 'umaren', umaban, 1)\n",
    "                    n_bets += 1\n",
    "                return_list.append(return_)\n",
    "        \n",
    "        return_rate = np.sum(return_list) / n_bets\n",
    "        n_hits = np.sum([x > 0 for x in return_list])\n",
    "        std = np.sqrt(len(return_list)) * np.std(return_list) / n_bets\n",
    "        \n",
    "        return n_bets, return_rate, n_hits, std\n",
    "    \n",
    "    # 馬単(ボックス)の払い戻しを表示\n",
    "    def umatan_box(self, x, threshold=0.5, n_aite=5):\n",
    "        pred_table = self.pred_table(x, threshold, bet_only=False)\n",
    "        n_bets = 0\n",
    "        \n",
    "        return_list = []\n",
    "        for race_id, preds in pred_table.groupby(level=0):\n",
    "            return_ = 0\n",
    "            preds_jiku = preds.query('pred == 1')\n",
    "            if len(preds_jiku) == 1:\n",
    "                continue\n",
    "            elif len(preds_jiku) >= 2:\n",
    "                for umaban in permutations(preds_jiku['馬番'], 2):\n",
    "                    return_ += self.bet(race_id, 'umatan', umaban, 1)\n",
    "                    n_bets += 1\n",
    "            return_list.append(return_)\n",
    "        \n",
    "        return_rate = np.sum(return_list) / n_bets\n",
    "        n_hits = np.sum([x > 0 for x in return_list])\n",
    "        std = np.sqrt(len(return_list)) * np.std(return_list) / n_bets\n",
    "        \n",
    "        return n_bets, return_rate, n_hits, std\n",
    "    \n",
    "    # ワイド(ボックス)の払い戻しを表示\n",
    "    def wide_box(self, x, threshold=0.5, n_aite=5):\n",
    "        pred_table = self.pred_table(x, threshold, bet_only=False)\n",
    "        n_bets = 0\n",
    "        \n",
    "        return_list = []\n",
    "        for race_id, preds in pred_table.groupby(level=0):\n",
    "            return_ = 0\n",
    "            preds_jiku = preds.query('pred == 1')\n",
    "            if len(preds_jiku) == 1:\n",
    "                continue\n",
    "            elif len(preds_jiku) >= 2:\n",
    "                for umaban in combinations(preds_jiku['馬番'], 2):\n",
    "                    return_ += self.bet(race_id, 'wide', umaban, 1)\n",
    "                    n_bets += 1\n",
    "                return_list.append(return_)\n",
    "                \n",
    "        return_rate = np.sum(return_list) / n_bets\n",
    "        n_hits = np.sum([x > 0 for x in return_list])\n",
    "        std = np.sqrt(len(return_list)) * np.std(return_list) / n_bets\n",
    "        \n",
    "        return n_bets, return_rate, n_hits, std\n",
    "    \n",
    "    # 三連単(ボックス)の払い戻しを表示\n",
    "    def sanrentan_box(self, x, threshold=0.5):\n",
    "        pred_table = self.pred_table(x, threshold)\n",
    "        n_bets = 0\n",
    "        \n",
    "        return_list = []\n",
    "        for race_id, preds in pred_table.groupby(level=0):\n",
    "            return_ = 0\n",
    "            if len(preds) < 3:\n",
    "                continue\n",
    "            else:\n",
    "                for umaban in permutations(preds['馬番'], 3):\n",
    "                    return_ += self.bet(race_id, 'sanrentan', umaban, 1)\n",
    "                    n_bets += 1\n",
    "                return_list.append(return_)\n",
    "                \n",
    "        return_rate = np.sum(return_list) / n_bets\n",
    "        n_hits = np.sum([x > 0 for x in return_list])\n",
    "        std = np.sqrt(len(return_list)) * np.std(return_list) / n_bets\n",
    "        \n",
    "        return n_bets, return_rate, n_hits, std\n",
    "    \n",
    "    # 三連複(ボックス)の払い戻しを表示\n",
    "    def sanrenpuku_box(self, x, threshold=0.5):\n",
    "        pred_table = self.pred_table(x, threshold)\n",
    "        n_bets = 0\n",
    "        \n",
    "        return_list = []\n",
    "        for race_id, preds in pred_table.groupby(level=0):\n",
    "            return_ = 0\n",
    "            if len(preds) < 3:\n",
    "                continue\n",
    "            else:\n",
    "                for umaban in combinations(preds['馬番'], 3):\n",
    "                    return_ += self.bet(race_id, 'sanrenpuku', umaban, 1)\n",
    "                    n_bets += 1\n",
    "                return_list.append(return_)\n",
    "        \n",
    "        return_rate = np.sum(return_list) / n_bets\n",
    "        n_hits = np.sum([x > 0 for x in return_list])\n",
    "        std = np.sqrt(len(return_list)) * np.std(return_list) / n_bets\n",
    "        \n",
    "        return n_bets, return_rate, n_hits, std\n",
    "    \n",
    "    # 馬連(流し)の払い戻しを表示\n",
    "    def umaren_nagashi(self, x, threshold=0.5, n_aite=5):\n",
    "        pred_table = self.pred_table(x, threshold, bet_only=False)\n",
    "        n_bets = 0\n",
    "        \n",
    "        return_list = []\n",
    "        for race_id, preds in pred_table.groupby(level=0):\n",
    "            return_ = 0\n",
    "            preds_jiku = preds.query('pred == 1')\n",
    "            if len(preds_jiku) == 1:\n",
    "                preds_aite = preds.sort_values('score', ascending = False).iloc[1:(n_aite+1)]['馬番']\n",
    "                return_ = preds_aite.map(lambda x: self.bet(race_id, 'umaren', [preds_jiku['馬番'].values[0], x], 1)).sum()\n",
    "                n_bets += n_aite\n",
    "                return_list.append(return_)\n",
    "            elif len(preds_jiku) >= 2:\n",
    "                for umaban in combinations(preds_jiku['馬番'], 2):\n",
    "                    return_ += self.bet(race_id, 'umaren', umaban, 1)\n",
    "                    n_bets += 1\n",
    "                return_list.append(return_)\n",
    "                \n",
    "        return_rate = np.sum(return_list) / n_bets\n",
    "        n_hits = np.sum([x > 0 for x in return_list])\n",
    "        std = np.sqrt(len(return_list)) * np.std(return_list) / n_bets\n",
    "        \n",
    "        return n_bets, return_rate, n_hits, std\n",
    "    \n",
    "    # 馬単(流し)の払い戻しを表示\n",
    "    def umatan_nagashi(self, x, threshold=0.5, n_aite=5):\n",
    "        pred_table = self.pred_table(x, threshold, bet_only = False)\n",
    "        n_bets = 0\n",
    "        \n",
    "        return_list = []\n",
    "        for race_id, preds in pred_table.groupby(level=0):\n",
    "            return_ = 0\n",
    "            preds_jiku = preds.query('pred == 1')\n",
    "            if len(preds_jiku) == 1:\n",
    "                preds_aite = preds.sort_values('score', ascending = False).iloc[1:(n_aite+1)]['馬番']\n",
    "                return_ = preds_aite.map(lambda x: self.bet(race_id, 'umatan', [preds_jiku['馬番'].values[0], x], 1)).sum()\n",
    "                n_bets += n_aite\n",
    "            elif len(preds_jiku) >= 2:\n",
    "                for umaban in permutations(preds_jiku['馬番'], 2):\n",
    "                    return_ += self.bet(race_id, 'umatan', umaban, 1)\n",
    "                    n_bets += 1\n",
    "            return_list.append(return_)\n",
    "            \n",
    "        return_rate = np.sum(return_list) / n_bets\n",
    "        n_hits = np.sum([x > 0 for x in return_list])\n",
    "        std = np.sqrt(len(return_list)) * np.std(return_list) / n_bets\n",
    "        \n",
    "        return n_bets, return_rate, n_hits, std\n",
    "    \n",
    "    # ワイド(流し)の払い戻しを表示\n",
    "    def wide_nagashi(self, x, threshold=0.5, n_aite=5):\n",
    "        pred_table = self.pred_table(x, threshold, bet_only=False)\n",
    "        n_bets = 0\n",
    "        \n",
    "        return_list = []\n",
    "        for race_id, preds in pred_table.groupby(level=0):\n",
    "            return_ = 0\n",
    "            preds_jiku = preds.query('pred == 1')\n",
    "            if len(preds_jiku) == 1:\n",
    "                preds_aite = preds.sort_values('score', ascending = False).iloc[1:(n_aite+1)]['馬番']\n",
    "                return_ = preds_aite.map(lambda x: self.bet(race_id, 'wide', [preds_jiku['馬番'].values[0], x], 1)).sum()\n",
    "                n_bets += len(preds_aite)\n",
    "                return_list.append(return_)\n",
    "            elif len(preds_jiku) >= 2:\n",
    "                for umaban in combinations(preds_jiku['馬番'], 2):\n",
    "                    return_ += self.bet(race_id, 'wide', umaban, 1)\n",
    "                    n_bets += 1\n",
    "                return_list.append(return_)\n",
    "                \n",
    "        return_rate = np.sum(return_list) / n_bets\n",
    "        n_hits = np.sum([x > 0 for x in return_list])\n",
    "        std = np.sqrt(len(return_list)) * np.std(return_list) / n_bets\n",
    "        \n",
    "        return n_bets, return_rate, n_hits, std\n",
    "    \n",
    "    # 三連単(流し)の払い戻しを表示\n",
    "    def sanrentan_nagashi(self, x, threshold=1.5, n_aite=7):\n",
    "        pred_table = self.pred_table(x, threshold, bet_only=False)\n",
    "        n_bets = 0\n",
    "        \n",
    "        return_list = []\n",
    "        for race_id, preds in pred_table.groupby(level=0):\n",
    "            preds_jiku = preds.query('pred == 1')\n",
    "            if len(preds_jiku) == 1:\n",
    "                continue\n",
    "            elif len(preds_jiku) == 2:\n",
    "                preds_aite = preds.sort_values('score', ascending = False).iloc[2:(n_aite+2)]['馬番']\n",
    "                return_ = preds_aite.map(lambda x: self.bet(race_id, 'sanrentan', np.append(preds_jiku['馬番'].values, x), 1)).sum()\n",
    "                n_bets += len(preds_aite)\n",
    "                return_list.append(return_)\n",
    "            elif len(preds_jiku) >= 3:\n",
    "                return_ = 0\n",
    "                for umaban in permutations(preds_jiku['馬番'], 3):\n",
    "                    return_ += self.bet(race_id, 'sanrentan', umaban, 1)\n",
    "                    n_bets += 1\n",
    "                return_list.append(return_)\n",
    "        \n",
    "        return_rate = np.sum(return_list) / n_bets\n",
    "        n_hits = np.sum([x > 0 for x in return_list])\n",
    "        std = np.sqrt(len(return_list)) * np.std(return_list) / n_bets\n",
    "        \n",
    "        return n_bets, return_rate, n_hits, std"
   ]
  },
  {
   "cell_type": "markdown",
   "metadata": {},
   "source": [
    "#### その他関数等定義"
   ]
  },
  {
   "cell_type": "code",
   "execution_count": 3,
   "metadata": {},
   "outputs": [],
   "source": [
    "# 時系列に沿って訓練データとテストデータに分ける関数\n",
    "def split_data(df, test_size=0.3):\n",
    "    sorted_id_list = df.sort_values('date').index.unique()   \n",
    "    train_id_list = sorted_id_list[:round(len(sorted_id_list) * (1 - test_size))]\n",
    "    test_id_list = sorted_id_list[round(len(sorted_id_list) * (1 - test_size)):]\n",
    "    train = df.loc[train_id_list]\n",
    "    test = df.loc[test_id_list]\n",
    "    return train, test\n",
    "\n",
    "# 回収率を計算する関数\n",
    "def gain(return_func, x, n_samples=100, t_range=[0.5, 3.5]):\n",
    "    gain = {}\n",
    "    for i in tqdm(range(n_samples)):\n",
    "        # min_thresholdから1まで、n_samples等分して、thresholdをfor文で回す\n",
    "        threshold = t_range[1] * i / n_samples + t_range[0] * (1 - (i / n_samples))\n",
    "        n_bets, return_rate, n_hits, std = return_func(x, threshold)\n",
    "        if n_bets > 2:\n",
    "            gain[threshold] = {'return_rate': return_rate, 'n_hits': n_hits, 'std': std, 'n_bets': n_bets}\n",
    "    return pd.DataFrame(gain).T\n",
    "\n",
    "# 重複のないデータを作成する関数\n",
    "def update_data(old, new):\n",
    "    filtered_old = old[~old.index.isin(new.index)]\n",
    "    return pd.concat([filtered_old, new])\n",
    "\n",
    "# 標準偏差付き回収率プロット\n",
    "def plot(df, label=' '):\n",
    "    # 標準偏差で幅をつけて薄くプロット\n",
    "    plt.fill_between(df.index, y1=df['return_rate']-df['std'], y2=df['return_rate']+df['std'], alpha=0.3)\n",
    "    # 回収率で実践をプロット\n",
    "    plt.plot(df.index, df['return_rate'], label=label)\n",
    "    plt.legend()\n",
    "    plt.grid(True)\n",
    "\n",
    "# 開催場所をidに変換するための辞書型\n",
    "place_dict = {\n",
    "    '札幌': '01', '函館': '02', '福島': '03', '新潟': '04', '東京': '05',\n",
    "    '中山': '06', '中京': '07', '京都': '08', '阪神': '09', '小倉': '10'\n",
    "}\n",
    "\n",
    "# レースタイプをレース結果データと整合させるための辞書型\n",
    "race_type_dict = {\n",
    "    '芝': '芝', 'ダ': 'ダート', '障': '障害'\n",
    "}"
   ]
  },
  {
   "cell_type": "markdown",
   "metadata": {},
   "source": [
    "#### 2017年～2021年までのレース結果データをスクレイピング"
   ]
  },
  {
   "cell_type": "code",
   "execution_count": 4,
   "metadata": {},
   "outputs": [],
   "source": [
    "# 2017年のレースIDリスト\n",
    "race_id_list_2017 = []\n",
    "for place in range(1, 11):\n",
    "    for kai in range(1, 6):\n",
    "        for day in range(1, 13):\n",
    "            for r in range(1, 13):\n",
    "                race_id = f'2017{str(place).zfill(2)}{str(kai).zfill(2)}{str(day).zfill(2)}{str(r).zfill(2)}'\n",
    "                race_id_list_2017.append(race_id)\n",
    "\n",
    "# 2018年のレースIDリスト\n",
    "race_id_list_2018 = []\n",
    "for place in range(1, 11):\n",
    "    for kai in range(1, 6):\n",
    "        for day in range(1, 13):\n",
    "            for r in range(1, 13):\n",
    "                race_id = f'2018{str(place).zfill(2)}{str(kai).zfill(2)}{str(day).zfill(2)}{str(r).zfill(2)}'\n",
    "                race_id_list_2018.append(race_id)\n",
    "\n",
    "# 2019年のレースIDリスト\n",
    "race_id_list_2019 = []\n",
    "for place in range(1, 11):\n",
    "    for kai in range(1, 6):\n",
    "        for day in range(1, 13):\n",
    "            for r in range(1, 13):\n",
    "                race_id = f'2019{str(place).zfill(2)}{str(kai).zfill(2)}{str(day).zfill(2)}{str(r).zfill(2)}'\n",
    "                race_id_list_2019.append(race_id)\n",
    "\n",
    "# 2020年のレースIDリスト\n",
    "race_id_list_2020 = []\n",
    "for place in range(1, 11):\n",
    "    for kai in range(1, 6):\n",
    "        for day in range(1, 13):\n",
    "            for r in range(1, 13):\n",
    "                race_id = f'2020{str(place).zfill(2)}{str(kai).zfill(2)}{str(day).zfill(2)}{str(r).zfill(2)}'\n",
    "                race_id_list_2020.append(race_id)\n",
    "\n",
    "# 2021年のレースIDリスト\n",
    "race_id_list_2021 = []\n",
    "for place in range(1, 11):\n",
    "    for kai in range(1, 6):\n",
    "        for day in range(1, 13):\n",
    "            for r in range(1, 13):\n",
    "                race_id = f'2021{str(place).zfill(2)}{str(kai).zfill(2)}{str(day).zfill(2)}{str(r).zfill(2)}'\n",
    "                race_id_list_2021.append(race_id)"
   ]
  },
  {
   "cell_type": "code",
   "execution_count": 5,
   "metadata": {},
   "outputs": [],
   "source": [
    "# スクレイピングしたのでコメント\n",
    "\n",
    "# 2017年のレース結果データ\n",
    "# results_2017 = Results.scrape(race_id_list_2017)\n",
    "# results_2017.to_pickle('pickle/results_2017.pickle')\n",
    "# results_2017 = pd.read_pickle('pickle/results_2017.pickle')\n",
    "\n",
    "# 2018年のレース結果データ\n",
    "# results_2018 = Results.scrape(race_id_list_2018)\n",
    "# results_2018.to_pickle('pickle/results_2018.pickle')\n",
    "# results_2018 = pd.read_pickle('pickle/results_2018.pickle')\n",
    "\n",
    "# 2019年のレース結果データ\n",
    "# results_2019 = Results.scrape(race_id_list_2019)\n",
    "# results_2019.to_pickle('pickle/results_2019.pickle')\n",
    "# results_2019 = pd.read_pickle('pickle/results_2019.pickle')\n",
    "\n",
    "# 2020年のレース結果データ\n",
    "# results_2020 = Results.scrape(race_id_list_2020)\n",
    "# results_2020.to_pickle('pickle/results_2020.pickle')\n",
    "# results_2020 = pd.read_pickle('pickle/results_2020.pickle')\n",
    "\n",
    "# 2021年のレース結果データ\n",
    "# results_2021 = Results.scrape(race_id_list_2021)\n",
    "# results_2021.to_pickle('pickle/results_2021.pickle')\n",
    "# results_2021 = pd.read_pickle('pickle/results_2021.pickle')\n",
    "\n",
    "# レース結果データの結合\n",
    "r = Results.read_pickle(['pickle/results_2017.pickle', 'pickle/results_2018.pickle', 'pickle/results_2019.pickle', 'pickle/results_2020.pickle', 'pickle/results_2021.pickle'])\n",
    "\n",
    "# 前処理\n",
    "r.preprocessing()"
   ]
  },
  {
   "cell_type": "markdown",
   "metadata": {},
   "source": [
    "#### 2017～2021年までの馬の過去成績データをスクレイピング"
   ]
  },
  {
   "cell_type": "code",
   "execution_count": null,
   "metadata": {},
   "outputs": [],
   "source": [
    "# 2017年の馬IDリスト\n",
    "# horse_id_list_2017 = results_2017['horse_id'].unique()\n",
    "\n",
    "# 2018年の馬IDリスト\n",
    "# horse_id_list_2018 = results_2018['horse_id'].unique()\n",
    "\n",
    "# 2019年の馬IDリスト\n",
    "# horse_id_list_2019 = results_2019['horse_id'].unique()\n",
    "\n",
    "# 2020年の馬IDリスト\n",
    "# horse_id_list_2020 = results_2020['horse_id'].unique()\n",
    "\n",
    "# 2021年の馬IDリスト\n",
    "# horse_id_list_2021 = results_2021['horse_id'].unique()"
   ]
  },
  {
   "cell_type": "code",
   "execution_count": 6,
   "metadata": {},
   "outputs": [
    {
     "name": "stderr",
     "output_type": "stream",
     "text": [
      "100%|██████████| 545/545 [01:32<00:00,  5.87it/s]\n",
      "100%|██████████| 545/545 [01:30<00:00,  6.05it/s]\n",
      "100%|██████████| 545/545 [01:26<00:00,  6.31it/s]\n"
     ]
    }
   ],
   "source": [
    "# スクレイピングして結合したのでコメント\n",
    "\n",
    "# 2017年の馬の過去成績データ\n",
    "# horse_results_2017 = HorseResults.scrape(horse_id_list_2017)\n",
    "# horse_results_2017.to_pickle('pickle/horse_results_2017.pickle')\n",
    "\n",
    "# 2018年の馬の過去成績データ\n",
    "# horse_results_2018 = HorseResults.scrape(horse_id_list_2018)\n",
    "# horse_results_2018.to_pickle('pickle/horse_results_2018.pikcle')\n",
    "\n",
    "# 2019年の馬の過去成績データ\n",
    "# horse_results_2019 = HorseResults.scrape(horse_id_list_2019)\n",
    "# horse_results_2019.to_pickle('pickle/horse_results_2019.pikcle')\n",
    "\n",
    "# 2020年の馬の過去成績データ\n",
    "# horse_results_2020 = HorseResults.scrape(horse_id_list_2020)\n",
    "# horse_results_2020.to_pickle('pickle/horse_results_2020.pikcle')\n",
    "\n",
    "# 2021年の馬の過去成績データ\n",
    "# horse_results_2021 = HorseResults.scrape(horse_id_list_2021)\n",
    "# horse_results_2021.to_pickle('pickle/horse_results_2021.pickle')\n",
    "\n",
    "# 馬の過去成績データの結合\n",
    "hr = HorseResults.read_pickle(['pickle/horse_results_2017.pickle', 'pickle/horse_results_2018.pickle', 'pickle/horse_results_2019.pickle', 'pickle/horse_results_2020.pickle', 'pickle/horse_results_2021.pickle'])\n",
    "\n",
    "# レース結果データに馬の過去成績データを追加\n",
    "r.merge_horse_results(hr)"
   ]
  },
  {
   "cell_type": "markdown",
   "metadata": {},
   "source": [
    "#### 2017年～2021年までの血統データをスクレイピング"
   ]
  },
  {
   "cell_type": "code",
   "execution_count": 7,
   "metadata": {},
   "outputs": [],
   "source": [
    "# スクレイピングして結合したのでコメント\n",
    "\n",
    "# 2017年の血統データ\n",
    "# peds_2017 = Peds.scrape(horse_id_list_2017)\n",
    "# peds_2017.to_pickle('pickle/peds_2017.pickle')\n",
    "\n",
    "# 2018年の血統データ\n",
    "# peds_2018 = Peds.scrape(horse_id_list_2018)\n",
    "# peds_2018.to_pickle('pickle/peds_2018.pickle')\n",
    "\n",
    "# 2019年の血統データ\n",
    "# peds_2019 = Peds.scrape(horse_id_list_2019)\n",
    "# peds_2019.to_pickle('pickle/peds_2019.pickle')\n",
    "\n",
    "# 2020年の血統データ\n",
    "# peds_2020 = Peds.scrape(horse_id_list_2020)\n",
    "# peds_2020.to_pickle('pickle/peds_2020.pickle')\n",
    "\n",
    "# 2021年の血統データ\n",
    "# peds_2021 = Peds.scrape(horse_id_list_2021)\n",
    "# peds_2021.to_pickle('pickle/peds_2021.pickle')\n",
    "\n",
    "# 血統データの結合\n",
    "p = Peds.read_pickle(['pickle/peds_2017.pickle', 'pickle/peds_2018.pickle', 'pickle/peds_2019.pickle', 'pickle/peds_2020.pickle', 'pickle/peds_2021.pickle'])\n",
    "\n",
    "# レース結果データに5世代分の血統データを追加\n",
    "p.encode()\n",
    "r.merge_peds(p.peds_e)\n",
    "\n",
    "# カテゴリ変数の処理\n",
    "r.process_categorical()\n",
    "\n",
    "# pickleファイルに保存\n",
    "r.data_c.to_pickle('pickle/results_all_c.pickle')"
   ]
  },
  {
   "cell_type": "code",
   "execution_count": 8,
   "metadata": {},
   "outputs": [],
   "source": [
    "results_c = pd.read_pickle('pickle/results_all_c.pickle')"
   ]
  },
  {
   "cell_type": "markdown",
   "metadata": {},
   "source": [
    "#### 2017年～2021年の払い戻し表データをスクレイピング"
   ]
  },
  {
   "cell_type": "code",
   "execution_count": null,
   "metadata": {},
   "outputs": [],
   "source": [
    "# レース結果データから取得した2017年のレースIDリスト\n",
    "# race_id_list_2017 = results_2017.index.unique()\n",
    "\n",
    "# レース結果データから取得した2018年のレースIDリスト\n",
    "# race_id_list_2018 = results_2018.index.unique()\n",
    "\n",
    "# レース結果データから取得した2019年のレースIDリスト\n",
    "# race_id_list_2019 = results_2019.index.unique()\n",
    "\n",
    "# レース結果データから取得した2020年のレースIDリスト\n",
    "# race_id_list_2020 = results_2020.index.unique()\n",
    "\n",
    "# レース結果データから取得した2021年のレースIDリスト\n",
    "# race_id_list_2021 = results_2021.index.unique()"
   ]
  },
  {
   "cell_type": "code",
   "execution_count": null,
   "metadata": {},
   "outputs": [],
   "source": [
    "# スクレイピングして結合したのでコメント\n",
    "\n",
    "# 2017年の払い戻し表データ\n",
    "# return_tables_2017 = Return.scrape(race_id_list_2017)\n",
    "# return_tables_2017.to_pickle('pickle/return_tables_2017.pickle')\n",
    "\n",
    "# 2018年の払い戻し表データ\n",
    "# return_tables_2018 = Return.scrape(race_id_list_2018)\n",
    "# return_tables_2018.to_pickle('pickle/return_tables_2018.pickle')\n",
    "\n",
    "# 2019年の払い戻し表データ\n",
    "# return_tables_2019 = Return.scrape(race_id_list_2019)\n",
    "# return_tables_2019.to_pickle('pickle/return_tables_2019.pickle')\n",
    "\n",
    "# 2020年の払い戻し表データ\n",
    "# return_tables_2020 = Return.scrape(race_id_list_2020)\n",
    "# return_tables_2020.to_pickle('pickle/return_tables_2020.pickle')\n",
    "\n",
    "# 2021年の払い戻し表データ\n",
    "# return_tables_2021 = Return.scrape(race_id_list_2021)\n",
    "# return_tables_2021.to_pickle('pickle/return_tables_2021.pickle')\n",
    "\n",
    "# 払い戻し表データの結合\n",
    "# return_tables = Return.read_pickle(['pickle/return_tables_2017.pickle', 'pickle/return_tables_2018.pickle', 'pickle/return_tables_2019.pickle', 'pickle/return_tables_2020.pickle', 'pickle/return_tables_2021.pickle'])\n",
    "\n",
    "# pickleファイルに保存\n",
    "# return_tables.return_tables.to_pickle('pickle/return_tables.pickle')"
   ]
  },
  {
   "cell_type": "code",
   "execution_count": 9,
   "metadata": {},
   "outputs": [],
   "source": [
    "return_tables = pd.read_pickle('pickle/return_tables.pickle')"
   ]
  },
  {
   "cell_type": "markdown",
   "metadata": {},
   "source": [
    "#### 学習"
   ]
  },
  {
   "cell_type": "code",
   "execution_count": 12,
   "metadata": {},
   "outputs": [],
   "source": [
    "# 訓練データ、検証データ、テストデータに分ける\n",
    "# train, test = split_data(r.data_c)\n",
    "# train, valid = split_data(train)\n",
    "\n",
    "# 説明変数と目的変数に分ける\n",
    "# X_train = train.drop(['rank', 'date', '単勝'], axis=1)\n",
    "# y_train = train['rank']\n",
    "# X_valid = valid.drop(['rank', 'date', '単勝'], axis=1)\n",
    "# y_valid = valid['rank']\n",
    "# X_test = test.drop(['rank', 'date'], axis=1)\n",
    "# y_test = test['rank']"
   ]
  },
  {
   "cell_type": "code",
   "execution_count": 13,
   "metadata": {},
   "outputs": [
    {
     "name": "stderr",
     "output_type": "stream",
     "text": [
      "\u001b[32m[I 2022-04-21 14:39:31,830]\u001b[0m A new study created in memory with name: no-name-cc215ec4-fba5-44f6-b357-c832b916d4cf\u001b[0m\n",
      "feature_fraction, val_score: inf:   0%|          | 0/7 [00:00<?, ?it/s]"
     ]
    },
    {
     "name": "stdout",
     "output_type": "stream",
     "text": [
      "Training until validation scores don't improve for 10 rounds\n",
      "[100]\tvalid_0's binary_logloss: 0.420244\tvalid_1's binary_logloss: 0.46025\n",
      "Early stopping, best iteration is:\n",
      "[113]\tvalid_0's binary_logloss: 0.416707\tvalid_1's binary_logloss: 0.459845\n"
     ]
    },
    {
     "name": "stderr",
     "output_type": "stream",
     "text": [
      "feature_fraction, val_score: 0.459845:  14%|#4        | 1/7 [00:21<02:10, 21.70s/it]\u001b[32m[I 2022-04-21 14:39:54,580]\u001b[0m Trial 0 finished with value: 0.4598453781694791 and parameters: {'feature_fraction': 0.5}. Best is trial 0 with value: 0.4598453781694791.\u001b[0m\n",
      "feature_fraction, val_score: 0.459845:  14%|#4        | 1/7 [00:22<02:10, 21.70s/it]"
     ]
    },
    {
     "name": "stdout",
     "output_type": "stream",
     "text": [
      "Training until validation scores don't improve for 10 rounds\n",
      "[100]\tvalid_0's binary_logloss: 0.419719\tvalid_1's binary_logloss: 0.460608\n"
     ]
    },
    {
     "name": "stderr",
     "output_type": "stream",
     "text": [
      "feature_fraction, val_score: 0.459845:  29%|##8       | 2/7 [00:37<01:39, 19.93s/it]\u001b[32m[I 2022-04-21 14:40:09,438]\u001b[0m Trial 1 finished with value: 0.46042182852653024 and parameters: {'feature_fraction': 0.6}. Best is trial 0 with value: 0.4598453781694791.\u001b[0m\n",
      "feature_fraction, val_score: 0.459845:  29%|##8       | 2/7 [00:37<01:39, 19.93s/it]"
     ]
    },
    {
     "name": "stdout",
     "output_type": "stream",
     "text": [
      "Early stopping, best iteration is:\n",
      "[97]\tvalid_0's binary_logloss: 0.420492\tvalid_1's binary_logloss: 0.460422\n",
      "Training until validation scores don't improve for 10 rounds\n",
      "[100]\tvalid_0's binary_logloss: 0.41894\tvalid_1's binary_logloss: 0.461019\n",
      "Early stopping, best iteration is:\n",
      "[92]\tvalid_0's binary_logloss: 0.421308\tvalid_1's binary_logloss: 0.460954\n"
     ]
    },
    {
     "name": "stderr",
     "output_type": "stream",
     "text": [
      "feature_fraction, val_score: 0.459845:  43%|####2     | 3/7 [00:53<01:15, 18.79s/it]\u001b[32m[I 2022-04-21 14:40:25,548]\u001b[0m Trial 2 finished with value: 0.4609536059586596 and parameters: {'feature_fraction': 0.8}. Best is trial 0 with value: 0.4598453781694791.\u001b[0m\n",
      "feature_fraction, val_score: 0.459845:  43%|####2     | 3/7 [00:53<01:15, 18.79s/it]"
     ]
    },
    {
     "name": "stdout",
     "output_type": "stream",
     "text": [
      "Training until validation scores don't improve for 10 rounds\n",
      "[100]\tvalid_0's binary_logloss: 0.4192\tvalid_1's binary_logloss: 0.460448\n"
     ]
    },
    {
     "name": "stderr",
     "output_type": "stream",
     "text": [
      "feature_fraction, val_score: 0.459845:  57%|#####7    | 4/7 [01:06<00:51, 17.16s/it]\u001b[32m[I 2022-04-21 14:40:38,900]\u001b[0m Trial 3 finished with value: 0.46038686130509776 and parameters: {'feature_fraction': 0.7}. Best is trial 0 with value: 0.4598453781694791.\u001b[0m\n",
      "feature_fraction, val_score: 0.459845:  57%|#####7    | 4/7 [01:06<00:51, 17.16s/it]"
     ]
    },
    {
     "name": "stdout",
     "output_type": "stream",
     "text": [
      "Early stopping, best iteration is:\n",
      "[97]\tvalid_0's binary_logloss: 0.41996\tvalid_1's binary_logloss: 0.460387\n",
      "Training until validation scores don't improve for 10 rounds\n",
      "[100]\tvalid_0's binary_logloss: 0.41818\tvalid_1's binary_logloss: 0.460706\n"
     ]
    },
    {
     "name": "stderr",
     "output_type": "stream",
     "text": [
      "feature_fraction, val_score: 0.459845:  71%|#######1  | 5/7 [01:22<00:33, 16.82s/it]\u001b[32m[I 2022-04-21 14:40:54,919]\u001b[0m Trial 4 finished with value: 0.4606343349869316 and parameters: {'feature_fraction': 1.0}. Best is trial 0 with value: 0.4598453781694791.\u001b[0m\n",
      "feature_fraction, val_score: 0.459845:  71%|#######1  | 5/7 [01:23<00:33, 16.82s/it]"
     ]
    },
    {
     "name": "stdout",
     "output_type": "stream",
     "text": [
      "Early stopping, best iteration is:\n",
      "[94]\tvalid_0's binary_logloss: 0.419991\tvalid_1's binary_logloss: 0.460634\n",
      "Training until validation scores don't improve for 10 rounds\n",
      "[100]\tvalid_0's binary_logloss: 0.42125\tvalid_1's binary_logloss: 0.46098\n"
     ]
    },
    {
     "name": "stderr",
     "output_type": "stream",
     "text": [
      "feature_fraction, val_score: 0.459845:  86%|########5 | 6/7 [01:36<00:15, 15.69s/it]\u001b[32m[I 2022-04-21 14:41:08,002]\u001b[0m Trial 5 finished with value: 0.4607007158611457 and parameters: {'feature_fraction': 0.4}. Best is trial 0 with value: 0.4598453781694791.\u001b[0m\n",
      "feature_fraction, val_score: 0.459845:  86%|########5 | 6/7 [01:36<00:15, 15.69s/it]"
     ]
    },
    {
     "name": "stdout",
     "output_type": "stream",
     "text": [
      "Early stopping, best iteration is:\n",
      "[123]\tvalid_0's binary_logloss: 0.415183\tvalid_1's binary_logloss: 0.460701\n",
      "Training until validation scores don't improve for 10 rounds\n"
     ]
    },
    {
     "name": "stderr",
     "output_type": "stream",
     "text": [
      "feature_fraction, val_score: 0.459845: 100%|##########| 7/7 [02:04<00:00, 19.37s/it]\u001b[32m[I 2022-04-21 14:41:35,932]\u001b[0m Trial 6 finished with value: 0.4615966628360756 and parameters: {'feature_fraction': 0.8999999999999999}. Best is trial 0 with value: 0.4598453781694791.\u001b[0m\n",
      "feature_fraction, val_score: 0.459845: 100%|##########| 7/7 [02:04<00:00, 17.72s/it]\n",
      "num_leaves, val_score: 0.459845:   0%|          | 0/20 [00:00<?, ?it/s]"
     ]
    },
    {
     "name": "stdout",
     "output_type": "stream",
     "text": [
      "Early stopping, best iteration is:\n",
      "[87]\tvalid_0's binary_logloss: 0.422399\tvalid_1's binary_logloss: 0.461597\n",
      "Training until validation scores don't improve for 10 rounds\n"
     ]
    },
    {
     "name": "stderr",
     "output_type": "stream",
     "text": [
      "num_leaves, val_score: 0.459845:   5%|5         | 1/20 [00:24<07:39, 24.19s/it]\u001b[32m[I 2022-04-21 14:42:00,177]\u001b[0m Trial 7 finished with value: 0.46270314469389834 and parameters: {'num_leaves': 140}. Best is trial 7 with value: 0.46270314469389834.\u001b[0m\n",
      "num_leaves, val_score: 0.459845:   5%|5         | 1/20 [00:24<07:39, 24.19s/it]"
     ]
    },
    {
     "name": "stdout",
     "output_type": "stream",
     "text": [
      "Early stopping, best iteration is:\n",
      "[59]\tvalid_0's binary_logloss: 0.375265\tvalid_1's binary_logloss: 0.462703\n",
      "Training until validation scores don't improve for 10 rounds\n"
     ]
    },
    {
     "name": "stderr",
     "output_type": "stream",
     "text": [
      "num_leaves, val_score: 0.459845:  10%|#         | 2/20 [00:43<06:46, 22.59s/it]\u001b[32m[I 2022-04-21 14:42:19,014]\u001b[0m Trial 8 finished with value: 0.46108615360087735 and parameters: {'num_leaves': 72}. Best is trial 8 with value: 0.46108615360087735.\u001b[0m\n",
      "num_leaves, val_score: 0.459845:  10%|#         | 2/20 [00:43<06:46, 22.59s/it]"
     ]
    },
    {
     "name": "stdout",
     "output_type": "stream",
     "text": [
      "Early stopping, best iteration is:\n",
      "[89]\tvalid_0's binary_logloss: 0.390852\tvalid_1's binary_logloss: 0.461086\n",
      "Training until validation scores don't improve for 10 rounds\n"
     ]
    },
    {
     "name": "stderr",
     "output_type": "stream",
     "text": [
      "num_leaves, val_score: 0.459845:  15%|#5        | 3/20 [01:03<06:14, 22.02s/it]\u001b[32m[I 2022-04-21 14:42:39,713]\u001b[0m Trial 9 finished with value: 0.46187997493850347 and parameters: {'num_leaves': 110}. Best is trial 8 with value: 0.46108615360087735.\u001b[0m\n",
      "num_leaves, val_score: 0.459845:  15%|#5        | 3/20 [01:03<06:14, 22.02s/it]"
     ]
    },
    {
     "name": "stdout",
     "output_type": "stream",
     "text": [
      "Early stopping, best iteration is:\n",
      "[78]\tvalid_0's binary_logloss: 0.372731\tvalid_1's binary_logloss: 0.46188\n",
      "Training until validation scores don't improve for 10 rounds\n"
     ]
    },
    {
     "name": "stderr",
     "output_type": "stream",
     "text": [
      "num_leaves, val_score: 0.459845:  20%|##        | 4/20 [01:27<06:01, 22.59s/it]\u001b[32m[I 2022-04-21 14:43:03,639]\u001b[0m Trial 10 finished with value: 0.4640536196607556 and parameters: {'num_leaves': 217}. Best is trial 8 with value: 0.46108615360087735.\u001b[0m\n",
      "num_leaves, val_score: 0.459845:  20%|##        | 4/20 [01:27<06:01, 22.59s/it]"
     ]
    },
    {
     "name": "stdout",
     "output_type": "stream",
     "text": [
      "Early stopping, best iteration is:\n",
      "[51]\tvalid_0's binary_logloss: 0.354637\tvalid_1's binary_logloss: 0.464054\n",
      "Training until validation scores don't improve for 10 rounds\n",
      "[100]\tvalid_0's binary_logloss: 0.458435\tvalid_1's binary_logloss: 0.471779\n",
      "[200]\tvalid_0's binary_logloss: 0.453267\tvalid_1's binary_logloss: 0.467933\n",
      "[300]\tvalid_0's binary_logloss: 0.450104\tvalid_1's binary_logloss: 0.465748\n",
      "[400]\tvalid_0's binary_logloss: 0.447718\tvalid_1's binary_logloss: 0.464492\n",
      "[500]\tvalid_0's binary_logloss: 0.445465\tvalid_1's binary_logloss: 0.463386\n",
      "[600]\tvalid_0's binary_logloss: 0.443697\tvalid_1's binary_logloss: 0.462567\n",
      "[700]\tvalid_0's binary_logloss: 0.441976\tvalid_1's binary_logloss: 0.462041\n",
      "Early stopping, best iteration is:\n",
      "[698]\tvalid_0's binary_logloss: 0.442005\tvalid_1's binary_logloss: 0.46203\n"
     ]
    },
    {
     "name": "stderr",
     "output_type": "stream",
     "text": [
      "num_leaves, val_score: 0.459845:  25%|##5       | 5/20 [01:51<05:46, 23.07s/it]\u001b[32m[I 2022-04-21 14:43:27,801]\u001b[0m Trial 11 finished with value: 0.4620302987781862 and parameters: {'num_leaves': 3}. Best is trial 8 with value: 0.46108615360087735.\u001b[0m\n",
      "num_leaves, val_score: 0.459845:  25%|##5       | 5/20 [01:51<05:46, 23.07s/it]"
     ]
    },
    {
     "name": "stdout",
     "output_type": "stream",
     "text": [
      "Training until validation scores don't improve for 10 rounds\n",
      "[100]\tvalid_0's binary_logloss: 0.418675\tvalid_1's binary_logloss: 0.46077\n"
     ]
    },
    {
     "name": "stderr",
     "output_type": "stream",
     "text": [
      "num_leaves, val_score: 0.459845:  30%|###       | 6/20 [02:08<04:56, 21.18s/it]\u001b[32m[I 2022-04-21 14:43:44,564]\u001b[0m Trial 12 finished with value: 0.46057779607501176 and parameters: {'num_leaves': 33}. Best is trial 12 with value: 0.46057779607501176.\u001b[0m\n",
      "num_leaves, val_score: 0.459845:  30%|###       | 6/20 [02:08<04:56, 21.18s/it]"
     ]
    },
    {
     "name": "stdout",
     "output_type": "stream",
     "text": [
      "Early stopping, best iteration is:\n",
      "[118]\tvalid_0's binary_logloss: 0.413484\tvalid_1's binary_logloss: 0.460578\n",
      "Training until validation scores don't improve for 10 rounds\n"
     ]
    },
    {
     "name": "stderr",
     "output_type": "stream",
     "text": [
      "num_leaves, val_score: 0.459845:  35%|###5      | 7/20 [02:31<04:43, 21.80s/it]\u001b[32m[I 2022-04-21 14:44:07,827]\u001b[0m Trial 13 finished with value: 0.4634519480004717 and parameters: {'num_leaves': 173}. Best is trial 12 with value: 0.46057779607501176.\u001b[0m\n",
      "num_leaves, val_score: 0.459845:  35%|###5      | 7/20 [02:31<04:43, 21.80s/it]"
     ]
    },
    {
     "name": "stdout",
     "output_type": "stream",
     "text": [
      "Early stopping, best iteration is:\n",
      "[64]\tvalid_0's binary_logloss: 0.354649\tvalid_1's binary_logloss: 0.463452\n",
      "Training until validation scores don't improve for 10 rounds\n"
     ]
    },
    {
     "name": "stderr",
     "output_type": "stream",
     "text": [
      "num_leaves, val_score: 0.459845:  40%|####      | 8/20 [02:54<04:23, 21.95s/it]\u001b[32m[I 2022-04-21 14:44:30,132]\u001b[0m Trial 14 finished with value: 0.46435895064577587 and parameters: {'num_leaves': 212}. Best is trial 12 with value: 0.46057779607501176.\u001b[0m\n",
      "num_leaves, val_score: 0.459845:  40%|####      | 8/20 [02:54<04:23, 21.95s/it]"
     ]
    },
    {
     "name": "stdout",
     "output_type": "stream",
     "text": [
      "Early stopping, best iteration is:\n",
      "[52]\tvalid_0's binary_logloss: 0.355248\tvalid_1's binary_logloss: 0.464359\n",
      "Training until validation scores don't improve for 10 rounds\n",
      "[100]\tvalid_0's binary_logloss: 0.415682\tvalid_1's binary_logloss: 0.460359\n"
     ]
    },
    {
     "name": "stderr",
     "output_type": "stream",
     "text": [
      "num_leaves, val_score: 0.459845:  45%|####5     | 9/20 [03:09<03:41, 20.09s/it]\u001b[32m[I 2022-04-21 14:44:45,880]\u001b[0m Trial 15 finished with value: 0.4601983077947584 and parameters: {'num_leaves': 36}. Best is trial 15 with value: 0.4601983077947584.\u001b[0m\n",
      "num_leaves, val_score: 0.459845:  45%|####5     | 9/20 [03:09<03:41, 20.09s/it]"
     ]
    },
    {
     "name": "stdout",
     "output_type": "stream",
     "text": [
      "Early stopping, best iteration is:\n",
      "[104]\tvalid_0's binary_logloss: 0.41442\tvalid_1's binary_logloss: 0.460198\n",
      "Training until validation scores don't improve for 10 rounds\n"
     ]
    },
    {
     "name": "stderr",
     "output_type": "stream",
     "text": [
      "num_leaves, val_score: 0.459845:  50%|#####     | 10/20 [03:31<03:25, 20.60s/it]\u001b[32m[I 2022-04-21 14:45:07,656]\u001b[0m Trial 16 finished with value: 0.4631054666779176 and parameters: {'num_leaves': 148}. Best is trial 15 with value: 0.4601983077947584.\u001b[0m\n",
      "num_leaves, val_score: 0.459845:  50%|#####     | 10/20 [03:31<03:25, 20.60s/it]"
     ]
    },
    {
     "name": "stdout",
     "output_type": "stream",
     "text": [
      "Early stopping, best iteration is:\n",
      "[63]\tvalid_0's binary_logloss: 0.367447\tvalid_1's binary_logloss: 0.463105\n",
      "Training until validation scores don't improve for 10 rounds\n",
      "[100]\tvalid_0's binary_logloss: 0.388362\tvalid_1's binary_logloss: 0.461231\n"
     ]
    },
    {
     "name": "stderr",
     "output_type": "stream",
     "text": [
      "num_leaves, val_score: 0.459845:  55%|#####5    | 11/20 [03:51<03:04, 20.45s/it]\u001b[32m[I 2022-04-21 14:45:27,763]\u001b[0m Trial 17 finished with value: 0.46084249539043615 and parameters: {'num_leaves': 68}. Best is trial 15 with value: 0.4601983077947584.\u001b[0m\n",
      "num_leaves, val_score: 0.459845:  55%|#####5    | 11/20 [03:51<03:04, 20.45s/it]"
     ]
    },
    {
     "name": "stdout",
     "output_type": "stream",
     "text": [
      "Early stopping, best iteration is:\n",
      "[105]\tvalid_0's binary_logloss: 0.385683\tvalid_1's binary_logloss: 0.460842\n",
      "Training until validation scores don't improve for 10 rounds\n",
      "[100]\tvalid_0's binary_logloss: 0.440339\tvalid_1's binary_logloss: 0.462309\n"
     ]
    },
    {
     "name": "stderr",
     "output_type": "stream",
     "text": [
      "num_leaves, val_score: 0.459845:  60%|######    | 12/20 [04:05<02:28, 18.57s/it]\u001b[32m[I 2022-04-21 14:45:41,934]\u001b[0m Trial 18 finished with value: 0.46116861371108564 and parameters: {'num_leaves': 12}. Best is trial 15 with value: 0.4601983077947584.\u001b[0m\n",
      "num_leaves, val_score: 0.459845:  60%|######    | 12/20 [04:05<02:28, 18.57s/it]"
     ]
    },
    {
     "name": "stdout",
     "output_type": "stream",
     "text": [
      "Early stopping, best iteration is:\n",
      "[143]\tvalid_0's binary_logloss: 0.434976\tvalid_1's binary_logloss: 0.461169\n",
      "Training until validation scores don't improve for 10 rounds\n",
      "[100]\tvalid_0's binary_logloss: 0.404506\tvalid_1's binary_logloss: 0.460896\n",
      "Early stopping, best iteration is:\n",
      "[91]\tvalid_0's binary_logloss: 0.407987\tvalid_1's binary_logloss: 0.460801\n"
     ]
    },
    {
     "name": "stderr",
     "output_type": "stream",
     "text": [
      "num_leaves, val_score: 0.459845:  65%|######5   | 13/20 [04:22<02:06, 18.01s/it]\u001b[32m[I 2022-04-21 14:45:58,644]\u001b[0m Trial 19 finished with value: 0.46080098633350525 and parameters: {'num_leaves': 48}. Best is trial 15 with value: 0.4601983077947584.\u001b[0m\n",
      "num_leaves, val_score: 0.459845:  65%|######5   | 13/20 [04:22<02:06, 18.01s/it]"
     ]
    },
    {
     "name": "stdout",
     "output_type": "stream",
     "text": [
      "Training until validation scores don't improve for 10 rounds\n",
      "[100]\tvalid_0's binary_logloss: 0.415682\tvalid_1's binary_logloss: 0.460359\n"
     ]
    },
    {
     "name": "stderr",
     "output_type": "stream",
     "text": [
      "num_leaves, val_score: 0.459845:  70%|#######   | 14/20 [04:38<01:44, 17.46s/it]\u001b[32m[I 2022-04-21 14:46:14,822]\u001b[0m Trial 20 finished with value: 0.4601983077947584 and parameters: {'num_leaves': 36}. Best is trial 15 with value: 0.4601983077947584.\u001b[0m\n",
      "num_leaves, val_score: 0.459845:  70%|#######   | 14/20 [04:38<01:44, 17.46s/it]"
     ]
    },
    {
     "name": "stdout",
     "output_type": "stream",
     "text": [
      "Early stopping, best iteration is:\n",
      "[104]\tvalid_0's binary_logloss: 0.41442\tvalid_1's binary_logloss: 0.460198\n",
      "Training until validation scores don't improve for 10 rounds\n"
     ]
    },
    {
     "name": "stderr",
     "output_type": "stream",
     "text": [
      "num_leaves, val_score: 0.459845:  75%|#######5  | 15/20 [05:00<01:33, 18.75s/it]\u001b[32m[I 2022-04-21 14:46:36,590]\u001b[0m Trial 21 finished with value: 0.46219163300279864 and parameters: {'num_leaves': 102}. Best is trial 15 with value: 0.4601983077947584.\u001b[0m\n",
      "num_leaves, val_score: 0.459845:  75%|#######5  | 15/20 [05:00<01:33, 18.75s/it]"
     ]
    },
    {
     "name": "stdout",
     "output_type": "stream",
     "text": [
      "Early stopping, best iteration is:\n",
      "[77]\tvalid_0's binary_logloss: 0.378682\tvalid_1's binary_logloss: 0.462192\n",
      "Training until validation scores don't improve for 10 rounds\n"
     ]
    },
    {
     "name": "stderr",
     "output_type": "stream",
     "text": [
      "num_leaves, val_score: 0.459845:  80%|########  | 16/20 [05:25<01:22, 20.52s/it]\u001b[32m[I 2022-04-21 14:47:01,229]\u001b[0m Trial 22 finished with value: 0.4647224199726064 and parameters: {'num_leaves': 254}. Best is trial 15 with value: 0.4601983077947584.\u001b[0m\n",
      "num_leaves, val_score: 0.459845:  80%|########  | 16/20 [05:25<01:22, 20.52s/it]"
     ]
    },
    {
     "name": "stdout",
     "output_type": "stream",
     "text": [
      "Early stopping, best iteration is:\n",
      "[46]\tvalid_0's binary_logloss: 0.350698\tvalid_1's binary_logloss: 0.464722\n",
      "Training until validation scores don't improve for 10 rounds\n"
     ]
    },
    {
     "name": "stderr",
     "output_type": "stream",
     "text": [
      "num_leaves, val_score: 0.459845:  85%|########5 | 17/20 [05:43<00:59, 19.69s/it]\u001b[32m[I 2022-04-21 14:47:18,991]\u001b[0m Trial 23 finished with value: 0.4612859390090308 and parameters: {'num_leaves': 84}. Best is trial 15 with value: 0.4601983077947584.\u001b[0m\n",
      "num_leaves, val_score: 0.459845:  85%|########5 | 17/20 [05:43<00:59, 19.69s/it]"
     ]
    },
    {
     "name": "stdout",
     "output_type": "stream",
     "text": [
      "Early stopping, best iteration is:\n",
      "[66]\tvalid_0's binary_logloss: 0.397458\tvalid_1's binary_logloss: 0.461286\n",
      "Training until validation scores don't improve for 10 rounds\n",
      "[100]\tvalid_0's binary_logloss: 0.410249\tvalid_1's binary_logloss: 0.460132\n"
     ]
    },
    {
     "name": "stderr",
     "output_type": "stream",
     "text": [
      "num_leaves, val_score: 0.459845:  90%|######### | 18/20 [05:59<00:37, 18.82s/it]\u001b[32m[I 2022-04-21 14:47:35,788]\u001b[0m Trial 24 finished with value: 0.4600531965500807 and parameters: {'num_leaves': 42}. Best is trial 24 with value: 0.4600531965500807.\u001b[0m\n",
      "num_leaves, val_score: 0.459845:  90%|######### | 18/20 [05:59<00:37, 18.82s/it]"
     ]
    },
    {
     "name": "stdout",
     "output_type": "stream",
     "text": [
      "Early stopping, best iteration is:\n",
      "[94]\tvalid_0's binary_logloss: 0.412224\tvalid_1's binary_logloss: 0.460053\n",
      "Training until validation scores don't improve for 10 rounds\n",
      "[100]\tvalid_0's binary_logloss: 0.402054\tvalid_1's binary_logloss: 0.460642\n"
     ]
    },
    {
     "name": "stderr",
     "output_type": "stream",
     "text": [
      "num_leaves, val_score: 0.459845:  95%|#########5| 19/20 [06:19<00:19, 19.11s/it]\u001b[32m[I 2022-04-21 14:47:55,555]\u001b[0m Trial 25 finished with value: 0.46026752040335905 and parameters: {'num_leaves': 51}. Best is trial 24 with value: 0.4600531965500807.\u001b[0m\n",
      "num_leaves, val_score: 0.459845:  95%|#########5| 19/20 [06:19<00:19, 19.11s/it]"
     ]
    },
    {
     "name": "stdout",
     "output_type": "stream",
     "text": [
      "Early stopping, best iteration is:\n",
      "[119]\tvalid_0's binary_logloss: 0.394372\tvalid_1's binary_logloss: 0.460268\n",
      "Training until validation scores don't improve for 10 rounds\n",
      "[100]\tvalid_0's binary_logloss: 0.430192\tvalid_1's binary_logloss: 0.461066\n"
     ]
    },
    {
     "name": "stderr",
     "output_type": "stream",
     "text": [
      "num_leaves, val_score: 0.459563: 100%|##########| 20/20 [06:38<00:00, 19.20s/it]\u001b[32m[I 2022-04-21 14:48:14,965]\u001b[0m Trial 26 finished with value: 0.4595627913630433 and parameters: {'num_leaves': 21}. Best is trial 26 with value: 0.4595627913630433.\u001b[0m\n",
      "num_leaves, val_score: 0.459563: 100%|##########| 20/20 [06:39<00:00, 19.95s/it]\n",
      "bagging, val_score: 0.459563:   0%|          | 0/10 [00:00<?, ?it/s]"
     ]
    },
    {
     "name": "stdout",
     "output_type": "stream",
     "text": [
      "[200]\tvalid_0's binary_logloss: 0.411892\tvalid_1's binary_logloss: 0.459665\n",
      "Early stopping, best iteration is:\n",
      "[193]\tvalid_0's binary_logloss: 0.413005\tvalid_1's binary_logloss: 0.459563\n",
      "Training until validation scores don't improve for 10 rounds\n",
      "[100]\tvalid_0's binary_logloss: 0.430229\tvalid_1's binary_logloss: 0.460899\n"
     ]
    },
    {
     "name": "stderr",
     "output_type": "stream",
     "text": [
      "bagging, val_score: 0.459563:  10%|#         | 1/10 [00:17<02:41, 17.97s/it]\u001b[32m[I 2022-04-21 14:48:32,971]\u001b[0m Trial 27 finished with value: 0.4598634019925323 and parameters: {'bagging_fraction': 0.7260429650751228, 'bagging_freq': 2}. Best is trial 27 with value: 0.4598634019925323.\u001b[0m\n",
      "bagging, val_score: 0.459563:  10%|#         | 1/10 [00:17<02:41, 17.97s/it]"
     ]
    },
    {
     "name": "stdout",
     "output_type": "stream",
     "text": [
      "Early stopping, best iteration is:\n",
      "[157]\tvalid_0's binary_logloss: 0.419173\tvalid_1's binary_logloss: 0.459863\n",
      "Training until validation scores don't improve for 10 rounds\n",
      "[100]\tvalid_0's binary_logloss: 0.43076\tvalid_1's binary_logloss: 0.461586\n"
     ]
    },
    {
     "name": "stderr",
     "output_type": "stream",
     "text": [
      "bagging, val_score: 0.459563:  20%|##        | 2/10 [00:34<02:21, 17.68s/it]\u001b[32m[I 2022-04-21 14:48:49,957]\u001b[0m Trial 28 finished with value: 0.4604619580875334 and parameters: {'bagging_fraction': 0.6547105544499044, 'bagging_freq': 6}. Best is trial 27 with value: 0.4598634019925323.\u001b[0m\n",
      "bagging, val_score: 0.459563:  20%|##        | 2/10 [00:34<02:21, 17.68s/it]"
     ]
    },
    {
     "name": "stdout",
     "output_type": "stream",
     "text": [
      "Early stopping, best iteration is:\n",
      "[169]\tvalid_0's binary_logloss: 0.417623\tvalid_1's binary_logloss: 0.460462\n",
      "Training until validation scores don't improve for 10 rounds\n",
      "[100]\tvalid_0's binary_logloss: 0.431123\tvalid_1's binary_logloss: 0.463218\n"
     ]
    },
    {
     "name": "stderr",
     "output_type": "stream",
     "text": [
      "bagging, val_score: 0.459563:  30%|###       | 3/10 [00:48<01:54, 16.29s/it]\u001b[32m[I 2022-04-21 14:49:03,018]\u001b[0m Trial 29 finished with value: 0.462984085340203 and parameters: {'bagging_fraction': 0.4028313137145883, 'bagging_freq': 1}. Best is trial 27 with value: 0.4598634019925323.\u001b[0m\n",
      "bagging, val_score: 0.459563:  30%|###       | 3/10 [00:48<01:54, 16.29s/it]"
     ]
    },
    {
     "name": "stdout",
     "output_type": "stream",
     "text": [
      "Early stopping, best iteration is:\n",
      "[98]\tvalid_0's binary_logloss: 0.431527\tvalid_1's binary_logloss: 0.462984\n",
      "Training until validation scores don't improve for 10 rounds\n",
      "[100]\tvalid_0's binary_logloss: 0.430563\tvalid_1's binary_logloss: 0.461442\n"
     ]
    },
    {
     "name": "stderr",
     "output_type": "stream",
     "text": [
      "bagging, val_score: 0.459563:  40%|####      | 4/10 [01:03<01:36, 16.01s/it]\u001b[32m[I 2022-04-21 14:49:18,375]\u001b[0m Trial 30 finished with value: 0.46116028750842314 and parameters: {'bagging_fraction': 0.802449450836738, 'bagging_freq': 6}. Best is trial 27 with value: 0.4598634019925323.\u001b[0m\n",
      "bagging, val_score: 0.459563:  40%|####      | 4/10 [01:03<01:36, 16.01s/it]"
     ]
    },
    {
     "name": "stdout",
     "output_type": "stream",
     "text": [
      "Early stopping, best iteration is:\n",
      "[111]\tvalid_0's binary_logloss: 0.428115\tvalid_1's binary_logloss: 0.46116\n",
      "Training until validation scores don't improve for 10 rounds\n",
      "[100]\tvalid_0's binary_logloss: 0.431205\tvalid_1's binary_logloss: 0.462446\n"
     ]
    },
    {
     "name": "stderr",
     "output_type": "stream",
     "text": [
      "bagging, val_score: 0.459563:  50%|#####     | 5/10 [01:17<01:16, 15.30s/it]\u001b[32m[I 2022-04-21 14:49:32,025]\u001b[0m Trial 31 finished with value: 0.4622740670025559 and parameters: {'bagging_fraction': 0.4820239538111085, 'bagging_freq': 5}. Best is trial 27 with value: 0.4598634019925323.\u001b[0m\n",
      "bagging, val_score: 0.459563:  50%|#####     | 5/10 [01:17<01:16, 15.30s/it]"
     ]
    },
    {
     "name": "stdout",
     "output_type": "stream",
     "text": [
      "Early stopping, best iteration is:\n",
      "[119]\tvalid_0's binary_logloss: 0.427386\tvalid_1's binary_logloss: 0.462274\n",
      "Training until validation scores don't improve for 10 rounds\n",
      "[100]\tvalid_0's binary_logloss: 0.429833\tvalid_1's binary_logloss: 0.460263\n"
     ]
    },
    {
     "name": "stderr",
     "output_type": "stream",
     "text": [
      "bagging, val_score: 0.459563:  60%|######    | 6/10 [01:34<01:03, 15.99s/it]\u001b[32m[I 2022-04-21 14:49:49,611]\u001b[0m Trial 32 finished with value: 0.4595906580926802 and parameters: {'bagging_fraction': 0.9347931725882498, 'bagging_freq': 2}. Best is trial 32 with value: 0.4595906580926802.\u001b[0m\n",
      "bagging, val_score: 0.459563:  60%|######    | 6/10 [01:34<01:03, 15.99s/it]"
     ]
    },
    {
     "name": "stdout",
     "output_type": "stream",
     "text": [
      "Early stopping, best iteration is:\n",
      "[142]\tvalid_0's binary_logloss: 0.421467\tvalid_1's binary_logloss: 0.459591\n",
      "Training until validation scores don't improve for 10 rounds\n",
      "[100]\tvalid_0's binary_logloss: 0.430334\tvalid_1's binary_logloss: 0.462286\n"
     ]
    },
    {
     "name": "stderr",
     "output_type": "stream",
     "text": [
      "bagging, val_score: 0.459563:  70%|#######   | 7/10 [01:48<00:45, 15.26s/it]\u001b[32m[I 2022-04-21 14:50:03,148]\u001b[0m Trial 33 finished with value: 0.4617607714207383 and parameters: {'bagging_fraction': 0.5111969317302304, 'bagging_freq': 1}. Best is trial 32 with value: 0.4595906580926802.\u001b[0m\n",
      "bagging, val_score: 0.459563:  70%|#######   | 7/10 [01:48<00:45, 15.26s/it]"
     ]
    },
    {
     "name": "stdout",
     "output_type": "stream",
     "text": [
      "Early stopping, best iteration is:\n",
      "[126]\tvalid_0's binary_logloss: 0.425061\tvalid_1's binary_logloss: 0.461761\n",
      "Training until validation scores don't improve for 10 rounds\n",
      "[100]\tvalid_0's binary_logloss: 0.43082\tvalid_1's binary_logloss: 0.461579\n"
     ]
    },
    {
     "name": "stderr",
     "output_type": "stream",
     "text": [
      "bagging, val_score: 0.459563:  80%|########  | 8/10 [02:02<00:29, 14.84s/it]\u001b[32m[I 2022-04-21 14:50:17,014]\u001b[0m Trial 34 finished with value: 0.46151594812296826 and parameters: {'bagging_fraction': 0.531818495575215, 'bagging_freq': 7}. Best is trial 32 with value: 0.4595906580926802.\u001b[0m\n",
      "bagging, val_score: 0.459563:  80%|########  | 8/10 [02:02<00:29, 14.84s/it]"
     ]
    },
    {
     "name": "stdout",
     "output_type": "stream",
     "text": [
      "Early stopping, best iteration is:\n",
      "[102]\tvalid_0's binary_logloss: 0.430435\tvalid_1's binary_logloss: 0.461516\n",
      "Training until validation scores don't improve for 10 rounds\n",
      "[100]\tvalid_0's binary_logloss: 0.429868\tvalid_1's binary_logloss: 0.460623\n"
     ]
    },
    {
     "name": "stderr",
     "output_type": "stream",
     "text": [
      "bagging, val_score: 0.459563:  90%|######### | 9/10 [02:19<00:15, 15.76s/it]\u001b[32m[I 2022-04-21 14:50:34,928]\u001b[0m Trial 35 finished with value: 0.460137702508152 and parameters: {'bagging_fraction': 0.8870098894544057, 'bagging_freq': 2}. Best is trial 32 with value: 0.4595906580926802.\u001b[0m\n",
      "bagging, val_score: 0.459563:  90%|######### | 9/10 [02:19<00:15, 15.76s/it]"
     ]
    },
    {
     "name": "stdout",
     "output_type": "stream",
     "text": [
      "Early stopping, best iteration is:\n",
      "[139]\tvalid_0's binary_logloss: 0.422255\tvalid_1's binary_logloss: 0.460138\n",
      "Training until validation scores don't improve for 10 rounds\n",
      "[100]\tvalid_0's binary_logloss: 0.430126\tvalid_1's binary_logloss: 0.460505\n"
     ]
    },
    {
     "name": "stderr",
     "output_type": "stream",
     "text": [
      "bagging, val_score: 0.459563: 100%|##########| 10/10 [02:36<00:00, 15.92s/it]\u001b[32m[I 2022-04-21 14:50:51,220]\u001b[0m Trial 36 finished with value: 0.46040983372717814 and parameters: {'bagging_fraction': 0.8897348492363203, 'bagging_freq': 2}. Best is trial 32 with value: 0.4595906580926802.\u001b[0m\n",
      "bagging, val_score: 0.459563: 100%|##########| 10/10 [02:36<00:00, 15.62s/it]\n",
      "feature_fraction_stage2, val_score: 0.459563:   0%|          | 0/6 [00:00<?, ?it/s]"
     ]
    },
    {
     "name": "stdout",
     "output_type": "stream",
     "text": [
      "Early stopping, best iteration is:\n",
      "[113]\tvalid_0's binary_logloss: 0.427503\tvalid_1's binary_logloss: 0.46041\n",
      "Training until validation scores don't improve for 10 rounds\n",
      "[100]\tvalid_0's binary_logloss: 0.430571\tvalid_1's binary_logloss: 0.460989\n"
     ]
    },
    {
     "name": "stderr",
     "output_type": "stream",
     "text": [
      "feature_fraction_stage2, val_score: 0.459563:  17%|#6        | 1/6 [00:16<01:21, 16.33s/it]\u001b[32m[I 2022-04-21 14:51:07,578]\u001b[0m Trial 37 finished with value: 0.46022384449301584 and parameters: {'feature_fraction': 0.42}. Best is trial 37 with value: 0.46022384449301584.\u001b[0m\n",
      "feature_fraction_stage2, val_score: 0.459563:  17%|#6        | 1/6 [00:16<01:21, 16.33s/it]"
     ]
    },
    {
     "name": "stdout",
     "output_type": "stream",
     "text": [
      "Early stopping, best iteration is:\n",
      "[161]\tvalid_0's binary_logloss: 0.419457\tvalid_1's binary_logloss: 0.460224\n",
      "Training until validation scores don't improve for 10 rounds\n",
      "[100]\tvalid_0's binary_logloss: 0.430193\tvalid_1's binary_logloss: 0.460993\n"
     ]
    },
    {
     "name": "stderr",
     "output_type": "stream",
     "text": [
      "feature_fraction_stage2, val_score: 0.459563:  33%|###3      | 2/6 [00:32<01:05, 16.31s/it]\u001b[32m[I 2022-04-21 14:51:23,852]\u001b[0m Trial 38 finished with value: 0.46027859854657166 and parameters: {'feature_fraction': 0.516}. Best is trial 37 with value: 0.46022384449301584.\u001b[0m\n",
      "feature_fraction_stage2, val_score: 0.459563:  33%|###3      | 2/6 [00:32<01:05, 16.31s/it]"
     ]
    },
    {
     "name": "stdout",
     "output_type": "stream",
     "text": [
      "Early stopping, best iteration is:\n",
      "[125]\tvalid_0's binary_logloss: 0.425423\tvalid_1's binary_logloss: 0.460279\n",
      "Training until validation scores don't improve for 10 rounds\n",
      "[100]\tvalid_0's binary_logloss: 0.429949\tvalid_1's binary_logloss: 0.460618\n"
     ]
    },
    {
     "name": "stderr",
     "output_type": "stream",
     "text": [
      "feature_fraction_stage2, val_score: 0.459461:  50%|#####     | 3/6 [00:51<00:51, 17.22s/it]\u001b[32m[I 2022-04-21 14:51:43,205]\u001b[0m Trial 39 finished with value: 0.45946112723707944 and parameters: {'feature_fraction': 0.58}. Best is trial 39 with value: 0.45946112723707944.\u001b[0m\n",
      "feature_fraction_stage2, val_score: 0.459461:  50%|#####     | 3/6 [00:51<00:51, 17.22s/it]"
     ]
    },
    {
     "name": "stdout",
     "output_type": "stream",
     "text": [
      "Early stopping, best iteration is:\n",
      "[167]\tvalid_0's binary_logloss: 0.417457\tvalid_1's binary_logloss: 0.459461\n",
      "Training until validation scores don't improve for 10 rounds\n",
      "[100]\tvalid_0's binary_logloss: 0.430458\tvalid_1's binary_logloss: 0.461277\n"
     ]
    },
    {
     "name": "stderr",
     "output_type": "stream",
     "text": [
      "feature_fraction_stage2, val_score: 0.459461:  67%|######6   | 4/6 [01:07<00:33, 16.76s/it]\u001b[32m[I 2022-04-21 14:51:58,892]\u001b[0m Trial 40 finished with value: 0.4606364682884292 and parameters: {'feature_fraction': 0.484}. Best is trial 39 with value: 0.45946112723707944.\u001b[0m\n",
      "feature_fraction_stage2, val_score: 0.459461:  67%|######6   | 4/6 [01:07<00:33, 16.76s/it]"
     ]
    },
    {
     "name": "stdout",
     "output_type": "stream",
     "text": [
      "Early stopping, best iteration is:\n",
      "[130]\tvalid_0's binary_logloss: 0.424519\tvalid_1's binary_logloss: 0.460636\n",
      "Training until validation scores don't improve for 10 rounds\n",
      "[100]\tvalid_0's binary_logloss: 0.430013\tvalid_1's binary_logloss: 0.46104\n",
      "[200]\tvalid_0's binary_logloss: 0.411532\tvalid_1's binary_logloss: 0.459798\n"
     ]
    },
    {
     "name": "stderr",
     "output_type": "stream",
     "text": [
      "feature_fraction_stage2, val_score: 0.459461:  83%|########3 | 5/6 [01:28<00:17, 17.85s/it]\u001b[32m[I 2022-04-21 14:52:19,288]\u001b[0m Trial 41 finished with value: 0.4597960153345321 and parameters: {'feature_fraction': 0.5479999999999999}. Best is trial 39 with value: 0.45946112723707944.\u001b[0m\n",
      "feature_fraction_stage2, val_score: 0.459461:  83%|########3 | 5/6 [01:28<00:17, 17.85s/it]"
     ]
    },
    {
     "name": "stdout",
     "output_type": "stream",
     "text": [
      "Early stopping, best iteration is:\n",
      "[199]\tvalid_0's binary_logloss: 0.411727\tvalid_1's binary_logloss: 0.459796\n",
      "Training until validation scores don't improve for 10 rounds\n",
      "[100]\tvalid_0's binary_logloss: 0.430374\tvalid_1's binary_logloss: 0.460631\n"
     ]
    },
    {
     "name": "stderr",
     "output_type": "stream",
     "text": [
      "feature_fraction_stage2, val_score: 0.459461: 100%|##########| 6/6 [01:44<00:00, 17.33s/it]\u001b[32m[I 2022-04-21 14:52:35,384]\u001b[0m Trial 42 finished with value: 0.4601002519337459 and parameters: {'feature_fraction': 0.45199999999999996}. Best is trial 39 with value: 0.45946112723707944.\u001b[0m\n",
      "feature_fraction_stage2, val_score: 0.459461: 100%|##########| 6/6 [01:44<00:00, 17.36s/it]\n",
      "regularization_factors, val_score: 0.459461:   0%|          | 0/20 [00:00<?, ?it/s]"
     ]
    },
    {
     "name": "stdout",
     "output_type": "stream",
     "text": [
      "Early stopping, best iteration is:\n",
      "[142]\tvalid_0's binary_logloss: 0.422313\tvalid_1's binary_logloss: 0.4601\n",
      "Training until validation scores don't improve for 10 rounds\n",
      "[100]\tvalid_0's binary_logloss: 0.430026\tvalid_1's binary_logloss: 0.460496\n"
     ]
    },
    {
     "name": "stderr",
     "output_type": "stream",
     "text": [
      "regularization_factors, val_score: 0.459461:   5%|5         | 1/20 [00:15<04:59, 15.76s/it]\u001b[32m[I 2022-04-21 14:52:51,162]\u001b[0m Trial 43 finished with value: 0.46002699072334624 and parameters: {'lambda_l1': 0.0007773998922821829, 'lambda_l2': 3.2012859298995277e-06}. Best is trial 43 with value: 0.46002699072334624.\u001b[0m\n",
      "regularization_factors, val_score: 0.459461:   5%|5         | 1/20 [00:15<04:59, 15.76s/it]"
     ]
    },
    {
     "name": "stdout",
     "output_type": "stream",
     "text": [
      "Early stopping, best iteration is:\n",
      "[115]\tvalid_0's binary_logloss: 0.426971\tvalid_1's binary_logloss: 0.460027\n",
      "Training until validation scores don't improve for 10 rounds\n",
      "[100]\tvalid_0's binary_logloss: 0.43025\tvalid_1's binary_logloss: 0.460642\n"
     ]
    },
    {
     "name": "stderr",
     "output_type": "stream",
     "text": [
      "regularization_factors, val_score: 0.459461:  10%|#         | 2/20 [00:28<04:29, 14.98s/it]\u001b[32m[I 2022-04-21 14:53:04,334]\u001b[0m Trial 44 finished with value: 0.46058419781086596 and parameters: {'lambda_l1': 6.616957066014342e-05, 'lambda_l2': 0.400853048601546}. Best is trial 43 with value: 0.46002699072334624.\u001b[0m\n",
      "regularization_factors, val_score: 0.459461:  10%|#         | 2/20 [00:28<04:29, 14.98s/it]"
     ]
    },
    {
     "name": "stdout",
     "output_type": "stream",
     "text": [
      "Early stopping, best iteration is:\n",
      "[97]\tvalid_0's binary_logloss: 0.430831\tvalid_1's binary_logloss: 0.460584\n",
      "Training until validation scores don't improve for 10 rounds\n",
      "[100]\tvalid_0's binary_logloss: 0.429949\tvalid_1's binary_logloss: 0.460619\n"
     ]
    },
    {
     "name": "stderr",
     "output_type": "stream",
     "text": [
      "regularization_factors, val_score: 0.459461:  15%|#5        | 3/20 [00:43<04:11, 14.77s/it]\u001b[32m[I 2022-04-21 14:53:18,624]\u001b[0m Trial 45 finished with value: 0.45946417796209915 and parameters: {'lambda_l1': 1.1027313099672533e-08, 'lambda_l2': 1.242001404761155e-07}. Best is trial 45 with value: 0.45946417796209915.\u001b[0m\n",
      "regularization_factors, val_score: 0.459461:  15%|#5        | 3/20 [00:43<04:11, 14.77s/it]"
     ]
    },
    {
     "name": "stdout",
     "output_type": "stream",
     "text": [
      "Early stopping, best iteration is:\n",
      "[167]\tvalid_0's binary_logloss: 0.417457\tvalid_1's binary_logloss: 0.459464\n",
      "Training until validation scores don't improve for 10 rounds\n",
      "[100]\tvalid_0's binary_logloss: 0.430183\tvalid_1's binary_logloss: 0.460249\n"
     ]
    },
    {
     "name": "stderr",
     "output_type": "stream",
     "text": [
      "regularization_factors, val_score: 0.459461:  20%|##        | 4/20 [00:56<03:48, 14.25s/it]\u001b[32m[I 2022-04-21 14:53:31,649]\u001b[0m Trial 46 finished with value: 0.4598086890467302 and parameters: {'lambda_l1': 0.010882827930218712, 'lambda_l2': 0.2708162972907513}. Best is trial 45 with value: 0.45946417796209915.\u001b[0m\n",
      "regularization_factors, val_score: 0.459461:  20%|##        | 4/20 [00:56<03:48, 14.25s/it]"
     ]
    },
    {
     "name": "stdout",
     "output_type": "stream",
     "text": [
      "Early stopping, best iteration is:\n",
      "[127]\tvalid_0's binary_logloss: 0.425086\tvalid_1's binary_logloss: 0.459809\n",
      "Training until validation scores don't improve for 10 rounds\n",
      "[100]\tvalid_0's binary_logloss: 0.430028\tvalid_1's binary_logloss: 0.460495\n"
     ]
    },
    {
     "name": "stderr",
     "output_type": "stream",
     "text": [
      "regularization_factors, val_score: 0.459461:  25%|##5       | 5/20 [01:09<03:29, 13.98s/it]\u001b[32m[I 2022-04-21 14:53:44,987]\u001b[0m Trial 47 finished with value: 0.4600267223558557 and parameters: {'lambda_l1': 1.6996492507894156e-07, 'lambda_l2': 0.0014991323116035308}. Best is trial 45 with value: 0.45946417796209915.\u001b[0m\n",
      "regularization_factors, val_score: 0.459461:  25%|##5       | 5/20 [01:09<03:29, 13.98s/it]"
     ]
    },
    {
     "name": "stdout",
     "output_type": "stream",
     "text": [
      "Early stopping, best iteration is:\n",
      "[115]\tvalid_0's binary_logloss: 0.426973\tvalid_1's binary_logloss: 0.460027\n",
      "Training until validation scores don't improve for 10 rounds\n",
      "[100]\tvalid_0's binary_logloss: 0.430149\tvalid_1's binary_logloss: 0.460359\n"
     ]
    },
    {
     "name": "stderr",
     "output_type": "stream",
     "text": [
      "regularization_factors, val_score: 0.459461:  30%|###       | 6/20 [01:24<03:18, 14.19s/it]\u001b[32m[I 2022-04-21 14:53:59,662]\u001b[0m Trial 48 finished with value: 0.459745055499589 and parameters: {'lambda_l1': 1.0517138394360073, 'lambda_l2': 7.635176818135586e-07}. Best is trial 45 with value: 0.45946417796209915.\u001b[0m\n",
      "regularization_factors, val_score: 0.459461:  30%|###       | 6/20 [01:24<03:18, 14.19s/it]"
     ]
    },
    {
     "name": "stdout",
     "output_type": "stream",
     "text": [
      "Early stopping, best iteration is:\n",
      "[161]\tvalid_0's binary_logloss: 0.418826\tvalid_1's binary_logloss: 0.459745\n",
      "Training until validation scores don't improve for 10 rounds\n",
      "[100]\tvalid_0's binary_logloss: 0.429949\tvalid_1's binary_logloss: 0.46062\n"
     ]
    },
    {
     "name": "stderr",
     "output_type": "stream",
     "text": [
      "regularization_factors, val_score: 0.459461:  35%|###5      | 7/20 [01:39<03:06, 14.36s/it]\u001b[32m[I 2022-04-21 14:54:14,415]\u001b[0m Trial 49 finished with value: 0.4594635974181949 and parameters: {'lambda_l1': 4.655367559816141e-07, 'lambda_l2': 9.449134137745608e-08}. Best is trial 49 with value: 0.4594635974181949.\u001b[0m\n",
      "regularization_factors, val_score: 0.459461:  35%|###5      | 7/20 [01:39<03:06, 14.36s/it]"
     ]
    },
    {
     "name": "stdout",
     "output_type": "stream",
     "text": [
      "Early stopping, best iteration is:\n",
      "[167]\tvalid_0's binary_logloss: 0.417457\tvalid_1's binary_logloss: 0.459464\n",
      "Training until validation scores don't improve for 10 rounds\n",
      "[100]\tvalid_0's binary_logloss: 0.43137\tvalid_1's binary_logloss: 0.459775\n"
     ]
    },
    {
     "name": "stderr",
     "output_type": "stream",
     "text": [
      "regularization_factors, val_score: 0.459366:  40%|####      | 8/20 [01:52<02:48, 14.05s/it]\u001b[32m[I 2022-04-21 14:54:27,761]\u001b[0m Trial 50 finished with value: 0.45936629805928253 and parameters: {'lambda_l1': 9.490245203532942e-07, 'lambda_l2': 6.421168438428032}. Best is trial 50 with value: 0.45936629805928253.\u001b[0m\n",
      "regularization_factors, val_score: 0.459366:  40%|####      | 8/20 [01:52<02:48, 14.05s/it]"
     ]
    },
    {
     "name": "stdout",
     "output_type": "stream",
     "text": [
      "Early stopping, best iteration is:\n",
      "[119]\tvalid_0's binary_logloss: 0.428213\tvalid_1's binary_logloss: 0.459366\n",
      "Training until validation scores don't improve for 10 rounds\n",
      "[100]\tvalid_0's binary_logloss: 0.430137\tvalid_1's binary_logloss: 0.46061\n"
     ]
    },
    {
     "name": "stderr",
     "output_type": "stream",
     "text": [
      "regularization_factors, val_score: 0.459366:  45%|####5     | 9/20 [02:06<02:34, 14.03s/it]\u001b[32m[I 2022-04-21 14:54:41,749]\u001b[0m Trial 51 finished with value: 0.45983019475804804 and parameters: {'lambda_l1': 0.2019055894080857, 'lambda_l2': 3.5275169933928286e-07}. Best is trial 50 with value: 0.45936629805928253.\u001b[0m\n",
      "regularization_factors, val_score: 0.459366:  45%|####5     | 9/20 [02:06<02:34, 14.03s/it]"
     ]
    },
    {
     "name": "stdout",
     "output_type": "stream",
     "text": [
      "Early stopping, best iteration is:\n",
      "[153]\tvalid_0's binary_logloss: 0.419639\tvalid_1's binary_logloss: 0.45983\n",
      "Training until validation scores don't improve for 10 rounds\n",
      "[100]\tvalid_0's binary_logloss: 0.429828\tvalid_1's binary_logloss: 0.460378\n"
     ]
    },
    {
     "name": "stderr",
     "output_type": "stream",
     "text": [
      "regularization_factors, val_score: 0.459366:  50%|#####     | 10/20 [02:19<02:17, 13.71s/it]\u001b[32m[I 2022-04-21 14:54:54,737]\u001b[0m Trial 52 finished with value: 0.4597923113903167 and parameters: {'lambda_l1': 0.22183125618514202, 'lambda_l2': 2.9286247167445133e-06}. Best is trial 50 with value: 0.45936629805928253.\u001b[0m\n",
      "regularization_factors, val_score: 0.459366:  50%|#####     | 10/20 [02:19<02:17, 13.71s/it]"
     ]
    },
    {
     "name": "stdout",
     "output_type": "stream",
     "text": [
      "Early stopping, best iteration is:\n",
      "[128]\tvalid_0's binary_logloss: 0.424282\tvalid_1's binary_logloss: 0.459792\n",
      "Training until validation scores don't improve for 10 rounds\n",
      "[100]\tvalid_0's binary_logloss: 0.431482\tvalid_1's binary_logloss: 0.459836\n"
     ]
    },
    {
     "name": "stderr",
     "output_type": "stream",
     "text": [
      "regularization_factors, val_score: 0.458553:  55%|#####5    | 11/20 [02:38<02:17, 15.32s/it]\u001b[32m[I 2022-04-21 14:55:13,770]\u001b[0m Trial 53 finished with value: 0.4585528674109037 and parameters: {'lambda_l1': 3.005784364160781e-05, 'lambda_l2': 8.382977103422135}. Best is trial 53 with value: 0.4585528674109037.\u001b[0m\n",
      "regularization_factors, val_score: 0.458553:  55%|#####5    | 11/20 [02:38<02:17, 15.32s/it]"
     ]
    },
    {
     "name": "stdout",
     "output_type": "stream",
     "text": [
      "Early stopping, best iteration is:\n",
      "[185]\tvalid_0's binary_logloss: 0.418391\tvalid_1's binary_logloss: 0.458553\n",
      "Training until validation scores don't improve for 10 rounds\n",
      "[100]\tvalid_0's binary_logloss: 0.431542\tvalid_1's binary_logloss: 0.460332\n"
     ]
    },
    {
     "name": "stderr",
     "output_type": "stream",
     "text": [
      "regularization_factors, val_score: 0.458553:  60%|######    | 12/20 [02:55<02:06, 15.82s/it]\u001b[32m[I 2022-04-21 14:55:30,770]\u001b[0m Trial 54 finished with value: 0.45990734062400274 and parameters: {'lambda_l1': 1.3132588653273114e-05, 'lambda_l2': 7.718638255265974}. Best is trial 53 with value: 0.4585528674109037.\u001b[0m\n",
      "regularization_factors, val_score: 0.458553:  60%|######    | 12/20 [02:55<02:06, 15.82s/it]"
     ]
    },
    {
     "name": "stdout",
     "output_type": "stream",
     "text": [
      "Early stopping, best iteration is:\n",
      "[105]\tvalid_0's binary_logloss: 0.430528\tvalid_1's binary_logloss: 0.459907\n",
      "Training until validation scores don't improve for 10 rounds\n",
      "[100]\tvalid_0's binary_logloss: 0.431483\tvalid_1's binary_logloss: 0.459836\n",
      "[200]\tvalid_0's binary_logloss: 0.416228\tvalid_1's binary_logloss: 0.458476\n"
     ]
    },
    {
     "name": "stderr",
     "output_type": "stream",
     "text": [
      "regularization_factors, val_score: 0.458444:  65%|######5   | 13/20 [03:18<02:06, 18.03s/it]\u001b[32m[I 2022-04-21 14:55:53,949]\u001b[0m Trial 55 finished with value: 0.4584443516762413 and parameters: {'lambda_l1': 4.602348963946269e-06, 'lambda_l2': 8.389123215314243}. Best is trial 55 with value: 0.4584443516762413.\u001b[0m\n",
      "regularization_factors, val_score: 0.458444:  65%|######5   | 13/20 [03:18<02:06, 18.03s/it]"
     ]
    },
    {
     "name": "stdout",
     "output_type": "stream",
     "text": [
      "Early stopping, best iteration is:\n",
      "[206]\tvalid_0's binary_logloss: 0.415461\tvalid_1's binary_logloss: 0.458444\n",
      "Training until validation scores don't improve for 10 rounds\n",
      "[100]\tvalid_0's binary_logloss: 0.429714\tvalid_1's binary_logloss: 0.46064\n"
     ]
    },
    {
     "name": "stderr",
     "output_type": "stream",
     "text": [
      "regularization_factors, val_score: 0.458444:  70%|#######   | 14/20 [03:36<01:47, 17.91s/it]\u001b[32m[I 2022-04-21 14:56:11,601]\u001b[0m Trial 56 finished with value: 0.4602658951357163 and parameters: {'lambda_l1': 0.001154015887267677, 'lambda_l2': 0.004187707415855651}. Best is trial 55 with value: 0.4584443516762413.\u001b[0m\n",
      "regularization_factors, val_score: 0.458444:  70%|#######   | 14/20 [03:36<01:47, 17.91s/it]"
     ]
    },
    {
     "name": "stdout",
     "output_type": "stream",
     "text": [
      "Early stopping, best iteration is:\n",
      "[117]\tvalid_0's binary_logloss: 0.426394\tvalid_1's binary_logloss: 0.460266\n",
      "Training until validation scores don't improve for 10 rounds\n",
      "[100]\tvalid_0's binary_logloss: 0.430167\tvalid_1's binary_logloss: 0.460663\n"
     ]
    },
    {
     "name": "stderr",
     "output_type": "stream",
     "text": [
      "regularization_factors, val_score: 0.458444:  75%|#######5  | 15/20 [03:55<01:32, 18.44s/it]\u001b[32m[I 2022-04-21 14:56:31,252]\u001b[0m Trial 57 finished with value: 0.4598925154969929 and parameters: {'lambda_l1': 1.5726418427331312e-05, 'lambda_l2': 0.05900808194119423}. Best is trial 55 with value: 0.4584443516762413.\u001b[0m\n",
      "regularization_factors, val_score: 0.458444:  75%|#######5  | 15/20 [03:55<01:32, 18.44s/it]"
     ]
    },
    {
     "name": "stdout",
     "output_type": "stream",
     "text": [
      "Early stopping, best iteration is:\n",
      "[157]\tvalid_0's binary_logloss: 0.419005\tvalid_1's binary_logloss: 0.459893\n",
      "Training until validation scores don't improve for 10 rounds\n",
      "[100]\tvalid_0's binary_logloss: 0.429856\tvalid_1's binary_logloss: 0.460289\n"
     ]
    },
    {
     "name": "stderr",
     "output_type": "stream",
     "text": [
      "regularization_factors, val_score: 0.458444:  80%|########  | 16/20 [04:15<01:14, 18.68s/it]\u001b[32m[I 2022-04-21 14:56:50,507]\u001b[0m Trial 58 finished with value: 0.4598789963833276 and parameters: {'lambda_l1': 4.5421333424412204e-06, 'lambda_l2': 0.01667405041037913}. Best is trial 55 with value: 0.4584443516762413.\u001b[0m\n",
      "regularization_factors, val_score: 0.458444:  80%|########  | 16/20 [04:15<01:14, 18.68s/it]"
     ]
    },
    {
     "name": "stdout",
     "output_type": "stream",
     "text": [
      "Early stopping, best iteration is:\n",
      "[139]\tvalid_0's binary_logloss: 0.422442\tvalid_1's binary_logloss: 0.459879\n",
      "Training until validation scores don't improve for 10 rounds\n",
      "[100]\tvalid_0's binary_logloss: 0.429711\tvalid_1's binary_logloss: 0.460638\n"
     ]
    },
    {
     "name": "stderr",
     "output_type": "stream",
     "text": [
      "regularization_factors, val_score: 0.458444:  85%|########5 | 17/20 [04:34<00:56, 18.90s/it]\u001b[32m[I 2022-04-21 14:57:09,924]\u001b[0m Trial 59 finished with value: 0.4601095031318616 and parameters: {'lambda_l1': 0.0058898516792182986, 'lambda_l2': 4.400106992740232e-05}. Best is trial 55 with value: 0.4584443516762413.\u001b[0m\n",
      "regularization_factors, val_score: 0.458444:  85%|########5 | 17/20 [04:34<00:56, 18.90s/it]"
     ]
    },
    {
     "name": "stdout",
     "output_type": "stream",
     "text": [
      "Early stopping, best iteration is:\n",
      "[136]\tvalid_0's binary_logloss: 0.422596\tvalid_1's binary_logloss: 0.46011\n",
      "Training until validation scores don't improve for 10 rounds\n",
      "[100]\tvalid_0's binary_logloss: 0.430491\tvalid_1's binary_logloss: 0.460561\n"
     ]
    },
    {
     "name": "stderr",
     "output_type": "stream",
     "text": [
      "regularization_factors, val_score: 0.458444:  90%|######### | 18/20 [04:53<00:37, 18.84s/it]\u001b[32m[I 2022-04-21 14:57:28,634]\u001b[0m Trial 60 finished with value: 0.46019063117664477 and parameters: {'lambda_l1': 0.00013849194901311066, 'lambda_l2': 0.9015678638809134}. Best is trial 55 with value: 0.4584443516762413.\u001b[0m\n",
      "regularization_factors, val_score: 0.458444:  90%|######### | 18/20 [04:53<00:37, 18.84s/it]"
     ]
    },
    {
     "name": "stdout",
     "output_type": "stream",
     "text": [
      "Early stopping, best iteration is:\n",
      "[125]\tvalid_0's binary_logloss: 0.425821\tvalid_1's binary_logloss: 0.460191\n",
      "Training until validation scores don't improve for 10 rounds\n",
      "[100]\tvalid_0's binary_logloss: 0.429949\tvalid_1's binary_logloss: 0.460617\n"
     ]
    },
    {
     "name": "stderr",
     "output_type": "stream",
     "text": [
      "regularization_factors, val_score: 0.458444:  95%|#########5| 19/20 [05:14<00:19, 19.50s/it]\u001b[32m[I 2022-04-21 14:57:49,650]\u001b[0m Trial 61 finished with value: 0.45946155073432343 and parameters: {'lambda_l1': 3.7442038161838996e-08, 'lambda_l2': 1.0780500294035922e-08}. Best is trial 55 with value: 0.4584443516762413.\u001b[0m\n",
      "regularization_factors, val_score: 0.458444:  95%|#########5| 19/20 [05:14<00:19, 19.50s/it]"
     ]
    },
    {
     "name": "stdout",
     "output_type": "stream",
     "text": [
      "Early stopping, best iteration is:\n",
      "[167]\tvalid_0's binary_logloss: 0.417457\tvalid_1's binary_logloss: 0.459462\n",
      "Training until validation scores don't improve for 10 rounds\n",
      "[100]\tvalid_0's binary_logloss: 0.429949\tvalid_1's binary_logloss: 0.460621\n"
     ]
    },
    {
     "name": "stderr",
     "output_type": "stream",
     "text": [
      "regularization_factors, val_score: 0.458444: 100%|##########| 20/20 [05:32<00:00, 19.25s/it]\u001b[32m[I 2022-04-21 14:58:08,323]\u001b[0m Trial 62 finished with value: 0.45975669681410075 and parameters: {'lambda_l1': 3.229196552834654e-06, 'lambda_l2': 0.00023864090655640517}. Best is trial 55 with value: 0.4584443516762413.\u001b[0m\n",
      "regularization_factors, val_score: 0.458444: 100%|##########| 20/20 [05:32<00:00, 16.65s/it]\n",
      "min_data_in_leaf, val_score: 0.458444:   0%|          | 0/5 [00:00<?, ?it/s]"
     ]
    },
    {
     "name": "stdout",
     "output_type": "stream",
     "text": [
      "Early stopping, best iteration is:\n",
      "[140]\tvalid_0's binary_logloss: 0.42224\tvalid_1's binary_logloss: 0.459757\n",
      "Training until validation scores don't improve for 10 rounds\n",
      "[100]\tvalid_0's binary_logloss: 0.431388\tvalid_1's binary_logloss: 0.460283\n",
      "[200]\tvalid_0's binary_logloss: 0.416225\tvalid_1's binary_logloss: 0.458993\n"
     ]
    },
    {
     "name": "stderr",
     "output_type": "stream",
     "text": [
      "min_data_in_leaf, val_score: 0.458444:  20%|##        | 1/5 [00:23<01:35, 23.90s/it]\u001b[32m[I 2022-04-21 14:58:32,247]\u001b[0m Trial 63 finished with value: 0.4589660448667229 and parameters: {'min_child_samples': 100}. Best is trial 63 with value: 0.4589660448667229.\u001b[0m\n",
      "min_data_in_leaf, val_score: 0.458444:  20%|##        | 1/5 [00:23<01:35, 23.90s/it]"
     ]
    },
    {
     "name": "stdout",
     "output_type": "stream",
     "text": [
      "Early stopping, best iteration is:\n",
      "[196]\tvalid_0's binary_logloss: 0.416756\tvalid_1's binary_logloss: 0.458966\n",
      "Training until validation scores don't improve for 10 rounds\n",
      "[100]\tvalid_0's binary_logloss: 0.431483\tvalid_1's binary_logloss: 0.459836\n"
     ]
    },
    {
     "name": "stderr",
     "output_type": "stream",
     "text": [
      "min_data_in_leaf, val_score: 0.458393:  40%|####      | 2/5 [00:47<01:11, 23.77s/it]\u001b[32m[I 2022-04-21 14:58:55,726]\u001b[0m Trial 64 finished with value: 0.45839310621725193 and parameters: {'min_child_samples': 10}. Best is trial 64 with value: 0.45839310621725193.\u001b[0m\n",
      "min_data_in_leaf, val_score: 0.458393:  40%|####      | 2/5 [00:47<01:11, 23.77s/it]"
     ]
    },
    {
     "name": "stdout",
     "output_type": "stream",
     "text": [
      "Early stopping, best iteration is:\n",
      "[178]\tvalid_0's binary_logloss: 0.419229\tvalid_1's binary_logloss: 0.458393\n",
      "Training until validation scores don't improve for 10 rounds\n",
      "[100]\tvalid_0's binary_logloss: 0.431483\tvalid_1's binary_logloss: 0.459836\n"
     ]
    },
    {
     "name": "stderr",
     "output_type": "stream",
     "text": [
      "min_data_in_leaf, val_score: 0.458393:  60%|######    | 3/5 [01:08<00:46, 23.09s/it]\u001b[32m[I 2022-04-21 14:59:17,214]\u001b[0m Trial 65 finished with value: 0.4588575730364112 and parameters: {'min_child_samples': 5}. Best is trial 64 with value: 0.45839310621725193.\u001b[0m\n",
      "min_data_in_leaf, val_score: 0.458393:  60%|######    | 3/5 [01:08<00:46, 23.09s/it]"
     ]
    },
    {
     "name": "stdout",
     "output_type": "stream",
     "text": [
      "Early stopping, best iteration is:\n",
      "[145]\tvalid_0's binary_logloss: 0.424148\tvalid_1's binary_logloss: 0.458858\n",
      "Training until validation scores don't improve for 10 rounds\n",
      "[100]\tvalid_0's binary_logloss: 0.431482\tvalid_1's binary_logloss: 0.459839\n"
     ]
    },
    {
     "name": "stderr",
     "output_type": "stream",
     "text": [
      "min_data_in_leaf, val_score: 0.458393:  80%|########  | 4/5 [01:29<00:22, 22.21s/it]\u001b[32m[I 2022-04-21 14:59:37,381]\u001b[0m Trial 66 finished with value: 0.45874564611559837 and parameters: {'min_child_samples': 25}. Best is trial 64 with value: 0.45839310621725193.\u001b[0m\n",
      "min_data_in_leaf, val_score: 0.458393:  80%|########  | 4/5 [01:29<00:22, 22.21s/it]"
     ]
    },
    {
     "name": "stdout",
     "output_type": "stream",
     "text": [
      "Early stopping, best iteration is:\n",
      "[143]\tvalid_0's binary_logloss: 0.424401\tvalid_1's binary_logloss: 0.458746\n",
      "Training until validation scores don't improve for 10 rounds\n",
      "[100]\tvalid_0's binary_logloss: 0.431568\tvalid_1's binary_logloss: 0.460474\n"
     ]
    },
    {
     "name": "stderr",
     "output_type": "stream",
     "text": [
      "min_data_in_leaf, val_score: 0.458393: 100%|##########| 5/5 [01:47<00:00, 21.06s/it]\u001b[32m[I 2022-04-21 14:59:55,791]\u001b[0m Trial 67 finished with value: 0.4601021518352652 and parameters: {'min_child_samples': 50}. Best is trial 64 with value: 0.45839310621725193.\u001b[0m\n",
      "min_data_in_leaf, val_score: 0.458393: 100%|##########| 5/5 [01:47<00:00, 21.50s/it]"
     ]
    },
    {
     "name": "stdout",
     "output_type": "stream",
     "text": [
      "Early stopping, best iteration is:\n",
      "[114]\tvalid_0's binary_logloss: 0.429301\tvalid_1's binary_logloss: 0.460102\n"
     ]
    },
    {
     "name": "stderr",
     "output_type": "stream",
     "text": [
      "\n"
     ]
    }
   ],
   "source": [
    "# データセットの作成\n",
    "# lgb_train = lgb_o.Dataset(X_train.values, y_train.values)\n",
    "# lgb_valid = lgb_o.Dataset(X_valid.values, y_valid.values)\n",
    "\n",
    "# params = {\n",
    "#     'objective': 'binary',\n",
    "#     'random_state': 100\n",
    "# }\n",
    "\n",
    "# チューニング実行\n",
    "# lgb_clf_o = lgb_o.train(params, lgb_train,valid_sets=(lgb_train, lgb_valid), verbose_eval=100, early_stopping_rounds=10, optuna_seed=100)\n",
    "\n",
    "# lgb_clf_o.params"
   ]
  },
  {
   "cell_type": "code",
   "execution_count": 15,
   "metadata": {},
   "outputs": [],
   "source": [
    "# 時系列に沿って訓練データとテストデータに分ける\n",
    "train, test = split_data(results_c)\n",
    "X_train = train.drop(['rank', 'date', '単勝'], axis=1)\n",
    "y_train = train['rank']\n",
    "X_test = test.drop(['rank', 'date'], axis=1)\n",
    "y_test = test['rank']"
   ]
  },
  {
   "cell_type": "code",
   "execution_count": 16,
   "metadata": {},
   "outputs": [
    {
     "data": {
      "text/plain": [
       "LGBMClassifier(objective='binary', random_state=100)"
      ]
     },
     "execution_count": 16,
     "metadata": {},
     "output_type": "execute_result"
    }
   ],
   "source": [
    "# optunaでパラメータチューニングしたパラメータ\n",
    "# params = {\n",
    "#  'objective': 'binary',\n",
    "#  'random_state': 100,\n",
    "#  'feature_pre_filter': False,\n",
    "#  'lambda_l1': 1.3132588653273114e-05,\n",
    "#  'lambda_l2': 7.718638255265974,\n",
    "#  'num_leaves': 33,\n",
    "#  'feature_fraction': 1.0,\n",
    "#  'bagging_fraction': 1.0,\n",
    "#  'bagging_freq': 0,\n",
    "#  'min_child_samples': 20\n",
    "# }\n",
    "\n",
    "param = {\n",
    " 'objective': 'binary',\n",
    " 'random_state': 100,\n",
    " 'feature_pre_filter': False,\n",
    " 'lambda_l1': 4.602348963946269e-06,\n",
    " 'lambda_l2': 8.389123215314243,\n",
    " 'num_leaves': 21,\n",
    " 'feature_fraction': 0.58,\n",
    " 'bagging_fraction': 1.0,\n",
    " 'bagging_freq': 0,\n",
    " 'min_child_samples': 10\n",
    "}\n",
    "\n",
    "# LGBMで学習\n",
    "lgb_clf = lgb.LGBMClassifier(**params)\n",
    "lgb_clf.fit(X_train.values, y_train.values)"
   ]
  },
  {
   "cell_type": "code",
   "execution_count": 17,
   "metadata": {},
   "outputs": [],
   "source": [
    "# ModelEvaluatorクラスのオブジェクトを作成\n",
    "me = ModelEvaluator(lgb_clf, ['pickle/return_tables.pickle'])"
   ]
  },
  {
   "cell_type": "code",
   "execution_count": 18,
   "metadata": {},
   "outputs": [
    {
     "name": "stderr",
     "output_type": "stream",
     "text": [
      "100%|██████████| 100/100 [16:57<00:00, 10.18s/it]\n"
     ]
    }
   ],
   "source": [
    "# 単勝適正回収値＝払い戻し金額が常に一定になるように賭けた場合の回収率\n",
    "g_proper = gain(me.tansho_return_proper, X_test)"
   ]
  },
  {
   "cell_type": "code",
   "execution_count": 19,
   "metadata": {},
   "outputs": [
    {
     "name": "stderr",
     "output_type": "stream",
     "text": [
      "100%|██████████| 100/100 [10:56<00:00,  6.57s/it]\n"
     ]
    }
   ],
   "source": [
    "# 単勝の回収率\n",
    "g_tansho = gain(me.tansho_return, X_test)"
   ]
  },
  {
   "cell_type": "code",
   "execution_count": 20,
   "metadata": {},
   "outputs": [
    {
     "data": {
      "text/plain": [
       "(-10, 1000)"
      ]
     },
     "execution_count": 20,
     "metadata": {},
     "output_type": "execute_result"
    },
    {
     "data": {
      "image/png": "[encoded data removed]",
      "text/plain": [
       "<Figure size 432x288 with 1 Axes>"
      ]
     },
     "metadata": {
      "needs_background": "light"
     },
     "output_type": "display_data"
    }
   ],
   "source": [
    "plot(g_proper, 'proper')\n",
    "plot(g_tansho, 'tansho')\n",
    "plt.xlim(-10, 1000)"
   ]
  },
  {
   "cell_type": "markdown",
   "metadata": {},
   "source": [
    "### 事前準備"
   ]
  },
  {
   "cell_type": "code",
   "execution_count": 21,
   "metadata": {},
   "outputs": [],
   "source": [
    "race_id_list = ['2022060308{}'.format(str(i).zfill(2)) for i in range(1,13)]"
   ]
  },
  {
   "cell_type": "code",
   "execution_count": 22,
   "metadata": {},
   "outputs": [
    {
     "name": "stderr",
     "output_type": "stream",
     "text": [
      "100%|██████████| 12/12 [00:29<00:00,  2.42s/it]\n"
     ]
    }
   ],
   "source": [
    "st = ShutubaTable.scrape(race_id_list, '2022/04/17')"
   ]
  },
  {
   "cell_type": "code",
   "execution_count": 23,
   "metadata": {},
   "outputs": [
    {
     "name": "stderr",
     "output_type": "stream",
     "text": [
      "100%|██████████| 180/180 [05:03<00:00,  1.69s/it]\n"
     ]
    }
   ],
   "source": [
    "horse_results_20220417 = HorseResults.scrape(st.data['horse_id'].unique())"
   ]
  },
  {
   "cell_type": "code",
   "execution_count": 24,
   "metadata": {},
   "outputs": [],
   "source": [
    "horse_results_20220417.to_pickle('pickle/horse_results_20220417.pickle')"
   ]
  },
  {
   "cell_type": "code",
   "execution_count": 25,
   "metadata": {},
   "outputs": [],
   "source": [
    "horse_results_list = ['pickle/horse_results_2017.pickle', 'pickle/horse_results_2018.pickle', 'pickle/horse_results_2019.pickle', 'pickle/horse_results_2020.pickle', 'pickle/horse_results_2021.pickle', 'pickle/horse_results_20220417.pickle']"
   ]
  },
  {
   "cell_type": "code",
   "execution_count": 26,
   "metadata": {},
   "outputs": [],
   "source": [
    "hr = HorseResults.read_pickle('horse_results_list')"
   ]
  },
  {
   "cell_type": "code",
   "execution_count": 27,
   "metadata": {},
   "outputs": [
    {
     "name": "stderr",
     "output_type": "stream",
     "text": [
      "100%|██████████| 180/180 [04:56<00:00,  1.65s/it]\n"
     ]
    }
   ],
   "source": [
    "peds_20220417 = Peds.scrape(st.data['horse_id'].unique())"
   ]
  },
  {
   "cell_type": "code",
   "execution_count": 28,
   "metadata": {},
   "outputs": [],
   "source": [
    "peds_20220417.to_pickle('pickle/peds_20220417.pickle')"
   ]
  },
  {
   "cell_type": "code",
   "execution_count": 29,
   "metadata": {},
   "outputs": [],
   "source": [
    "peds_list = ['pickle/peds_2017.pickle', 'pickle/peds_2018.pickle', 'pickle/peds_2019.pickle', 'pickle/peds_2020.pickle', 'pickle/peds_2021.pickle', 'pickle/peds_20220417.pickle']"
   ]
  },
  {
   "cell_type": "code",
   "execution_count": 30,
   "metadata": {},
   "outputs": [],
   "source": [
    "p = Peds.read_pickle(peds_list)"
   ]
  },
  {
   "cell_type": "code",
   "execution_count": 31,
   "metadata": {},
   "outputs": [],
   "source": [
    "p.encode()"
   ]
  },
  {
   "cell_type": "markdown",
   "metadata": {},
   "source": [
    "### 本番の実行コード"
   ]
  },
  {
   "cell_type": "code",
   "execution_count": 32,
   "metadata": {},
   "outputs": [
    {
     "name": "stderr",
     "output_type": "stream",
     "text": [
      "100%|██████████| 1/1 [00:02<00:00,  2.49s/it]\n"
     ]
    }
   ],
   "source": [
    "# 11Rの皐月賞の出馬表をスクレイピング\n",
    "st = ShutubaTable.scrape(['202206030811'], '2022/04/17')"
   ]
  },
  {
   "cell_type": "code",
   "execution_count": 33,
   "metadata": {},
   "outputs": [
    {
     "name": "stderr",
     "output_type": "stream",
     "text": [
      "100%|██████████| 1/1 [00:00<00:00,  5.50it/s]\n",
      "100%|██████████| 1/1 [00:00<00:00,  7.07it/s]\n",
      "100%|██████████| 1/1 [00:00<00:00,  7.25it/s]\n"
     ]
    }
   ],
   "source": [
    "# 前処理\n",
    "st.preprocessing()\n",
    "\n",
    "# 馬の過去成績結合\n",
    "st.merge_horse_results(hr)\n",
    "\n",
    "# 血統データ結合\n",
    "st.merge_peds(p.peds_e)\n",
    "\n",
    "# カテゴリ変数処理\n",
    "st.process_categorical(r.le_horse, r.le_jockey, r.data_h)"
   ]
  },
  {
   "cell_type": "code",
   "execution_count": 34,
   "metadata": {},
   "outputs": [
    {
     "data": {
      "text/html": [
       "<div>\n",
       "<style scoped>\n",
       "    .dataframe tbody tr th:only-of-type {\n",
       "        vertical-align: middle;\n",
       "    }\n",
       "\n",
       "    .dataframe tbody tr th {\n",
       "        vertical-align: top;\n",
       "    }\n",
       "\n",
       "    .dataframe thead th {\n",
       "        text-align: right;\n",
       "    }\n",
       "</style>\n",
       "<table border=\"1\" class=\"dataframe\">\n",
       "  <thead>\n",
       "    <tr style=\"text-align: right;\">\n",
       "      <th></th>\n",
       "      <th>馬番</th>\n",
       "      <th>score</th>\n",
       "    </tr>\n",
       "  </thead>\n",
       "  <tbody>\n",
       "    <tr>\n",
       "      <th>202206030811</th>\n",
       "      <td>12</td>\n",
       "      <td>1.712642</td>\n",
       "    </tr>\n",
       "    <tr>\n",
       "      <th>202206030811</th>\n",
       "      <td>13</td>\n",
       "      <td>1.351326</td>\n",
       "    </tr>\n",
       "    <tr>\n",
       "      <th>202206030811</th>\n",
       "      <td>7</td>\n",
       "      <td>1.292425</td>\n",
       "    </tr>\n",
       "    <tr>\n",
       "      <th>202206030811</th>\n",
       "      <td>6</td>\n",
       "      <td>0.958587</td>\n",
       "    </tr>\n",
       "    <tr>\n",
       "      <th>202206030811</th>\n",
       "      <td>10</td>\n",
       "      <td>0.919724</td>\n",
       "    </tr>\n",
       "    <tr>\n",
       "      <th>202206030811</th>\n",
       "      <td>2</td>\n",
       "      <td>0.696788</td>\n",
       "    </tr>\n",
       "    <tr>\n",
       "      <th>202206030811</th>\n",
       "      <td>4</td>\n",
       "      <td>0.489534</td>\n",
       "    </tr>\n",
       "    <tr>\n",
       "      <th>202206030811</th>\n",
       "      <td>1</td>\n",
       "      <td>0.417896</td>\n",
       "    </tr>\n",
       "    <tr>\n",
       "      <th>202206030811</th>\n",
       "      <td>8</td>\n",
       "      <td>0.212620</td>\n",
       "    </tr>\n",
       "    <tr>\n",
       "      <th>202206030811</th>\n",
       "      <td>16</td>\n",
       "      <td>-0.362626</td>\n",
       "    </tr>\n",
       "    <tr>\n",
       "      <th>202206030811</th>\n",
       "      <td>14</td>\n",
       "      <td>-0.394884</td>\n",
       "    </tr>\n",
       "    <tr>\n",
       "      <th>202206030811</th>\n",
       "      <td>11</td>\n",
       "      <td>-0.694834</td>\n",
       "    </tr>\n",
       "    <tr>\n",
       "      <th>202206030811</th>\n",
       "      <td>9</td>\n",
       "      <td>-0.764775</td>\n",
       "    </tr>\n",
       "    <tr>\n",
       "      <th>202206030811</th>\n",
       "      <td>18</td>\n",
       "      <td>-0.842542</td>\n",
       "    </tr>\n",
       "    <tr>\n",
       "      <th>202206030811</th>\n",
       "      <td>5</td>\n",
       "      <td>-0.868510</td>\n",
       "    </tr>\n",
       "    <tr>\n",
       "      <th>202206030811</th>\n",
       "      <td>17</td>\n",
       "      <td>-0.948929</td>\n",
       "    </tr>\n",
       "    <tr>\n",
       "      <th>202206030811</th>\n",
       "      <td>15</td>\n",
       "      <td>-1.361017</td>\n",
       "    </tr>\n",
       "    <tr>\n",
       "      <th>202206030811</th>\n",
       "      <td>3</td>\n",
       "      <td>-1.813424</td>\n",
       "    </tr>\n",
       "  </tbody>\n",
       "</table>\n",
       "</div>"
      ],
      "text/plain": [
       "              馬番     score\n",
       "202206030811  12  1.712642\n",
       "202206030811  13  1.351326\n",
       "202206030811   7  1.292425\n",
       "202206030811   6  0.958587\n",
       "202206030811  10  0.919724\n",
       "202206030811   2  0.696788\n",
       "202206030811   4  0.489534\n",
       "202206030811   1  0.417896\n",
       "202206030811   8  0.212620\n",
       "202206030811  16 -0.362626\n",
       "202206030811  14 -0.394884\n",
       "202206030811  11 -0.694834\n",
       "202206030811   9 -0.764775\n",
       "202206030811  18 -0.842542\n",
       "202206030811   5 -0.868510\n",
       "202206030811  17 -0.948929\n",
       "202206030811  15 -1.361017\n",
       "202206030811   3 -1.813424"
      ]
     },
     "execution_count": 34,
     "metadata": {},
     "output_type": "execute_result"
    }
   ],
   "source": [
    "# スコア出力\n",
    "scores = me.predict_proba(st.data_c.drop(['date'], axis=1), train=False)\n",
    "pred = st.data_c[['馬番']].copy()\n",
    "pred['score'] = scores\n",
    "pred.loc['202206030811'].sort_values('score', ascending=False)"
   ]
  },
  {
   "cell_type": "code",
   "execution_count": null,
   "metadata": {},
   "outputs": [],
   "source": []
  }
 ],
 "metadata": {
  "kernelspec": {
   "display_name": "Python 3",
   "language": "python",
   "name": "python3"
  },
  "language_info": {
   "codemirror_mode": {
    "name": "ipython",
    "version": 3
   },
   "file_extension": ".py",
   "mimetype": "text/x-python",
   "name": "python",
   "nbconvert_exporter": "python",
   "pygments_lexer": "ipython3",
   "version": "3.7.6"
  }
 },
 "nbformat": 4,
 "nbformat_minor": 4
}
